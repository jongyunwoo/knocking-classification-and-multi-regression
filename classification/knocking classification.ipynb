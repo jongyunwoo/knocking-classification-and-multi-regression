{
 "cells": [
  {
   "cell_type": "code",
   "execution_count": 1,
   "metadata": {},
   "outputs": [
    {
     "name": "stdout",
     "output_type": "stream",
     "text": [
      "2.13.0\n"
     ]
    }
   ],
   "source": [
    "import pandas as pd\n",
    "import numpy as np\n",
    "import matplotlib.pyplot as plt\n",
    "import tensorflow as tf\n",
    "from tensorflow import keras\n",
    "from sklearn.model_selection import train_test_split\n",
    "from sklearn.preprocessing import StandardScaler\n",
    "from keras import optimizers\n",
    "from sklearn.metrics import confusion_matrix, ConfusionMatrixDisplay, f1_score, roc_auc_score, roc_curve, recall_score, precision_score\n",
    "print(tf.__version__)"
   ]
  },
  {
   "attachments": {},
   "cell_type": "markdown",
   "metadata": {},
   "source": [
    "# data preprocessing and split"
   ]
  },
  {
   "cell_type": "code",
   "execution_count": 2,
   "metadata": {},
   "outputs": [
    {
     "data": {
      "text/html": [
       "<div>\n",
       "<style scoped>\n",
       "    .dataframe tbody tr th:only-of-type {\n",
       "        vertical-align: middle;\n",
       "    }\n",
       "\n",
       "    .dataframe tbody tr th {\n",
       "        vertical-align: top;\n",
       "    }\n",
       "\n",
       "    .dataframe thead th {\n",
       "        text-align: right;\n",
       "    }\n",
       "</style>\n",
       "<table border=\"1\" class=\"dataframe\">\n",
       "  <thead>\n",
       "    <tr style=\"text-align: right;\">\n",
       "      <th></th>\n",
       "      <th>Case</th>\n",
       "      <th>Engine Speed</th>\n",
       "      <th>Spark Timing</th>\n",
       "      <th>Throttle Angle</th>\n",
       "      <th>Ambient Temperature</th>\n",
       "      <th>Intake Pressure</th>\n",
       "      <th>Intake Temperature</th>\n",
       "      <th>Exhaust Pressure</th>\n",
       "      <th>Exhaust Temperature</th>\n",
       "      <th>Injected Mass</th>\n",
       "      <th>Maximum Pressure</th>\n",
       "      <th>Crank Angle at Maximum Pressure</th>\n",
       "      <th>Maximum Rate of Pressure Rise</th>\n",
       "      <th>BMEP</th>\n",
       "      <th>IMEP</th>\n",
       "      <th>BSFC</th>\n",
       "      <th>BSNOx</th>\n",
       "      <th>BSCO</th>\n",
       "      <th>Knocking Index</th>\n",
       "      <th>Knocking</th>\n",
       "    </tr>\n",
       "  </thead>\n",
       "  <tbody>\n",
       "    <tr>\n",
       "      <th>1</th>\n",
       "      <td>0.0</td>\n",
       "      <td>1000</td>\n",
       "      <td>-30</td>\n",
       "      <td>30</td>\n",
       "      <td>283</td>\n",
       "      <td>0.988</td>\n",
       "      <td>292.1</td>\n",
       "      <td>1.019</td>\n",
       "      <td>671.9</td>\n",
       "      <td>33.27</td>\n",
       "      <td>67.2</td>\n",
       "      <td>3.69</td>\n",
       "      <td>4.31</td>\n",
       "      <td>6.55</td>\n",
       "      <td>7.48</td>\n",
       "      <td>364</td>\n",
       "      <td>4.06</td>\n",
       "      <td>245.1</td>\n",
       "      <td>469.0</td>\n",
       "      <td>1.0</td>\n",
       "    </tr>\n",
       "    <tr>\n",
       "      <th>2</th>\n",
       "      <td>1.0</td>\n",
       "      <td>1000</td>\n",
       "      <td>-30</td>\n",
       "      <td>30</td>\n",
       "      <td>293</td>\n",
       "      <td>0.988</td>\n",
       "      <td>297.4</td>\n",
       "      <td>1.019</td>\n",
       "      <td>671.1</td>\n",
       "      <td>33.15</td>\n",
       "      <td>66.9</td>\n",
       "      <td>3.73</td>\n",
       "      <td>4.29</td>\n",
       "      <td>6.52</td>\n",
       "      <td>7.42</td>\n",
       "      <td>365.9</td>\n",
       "      <td>3.94</td>\n",
       "      <td>250.8</td>\n",
       "      <td>477.0</td>\n",
       "      <td>1.0</td>\n",
       "    </tr>\n",
       "    <tr>\n",
       "      <th>3</th>\n",
       "      <td>2.0</td>\n",
       "      <td>1000</td>\n",
       "      <td>-30</td>\n",
       "      <td>30</td>\n",
       "      <td>303</td>\n",
       "      <td>0.988</td>\n",
       "      <td>302.6</td>\n",
       "      <td>1.019</td>\n",
       "      <td>670.9</td>\n",
       "      <td>33.03</td>\n",
       "      <td>66.6</td>\n",
       "      <td>3.76</td>\n",
       "      <td>4.26</td>\n",
       "      <td>6.48</td>\n",
       "      <td>7.38</td>\n",
       "      <td>367.1</td>\n",
       "      <td>3.89</td>\n",
       "      <td>253.8</td>\n",
       "      <td>485.0</td>\n",
       "      <td>1.0</td>\n",
       "    </tr>\n",
       "    <tr>\n",
       "      <th>4</th>\n",
       "      <td>3.0</td>\n",
       "      <td>1000</td>\n",
       "      <td>-30</td>\n",
       "      <td>35</td>\n",
       "      <td>283</td>\n",
       "      <td>0.991</td>\n",
       "      <td>292.3</td>\n",
       "      <td>1.02</td>\n",
       "      <td>673.2</td>\n",
       "      <td>33.57</td>\n",
       "      <td>67.8</td>\n",
       "      <td>3.3</td>\n",
       "      <td>4.42</td>\n",
       "      <td>6.59</td>\n",
       "      <td>7.51</td>\n",
       "      <td>365.4</td>\n",
       "      <td>4.2</td>\n",
       "      <td>246.9</td>\n",
       "      <td>454.0</td>\n",
       "      <td>1.0</td>\n",
       "    </tr>\n",
       "    <tr>\n",
       "      <th>5</th>\n",
       "      <td>4.0</td>\n",
       "      <td>1000</td>\n",
       "      <td>-30</td>\n",
       "      <td>35</td>\n",
       "      <td>293</td>\n",
       "      <td>0.991</td>\n",
       "      <td>297.4</td>\n",
       "      <td>1.02</td>\n",
       "      <td>672.2</td>\n",
       "      <td>33.44</td>\n",
       "      <td>67.5</td>\n",
       "      <td>3.34</td>\n",
       "      <td>4.39</td>\n",
       "      <td>6.55</td>\n",
       "      <td>7.46</td>\n",
       "      <td>367.5</td>\n",
       "      <td>4.05</td>\n",
       "      <td>253.2</td>\n",
       "      <td>461.0</td>\n",
       "      <td>1.0</td>\n",
       "    </tr>\n",
       "    <tr>\n",
       "      <th>...</th>\n",
       "      <td>...</td>\n",
       "      <td>...</td>\n",
       "      <td>...</td>\n",
       "      <td>...</td>\n",
       "      <td>...</td>\n",
       "      <td>...</td>\n",
       "      <td>...</td>\n",
       "      <td>...</td>\n",
       "      <td>...</td>\n",
       "      <td>...</td>\n",
       "      <td>...</td>\n",
       "      <td>...</td>\n",
       "      <td>...</td>\n",
       "      <td>...</td>\n",
       "      <td>...</td>\n",
       "      <td>...</td>\n",
       "      <td>...</td>\n",
       "      <td>...</td>\n",
       "      <td>...</td>\n",
       "      <td>...</td>\n",
       "    </tr>\n",
       "    <tr>\n",
       "      <th>2141</th>\n",
       "      <td>2140.0</td>\n",
       "      <td>6000</td>\n",
       "      <td>-10</td>\n",
       "      <td>85</td>\n",
       "      <td>293</td>\n",
       "      <td>0.969</td>\n",
       "      <td>294.1</td>\n",
       "      <td>1.493</td>\n",
       "      <td>1088.4</td>\n",
       "      <td>48.07</td>\n",
       "      <td>33.1</td>\n",
       "      <td>36.97</td>\n",
       "      <td>0.78</td>\n",
       "      <td>8.13</td>\n",
       "      <td>10.29</td>\n",
       "      <td>426</td>\n",
       "      <td>1.73</td>\n",
       "      <td>403</td>\n",
       "      <td>0.0</td>\n",
       "      <td>0.0</td>\n",
       "    </tr>\n",
       "    <tr>\n",
       "      <th>2142</th>\n",
       "      <td>2141.0</td>\n",
       "      <td>6000</td>\n",
       "      <td>-10</td>\n",
       "      <td>85</td>\n",
       "      <td>303</td>\n",
       "      <td>0.969</td>\n",
       "      <td>301.6</td>\n",
       "      <td>1.488</td>\n",
       "      <td>1089.5</td>\n",
       "      <td>47.74</td>\n",
       "      <td>33.3</td>\n",
       "      <td>36.99</td>\n",
       "      <td>0.78</td>\n",
       "      <td>8.08</td>\n",
       "      <td>10.27</td>\n",
       "      <td>425.9</td>\n",
       "      <td>1.81</td>\n",
       "      <td>402.8</td>\n",
       "      <td>0.0</td>\n",
       "      <td>0.0</td>\n",
       "    </tr>\n",
       "    <tr>\n",
       "      <th>2143</th>\n",
       "      <td>2142.0</td>\n",
       "      <td>6000</td>\n",
       "      <td>-10</td>\n",
       "      <td>90</td>\n",
       "      <td>283</td>\n",
       "      <td>0.97</td>\n",
       "      <td>286.6</td>\n",
       "      <td>1.498</td>\n",
       "      <td>1088.9</td>\n",
       "      <td>48.4</td>\n",
       "      <td>32.9</td>\n",
       "      <td>37.96</td>\n",
       "      <td>0.78</td>\n",
       "      <td>8.2</td>\n",
       "      <td>10.31</td>\n",
       "      <td>424.8</td>\n",
       "      <td>1.72</td>\n",
       "      <td>399.2</td>\n",
       "      <td>0.0</td>\n",
       "      <td>0.0</td>\n",
       "    </tr>\n",
       "    <tr>\n",
       "      <th>2144</th>\n",
       "      <td>2143.0</td>\n",
       "      <td>6000</td>\n",
       "      <td>-10</td>\n",
       "      <td>90</td>\n",
       "      <td>293</td>\n",
       "      <td>0.969</td>\n",
       "      <td>294.1</td>\n",
       "      <td>1.493</td>\n",
       "      <td>1088.5</td>\n",
       "      <td>48.08</td>\n",
       "      <td>33.1</td>\n",
       "      <td>36.97</td>\n",
       "      <td>0.78</td>\n",
       "      <td>8.14</td>\n",
       "      <td>10.29</td>\n",
       "      <td>425.9</td>\n",
       "      <td>1.74</td>\n",
       "      <td>402.7</td>\n",
       "      <td>0.0</td>\n",
       "      <td>0.0</td>\n",
       "    </tr>\n",
       "    <tr>\n",
       "      <th>2145</th>\n",
       "      <td>2144.0</td>\n",
       "      <td>6000</td>\n",
       "      <td>-10</td>\n",
       "      <td>90</td>\n",
       "      <td>303</td>\n",
       "      <td>0.969</td>\n",
       "      <td>301.6</td>\n",
       "      <td>1.488</td>\n",
       "      <td>1089.2</td>\n",
       "      <td>47.75</td>\n",
       "      <td>33.3</td>\n",
       "      <td>36.99</td>\n",
       "      <td>0.78</td>\n",
       "      <td>8.08</td>\n",
       "      <td>10.27</td>\n",
       "      <td>426</td>\n",
       "      <td>1.8</td>\n",
       "      <td>403.3</td>\n",
       "      <td>0.0</td>\n",
       "      <td>0.0</td>\n",
       "    </tr>\n",
       "  </tbody>\n",
       "</table>\n",
       "<p>2145 rows × 20 columns</p>\n",
       "</div>"
      ],
      "text/plain": [
       "        Case Engine Speed Spark Timing Throttle Angle Ambient Temperature   \n",
       "1        0.0         1000          -30             30                 283  \\\n",
       "2        1.0         1000          -30             30                 293   \n",
       "3        2.0         1000          -30             30                 303   \n",
       "4        3.0         1000          -30             35                 283   \n",
       "5        4.0         1000          -30             35                 293   \n",
       "...      ...          ...          ...            ...                 ...   \n",
       "2141  2140.0         6000          -10             85                 293   \n",
       "2142  2141.0         6000          -10             85                 303   \n",
       "2143  2142.0         6000          -10             90                 283   \n",
       "2144  2143.0         6000          -10             90                 293   \n",
       "2145  2144.0         6000          -10             90                 303   \n",
       "\n",
       "     Intake Pressure Intake Temperature Exhaust Pressure Exhaust Temperature   \n",
       "1              0.988              292.1            1.019               671.9  \\\n",
       "2              0.988              297.4            1.019               671.1   \n",
       "3              0.988              302.6            1.019               670.9   \n",
       "4              0.991              292.3             1.02               673.2   \n",
       "5              0.991              297.4             1.02               672.2   \n",
       "...              ...                ...              ...                 ...   \n",
       "2141           0.969              294.1            1.493              1088.4   \n",
       "2142           0.969              301.6            1.488              1089.5   \n",
       "2143            0.97              286.6            1.498              1088.9   \n",
       "2144           0.969              294.1            1.493              1088.5   \n",
       "2145           0.969              301.6            1.488              1089.2   \n",
       "\n",
       "     Injected Mass Maximum Pressure Crank Angle at Maximum Pressure   \n",
       "1            33.27             67.2                            3.69  \\\n",
       "2            33.15             66.9                            3.73   \n",
       "3            33.03             66.6                            3.76   \n",
       "4            33.57             67.8                             3.3   \n",
       "5            33.44             67.5                            3.34   \n",
       "...            ...              ...                             ...   \n",
       "2141         48.07             33.1                           36.97   \n",
       "2142         47.74             33.3                           36.99   \n",
       "2143          48.4             32.9                           37.96   \n",
       "2144         48.08             33.1                           36.97   \n",
       "2145         47.75             33.3                           36.99   \n",
       "\n",
       "     Maximum Rate of Pressure Rise  BMEP   IMEP   BSFC BSNOx   BSCO   \n",
       "1                             4.31  6.55   7.48    364  4.06  245.1  \\\n",
       "2                             4.29  6.52   7.42  365.9  3.94  250.8   \n",
       "3                             4.26  6.48   7.38  367.1  3.89  253.8   \n",
       "4                             4.42  6.59   7.51  365.4   4.2  246.9   \n",
       "5                             4.39  6.55   7.46  367.5  4.05  253.2   \n",
       "...                            ...   ...    ...    ...   ...    ...   \n",
       "2141                          0.78  8.13  10.29    426  1.73    403   \n",
       "2142                          0.78  8.08  10.27  425.9  1.81  402.8   \n",
       "2143                          0.78   8.2  10.31  424.8  1.72  399.2   \n",
       "2144                          0.78  8.14  10.29  425.9  1.74  402.7   \n",
       "2145                          0.78  8.08  10.27    426   1.8  403.3   \n",
       "\n",
       "      Knocking Index  Knocking  \n",
       "1              469.0       1.0  \n",
       "2              477.0       1.0  \n",
       "3              485.0       1.0  \n",
       "4              454.0       1.0  \n",
       "5              461.0       1.0  \n",
       "...              ...       ...  \n",
       "2141             0.0       0.0  \n",
       "2142             0.0       0.0  \n",
       "2143             0.0       0.0  \n",
       "2144             0.0       0.0  \n",
       "2145             0.0       0.0  \n",
       "\n",
       "[2145 rows x 20 columns]"
      ]
     },
     "execution_count": 2,
     "metadata": {},
     "output_type": "execute_result"
    }
   ],
   "source": [
    "data = pd.read_csv('/Users/ujong-yun/Documents/학부연구생/학부연구생 - dataset 공유 (csv).csv')\n",
    "data = data.dropna()\n",
    "data"
   ]
  },
  {
   "cell_type": "code",
   "execution_count": 3,
   "metadata": {},
   "outputs": [
    {
     "name": "stdout",
     "output_type": "stream",
     "text": [
      "1064\n",
      "1081\n"
     ]
    }
   ],
   "source": [
    "len_0 = len(data.loc[data['Knocking'] == 0])\n",
    "len_1 = len(data.loc[data['Knocking'] == 1])\n",
    "print(len_0)\n",
    "print(len_1)"
   ]
  },
  {
   "cell_type": "code",
   "execution_count": 4,
   "metadata": {},
   "outputs": [
    {
     "name": "stdout",
     "output_type": "stream",
     "text": [
      "     Engine Speed Spark Timing Throttle Angle Ambient Temperature   \n",
      "1            1000          -30             30                 283  \\\n",
      "2            1000          -30             30                 293   \n",
      "3            1000          -30             30                 303   \n",
      "4            1000          -30             35                 283   \n",
      "5            1000          -30             35                 293   \n",
      "...           ...          ...            ...                 ...   \n",
      "2141         6000          -10             85                 293   \n",
      "2142         6000          -10             85                 303   \n",
      "2143         6000          -10             90                 283   \n",
      "2144         6000          -10             90                 293   \n",
      "2145         6000          -10             90                 303   \n",
      "\n",
      "     Intake Pressure Intake Temperature Exhaust Pressure Exhaust Temperature   \n",
      "1              0.988              292.1            1.019               671.9  \\\n",
      "2              0.988              297.4            1.019               671.1   \n",
      "3              0.988              302.6            1.019               670.9   \n",
      "4              0.991              292.3             1.02               673.2   \n",
      "5              0.991              297.4             1.02               672.2   \n",
      "...              ...                ...              ...                 ...   \n",
      "2141           0.969              294.1            1.493              1088.4   \n",
      "2142           0.969              301.6            1.488              1089.5   \n",
      "2143            0.97              286.6            1.498              1088.9   \n",
      "2144           0.969              294.1            1.493              1088.5   \n",
      "2145           0.969              301.6            1.488              1089.2   \n",
      "\n",
      "     Injected Mass  \n",
      "1            33.27  \n",
      "2            33.15  \n",
      "3            33.03  \n",
      "4            33.57  \n",
      "5            33.44  \n",
      "...            ...  \n",
      "2141         48.07  \n",
      "2142         47.74  \n",
      "2143          48.4  \n",
      "2144         48.08  \n",
      "2145         47.75  \n",
      "\n",
      "[2145 rows x 9 columns]\n",
      "1       1.0\n",
      "2       1.0\n",
      "3       1.0\n",
      "4       1.0\n",
      "5       1.0\n",
      "       ... \n",
      "2141    0.0\n",
      "2142    0.0\n",
      "2143    0.0\n",
      "2144    0.0\n",
      "2145    0.0\n",
      "Name: Knocking, Length: 2145, dtype: float64\n"
     ]
    }
   ],
   "source": [
    "X_data = data.loc[:, ['Engine Speed', 'Spark Timing', 'Throttle Angle', 'Ambient Temperature', \n",
    "                                   'Intake Pressure', 'Intake Temperature','Exhaust Pressure', 'Exhaust Temperature', 'Injected Mass']]\n",
    "y_data = data['Knocking']\n",
    "print(X_data)\n",
    "print(y_data)"
   ]
  },
  {
   "cell_type": "code",
   "execution_count": 5,
   "metadata": {},
   "outputs": [
    {
     "name": "stdout",
     "output_type": "stream",
     "text": [
      "(1287, 9)\n",
      "(1287,)\n",
      "(429, 9)\n",
      "(429,)\n",
      "(429, 9)\n",
      "(429,)\n"
     ]
    }
   ],
   "source": [
    "train_input, test_input, train_output, test_output = train_test_split(X_data, y_data,test_size=0.2, shuffle=True, random_state=42)\n",
    "train_input, val_input, train_output, val_output = train_test_split(train_input, train_output, test_size = 0.25, shuffle=True, random_state=42) # train, validation, test 비율 조정, 함수 만들어 보기\n",
    "print(train_input.shape)\n",
    "print(train_output.shape)\n",
    "print(val_input.shape)\n",
    "print(val_output.shape)\n",
    "print(test_input.shape)\n",
    "print(test_output.shape)\n"
   ]
  },
  {
   "cell_type": "code",
   "execution_count": 6,
   "metadata": {},
   "outputs": [
    {
     "name": "stdout",
     "output_type": "stream",
     "text": [
      "[[ 0.94116682 -1.42752381 -0.27742293 ...  0.8590414   0.36974684\n",
      "   0.96453667]\n",
      " [ 1.57418573 -1.42752381 -0.80834236 ...  1.1903374   0.59817701\n",
      "   0.32597037]\n",
      " [ 0.3081479  -0.01318729  0.78441592 ...  0.3068814   0.39817806\n",
      "   0.87128571]\n",
      " ...\n",
      " [ 1.57418573  1.40114924 -1.07380208 ...  1.58053047  2.0579733\n",
      "   0.10500616]\n",
      " [-1.27439938 -0.72035555  0.78441592 ... -1.15082099 -1.44789072\n",
      "  -1.15185449]\n",
      " [-0.95788993 -0.72035555  0.78441592 ... -1.01094046 -0.7988745\n",
      "  -0.74438837]]\n",
      "[[-1.27439938  1.40114924 -1.33926179 ... -1.12873459 -0.8371096\n",
      "  -1.51269512]\n",
      " [-1.59090884  1.40114924  0.51895621 ... -1.32015006 -1.63710542\n",
      "  -1.84515504]\n",
      " [-0.95788993 -1.42752381 -1.33926179 ... -1.03302686 -0.93024637\n",
      "  -0.91264552]\n",
      " ...\n",
      " [-0.95788993 -1.42752381 -0.27742293 ... -1.02566473 -0.88122701\n",
      "  -0.80520421]\n",
      " [ 1.57418573 -0.72035555 -1.33926179 ...  0.94002487  0.77562707\n",
      "  -0.35719421]\n",
      " [-0.32487101 -0.72035555 -0.27742293 ... -0.488229   -0.31848486\n",
      "   0.2408282 ]]\n",
      "[[ 0.3081479   1.40114924 -0.01196322 ...  0.49829687  1.06190008\n",
      "   0.95845508]\n",
      " [ 1.25767627  1.40114924  0.25349649 ...  1.72777313  1.70405359\n",
      "   1.23415355]\n",
      " [-1.59090884  0.69398098 -0.80834236 ... -1.32751219 -1.84592785\n",
      "  -1.77420323]\n",
      " ...\n",
      " [-0.95788993  0.69398098 -1.6047215  ... -1.00357833 -0.57338549\n",
      "  -1.04644037]\n",
      " [ 0.3081479   1.40114924 -1.07380208 ...  0.3731406   1.05797853\n",
      "   0.50639069]\n",
      " [ 1.57418573 -0.01318729 -0.27742293 ...  1.5878926   1.01190034\n",
      "   0.83682341]]\n"
     ]
    }
   ],
   "source": [
    "\n",
    "ss = StandardScaler()\n",
    "ss.fit(train_input)\n",
    "train_scale = ss.transform(train_input)\n",
    "val_scale = ss.transform(val_input)\n",
    "test_scale = ss.transform(test_input)\n",
    "print(train_scale)\n",
    "print(val_scale)\n",
    "print(test_scale)"
   ]
  },
  {
   "attachments": {},
   "cell_type": "markdown",
   "metadata": {},
   "source": [
    "# DNN Model "
   ]
  },
  {
   "cell_type": "code",
   "execution_count": 7,
   "metadata": {},
   "outputs": [
    {
     "name": "stdout",
     "output_type": "stream",
     "text": [
      "Model: \"sequential\"\n",
      "_________________________________________________________________\n",
      " Layer (type)                Output Shape              Param #   \n",
      "=================================================================\n",
      " dense (Dense)               (None, 100)               1000      \n",
      "                                                                 \n",
      " dropout (Dropout)           (None, 100)               0         \n",
      "                                                                 \n",
      " dense_1 (Dense)             (None, 10)                1010      \n",
      "                                                                 \n",
      " dropout_1 (Dropout)         (None, 10)                0         \n",
      "                                                                 \n",
      " dense_2 (Dense)             (None, 1)                 11        \n",
      "                                                                 \n",
      "=================================================================\n",
      "Total params: 2021 (7.89 KB)\n",
      "Trainable params: 2021 (7.89 KB)\n",
      "Non-trainable params: 0 (0.00 Byte)\n",
      "_________________________________________________________________\n"
     ]
    },
    {
     "name": "stderr",
     "output_type": "stream",
     "text": [
      "2024-03-14 11:09:58.161846: I metal_plugin/src/device/metal_device.cc:1154] Metal device set to: Apple M1\n",
      "2024-03-14 11:09:58.161874: I metal_plugin/src/device/metal_device.cc:296] systemMemory: 16.00 GB\n",
      "2024-03-14 11:09:58.161882: I metal_plugin/src/device/metal_device.cc:313] maxCacheSize: 5.33 GB\n",
      "2024-03-14 11:09:58.162119: I tensorflow/core/common_runtime/pluggable_device/pluggable_device_factory.cc:303] Could not identify NUMA node of platform GPU ID 0, defaulting to 0. Your kernel may not have been built with NUMA support.\n",
      "2024-03-14 11:09:58.162142: I tensorflow/core/common_runtime/pluggable_device/pluggable_device_factory.cc:269] Created TensorFlow device (/job:localhost/replica:0/task:0/device:GPU:0 with 0 MB memory) -> physical PluggableDevice (device: 0, name: METAL, pci bus id: <undefined>)\n"
     ]
    }
   ],
   "source": [
    "model = keras.Sequential()\n",
    "model.add(keras.layers.Dense(100, activation='relu', input_shape = (9,)))\n",
    "model.add(keras.layers.Dropout(0.2))\n",
    "model.add(keras.layers.Dense(10, activation='relu'))\n",
    "model.add(keras.layers.Dropout(0.2))\n",
    "model.add(keras.layers.Dense(1, activation='sigmoid'))\n",
    "model.summary()"
   ]
  },
  {
   "cell_type": "code",
   "execution_count": 8,
   "metadata": {},
   "outputs": [],
   "source": [
    "initial_learning_rate = 0.01\n",
    "lr_schedule = tf.keras.optimizers.schedules.ExponentialDecay(\n",
    "    initial_learning_rate,\n",
    "    decay_steps=100000,\n",
    "    decay_rate=0.96,\n",
    "    staircase=True)"
   ]
  },
  {
   "cell_type": "code",
   "execution_count": 9,
   "metadata": {},
   "outputs": [
    {
     "name": "stdout",
     "output_type": "stream",
     "text": [
      "Epoch 1/1000\n"
     ]
    },
    {
     "name": "stderr",
     "output_type": "stream",
     "text": [
      "2024-03-14 11:09:58.728844: I tensorflow/core/grappler/optimizers/custom_graph_optimizer_registry.cc:114] Plugin optimizer for device_type GPU is enabled.\n"
     ]
    },
    {
     "name": "stdout",
     "output_type": "stream",
     "text": [
      "21/21 [==============================] - ETA: 0s - loss: 0.7031 - accuracy: 0.5897"
     ]
    },
    {
     "name": "stderr",
     "output_type": "stream",
     "text": [
      "2024-03-14 11:09:59.667080: I tensorflow/core/grappler/optimizers/custom_graph_optimizer_registry.cc:114] Plugin optimizer for device_type GPU is enabled.\n"
     ]
    },
    {
     "name": "stdout",
     "output_type": "stream",
     "text": [
      "21/21 [==============================] - 1s 37ms/step - loss: 0.7031 - accuracy: 0.5897 - val_loss: 0.4307 - val_accuracy: 0.8648\n",
      "Epoch 2/1000\n",
      "10/21 [=============>................] - ETA: 0s - loss: 0.4122 - accuracy: 0.8406"
     ]
    },
    {
     "name": "stderr",
     "output_type": "stream",
     "text": [
      "/Library/Frameworks/Python.framework/Versions/3.11/lib/python3.11/site-packages/keras/src/engine/training.py:3000: UserWarning: You are saving your model as an HDF5 file via `model.save()`. This file format is considered legacy. We recommend using instead the native Keras format, e.g. `model.save('my_model.keras')`.\n",
      "  saving_api.save_model(\n"
     ]
    },
    {
     "name": "stdout",
     "output_type": "stream",
     "text": [
      "21/21 [==============================] - 0s 16ms/step - loss: 0.3801 - accuracy: 0.8547 - val_loss: 0.3132 - val_accuracy: 0.9138\n",
      "Epoch 3/1000\n",
      "21/21 [==============================] - 0s 16ms/step - loss: 0.3003 - accuracy: 0.8889 - val_loss: 0.2681 - val_accuracy: 0.9138\n",
      "Epoch 4/1000\n",
      "21/21 [==============================] - 0s 15ms/step - loss: 0.2666 - accuracy: 0.8943 - val_loss: 0.2461 - val_accuracy: 0.9068\n",
      "Epoch 5/1000\n",
      "21/21 [==============================] - 0s 15ms/step - loss: 0.2492 - accuracy: 0.8959 - val_loss: 0.2320 - val_accuracy: 0.9021\n",
      "Epoch 6/1000\n",
      "21/21 [==============================] - 0s 15ms/step - loss: 0.2355 - accuracy: 0.8990 - val_loss: 0.2208 - val_accuracy: 0.9044\n",
      "Epoch 7/1000\n",
      "21/21 [==============================] - 0s 15ms/step - loss: 0.2257 - accuracy: 0.8920 - val_loss: 0.2246 - val_accuracy: 0.9021\n",
      "Epoch 8/1000\n",
      "21/21 [==============================] - 0s 15ms/step - loss: 0.2256 - accuracy: 0.9005 - val_loss: 0.2097 - val_accuracy: 0.9091\n",
      "Epoch 9/1000\n",
      "21/21 [==============================] - 0s 15ms/step - loss: 0.2260 - accuracy: 0.8943 - val_loss: 0.2047 - val_accuracy: 0.9138\n",
      "Epoch 10/1000\n",
      "21/21 [==============================] - 0s 15ms/step - loss: 0.2142 - accuracy: 0.8990 - val_loss: 0.1981 - val_accuracy: 0.9161\n",
      "Epoch 11/1000\n",
      "21/21 [==============================] - 0s 15ms/step - loss: 0.2379 - accuracy: 0.8943 - val_loss: 0.1859 - val_accuracy: 0.9184\n",
      "Epoch 12/1000\n",
      "21/21 [==============================] - 0s 15ms/step - loss: 0.2126 - accuracy: 0.8998 - val_loss: 0.1925 - val_accuracy: 0.9184\n",
      "Epoch 13/1000\n",
      "21/21 [==============================] - 0s 15ms/step - loss: 0.2555 - accuracy: 0.8897 - val_loss: 0.1782 - val_accuracy: 0.9138\n",
      "Epoch 14/1000\n",
      "21/21 [==============================] - 0s 15ms/step - loss: 0.2540 - accuracy: 0.8967 - val_loss: 0.1842 - val_accuracy: 0.9138\n",
      "Epoch 15/1000\n",
      "21/21 [==============================] - 0s 18ms/step - loss: 0.2936 - accuracy: 0.8827 - val_loss: 0.1807 - val_accuracy: 0.9207\n",
      "Epoch 16/1000\n",
      "21/21 [==============================] - 0s 15ms/step - loss: 0.3128 - accuracy: 0.8850 - val_loss: 0.1848 - val_accuracy: 0.9207\n",
      "Epoch 17/1000\n",
      "21/21 [==============================] - 0s 16ms/step - loss: 0.3470 - accuracy: 0.8687 - val_loss: 0.1892 - val_accuracy: 0.9231\n",
      "Epoch 18/1000\n",
      "21/21 [==============================] - 0s 16ms/step - loss: 0.3730 - accuracy: 0.8726 - val_loss: 0.1720 - val_accuracy: 0.9114\n",
      "Epoch 19/1000\n",
      "21/21 [==============================] - 0s 15ms/step - loss: 0.3641 - accuracy: 0.8866 - val_loss: 0.1878 - val_accuracy: 0.9207\n",
      "Epoch 20/1000\n",
      "21/21 [==============================] - 0s 17ms/step - loss: 0.3814 - accuracy: 0.8889 - val_loss: 0.1734 - val_accuracy: 0.9114\n",
      "Epoch 21/1000\n",
      "21/21 [==============================] - 0s 19ms/step - loss: 0.3994 - accuracy: 0.8920 - val_loss: 0.1853 - val_accuracy: 0.9231\n",
      "Epoch 22/1000\n",
      "21/21 [==============================] - 0s 17ms/step - loss: 0.3505 - accuracy: 0.8827 - val_loss: 0.1953 - val_accuracy: 0.9231\n",
      "Epoch 23/1000\n",
      "21/21 [==============================] - 0s 18ms/step - loss: 0.4274 - accuracy: 0.8850 - val_loss: 0.1801 - val_accuracy: 0.9068\n",
      "Epoch 24/1000\n",
      "21/21 [==============================] - 0s 16ms/step - loss: 0.4663 - accuracy: 0.8819 - val_loss: 0.1995 - val_accuracy: 0.9207\n",
      "Epoch 25/1000\n",
      "21/21 [==============================] - 0s 17ms/step - loss: 0.5068 - accuracy: 0.8780 - val_loss: 0.2260 - val_accuracy: 0.9138\n",
      "Epoch 26/1000\n",
      "21/21 [==============================] - 0s 16ms/step - loss: 0.5223 - accuracy: 0.8788 - val_loss: 0.2032 - val_accuracy: 0.9138\n",
      "Epoch 27/1000\n",
      "21/21 [==============================] - 0s 18ms/step - loss: 0.4877 - accuracy: 0.8796 - val_loss: 0.2427 - val_accuracy: 0.9184\n",
      "Epoch 28/1000\n",
      "21/21 [==============================] - 0s 19ms/step - loss: 0.5969 - accuracy: 0.8827 - val_loss: 0.2136 - val_accuracy: 0.9184\n",
      "Epoch 29/1000\n",
      "21/21 [==============================] - 0s 17ms/step - loss: 0.5113 - accuracy: 0.8850 - val_loss: 0.2104 - val_accuracy: 0.9184\n",
      "Epoch 30/1000\n",
      "21/21 [==============================] - 0s 18ms/step - loss: 0.5398 - accuracy: 0.8819 - val_loss: 0.2212 - val_accuracy: 0.9231\n",
      "Epoch 31/1000\n",
      "21/21 [==============================] - 0s 17ms/step - loss: 0.5955 - accuracy: 0.8803 - val_loss: 0.2007 - val_accuracy: 0.9091\n",
      "Epoch 32/1000\n",
      "21/21 [==============================] - 0s 17ms/step - loss: 0.5188 - accuracy: 0.8842 - val_loss: 0.2812 - val_accuracy: 0.9161\n"
     ]
    }
   ],
   "source": [
    "checkpoint_cb = tf.keras.callbacks.ModelCheckpoint('best-classification-model.h5')\n",
    "callback = tf.keras.callbacks.EarlyStopping(monitor='loss', patience=20, restore_best_weights=True)\n",
    "optimizer = tf.keras.optimizers.legacy.Adam(learning_rate=0.001)\n",
    "model.compile(optimizer=optimizer, loss = 'binary_crossentropy', metrics=['accuracy'])\n",
    "history = model.fit(train_scale, train_output, epochs=1000, batch_size = 64, validation_data=(val_scale, val_output), callbacks=[callback, checkpoint_cb])\n"
   ]
  },
  {
   "cell_type": "code",
   "execution_count": 10,
   "metadata": {},
   "outputs": [],
   "source": [
    "model.save('best-classification-model.h5')\n",
    "model = keras.models.load_model('best-classification-model.h5')"
   ]
  },
  {
   "cell_type": "code",
   "execution_count": 11,
   "metadata": {},
   "outputs": [
    {
     "data": {
      "image/png": "[encoded data removed]",
      "text/plain": [
       "<Figure size 640x480 with 2 Axes>"
      ]
     },
     "metadata": {},
     "output_type": "display_data"
    }
   ],
   "source": [
    "history_dic = history.history\n",
    "loss = history_dic['loss']\n",
    "val_loss = history_dic['val_loss']\n",
    "accuracy = history_dic['accuracy']\n",
    "val_accuracy = history_dic['val_accuracy']\n",
    "fig, axs= plt.subplots(1, 2, constrained_layout = True)\n",
    "axs[0].plot(loss, label = 'Training loss')\n",
    "axs[0].plot(val_loss, label = 'validation loss')\n",
    "axs[1].plot(accuracy, label = 'Trainig accuracy')\n",
    "axs[1].plot(val_accuracy, label = 'Val_accuracy')\n",
    "axs[0].set_title('Training and validation loss')\n",
    "axs[0].set_xlabel('Epochs')\n",
    "axs[0].set_ylabel('Loss')\n",
    "axs[1].set_title('Training and validation accuracy')\n",
    "axs[1].set_xlabel('Epochs')\n",
    "axs[1].set_ylabel('Accuracy')\n",
    "axs[0].legend()\n",
    "axs[1].legend()\n",
    "plt.show()\n",
    "# loss값 파일 저장 및 출력 필요\n"
   ]
  },
  {
   "cell_type": "code",
   "execution_count": 12,
   "metadata": {},
   "outputs": [
    {
     "data": {
      "text/html": [
       "<div>\n",
       "<style scoped>\n",
       "    .dataframe tbody tr th:only-of-type {\n",
       "        vertical-align: middle;\n",
       "    }\n",
       "\n",
       "    .dataframe tbody tr th {\n",
       "        vertical-align: top;\n",
       "    }\n",
       "\n",
       "    .dataframe thead th {\n",
       "        text-align: right;\n",
       "    }\n",
       "</style>\n",
       "<table border=\"1\" class=\"dataframe\">\n",
       "  <thead>\n",
       "    <tr style=\"text-align: right;\">\n",
       "      <th></th>\n",
       "      <th>Loss</th>\n",
       "      <th>Val_Loss</th>\n",
       "      <th>Accuracy</th>\n",
       "      <th>Val_Accuracy</th>\n",
       "    </tr>\n",
       "  </thead>\n",
       "  <tbody>\n",
       "    <tr>\n",
       "      <th>0</th>\n",
       "      <td>0.703115</td>\n",
       "      <td>0.430682</td>\n",
       "      <td>0.589744</td>\n",
       "      <td>0.864802</td>\n",
       "    </tr>\n",
       "    <tr>\n",
       "      <th>1</th>\n",
       "      <td>0.380084</td>\n",
       "      <td>0.313220</td>\n",
       "      <td>0.854701</td>\n",
       "      <td>0.913753</td>\n",
       "    </tr>\n",
       "    <tr>\n",
       "      <th>2</th>\n",
       "      <td>0.300349</td>\n",
       "      <td>0.268076</td>\n",
       "      <td>0.888889</td>\n",
       "      <td>0.913753</td>\n",
       "    </tr>\n",
       "    <tr>\n",
       "      <th>3</th>\n",
       "      <td>0.266650</td>\n",
       "      <td>0.246097</td>\n",
       "      <td>0.894328</td>\n",
       "      <td>0.906760</td>\n",
       "    </tr>\n",
       "    <tr>\n",
       "      <th>4</th>\n",
       "      <td>0.249170</td>\n",
       "      <td>0.232019</td>\n",
       "      <td>0.895882</td>\n",
       "      <td>0.902098</td>\n",
       "    </tr>\n",
       "    <tr>\n",
       "      <th>5</th>\n",
       "      <td>0.235522</td>\n",
       "      <td>0.220817</td>\n",
       "      <td>0.898990</td>\n",
       "      <td>0.904429</td>\n",
       "    </tr>\n",
       "    <tr>\n",
       "      <th>6</th>\n",
       "      <td>0.225673</td>\n",
       "      <td>0.224579</td>\n",
       "      <td>0.891997</td>\n",
       "      <td>0.902098</td>\n",
       "    </tr>\n",
       "    <tr>\n",
       "      <th>7</th>\n",
       "      <td>0.225555</td>\n",
       "      <td>0.209708</td>\n",
       "      <td>0.900544</td>\n",
       "      <td>0.909091</td>\n",
       "    </tr>\n",
       "    <tr>\n",
       "      <th>8</th>\n",
       "      <td>0.226047</td>\n",
       "      <td>0.204673</td>\n",
       "      <td>0.894328</td>\n",
       "      <td>0.913753</td>\n",
       "    </tr>\n",
       "    <tr>\n",
       "      <th>9</th>\n",
       "      <td>0.214213</td>\n",
       "      <td>0.198117</td>\n",
       "      <td>0.898990</td>\n",
       "      <td>0.916084</td>\n",
       "    </tr>\n",
       "    <tr>\n",
       "      <th>10</th>\n",
       "      <td>0.237926</td>\n",
       "      <td>0.185883</td>\n",
       "      <td>0.894328</td>\n",
       "      <td>0.918415</td>\n",
       "    </tr>\n",
       "    <tr>\n",
       "      <th>11</th>\n",
       "      <td>0.212627</td>\n",
       "      <td>0.192469</td>\n",
       "      <td>0.899767</td>\n",
       "      <td>0.918415</td>\n",
       "    </tr>\n",
       "    <tr>\n",
       "      <th>12</th>\n",
       "      <td>0.255453</td>\n",
       "      <td>0.178217</td>\n",
       "      <td>0.889666</td>\n",
       "      <td>0.913753</td>\n",
       "    </tr>\n",
       "    <tr>\n",
       "      <th>13</th>\n",
       "      <td>0.254006</td>\n",
       "      <td>0.184241</td>\n",
       "      <td>0.896659</td>\n",
       "      <td>0.913753</td>\n",
       "    </tr>\n",
       "    <tr>\n",
       "      <th>14</th>\n",
       "      <td>0.293636</td>\n",
       "      <td>0.180650</td>\n",
       "      <td>0.882673</td>\n",
       "      <td>0.920746</td>\n",
       "    </tr>\n",
       "    <tr>\n",
       "      <th>15</th>\n",
       "      <td>0.312824</td>\n",
       "      <td>0.184795</td>\n",
       "      <td>0.885004</td>\n",
       "      <td>0.920746</td>\n",
       "    </tr>\n",
       "    <tr>\n",
       "      <th>16</th>\n",
       "      <td>0.346951</td>\n",
       "      <td>0.189163</td>\n",
       "      <td>0.868687</td>\n",
       "      <td>0.923077</td>\n",
       "    </tr>\n",
       "    <tr>\n",
       "      <th>17</th>\n",
       "      <td>0.373017</td>\n",
       "      <td>0.172028</td>\n",
       "      <td>0.872572</td>\n",
       "      <td>0.911422</td>\n",
       "    </tr>\n",
       "    <tr>\n",
       "      <th>18</th>\n",
       "      <td>0.364116</td>\n",
       "      <td>0.187834</td>\n",
       "      <td>0.886558</td>\n",
       "      <td>0.920746</td>\n",
       "    </tr>\n",
       "    <tr>\n",
       "      <th>19</th>\n",
       "      <td>0.381356</td>\n",
       "      <td>0.173373</td>\n",
       "      <td>0.888889</td>\n",
       "      <td>0.911422</td>\n",
       "    </tr>\n",
       "    <tr>\n",
       "      <th>20</th>\n",
       "      <td>0.399394</td>\n",
       "      <td>0.185265</td>\n",
       "      <td>0.891997</td>\n",
       "      <td>0.923077</td>\n",
       "    </tr>\n",
       "    <tr>\n",
       "      <th>21</th>\n",
       "      <td>0.350526</td>\n",
       "      <td>0.195349</td>\n",
       "      <td>0.882673</td>\n",
       "      <td>0.923077</td>\n",
       "    </tr>\n",
       "    <tr>\n",
       "      <th>22</th>\n",
       "      <td>0.427441</td>\n",
       "      <td>0.180149</td>\n",
       "      <td>0.885004</td>\n",
       "      <td>0.906760</td>\n",
       "    </tr>\n",
       "    <tr>\n",
       "      <th>23</th>\n",
       "      <td>0.466321</td>\n",
       "      <td>0.199499</td>\n",
       "      <td>0.881896</td>\n",
       "      <td>0.920746</td>\n",
       "    </tr>\n",
       "    <tr>\n",
       "      <th>24</th>\n",
       "      <td>0.506804</td>\n",
       "      <td>0.226037</td>\n",
       "      <td>0.878011</td>\n",
       "      <td>0.913753</td>\n",
       "    </tr>\n",
       "    <tr>\n",
       "      <th>25</th>\n",
       "      <td>0.522335</td>\n",
       "      <td>0.203203</td>\n",
       "      <td>0.878788</td>\n",
       "      <td>0.913753</td>\n",
       "    </tr>\n",
       "    <tr>\n",
       "      <th>26</th>\n",
       "      <td>0.487654</td>\n",
       "      <td>0.242696</td>\n",
       "      <td>0.879565</td>\n",
       "      <td>0.918415</td>\n",
       "    </tr>\n",
       "    <tr>\n",
       "      <th>27</th>\n",
       "      <td>0.596912</td>\n",
       "      <td>0.213588</td>\n",
       "      <td>0.882673</td>\n",
       "      <td>0.918415</td>\n",
       "    </tr>\n",
       "    <tr>\n",
       "      <th>28</th>\n",
       "      <td>0.511299</td>\n",
       "      <td>0.210406</td>\n",
       "      <td>0.885004</td>\n",
       "      <td>0.918415</td>\n",
       "    </tr>\n",
       "    <tr>\n",
       "      <th>29</th>\n",
       "      <td>0.539774</td>\n",
       "      <td>0.221236</td>\n",
       "      <td>0.881896</td>\n",
       "      <td>0.923077</td>\n",
       "    </tr>\n",
       "    <tr>\n",
       "      <th>30</th>\n",
       "      <td>0.595478</td>\n",
       "      <td>0.200688</td>\n",
       "      <td>0.880342</td>\n",
       "      <td>0.909091</td>\n",
       "    </tr>\n",
       "    <tr>\n",
       "      <th>31</th>\n",
       "      <td>0.518798</td>\n",
       "      <td>0.281207</td>\n",
       "      <td>0.884227</td>\n",
       "      <td>0.916084</td>\n",
       "    </tr>\n",
       "  </tbody>\n",
       "</table>\n",
       "</div>"
      ],
      "text/plain": [
       "        Loss  Val_Loss  Accuracy  Val_Accuracy\n",
       "0   0.703115  0.430682  0.589744      0.864802\n",
       "1   0.380084  0.313220  0.854701      0.913753\n",
       "2   0.300349  0.268076  0.888889      0.913753\n",
       "3   0.266650  0.246097  0.894328      0.906760\n",
       "4   0.249170  0.232019  0.895882      0.902098\n",
       "5   0.235522  0.220817  0.898990      0.904429\n",
       "6   0.225673  0.224579  0.891997      0.902098\n",
       "7   0.225555  0.209708  0.900544      0.909091\n",
       "8   0.226047  0.204673  0.894328      0.913753\n",
       "9   0.214213  0.198117  0.898990      0.916084\n",
       "10  0.237926  0.185883  0.894328      0.918415\n",
       "11  0.212627  0.192469  0.899767      0.918415\n",
       "12  0.255453  0.178217  0.889666      0.913753\n",
       "13  0.254006  0.184241  0.896659      0.913753\n",
       "14  0.293636  0.180650  0.882673      0.920746\n",
       "15  0.312824  0.184795  0.885004      0.920746\n",
       "16  0.346951  0.189163  0.868687      0.923077\n",
       "17  0.373017  0.172028  0.872572      0.911422\n",
       "18  0.364116  0.187834  0.886558      0.920746\n",
       "19  0.381356  0.173373  0.888889      0.911422\n",
       "20  0.399394  0.185265  0.891997      0.923077\n",
       "21  0.350526  0.195349  0.882673      0.923077\n",
       "22  0.427441  0.180149  0.885004      0.906760\n",
       "23  0.466321  0.199499  0.881896      0.920746\n",
       "24  0.506804  0.226037  0.878011      0.913753\n",
       "25  0.522335  0.203203  0.878788      0.913753\n",
       "26  0.487654  0.242696  0.879565      0.918415\n",
       "27  0.596912  0.213588  0.882673      0.918415\n",
       "28  0.511299  0.210406  0.885004      0.918415\n",
       "29  0.539774  0.221236  0.881896      0.923077\n",
       "30  0.595478  0.200688  0.880342      0.909091\n",
       "31  0.518798  0.281207  0.884227      0.916084"
      ]
     },
     "execution_count": 12,
     "metadata": {},
     "output_type": "execute_result"
    }
   ],
   "source": [
    "loss_accuracy_df = pd.DataFrame(((loss[i], val_loss[i], accuracy[i], val_accuracy[i]) for i in range(len(history.epoch))), columns=['Loss', 'Val_Loss', 'Accuracy', 'Val_Accuracy'])\n",
    "loss_accuracy_df"
   ]
  },
  {
   "cell_type": "code",
   "execution_count": 13,
   "metadata": {},
   "outputs": [],
   "source": [
    "loss_accuracy_df.to_csv('loss_and_accuracy.csv', index=True)"
   ]
  },
  {
   "cell_type": "code",
   "execution_count": 14,
   "metadata": {},
   "outputs": [
    {
     "name": "stdout",
     "output_type": "stream",
     "text": [
      "10/14 [====================>.........] - ETA: 0s - loss: 0.1592 - accuracy: 0.9312"
     ]
    },
    {
     "name": "stderr",
     "output_type": "stream",
     "text": [
      "2024-03-14 11:10:11.117911: I tensorflow/core/grappler/optimizers/custom_graph_optimizer_registry.cc:114] Plugin optimizer for device_type GPU is enabled.\n"
     ]
    },
    {
     "name": "stdout",
     "output_type": "stream",
     "text": [
      "14/14 [==============================] - 0s 12ms/step - loss: 0.1830 - accuracy: 0.9161\n",
      "41/41 [==============================] - 0s 9ms/step - loss: 0.1605 - accuracy: 0.9223\n",
      "14/14 [==============================] - 0s 9ms/step - loss: 0.1925 - accuracy: 0.9184\n",
      "[0.1830066293478012, 0.9160839319229126]\n",
      "[0.16053076088428497, 0.9222999215126038]\n",
      "[0.1924685388803482, 0.9184148907661438]\n",
      "loss =  0.1830066293478012\n",
      "loss =  0.16053076088428497\n",
      "loss =  0.1924685388803482\n",
      "accuracy =  0.9222999215126038\n",
      "accuracy =  0.9184148907661438\n",
      "accuracy =  0.9160839319229126\n"
     ]
    }
   ],
   "source": [
    "loss_and_accuracy_test = model.evaluate(test_scale, test_output)\n",
    "loss_and_accuracy_train = model.evaluate(train_scale, train_output)\n",
    "loss_and_accuracy_val = model.evaluate(val_scale, val_output)\n",
    "print(loss_and_accuracy_test)\n",
    "print(loss_and_accuracy_train)\n",
    "print(loss_and_accuracy_val)\n",
    "print('loss = ', loss_and_accuracy_test[0])\n",
    "print('loss = ', loss_and_accuracy_train[0])\n",
    "print('loss = ', loss_and_accuracy_val[0])\n",
    "print('accuracy = ', loss_and_accuracy_train[1])\n",
    "print('accuracy = ', loss_and_accuracy_val[1])\n",
    "print('accuracy = ', loss_and_accuracy_test[1])"
   ]
  },
  {
   "cell_type": "code",
   "execution_count": 15,
   "metadata": {},
   "outputs": [
    {
     "name": "stdout",
     "output_type": "stream",
     "text": [
      "14/14 [==============================] - 0s 3ms/step\n",
      "28/41 [===================>..........] - ETA: 0s"
     ]
    },
    {
     "name": "stderr",
     "output_type": "stream",
     "text": [
      "2024-03-14 11:10:12.090511: I tensorflow/core/grappler/optimizers/custom_graph_optimizer_registry.cc:114] Plugin optimizer for device_type GPU is enabled.\n"
     ]
    },
    {
     "name": "stdout",
     "output_type": "stream",
     "text": [
      "41/41 [==============================] - 0s 2ms/step\n",
      "14/14 [==============================] - 0s 2ms/step\n"
     ]
    }
   ],
   "source": [
    "predicted_test = model.predict(test_scale)\n",
    "predicted_train = model.predict(train_scale)\n",
    "predicted_val = model.predict(val_scale)\n"
   ]
  },
  {
   "cell_type": "code",
   "execution_count": 16,
   "metadata": {},
   "outputs": [
    {
     "name": "stdout",
     "output_type": "stream",
     "text": [
      "0.9159\n",
      "0.9205\n",
      "0.9231\n"
     ]
    },
    {
     "data": {
      "image/png": "[encoded data removed]",
      "text/plain": [
       "<Figure size 640x480 with 2 Axes>"
      ]
     },
     "metadata": {},
     "output_type": "display_data"
    }
   ],
   "source": [
    "#Confusion matrix\n",
    "predicted_test = np.array([1 if x >= 0.5 else 0 for x in predicted_test])\n",
    "predicted_train = np.array([1 if x >= 0.5 else 0 for x in predicted_train])\n",
    "predicted_val = np.array([1 if x >= 0.5 else 0 for x in predicted_val])\n",
    "\n",
    "actual_test = np.array(test_output)\n",
    "actual_train = np.array(train_output)\n",
    "actual_val = np.array(val_output)\n",
    "\n",
    "conf_matrix = confusion_matrix(actual_test, predicted_test)\n",
    "display = ConfusionMatrixDisplay(confusion_matrix=conf_matrix)\n",
    "display.plot()\n",
    "\n",
    "#f1-score\n",
    "print(round(f1_score(actual_test, predicted_test), 4))\n",
    "print(round(f1_score(actual_train, predicted_train), 4))\n",
    "print(round(f1_score(actual_val, predicted_val), 4))"
   ]
  },
  {
   "cell_type": "code",
   "execution_count": 17,
   "metadata": {},
   "outputs": [
    {
     "name": "stdout",
     "output_type": "stream",
     "text": [
      "[0 0 1 1 0 1 1 1 0 1 0 0 1 1 0 0 1 0 0 0 0 1 0 0 1 0 1 1 0 1 0 0 1 1 0 1 0\n",
      " 0 1 1 1 0 1 0 0 0 0 1 0 0 1 0 1 1 0 1 0 0 0 0 1 0 0 0 0 0 0 0 0 1 0 1 1 0\n",
      " 1 0 1 0 1 0 0 1 0 1 0 0 0 1 0 0 0 0 0 1 0 1 0 1 0 1 1 1 0 1 1 1 1 1 0 0 1\n",
      " 0 1 0 0 1 0 0 1 1 0 0 0 0 1 1 1 1 1 1 0 0 1 0 1 0 0 1 1 1 0 0 0 1 1 0 1 1\n",
      " 0 0 1 0 1 0 1 1 1 1 0 1 1 1 0 1 1 0 0 0 0 0 1 1 1 1 0 0 0 1 0 0 0 1 1 1 1\n",
      " 1 0 1 0 0 0 1 1 1 1 0 0 0 0 0 0 0 1 0 0 0 1 0 1 0 1 0 1 1 1 0 1 0 1 0 0 1\n",
      " 1 1 0 0 0 1 0 0 0 1 0 1 1 0 0 1 0 0 1 1 0 1 0 0 1 1 1 0 0 0 0 1 1 1 0 1 1\n",
      " 0 0 1 0 0 1 1 0 1 1 1 1 0 1 1 1 0 1 0 1 0 0 1 0 1 1 1 0 1 0 1 1 0 1 1 0 0\n",
      " 1 0 1 0 0 0 0 0 1 1 0 0 0 0 0 1 1 1 1 1 0 0 1 0 1 1 1 0 0 0 0 0 0 0 1 1 0\n",
      " 1 0 1 0 0 1 1 0 1 1 0 1 1 1 0 0 0 1 0 1 0 0 0 0 1 1 1 1 0 1 1 1 1 1 1 1 0\n",
      " 0 1 1 0 0 1 1 1 1 0 0 0 1 0 0 1 1 1 0 1 0 0 1 1 0 0 0 1 0 0 1 0 1 0 1 0 1\n",
      " 0 1 0 1 0 0 1 0 1 1 1 1 0 1 0 0 1 1 1 0 0 0]\n",
      "[1 1 0 ... 0 1 1]\n",
      "[0 1 1 0 1 1 1 1 1 0 1 0 1 1 0 0 0 0 1 0 0 1 0 1 0 0 1 1 0 1 1 0 1 1 0 1 1\n",
      " 0 1 1 0 1 1 0 1 0 0 1 0 0 1 1 0 1 0 1 1 0 1 1 0 1 1 1 1 0 1 0 0 1 1 0 0 0\n",
      " 0 1 1 1 1 0 1 1 1 0 1 1 1 1 0 0 1 0 1 1 1 1 1 0 1 1 1 1 0 0 0 1 1 1 0 1 1\n",
      " 1 1 1 1 1 1 1 0 0 1 0 1 0 1 1 1 1 1 1 1 0 1 0 0 1 1 0 1 0 0 0 1 0 0 1 1 1\n",
      " 0 0 1 1 0 0 0 0 0 1 1 1 1 1 1 0 1 0 0 1 0 1 0 0 0 1 0 0 0 0 0 1 1 1 0 0 1\n",
      " 0 0 1 1 0 1 1 0 0 1 0 0 1 0 1 0 0 0 1 1 0 0 0 1 0 0 1 1 1 0 1 0 0 1 0 1 0\n",
      " 1 1 0 0 1 1 1 0 0 1 1 0 1 1 1 0 0 1 0 0 1 0 1 1 0 1 0 0 1 1 1 0 1 1 0 1 0\n",
      " 1 0 1 1 0 0 0 1 1 1 0 0 0 1 1 1 0 0 1 0 0 1 1 0 1 0 1 1 1 0 1 0 1 0 0 1 0\n",
      " 1 0 0 1 1 1 0 1 1 1 0 0 0 0 0 1 1 1 1 0 0 1 1 0 0 0 1 0 0 0 0 0 1 0 1 1 1\n",
      " 1 1 1 0 1 1 1 0 1 1 0 1 0 0 0 0 0 0 0 0 0 1 1 0 0 1 1 1 1 1 0 0 0 0 0 1 0\n",
      " 1 1 1 1 0 1 0 0 0 1 0 0 1 0 0 1 1 0 1 0 1 0 1 1 0 0 1 0 1 0 0 1 1 1 1 0 0\n",
      " 1 1 1 0 0 0 1 0 0 1 0 0 1 1 0 0 0 0 0 1 0 1]\n"
     ]
    }
   ],
   "source": [
    "print(predicted_test)\n",
    "print(predicted_train)\n",
    "print(predicted_val)"
   ]
  },
  {
   "cell_type": "code",
   "execution_count": 18,
   "metadata": {},
   "outputs": [
    {
     "data": {
      "text/html": [
       "<div>\n",
       "<style scoped>\n",
       "    .dataframe tbody tr th:only-of-type {\n",
       "        vertical-align: middle;\n",
       "    }\n",
       "\n",
       "    .dataframe tbody tr th {\n",
       "        vertical-align: top;\n",
       "    }\n",
       "\n",
       "    .dataframe thead th {\n",
       "        text-align: right;\n",
       "    }\n",
       "</style>\n",
       "<table border=\"1\" class=\"dataframe\">\n",
       "  <thead>\n",
       "    <tr style=\"text-align: right;\">\n",
       "      <th></th>\n",
       "      <th>Predicted_test</th>\n",
       "      <th>Raw_test</th>\n",
       "    </tr>\n",
       "  </thead>\n",
       "  <tbody>\n",
       "    <tr>\n",
       "      <th>1345</th>\n",
       "      <td>0</td>\n",
       "      <td>0.0</td>\n",
       "    </tr>\n",
       "    <tr>\n",
       "      <th>1935</th>\n",
       "      <td>0</td>\n",
       "      <td>0.0</td>\n",
       "    </tr>\n",
       "    <tr>\n",
       "      <th>129</th>\n",
       "      <td>1</td>\n",
       "      <td>1.0</td>\n",
       "    </tr>\n",
       "    <tr>\n",
       "      <th>333</th>\n",
       "      <td>1</td>\n",
       "      <td>1.0</td>\n",
       "    </tr>\n",
       "    <tr>\n",
       "      <th>1164</th>\n",
       "      <td>0</td>\n",
       "      <td>0.0</td>\n",
       "    </tr>\n",
       "    <tr>\n",
       "      <th>...</th>\n",
       "      <td>...</td>\n",
       "      <td>...</td>\n",
       "    </tr>\n",
       "    <tr>\n",
       "      <th>545</th>\n",
       "      <td>1</td>\n",
       "      <td>1.0</td>\n",
       "    </tr>\n",
       "    <tr>\n",
       "      <th>1201</th>\n",
       "      <td>1</td>\n",
       "      <td>1.0</td>\n",
       "    </tr>\n",
       "    <tr>\n",
       "      <th>509</th>\n",
       "      <td>0</td>\n",
       "      <td>1.0</td>\n",
       "    </tr>\n",
       "    <tr>\n",
       "      <th>1333</th>\n",
       "      <td>0</td>\n",
       "      <td>0.0</td>\n",
       "    </tr>\n",
       "    <tr>\n",
       "      <th>2045</th>\n",
       "      <td>0</td>\n",
       "      <td>0.0</td>\n",
       "    </tr>\n",
       "  </tbody>\n",
       "</table>\n",
       "<p>429 rows × 2 columns</p>\n",
       "</div>"
      ],
      "text/plain": [
       "      Predicted_test  Raw_test\n",
       "1345               0       0.0\n",
       "1935               0       0.0\n",
       "129                1       1.0\n",
       "333                1       1.0\n",
       "1164               0       0.0\n",
       "...              ...       ...\n",
       "545                1       1.0\n",
       "1201               1       1.0\n",
       "509                0       1.0\n",
       "1333               0       0.0\n",
       "2045               0       0.0\n",
       "\n",
       "[429 rows x 2 columns]"
      ]
     },
     "execution_count": 18,
     "metadata": {},
     "output_type": "execute_result"
    }
   ],
   "source": [
    "test_df = pd.DataFrame(((predicted_test[i]) for i in range(len(test_output))), columns=['Predicted_test'], index = test_output.index)\n",
    "test_df['Raw_test'] = (test_output)\n",
    "test_df"
   ]
  },
  {
   "cell_type": "code",
   "execution_count": 19,
   "metadata": {},
   "outputs": [
    {
     "data": {
      "text/html": [
       "<div>\n",
       "<style scoped>\n",
       "    .dataframe tbody tr th:only-of-type {\n",
       "        vertical-align: middle;\n",
       "    }\n",
       "\n",
       "    .dataframe tbody tr th {\n",
       "        vertical-align: top;\n",
       "    }\n",
       "\n",
       "    .dataframe thead th {\n",
       "        text-align: right;\n",
       "    }\n",
       "</style>\n",
       "<table border=\"1\" class=\"dataframe\">\n",
       "  <thead>\n",
       "    <tr style=\"text-align: right;\">\n",
       "      <th></th>\n",
       "      <th>Predicted_train</th>\n",
       "      <th>Raw_train</th>\n",
       "    </tr>\n",
       "  </thead>\n",
       "  <tbody>\n",
       "    <tr>\n",
       "      <th>1578</th>\n",
       "      <td>1</td>\n",
       "      <td>1.0</td>\n",
       "    </tr>\n",
       "    <tr>\n",
       "      <th>1962</th>\n",
       "      <td>1</td>\n",
       "      <td>0.0</td>\n",
       "    </tr>\n",
       "    <tr>\n",
       "      <th>1278</th>\n",
       "      <td>0</td>\n",
       "      <td>0.0</td>\n",
       "    </tr>\n",
       "    <tr>\n",
       "      <th>58</th>\n",
       "      <td>1</td>\n",
       "      <td>1.0</td>\n",
       "    </tr>\n",
       "    <tr>\n",
       "      <th>94</th>\n",
       "      <td>1</td>\n",
       "      <td>1.0</td>\n",
       "    </tr>\n",
       "    <tr>\n",
       "      <th>...</th>\n",
       "      <td>...</td>\n",
       "      <td>...</td>\n",
       "    </tr>\n",
       "    <tr>\n",
       "      <th>2109</th>\n",
       "      <td>0</td>\n",
       "      <td>0.0</td>\n",
       "    </tr>\n",
       "    <tr>\n",
       "      <th>471</th>\n",
       "      <td>1</td>\n",
       "      <td>1.0</td>\n",
       "    </tr>\n",
       "    <tr>\n",
       "      <th>2113</th>\n",
       "      <td>0</td>\n",
       "      <td>0.0</td>\n",
       "    </tr>\n",
       "    <tr>\n",
       "      <th>263</th>\n",
       "      <td>1</td>\n",
       "      <td>1.0</td>\n",
       "    </tr>\n",
       "    <tr>\n",
       "      <th>457</th>\n",
       "      <td>1</td>\n",
       "      <td>1.0</td>\n",
       "    </tr>\n",
       "  </tbody>\n",
       "</table>\n",
       "<p>1287 rows × 2 columns</p>\n",
       "</div>"
      ],
      "text/plain": [
       "      Predicted_train  Raw_train\n",
       "1578                1        1.0\n",
       "1962                1        0.0\n",
       "1278                0        0.0\n",
       "58                  1        1.0\n",
       "94                  1        1.0\n",
       "...               ...        ...\n",
       "2109                0        0.0\n",
       "471                 1        1.0\n",
       "2113                0        0.0\n",
       "263                 1        1.0\n",
       "457                 1        1.0\n",
       "\n",
       "[1287 rows x 2 columns]"
      ]
     },
     "execution_count": 19,
     "metadata": {},
     "output_type": "execute_result"
    }
   ],
   "source": [
    "train_df = pd.DataFrame(((predicted_train[i]) for i in range(len(train_output))), columns=['Predicted_train'], index = train_output.index)\n",
    "train_df['Raw_train'] = (train_output)\n",
    "train_df"
   ]
  },
  {
   "cell_type": "code",
   "execution_count": 20,
   "metadata": {},
   "outputs": [
    {
     "data": {
      "text/html": [
       "<div>\n",
       "<style scoped>\n",
       "    .dataframe tbody tr th:only-of-type {\n",
       "        vertical-align: middle;\n",
       "    }\n",
       "\n",
       "    .dataframe tbody tr th {\n",
       "        vertical-align: top;\n",
       "    }\n",
       "\n",
       "    .dataframe thead th {\n",
       "        text-align: right;\n",
       "    }\n",
       "</style>\n",
       "<table border=\"1\" class=\"dataframe\">\n",
       "  <thead>\n",
       "    <tr style=\"text-align: right;\">\n",
       "      <th></th>\n",
       "      <th>Predicted_val</th>\n",
       "      <th>Raw_validation</th>\n",
       "    </tr>\n",
       "  </thead>\n",
       "  <tbody>\n",
       "    <tr>\n",
       "      <th>356</th>\n",
       "      <td>0</td>\n",
       "      <td>1.0</td>\n",
       "    </tr>\n",
       "    <tr>\n",
       "      <th>181</th>\n",
       "      <td>1</td>\n",
       "      <td>1.0</td>\n",
       "    </tr>\n",
       "    <tr>\n",
       "      <th>395</th>\n",
       "      <td>1</td>\n",
       "      <td>1.0</td>\n",
       "    </tr>\n",
       "    <tr>\n",
       "      <th>1487</th>\n",
       "      <td>0</td>\n",
       "      <td>0.0</td>\n",
       "    </tr>\n",
       "    <tr>\n",
       "      <th>168</th>\n",
       "      <td>1</td>\n",
       "      <td>1.0</td>\n",
       "    </tr>\n",
       "    <tr>\n",
       "      <th>...</th>\n",
       "      <td>...</td>\n",
       "      <td>...</td>\n",
       "    </tr>\n",
       "    <tr>\n",
       "      <th>524</th>\n",
       "      <td>0</td>\n",
       "      <td>1.0</td>\n",
       "    </tr>\n",
       "    <tr>\n",
       "      <th>1137</th>\n",
       "      <td>0</td>\n",
       "      <td>0.0</td>\n",
       "    </tr>\n",
       "    <tr>\n",
       "      <th>407</th>\n",
       "      <td>1</td>\n",
       "      <td>1.0</td>\n",
       "    </tr>\n",
       "    <tr>\n",
       "      <th>1993</th>\n",
       "      <td>0</td>\n",
       "      <td>0.0</td>\n",
       "    </tr>\n",
       "    <tr>\n",
       "      <th>835</th>\n",
       "      <td>1</td>\n",
       "      <td>1.0</td>\n",
       "    </tr>\n",
       "  </tbody>\n",
       "</table>\n",
       "<p>429 rows × 2 columns</p>\n",
       "</div>"
      ],
      "text/plain": [
       "      Predicted_val  Raw_validation\n",
       "356               0             1.0\n",
       "181               1             1.0\n",
       "395               1             1.0\n",
       "1487              0             0.0\n",
       "168               1             1.0\n",
       "...             ...             ...\n",
       "524               0             1.0\n",
       "1137              0             0.0\n",
       "407               1             1.0\n",
       "1993              0             0.0\n",
       "835               1             1.0\n",
       "\n",
       "[429 rows x 2 columns]"
      ]
     },
     "execution_count": 20,
     "metadata": {},
     "output_type": "execute_result"
    }
   ],
   "source": [
    "validation_df = pd.DataFrame(((predicted_val[i]) for i in range(len(val_output))), columns=['Predicted_val'], index = val_output.index)\n",
    "validation_df['Raw_validation'] = (val_output)\n",
    "validation_df"
   ]
  },
  {
   "cell_type": "code",
   "execution_count": 21,
   "metadata": {},
   "outputs": [],
   "source": [
    "test_df.to_csv('Test_df.csv', index=True)\n",
    "train_df.to_csv('Train_df.csv', index=True)\n",
    "validation_df.to_csv('Validation_df.csv', index=True)"
   ]
  },
  {
   "cell_type": "code",
   "execution_count": 22,
   "metadata": {},
   "outputs": [
    {
     "data": {
      "image/png": "[encoded data removed]",
      "text/plain": [
       "<Figure size 640x480 with 1 Axes>"
      ]
     },
     "metadata": {},
     "output_type": "display_data"
    },
    {
     "name": "stdout",
     "output_type": "stream",
     "text": [
      "0.9167464114832535\n"
     ]
    }
   ],
   "source": [
    "#ROC CURVE\n",
    "fpr, tpr, thresh = roc_curve(actual_test, predicted_test, pos_label=1)\n",
    "plt.plot(fpr, tpr)\n",
    "plt.title('ROC curve')\n",
    "plt.xlabel('False Positive Rate')\n",
    "plt.ylabel('True Positive rate')\n",
    "plt.show()\n",
    "    \n",
    "#AUC    \n",
    "auc_score1 = roc_auc_score(actual_test, predicted_test)\n",
    "print(auc_score1)"
   ]
  },
  {
   "cell_type": "code",
   "execution_count": 23,
   "metadata": {},
   "outputs": [
    {
     "name": "stdout",
     "output_type": "stream",
     "text": [
      "0.8909\n",
      "0.9161\n",
      "0.917\n"
     ]
    }
   ],
   "source": [
    "print(round(recall_score(test_output, predicted_test), 4))\n",
    "print(round(recall_score(train_output, predicted_train), 4))\n",
    "print(round(recall_score(val_output, predicted_val), 4))"
   ]
  },
  {
   "cell_type": "code",
   "execution_count": 24,
   "metadata": {},
   "outputs": [
    {
     "name": "stdout",
     "output_type": "stream",
     "text": [
      "0.9423\n",
      "0.9249\n",
      "0.9292\n"
     ]
    }
   ],
   "source": [
    "print(round(precision_score(test_output, predicted_test), 4))\n",
    "print(round(precision_score(train_output, predicted_train), 4))\n",
    "print(round(precision_score(val_output, predicted_val), 4))"
   ]
  },
  {
   "cell_type": "code",
   "execution_count": 25,
   "metadata": {},
   "outputs": [
    {
     "name": "stdout",
     "output_type": "stream",
     "text": [
      "[[0.183, 0.9223, 0.8909, 0.9423, 0.9159], [0.1605, 0.9223, 0.9161, 0.9249, 0.9205], [0.1925, 0.9184, 0.917, 0.9292, 0.9231]]\n"
     ]
    }
   ],
   "source": [
    "data = [[round(loss_and_accuracy_test[0], 4), round(loss_and_accuracy_train[1], 4), round(recall_score(test_output, predicted_test), 4), round(precision_score(test_output, predicted_test), 4), round(f1_score(actual_test, predicted_test), 4)],\n",
    "        [round(loss_and_accuracy_train[0], 4), round(loss_and_accuracy_train[1], 4),round(recall_score(train_output, predicted_train), 4), round(precision_score(train_output, predicted_train), 4), round(f1_score(actual_train, predicted_train), 4)],\n",
    "        [round(loss_and_accuracy_val[0], 4), round(loss_and_accuracy_val[1], 4),round(recall_score(val_output, predicted_val), 4), round(precision_score(val_output, predicted_val), 4), round(f1_score(actual_val, predicted_val), 4)]]\n",
    "index = ['Loss', 'Accuracy', 'Recall', 'Precision', 'F1_score']\n",
    "print(data)\n"
   ]
  },
  {
   "cell_type": "code",
   "execution_count": 26,
   "metadata": {},
   "outputs": [
    {
     "data": {
      "text/html": [
       "<div>\n",
       "<style scoped>\n",
       "    .dataframe tbody tr th:only-of-type {\n",
       "        vertical-align: middle;\n",
       "    }\n",
       "\n",
       "    .dataframe tbody tr th {\n",
       "        vertical-align: top;\n",
       "    }\n",
       "\n",
       "    .dataframe thead th {\n",
       "        text-align: right;\n",
       "    }\n",
       "</style>\n",
       "<table border=\"1\" class=\"dataframe\">\n",
       "  <thead>\n",
       "    <tr style=\"text-align: right;\">\n",
       "      <th></th>\n",
       "      <th>Loss</th>\n",
       "      <th>Accuracy</th>\n",
       "      <th>Recall</th>\n",
       "      <th>Precision</th>\n",
       "      <th>F1_score</th>\n",
       "    </tr>\n",
       "  </thead>\n",
       "  <tbody>\n",
       "    <tr>\n",
       "      <th>Test</th>\n",
       "      <td>0.1830</td>\n",
       "      <td>0.9223</td>\n",
       "      <td>0.8909</td>\n",
       "      <td>0.9423</td>\n",
       "      <td>0.9159</td>\n",
       "    </tr>\n",
       "    <tr>\n",
       "      <th>Train</th>\n",
       "      <td>0.1605</td>\n",
       "      <td>0.9223</td>\n",
       "      <td>0.9161</td>\n",
       "      <td>0.9249</td>\n",
       "      <td>0.9205</td>\n",
       "    </tr>\n",
       "    <tr>\n",
       "      <th>Validation</th>\n",
       "      <td>0.1925</td>\n",
       "      <td>0.9184</td>\n",
       "      <td>0.9170</td>\n",
       "      <td>0.9292</td>\n",
       "      <td>0.9231</td>\n",
       "    </tr>\n",
       "  </tbody>\n",
       "</table>\n",
       "</div>"
      ],
      "text/plain": [
       "              Loss  Accuracy  Recall  Precision  F1_score\n",
       "Test        0.1830    0.9223  0.8909     0.9423    0.9159\n",
       "Train       0.1605    0.9223  0.9161     0.9249    0.9205\n",
       "Validation  0.1925    0.9184  0.9170     0.9292    0.9231"
      ]
     },
     "execution_count": 26,
     "metadata": {},
     "output_type": "execute_result"
    }
   ],
   "source": [
    "metrics_df = pd.DataFrame(data, columns = index, index= ['Test', 'Train', 'Validation'])\n",
    "metrics_df.to_csv('Binary_Classification_Metrics.csv')\n",
    "metrics_df"
   ]
  },
  {
   "cell_type": "code",
   "execution_count": 27,
   "metadata": {},
   "outputs": [
    {
     "data": {
      "text/plain": [
       "\"\\nimport random\\nfrom itertools import product\\n\\nparams_list = []\\nhidden_layer_list = [1, 2, 3, 4]\\nhidden_units_list = [200, 100, 50, 10]\\ndropout_rate_list = [0.1, 0.2, 0.3, 0.4]\\nlearning_rate_list = [0.1, 0.001, 0.0001]\\nbatch_size_list = [64, 32, 16, 8]\\n\\n\\na_list = []\\nb_list = []\\n\\nfor i in hidden_layer_list:\\n    a = list(product(hidden_units_list, repeat = i))\\n    b = list(product(dropout_rate_list, repeat = i))\\n    a_list.append(a)\\n    b_list.append(b)\\nprint(a_list)\\nprint(b_list)\\n\\nbest_accuracy = 0\\n\\nmodel = keras.Sequential()\\n\\nfor i in hidden_units_list:\\n    for j in dropout_rate_list:\\n        for _ in hidden_layer_list:\\n            model.add(keras.layers.Dense(hidden_units_list[i], activation='relu', input_shape = (9, )))\\n            model.add(keras.layers.Dropout(dropout_rate_list[j]))\\n            model.add(keras.layers.Dense(1, activation='sigmoid'))\\n    model.compile(optimizer=tf.keras.optimizers.legacy.Adam())\\n\""
      ]
     },
     "execution_count": 27,
     "metadata": {},
     "output_type": "execute_result"
    }
   ],
   "source": [
    "'''\n",
    "import random\n",
    "from itertools import product\n",
    "\n",
    "params_list = []\n",
    "hidden_layer_list = [1, 2, 3, 4]\n",
    "hidden_units_list = [200, 100, 50, 10]\n",
    "dropout_rate_list = [0.1, 0.2, 0.3, 0.4]\n",
    "learning_rate_list = [0.1, 0.001, 0.0001]\n",
    "batch_size_list = [64, 32, 16, 8]\n",
    "\n",
    "\n",
    "a_list = []\n",
    "b_list = []\n",
    "\n",
    "for i in hidden_layer_list:\n",
    "    a = list(product(hidden_units_list, repeat = i))\n",
    "    b = list(product(dropout_rate_list, repeat = i))\n",
    "    a_list.append(a)\n",
    "    b_list.append(b)\n",
    "print(a_list)\n",
    "print(b_list)\n",
    "\n",
    "best_accuracy = 0\n",
    "\n",
    "model = keras.Sequential()\n",
    "\n",
    "for i in hidden_units_list:\n",
    "    for j in dropout_rate_list:\n",
    "        for _ in hidden_layer_list:\n",
    "            model.add(keras.layers.Dense(hidden_units_list[i], activation='relu', input_shape = (9, )))\n",
    "            model.add(keras.layers.Dropout(dropout_rate_list[j]))\n",
    "            model.add(keras.layers.Dense(1, activation='sigmoid'))\n",
    "    model.compile(optimizer=tf.keras.optimizers.legacy.Adam())\n",
    "'''\n"
   ]
  },
  {
   "attachments": {},
   "cell_type": "markdown",
   "metadata": {},
   "source": [
    "# Hyperparameters Tuning"
   ]
  },
  {
   "cell_type": "code",
   "execution_count": 34,
   "metadata": {},
   "outputs": [
    {
     "name": "stdout",
     "output_type": "stream",
     "text": [
      "Training with parameters: {'batch_size': 64, 'dropout_rate': 0.1, 'hidden_layers': 1, 'hidden_units': 50, 'learning_rate': 0.001}\n"
     ]
    },
    {
     "name": "stderr",
     "output_type": "stream",
     "text": [
      "2024-03-14 11:21:00.071981: I tensorflow/core/grappler/optimizers/custom_graph_optimizer_registry.cc:114] Plugin optimizer for device_type GPU is enabled.\n",
      "2024-03-14 11:21:01.198753: I tensorflow/core/grappler/optimizers/custom_graph_optimizer_registry.cc:114] Plugin optimizer for device_type GPU is enabled.\n",
      "/Library/Frameworks/Python.framework/Versions/3.11/lib/python3.11/site-packages/keras/src/engine/training.py:3000: UserWarning: You are saving your model as an HDF5 file via `model.save()`. This file format is considered legacy. We recommend using instead the native Keras format, e.g. `model.save('my_model.keras')`.\n",
      "  saving_api.save_model(\n"
     ]
    },
    {
     "name": "stdout",
     "output_type": "stream",
     "text": [
      "Validation loss : 0.18429674208164215\n",
      "Validation accuracy :  0.9160839319229126\n",
      "Training with parameters: {'batch_size': 64, 'dropout_rate': 0.1, 'hidden_layers': 1, 'hidden_units': 50, 'learning_rate': 0.01}\n"
     ]
    },
    {
     "name": "stderr",
     "output_type": "stream",
     "text": [
      "2024-03-14 11:21:10.820792: I tensorflow/core/grappler/optimizers/custom_graph_optimizer_registry.cc:114] Plugin optimizer for device_type GPU is enabled.\n",
      "2024-03-14 11:21:11.983927: I tensorflow/core/grappler/optimizers/custom_graph_optimizer_registry.cc:114] Plugin optimizer for device_type GPU is enabled.\n"
     ]
    },
    {
     "name": "stdout",
     "output_type": "stream",
     "text": [
      "Validation loss : 0.17378216981887817\n",
      "Validation accuracy :  0.9207459092140198\n",
      "Training with parameters: {'batch_size': 64, 'dropout_rate': 0.1, 'hidden_layers': 1, 'hidden_units': 50, 'learning_rate': 0.1}\n"
     ]
    },
    {
     "name": "stderr",
     "output_type": "stream",
     "text": [
      "2024-03-14 11:21:19.288506: I tensorflow/core/grappler/optimizers/custom_graph_optimizer_registry.cc:114] Plugin optimizer for device_type GPU is enabled.\n",
      "2024-03-14 11:21:20.380496: I tensorflow/core/grappler/optimizers/custom_graph_optimizer_registry.cc:114] Plugin optimizer for device_type GPU is enabled.\n"
     ]
    },
    {
     "name": "stdout",
     "output_type": "stream",
     "text": [
      "Validation loss : 1.6924505233764648\n",
      "Validation accuracy :  0.750582754611969\n",
      "Training with parameters: {'batch_size': 64, 'dropout_rate': 0.1, 'hidden_layers': 1, 'hidden_units': 100, 'learning_rate': 0.001}\n"
     ]
    },
    {
     "name": "stderr",
     "output_type": "stream",
     "text": [
      "2024-03-14 11:21:27.522242: I tensorflow/core/grappler/optimizers/custom_graph_optimizer_registry.cc:114] Plugin optimizer for device_type GPU is enabled.\n",
      "2024-03-14 11:21:28.689473: I tensorflow/core/grappler/optimizers/custom_graph_optimizer_registry.cc:114] Plugin optimizer for device_type GPU is enabled.\n"
     ]
    },
    {
     "name": "stdout",
     "output_type": "stream",
     "text": [
      "Validation loss : 0.17108872532844543\n",
      "Validation accuracy :  0.9090909361839294\n",
      "Training with parameters: {'batch_size': 64, 'dropout_rate': 0.1, 'hidden_layers': 1, 'hidden_units': 100, 'learning_rate': 0.01}\n"
     ]
    },
    {
     "name": "stderr",
     "output_type": "stream",
     "text": [
      "2024-03-14 11:21:38.730539: I tensorflow/core/grappler/optimizers/custom_graph_optimizer_registry.cc:114] Plugin optimizer for device_type GPU is enabled.\n",
      "2024-03-14 11:21:39.927651: I tensorflow/core/grappler/optimizers/custom_graph_optimizer_registry.cc:114] Plugin optimizer for device_type GPU is enabled.\n"
     ]
    },
    {
     "name": "stdout",
     "output_type": "stream",
     "text": [
      "Validation loss : 0.9566518664360046\n",
      "Validation accuracy :  0.7552447319030762\n",
      "Training with parameters: {'batch_size': 64, 'dropout_rate': 0.1, 'hidden_layers': 1, 'hidden_units': 100, 'learning_rate': 0.1}\n"
     ]
    },
    {
     "name": "stderr",
     "output_type": "stream",
     "text": [
      "2024-03-14 11:21:47.586718: I tensorflow/core/grappler/optimizers/custom_graph_optimizer_registry.cc:114] Plugin optimizer for device_type GPU is enabled.\n",
      "2024-03-14 11:21:48.717740: I tensorflow/core/grappler/optimizers/custom_graph_optimizer_registry.cc:114] Plugin optimizer for device_type GPU is enabled.\n"
     ]
    },
    {
     "name": "stdout",
     "output_type": "stream",
     "text": [
      "Validation loss : 2.3771910667419434\n",
      "Validation accuracy :  0.8881118893623352\n",
      "Training with parameters: {'batch_size': 64, 'dropout_rate': 0.1, 'hidden_layers': 1, 'hidden_units': 200, 'learning_rate': 0.001}\n"
     ]
    },
    {
     "name": "stderr",
     "output_type": "stream",
     "text": [
      "2024-03-14 11:21:55.869568: I tensorflow/core/grappler/optimizers/custom_graph_optimizer_registry.cc:114] Plugin optimizer for device_type GPU is enabled.\n",
      "2024-03-14 11:21:57.109445: I tensorflow/core/grappler/optimizers/custom_graph_optimizer_registry.cc:114] Plugin optimizer for device_type GPU is enabled.\n"
     ]
    },
    {
     "name": "stdout",
     "output_type": "stream",
     "text": [
      "Validation loss : 0.16416029632091522\n",
      "Validation accuracy :  0.9277389049530029\n",
      "Training with parameters: {'batch_size': 64, 'dropout_rate': 0.1, 'hidden_layers': 1, 'hidden_units': 200, 'learning_rate': 0.01}\n"
     ]
    },
    {
     "name": "stderr",
     "output_type": "stream",
     "text": [
      "2024-03-14 11:22:05.618931: I tensorflow/core/grappler/optimizers/custom_graph_optimizer_registry.cc:114] Plugin optimizer for device_type GPU is enabled.\n",
      "2024-03-14 11:22:06.739882: I tensorflow/core/grappler/optimizers/custom_graph_optimizer_registry.cc:114] Plugin optimizer for device_type GPU is enabled.\n"
     ]
    },
    {
     "name": "stdout",
     "output_type": "stream",
     "text": [
      "Validation loss : 0.5733663439750671\n",
      "Validation accuracy :  0.8368298411369324\n",
      "Training with parameters: {'batch_size': 64, 'dropout_rate': 0.1, 'hidden_layers': 1, 'hidden_units': 200, 'learning_rate': 0.1}\n"
     ]
    },
    {
     "name": "stderr",
     "output_type": "stream",
     "text": [
      "2024-03-14 11:22:14.353521: I tensorflow/core/grappler/optimizers/custom_graph_optimizer_registry.cc:114] Plugin optimizer for device_type GPU is enabled.\n",
      "2024-03-14 11:22:15.624259: I tensorflow/core/grappler/optimizers/custom_graph_optimizer_registry.cc:114] Plugin optimizer for device_type GPU is enabled.\n"
     ]
    },
    {
     "name": "stdout",
     "output_type": "stream",
     "text": [
      "Validation loss : 8.627307891845703\n",
      "Validation accuracy :  0.8951048851013184\n",
      "Training with parameters: {'batch_size': 64, 'dropout_rate': 0.1, 'hidden_layers': 2, 'hidden_units': 50, 'learning_rate': 0.001}\n"
     ]
    },
    {
     "name": "stderr",
     "output_type": "stream",
     "text": [
      "2024-03-14 11:22:22.752936: I tensorflow/core/grappler/optimizers/custom_graph_optimizer_registry.cc:114] Plugin optimizer for device_type GPU is enabled.\n",
      "2024-03-14 11:22:24.285633: I tensorflow/core/grappler/optimizers/custom_graph_optimizer_registry.cc:114] Plugin optimizer for device_type GPU is enabled.\n"
     ]
    },
    {
     "name": "stdout",
     "output_type": "stream",
     "text": [
      "Validation loss : 0.15848016738891602\n",
      "Validation accuracy :  0.9324009418487549\n",
      "Training with parameters: {'batch_size': 64, 'dropout_rate': 0.1, 'hidden_layers': 2, 'hidden_units': 50, 'learning_rate': 0.01}\n"
     ]
    },
    {
     "name": "stderr",
     "output_type": "stream",
     "text": [
      "2024-03-14 11:22:33.848739: I tensorflow/core/grappler/optimizers/custom_graph_optimizer_registry.cc:114] Plugin optimizer for device_type GPU is enabled.\n",
      "2024-03-14 11:22:35.390398: I tensorflow/core/grappler/optimizers/custom_graph_optimizer_registry.cc:114] Plugin optimizer for device_type GPU is enabled.\n"
     ]
    },
    {
     "name": "stdout",
     "output_type": "stream",
     "text": [
      "Validation loss : 0.23932603001594543\n",
      "Validation accuracy :  0.8904429078102112\n",
      "Training with parameters: {'batch_size': 64, 'dropout_rate': 0.1, 'hidden_layers': 2, 'hidden_units': 50, 'learning_rate': 0.1}\n"
     ]
    },
    {
     "name": "stderr",
     "output_type": "stream",
     "text": [
      "2024-03-14 11:22:43.341066: I tensorflow/core/grappler/optimizers/custom_graph_optimizer_registry.cc:114] Plugin optimizer for device_type GPU is enabled.\n",
      "2024-03-14 11:22:44.820697: I tensorflow/core/grappler/optimizers/custom_graph_optimizer_registry.cc:114] Plugin optimizer for device_type GPU is enabled.\n"
     ]
    },
    {
     "name": "stdout",
     "output_type": "stream",
     "text": [
      "Validation loss : 8.740864753723145\n",
      "Validation accuracy :  0.8578088283538818\n",
      "Training with parameters: {'batch_size': 64, 'dropout_rate': 0.1, 'hidden_layers': 2, 'hidden_units': 100, 'learning_rate': 0.001}\n"
     ]
    },
    {
     "name": "stderr",
     "output_type": "stream",
     "text": [
      "2024-03-14 11:22:52.768080: I tensorflow/core/grappler/optimizers/custom_graph_optimizer_registry.cc:114] Plugin optimizer for device_type GPU is enabled.\n",
      "2024-03-14 11:22:54.291533: I tensorflow/core/grappler/optimizers/custom_graph_optimizer_registry.cc:114] Plugin optimizer for device_type GPU is enabled.\n"
     ]
    },
    {
     "name": "stdout",
     "output_type": "stream",
     "text": [
      "Validation loss : 0.18601569533348083\n",
      "Validation accuracy :  0.9137529134750366\n",
      "Training with parameters: {'batch_size': 64, 'dropout_rate': 0.1, 'hidden_layers': 2, 'hidden_units': 100, 'learning_rate': 0.01}\n"
     ]
    },
    {
     "name": "stderr",
     "output_type": "stream",
     "text": [
      "2024-03-14 11:23:02.905241: I tensorflow/core/grappler/optimizers/custom_graph_optimizer_registry.cc:114] Plugin optimizer for device_type GPU is enabled.\n",
      "2024-03-14 11:23:04.424949: I tensorflow/core/grappler/optimizers/custom_graph_optimizer_registry.cc:114] Plugin optimizer for device_type GPU is enabled.\n"
     ]
    },
    {
     "name": "stdout",
     "output_type": "stream",
     "text": [
      "Validation loss : 0.47019073367118835\n",
      "Validation accuracy :  0.881118893623352\n",
      "Training with parameters: {'batch_size': 64, 'dropout_rate': 0.1, 'hidden_layers': 2, 'hidden_units': 100, 'learning_rate': 0.1}\n"
     ]
    },
    {
     "name": "stderr",
     "output_type": "stream",
     "text": [
      "2024-03-14 11:23:12.673977: I tensorflow/core/grappler/optimizers/custom_graph_optimizer_registry.cc:114] Plugin optimizer for device_type GPU is enabled.\n",
      "2024-03-14 11:23:14.174744: I tensorflow/core/grappler/optimizers/custom_graph_optimizer_registry.cc:114] Plugin optimizer for device_type GPU is enabled.\n"
     ]
    },
    {
     "name": "stdout",
     "output_type": "stream",
     "text": [
      "Validation loss : 79.60014343261719\n",
      "Validation accuracy :  0.8275058269500732\n",
      "Training with parameters: {'batch_size': 64, 'dropout_rate': 0.1, 'hidden_layers': 2, 'hidden_units': 200, 'learning_rate': 0.001}\n"
     ]
    },
    {
     "name": "stderr",
     "output_type": "stream",
     "text": [
      "2024-03-14 11:23:21.966307: I tensorflow/core/grappler/optimizers/custom_graph_optimizer_registry.cc:114] Plugin optimizer for device_type GPU is enabled.\n",
      "2024-03-14 11:23:23.504861: I tensorflow/core/grappler/optimizers/custom_graph_optimizer_registry.cc:114] Plugin optimizer for device_type GPU is enabled.\n"
     ]
    },
    {
     "name": "stdout",
     "output_type": "stream",
     "text": [
      "Validation loss : 0.20128802955150604\n",
      "Validation accuracy :  0.9207459092140198\n",
      "Training with parameters: {'batch_size': 64, 'dropout_rate': 0.1, 'hidden_layers': 2, 'hidden_units': 200, 'learning_rate': 0.01}\n"
     ]
    },
    {
     "name": "stderr",
     "output_type": "stream",
     "text": [
      "2024-03-14 11:23:31.875144: I tensorflow/core/grappler/optimizers/custom_graph_optimizer_registry.cc:114] Plugin optimizer for device_type GPU is enabled.\n",
      "2024-03-14 11:23:33.467342: I tensorflow/core/grappler/optimizers/custom_graph_optimizer_registry.cc:114] Plugin optimizer for device_type GPU is enabled.\n"
     ]
    },
    {
     "name": "stdout",
     "output_type": "stream",
     "text": [
      "Validation loss : 1.9409327507019043\n",
      "Validation accuracy :  0.811188817024231\n",
      "Training with parameters: {'batch_size': 64, 'dropout_rate': 0.1, 'hidden_layers': 2, 'hidden_units': 200, 'learning_rate': 0.1}\n"
     ]
    },
    {
     "name": "stderr",
     "output_type": "stream",
     "text": [
      "2024-03-14 11:23:41.454738: I tensorflow/core/grappler/optimizers/custom_graph_optimizer_registry.cc:114] Plugin optimizer for device_type GPU is enabled.\n",
      "2024-03-14 11:23:43.001922: I tensorflow/core/grappler/optimizers/custom_graph_optimizer_registry.cc:114] Plugin optimizer for device_type GPU is enabled.\n"
     ]
    },
    {
     "name": "stdout",
     "output_type": "stream",
     "text": [
      "Validation loss : 701.6318969726562\n",
      "Validation accuracy :  0.8414918184280396\n",
      "Training with parameters: {'batch_size': 64, 'dropout_rate': 0.1, 'hidden_layers': 3, 'hidden_units': 50, 'learning_rate': 0.001}\n"
     ]
    },
    {
     "name": "stderr",
     "output_type": "stream",
     "text": [
      "2024-03-14 11:23:51.143671: I tensorflow/core/grappler/optimizers/custom_graph_optimizer_registry.cc:114] Plugin optimizer for device_type GPU is enabled.\n",
      "2024-03-14 11:23:53.244828: I tensorflow/core/grappler/optimizers/custom_graph_optimizer_registry.cc:114] Plugin optimizer for device_type GPU is enabled.\n"
     ]
    },
    {
     "name": "stdout",
     "output_type": "stream",
     "text": [
      "Validation loss : 0.19089637696743011\n",
      "Validation accuracy :  0.9184148907661438\n",
      "Training with parameters: {'batch_size': 64, 'dropout_rate': 0.1, 'hidden_layers': 3, 'hidden_units': 50, 'learning_rate': 0.01}\n"
     ]
    },
    {
     "name": "stderr",
     "output_type": "stream",
     "text": [
      "2024-03-14 11:24:03.098116: I tensorflow/core/grappler/optimizers/custom_graph_optimizer_registry.cc:114] Plugin optimizer for device_type GPU is enabled.\n",
      "2024-03-14 11:24:05.132777: I tensorflow/core/grappler/optimizers/custom_graph_optimizer_registry.cc:114] Plugin optimizer for device_type GPU is enabled.\n"
     ]
    },
    {
     "name": "stdout",
     "output_type": "stream",
     "text": [
      "Validation loss : 0.5576832890510559\n",
      "Validation accuracy :  0.8298368453979492\n",
      "Training with parameters: {'batch_size': 64, 'dropout_rate': 0.1, 'hidden_layers': 3, 'hidden_units': 50, 'learning_rate': 0.1}\n"
     ]
    },
    {
     "name": "stderr",
     "output_type": "stream",
     "text": [
      "2024-03-14 11:24:14.284396: I tensorflow/core/grappler/optimizers/custom_graph_optimizer_registry.cc:114] Plugin optimizer for device_type GPU is enabled.\n",
      "2024-03-14 11:24:16.662341: I tensorflow/core/grappler/optimizers/custom_graph_optimizer_registry.cc:114] Plugin optimizer for device_type GPU is enabled.\n"
     ]
    },
    {
     "name": "stdout",
     "output_type": "stream",
     "text": [
      "Validation loss : 41.75017166137695\n",
      "Validation accuracy :  0.7762237787246704\n",
      "Training with parameters: {'batch_size': 64, 'dropout_rate': 0.1, 'hidden_layers': 3, 'hidden_units': 100, 'learning_rate': 0.001}\n"
     ]
    },
    {
     "name": "stderr",
     "output_type": "stream",
     "text": [
      "2024-03-14 11:24:26.020903: I tensorflow/core/grappler/optimizers/custom_graph_optimizer_registry.cc:114] Plugin optimizer for device_type GPU is enabled.\n",
      "2024-03-14 11:24:28.534765: I tensorflow/core/grappler/optimizers/custom_graph_optimizer_registry.cc:114] Plugin optimizer for device_type GPU is enabled.\n"
     ]
    },
    {
     "name": "stdout",
     "output_type": "stream",
     "text": [
      "Validation loss : 0.19867026805877686\n",
      "Validation accuracy :  0.9160839319229126\n",
      "Training with parameters: {'batch_size': 64, 'dropout_rate': 0.1, 'hidden_layers': 3, 'hidden_units': 100, 'learning_rate': 0.01}\n"
     ]
    },
    {
     "name": "stderr",
     "output_type": "stream",
     "text": [
      "2024-03-14 11:24:38.345910: I tensorflow/core/grappler/optimizers/custom_graph_optimizer_registry.cc:114] Plugin optimizer for device_type GPU is enabled.\n",
      "2024-03-14 11:24:40.839447: I tensorflow/core/grappler/optimizers/custom_graph_optimizer_registry.cc:114] Plugin optimizer for device_type GPU is enabled.\n"
     ]
    },
    {
     "name": "stdout",
     "output_type": "stream",
     "text": [
      "Validation loss : 0.3157676160335541\n",
      "Validation accuracy :  0.9067599177360535\n",
      "Training with parameters: {'batch_size': 64, 'dropout_rate': 0.1, 'hidden_layers': 3, 'hidden_units': 100, 'learning_rate': 0.1}\n"
     ]
    },
    {
     "name": "stderr",
     "output_type": "stream",
     "text": [
      "2024-03-14 11:24:50.308604: I tensorflow/core/grappler/optimizers/custom_graph_optimizer_registry.cc:114] Plugin optimizer for device_type GPU is enabled.\n",
      "2024-03-14 11:24:52.892916: I tensorflow/core/grappler/optimizers/custom_graph_optimizer_registry.cc:114] Plugin optimizer for device_type GPU is enabled.\n"
     ]
    },
    {
     "name": "stdout",
     "output_type": "stream",
     "text": [
      "Validation loss : 366.2060852050781\n",
      "Validation accuracy :  0.6643356680870056\n",
      "Training with parameters: {'batch_size': 64, 'dropout_rate': 0.1, 'hidden_layers': 3, 'hidden_units': 200, 'learning_rate': 0.001}\n"
     ]
    },
    {
     "name": "stderr",
     "output_type": "stream",
     "text": [
      "2024-03-14 11:25:02.410034: I tensorflow/core/grappler/optimizers/custom_graph_optimizer_registry.cc:114] Plugin optimizer for device_type GPU is enabled.\n",
      "2024-03-14 11:25:04.939784: I tensorflow/core/grappler/optimizers/custom_graph_optimizer_registry.cc:114] Plugin optimizer for device_type GPU is enabled.\n"
     ]
    },
    {
     "name": "stdout",
     "output_type": "stream",
     "text": [
      "Validation loss : 0.30386415123939514\n",
      "Validation accuracy :  0.8857808709144592\n",
      "Training with parameters: {'batch_size': 64, 'dropout_rate': 0.1, 'hidden_layers': 3, 'hidden_units': 200, 'learning_rate': 0.01}\n"
     ]
    },
    {
     "name": "stderr",
     "output_type": "stream",
     "text": [
      "2024-03-14 11:25:15.050103: I tensorflow/core/grappler/optimizers/custom_graph_optimizer_registry.cc:114] Plugin optimizer for device_type GPU is enabled.\n",
      "2024-03-14 11:25:17.577608: I tensorflow/core/grappler/optimizers/custom_graph_optimizer_registry.cc:114] Plugin optimizer for device_type GPU is enabled.\n"
     ]
    },
    {
     "name": "stdout",
     "output_type": "stream",
     "text": [
      "Validation loss : 0.7615435123443604\n",
      "Validation accuracy :  0.8578088283538818\n",
      "Training with parameters: {'batch_size': 64, 'dropout_rate': 0.1, 'hidden_layers': 3, 'hidden_units': 200, 'learning_rate': 0.1}\n"
     ]
    },
    {
     "name": "stderr",
     "output_type": "stream",
     "text": [
      "2024-03-14 11:25:27.434558: I tensorflow/core/grappler/optimizers/custom_graph_optimizer_registry.cc:114] Plugin optimizer for device_type GPU is enabled.\n",
      "2024-03-14 11:25:29.997932: I tensorflow/core/grappler/optimizers/custom_graph_optimizer_registry.cc:114] Plugin optimizer for device_type GPU is enabled.\n"
     ]
    },
    {
     "name": "stdout",
     "output_type": "stream",
     "text": [
      "Validation loss : 44423.37890625\n",
      "Validation accuracy :  0.8438228368759155\n",
      "Training with parameters: {'batch_size': 64, 'dropout_rate': 0.2, 'hidden_layers': 1, 'hidden_units': 50, 'learning_rate': 0.001}\n"
     ]
    },
    {
     "name": "stderr",
     "output_type": "stream",
     "text": [
      "2024-03-14 11:25:42.145424: I tensorflow/core/grappler/optimizers/custom_graph_optimizer_registry.cc:114] Plugin optimizer for device_type GPU is enabled.\n",
      "2024-03-14 11:25:43.778709: I tensorflow/core/grappler/optimizers/custom_graph_optimizer_registry.cc:114] Plugin optimizer for device_type GPU is enabled.\n"
     ]
    },
    {
     "name": "stdout",
     "output_type": "stream",
     "text": [
      "Validation loss : 0.16552746295928955\n",
      "Validation accuracy :  0.9254079461097717\n",
      "Training with parameters: {'batch_size': 64, 'dropout_rate': 0.2, 'hidden_layers': 1, 'hidden_units': 50, 'learning_rate': 0.01}\n"
     ]
    },
    {
     "name": "stderr",
     "output_type": "stream",
     "text": [
      "2024-03-14 11:25:53.845043: I tensorflow/core/grappler/optimizers/custom_graph_optimizer_registry.cc:114] Plugin optimizer for device_type GPU is enabled.\n",
      "2024-03-14 11:25:55.547223: I tensorflow/core/grappler/optimizers/custom_graph_optimizer_registry.cc:114] Plugin optimizer for device_type GPU is enabled.\n"
     ]
    },
    {
     "name": "stdout",
     "output_type": "stream",
     "text": [
      "Validation loss : 0.1752605438232422\n",
      "Validation accuracy :  0.9254079461097717\n",
      "Training with parameters: {'batch_size': 64, 'dropout_rate': 0.2, 'hidden_layers': 1, 'hidden_units': 50, 'learning_rate': 0.1}\n"
     ]
    },
    {
     "name": "stderr",
     "output_type": "stream",
     "text": [
      "2024-03-14 11:26:03.708346: I tensorflow/core/grappler/optimizers/custom_graph_optimizer_registry.cc:114] Plugin optimizer for device_type GPU is enabled.\n",
      "2024-03-14 11:26:05.437178: I tensorflow/core/grappler/optimizers/custom_graph_optimizer_registry.cc:114] Plugin optimizer for device_type GPU is enabled.\n"
     ]
    },
    {
     "name": "stdout",
     "output_type": "stream",
     "text": [
      "Validation loss : 1.4123879671096802\n",
      "Validation accuracy :  0.883449912071228\n",
      "Training with parameters: {'batch_size': 64, 'dropout_rate': 0.2, 'hidden_layers': 1, 'hidden_units': 100, 'learning_rate': 0.001}\n"
     ]
    },
    {
     "name": "stderr",
     "output_type": "stream",
     "text": [
      "2024-03-14 11:26:13.076025: I tensorflow/core/grappler/optimizers/custom_graph_optimizer_registry.cc:114] Plugin optimizer for device_type GPU is enabled.\n",
      "2024-03-14 11:26:14.767116: I tensorflow/core/grappler/optimizers/custom_graph_optimizer_registry.cc:114] Plugin optimizer for device_type GPU is enabled.\n"
     ]
    },
    {
     "name": "stdout",
     "output_type": "stream",
     "text": [
      "Validation loss : 0.19158920645713806\n",
      "Validation accuracy :  0.9207459092140198\n",
      "Training with parameters: {'batch_size': 64, 'dropout_rate': 0.2, 'hidden_layers': 1, 'hidden_units': 100, 'learning_rate': 0.01}\n"
     ]
    },
    {
     "name": "stderr",
     "output_type": "stream",
     "text": [
      "2024-03-14 11:26:25.409066: I tensorflow/core/grappler/optimizers/custom_graph_optimizer_registry.cc:114] Plugin optimizer for device_type GPU is enabled.\n",
      "2024-03-14 11:26:27.248163: I tensorflow/core/grappler/optimizers/custom_graph_optimizer_registry.cc:114] Plugin optimizer for device_type GPU is enabled.\n"
     ]
    },
    {
     "name": "stdout",
     "output_type": "stream",
     "text": [
      "Validation loss : 0.33375033736228943\n",
      "Validation accuracy :  0.8904429078102112\n",
      "Training with parameters: {'batch_size': 64, 'dropout_rate': 0.2, 'hidden_layers': 1, 'hidden_units': 100, 'learning_rate': 0.1}\n"
     ]
    },
    {
     "name": "stderr",
     "output_type": "stream",
     "text": [
      "2024-03-14 11:26:35.337776: I tensorflow/core/grappler/optimizers/custom_graph_optimizer_registry.cc:114] Plugin optimizer for device_type GPU is enabled.\n",
      "2024-03-14 11:26:37.116571: I tensorflow/core/grappler/optimizers/custom_graph_optimizer_registry.cc:114] Plugin optimizer for device_type GPU is enabled.\n"
     ]
    },
    {
     "name": "stdout",
     "output_type": "stream",
     "text": [
      "Validation loss : 3.2236721515655518\n",
      "Validation accuracy :  0.8904429078102112\n",
      "Training with parameters: {'batch_size': 64, 'dropout_rate': 0.2, 'hidden_layers': 1, 'hidden_units': 200, 'learning_rate': 0.001}\n"
     ]
    },
    {
     "name": "stderr",
     "output_type": "stream",
     "text": [
      "2024-03-14 11:26:45.158529: I tensorflow/core/grappler/optimizers/custom_graph_optimizer_registry.cc:114] Plugin optimizer for device_type GPU is enabled.\n",
      "2024-03-14 11:26:47.039441: I tensorflow/core/grappler/optimizers/custom_graph_optimizer_registry.cc:114] Plugin optimizer for device_type GPU is enabled.\n"
     ]
    },
    {
     "name": "stdout",
     "output_type": "stream",
     "text": [
      "Validation loss : 0.17323607206344604\n",
      "Validation accuracy :  0.9184148907661438\n",
      "Training with parameters: {'batch_size': 64, 'dropout_rate': 0.2, 'hidden_layers': 1, 'hidden_units': 200, 'learning_rate': 0.01}\n"
     ]
    },
    {
     "name": "stderr",
     "output_type": "stream",
     "text": [
      "2024-03-14 11:26:55.356489: I tensorflow/core/grappler/optimizers/custom_graph_optimizer_registry.cc:114] Plugin optimizer for device_type GPU is enabled.\n",
      "2024-03-14 11:26:57.267173: I tensorflow/core/grappler/optimizers/custom_graph_optimizer_registry.cc:114] Plugin optimizer for device_type GPU is enabled.\n"
     ]
    },
    {
     "name": "stdout",
     "output_type": "stream",
     "text": [
      "Validation loss : 0.29165640473365784\n",
      "Validation accuracy :  0.8997669219970703\n",
      "Training with parameters: {'batch_size': 64, 'dropout_rate': 0.2, 'hidden_layers': 1, 'hidden_units': 200, 'learning_rate': 0.1}\n"
     ]
    },
    {
     "name": "stderr",
     "output_type": "stream",
     "text": [
      "2024-03-14 11:27:05.360847: I tensorflow/core/grappler/optimizers/custom_graph_optimizer_registry.cc:114] Plugin optimizer for device_type GPU is enabled.\n",
      "2024-03-14 11:27:07.273813: I tensorflow/core/grappler/optimizers/custom_graph_optimizer_registry.cc:114] Plugin optimizer for device_type GPU is enabled.\n"
     ]
    },
    {
     "name": "stdout",
     "output_type": "stream",
     "text": [
      "Validation loss : 34.69442367553711\n",
      "Validation accuracy :  0.8368298411369324\n",
      "Training with parameters: {'batch_size': 64, 'dropout_rate': 0.2, 'hidden_layers': 2, 'hidden_units': 50, 'learning_rate': 0.001}\n"
     ]
    },
    {
     "name": "stderr",
     "output_type": "stream",
     "text": [
      "2024-03-14 11:27:15.408992: I tensorflow/core/grappler/optimizers/custom_graph_optimizer_registry.cc:114] Plugin optimizer for device_type GPU is enabled.\n",
      "2024-03-14 11:27:17.715338: I tensorflow/core/grappler/optimizers/custom_graph_optimizer_registry.cc:114] Plugin optimizer for device_type GPU is enabled.\n"
     ]
    },
    {
     "name": "stdout",
     "output_type": "stream",
     "text": [
      "Validation loss : 0.1851806789636612\n",
      "Validation accuracy :  0.9137529134750366\n",
      "Training with parameters: {'batch_size': 64, 'dropout_rate': 0.2, 'hidden_layers': 2, 'hidden_units': 50, 'learning_rate': 0.01}\n"
     ]
    },
    {
     "name": "stderr",
     "output_type": "stream",
     "text": [
      "2024-03-14 11:27:27.939280: I tensorflow/core/grappler/optimizers/custom_graph_optimizer_registry.cc:114] Plugin optimizer for device_type GPU is enabled.\n",
      "2024-03-14 11:27:30.213298: I tensorflow/core/grappler/optimizers/custom_graph_optimizer_registry.cc:114] Plugin optimizer for device_type GPU is enabled.\n"
     ]
    },
    {
     "name": "stdout",
     "output_type": "stream",
     "text": [
      "Validation loss : 0.20042668282985687\n",
      "Validation accuracy :  0.9207459092140198\n",
      "Training with parameters: {'batch_size': 64, 'dropout_rate': 0.2, 'hidden_layers': 2, 'hidden_units': 50, 'learning_rate': 0.1}\n"
     ]
    },
    {
     "name": "stderr",
     "output_type": "stream",
     "text": [
      "2024-03-14 11:27:39.049375: I tensorflow/core/grappler/optimizers/custom_graph_optimizer_registry.cc:114] Plugin optimizer for device_type GPU is enabled.\n",
      "2024-03-14 11:27:41.291770: I tensorflow/core/grappler/optimizers/custom_graph_optimizer_registry.cc:114] Plugin optimizer for device_type GPU is enabled.\n"
     ]
    },
    {
     "name": "stdout",
     "output_type": "stream",
     "text": [
      "Validation loss : 7.157870292663574\n",
      "Validation accuracy :  0.8904429078102112\n",
      "Training with parameters: {'batch_size': 64, 'dropout_rate': 0.2, 'hidden_layers': 2, 'hidden_units': 100, 'learning_rate': 0.001}\n"
     ]
    },
    {
     "name": "stderr",
     "output_type": "stream",
     "text": [
      "2024-03-14 11:27:50.089829: I tensorflow/core/grappler/optimizers/custom_graph_optimizer_registry.cc:114] Plugin optimizer for device_type GPU is enabled.\n",
      "2024-03-14 11:27:52.505993: I tensorflow/core/grappler/optimizers/custom_graph_optimizer_registry.cc:114] Plugin optimizer for device_type GPU is enabled.\n"
     ]
    },
    {
     "name": "stdout",
     "output_type": "stream",
     "text": [
      "Validation loss : 0.16899847984313965\n",
      "Validation accuracy :  0.9230769276618958\n",
      "Training with parameters: {'batch_size': 64, 'dropout_rate': 0.2, 'hidden_layers': 2, 'hidden_units': 100, 'learning_rate': 0.01}\n"
     ]
    },
    {
     "name": "stderr",
     "output_type": "stream",
     "text": [
      "2024-03-14 11:28:01.778282: I tensorflow/core/grappler/optimizers/custom_graph_optimizer_registry.cc:114] Plugin optimizer for device_type GPU is enabled.\n",
      "2024-03-14 11:28:04.044568: I tensorflow/core/grappler/optimizers/custom_graph_optimizer_registry.cc:114] Plugin optimizer for device_type GPU is enabled.\n"
     ]
    },
    {
     "name": "stdout",
     "output_type": "stream",
     "text": [
      "Validation loss : 0.2872779369354248\n",
      "Validation accuracy :  0.9114218950271606\n",
      "Training with parameters: {'batch_size': 64, 'dropout_rate': 0.2, 'hidden_layers': 2, 'hidden_units': 100, 'learning_rate': 0.1}\n"
     ]
    },
    {
     "name": "stderr",
     "output_type": "stream",
     "text": [
      "2024-03-14 11:28:12.979923: I tensorflow/core/grappler/optimizers/custom_graph_optimizer_registry.cc:114] Plugin optimizer for device_type GPU is enabled.\n",
      "2024-03-14 11:28:15.387892: I tensorflow/core/grappler/optimizers/custom_graph_optimizer_registry.cc:114] Plugin optimizer for device_type GPU is enabled.\n"
     ]
    },
    {
     "name": "stdout",
     "output_type": "stream",
     "text": [
      "Validation loss : 13.46578311920166\n",
      "Validation accuracy :  0.8764568567276001\n",
      "Training with parameters: {'batch_size': 64, 'dropout_rate': 0.2, 'hidden_layers': 2, 'hidden_units': 200, 'learning_rate': 0.001}\n"
     ]
    },
    {
     "name": "stderr",
     "output_type": "stream",
     "text": [
      "2024-03-14 11:28:24.350381: I tensorflow/core/grappler/optimizers/custom_graph_optimizer_registry.cc:114] Plugin optimizer for device_type GPU is enabled.\n",
      "2024-03-14 11:28:26.822068: I tensorflow/core/grappler/optimizers/custom_graph_optimizer_registry.cc:114] Plugin optimizer for device_type GPU is enabled.\n"
     ]
    },
    {
     "name": "stdout",
     "output_type": "stream",
     "text": [
      "Validation loss : 0.16155032813549042\n",
      "Validation accuracy :  0.9230769276618958\n",
      "Training with parameters: {'batch_size': 64, 'dropout_rate': 0.2, 'hidden_layers': 2, 'hidden_units': 200, 'learning_rate': 0.01}\n"
     ]
    },
    {
     "name": "stderr",
     "output_type": "stream",
     "text": [
      "2024-03-14 11:28:36.356012: I tensorflow/core/grappler/optimizers/custom_graph_optimizer_registry.cc:114] Plugin optimizer for device_type GPU is enabled.\n",
      "2024-03-14 11:28:38.750409: I tensorflow/core/grappler/optimizers/custom_graph_optimizer_registry.cc:114] Plugin optimizer for device_type GPU is enabled.\n"
     ]
    },
    {
     "name": "stdout",
     "output_type": "stream",
     "text": [
      "Validation loss : 0.29411551356315613\n",
      "Validation accuracy :  0.9160839319229126\n",
      "Training with parameters: {'batch_size': 64, 'dropout_rate': 0.2, 'hidden_layers': 2, 'hidden_units': 200, 'learning_rate': 0.1}\n"
     ]
    },
    {
     "name": "stderr",
     "output_type": "stream",
     "text": [
      "2024-03-14 11:28:47.883199: I tensorflow/core/grappler/optimizers/custom_graph_optimizer_registry.cc:114] Plugin optimizer for device_type GPU is enabled.\n",
      "2024-03-14 11:28:50.127525: I tensorflow/core/grappler/optimizers/custom_graph_optimizer_registry.cc:114] Plugin optimizer for device_type GPU is enabled.\n"
     ]
    },
    {
     "name": "stdout",
     "output_type": "stream",
     "text": [
      "Validation loss : 289.5208740234375\n",
      "Validation accuracy :  0.8951048851013184\n",
      "Training with parameters: {'batch_size': 64, 'dropout_rate': 0.2, 'hidden_layers': 3, 'hidden_units': 50, 'learning_rate': 0.001}\n"
     ]
    },
    {
     "name": "stderr",
     "output_type": "stream",
     "text": [
      "2024-03-14 11:28:58.929168: I tensorflow/core/grappler/optimizers/custom_graph_optimizer_registry.cc:114] Plugin optimizer for device_type GPU is enabled.\n",
      "2024-03-14 11:29:01.539885: I tensorflow/core/grappler/optimizers/custom_graph_optimizer_registry.cc:114] Plugin optimizer for device_type GPU is enabled.\n"
     ]
    },
    {
     "name": "stdout",
     "output_type": "stream",
     "text": [
      "Validation loss : 0.1872916966676712\n",
      "Validation accuracy :  0.9254079461097717\n",
      "Training with parameters: {'batch_size': 64, 'dropout_rate': 0.2, 'hidden_layers': 3, 'hidden_units': 50, 'learning_rate': 0.01}\n"
     ]
    },
    {
     "name": "stderr",
     "output_type": "stream",
     "text": [
      "2024-03-14 11:29:11.969720: I tensorflow/core/grappler/optimizers/custom_graph_optimizer_registry.cc:114] Plugin optimizer for device_type GPU is enabled.\n",
      "2024-03-14 11:29:14.427966: I tensorflow/core/grappler/optimizers/custom_graph_optimizer_registry.cc:114] Plugin optimizer for device_type GPU is enabled.\n"
     ]
    },
    {
     "name": "stdout",
     "output_type": "stream",
     "text": [
      "Validation loss : 0.35878291726112366\n",
      "Validation accuracy :  0.8881118893623352\n",
      "Training with parameters: {'batch_size': 64, 'dropout_rate': 0.2, 'hidden_layers': 3, 'hidden_units': 50, 'learning_rate': 0.1}\n"
     ]
    },
    {
     "name": "stderr",
     "output_type": "stream",
     "text": [
      "2024-03-14 11:29:23.892697: I tensorflow/core/grappler/optimizers/custom_graph_optimizer_registry.cc:114] Plugin optimizer for device_type GPU is enabled.\n",
      "2024-03-14 11:29:26.390275: I tensorflow/core/grappler/optimizers/custom_graph_optimizer_registry.cc:114] Plugin optimizer for device_type GPU is enabled.\n"
     ]
    },
    {
     "name": "stdout",
     "output_type": "stream",
     "text": [
      "Validation loss : 400.6495056152344\n",
      "Validation accuracy :  0.2960372865200043\n",
      "Training with parameters: {'batch_size': 64, 'dropout_rate': 0.2, 'hidden_layers': 3, 'hidden_units': 100, 'learning_rate': 0.001}\n"
     ]
    },
    {
     "name": "stderr",
     "output_type": "stream",
     "text": [
      "2024-03-14 11:29:36.092913: I tensorflow/core/grappler/optimizers/custom_graph_optimizer_registry.cc:114] Plugin optimizer for device_type GPU is enabled.\n",
      "2024-03-14 11:29:38.725525: I tensorflow/core/grappler/optimizers/custom_graph_optimizer_registry.cc:114] Plugin optimizer for device_type GPU is enabled.\n"
     ]
    },
    {
     "name": "stdout",
     "output_type": "stream",
     "text": [
      "Validation loss : 0.17654527723789215\n",
      "Validation accuracy :  0.9184148907661438\n",
      "Training with parameters: {'batch_size': 64, 'dropout_rate': 0.2, 'hidden_layers': 3, 'hidden_units': 100, 'learning_rate': 0.01}\n"
     ]
    },
    {
     "name": "stderr",
     "output_type": "stream",
     "text": [
      "2024-03-14 11:29:49.054812: I tensorflow/core/grappler/optimizers/custom_graph_optimizer_registry.cc:114] Plugin optimizer for device_type GPU is enabled.\n",
      "2024-03-14 11:29:51.812275: I tensorflow/core/grappler/optimizers/custom_graph_optimizer_registry.cc:114] Plugin optimizer for device_type GPU is enabled.\n"
     ]
    },
    {
     "name": "stdout",
     "output_type": "stream",
     "text": [
      "Validation loss : 1.322777509689331\n",
      "Validation accuracy :  0.7738927602767944\n",
      "Training with parameters: {'batch_size': 64, 'dropout_rate': 0.2, 'hidden_layers': 3, 'hidden_units': 100, 'learning_rate': 0.1}\n"
     ]
    },
    {
     "name": "stderr",
     "output_type": "stream",
     "text": [
      "2024-03-14 11:30:01.482992: I tensorflow/core/grappler/optimizers/custom_graph_optimizer_registry.cc:114] Plugin optimizer for device_type GPU is enabled.\n",
      "2024-03-14 11:30:04.036005: I tensorflow/core/grappler/optimizers/custom_graph_optimizer_registry.cc:114] Plugin optimizer for device_type GPU is enabled.\n"
     ]
    },
    {
     "name": "stdout",
     "output_type": "stream",
     "text": [
      "Validation loss : 482.5060119628906\n",
      "Validation accuracy :  0.7738927602767944\n",
      "Training with parameters: {'batch_size': 64, 'dropout_rate': 0.2, 'hidden_layers': 3, 'hidden_units': 200, 'learning_rate': 0.001}\n"
     ]
    },
    {
     "name": "stderr",
     "output_type": "stream",
     "text": [
      "2024-03-14 11:30:14.192319: I tensorflow/core/grappler/optimizers/custom_graph_optimizer_registry.cc:114] Plugin optimizer for device_type GPU is enabled.\n",
      "2024-03-14 11:30:17.219797: I tensorflow/core/grappler/optimizers/custom_graph_optimizer_registry.cc:114] Plugin optimizer for device_type GPU is enabled.\n"
     ]
    },
    {
     "name": "stdout",
     "output_type": "stream",
     "text": [
      "Validation loss : 0.20974262058734894\n",
      "Validation accuracy :  0.9090909361839294\n",
      "Training with parameters: {'batch_size': 64, 'dropout_rate': 0.2, 'hidden_layers': 3, 'hidden_units': 200, 'learning_rate': 0.01}\n"
     ]
    },
    {
     "name": "stderr",
     "output_type": "stream",
     "text": [
      "2024-03-14 11:30:30.129169: I tensorflow/core/grappler/optimizers/custom_graph_optimizer_registry.cc:114] Plugin optimizer for device_type GPU is enabled.\n",
      "2024-03-14 11:30:33.340158: I tensorflow/core/grappler/optimizers/custom_graph_optimizer_registry.cc:114] Plugin optimizer for device_type GPU is enabled.\n"
     ]
    },
    {
     "name": "stdout",
     "output_type": "stream",
     "text": [
      "Validation loss : 0.8263697028160095\n",
      "Validation accuracy :  0.8741258978843689\n",
      "Training with parameters: {'batch_size': 64, 'dropout_rate': 0.2, 'hidden_layers': 3, 'hidden_units': 200, 'learning_rate': 0.1}\n"
     ]
    },
    {
     "name": "stderr",
     "output_type": "stream",
     "text": [
      "2024-03-14 11:30:43.732800: I tensorflow/core/grappler/optimizers/custom_graph_optimizer_registry.cc:114] Plugin optimizer for device_type GPU is enabled.\n",
      "2024-03-14 11:30:46.694343: I tensorflow/core/grappler/optimizers/custom_graph_optimizer_registry.cc:114] Plugin optimizer for device_type GPU is enabled.\n"
     ]
    },
    {
     "name": "stdout",
     "output_type": "stream",
     "text": [
      "Validation loss : 6470.54296875\n",
      "Validation accuracy :  0.9020978808403015\n",
      "Training with parameters: {'batch_size': 64, 'dropout_rate': 0.3, 'hidden_layers': 1, 'hidden_units': 50, 'learning_rate': 0.001}\n"
     ]
    },
    {
     "name": "stderr",
     "output_type": "stream",
     "text": [
      "2024-03-14 11:30:56.638086: I tensorflow/core/grappler/optimizers/custom_graph_optimizer_registry.cc:114] Plugin optimizer for device_type GPU is enabled.\n",
      "2024-03-14 11:30:58.926639: I tensorflow/core/grappler/optimizers/custom_graph_optimizer_registry.cc:114] Plugin optimizer for device_type GPU is enabled.\n"
     ]
    },
    {
     "name": "stdout",
     "output_type": "stream",
     "text": [
      "Validation loss : 0.17990602552890778\n",
      "Validation accuracy :  0.9184148907661438\n",
      "Training with parameters: {'batch_size': 64, 'dropout_rate': 0.3, 'hidden_layers': 1, 'hidden_units': 50, 'learning_rate': 0.01}\n"
     ]
    },
    {
     "name": "stderr",
     "output_type": "stream",
     "text": [
      "2024-03-14 11:31:10.589037: I tensorflow/core/grappler/optimizers/custom_graph_optimizer_registry.cc:114] Plugin optimizer for device_type GPU is enabled.\n",
      "2024-03-14 11:31:12.751221: I tensorflow/core/grappler/optimizers/custom_graph_optimizer_registry.cc:114] Plugin optimizer for device_type GPU is enabled.\n"
     ]
    },
    {
     "name": "stdout",
     "output_type": "stream",
     "text": [
      "Validation loss : 0.19667953252792358\n",
      "Validation accuracy :  0.8997669219970703\n",
      "Training with parameters: {'batch_size': 64, 'dropout_rate': 0.3, 'hidden_layers': 1, 'hidden_units': 50, 'learning_rate': 0.1}\n"
     ]
    },
    {
     "name": "stderr",
     "output_type": "stream",
     "text": [
      "2024-03-14 11:31:21.550719: I tensorflow/core/grappler/optimizers/custom_graph_optimizer_registry.cc:114] Plugin optimizer for device_type GPU is enabled.\n",
      "2024-03-14 11:31:23.986976: I tensorflow/core/grappler/optimizers/custom_graph_optimizer_registry.cc:114] Plugin optimizer for device_type GPU is enabled.\n"
     ]
    },
    {
     "name": "stdout",
     "output_type": "stream",
     "text": [
      "Validation loss : 2.8904030323028564\n",
      "Validation accuracy :  0.8298368453979492\n",
      "Training with parameters: {'batch_size': 64, 'dropout_rate': 0.3, 'hidden_layers': 1, 'hidden_units': 100, 'learning_rate': 0.001}\n"
     ]
    },
    {
     "name": "stderr",
     "output_type": "stream",
     "text": [
      "2024-03-14 11:31:32.691882: I tensorflow/core/grappler/optimizers/custom_graph_optimizer_registry.cc:114] Plugin optimizer for device_type GPU is enabled.\n",
      "2024-03-14 11:31:35.312164: I tensorflow/core/grappler/optimizers/custom_graph_optimizer_registry.cc:114] Plugin optimizer for device_type GPU is enabled.\n"
     ]
    },
    {
     "name": "stdout",
     "output_type": "stream",
     "text": [
      "Validation loss : 0.16348545253276825\n",
      "Validation accuracy :  0.9230769276618958\n",
      "Training with parameters: {'batch_size': 64, 'dropout_rate': 0.3, 'hidden_layers': 1, 'hidden_units': 100, 'learning_rate': 0.01}\n"
     ]
    },
    {
     "name": "stderr",
     "output_type": "stream",
     "text": [
      "2024-03-14 11:31:45.838528: I tensorflow/core/grappler/optimizers/custom_graph_optimizer_registry.cc:114] Plugin optimizer for device_type GPU is enabled.\n",
      "2024-03-14 11:31:48.484076: I tensorflow/core/grappler/optimizers/custom_graph_optimizer_registry.cc:114] Plugin optimizer for device_type GPU is enabled.\n"
     ]
    },
    {
     "name": "stdout",
     "output_type": "stream",
     "text": [
      "Validation loss : 0.19063134491443634\n",
      "Validation accuracy :  0.9137529134750366\n",
      "Training with parameters: {'batch_size': 64, 'dropout_rate': 0.3, 'hidden_layers': 1, 'hidden_units': 100, 'learning_rate': 0.1}\n"
     ]
    },
    {
     "name": "stderr",
     "output_type": "stream",
     "text": [
      "2024-03-14 11:31:56.944723: I tensorflow/core/grappler/optimizers/custom_graph_optimizer_registry.cc:114] Plugin optimizer for device_type GPU is enabled.\n",
      "2024-03-14 11:31:59.300888: I tensorflow/core/grappler/optimizers/custom_graph_optimizer_registry.cc:114] Plugin optimizer for device_type GPU is enabled.\n"
     ]
    },
    {
     "name": "stdout",
     "output_type": "stream",
     "text": [
      "Validation loss : 8.155594825744629\n",
      "Validation accuracy :  0.8298368453979492\n",
      "Training with parameters: {'batch_size': 64, 'dropout_rate': 0.3, 'hidden_layers': 1, 'hidden_units': 200, 'learning_rate': 0.001}\n"
     ]
    },
    {
     "name": "stderr",
     "output_type": "stream",
     "text": [
      "2024-03-14 11:32:07.813982: I tensorflow/core/grappler/optimizers/custom_graph_optimizer_registry.cc:114] Plugin optimizer for device_type GPU is enabled.\n",
      "2024-03-14 11:32:09.958738: I tensorflow/core/grappler/optimizers/custom_graph_optimizer_registry.cc:114] Plugin optimizer for device_type GPU is enabled.\n"
     ]
    },
    {
     "name": "stdout",
     "output_type": "stream",
     "text": [
      "Validation loss : 0.15556225180625916\n",
      "Validation accuracy :  0.9277389049530029\n",
      "Training with parameters: {'batch_size': 64, 'dropout_rate': 0.3, 'hidden_layers': 1, 'hidden_units': 200, 'learning_rate': 0.01}\n"
     ]
    },
    {
     "name": "stderr",
     "output_type": "stream",
     "text": [
      "2024-03-14 11:32:19.419758: I tensorflow/core/grappler/optimizers/custom_graph_optimizer_registry.cc:114] Plugin optimizer for device_type GPU is enabled.\n",
      "2024-03-14 11:32:21.849271: I tensorflow/core/grappler/optimizers/custom_graph_optimizer_registry.cc:114] Plugin optimizer for device_type GPU is enabled.\n"
     ]
    },
    {
     "name": "stdout",
     "output_type": "stream",
     "text": [
      "Validation loss : 0.279255211353302\n",
      "Validation accuracy :  0.8881118893623352\n",
      "Training with parameters: {'batch_size': 64, 'dropout_rate': 0.3, 'hidden_layers': 1, 'hidden_units': 200, 'learning_rate': 0.1}\n"
     ]
    },
    {
     "name": "stderr",
     "output_type": "stream",
     "text": [
      "2024-03-14 11:32:30.246485: I tensorflow/core/grappler/optimizers/custom_graph_optimizer_registry.cc:114] Plugin optimizer for device_type GPU is enabled.\n",
      "2024-03-14 11:32:32.802224: I tensorflow/core/grappler/optimizers/custom_graph_optimizer_registry.cc:114] Plugin optimizer for device_type GPU is enabled.\n"
     ]
    },
    {
     "name": "stdout",
     "output_type": "stream",
     "text": [
      "Validation loss : 4.883139610290527\n",
      "Validation accuracy :  0.8857808709144592\n",
      "Training with parameters: {'batch_size': 64, 'dropout_rate': 0.3, 'hidden_layers': 2, 'hidden_units': 50, 'learning_rate': 0.001}\n"
     ]
    },
    {
     "name": "stderr",
     "output_type": "stream",
     "text": [
      "2024-03-14 11:32:41.501756: I tensorflow/core/grappler/optimizers/custom_graph_optimizer_registry.cc:114] Plugin optimizer for device_type GPU is enabled.\n",
      "2024-03-14 11:32:44.349685: I tensorflow/core/grappler/optimizers/custom_graph_optimizer_registry.cc:114] Plugin optimizer for device_type GPU is enabled.\n"
     ]
    },
    {
     "name": "stdout",
     "output_type": "stream",
     "text": [
      "Validation loss : 0.1882178634405136\n",
      "Validation accuracy :  0.9207459092140198\n",
      "Training with parameters: {'batch_size': 64, 'dropout_rate': 0.3, 'hidden_layers': 2, 'hidden_units': 50, 'learning_rate': 0.01}\n"
     ]
    },
    {
     "name": "stderr",
     "output_type": "stream",
     "text": [
      "2024-03-14 11:32:55.790553: I tensorflow/core/grappler/optimizers/custom_graph_optimizer_registry.cc:114] Plugin optimizer for device_type GPU is enabled.\n",
      "2024-03-14 11:32:58.156486: I tensorflow/core/grappler/optimizers/custom_graph_optimizer_registry.cc:114] Plugin optimizer for device_type GPU is enabled.\n"
     ]
    },
    {
     "name": "stdout",
     "output_type": "stream",
     "text": [
      "Validation loss : 0.2189403623342514\n",
      "Validation accuracy :  0.9067599177360535\n",
      "Training with parameters: {'batch_size': 64, 'dropout_rate': 0.3, 'hidden_layers': 2, 'hidden_units': 50, 'learning_rate': 0.1}\n"
     ]
    },
    {
     "name": "stderr",
     "output_type": "stream",
     "text": [
      "2024-03-14 11:33:07.520034: I tensorflow/core/grappler/optimizers/custom_graph_optimizer_registry.cc:114] Plugin optimizer for device_type GPU is enabled.\n",
      "2024-03-14 11:33:09.763267: I tensorflow/core/grappler/optimizers/custom_graph_optimizer_registry.cc:114] Plugin optimizer for device_type GPU is enabled.\n"
     ]
    },
    {
     "name": "stdout",
     "output_type": "stream",
     "text": [
      "Validation loss : 7.319791316986084\n",
      "Validation accuracy :  0.883449912071228\n",
      "Training with parameters: {'batch_size': 64, 'dropout_rate': 0.3, 'hidden_layers': 2, 'hidden_units': 100, 'learning_rate': 0.001}\n"
     ]
    },
    {
     "name": "stderr",
     "output_type": "stream",
     "text": [
      "2024-03-14 11:33:19.333322: I tensorflow/core/grappler/optimizers/custom_graph_optimizer_registry.cc:114] Plugin optimizer for device_type GPU is enabled.\n",
      "2024-03-14 11:33:21.945325: I tensorflow/core/grappler/optimizers/custom_graph_optimizer_registry.cc:114] Plugin optimizer for device_type GPU is enabled.\n"
     ]
    },
    {
     "name": "stdout",
     "output_type": "stream",
     "text": [
      "Validation loss : 0.1616273671388626\n",
      "Validation accuracy :  0.9324009418487549\n",
      "Training with parameters: {'batch_size': 64, 'dropout_rate': 0.3, 'hidden_layers': 2, 'hidden_units': 100, 'learning_rate': 0.01}\n"
     ]
    },
    {
     "name": "stderr",
     "output_type": "stream",
     "text": [
      "2024-03-14 11:33:32.030314: I tensorflow/core/grappler/optimizers/custom_graph_optimizer_registry.cc:114] Plugin optimizer for device_type GPU is enabled.\n",
      "2024-03-14 11:33:35.264195: I tensorflow/core/grappler/optimizers/custom_graph_optimizer_registry.cc:114] Plugin optimizer for device_type GPU is enabled.\n"
     ]
    },
    {
     "name": "stdout",
     "output_type": "stream",
     "text": [
      "Validation loss : 0.22351627051830292\n",
      "Validation accuracy :  0.9184148907661438\n",
      "Training with parameters: {'batch_size': 64, 'dropout_rate': 0.3, 'hidden_layers': 2, 'hidden_units': 100, 'learning_rate': 0.1}\n"
     ]
    },
    {
     "name": "stderr",
     "output_type": "stream",
     "text": [
      "2024-03-14 11:33:44.838167: I tensorflow/core/grappler/optimizers/custom_graph_optimizer_registry.cc:114] Plugin optimizer for device_type GPU is enabled.\n",
      "2024-03-14 11:33:47.859082: I tensorflow/core/grappler/optimizers/custom_graph_optimizer_registry.cc:114] Plugin optimizer for device_type GPU is enabled.\n"
     ]
    },
    {
     "name": "stdout",
     "output_type": "stream",
     "text": [
      "Validation loss : 21.601633071899414\n",
      "Validation accuracy :  0.883449912071228\n",
      "Training with parameters: {'batch_size': 64, 'dropout_rate': 0.3, 'hidden_layers': 2, 'hidden_units': 200, 'learning_rate': 0.001}\n"
     ]
    },
    {
     "name": "stderr",
     "output_type": "stream",
     "text": [
      "2024-03-14 11:33:57.538758: I tensorflow/core/grappler/optimizers/custom_graph_optimizer_registry.cc:114] Plugin optimizer for device_type GPU is enabled.\n",
      "2024-03-14 11:34:00.325353: I tensorflow/core/grappler/optimizers/custom_graph_optimizer_registry.cc:114] Plugin optimizer for device_type GPU is enabled.\n"
     ]
    },
    {
     "name": "stdout",
     "output_type": "stream",
     "text": [
      "Validation loss : 0.17662547528743744\n",
      "Validation accuracy :  0.9137529134750366\n",
      "Training with parameters: {'batch_size': 64, 'dropout_rate': 0.3, 'hidden_layers': 2, 'hidden_units': 200, 'learning_rate': 0.01}\n"
     ]
    },
    {
     "name": "stderr",
     "output_type": "stream",
     "text": [
      "2024-03-14 11:34:10.403321: I tensorflow/core/grappler/optimizers/custom_graph_optimizer_registry.cc:114] Plugin optimizer for device_type GPU is enabled.\n",
      "2024-03-14 11:34:13.802944: I tensorflow/core/grappler/optimizers/custom_graph_optimizer_registry.cc:114] Plugin optimizer for device_type GPU is enabled.\n"
     ]
    },
    {
     "name": "stdout",
     "output_type": "stream",
     "text": [
      "Validation loss : 1.1684280633926392\n",
      "Validation accuracy :  0.8251748085021973\n",
      "Training with parameters: {'batch_size': 64, 'dropout_rate': 0.3, 'hidden_layers': 2, 'hidden_units': 200, 'learning_rate': 0.1}\n"
     ]
    },
    {
     "name": "stderr",
     "output_type": "stream",
     "text": [
      "2024-03-14 11:34:24.082667: I tensorflow/core/grappler/optimizers/custom_graph_optimizer_registry.cc:114] Plugin optimizer for device_type GPU is enabled.\n",
      "2024-03-14 11:34:27.629298: I tensorflow/core/grappler/optimizers/custom_graph_optimizer_registry.cc:114] Plugin optimizer for device_type GPU is enabled.\n"
     ]
    },
    {
     "name": "stdout",
     "output_type": "stream",
     "text": [
      "Validation loss : 341.37841796875\n",
      "Validation accuracy :  0.8368298411369324\n",
      "Training with parameters: {'batch_size': 64, 'dropout_rate': 0.3, 'hidden_layers': 3, 'hidden_units': 50, 'learning_rate': 0.001}\n"
     ]
    },
    {
     "name": "stderr",
     "output_type": "stream",
     "text": [
      "2024-03-14 11:34:37.552304: I tensorflow/core/grappler/optimizers/custom_graph_optimizer_registry.cc:114] Plugin optimizer for device_type GPU is enabled.\n",
      "2024-03-14 11:34:41.668171: I tensorflow/core/grappler/optimizers/custom_graph_optimizer_registry.cc:114] Plugin optimizer for device_type GPU is enabled.\n"
     ]
    },
    {
     "name": "stdout",
     "output_type": "stream",
     "text": [
      "Validation loss : 0.20496360957622528\n",
      "Validation accuracy :  0.9067599177360535\n",
      "Training with parameters: {'batch_size': 64, 'dropout_rate': 0.3, 'hidden_layers': 3, 'hidden_units': 50, 'learning_rate': 0.01}\n"
     ]
    },
    {
     "name": "stderr",
     "output_type": "stream",
     "text": [
      "2024-03-14 11:34:53.907625: I tensorflow/core/grappler/optimizers/custom_graph_optimizer_registry.cc:114] Plugin optimizer for device_type GPU is enabled.\n",
      "2024-03-14 11:34:57.852316: I tensorflow/core/grappler/optimizers/custom_graph_optimizer_registry.cc:114] Plugin optimizer for device_type GPU is enabled.\n"
     ]
    },
    {
     "name": "stdout",
     "output_type": "stream",
     "text": [
      "Validation loss : 0.18534520268440247\n",
      "Validation accuracy :  0.9160839319229126\n",
      "Training with parameters: {'batch_size': 64, 'dropout_rate': 0.3, 'hidden_layers': 3, 'hidden_units': 50, 'learning_rate': 0.1}\n"
     ]
    },
    {
     "name": "stderr",
     "output_type": "stream",
     "text": [
      "2024-03-14 11:35:08.765193: I tensorflow/core/grappler/optimizers/custom_graph_optimizer_registry.cc:114] Plugin optimizer for device_type GPU is enabled.\n",
      "2024-03-14 11:35:12.438632: I tensorflow/core/grappler/optimizers/custom_graph_optimizer_registry.cc:114] Plugin optimizer for device_type GPU is enabled.\n"
     ]
    },
    {
     "name": "stdout",
     "output_type": "stream",
     "text": [
      "Validation loss : 85.76435089111328\n",
      "Validation accuracy :  0.8344988226890564\n",
      "Training with parameters: {'batch_size': 64, 'dropout_rate': 0.3, 'hidden_layers': 3, 'hidden_units': 100, 'learning_rate': 0.001}\n"
     ]
    },
    {
     "name": "stderr",
     "output_type": "stream",
     "text": [
      "2024-03-14 11:35:23.487482: I tensorflow/core/grappler/optimizers/custom_graph_optimizer_registry.cc:114] Plugin optimizer for device_type GPU is enabled.\n",
      "2024-03-14 11:35:27.815720: I tensorflow/core/grappler/optimizers/custom_graph_optimizer_registry.cc:114] Plugin optimizer for device_type GPU is enabled.\n"
     ]
    },
    {
     "name": "stdout",
     "output_type": "stream",
     "text": [
      "Validation loss : 0.17166458070278168\n",
      "Validation accuracy :  0.9160839319229126\n",
      "Training with parameters: {'batch_size': 64, 'dropout_rate': 0.3, 'hidden_layers': 3, 'hidden_units': 100, 'learning_rate': 0.01}\n"
     ]
    },
    {
     "name": "stderr",
     "output_type": "stream",
     "text": [
      "2024-03-14 11:35:40.035702: I tensorflow/core/grappler/optimizers/custom_graph_optimizer_registry.cc:114] Plugin optimizer for device_type GPU is enabled.\n",
      "2024-03-14 11:35:43.989517: I tensorflow/core/grappler/optimizers/custom_graph_optimizer_registry.cc:114] Plugin optimizer for device_type GPU is enabled.\n"
     ]
    },
    {
     "name": "stdout",
     "output_type": "stream",
     "text": [
      "Validation loss : 1.7659696340560913\n",
      "Validation accuracy :  0.8344988226890564\n",
      "Training with parameters: {'batch_size': 64, 'dropout_rate': 0.3, 'hidden_layers': 3, 'hidden_units': 100, 'learning_rate': 0.1}\n"
     ]
    },
    {
     "name": "stderr",
     "output_type": "stream",
     "text": [
      "2024-03-14 11:35:54.981810: I tensorflow/core/grappler/optimizers/custom_graph_optimizer_registry.cc:114] Plugin optimizer for device_type GPU is enabled.\n",
      "2024-03-14 11:35:59.199991: I tensorflow/core/grappler/optimizers/custom_graph_optimizer_registry.cc:114] Plugin optimizer for device_type GPU is enabled.\n"
     ]
    },
    {
     "name": "stdout",
     "output_type": "stream",
     "text": [
      "Validation loss : 955.6358642578125\n",
      "Validation accuracy :  0.8344988226890564\n",
      "Training with parameters: {'batch_size': 64, 'dropout_rate': 0.3, 'hidden_layers': 3, 'hidden_units': 200, 'learning_rate': 0.001}\n"
     ]
    },
    {
     "name": "stderr",
     "output_type": "stream",
     "text": [
      "2024-03-14 11:36:10.911816: I tensorflow/core/grappler/optimizers/custom_graph_optimizer_registry.cc:114] Plugin optimizer for device_type GPU is enabled.\n",
      "2024-03-14 11:36:18.459649: I tensorflow/core/grappler/optimizers/custom_graph_optimizer_registry.cc:114] Plugin optimizer for device_type GPU is enabled.\n"
     ]
    },
    {
     "name": "stdout",
     "output_type": "stream",
     "text": [
      "Validation loss : 0.20283088088035583\n",
      "Validation accuracy :  0.9090909361839294\n",
      "Training with parameters: {'batch_size': 64, 'dropout_rate': 0.3, 'hidden_layers': 3, 'hidden_units': 200, 'learning_rate': 0.01}\n"
     ]
    },
    {
     "name": "stderr",
     "output_type": "stream",
     "text": [
      "2024-03-14 11:36:29.868052: I tensorflow/core/grappler/optimizers/custom_graph_optimizer_registry.cc:114] Plugin optimizer for device_type GPU is enabled.\n",
      "2024-03-14 11:36:33.846163: I tensorflow/core/grappler/optimizers/custom_graph_optimizer_registry.cc:114] Plugin optimizer for device_type GPU is enabled.\n"
     ]
    },
    {
     "name": "stdout",
     "output_type": "stream",
     "text": [
      "Validation loss : 0.3694095313549042\n",
      "Validation accuracy :  0.9114218950271606\n",
      "Training with parameters: {'batch_size': 64, 'dropout_rate': 0.3, 'hidden_layers': 3, 'hidden_units': 200, 'learning_rate': 0.1}\n"
     ]
    },
    {
     "name": "stderr",
     "output_type": "stream",
     "text": [
      "2024-03-14 11:36:45.743334: I tensorflow/core/grappler/optimizers/custom_graph_optimizer_registry.cc:114] Plugin optimizer for device_type GPU is enabled.\n",
      "2024-03-14 11:36:49.596414: I tensorflow/core/grappler/optimizers/custom_graph_optimizer_registry.cc:114] Plugin optimizer for device_type GPU is enabled.\n"
     ]
    },
    {
     "name": "stdout",
     "output_type": "stream",
     "text": [
      "Validation loss : 10385.37109375\n",
      "Validation accuracy :  0.8857808709144592\n",
      "Training with parameters: {'batch_size': 32, 'dropout_rate': 0.1, 'hidden_layers': 1, 'hidden_units': 50, 'learning_rate': 0.001}\n"
     ]
    },
    {
     "name": "stderr",
     "output_type": "stream",
     "text": [
      "2024-03-14 11:37:01.140649: I tensorflow/core/grappler/optimizers/custom_graph_optimizer_registry.cc:114] Plugin optimizer for device_type GPU is enabled.\n",
      "2024-03-14 11:37:04.948170: I tensorflow/core/grappler/optimizers/custom_graph_optimizer_registry.cc:114] Plugin optimizer for device_type GPU is enabled.\n"
     ]
    },
    {
     "name": "stdout",
     "output_type": "stream",
     "text": [
      "Validation loss : 0.18746210634708405\n",
      "Validation accuracy :  0.9114218950271606\n",
      "Training with parameters: {'batch_size': 32, 'dropout_rate': 0.1, 'hidden_layers': 1, 'hidden_units': 50, 'learning_rate': 0.01}\n"
     ]
    },
    {
     "name": "stderr",
     "output_type": "stream",
     "text": [
      "2024-03-14 11:37:21.319607: I tensorflow/core/grappler/optimizers/custom_graph_optimizer_registry.cc:114] Plugin optimizer for device_type GPU is enabled.\n",
      "2024-03-14 11:37:24.675704: I tensorflow/core/grappler/optimizers/custom_graph_optimizer_registry.cc:114] Plugin optimizer for device_type GPU is enabled.\n"
     ]
    },
    {
     "name": "stdout",
     "output_type": "stream",
     "text": [
      "Validation loss : 0.18374477326869965\n",
      "Validation accuracy :  0.9114218950271606\n",
      "Training with parameters: {'batch_size': 32, 'dropout_rate': 0.1, 'hidden_layers': 1, 'hidden_units': 50, 'learning_rate': 0.1}\n"
     ]
    },
    {
     "name": "stderr",
     "output_type": "stream",
     "text": [
      "2024-03-14 11:37:38.811142: I tensorflow/core/grappler/optimizers/custom_graph_optimizer_registry.cc:114] Plugin optimizer for device_type GPU is enabled.\n",
      "2024-03-14 11:37:42.117910: I tensorflow/core/grappler/optimizers/custom_graph_optimizer_registry.cc:114] Plugin optimizer for device_type GPU is enabled.\n"
     ]
    },
    {
     "name": "stdout",
     "output_type": "stream",
     "text": [
      "Validation loss : 6.222118854522705\n",
      "Validation accuracy :  0.7995337843894958\n",
      "Training with parameters: {'batch_size': 32, 'dropout_rate': 0.1, 'hidden_layers': 1, 'hidden_units': 100, 'learning_rate': 0.001}\n"
     ]
    },
    {
     "name": "stderr",
     "output_type": "stream",
     "text": [
      "2024-03-14 11:37:55.703819: I tensorflow/core/grappler/optimizers/custom_graph_optimizer_registry.cc:114] Plugin optimizer for device_type GPU is enabled.\n",
      "2024-03-14 11:37:59.543402: I tensorflow/core/grappler/optimizers/custom_graph_optimizer_registry.cc:114] Plugin optimizer for device_type GPU is enabled.\n"
     ]
    },
    {
     "name": "stdout",
     "output_type": "stream",
     "text": [
      "Validation loss : 0.168283149600029\n",
      "Validation accuracy :  0.9254079461097717\n",
      "Training with parameters: {'batch_size': 32, 'dropout_rate': 0.1, 'hidden_layers': 1, 'hidden_units': 100, 'learning_rate': 0.01}\n"
     ]
    },
    {
     "name": "stderr",
     "output_type": "stream",
     "text": [
      "2024-03-14 11:38:15.620199: I tensorflow/core/grappler/optimizers/custom_graph_optimizer_registry.cc:114] Plugin optimizer for device_type GPU is enabled.\n",
      "2024-03-14 11:38:19.206138: I tensorflow/core/grappler/optimizers/custom_graph_optimizer_registry.cc:114] Plugin optimizer for device_type GPU is enabled.\n"
     ]
    },
    {
     "name": "stdout",
     "output_type": "stream",
     "text": [
      "Validation loss : 0.19255515933036804\n",
      "Validation accuracy :  0.9277389049530029\n",
      "Training with parameters: {'batch_size': 32, 'dropout_rate': 0.1, 'hidden_layers': 1, 'hidden_units': 100, 'learning_rate': 0.1}\n"
     ]
    },
    {
     "name": "stderr",
     "output_type": "stream",
     "text": [
      "2024-03-14 11:38:32.635712: I tensorflow/core/grappler/optimizers/custom_graph_optimizer_registry.cc:114] Plugin optimizer for device_type GPU is enabled.\n",
      "2024-03-14 11:38:36.186342: I tensorflow/core/grappler/optimizers/custom_graph_optimizer_registry.cc:114] Plugin optimizer for device_type GPU is enabled.\n"
     ]
    },
    {
     "name": "stdout",
     "output_type": "stream",
     "text": [
      "Validation loss : 5.039335250854492\n",
      "Validation accuracy :  0.8927738666534424\n",
      "Training with parameters: {'batch_size': 32, 'dropout_rate': 0.1, 'hidden_layers': 1, 'hidden_units': 200, 'learning_rate': 0.001}\n"
     ]
    },
    {
     "name": "stderr",
     "output_type": "stream",
     "text": [
      "2024-03-14 11:38:49.700205: I tensorflow/core/grappler/optimizers/custom_graph_optimizer_registry.cc:114] Plugin optimizer for device_type GPU is enabled.\n",
      "2024-03-14 11:38:53.518850: I tensorflow/core/grappler/optimizers/custom_graph_optimizer_registry.cc:114] Plugin optimizer for device_type GPU is enabled.\n"
     ]
    },
    {
     "name": "stdout",
     "output_type": "stream",
     "text": [
      "Validation loss : 0.15481039881706238\n",
      "Validation accuracy :  0.9300699234008789\n",
      "Training with parameters: {'batch_size': 32, 'dropout_rate': 0.1, 'hidden_layers': 1, 'hidden_units': 200, 'learning_rate': 0.01}\n"
     ]
    },
    {
     "name": "stderr",
     "output_type": "stream",
     "text": [
      "2024-03-14 11:39:08.291483: I tensorflow/core/grappler/optimizers/custom_graph_optimizer_registry.cc:114] Plugin optimizer for device_type GPU is enabled.\n",
      "2024-03-14 11:39:11.758222: I tensorflow/core/grappler/optimizers/custom_graph_optimizer_registry.cc:114] Plugin optimizer for device_type GPU is enabled.\n"
     ]
    },
    {
     "name": "stdout",
     "output_type": "stream",
     "text": [
      "Validation loss : 0.20091795921325684\n",
      "Validation accuracy :  0.9160839319229126\n",
      "Training with parameters: {'batch_size': 32, 'dropout_rate': 0.1, 'hidden_layers': 1, 'hidden_units': 200, 'learning_rate': 0.1}\n"
     ]
    },
    {
     "name": "stderr",
     "output_type": "stream",
     "text": [
      "2024-03-14 11:39:25.612451: I tensorflow/core/grappler/optimizers/custom_graph_optimizer_registry.cc:114] Plugin optimizer for device_type GPU is enabled.\n",
      "2024-03-14 11:39:29.059444: I tensorflow/core/grappler/optimizers/custom_graph_optimizer_registry.cc:114] Plugin optimizer for device_type GPU is enabled.\n"
     ]
    },
    {
     "name": "stdout",
     "output_type": "stream",
     "text": [
      "Validation loss : 75.39545440673828\n",
      "Validation accuracy :  0.8601398468017578\n",
      "Training with parameters: {'batch_size': 32, 'dropout_rate': 0.1, 'hidden_layers': 2, 'hidden_units': 50, 'learning_rate': 0.001}\n"
     ]
    },
    {
     "name": "stderr",
     "output_type": "stream",
     "text": [
      "2024-03-14 11:39:42.605034: I tensorflow/core/grappler/optimizers/custom_graph_optimizer_registry.cc:114] Plugin optimizer for device_type GPU is enabled.\n",
      "2024-03-14 11:39:46.731279: I tensorflow/core/grappler/optimizers/custom_graph_optimizer_registry.cc:114] Plugin optimizer for device_type GPU is enabled.\n"
     ]
    },
    {
     "name": "stdout",
     "output_type": "stream",
     "text": [
      "Validation loss : 0.22036011517047882\n",
      "Validation accuracy :  0.9114218950271606\n",
      "Training with parameters: {'batch_size': 32, 'dropout_rate': 0.1, 'hidden_layers': 2, 'hidden_units': 50, 'learning_rate': 0.01}\n"
     ]
    },
    {
     "name": "stderr",
     "output_type": "stream",
     "text": [
      "2024-03-14 11:40:02.214205: I tensorflow/core/grappler/optimizers/custom_graph_optimizer_registry.cc:114] Plugin optimizer for device_type GPU is enabled.\n",
      "2024-03-14 11:40:06.402684: I tensorflow/core/grappler/optimizers/custom_graph_optimizer_registry.cc:114] Plugin optimizer for device_type GPU is enabled.\n"
     ]
    },
    {
     "name": "stdout",
     "output_type": "stream",
     "text": [
      "Validation loss : 0.31604570150375366\n",
      "Validation accuracy :  0.883449912071228\n",
      "Training with parameters: {'batch_size': 32, 'dropout_rate': 0.1, 'hidden_layers': 2, 'hidden_units': 50, 'learning_rate': 0.1}\n"
     ]
    },
    {
     "name": "stderr",
     "output_type": "stream",
     "text": [
      "2024-03-14 11:40:21.527346: I tensorflow/core/grappler/optimizers/custom_graph_optimizer_registry.cc:114] Plugin optimizer for device_type GPU is enabled.\n",
      "2024-03-14 11:40:25.911825: I tensorflow/core/grappler/optimizers/custom_graph_optimizer_registry.cc:114] Plugin optimizer for device_type GPU is enabled.\n"
     ]
    },
    {
     "name": "stdout",
     "output_type": "stream",
     "text": [
      "Validation loss : 34.607391357421875\n",
      "Validation accuracy :  0.8554778695106506\n",
      "Training with parameters: {'batch_size': 32, 'dropout_rate': 0.1, 'hidden_layers': 2, 'hidden_units': 100, 'learning_rate': 0.001}\n"
     ]
    },
    {
     "name": "stderr",
     "output_type": "stream",
     "text": [
      "2024-03-14 11:40:40.447466: I tensorflow/core/grappler/optimizers/custom_graph_optimizer_registry.cc:114] Plugin optimizer for device_type GPU is enabled.\n",
      "2024-03-14 11:40:44.665163: I tensorflow/core/grappler/optimizers/custom_graph_optimizer_registry.cc:114] Plugin optimizer for device_type GPU is enabled.\n"
     ]
    },
    {
     "name": "stdout",
     "output_type": "stream",
     "text": [
      "Validation loss : 0.18452802300453186\n",
      "Validation accuracy :  0.9114218950271606\n",
      "Training with parameters: {'batch_size': 32, 'dropout_rate': 0.1, 'hidden_layers': 2, 'hidden_units': 100, 'learning_rate': 0.01}\n"
     ]
    },
    {
     "name": "stderr",
     "output_type": "stream",
     "text": [
      "2024-03-14 11:41:00.378014: I tensorflow/core/grappler/optimizers/custom_graph_optimizer_registry.cc:114] Plugin optimizer for device_type GPU is enabled.\n",
      "2024-03-14 11:41:04.684236: I tensorflow/core/grappler/optimizers/custom_graph_optimizer_registry.cc:114] Plugin optimizer for device_type GPU is enabled.\n"
     ]
    },
    {
     "name": "stdout",
     "output_type": "stream",
     "text": [
      "Validation loss : 0.41915014386177063\n",
      "Validation accuracy :  0.8601398468017578\n",
      "Training with parameters: {'batch_size': 32, 'dropout_rate': 0.1, 'hidden_layers': 2, 'hidden_units': 100, 'learning_rate': 0.1}\n"
     ]
    },
    {
     "name": "stderr",
     "output_type": "stream",
     "text": [
      "2024-03-14 11:41:19.855113: I tensorflow/core/grappler/optimizers/custom_graph_optimizer_registry.cc:114] Plugin optimizer for device_type GPU is enabled.\n",
      "2024-03-14 11:41:24.048874: I tensorflow/core/grappler/optimizers/custom_graph_optimizer_registry.cc:114] Plugin optimizer for device_type GPU is enabled.\n"
     ]
    },
    {
     "name": "stdout",
     "output_type": "stream",
     "text": [
      "Validation loss : 150.94668579101562\n",
      "Validation accuracy :  0.8904429078102112\n",
      "Training with parameters: {'batch_size': 32, 'dropout_rate': 0.1, 'hidden_layers': 2, 'hidden_units': 200, 'learning_rate': 0.001}\n"
     ]
    },
    {
     "name": "stderr",
     "output_type": "stream",
     "text": [
      "2024-03-14 11:41:38.910143: I tensorflow/core/grappler/optimizers/custom_graph_optimizer_registry.cc:114] Plugin optimizer for device_type GPU is enabled.\n",
      "2024-03-14 11:41:43.532364: I tensorflow/core/grappler/optimizers/custom_graph_optimizer_registry.cc:114] Plugin optimizer for device_type GPU is enabled.\n"
     ]
    },
    {
     "name": "stdout",
     "output_type": "stream",
     "text": [
      "Validation loss : 0.18512453138828278\n",
      "Validation accuracy :  0.9160839319229126\n",
      "Training with parameters: {'batch_size': 32, 'dropout_rate': 0.1, 'hidden_layers': 2, 'hidden_units': 200, 'learning_rate': 0.01}\n"
     ]
    },
    {
     "name": "stderr",
     "output_type": "stream",
     "text": [
      "2024-03-14 11:41:59.962611: I tensorflow/core/grappler/optimizers/custom_graph_optimizer_registry.cc:114] Plugin optimizer for device_type GPU is enabled.\n",
      "2024-03-14 11:42:04.475978: I tensorflow/core/grappler/optimizers/custom_graph_optimizer_registry.cc:114] Plugin optimizer for device_type GPU is enabled.\n"
     ]
    },
    {
     "name": "stdout",
     "output_type": "stream",
     "text": [
      "Validation loss : 5.111695289611816\n",
      "Validation accuracy :  0.7972028255462646\n",
      "Training with parameters: {'batch_size': 32, 'dropout_rate': 0.1, 'hidden_layers': 2, 'hidden_units': 200, 'learning_rate': 0.1}\n"
     ]
    },
    {
     "name": "stderr",
     "output_type": "stream",
     "text": [
      "2024-03-14 11:42:19.570374: I tensorflow/core/grappler/optimizers/custom_graph_optimizer_registry.cc:114] Plugin optimizer for device_type GPU is enabled.\n",
      "2024-03-14 11:42:23.863825: I tensorflow/core/grappler/optimizers/custom_graph_optimizer_registry.cc:114] Plugin optimizer for device_type GPU is enabled.\n"
     ]
    },
    {
     "name": "stdout",
     "output_type": "stream",
     "text": [
      "Validation loss : 2654.741455078125\n",
      "Validation accuracy :  0.8951048851013184\n",
      "Training with parameters: {'batch_size': 32, 'dropout_rate': 0.1, 'hidden_layers': 3, 'hidden_units': 50, 'learning_rate': 0.001}\n"
     ]
    },
    {
     "name": "stderr",
     "output_type": "stream",
     "text": [
      "2024-03-14 11:42:39.294004: I tensorflow/core/grappler/optimizers/custom_graph_optimizer_registry.cc:114] Plugin optimizer for device_type GPU is enabled.\n",
      "2024-03-14 11:42:44.478457: I tensorflow/core/grappler/optimizers/custom_graph_optimizer_registry.cc:114] Plugin optimizer for device_type GPU is enabled.\n"
     ]
    },
    {
     "name": "stdout",
     "output_type": "stream",
     "text": [
      "Validation loss : 0.18528181314468384\n",
      "Validation accuracy :  0.9207459092140198\n",
      "Training with parameters: {'batch_size': 32, 'dropout_rate': 0.1, 'hidden_layers': 3, 'hidden_units': 50, 'learning_rate': 0.01}\n"
     ]
    },
    {
     "name": "stderr",
     "output_type": "stream",
     "text": [
      "2024-03-14 11:43:01.380315: I tensorflow/core/grappler/optimizers/custom_graph_optimizer_registry.cc:114] Plugin optimizer for device_type GPU is enabled.\n",
      "2024-03-14 11:43:06.345550: I tensorflow/core/grappler/optimizers/custom_graph_optimizer_registry.cc:114] Plugin optimizer for device_type GPU is enabled.\n"
     ]
    },
    {
     "name": "stdout",
     "output_type": "stream",
     "text": [
      "Validation loss : 7.258492946624756\n",
      "Validation accuracy :  0.6759907007217407\n",
      "Training with parameters: {'batch_size': 32, 'dropout_rate': 0.1, 'hidden_layers': 3, 'hidden_units': 50, 'learning_rate': 0.1}\n"
     ]
    },
    {
     "name": "stderr",
     "output_type": "stream",
     "text": [
      "2024-03-14 11:43:22.789384: I tensorflow/core/grappler/optimizers/custom_graph_optimizer_registry.cc:114] Plugin optimizer for device_type GPU is enabled.\n",
      "2024-03-14 11:43:27.829692: I tensorflow/core/grappler/optimizers/custom_graph_optimizer_registry.cc:114] Plugin optimizer for device_type GPU is enabled.\n"
     ]
    },
    {
     "name": "stdout",
     "output_type": "stream",
     "text": [
      "Validation loss : 999.2744750976562\n",
      "Validation accuracy :  0.7995337843894958\n",
      "Training with parameters: {'batch_size': 32, 'dropout_rate': 0.1, 'hidden_layers': 3, 'hidden_units': 100, 'learning_rate': 0.001}\n"
     ]
    },
    {
     "name": "stderr",
     "output_type": "stream",
     "text": [
      "2024-03-14 11:43:44.735565: I tensorflow/core/grappler/optimizers/custom_graph_optimizer_registry.cc:114] Plugin optimizer for device_type GPU is enabled.\n",
      "2024-03-14 11:43:50.076433: I tensorflow/core/grappler/optimizers/custom_graph_optimizer_registry.cc:114] Plugin optimizer for device_type GPU is enabled.\n"
     ]
    },
    {
     "name": "stdout",
     "output_type": "stream",
     "text": [
      "Validation loss : 0.1833743304014206\n",
      "Validation accuracy :  0.9114218950271606\n",
      "Training with parameters: {'batch_size': 32, 'dropout_rate': 0.1, 'hidden_layers': 3, 'hidden_units': 100, 'learning_rate': 0.01}\n"
     ]
    },
    {
     "name": "stderr",
     "output_type": "stream",
     "text": [
      "2024-03-14 11:44:07.102703: I tensorflow/core/grappler/optimizers/custom_graph_optimizer_registry.cc:114] Plugin optimizer for device_type GPU is enabled.\n",
      "2024-03-14 11:44:12.522513: I tensorflow/core/grappler/optimizers/custom_graph_optimizer_registry.cc:114] Plugin optimizer for device_type GPU is enabled.\n"
     ]
    },
    {
     "name": "stdout",
     "output_type": "stream",
     "text": [
      "Validation loss : 0.915810763835907\n",
      "Validation accuracy :  0.8857808709144592\n",
      "Training with parameters: {'batch_size': 32, 'dropout_rate': 0.1, 'hidden_layers': 3, 'hidden_units': 100, 'learning_rate': 0.1}\n"
     ]
    },
    {
     "name": "stderr",
     "output_type": "stream",
     "text": [
      "2024-03-14 11:44:29.152555: I tensorflow/core/grappler/optimizers/custom_graph_optimizer_registry.cc:114] Plugin optimizer for device_type GPU is enabled.\n",
      "2024-03-14 11:44:37.427523: I tensorflow/core/grappler/optimizers/custom_graph_optimizer_registry.cc:114] Plugin optimizer for device_type GPU is enabled.\n"
     ]
    },
    {
     "name": "stdout",
     "output_type": "stream",
     "text": [
      "Validation loss : 31817.23828125\n",
      "Validation accuracy :  0.8298368453979492\n",
      "Training with parameters: {'batch_size': 32, 'dropout_rate': 0.1, 'hidden_layers': 3, 'hidden_units': 200, 'learning_rate': 0.001}\n"
     ]
    },
    {
     "name": "stderr",
     "output_type": "stream",
     "text": [
      "2024-03-14 11:44:53.952439: I tensorflow/core/grappler/optimizers/custom_graph_optimizer_registry.cc:114] Plugin optimizer for device_type GPU is enabled.\n",
      "2024-03-14 11:44:58.833930: I tensorflow/core/grappler/optimizers/custom_graph_optimizer_registry.cc:114] Plugin optimizer for device_type GPU is enabled.\n"
     ]
    },
    {
     "name": "stdout",
     "output_type": "stream",
     "text": [
      "Validation loss : 0.2341659516096115\n",
      "Validation accuracy :  0.9114218950271606\n",
      "Training with parameters: {'batch_size': 32, 'dropout_rate': 0.1, 'hidden_layers': 3, 'hidden_units': 200, 'learning_rate': 0.01}\n"
     ]
    },
    {
     "name": "stderr",
     "output_type": "stream",
     "text": [
      "2024-03-14 11:45:15.829186: I tensorflow/core/grappler/optimizers/custom_graph_optimizer_registry.cc:114] Plugin optimizer for device_type GPU is enabled.\n",
      "2024-03-14 11:45:20.563860: I tensorflow/core/grappler/optimizers/custom_graph_optimizer_registry.cc:114] Plugin optimizer for device_type GPU is enabled.\n"
     ]
    },
    {
     "name": "stdout",
     "output_type": "stream",
     "text": [
      "Validation loss : 1.584770917892456\n",
      "Validation accuracy :  0.8951048851013184\n",
      "Training with parameters: {'batch_size': 32, 'dropout_rate': 0.1, 'hidden_layers': 3, 'hidden_units': 200, 'learning_rate': 0.1}\n"
     ]
    },
    {
     "name": "stderr",
     "output_type": "stream",
     "text": [
      "2024-03-14 11:45:37.910178: I tensorflow/core/grappler/optimizers/custom_graph_optimizer_registry.cc:114] Plugin optimizer for device_type GPU is enabled.\n",
      "2024-03-14 11:45:42.660649: I tensorflow/core/grappler/optimizers/custom_graph_optimizer_registry.cc:114] Plugin optimizer for device_type GPU is enabled.\n"
     ]
    },
    {
     "name": "stdout",
     "output_type": "stream",
     "text": [
      "Validation loss : 282392.375\n",
      "Validation accuracy :  0.8391608595848083\n",
      "Training with parameters: {'batch_size': 32, 'dropout_rate': 0.2, 'hidden_layers': 1, 'hidden_units': 50, 'learning_rate': 0.001}\n"
     ]
    },
    {
     "name": "stderr",
     "output_type": "stream",
     "text": [
      "2024-03-14 11:45:59.326656: I tensorflow/core/grappler/optimizers/custom_graph_optimizer_registry.cc:114] Plugin optimizer for device_type GPU is enabled.\n",
      "2024-03-14 11:46:03.075610: I tensorflow/core/grappler/optimizers/custom_graph_optimizer_registry.cc:114] Plugin optimizer for device_type GPU is enabled.\n"
     ]
    },
    {
     "name": "stdout",
     "output_type": "stream",
     "text": [
      "Validation loss : 0.17928241193294525\n",
      "Validation accuracy :  0.9137529134750366\n",
      "Training with parameters: {'batch_size': 32, 'dropout_rate': 0.2, 'hidden_layers': 1, 'hidden_units': 50, 'learning_rate': 0.01}\n"
     ]
    },
    {
     "name": "stderr",
     "output_type": "stream",
     "text": [
      "2024-03-14 11:46:20.091882: I tensorflow/core/grappler/optimizers/custom_graph_optimizer_registry.cc:114] Plugin optimizer for device_type GPU is enabled.\n",
      "2024-03-14 11:46:23.872048: I tensorflow/core/grappler/optimizers/custom_graph_optimizer_registry.cc:114] Plugin optimizer for device_type GPU is enabled.\n"
     ]
    },
    {
     "name": "stdout",
     "output_type": "stream",
     "text": [
      "Validation loss : 0.1756216436624527\n",
      "Validation accuracy :  0.9090909361839294\n",
      "Training with parameters: {'batch_size': 32, 'dropout_rate': 0.2, 'hidden_layers': 1, 'hidden_units': 50, 'learning_rate': 0.1}\n"
     ]
    },
    {
     "name": "stderr",
     "output_type": "stream",
     "text": [
      "2024-03-14 11:46:37.824178: I tensorflow/core/grappler/optimizers/custom_graph_optimizer_registry.cc:114] Plugin optimizer for device_type GPU is enabled.\n",
      "2024-03-14 11:46:41.710493: I tensorflow/core/grappler/optimizers/custom_graph_optimizer_registry.cc:114] Plugin optimizer for device_type GPU is enabled.\n"
     ]
    },
    {
     "name": "stdout",
     "output_type": "stream",
     "text": [
      "Validation loss : 4.82336950302124\n",
      "Validation accuracy :  0.8741258978843689\n",
      "Training with parameters: {'batch_size': 32, 'dropout_rate': 0.2, 'hidden_layers': 1, 'hidden_units': 100, 'learning_rate': 0.001}\n"
     ]
    },
    {
     "name": "stderr",
     "output_type": "stream",
     "text": [
      "2024-03-14 11:46:55.344955: I tensorflow/core/grappler/optimizers/custom_graph_optimizer_registry.cc:114] Plugin optimizer for device_type GPU is enabled.\n",
      "2024-03-14 11:46:59.081298: I tensorflow/core/grappler/optimizers/custom_graph_optimizer_registry.cc:114] Plugin optimizer for device_type GPU is enabled.\n"
     ]
    },
    {
     "name": "stdout",
     "output_type": "stream",
     "text": [
      "Validation loss : 0.1691761016845703\n",
      "Validation accuracy :  0.9254079461097717\n",
      "Training with parameters: {'batch_size': 32, 'dropout_rate': 0.2, 'hidden_layers': 1, 'hidden_units': 100, 'learning_rate': 0.01}\n"
     ]
    },
    {
     "name": "stderr",
     "output_type": "stream",
     "text": [
      "2024-03-14 11:47:14.140151: I tensorflow/core/grappler/optimizers/custom_graph_optimizer_registry.cc:114] Plugin optimizer for device_type GPU is enabled.\n",
      "2024-03-14 11:47:18.045871: I tensorflow/core/grappler/optimizers/custom_graph_optimizer_registry.cc:114] Plugin optimizer for device_type GPU is enabled.\n"
     ]
    },
    {
     "name": "stdout",
     "output_type": "stream",
     "text": [
      "Validation loss : 0.23758743703365326\n",
      "Validation accuracy :  0.9044288992881775\n",
      "Training with parameters: {'batch_size': 32, 'dropout_rate': 0.2, 'hidden_layers': 1, 'hidden_units': 100, 'learning_rate': 0.1}\n"
     ]
    },
    {
     "name": "stderr",
     "output_type": "stream",
     "text": [
      "2024-03-14 11:47:31.979349: I tensorflow/core/grappler/optimizers/custom_graph_optimizer_registry.cc:114] Plugin optimizer for device_type GPU is enabled.\n",
      "2024-03-14 11:47:35.922652: I tensorflow/core/grappler/optimizers/custom_graph_optimizer_registry.cc:114] Plugin optimizer for device_type GPU is enabled.\n"
     ]
    },
    {
     "name": "stdout",
     "output_type": "stream",
     "text": [
      "Validation loss : 35.951351165771484\n",
      "Validation accuracy :  0.7412587404251099\n",
      "Training with parameters: {'batch_size': 32, 'dropout_rate': 0.2, 'hidden_layers': 1, 'hidden_units': 200, 'learning_rate': 0.001}\n"
     ]
    },
    {
     "name": "stderr",
     "output_type": "stream",
     "text": [
      "2024-03-14 11:47:49.864013: I tensorflow/core/grappler/optimizers/custom_graph_optimizer_registry.cc:114] Plugin optimizer for device_type GPU is enabled.\n",
      "2024-03-14 11:47:53.731999: I tensorflow/core/grappler/optimizers/custom_graph_optimizer_registry.cc:114] Plugin optimizer for device_type GPU is enabled.\n"
     ]
    },
    {
     "name": "stdout",
     "output_type": "stream",
     "text": [
      "Validation loss : 0.18959906697273254\n",
      "Validation accuracy :  0.9114218950271606\n",
      "Training with parameters: {'batch_size': 32, 'dropout_rate': 0.2, 'hidden_layers': 1, 'hidden_units': 200, 'learning_rate': 0.01}\n"
     ]
    },
    {
     "name": "stderr",
     "output_type": "stream",
     "text": [
      "2024-03-14 11:48:08.928396: I tensorflow/core/grappler/optimizers/custom_graph_optimizer_registry.cc:114] Plugin optimizer for device_type GPU is enabled.\n",
      "2024-03-14 11:48:12.973275: I tensorflow/core/grappler/optimizers/custom_graph_optimizer_registry.cc:114] Plugin optimizer for device_type GPU is enabled.\n"
     ]
    },
    {
     "name": "stdout",
     "output_type": "stream",
     "text": [
      "Validation loss : 0.26543989777565\n",
      "Validation accuracy :  0.9090909361839294\n",
      "Training with parameters: {'batch_size': 32, 'dropout_rate': 0.2, 'hidden_layers': 1, 'hidden_units': 200, 'learning_rate': 0.1}\n"
     ]
    },
    {
     "name": "stderr",
     "output_type": "stream",
     "text": [
      "2024-03-14 11:48:26.396405: I tensorflow/core/grappler/optimizers/custom_graph_optimizer_registry.cc:114] Plugin optimizer for device_type GPU is enabled.\n",
      "2024-03-14 11:48:30.161883: I tensorflow/core/grappler/optimizers/custom_graph_optimizer_registry.cc:114] Plugin optimizer for device_type GPU is enabled.\n"
     ]
    },
    {
     "name": "stdout",
     "output_type": "stream",
     "text": [
      "Validation loss : 42.34156036376953\n",
      "Validation accuracy :  0.8951048851013184\n",
      "Training with parameters: {'batch_size': 32, 'dropout_rate': 0.2, 'hidden_layers': 2, 'hidden_units': 50, 'learning_rate': 0.001}\n"
     ]
    },
    {
     "name": "stderr",
     "output_type": "stream",
     "text": [
      "2024-03-14 11:48:46.080415: I tensorflow/core/grappler/optimizers/custom_graph_optimizer_registry.cc:114] Plugin optimizer for device_type GPU is enabled.\n",
      "2024-03-14 11:48:50.868108: I tensorflow/core/grappler/optimizers/custom_graph_optimizer_registry.cc:114] Plugin optimizer for device_type GPU is enabled.\n"
     ]
    },
    {
     "name": "stdout",
     "output_type": "stream",
     "text": [
      "Validation loss : 0.18467473983764648\n",
      "Validation accuracy :  0.9090909361839294\n",
      "Training with parameters: {'batch_size': 32, 'dropout_rate': 0.2, 'hidden_layers': 2, 'hidden_units': 50, 'learning_rate': 0.01}\n"
     ]
    },
    {
     "name": "stderr",
     "output_type": "stream",
     "text": [
      "2024-03-14 11:49:07.790325: I tensorflow/core/grappler/optimizers/custom_graph_optimizer_registry.cc:114] Plugin optimizer for device_type GPU is enabled.\n",
      "2024-03-14 11:49:12.834703: I tensorflow/core/grappler/optimizers/custom_graph_optimizer_registry.cc:114] Plugin optimizer for device_type GPU is enabled.\n"
     ]
    },
    {
     "name": "stdout",
     "output_type": "stream",
     "text": [
      "Validation loss : 0.19511964917182922\n",
      "Validation accuracy :  0.9114218950271606\n",
      "Training with parameters: {'batch_size': 32, 'dropout_rate': 0.2, 'hidden_layers': 2, 'hidden_units': 50, 'learning_rate': 0.1}\n"
     ]
    },
    {
     "name": "stderr",
     "output_type": "stream",
     "text": [
      "2024-03-14 11:49:28.137163: I tensorflow/core/grappler/optimizers/custom_graph_optimizer_registry.cc:114] Plugin optimizer for device_type GPU is enabled.\n",
      "2024-03-14 11:49:32.510294: I tensorflow/core/grappler/optimizers/custom_graph_optimizer_registry.cc:114] Plugin optimizer for device_type GPU is enabled.\n"
     ]
    },
    {
     "name": "stdout",
     "output_type": "stream",
     "text": [
      "Validation loss : 29.722349166870117\n",
      "Validation accuracy :  0.8857808709144592\n",
      "Training with parameters: {'batch_size': 32, 'dropout_rate': 0.2, 'hidden_layers': 2, 'hidden_units': 100, 'learning_rate': 0.001}\n"
     ]
    },
    {
     "name": "stderr",
     "output_type": "stream",
     "text": [
      "2024-03-14 11:49:47.880781: I tensorflow/core/grappler/optimizers/custom_graph_optimizer_registry.cc:114] Plugin optimizer for device_type GPU is enabled.\n",
      "2024-03-14 11:49:52.400970: I tensorflow/core/grappler/optimizers/custom_graph_optimizer_registry.cc:114] Plugin optimizer for device_type GPU is enabled.\n"
     ]
    },
    {
     "name": "stdout",
     "output_type": "stream",
     "text": [
      "Validation loss : 0.17635591328144073\n",
      "Validation accuracy :  0.9230769276618958\n",
      "Training with parameters: {'batch_size': 32, 'dropout_rate': 0.2, 'hidden_layers': 2, 'hidden_units': 100, 'learning_rate': 0.01}\n"
     ]
    },
    {
     "name": "stderr",
     "output_type": "stream",
     "text": [
      "2024-03-14 11:50:08.440284: I tensorflow/core/grappler/optimizers/custom_graph_optimizer_registry.cc:114] Plugin optimizer for device_type GPU is enabled.\n",
      "2024-03-14 11:50:13.147036: I tensorflow/core/grappler/optimizers/custom_graph_optimizer_registry.cc:114] Plugin optimizer for device_type GPU is enabled.\n"
     ]
    },
    {
     "name": "stdout",
     "output_type": "stream",
     "text": [
      "Validation loss : 0.3257458806037903\n",
      "Validation accuracy :  0.8974359035491943\n",
      "Training with parameters: {'batch_size': 32, 'dropout_rate': 0.2, 'hidden_layers': 2, 'hidden_units': 100, 'learning_rate': 0.1}\n"
     ]
    },
    {
     "name": "stderr",
     "output_type": "stream",
     "text": [
      "2024-03-14 11:50:28.560962: I tensorflow/core/grappler/optimizers/custom_graph_optimizer_registry.cc:114] Plugin optimizer for device_type GPU is enabled.\n",
      "2024-03-14 11:50:33.510815: I tensorflow/core/grappler/optimizers/custom_graph_optimizer_registry.cc:114] Plugin optimizer for device_type GPU is enabled.\n"
     ]
    },
    {
     "name": "stdout",
     "output_type": "stream",
     "text": [
      "Validation loss : 4126.46875\n",
      "Validation accuracy :  0.5850815773010254\n",
      "Training with parameters: {'batch_size': 32, 'dropout_rate': 0.2, 'hidden_layers': 2, 'hidden_units': 200, 'learning_rate': 0.001}\n"
     ]
    },
    {
     "name": "stderr",
     "output_type": "stream",
     "text": [
      "2024-03-14 11:50:48.846058: I tensorflow/core/grappler/optimizers/custom_graph_optimizer_registry.cc:114] Plugin optimizer for device_type GPU is enabled.\n",
      "2024-03-14 11:50:53.529962: I tensorflow/core/grappler/optimizers/custom_graph_optimizer_registry.cc:114] Plugin optimizer for device_type GPU is enabled.\n"
     ]
    },
    {
     "name": "stdout",
     "output_type": "stream",
     "text": [
      "Validation loss : 0.20316046476364136\n",
      "Validation accuracy :  0.9160839319229126\n",
      "Training with parameters: {'batch_size': 32, 'dropout_rate': 0.2, 'hidden_layers': 2, 'hidden_units': 200, 'learning_rate': 0.01}\n"
     ]
    },
    {
     "name": "stderr",
     "output_type": "stream",
     "text": [
      "2024-03-14 11:51:09.915323: I tensorflow/core/grappler/optimizers/custom_graph_optimizer_registry.cc:114] Plugin optimizer for device_type GPU is enabled.\n",
      "2024-03-14 11:51:14.870114: I tensorflow/core/grappler/optimizers/custom_graph_optimizer_registry.cc:114] Plugin optimizer for device_type GPU is enabled.\n"
     ]
    },
    {
     "name": "stdout",
     "output_type": "stream",
     "text": [
      "Validation loss : 0.8140487670898438\n",
      "Validation accuracy :  0.8741258978843689\n",
      "Training with parameters: {'batch_size': 32, 'dropout_rate': 0.2, 'hidden_layers': 2, 'hidden_units': 200, 'learning_rate': 0.1}\n"
     ]
    },
    {
     "name": "stderr",
     "output_type": "stream",
     "text": [
      "2024-03-14 11:51:30.425935: I tensorflow/core/grappler/optimizers/custom_graph_optimizer_registry.cc:114] Plugin optimizer for device_type GPU is enabled.\n",
      "2024-03-14 11:51:35.383666: I tensorflow/core/grappler/optimizers/custom_graph_optimizer_registry.cc:114] Plugin optimizer for device_type GPU is enabled.\n"
     ]
    },
    {
     "name": "stdout",
     "output_type": "stream",
     "text": [
      "Validation loss : 4745.0224609375\n",
      "Validation accuracy :  0.6993007063865662\n",
      "Training with parameters: {'batch_size': 32, 'dropout_rate': 0.2, 'hidden_layers': 3, 'hidden_units': 50, 'learning_rate': 0.001}\n"
     ]
    },
    {
     "name": "stderr",
     "output_type": "stream",
     "text": [
      "2024-03-14 11:51:50.810595: I tensorflow/core/grappler/optimizers/custom_graph_optimizer_registry.cc:114] Plugin optimizer for device_type GPU is enabled.\n",
      "2024-03-14 11:51:56.176484: I tensorflow/core/grappler/optimizers/custom_graph_optimizer_registry.cc:114] Plugin optimizer for device_type GPU is enabled.\n"
     ]
    },
    {
     "name": "stdout",
     "output_type": "stream",
     "text": [
      "Validation loss : 0.1945434808731079\n",
      "Validation accuracy :  0.9067599177360535\n",
      "Training with parameters: {'batch_size': 32, 'dropout_rate': 0.2, 'hidden_layers': 3, 'hidden_units': 50, 'learning_rate': 0.01}\n"
     ]
    },
    {
     "name": "stderr",
     "output_type": "stream",
     "text": [
      "2024-03-14 11:52:14.940912: I tensorflow/core/grappler/optimizers/custom_graph_optimizer_registry.cc:114] Plugin optimizer for device_type GPU is enabled.\n",
      "2024-03-14 11:52:20.511189: I tensorflow/core/grappler/optimizers/custom_graph_optimizer_registry.cc:114] Plugin optimizer for device_type GPU is enabled.\n"
     ]
    },
    {
     "name": "stdout",
     "output_type": "stream",
     "text": [
      "Validation loss : 0.3845818042755127\n",
      "Validation accuracy :  0.8974359035491943\n",
      "Training with parameters: {'batch_size': 32, 'dropout_rate': 0.2, 'hidden_layers': 3, 'hidden_units': 50, 'learning_rate': 0.1}\n"
     ]
    },
    {
     "name": "stderr",
     "output_type": "stream",
     "text": [
      "2024-03-14 11:52:37.855866: I tensorflow/core/grappler/optimizers/custom_graph_optimizer_registry.cc:114] Plugin optimizer for device_type GPU is enabled.\n",
      "2024-03-14 11:52:43.355935: I tensorflow/core/grappler/optimizers/custom_graph_optimizer_registry.cc:114] Plugin optimizer for device_type GPU is enabled.\n"
     ]
    },
    {
     "name": "stdout",
     "output_type": "stream",
     "text": [
      "Validation loss : 290.4725341796875\n",
      "Validation accuracy :  0.8484848737716675\n",
      "Training with parameters: {'batch_size': 32, 'dropout_rate': 0.2, 'hidden_layers': 3, 'hidden_units': 100, 'learning_rate': 0.001}\n"
     ]
    },
    {
     "name": "stderr",
     "output_type": "stream",
     "text": [
      "2024-03-14 11:53:01.320655: I tensorflow/core/grappler/optimizers/custom_graph_optimizer_registry.cc:114] Plugin optimizer for device_type GPU is enabled.\n",
      "2024-03-14 11:53:07.189844: I tensorflow/core/grappler/optimizers/custom_graph_optimizer_registry.cc:114] Plugin optimizer for device_type GPU is enabled.\n"
     ]
    },
    {
     "name": "stdout",
     "output_type": "stream",
     "text": [
      "Validation loss : 0.18682219088077545\n",
      "Validation accuracy :  0.9114218950271606\n",
      "Training with parameters: {'batch_size': 32, 'dropout_rate': 0.2, 'hidden_layers': 3, 'hidden_units': 100, 'learning_rate': 0.01}\n"
     ]
    },
    {
     "name": "stderr",
     "output_type": "stream",
     "text": [
      "2024-03-14 11:53:25.710914: I tensorflow/core/grappler/optimizers/custom_graph_optimizer_registry.cc:114] Plugin optimizer for device_type GPU is enabled.\n",
      "2024-03-14 11:53:35.554890: I tensorflow/core/grappler/optimizers/custom_graph_optimizer_registry.cc:114] Plugin optimizer for device_type GPU is enabled.\n"
     ]
    },
    {
     "name": "stdout",
     "output_type": "stream",
     "text": [
      "Validation loss : 0.6360746622085571\n",
      "Validation accuracy :  0.9067599177360535\n",
      "Training with parameters: {'batch_size': 32, 'dropout_rate': 0.2, 'hidden_layers': 3, 'hidden_units': 100, 'learning_rate': 0.1}\n"
     ]
    },
    {
     "name": "stderr",
     "output_type": "stream",
     "text": [
      "2024-03-14 11:53:53.282739: I tensorflow/core/grappler/optimizers/custom_graph_optimizer_registry.cc:114] Plugin optimizer for device_type GPU is enabled.\n",
      "2024-03-14 11:53:58.690758: I tensorflow/core/grappler/optimizers/custom_graph_optimizer_registry.cc:114] Plugin optimizer for device_type GPU is enabled.\n"
     ]
    },
    {
     "name": "stdout",
     "output_type": "stream",
     "text": [
      "Validation loss : 9487.4033203125\n",
      "Validation accuracy :  0.7972028255462646\n",
      "Training with parameters: {'batch_size': 32, 'dropout_rate': 0.2, 'hidden_layers': 3, 'hidden_units': 200, 'learning_rate': 0.001}\n"
     ]
    },
    {
     "name": "stderr",
     "output_type": "stream",
     "text": [
      "2024-03-14 11:54:16.479383: I tensorflow/core/grappler/optimizers/custom_graph_optimizer_registry.cc:114] Plugin optimizer for device_type GPU is enabled.\n",
      "2024-03-14 11:54:21.832568: I tensorflow/core/grappler/optimizers/custom_graph_optimizer_registry.cc:114] Plugin optimizer for device_type GPU is enabled.\n"
     ]
    },
    {
     "name": "stdout",
     "output_type": "stream",
     "text": [
      "Validation loss : 0.20265783369541168\n",
      "Validation accuracy :  0.8997669219970703\n",
      "Training with parameters: {'batch_size': 32, 'dropout_rate': 0.2, 'hidden_layers': 3, 'hidden_units': 200, 'learning_rate': 0.01}\n"
     ]
    },
    {
     "name": "stderr",
     "output_type": "stream",
     "text": [
      "2024-03-14 11:54:38.915188: I tensorflow/core/grappler/optimizers/custom_graph_optimizer_registry.cc:114] Plugin optimizer for device_type GPU is enabled.\n",
      "2024-03-14 11:54:44.456855: I tensorflow/core/grappler/optimizers/custom_graph_optimizer_registry.cc:114] Plugin optimizer for device_type GPU is enabled.\n"
     ]
    },
    {
     "name": "stdout",
     "output_type": "stream",
     "text": [
      "Validation loss : 17.347763061523438\n",
      "Validation accuracy :  0.8181818127632141\n",
      "Training with parameters: {'batch_size': 32, 'dropout_rate': 0.2, 'hidden_layers': 3, 'hidden_units': 200, 'learning_rate': 0.1}\n"
     ]
    },
    {
     "name": "stderr",
     "output_type": "stream",
     "text": [
      "2024-03-14 11:55:01.693026: I tensorflow/core/grappler/optimizers/custom_graph_optimizer_registry.cc:114] Plugin optimizer for device_type GPU is enabled.\n",
      "2024-03-14 11:55:06.829444: I tensorflow/core/grappler/optimizers/custom_graph_optimizer_registry.cc:114] Plugin optimizer for device_type GPU is enabled.\n"
     ]
    },
    {
     "name": "stdout",
     "output_type": "stream",
     "text": [
      "Validation loss : 578325.9375\n",
      "Validation accuracy :  0.46620047092437744\n",
      "Training with parameters: {'batch_size': 32, 'dropout_rate': 0.3, 'hidden_layers': 1, 'hidden_units': 50, 'learning_rate': 0.001}\n"
     ]
    },
    {
     "name": "stderr",
     "output_type": "stream",
     "text": [
      "2024-03-14 11:55:23.947821: I tensorflow/core/grappler/optimizers/custom_graph_optimizer_registry.cc:114] Plugin optimizer for device_type GPU is enabled.\n",
      "2024-03-14 11:55:28.168421: I tensorflow/core/grappler/optimizers/custom_graph_optimizer_registry.cc:114] Plugin optimizer for device_type GPU is enabled.\n"
     ]
    },
    {
     "name": "stdout",
     "output_type": "stream",
     "text": [
      "Validation loss : 0.20950601994991302\n",
      "Validation accuracy :  0.9067599177360535\n",
      "Training with parameters: {'batch_size': 32, 'dropout_rate': 0.3, 'hidden_layers': 1, 'hidden_units': 50, 'learning_rate': 0.01}\n"
     ]
    },
    {
     "name": "stderr",
     "output_type": "stream",
     "text": [
      "2024-03-14 11:55:44.052642: I tensorflow/core/grappler/optimizers/custom_graph_optimizer_registry.cc:114] Plugin optimizer for device_type GPU is enabled.\n",
      "2024-03-14 11:55:48.107018: I tensorflow/core/grappler/optimizers/custom_graph_optimizer_registry.cc:114] Plugin optimizer for device_type GPU is enabled.\n"
     ]
    },
    {
     "name": "stdout",
     "output_type": "stream",
     "text": [
      "Validation loss : 0.3669266402721405\n",
      "Validation accuracy :  0.8601398468017578\n",
      "Training with parameters: {'batch_size': 32, 'dropout_rate': 0.3, 'hidden_layers': 1, 'hidden_units': 50, 'learning_rate': 0.1}\n"
     ]
    },
    {
     "name": "stderr",
     "output_type": "stream",
     "text": [
      "2024-03-14 11:56:03.086622: I tensorflow/core/grappler/optimizers/custom_graph_optimizer_registry.cc:114] Plugin optimizer for device_type GPU is enabled.\n",
      "2024-03-14 11:56:07.291988: I tensorflow/core/grappler/optimizers/custom_graph_optimizer_registry.cc:114] Plugin optimizer for device_type GPU is enabled.\n"
     ]
    },
    {
     "name": "stdout",
     "output_type": "stream",
     "text": [
      "Validation loss : 11.467024803161621\n",
      "Validation accuracy :  0.7272727489471436\n",
      "Training with parameters: {'batch_size': 32, 'dropout_rate': 0.3, 'hidden_layers': 1, 'hidden_units': 100, 'learning_rate': 0.001}\n"
     ]
    },
    {
     "name": "stderr",
     "output_type": "stream",
     "text": [
      "2024-03-14 11:56:21.445654: I tensorflow/core/grappler/optimizers/custom_graph_optimizer_registry.cc:114] Plugin optimizer for device_type GPU is enabled.\n",
      "2024-03-14 11:56:25.766432: I tensorflow/core/grappler/optimizers/custom_graph_optimizer_registry.cc:114] Plugin optimizer for device_type GPU is enabled.\n"
     ]
    },
    {
     "name": "stdout",
     "output_type": "stream",
     "text": [
      "Validation loss : 0.16432519257068634\n",
      "Validation accuracy :  0.9207459092140198\n",
      "Training with parameters: {'batch_size': 32, 'dropout_rate': 0.3, 'hidden_layers': 1, 'hidden_units': 100, 'learning_rate': 0.01}\n"
     ]
    },
    {
     "name": "stderr",
     "output_type": "stream",
     "text": [
      "2024-03-14 11:56:45.562806: I tensorflow/core/grappler/optimizers/custom_graph_optimizer_registry.cc:114] Plugin optimizer for device_type GPU is enabled.\n",
      "2024-03-14 11:56:49.891394: I tensorflow/core/grappler/optimizers/custom_graph_optimizer_registry.cc:114] Plugin optimizer for device_type GPU is enabled.\n"
     ]
    },
    {
     "name": "stdout",
     "output_type": "stream",
     "text": [
      "Validation loss : 0.228728786110878\n",
      "Validation accuracy :  0.9067599177360535\n",
      "Training with parameters: {'batch_size': 32, 'dropout_rate': 0.3, 'hidden_layers': 1, 'hidden_units': 100, 'learning_rate': 0.1}\n"
     ]
    },
    {
     "name": "stderr",
     "output_type": "stream",
     "text": [
      "2024-03-14 11:57:03.719242: I tensorflow/core/grappler/optimizers/custom_graph_optimizer_registry.cc:114] Plugin optimizer for device_type GPU is enabled.\n",
      "2024-03-14 11:57:08.010217: I tensorflow/core/grappler/optimizers/custom_graph_optimizer_registry.cc:114] Plugin optimizer for device_type GPU is enabled.\n"
     ]
    },
    {
     "name": "stdout",
     "output_type": "stream",
     "text": [
      "Validation loss : 26.727758407592773\n",
      "Validation accuracy :  0.8158507943153381\n",
      "Training with parameters: {'batch_size': 32, 'dropout_rate': 0.3, 'hidden_layers': 1, 'hidden_units': 200, 'learning_rate': 0.001}\n"
     ]
    },
    {
     "name": "stderr",
     "output_type": "stream",
     "text": [
      "2024-03-14 11:57:22.141523: I tensorflow/core/grappler/optimizers/custom_graph_optimizer_registry.cc:114] Plugin optimizer for device_type GPU is enabled.\n",
      "2024-03-14 11:57:26.410354: I tensorflow/core/grappler/optimizers/custom_graph_optimizer_registry.cc:114] Plugin optimizer for device_type GPU is enabled.\n"
     ]
    },
    {
     "name": "stdout",
     "output_type": "stream",
     "text": [
      "Validation loss : 0.14560703933238983\n",
      "Validation accuracy :  0.9300699234008789\n",
      "Training with parameters: {'batch_size': 32, 'dropout_rate': 0.3, 'hidden_layers': 1, 'hidden_units': 200, 'learning_rate': 0.01}\n"
     ]
    },
    {
     "name": "stderr",
     "output_type": "stream",
     "text": [
      "2024-03-14 11:57:44.091272: I tensorflow/core/grappler/optimizers/custom_graph_optimizer_registry.cc:114] Plugin optimizer for device_type GPU is enabled.\n",
      "2024-03-14 11:57:48.487523: I tensorflow/core/grappler/optimizers/custom_graph_optimizer_registry.cc:114] Plugin optimizer for device_type GPU is enabled.\n"
     ]
    },
    {
     "name": "stdout",
     "output_type": "stream",
     "text": [
      "Validation loss : 0.6174749732017517\n",
      "Validation accuracy :  0.8321678042411804\n",
      "Training with parameters: {'batch_size': 32, 'dropout_rate': 0.3, 'hidden_layers': 1, 'hidden_units': 200, 'learning_rate': 0.1}\n"
     ]
    },
    {
     "name": "stderr",
     "output_type": "stream",
     "text": [
      "2024-03-14 11:58:03.033436: I tensorflow/core/grappler/optimizers/custom_graph_optimizer_registry.cc:114] Plugin optimizer for device_type GPU is enabled.\n",
      "2024-03-14 11:58:07.093863: I tensorflow/core/grappler/optimizers/custom_graph_optimizer_registry.cc:114] Plugin optimizer for device_type GPU is enabled.\n"
     ]
    },
    {
     "name": "stdout",
     "output_type": "stream",
     "text": [
      "Validation loss : 78.8088607788086\n",
      "Validation accuracy :  0.8368298411369324\n",
      "Training with parameters: {'batch_size': 32, 'dropout_rate': 0.3, 'hidden_layers': 2, 'hidden_units': 50, 'learning_rate': 0.001}\n"
     ]
    },
    {
     "name": "stderr",
     "output_type": "stream",
     "text": [
      "2024-03-14 11:58:21.890765: I tensorflow/core/grappler/optimizers/custom_graph_optimizer_registry.cc:114] Plugin optimizer for device_type GPU is enabled.\n",
      "2024-03-14 11:58:27.076469: I tensorflow/core/grappler/optimizers/custom_graph_optimizer_registry.cc:114] Plugin optimizer for device_type GPU is enabled.\n"
     ]
    },
    {
     "name": "stdout",
     "output_type": "stream",
     "text": [
      "Validation loss : 0.19044433534145355\n",
      "Validation accuracy :  0.9137529134750366\n",
      "Training with parameters: {'batch_size': 32, 'dropout_rate': 0.3, 'hidden_layers': 2, 'hidden_units': 50, 'learning_rate': 0.01}\n"
     ]
    },
    {
     "name": "stderr",
     "output_type": "stream",
     "text": [
      "2024-03-14 11:58:44.525938: I tensorflow/core/grappler/optimizers/custom_graph_optimizer_registry.cc:114] Plugin optimizer for device_type GPU is enabled.\n",
      "2024-03-14 11:58:49.433568: I tensorflow/core/grappler/optimizers/custom_graph_optimizer_registry.cc:114] Plugin optimizer for device_type GPU is enabled.\n"
     ]
    },
    {
     "name": "stdout",
     "output_type": "stream",
     "text": [
      "Validation loss : 0.5589359402656555\n",
      "Validation accuracy :  0.8391608595848083\n",
      "Training with parameters: {'batch_size': 32, 'dropout_rate': 0.3, 'hidden_layers': 2, 'hidden_units': 50, 'learning_rate': 0.1}\n"
     ]
    },
    {
     "name": "stderr",
     "output_type": "stream",
     "text": [
      "2024-03-14 11:59:05.395593: I tensorflow/core/grappler/optimizers/custom_graph_optimizer_registry.cc:114] Plugin optimizer for device_type GPU is enabled.\n",
      "2024-03-14 11:59:10.631161: I tensorflow/core/grappler/optimizers/custom_graph_optimizer_registry.cc:114] Plugin optimizer for device_type GPU is enabled.\n"
     ]
    },
    {
     "name": "stdout",
     "output_type": "stream",
     "text": [
      "Validation loss : 7.0881028175354\n",
      "Validation accuracy :  0.881118893623352\n",
      "Training with parameters: {'batch_size': 32, 'dropout_rate': 0.3, 'hidden_layers': 2, 'hidden_units': 100, 'learning_rate': 0.001}\n"
     ]
    },
    {
     "name": "stderr",
     "output_type": "stream",
     "text": [
      "2024-03-14 11:59:26.374547: I tensorflow/core/grappler/optimizers/custom_graph_optimizer_registry.cc:114] Plugin optimizer for device_type GPU is enabled.\n",
      "2024-03-14 11:59:31.431502: I tensorflow/core/grappler/optimizers/custom_graph_optimizer_registry.cc:114] Plugin optimizer for device_type GPU is enabled.\n"
     ]
    },
    {
     "name": "stdout",
     "output_type": "stream",
     "text": [
      "Validation loss : 0.1836109161376953\n",
      "Validation accuracy :  0.9160839319229126\n",
      "Training with parameters: {'batch_size': 32, 'dropout_rate': 0.3, 'hidden_layers': 2, 'hidden_units': 100, 'learning_rate': 0.01}\n"
     ]
    },
    {
     "name": "stderr",
     "output_type": "stream",
     "text": [
      "2024-03-14 11:59:48.449223: I tensorflow/core/grappler/optimizers/custom_graph_optimizer_registry.cc:114] Plugin optimizer for device_type GPU is enabled.\n",
      "2024-03-14 11:59:53.332921: I tensorflow/core/grappler/optimizers/custom_graph_optimizer_registry.cc:114] Plugin optimizer for device_type GPU is enabled.\n"
     ]
    },
    {
     "name": "stdout",
     "output_type": "stream",
     "text": [
      "Validation loss : 1.5447826385498047\n",
      "Validation accuracy :  0.8368298411369324\n",
      "Training with parameters: {'batch_size': 32, 'dropout_rate': 0.3, 'hidden_layers': 2, 'hidden_units': 100, 'learning_rate': 0.1}\n"
     ]
    },
    {
     "name": "stderr",
     "output_type": "stream",
     "text": [
      "2024-03-14 12:00:09.410820: I tensorflow/core/grappler/optimizers/custom_graph_optimizer_registry.cc:114] Plugin optimizer for device_type GPU is enabled.\n",
      "2024-03-14 12:00:14.266699: I tensorflow/core/grappler/optimizers/custom_graph_optimizer_registry.cc:114] Plugin optimizer for device_type GPU is enabled.\n"
     ]
    },
    {
     "name": "stdout",
     "output_type": "stream",
     "text": [
      "Validation loss : 163.55113220214844\n",
      "Validation accuracy :  0.8904429078102112\n",
      "Training with parameters: {'batch_size': 32, 'dropout_rate': 0.3, 'hidden_layers': 2, 'hidden_units': 200, 'learning_rate': 0.001}\n"
     ]
    },
    {
     "name": "stderr",
     "output_type": "stream",
     "text": [
      "2024-03-14 12:00:29.736752: I tensorflow/core/grappler/optimizers/custom_graph_optimizer_registry.cc:114] Plugin optimizer for device_type GPU is enabled.\n",
      "2024-03-14 12:00:34.814687: I tensorflow/core/grappler/optimizers/custom_graph_optimizer_registry.cc:114] Plugin optimizer for device_type GPU is enabled.\n"
     ]
    },
    {
     "name": "stdout",
     "output_type": "stream",
     "text": [
      "Validation loss : 0.1702103465795517\n",
      "Validation accuracy :  0.9160839319229126\n",
      "Training with parameters: {'batch_size': 32, 'dropout_rate': 0.3, 'hidden_layers': 2, 'hidden_units': 200, 'learning_rate': 0.01}\n"
     ]
    },
    {
     "name": "stderr",
     "output_type": "stream",
     "text": [
      "2024-03-14 12:00:51.561843: I tensorflow/core/grappler/optimizers/custom_graph_optimizer_registry.cc:114] Plugin optimizer for device_type GPU is enabled.\n",
      "2024-03-14 12:00:56.817143: I tensorflow/core/grappler/optimizers/custom_graph_optimizer_registry.cc:114] Plugin optimizer for device_type GPU is enabled.\n"
     ]
    },
    {
     "name": "stdout",
     "output_type": "stream",
     "text": [
      "Validation loss : 3.0829873085021973\n",
      "Validation accuracy :  0.7902097702026367\n",
      "Training with parameters: {'batch_size': 32, 'dropout_rate': 0.3, 'hidden_layers': 2, 'hidden_units': 200, 'learning_rate': 0.1}\n"
     ]
    },
    {
     "name": "stderr",
     "output_type": "stream",
     "text": [
      "2024-03-14 12:01:12.468099: I tensorflow/core/grappler/optimizers/custom_graph_optimizer_registry.cc:114] Plugin optimizer for device_type GPU is enabled.\n",
      "2024-03-14 12:01:18.077529: I tensorflow/core/grappler/optimizers/custom_graph_optimizer_registry.cc:114] Plugin optimizer for device_type GPU is enabled.\n"
     ]
    },
    {
     "name": "stdout",
     "output_type": "stream",
     "text": [
      "Validation loss : 2987.257568359375\n",
      "Validation accuracy :  0.7878788113594055\n",
      "Training with parameters: {'batch_size': 32, 'dropout_rate': 0.3, 'hidden_layers': 3, 'hidden_units': 50, 'learning_rate': 0.001}\n"
     ]
    },
    {
     "name": "stderr",
     "output_type": "stream",
     "text": [
      "2024-03-14 12:01:34.258336: I tensorflow/core/grappler/optimizers/custom_graph_optimizer_registry.cc:114] Plugin optimizer for device_type GPU is enabled.\n",
      "2024-03-14 12:01:40.448657: I tensorflow/core/grappler/optimizers/custom_graph_optimizer_registry.cc:114] Plugin optimizer for device_type GPU is enabled.\n"
     ]
    },
    {
     "name": "stdout",
     "output_type": "stream",
     "text": [
      "Validation loss : 0.20399396121501923\n",
      "Validation accuracy :  0.8927738666534424\n",
      "Training with parameters: {'batch_size': 32, 'dropout_rate': 0.3, 'hidden_layers': 3, 'hidden_units': 50, 'learning_rate': 0.01}\n"
     ]
    },
    {
     "name": "stderr",
     "output_type": "stream",
     "text": [
      "2024-03-14 12:02:00.242047: I tensorflow/core/grappler/optimizers/custom_graph_optimizer_registry.cc:114] Plugin optimizer for device_type GPU is enabled.\n",
      "2024-03-14 12:02:07.208136: I tensorflow/core/grappler/optimizers/custom_graph_optimizer_registry.cc:114] Plugin optimizer for device_type GPU is enabled.\n"
     ]
    },
    {
     "name": "stdout",
     "output_type": "stream",
     "text": [
      "Validation loss : 0.7648420929908752\n",
      "Validation accuracy :  0.806526780128479\n",
      "Training with parameters: {'batch_size': 32, 'dropout_rate': 0.3, 'hidden_layers': 3, 'hidden_units': 50, 'learning_rate': 0.1}\n"
     ]
    },
    {
     "name": "stderr",
     "output_type": "stream",
     "text": [
      "2024-03-14 12:02:25.859379: I tensorflow/core/grappler/optimizers/custom_graph_optimizer_registry.cc:114] Plugin optimizer for device_type GPU is enabled.\n",
      "2024-03-14 12:02:33.632375: I tensorflow/core/grappler/optimizers/custom_graph_optimizer_registry.cc:114] Plugin optimizer for device_type GPU is enabled.\n"
     ]
    },
    {
     "name": "stdout",
     "output_type": "stream",
     "text": [
      "Validation loss : 3772.0712890625\n",
      "Validation accuracy :  0.7062937021255493\n",
      "Training with parameters: {'batch_size': 32, 'dropout_rate': 0.3, 'hidden_layers': 3, 'hidden_units': 100, 'learning_rate': 0.001}\n"
     ]
    },
    {
     "name": "stderr",
     "output_type": "stream",
     "text": [
      "2024-03-14 12:02:52.266872: I tensorflow/core/grappler/optimizers/custom_graph_optimizer_registry.cc:114] Plugin optimizer for device_type GPU is enabled.\n",
      "2024-03-14 12:03:04.043239: I tensorflow/core/grappler/optimizers/custom_graph_optimizer_registry.cc:114] Plugin optimizer for device_type GPU is enabled.\n"
     ]
    },
    {
     "name": "stdout",
     "output_type": "stream",
     "text": [
      "Validation loss : 0.1696201115846634\n",
      "Validation accuracy :  0.9067599177360535\n",
      "Training with parameters: {'batch_size': 32, 'dropout_rate': 0.3, 'hidden_layers': 3, 'hidden_units': 100, 'learning_rate': 0.01}\n"
     ]
    },
    {
     "name": "stderr",
     "output_type": "stream",
     "text": [
      "2024-03-14 12:03:23.651630: I tensorflow/core/grappler/optimizers/custom_graph_optimizer_registry.cc:114] Plugin optimizer for device_type GPU is enabled.\n",
      "2024-03-14 12:03:30.382169: I tensorflow/core/grappler/optimizers/custom_graph_optimizer_registry.cc:114] Plugin optimizer for device_type GPU is enabled.\n"
     ]
    },
    {
     "name": "stdout",
     "output_type": "stream",
     "text": [
      "Validation loss : 1.332230806350708\n",
      "Validation accuracy :  0.8438228368759155\n",
      "Training with parameters: {'batch_size': 32, 'dropout_rate': 0.3, 'hidden_layers': 3, 'hidden_units': 100, 'learning_rate': 0.1}\n"
     ]
    },
    {
     "name": "stderr",
     "output_type": "stream",
     "text": [
      "2024-03-14 12:17:45.175907: I tensorflow/core/grappler/optimizers/custom_graph_optimizer_registry.cc:114] Plugin optimizer for device_type GPU is enabled.\n",
      "2024-03-14 12:17:51.757862: I tensorflow/core/grappler/optimizers/custom_graph_optimizer_registry.cc:114] Plugin optimizer for device_type GPU is enabled.\n"
     ]
    },
    {
     "name": "stdout",
     "output_type": "stream",
     "text": [
      "Validation loss : 3742.974609375\n",
      "Validation accuracy :  0.8414918184280396\n",
      "Training with parameters: {'batch_size': 32, 'dropout_rate': 0.3, 'hidden_layers': 3, 'hidden_units': 200, 'learning_rate': 0.001}\n"
     ]
    },
    {
     "name": "stderr",
     "output_type": "stream",
     "text": [
      "2024-03-14 12:18:09.952914: I tensorflow/core/grappler/optimizers/custom_graph_optimizer_registry.cc:114] Plugin optimizer for device_type GPU is enabled.\n",
      "2024-03-14 12:18:17.130173: I tensorflow/core/grappler/optimizers/custom_graph_optimizer_registry.cc:114] Plugin optimizer for device_type GPU is enabled.\n"
     ]
    },
    {
     "name": "stdout",
     "output_type": "stream",
     "text": [
      "Validation loss : 0.18085865676403046\n",
      "Validation accuracy :  0.9067599177360535\n",
      "Training with parameters: {'batch_size': 32, 'dropout_rate': 0.3, 'hidden_layers': 3, 'hidden_units': 200, 'learning_rate': 0.01}\n"
     ]
    },
    {
     "name": "stderr",
     "output_type": "stream",
     "text": [
      "2024-03-14 12:35:36.269305: I tensorflow/core/grappler/optimizers/custom_graph_optimizer_registry.cc:114] Plugin optimizer for device_type GPU is enabled.\n",
      "2024-03-14 12:35:43.470764: I tensorflow/core/grappler/optimizers/custom_graph_optimizer_registry.cc:114] Plugin optimizer for device_type GPU is enabled.\n"
     ]
    },
    {
     "name": "stdout",
     "output_type": "stream",
     "text": [
      "Validation loss : 3.3929758071899414\n",
      "Validation accuracy :  0.8974359035491943\n",
      "Training with parameters: {'batch_size': 32, 'dropout_rate': 0.3, 'hidden_layers': 3, 'hidden_units': 200, 'learning_rate': 0.1}\n"
     ]
    },
    {
     "name": "stderr",
     "output_type": "stream",
     "text": [
      "2024-03-14 12:36:01.023753: I tensorflow/core/grappler/optimizers/custom_graph_optimizer_registry.cc:114] Plugin optimizer for device_type GPU is enabled.\n",
      "2024-03-14 12:36:08.013613: I tensorflow/core/grappler/optimizers/custom_graph_optimizer_registry.cc:114] Plugin optimizer for device_type GPU is enabled.\n"
     ]
    },
    {
     "name": "stdout",
     "output_type": "stream",
     "text": [
      "Validation loss : 28509.095703125\n",
      "Validation accuracy :  0.881118893623352\n",
      "Training with parameters: {'batch_size': 16, 'dropout_rate': 0.1, 'hidden_layers': 1, 'hidden_units': 50, 'learning_rate': 0.001}\n"
     ]
    },
    {
     "name": "stderr",
     "output_type": "stream",
     "text": [
      "2024-03-14 12:36:25.521718: I tensorflow/core/grappler/optimizers/custom_graph_optimizer_registry.cc:114] Plugin optimizer for device_type GPU is enabled.\n",
      "2024-03-14 12:36:31.719463: I tensorflow/core/grappler/optimizers/custom_graph_optimizer_registry.cc:114] Plugin optimizer for device_type GPU is enabled.\n"
     ]
    },
    {
     "name": "stdout",
     "output_type": "stream",
     "text": [
      "Validation loss : 0.14269447326660156\n",
      "Validation accuracy :  0.9277389049530029\n",
      "Training with parameters: {'batch_size': 16, 'dropout_rate': 0.1, 'hidden_layers': 1, 'hidden_units': 50, 'learning_rate': 0.01}\n"
     ]
    },
    {
     "name": "stderr",
     "output_type": "stream",
     "text": [
      "2024-03-14 12:37:14.956661: I tensorflow/core/grappler/optimizers/custom_graph_optimizer_registry.cc:114] Plugin optimizer for device_type GPU is enabled.\n",
      "2024-03-14 12:37:20.860056: I tensorflow/core/grappler/optimizers/custom_graph_optimizer_registry.cc:114] Plugin optimizer for device_type GPU is enabled.\n"
     ]
    },
    {
     "name": "stdout",
     "output_type": "stream",
     "text": [
      "Validation loss : 0.19705362617969513\n",
      "Validation accuracy :  0.9044288992881775\n",
      "Training with parameters: {'batch_size': 16, 'dropout_rate': 0.1, 'hidden_layers': 1, 'hidden_units': 50, 'learning_rate': 0.1}\n"
     ]
    },
    {
     "name": "stderr",
     "output_type": "stream",
     "text": [
      "2024-03-14 12:37:44.244817: I tensorflow/core/grappler/optimizers/custom_graph_optimizer_registry.cc:114] Plugin optimizer for device_type GPU is enabled.\n",
      "2024-03-14 12:37:49.657746: I tensorflow/core/grappler/optimizers/custom_graph_optimizer_registry.cc:114] Plugin optimizer for device_type GPU is enabled.\n"
     ]
    },
    {
     "name": "stdout",
     "output_type": "stream",
     "text": [
      "Validation loss : 9.762513160705566\n",
      "Validation accuracy :  0.8974359035491943\n",
      "Training with parameters: {'batch_size': 16, 'dropout_rate': 0.1, 'hidden_layers': 1, 'hidden_units': 100, 'learning_rate': 0.001}\n"
     ]
    },
    {
     "name": "stderr",
     "output_type": "stream",
     "text": [
      "2024-03-14 12:38:13.452984: I tensorflow/core/grappler/optimizers/custom_graph_optimizer_registry.cc:114] Plugin optimizer for device_type GPU is enabled.\n",
      "2024-03-14 12:53:18.402848: I tensorflow/core/grappler/optimizers/custom_graph_optimizer_registry.cc:114] Plugin optimizer for device_type GPU is enabled.\n"
     ]
    },
    {
     "name": "stdout",
     "output_type": "stream",
     "text": [
      "Validation loss : 0.15108419954776764\n",
      "Validation accuracy :  0.9324009418487549\n",
      "Training with parameters: {'batch_size': 16, 'dropout_rate': 0.1, 'hidden_layers': 1, 'hidden_units': 100, 'learning_rate': 0.01}\n"
     ]
    },
    {
     "name": "stderr",
     "output_type": "stream",
     "text": [
      "2024-03-14 12:53:45.692234: I tensorflow/core/grappler/optimizers/custom_graph_optimizer_registry.cc:114] Plugin optimizer for device_type GPU is enabled.\n",
      "2024-03-14 12:53:51.734614: I tensorflow/core/grappler/optimizers/custom_graph_optimizer_registry.cc:114] Plugin optimizer for device_type GPU is enabled.\n"
     ]
    },
    {
     "name": "stdout",
     "output_type": "stream",
     "text": [
      "Validation loss : 0.20416703820228577\n",
      "Validation accuracy :  0.9254079461097717\n",
      "Training with parameters: {'batch_size': 16, 'dropout_rate': 0.1, 'hidden_layers': 1, 'hidden_units': 100, 'learning_rate': 0.1}\n"
     ]
    },
    {
     "name": "stderr",
     "output_type": "stream",
     "text": [
      "2024-03-14 12:54:16.366710: I tensorflow/core/grappler/optimizers/custom_graph_optimizer_registry.cc:114] Plugin optimizer for device_type GPU is enabled.\n",
      "2024-03-14 12:54:22.326960: I tensorflow/core/grappler/optimizers/custom_graph_optimizer_registry.cc:114] Plugin optimizer for device_type GPU is enabled.\n"
     ]
    },
    {
     "name": "stdout",
     "output_type": "stream",
     "text": [
      "Validation loss : 93.2535629272461\n",
      "Validation accuracy :  0.8601398468017578\n",
      "Training with parameters: {'batch_size': 16, 'dropout_rate': 0.1, 'hidden_layers': 1, 'hidden_units': 200, 'learning_rate': 0.001}\n"
     ]
    },
    {
     "name": "stderr",
     "output_type": "stream",
     "text": [
      "2024-03-14 13:09:22.046919: I tensorflow/core/grappler/optimizers/custom_graph_optimizer_registry.cc:114] Plugin optimizer for device_type GPU is enabled.\n",
      "2024-03-14 13:09:29.333453: I tensorflow/core/grappler/optimizers/custom_graph_optimizer_registry.cc:114] Plugin optimizer for device_type GPU is enabled.\n"
     ]
    },
    {
     "name": "stdout",
     "output_type": "stream",
     "text": [
      "Validation loss : 0.22996051609516144\n",
      "Validation accuracy :  0.9090909361839294\n",
      "Training with parameters: {'batch_size': 16, 'dropout_rate': 0.1, 'hidden_layers': 1, 'hidden_units': 200, 'learning_rate': 0.01}\n"
     ]
    },
    {
     "name": "stderr",
     "output_type": "stream",
     "text": [
      "2024-03-14 13:09:54.583537: I tensorflow/core/grappler/optimizers/custom_graph_optimizer_registry.cc:114] Plugin optimizer for device_type GPU is enabled.\n",
      "2024-03-14 13:10:00.883665: I tensorflow/core/grappler/optimizers/custom_graph_optimizer_registry.cc:114] Plugin optimizer for device_type GPU is enabled.\n"
     ]
    },
    {
     "name": "stdout",
     "output_type": "stream",
     "text": [
      "Validation loss : 0.8514392375946045\n",
      "Validation accuracy :  0.8321678042411804\n",
      "Training with parameters: {'batch_size': 16, 'dropout_rate': 0.1, 'hidden_layers': 1, 'hidden_units': 200, 'learning_rate': 0.1}\n"
     ]
    },
    {
     "name": "stderr",
     "output_type": "stream",
     "text": [
      "2024-03-14 13:10:25.854680: I tensorflow/core/grappler/optimizers/custom_graph_optimizer_registry.cc:114] Plugin optimizer for device_type GPU is enabled.\n",
      "2024-03-14 13:10:32.143306: I tensorflow/core/grappler/optimizers/custom_graph_optimizer_registry.cc:114] Plugin optimizer for device_type GPU is enabled.\n"
     ]
    },
    {
     "name": "stdout",
     "output_type": "stream",
     "text": [
      "Validation loss : 224.47640991210938\n",
      "Validation accuracy :  0.9160839319229126\n",
      "Training with parameters: {'batch_size': 16, 'dropout_rate': 0.1, 'hidden_layers': 2, 'hidden_units': 50, 'learning_rate': 0.001}\n"
     ]
    },
    {
     "name": "stderr",
     "output_type": "stream",
     "text": [
      "2024-03-14 13:10:57.218237: I tensorflow/core/grappler/optimizers/custom_graph_optimizer_registry.cc:114] Plugin optimizer for device_type GPU is enabled.\n",
      "2024-03-14 13:11:05.150081: I tensorflow/core/grappler/optimizers/custom_graph_optimizer_registry.cc:114] Plugin optimizer for device_type GPU is enabled.\n"
     ]
    },
    {
     "name": "stdout",
     "output_type": "stream",
     "text": [
      "Validation loss : 0.16622401773929596\n",
      "Validation accuracy :  0.9114218950271606\n",
      "Training with parameters: {'batch_size': 16, 'dropout_rate': 0.1, 'hidden_layers': 2, 'hidden_units': 50, 'learning_rate': 0.01}\n"
     ]
    },
    {
     "name": "stderr",
     "output_type": "stream",
     "text": [
      "2024-03-14 13:11:35.682793: I tensorflow/core/grappler/optimizers/custom_graph_optimizer_registry.cc:114] Plugin optimizer for device_type GPU is enabled.\n",
      "2024-03-14 13:11:43.180774: I tensorflow/core/grappler/optimizers/custom_graph_optimizer_registry.cc:114] Plugin optimizer for device_type GPU is enabled.\n"
     ]
    },
    {
     "name": "stdout",
     "output_type": "stream",
     "text": [
      "Validation loss : 0.4207093417644501\n",
      "Validation accuracy :  0.883449912071228\n",
      "Training with parameters: {'batch_size': 16, 'dropout_rate': 0.1, 'hidden_layers': 2, 'hidden_units': 50, 'learning_rate': 0.1}\n"
     ]
    },
    {
     "name": "stderr",
     "output_type": "stream",
     "text": [
      "2024-03-14 13:12:10.921757: I tensorflow/core/grappler/optimizers/custom_graph_optimizer_registry.cc:114] Plugin optimizer for device_type GPU is enabled.\n",
      "2024-03-14 13:12:19.717709: I tensorflow/core/grappler/optimizers/custom_graph_optimizer_registry.cc:114] Plugin optimizer for device_type GPU is enabled.\n"
     ]
    },
    {
     "name": "stdout",
     "output_type": "stream",
     "text": [
      "Validation loss : 502.1549987792969\n",
      "Validation accuracy :  0.8321678042411804\n",
      "Training with parameters: {'batch_size': 16, 'dropout_rate': 0.1, 'hidden_layers': 2, 'hidden_units': 100, 'learning_rate': 0.001}\n"
     ]
    },
    {
     "name": "stderr",
     "output_type": "stream",
     "text": [
      "2024-03-14 13:12:46.854628: I tensorflow/core/grappler/optimizers/custom_graph_optimizer_registry.cc:114] Plugin optimizer for device_type GPU is enabled.\n",
      "2024-03-14 13:12:55.351426: I tensorflow/core/grappler/optimizers/custom_graph_optimizer_registry.cc:114] Plugin optimizer for device_type GPU is enabled.\n"
     ]
    },
    {
     "name": "stdout",
     "output_type": "stream",
     "text": [
      "Validation loss : 0.15717019140720367\n",
      "Validation accuracy :  0.941724956035614\n",
      "Training with parameters: {'batch_size': 16, 'dropout_rate': 0.1, 'hidden_layers': 2, 'hidden_units': 100, 'learning_rate': 0.01}\n"
     ]
    },
    {
     "name": "stderr",
     "output_type": "stream",
     "text": [
      "2024-03-14 13:13:24.003217: I tensorflow/core/grappler/optimizers/custom_graph_optimizer_registry.cc:114] Plugin optimizer for device_type GPU is enabled.\n",
      "2024-03-14 13:13:31.790683: I tensorflow/core/grappler/optimizers/custom_graph_optimizer_registry.cc:114] Plugin optimizer for device_type GPU is enabled.\n"
     ]
    },
    {
     "name": "stdout",
     "output_type": "stream",
     "text": [
      "Validation loss : 2.664379835128784\n",
      "Validation accuracy :  0.7995337843894958\n",
      "Training with parameters: {'batch_size': 16, 'dropout_rate': 0.1, 'hidden_layers': 2, 'hidden_units': 100, 'learning_rate': 0.1}\n"
     ]
    },
    {
     "name": "stderr",
     "output_type": "stream",
     "text": [
      "2024-03-14 13:14:00.144800: I tensorflow/core/grappler/optimizers/custom_graph_optimizer_registry.cc:114] Plugin optimizer for device_type GPU is enabled.\n",
      "2024-03-14 13:14:09.299812: I tensorflow/core/grappler/optimizers/custom_graph_optimizer_registry.cc:114] Plugin optimizer for device_type GPU is enabled.\n"
     ]
    },
    {
     "name": "stdout",
     "output_type": "stream",
     "text": [
      "Validation loss : 842.53271484375\n",
      "Validation accuracy :  0.8997669219970703\n",
      "Training with parameters: {'batch_size': 16, 'dropout_rate': 0.1, 'hidden_layers': 2, 'hidden_units': 200, 'learning_rate': 0.001}\n"
     ]
    },
    {
     "name": "stderr",
     "output_type": "stream",
     "text": [
      "2024-03-14 13:14:37.519175: I tensorflow/core/grappler/optimizers/custom_graph_optimizer_registry.cc:114] Plugin optimizer for device_type GPU is enabled.\n",
      "2024-03-14 13:14:45.970239: I tensorflow/core/grappler/optimizers/custom_graph_optimizer_registry.cc:114] Plugin optimizer for device_type GPU is enabled.\n"
     ]
    },
    {
     "name": "stdout",
     "output_type": "stream",
     "text": [
      "Validation loss : 0.1485811024904251\n",
      "Validation accuracy :  0.9300699234008789\n",
      "Training with parameters: {'batch_size': 16, 'dropout_rate': 0.1, 'hidden_layers': 2, 'hidden_units': 200, 'learning_rate': 0.01}\n"
     ]
    },
    {
     "name": "stderr",
     "output_type": "stream",
     "text": [
      "2024-03-14 13:15:13.727577: I tensorflow/core/grappler/optimizers/custom_graph_optimizer_registry.cc:114] Plugin optimizer for device_type GPU is enabled.\n",
      "2024-03-14 13:15:22.904749: I tensorflow/core/grappler/optimizers/custom_graph_optimizer_registry.cc:114] Plugin optimizer for device_type GPU is enabled.\n"
     ]
    },
    {
     "name": "stdout",
     "output_type": "stream",
     "text": [
      "Validation loss : 35.80759048461914\n",
      "Validation accuracy :  0.687645673751831\n",
      "Training with parameters: {'batch_size': 16, 'dropout_rate': 0.1, 'hidden_layers': 2, 'hidden_units': 200, 'learning_rate': 0.1}\n"
     ]
    },
    {
     "name": "stderr",
     "output_type": "stream",
     "text": [
      "2024-03-14 13:15:50.869632: I tensorflow/core/grappler/optimizers/custom_graph_optimizer_registry.cc:114] Plugin optimizer for device_type GPU is enabled.\n",
      "2024-03-14 13:16:00.818785: I tensorflow/core/grappler/optimizers/custom_graph_optimizer_registry.cc:114] Plugin optimizer for device_type GPU is enabled.\n"
     ]
    },
    {
     "name": "stdout",
     "output_type": "stream",
     "text": [
      "Validation loss : 116193.65625\n",
      "Validation accuracy :  0.8228438496589661\n",
      "Training with parameters: {'batch_size': 16, 'dropout_rate': 0.1, 'hidden_layers': 3, 'hidden_units': 50, 'learning_rate': 0.001}\n"
     ]
    },
    {
     "name": "stderr",
     "output_type": "stream",
     "text": [
      "2024-03-14 13:16:28.816626: I tensorflow/core/grappler/optimizers/custom_graph_optimizer_registry.cc:114] Plugin optimizer for device_type GPU is enabled.\n",
      "2024-03-14 13:16:39.697253: I tensorflow/core/grappler/optimizers/custom_graph_optimizer_registry.cc:114] Plugin optimizer for device_type GPU is enabled.\n"
     ]
    },
    {
     "name": "stdout",
     "output_type": "stream",
     "text": [
      "Validation loss : 0.2409677505493164\n",
      "Validation accuracy :  0.8951048851013184\n",
      "Training with parameters: {'batch_size': 16, 'dropout_rate': 0.1, 'hidden_layers': 3, 'hidden_units': 50, 'learning_rate': 0.01}\n"
     ]
    },
    {
     "name": "stderr",
     "output_type": "stream",
     "text": [
      "2024-03-14 13:17:12.521461: I tensorflow/core/grappler/optimizers/custom_graph_optimizer_registry.cc:114] Plugin optimizer for device_type GPU is enabled.\n",
      "2024-03-14 13:17:24.046850: I tensorflow/core/grappler/optimizers/custom_graph_optimizer_registry.cc:114] Plugin optimizer for device_type GPU is enabled.\n"
     ]
    },
    {
     "name": "stdout",
     "output_type": "stream",
     "text": [
      "Validation loss : 1.332226037979126\n",
      "Validation accuracy :  0.8694638609886169\n",
      "Training with parameters: {'batch_size': 16, 'dropout_rate': 0.1, 'hidden_layers': 3, 'hidden_units': 50, 'learning_rate': 0.1}\n"
     ]
    },
    {
     "name": "stderr",
     "output_type": "stream",
     "text": [
      "2024-03-14 13:18:01.300030: I tensorflow/core/grappler/optimizers/custom_graph_optimizer_registry.cc:114] Plugin optimizer for device_type GPU is enabled.\n",
      "2024-03-14 13:18:12.436348: I tensorflow/core/grappler/optimizers/custom_graph_optimizer_registry.cc:114] Plugin optimizer for device_type GPU is enabled.\n"
     ]
    },
    {
     "name": "stdout",
     "output_type": "stream",
     "text": [
      "Validation loss : 986.21728515625\n",
      "Validation accuracy :  0.8787878751754761\n",
      "Training with parameters: {'batch_size': 16, 'dropout_rate': 0.1, 'hidden_layers': 3, 'hidden_units': 100, 'learning_rate': 0.001}\n"
     ]
    },
    {
     "name": "stderr",
     "output_type": "stream",
     "text": [
      "2024-03-14 13:18:45.659121: I tensorflow/core/grappler/optimizers/custom_graph_optimizer_registry.cc:114] Plugin optimizer for device_type GPU is enabled.\n",
      "2024-03-14 13:18:55.946254: I tensorflow/core/grappler/optimizers/custom_graph_optimizer_registry.cc:114] Plugin optimizer for device_type GPU is enabled.\n"
     ]
    },
    {
     "name": "stdout",
     "output_type": "stream",
     "text": [
      "Validation loss : 0.17789511382579803\n",
      "Validation accuracy :  0.9114218950271606\n",
      "Training with parameters: {'batch_size': 16, 'dropout_rate': 0.1, 'hidden_layers': 3, 'hidden_units': 100, 'learning_rate': 0.01}\n"
     ]
    },
    {
     "name": "stderr",
     "output_type": "stream",
     "text": [
      "2024-03-14 13:19:27.629087: I tensorflow/core/grappler/optimizers/custom_graph_optimizer_registry.cc:114] Plugin optimizer for device_type GPU is enabled.\n",
      "2024-03-14 13:19:38.198367: I tensorflow/core/grappler/optimizers/custom_graph_optimizer_registry.cc:114] Plugin optimizer for device_type GPU is enabled.\n"
     ]
    },
    {
     "name": "stdout",
     "output_type": "stream",
     "text": [
      "Validation loss : 1.7483699321746826\n",
      "Validation accuracy :  0.9300699234008789\n",
      "Training with parameters: {'batch_size': 16, 'dropout_rate': 0.1, 'hidden_layers': 3, 'hidden_units': 100, 'learning_rate': 0.1}\n"
     ]
    },
    {
     "name": "stderr",
     "output_type": "stream",
     "text": [
      "2024-03-14 13:20:09.608105: I tensorflow/core/grappler/optimizers/custom_graph_optimizer_registry.cc:114] Plugin optimizer for device_type GPU is enabled.\n",
      "2024-03-14 13:20:20.237751: I tensorflow/core/grappler/optimizers/custom_graph_optimizer_registry.cc:114] Plugin optimizer for device_type GPU is enabled.\n"
     ]
    },
    {
     "name": "stdout",
     "output_type": "stream",
     "text": [
      "Validation loss : 6230979.5\n",
      "Validation accuracy :  0.7948718070983887\n",
      "Training with parameters: {'batch_size': 16, 'dropout_rate': 0.1, 'hidden_layers': 3, 'hidden_units': 200, 'learning_rate': 0.001}\n"
     ]
    },
    {
     "name": "stderr",
     "output_type": "stream",
     "text": [
      "2024-03-14 13:20:52.422178: I tensorflow/core/grappler/optimizers/custom_graph_optimizer_registry.cc:114] Plugin optimizer for device_type GPU is enabled.\n",
      "2024-03-14 13:21:03.114182: I tensorflow/core/grappler/optimizers/custom_graph_optimizer_registry.cc:114] Plugin optimizer for device_type GPU is enabled.\n"
     ]
    },
    {
     "name": "stdout",
     "output_type": "stream",
     "text": [
      "Validation loss : 0.3795959949493408\n",
      "Validation accuracy :  0.8717948794364929\n",
      "Training with parameters: {'batch_size': 16, 'dropout_rate': 0.1, 'hidden_layers': 3, 'hidden_units': 200, 'learning_rate': 0.01}\n"
     ]
    },
    {
     "name": "stderr",
     "output_type": "stream",
     "text": [
      "2024-03-14 13:21:35.941670: I tensorflow/core/grappler/optimizers/custom_graph_optimizer_registry.cc:114] Plugin optimizer for device_type GPU is enabled.\n",
      "2024-03-14 13:21:46.950160: I tensorflow/core/grappler/optimizers/custom_graph_optimizer_registry.cc:114] Plugin optimizer for device_type GPU is enabled.\n"
     ]
    },
    {
     "name": "stdout",
     "output_type": "stream",
     "text": [
      "Validation loss : 157.23187255859375\n",
      "Validation accuracy :  0.8857808709144592\n",
      "Training with parameters: {'batch_size': 16, 'dropout_rate': 0.1, 'hidden_layers': 3, 'hidden_units': 200, 'learning_rate': 0.1}\n"
     ]
    },
    {
     "name": "stderr",
     "output_type": "stream",
     "text": [
      "2024-03-14 13:22:19.017143: I tensorflow/core/grappler/optimizers/custom_graph_optimizer_registry.cc:114] Plugin optimizer for device_type GPU is enabled.\n",
      "2024-03-14 13:22:29.847462: I tensorflow/core/grappler/optimizers/custom_graph_optimizer_registry.cc:114] Plugin optimizer for device_type GPU is enabled.\n"
     ]
    },
    {
     "name": "stdout",
     "output_type": "stream",
     "text": [
      "Validation loss : 361504.40625\n",
      "Validation accuracy :  0.8857808709144592\n",
      "Training with parameters: {'batch_size': 16, 'dropout_rate': 0.2, 'hidden_layers': 1, 'hidden_units': 50, 'learning_rate': 0.001}\n"
     ]
    },
    {
     "name": "stderr",
     "output_type": "stream",
     "text": [
      "2024-03-14 13:23:02.376371: I tensorflow/core/grappler/optimizers/custom_graph_optimizer_registry.cc:114] Plugin optimizer for device_type GPU is enabled.\n",
      "2024-03-14 13:23:10.682246: I tensorflow/core/grappler/optimizers/custom_graph_optimizer_registry.cc:114] Plugin optimizer for device_type GPU is enabled.\n"
     ]
    },
    {
     "name": "stdout",
     "output_type": "stream",
     "text": [
      "Validation loss : 0.23333674669265747\n",
      "Validation accuracy :  0.9090909361839294\n",
      "Training with parameters: {'batch_size': 16, 'dropout_rate': 0.2, 'hidden_layers': 1, 'hidden_units': 50, 'learning_rate': 0.01}\n"
     ]
    },
    {
     "name": "stderr",
     "output_type": "stream",
     "text": [
      "2024-03-14 13:23:57.497741: I tensorflow/core/grappler/optimizers/custom_graph_optimizer_registry.cc:114] Plugin optimizer for device_type GPU is enabled.\n",
      "2024-03-14 13:24:05.856860: I tensorflow/core/grappler/optimizers/custom_graph_optimizer_registry.cc:114] Plugin optimizer for device_type GPU is enabled.\n"
     ]
    },
    {
     "name": "stdout",
     "output_type": "stream",
     "text": [
      "Validation loss : 0.20235903561115265\n",
      "Validation accuracy :  0.9044288992881775\n",
      "Training with parameters: {'batch_size': 16, 'dropout_rate': 0.2, 'hidden_layers': 1, 'hidden_units': 50, 'learning_rate': 0.1}\n"
     ]
    },
    {
     "name": "stderr",
     "output_type": "stream",
     "text": [
      "2024-03-14 13:24:32.796395: I tensorflow/core/grappler/optimizers/custom_graph_optimizer_registry.cc:114] Plugin optimizer for device_type GPU is enabled.\n",
      "2024-03-14 13:24:41.326388: I tensorflow/core/grappler/optimizers/custom_graph_optimizer_registry.cc:114] Plugin optimizer for device_type GPU is enabled.\n"
     ]
    },
    {
     "name": "stdout",
     "output_type": "stream",
     "text": [
      "Validation loss : 32.484649658203125\n",
      "Validation accuracy :  0.8041958212852478\n",
      "Training with parameters: {'batch_size': 16, 'dropout_rate': 0.2, 'hidden_layers': 1, 'hidden_units': 100, 'learning_rate': 0.001}\n"
     ]
    },
    {
     "name": "stderr",
     "output_type": "stream",
     "text": [
      "2024-03-14 13:25:08.252815: I tensorflow/core/grappler/optimizers/custom_graph_optimizer_registry.cc:114] Plugin optimizer for device_type GPU is enabled.\n",
      "2024-03-14 13:25:16.850697: I tensorflow/core/grappler/optimizers/custom_graph_optimizer_registry.cc:114] Plugin optimizer for device_type GPU is enabled.\n"
     ]
    },
    {
     "name": "stdout",
     "output_type": "stream",
     "text": [
      "Validation loss : 0.164902001619339\n",
      "Validation accuracy :  0.9254079461097717\n",
      "Training with parameters: {'batch_size': 16, 'dropout_rate': 0.2, 'hidden_layers': 1, 'hidden_units': 100, 'learning_rate': 0.01}\n"
     ]
    },
    {
     "name": "stderr",
     "output_type": "stream",
     "text": [
      "2024-03-14 13:25:46.805641: I tensorflow/core/grappler/optimizers/custom_graph_optimizer_registry.cc:114] Plugin optimizer for device_type GPU is enabled.\n",
      "2024-03-14 13:25:55.564375: I tensorflow/core/grappler/optimizers/custom_graph_optimizer_registry.cc:114] Plugin optimizer for device_type GPU is enabled.\n"
     ]
    },
    {
     "name": "stdout",
     "output_type": "stream",
     "text": [
      "Validation loss : 1.0007617473602295\n",
      "Validation accuracy :  0.8158507943153381\n",
      "Training with parameters: {'batch_size': 16, 'dropout_rate': 0.2, 'hidden_layers': 1, 'hidden_units': 100, 'learning_rate': 0.1}\n"
     ]
    },
    {
     "name": "stderr",
     "output_type": "stream",
     "text": [
      "2024-03-14 13:26:22.492557: I tensorflow/core/grappler/optimizers/custom_graph_optimizer_registry.cc:114] Plugin optimizer for device_type GPU is enabled.\n",
      "2024-03-14 13:26:31.426486: I tensorflow/core/grappler/optimizers/custom_graph_optimizer_registry.cc:114] Plugin optimizer for device_type GPU is enabled.\n"
     ]
    },
    {
     "name": "stdout",
     "output_type": "stream",
     "text": [
      "Validation loss : 60.605201721191406\n",
      "Validation accuracy :  0.8181818127632141\n",
      "Training with parameters: {'batch_size': 16, 'dropout_rate': 0.2, 'hidden_layers': 1, 'hidden_units': 200, 'learning_rate': 0.001}\n"
     ]
    },
    {
     "name": "stderr",
     "output_type": "stream",
     "text": [
      "2024-03-14 13:26:58.841595: I tensorflow/core/grappler/optimizers/custom_graph_optimizer_registry.cc:114] Plugin optimizer for device_type GPU is enabled.\n",
      "2024-03-14 13:27:07.702421: I tensorflow/core/grappler/optimizers/custom_graph_optimizer_registry.cc:114] Plugin optimizer for device_type GPU is enabled.\n"
     ]
    },
    {
     "name": "stdout",
     "output_type": "stream",
     "text": [
      "Validation loss : 0.189551442861557\n",
      "Validation accuracy :  0.9067599177360535\n",
      "Training with parameters: {'batch_size': 16, 'dropout_rate': 0.2, 'hidden_layers': 1, 'hidden_units': 200, 'learning_rate': 0.01}\n"
     ]
    },
    {
     "name": "stderr",
     "output_type": "stream",
     "text": [
      "2024-03-14 13:27:35.266441: I tensorflow/core/grappler/optimizers/custom_graph_optimizer_registry.cc:114] Plugin optimizer for device_type GPU is enabled.\n",
      "2024-03-14 13:27:44.960384: I tensorflow/core/grappler/optimizers/custom_graph_optimizer_registry.cc:114] Plugin optimizer for device_type GPU is enabled.\n"
     ]
    },
    {
     "name": "stdout",
     "output_type": "stream",
     "text": [
      "Validation loss : 0.8697928786277771\n",
      "Validation accuracy :  0.8484848737716675\n",
      "Training with parameters: {'batch_size': 16, 'dropout_rate': 0.2, 'hidden_layers': 1, 'hidden_units': 200, 'learning_rate': 0.1}\n"
     ]
    },
    {
     "name": "stderr",
     "output_type": "stream",
     "text": [
      "2024-03-14 13:28:11.632911: I tensorflow/core/grappler/optimizers/custom_graph_optimizer_registry.cc:114] Plugin optimizer for device_type GPU is enabled.\n",
      "2024-03-14 13:28:20.088655: I tensorflow/core/grappler/optimizers/custom_graph_optimizer_registry.cc:114] Plugin optimizer for device_type GPU is enabled.\n"
     ]
    },
    {
     "name": "stdout",
     "output_type": "stream",
     "text": [
      "Validation loss : 125.6705093383789\n",
      "Validation accuracy :  0.9114218950271606\n",
      "Training with parameters: {'batch_size': 16, 'dropout_rate': 0.2, 'hidden_layers': 2, 'hidden_units': 50, 'learning_rate': 0.001}\n"
     ]
    },
    {
     "name": "stderr",
     "output_type": "stream",
     "text": [
      "2024-03-14 13:28:46.864658: I tensorflow/core/grappler/optimizers/custom_graph_optimizer_registry.cc:114] Plugin optimizer for device_type GPU is enabled.\n",
      "2024-03-14 13:28:57.135848: I tensorflow/core/grappler/optimizers/custom_graph_optimizer_registry.cc:114] Plugin optimizer for device_type GPU is enabled.\n"
     ]
    },
    {
     "name": "stdout",
     "output_type": "stream",
     "text": [
      "Validation loss : 0.15917794406414032\n",
      "Validation accuracy :  0.9300699234008789\n",
      "Training with parameters: {'batch_size': 16, 'dropout_rate': 0.2, 'hidden_layers': 2, 'hidden_units': 50, 'learning_rate': 0.01}\n"
     ]
    },
    {
     "name": "stderr",
     "output_type": "stream",
     "text": [
      "2024-03-14 13:29:28.061413: I tensorflow/core/grappler/optimizers/custom_graph_optimizer_registry.cc:114] Plugin optimizer for device_type GPU is enabled.\n",
      "2024-03-14 13:29:37.971242: I tensorflow/core/grappler/optimizers/custom_graph_optimizer_registry.cc:114] Plugin optimizer for device_type GPU is enabled.\n"
     ]
    },
    {
     "name": "stdout",
     "output_type": "stream",
     "text": [
      "Validation loss : 0.38183191418647766\n",
      "Validation accuracy :  0.881118893623352\n",
      "Training with parameters: {'batch_size': 16, 'dropout_rate': 0.2, 'hidden_layers': 2, 'hidden_units': 50, 'learning_rate': 0.1}\n"
     ]
    },
    {
     "name": "stderr",
     "output_type": "stream",
     "text": [
      "2024-03-14 13:30:06.793393: I tensorflow/core/grappler/optimizers/custom_graph_optimizer_registry.cc:114] Plugin optimizer for device_type GPU is enabled.\n",
      "2024-03-14 13:30:17.044977: I tensorflow/core/grappler/optimizers/custom_graph_optimizer_registry.cc:114] Plugin optimizer for device_type GPU is enabled.\n"
     ]
    },
    {
     "name": "stdout",
     "output_type": "stream",
     "text": [
      "Validation loss : 400.133544921875\n",
      "Validation accuracy :  0.8275058269500732\n",
      "Training with parameters: {'batch_size': 16, 'dropout_rate': 0.2, 'hidden_layers': 2, 'hidden_units': 100, 'learning_rate': 0.001}\n"
     ]
    },
    {
     "name": "stderr",
     "output_type": "stream",
     "text": [
      "2024-03-14 13:30:46.683625: I tensorflow/core/grappler/optimizers/custom_graph_optimizer_registry.cc:114] Plugin optimizer for device_type GPU is enabled.\n",
      "2024-03-14 13:30:57.020983: I tensorflow/core/grappler/optimizers/custom_graph_optimizer_registry.cc:114] Plugin optimizer for device_type GPU is enabled.\n"
     ]
    },
    {
     "name": "stdout",
     "output_type": "stream",
     "text": [
      "Validation loss : 0.29772311449050903\n",
      "Validation accuracy :  0.8904429078102112\n",
      "Training with parameters: {'batch_size': 16, 'dropout_rate': 0.2, 'hidden_layers': 2, 'hidden_units': 100, 'learning_rate': 0.01}\n"
     ]
    },
    {
     "name": "stderr",
     "output_type": "stream",
     "text": [
      "2024-03-14 13:31:27.677222: I tensorflow/core/grappler/optimizers/custom_graph_optimizer_registry.cc:114] Plugin optimizer for device_type GPU is enabled.\n",
      "2024-03-14 13:31:37.948290: I tensorflow/core/grappler/optimizers/custom_graph_optimizer_registry.cc:114] Plugin optimizer for device_type GPU is enabled.\n"
     ]
    },
    {
     "name": "stdout",
     "output_type": "stream",
     "text": [
      "Validation loss : 1.158319115638733\n",
      "Validation accuracy :  0.8787878751754761\n",
      "Training with parameters: {'batch_size': 16, 'dropout_rate': 0.2, 'hidden_layers': 2, 'hidden_units': 100, 'learning_rate': 0.1}\n"
     ]
    },
    {
     "name": "stderr",
     "output_type": "stream",
     "text": [
      "2024-03-14 13:32:07.114364: I tensorflow/core/grappler/optimizers/custom_graph_optimizer_registry.cc:114] Plugin optimizer for device_type GPU is enabled.\n",
      "2024-03-14 13:32:17.729629: I tensorflow/core/grappler/optimizers/custom_graph_optimizer_registry.cc:114] Plugin optimizer for device_type GPU is enabled.\n"
     ]
    },
    {
     "name": "stdout",
     "output_type": "stream",
     "text": [
      "Validation loss : 1919.376220703125\n",
      "Validation accuracy :  0.7249417304992676\n",
      "Training with parameters: {'batch_size': 16, 'dropout_rate': 0.2, 'hidden_layers': 2, 'hidden_units': 200, 'learning_rate': 0.001}\n"
     ]
    },
    {
     "name": "stderr",
     "output_type": "stream",
     "text": [
      "2024-03-14 13:32:47.487492: I tensorflow/core/grappler/optimizers/custom_graph_optimizer_registry.cc:114] Plugin optimizer for device_type GPU is enabled.\n",
      "2024-03-14 13:32:57.718394: I tensorflow/core/grappler/optimizers/custom_graph_optimizer_registry.cc:114] Plugin optimizer for device_type GPU is enabled.\n"
     ]
    },
    {
     "name": "stdout",
     "output_type": "stream",
     "text": [
      "Validation loss : 0.21801058948040009\n",
      "Validation accuracy :  0.9090909361839294\n",
      "Training with parameters: {'batch_size': 16, 'dropout_rate': 0.2, 'hidden_layers': 2, 'hidden_units': 200, 'learning_rate': 0.01}\n"
     ]
    },
    {
     "name": "stderr",
     "output_type": "stream",
     "text": [
      "2024-03-14 13:37:20.946470: I tensorflow/core/grappler/optimizers/custom_graph_optimizer_registry.cc:114] Plugin optimizer for device_type GPU is enabled.\n",
      "2024-03-14 13:37:31.129206: I tensorflow/core/grappler/optimizers/custom_graph_optimizer_registry.cc:114] Plugin optimizer for device_type GPU is enabled.\n"
     ]
    },
    {
     "name": "stdout",
     "output_type": "stream",
     "text": [
      "Validation loss : 3.5145463943481445\n",
      "Validation accuracy :  0.8904429078102112\n",
      "Training with parameters: {'batch_size': 16, 'dropout_rate': 0.2, 'hidden_layers': 2, 'hidden_units': 200, 'learning_rate': 0.1}\n"
     ]
    },
    {
     "name": "stderr",
     "output_type": "stream",
     "text": [
      "2024-03-14 13:38:01.903403: I tensorflow/core/grappler/optimizers/custom_graph_optimizer_registry.cc:114] Plugin optimizer for device_type GPU is enabled.\n",
      "2024-03-14 13:38:11.510598: I tensorflow/core/grappler/optimizers/custom_graph_optimizer_registry.cc:114] Plugin optimizer for device_type GPU is enabled.\n"
     ]
    },
    {
     "name": "stdout",
     "output_type": "stream",
     "text": [
      "Validation loss : 28483.974609375\n",
      "Validation accuracy :  0.6946386694908142\n",
      "Training with parameters: {'batch_size': 16, 'dropout_rate': 0.2, 'hidden_layers': 3, 'hidden_units': 50, 'learning_rate': 0.001}\n"
     ]
    },
    {
     "name": "stderr",
     "output_type": "stream",
     "text": [
      "2024-03-14 13:38:42.373657: I tensorflow/core/grappler/optimizers/custom_graph_optimizer_registry.cc:114] Plugin optimizer for device_type GPU is enabled.\n",
      "2024-03-14 13:38:53.598166: I tensorflow/core/grappler/optimizers/custom_graph_optimizer_registry.cc:114] Plugin optimizer for device_type GPU is enabled.\n"
     ]
    },
    {
     "name": "stdout",
     "output_type": "stream",
     "text": [
      "Validation loss : 0.2157822698354721\n",
      "Validation accuracy :  0.8974359035491943\n",
      "Training with parameters: {'batch_size': 16, 'dropout_rate': 0.2, 'hidden_layers': 3, 'hidden_units': 50, 'learning_rate': 0.01}\n"
     ]
    },
    {
     "name": "stderr",
     "output_type": "stream",
     "text": [
      "2024-03-14 13:39:29.662009: I tensorflow/core/grappler/optimizers/custom_graph_optimizer_registry.cc:114] Plugin optimizer for device_type GPU is enabled.\n",
      "2024-03-14 13:39:45.459937: I tensorflow/core/grappler/optimizers/custom_graph_optimizer_registry.cc:114] Plugin optimizer for device_type GPU is enabled.\n"
     ]
    },
    {
     "name": "stdout",
     "output_type": "stream",
     "text": [
      "Validation loss : 7.824165344238281\n",
      "Validation accuracy :  0.6736596822738647\n",
      "Training with parameters: {'batch_size': 16, 'dropout_rate': 0.2, 'hidden_layers': 3, 'hidden_units': 50, 'learning_rate': 0.1}\n"
     ]
    },
    {
     "name": "stderr",
     "output_type": "stream",
     "text": [
      "2024-03-14 13:40:20.059079: I tensorflow/core/grappler/optimizers/custom_graph_optimizer_registry.cc:114] Plugin optimizer for device_type GPU is enabled.\n",
      "2024-03-14 13:40:31.353585: I tensorflow/core/grappler/optimizers/custom_graph_optimizer_registry.cc:114] Plugin optimizer for device_type GPU is enabled.\n"
     ]
    },
    {
     "name": "stdout",
     "output_type": "stream",
     "text": [
      "Validation loss : 9176.154296875\n",
      "Validation accuracy :  0.6806526780128479\n",
      "Training with parameters: {'batch_size': 16, 'dropout_rate': 0.2, 'hidden_layers': 3, 'hidden_units': 100, 'learning_rate': 0.001}\n"
     ]
    },
    {
     "name": "stderr",
     "output_type": "stream",
     "text": [
      "2024-03-14 13:41:05.212248: I tensorflow/core/grappler/optimizers/custom_graph_optimizer_registry.cc:114] Plugin optimizer for device_type GPU is enabled.\n",
      "2024-03-14 13:41:15.253614: I tensorflow/core/grappler/optimizers/custom_graph_optimizer_registry.cc:114] Plugin optimizer for device_type GPU is enabled.\n"
     ]
    },
    {
     "name": "stdout",
     "output_type": "stream",
     "text": [
      "Validation loss : 0.18041229248046875\n",
      "Validation accuracy :  0.9160839319229126\n",
      "Training with parameters: {'batch_size': 16, 'dropout_rate': 0.2, 'hidden_layers': 3, 'hidden_units': 100, 'learning_rate': 0.01}\n"
     ]
    },
    {
     "name": "stderr",
     "output_type": "stream",
     "text": [
      "2024-03-14 13:41:49.748495: I tensorflow/core/grappler/optimizers/custom_graph_optimizer_registry.cc:114] Plugin optimizer for device_type GPU is enabled.\n",
      "2024-03-14 13:42:00.311858: I tensorflow/core/grappler/optimizers/custom_graph_optimizer_registry.cc:114] Plugin optimizer for device_type GPU is enabled.\n"
     ]
    },
    {
     "name": "stdout",
     "output_type": "stream",
     "text": [
      "Validation loss : 52.274234771728516\n",
      "Validation accuracy :  0.7296037077903748\n",
      "Training with parameters: {'batch_size': 16, 'dropout_rate': 0.2, 'hidden_layers': 3, 'hidden_units': 100, 'learning_rate': 0.1}\n"
     ]
    },
    {
     "name": "stderr",
     "output_type": "stream",
     "text": [
      "2024-03-14 13:42:34.626540: I tensorflow/core/grappler/optimizers/custom_graph_optimizer_registry.cc:114] Plugin optimizer for device_type GPU is enabled.\n",
      "2024-03-14 13:42:45.325245: I tensorflow/core/grappler/optimizers/custom_graph_optimizer_registry.cc:114] Plugin optimizer for device_type GPU is enabled.\n"
     ]
    },
    {
     "name": "stdout",
     "output_type": "stream",
     "text": [
      "Validation loss : 55756.44921875\n",
      "Validation accuracy :  0.883449912071228\n",
      "Training with parameters: {'batch_size': 16, 'dropout_rate': 0.2, 'hidden_layers': 3, 'hidden_units': 200, 'learning_rate': 0.001}\n"
     ]
    },
    {
     "name": "stderr",
     "output_type": "stream",
     "text": [
      "2024-03-14 13:43:19.336193: I tensorflow/core/grappler/optimizers/custom_graph_optimizer_registry.cc:114] Plugin optimizer for device_type GPU is enabled.\n",
      "2024-03-14 13:43:29.297255: I tensorflow/core/grappler/optimizers/custom_graph_optimizer_registry.cc:114] Plugin optimizer for device_type GPU is enabled.\n"
     ]
    },
    {
     "name": "stdout",
     "output_type": "stream",
     "text": [
      "Validation loss : 0.152303546667099\n",
      "Validation accuracy :  0.941724956035614\n",
      "Training with parameters: {'batch_size': 16, 'dropout_rate': 0.2, 'hidden_layers': 3, 'hidden_units': 200, 'learning_rate': 0.01}\n"
     ]
    },
    {
     "name": "stderr",
     "output_type": "stream",
     "text": [
      "2024-03-14 13:44:02.394744: I tensorflow/core/grappler/optimizers/custom_graph_optimizer_registry.cc:114] Plugin optimizer for device_type GPU is enabled.\n",
      "2024-03-14 13:44:12.739037: I tensorflow/core/grappler/optimizers/custom_graph_optimizer_registry.cc:114] Plugin optimizer for device_type GPU is enabled.\n"
     ]
    },
    {
     "name": "stdout",
     "output_type": "stream",
     "text": [
      "Validation loss : 4.444911956787109\n",
      "Validation accuracy :  0.8927738666534424\n",
      "Training with parameters: {'batch_size': 16, 'dropout_rate': 0.2, 'hidden_layers': 3, 'hidden_units': 200, 'learning_rate': 0.1}\n"
     ]
    },
    {
     "name": "stderr",
     "output_type": "stream",
     "text": [
      "2024-03-14 13:44:45.676757: I tensorflow/core/grappler/optimizers/custom_graph_optimizer_registry.cc:114] Plugin optimizer for device_type GPU is enabled.\n",
      "2024-03-14 13:44:57.715470: I tensorflow/core/grappler/optimizers/custom_graph_optimizer_registry.cc:114] Plugin optimizer for device_type GPU is enabled.\n"
     ]
    },
    {
     "name": "stdout",
     "output_type": "stream",
     "text": [
      "Validation loss : 4414510.5\n",
      "Validation accuracy :  0.881118893623352\n",
      "Training with parameters: {'batch_size': 16, 'dropout_rate': 0.3, 'hidden_layers': 1, 'hidden_units': 50, 'learning_rate': 0.001}\n"
     ]
    },
    {
     "name": "stderr",
     "output_type": "stream",
     "text": [
      "2024-03-14 13:45:31.048360: I tensorflow/core/grappler/optimizers/custom_graph_optimizer_registry.cc:114] Plugin optimizer for device_type GPU is enabled.\n",
      "2024-03-14 13:45:39.546424: I tensorflow/core/grappler/optimizers/custom_graph_optimizer_registry.cc:114] Plugin optimizer for device_type GPU is enabled.\n"
     ]
    },
    {
     "name": "stdout",
     "output_type": "stream",
     "text": [
      "Validation loss : 0.18149490654468536\n",
      "Validation accuracy :  0.9207459092140198\n",
      "Training with parameters: {'batch_size': 16, 'dropout_rate': 0.3, 'hidden_layers': 1, 'hidden_units': 50, 'learning_rate': 0.01}\n"
     ]
    },
    {
     "name": "stderr",
     "output_type": "stream",
     "text": [
      "2024-03-14 13:46:23.608330: I tensorflow/core/grappler/optimizers/custom_graph_optimizer_registry.cc:114] Plugin optimizer for device_type GPU is enabled.\n",
      "2024-03-14 13:46:31.718228: I tensorflow/core/grappler/optimizers/custom_graph_optimizer_registry.cc:114] Plugin optimizer for device_type GPU is enabled.\n"
     ]
    },
    {
     "name": "stdout",
     "output_type": "stream",
     "text": [
      "Validation loss : 0.21103975176811218\n",
      "Validation accuracy :  0.8997669219970703\n",
      "Training with parameters: {'batch_size': 16, 'dropout_rate': 0.3, 'hidden_layers': 1, 'hidden_units': 50, 'learning_rate': 0.1}\n"
     ]
    },
    {
     "name": "stderr",
     "output_type": "stream",
     "text": [
      "2024-03-14 13:46:59.972666: I tensorflow/core/grappler/optimizers/custom_graph_optimizer_registry.cc:114] Plugin optimizer for device_type GPU is enabled.\n",
      "2024-03-14 13:47:08.383181: I tensorflow/core/grappler/optimizers/custom_graph_optimizer_registry.cc:114] Plugin optimizer for device_type GPU is enabled.\n"
     ]
    },
    {
     "name": "stdout",
     "output_type": "stream",
     "text": [
      "Validation loss : 27.430849075317383\n",
      "Validation accuracy :  0.806526780128479\n",
      "Training with parameters: {'batch_size': 16, 'dropout_rate': 0.3, 'hidden_layers': 1, 'hidden_units': 100, 'learning_rate': 0.001}\n"
     ]
    },
    {
     "name": "stderr",
     "output_type": "stream",
     "text": [
      "2024-03-14 13:47:36.418828: I tensorflow/core/grappler/optimizers/custom_graph_optimizer_registry.cc:114] Plugin optimizer for device_type GPU is enabled.\n",
      "2024-03-14 13:47:45.004147: I tensorflow/core/grappler/optimizers/custom_graph_optimizer_registry.cc:114] Plugin optimizer for device_type GPU is enabled.\n"
     ]
    },
    {
     "name": "stdout",
     "output_type": "stream",
     "text": [
      "Validation loss : 0.21512895822525024\n",
      "Validation accuracy :  0.9137529134750366\n",
      "Training with parameters: {'batch_size': 16, 'dropout_rate': 0.3, 'hidden_layers': 1, 'hidden_units': 100, 'learning_rate': 0.01}\n"
     ]
    },
    {
     "name": "stderr",
     "output_type": "stream",
     "text": [
      "2024-03-14 13:48:16.803012: I tensorflow/core/grappler/optimizers/custom_graph_optimizer_registry.cc:114] Plugin optimizer for device_type GPU is enabled.\n",
      "2024-03-14 13:48:25.009129: I tensorflow/core/grappler/optimizers/custom_graph_optimizer_registry.cc:114] Plugin optimizer for device_type GPU is enabled.\n"
     ]
    },
    {
     "name": "stdout",
     "output_type": "stream",
     "text": [
      "Validation loss : 0.18816925585269928\n",
      "Validation accuracy :  0.9184148907661438\n",
      "Training with parameters: {'batch_size': 16, 'dropout_rate': 0.3, 'hidden_layers': 1, 'hidden_units': 100, 'learning_rate': 0.1}\n"
     ]
    },
    {
     "name": "stderr",
     "output_type": "stream",
     "text": [
      "2024-03-14 13:48:52.592984: I tensorflow/core/grappler/optimizers/custom_graph_optimizer_registry.cc:114] Plugin optimizer for device_type GPU is enabled.\n",
      "2024-03-14 13:49:01.317328: I tensorflow/core/grappler/optimizers/custom_graph_optimizer_registry.cc:114] Plugin optimizer for device_type GPU is enabled.\n"
     ]
    },
    {
     "name": "stdout",
     "output_type": "stream",
     "text": [
      "Validation loss : 64.06568145751953\n",
      "Validation accuracy :  0.8368298411369324\n",
      "Training with parameters: {'batch_size': 16, 'dropout_rate': 0.3, 'hidden_layers': 1, 'hidden_units': 200, 'learning_rate': 0.001}\n"
     ]
    },
    {
     "name": "stderr",
     "output_type": "stream",
     "text": [
      "2024-03-14 13:49:29.414808: I tensorflow/core/grappler/optimizers/custom_graph_optimizer_registry.cc:114] Plugin optimizer for device_type GPU is enabled.\n",
      "2024-03-14 13:49:38.072031: I tensorflow/core/grappler/optimizers/custom_graph_optimizer_registry.cc:114] Plugin optimizer for device_type GPU is enabled.\n"
     ]
    },
    {
     "name": "stdout",
     "output_type": "stream",
     "text": [
      "Validation loss : 0.1562039852142334\n",
      "Validation accuracy :  0.9160839319229126\n",
      "Training with parameters: {'batch_size': 16, 'dropout_rate': 0.3, 'hidden_layers': 1, 'hidden_units': 200, 'learning_rate': 0.01}\n"
     ]
    },
    {
     "name": "stderr",
     "output_type": "stream",
     "text": [
      "2024-03-14 13:50:09.362898: I tensorflow/core/grappler/optimizers/custom_graph_optimizer_registry.cc:114] Plugin optimizer for device_type GPU is enabled.\n",
      "2024-03-14 13:50:18.038650: I tensorflow/core/grappler/optimizers/custom_graph_optimizer_registry.cc:114] Plugin optimizer for device_type GPU is enabled.\n"
     ]
    },
    {
     "name": "stdout",
     "output_type": "stream",
     "text": [
      "Validation loss : 0.3099093437194824\n",
      "Validation accuracy :  0.9207459092140198\n",
      "Training with parameters: {'batch_size': 16, 'dropout_rate': 0.3, 'hidden_layers': 1, 'hidden_units': 200, 'learning_rate': 0.1}\n"
     ]
    },
    {
     "name": "stderr",
     "output_type": "stream",
     "text": [
      "2024-03-14 13:50:46.027764: I tensorflow/core/grappler/optimizers/custom_graph_optimizer_registry.cc:114] Plugin optimizer for device_type GPU is enabled.\n",
      "2024-03-14 13:50:54.445475: I tensorflow/core/grappler/optimizers/custom_graph_optimizer_registry.cc:114] Plugin optimizer for device_type GPU is enabled.\n"
     ]
    },
    {
     "name": "stdout",
     "output_type": "stream",
     "text": [
      "Validation loss : 193.09390258789062\n",
      "Validation accuracy :  0.8997669219970703\n",
      "Training with parameters: {'batch_size': 16, 'dropout_rate': 0.3, 'hidden_layers': 2, 'hidden_units': 50, 'learning_rate': 0.001}\n"
     ]
    },
    {
     "name": "stderr",
     "output_type": "stream",
     "text": [
      "2024-03-14 13:51:22.163312: I tensorflow/core/grappler/optimizers/custom_graph_optimizer_registry.cc:114] Plugin optimizer for device_type GPU is enabled.\n",
      "2024-03-14 13:51:31.535816: I tensorflow/core/grappler/optimizers/custom_graph_optimizer_registry.cc:114] Plugin optimizer for device_type GPU is enabled.\n"
     ]
    },
    {
     "name": "stdout",
     "output_type": "stream",
     "text": [
      "Validation loss : 0.21932266652584076\n",
      "Validation accuracy :  0.9044288992881775\n",
      "Training with parameters: {'batch_size': 16, 'dropout_rate': 0.3, 'hidden_layers': 2, 'hidden_units': 50, 'learning_rate': 0.01}\n"
     ]
    },
    {
     "name": "stderr",
     "output_type": "stream",
     "text": [
      "2024-03-14 13:52:04.157944: I tensorflow/core/grappler/optimizers/custom_graph_optimizer_registry.cc:114] Plugin optimizer for device_type GPU is enabled.\n",
      "2024-03-14 13:52:14.022420: I tensorflow/core/grappler/optimizers/custom_graph_optimizer_registry.cc:114] Plugin optimizer for device_type GPU is enabled.\n"
     ]
    },
    {
     "name": "stdout",
     "output_type": "stream",
     "text": [
      "Validation loss : 0.9783642888069153\n",
      "Validation accuracy :  0.8298368453979492\n",
      "Training with parameters: {'batch_size': 16, 'dropout_rate': 0.3, 'hidden_layers': 2, 'hidden_units': 50, 'learning_rate': 0.1}\n"
     ]
    },
    {
     "name": "stderr",
     "output_type": "stream",
     "text": [
      "2024-03-14 13:52:45.313183: I tensorflow/core/grappler/optimizers/custom_graph_optimizer_registry.cc:114] Plugin optimizer for device_type GPU is enabled.\n",
      "2024-03-14 13:52:55.337256: I tensorflow/core/grappler/optimizers/custom_graph_optimizer_registry.cc:114] Plugin optimizer for device_type GPU is enabled.\n"
     ]
    },
    {
     "name": "stdout",
     "output_type": "stream",
     "text": [
      "Validation loss : 462.4292907714844\n",
      "Validation accuracy :  0.8228438496589661\n",
      "Training with parameters: {'batch_size': 16, 'dropout_rate': 0.3, 'hidden_layers': 2, 'hidden_units': 100, 'learning_rate': 0.001}\n"
     ]
    },
    {
     "name": "stderr",
     "output_type": "stream",
     "text": [
      "2024-03-14 13:53:24.949122: I tensorflow/core/grappler/optimizers/custom_graph_optimizer_registry.cc:114] Plugin optimizer for device_type GPU is enabled.\n",
      "2024-03-14 13:53:35.058288: I tensorflow/core/grappler/optimizers/custom_graph_optimizer_registry.cc:114] Plugin optimizer for device_type GPU is enabled.\n"
     ]
    },
    {
     "name": "stdout",
     "output_type": "stream",
     "text": [
      "Validation loss : 0.16032062470912933\n",
      "Validation accuracy :  0.9230769276618958\n",
      "Training with parameters: {'batch_size': 16, 'dropout_rate': 0.3, 'hidden_layers': 2, 'hidden_units': 100, 'learning_rate': 0.01}\n"
     ]
    },
    {
     "name": "stderr",
     "output_type": "stream",
     "text": [
      "2024-03-14 13:54:06.651184: I tensorflow/core/grappler/optimizers/custom_graph_optimizer_registry.cc:114] Plugin optimizer for device_type GPU is enabled.\n",
      "2024-03-14 13:54:16.694871: I tensorflow/core/grappler/optimizers/custom_graph_optimizer_registry.cc:114] Plugin optimizer for device_type GPU is enabled.\n"
     ]
    },
    {
     "name": "stdout",
     "output_type": "stream",
     "text": [
      "Validation loss : 11.993263244628906\n",
      "Validation accuracy :  0.7925407886505127\n",
      "Training with parameters: {'batch_size': 16, 'dropout_rate': 0.3, 'hidden_layers': 2, 'hidden_units': 100, 'learning_rate': 0.1}\n"
     ]
    },
    {
     "name": "stderr",
     "output_type": "stream",
     "text": [
      "2024-03-14 13:54:47.132565: I tensorflow/core/grappler/optimizers/custom_graph_optimizer_registry.cc:114] Plugin optimizer for device_type GPU is enabled.\n",
      "2024-03-14 13:54:57.071433: I tensorflow/core/grappler/optimizers/custom_graph_optimizer_registry.cc:114] Plugin optimizer for device_type GPU is enabled.\n"
     ]
    },
    {
     "name": "stdout",
     "output_type": "stream",
     "text": [
      "Validation loss : 1427.84716796875\n",
      "Validation accuracy :  0.8624708652496338\n",
      "Training with parameters: {'batch_size': 16, 'dropout_rate': 0.3, 'hidden_layers': 2, 'hidden_units': 200, 'learning_rate': 0.001}\n"
     ]
    },
    {
     "name": "stderr",
     "output_type": "stream",
     "text": [
      "2024-03-14 13:55:27.941283: I tensorflow/core/grappler/optimizers/custom_graph_optimizer_registry.cc:114] Plugin optimizer for device_type GPU is enabled.\n",
      "2024-03-14 13:55:38.210397: I tensorflow/core/grappler/optimizers/custom_graph_optimizer_registry.cc:114] Plugin optimizer for device_type GPU is enabled.\n"
     ]
    },
    {
     "name": "stdout",
     "output_type": "stream",
     "text": [
      "Validation loss : 0.17830142378807068\n",
      "Validation accuracy :  0.9137529134750366\n",
      "Training with parameters: {'batch_size': 16, 'dropout_rate': 0.3, 'hidden_layers': 2, 'hidden_units': 200, 'learning_rate': 0.01}\n"
     ]
    },
    {
     "name": "stderr",
     "output_type": "stream",
     "text": [
      "2024-03-14 13:56:09.096684: I tensorflow/core/grappler/optimizers/custom_graph_optimizer_registry.cc:114] Plugin optimizer for device_type GPU is enabled.\n",
      "2024-03-14 13:56:18.763293: I tensorflow/core/grappler/optimizers/custom_graph_optimizer_registry.cc:114] Plugin optimizer for device_type GPU is enabled.\n"
     ]
    },
    {
     "name": "stdout",
     "output_type": "stream",
     "text": [
      "Validation loss : 16.48838233947754\n",
      "Validation accuracy :  0.806526780128479\n",
      "Training with parameters: {'batch_size': 16, 'dropout_rate': 0.3, 'hidden_layers': 2, 'hidden_units': 200, 'learning_rate': 0.1}\n"
     ]
    },
    {
     "name": "stderr",
     "output_type": "stream",
     "text": [
      "2024-03-14 13:56:49.948049: I tensorflow/core/grappler/optimizers/custom_graph_optimizer_registry.cc:114] Plugin optimizer for device_type GPU is enabled.\n",
      "2024-03-14 13:56:59.410241: I tensorflow/core/grappler/optimizers/custom_graph_optimizer_registry.cc:114] Plugin optimizer for device_type GPU is enabled.\n"
     ]
    },
    {
     "name": "stdout",
     "output_type": "stream",
     "text": [
      "Validation loss : 8668.6650390625\n",
      "Validation accuracy :  0.8717948794364929\n",
      "Training with parameters: {'batch_size': 16, 'dropout_rate': 0.3, 'hidden_layers': 3, 'hidden_units': 50, 'learning_rate': 0.001}\n"
     ]
    },
    {
     "name": "stderr",
     "output_type": "stream",
     "text": [
      "2024-03-14 13:57:36.214578: I tensorflow/core/grappler/optimizers/custom_graph_optimizer_registry.cc:114] Plugin optimizer for device_type GPU is enabled.\n",
      "2024-03-14 13:57:47.881753: I tensorflow/core/grappler/optimizers/custom_graph_optimizer_registry.cc:114] Plugin optimizer for device_type GPU is enabled.\n"
     ]
    },
    {
     "name": "stdout",
     "output_type": "stream",
     "text": [
      "Validation loss : 0.2254817634820938\n",
      "Validation accuracy :  0.8904429078102112\n",
      "Training with parameters: {'batch_size': 16, 'dropout_rate': 0.3, 'hidden_layers': 3, 'hidden_units': 50, 'learning_rate': 0.01}\n"
     ]
    },
    {
     "name": "stderr",
     "output_type": "stream",
     "text": [
      "2024-03-14 13:58:26.089865: I tensorflow/core/grappler/optimizers/custom_graph_optimizer_registry.cc:114] Plugin optimizer for device_type GPU is enabled.\n",
      "2024-03-14 13:58:37.509672: I tensorflow/core/grappler/optimizers/custom_graph_optimizer_registry.cc:114] Plugin optimizer for device_type GPU is enabled.\n"
     ]
    },
    {
     "name": "stdout",
     "output_type": "stream",
     "text": [
      "Validation loss : 3.920299768447876\n",
      "Validation accuracy :  0.8135198354721069\n",
      "Training with parameters: {'batch_size': 16, 'dropout_rate': 0.3, 'hidden_layers': 3, 'hidden_units': 50, 'learning_rate': 0.1}\n"
     ]
    },
    {
     "name": "stderr",
     "output_type": "stream",
     "text": [
      "2024-03-14 13:59:10.447854: I tensorflow/core/grappler/optimizers/custom_graph_optimizer_registry.cc:114] Plugin optimizer for device_type GPU is enabled.\n",
      "2024-03-14 13:59:21.620711: I tensorflow/core/grappler/optimizers/custom_graph_optimizer_registry.cc:114] Plugin optimizer for device_type GPU is enabled.\n"
     ]
    },
    {
     "name": "stdout",
     "output_type": "stream",
     "text": [
      "Validation loss : 125125.5078125\n",
      "Validation accuracy :  0.7668997645378113\n",
      "Training with parameters: {'batch_size': 16, 'dropout_rate': 0.3, 'hidden_layers': 3, 'hidden_units': 100, 'learning_rate': 0.001}\n"
     ]
    },
    {
     "name": "stderr",
     "output_type": "stream",
     "text": [
      "2024-03-14 13:59:55.312404: I tensorflow/core/grappler/optimizers/custom_graph_optimizer_registry.cc:114] Plugin optimizer for device_type GPU is enabled.\n",
      "2024-03-14 14:00:06.884327: I tensorflow/core/grappler/optimizers/custom_graph_optimizer_registry.cc:114] Plugin optimizer for device_type GPU is enabled.\n"
     ]
    },
    {
     "name": "stdout",
     "output_type": "stream",
     "text": [
      "Validation loss : 0.16213233768939972\n",
      "Validation accuracy :  0.9230769276618958\n",
      "Training with parameters: {'batch_size': 16, 'dropout_rate': 0.3, 'hidden_layers': 3, 'hidden_units': 100, 'learning_rate': 0.01}\n"
     ]
    },
    {
     "name": "stderr",
     "output_type": "stream",
     "text": [
      "2024-03-14 14:00:42.607667: I tensorflow/core/grappler/optimizers/custom_graph_optimizer_registry.cc:114] Plugin optimizer for device_type GPU is enabled.\n",
      "2024-03-14 14:00:53.338744: I tensorflow/core/grappler/optimizers/custom_graph_optimizer_registry.cc:114] Plugin optimizer for device_type GPU is enabled.\n"
     ]
    },
    {
     "name": "stdout",
     "output_type": "stream",
     "text": [
      "Validation loss : 4.77573299407959\n",
      "Validation accuracy :  0.7365967631340027\n",
      "Training with parameters: {'batch_size': 16, 'dropout_rate': 0.3, 'hidden_layers': 3, 'hidden_units': 100, 'learning_rate': 0.1}\n"
     ]
    },
    {
     "name": "stderr",
     "output_type": "stream",
     "text": [
      "2024-03-14 14:01:26.857635: I tensorflow/core/grappler/optimizers/custom_graph_optimizer_registry.cc:114] Plugin optimizer for device_type GPU is enabled.\n",
      "2024-03-14 14:01:38.732534: I tensorflow/core/grappler/optimizers/custom_graph_optimizer_registry.cc:114] Plugin optimizer for device_type GPU is enabled.\n"
     ]
    },
    {
     "name": "stdout",
     "output_type": "stream",
     "text": [
      "Validation loss : 42856.36328125\n",
      "Validation accuracy :  0.8648018836975098\n",
      "Training with parameters: {'batch_size': 16, 'dropout_rate': 0.3, 'hidden_layers': 3, 'hidden_units': 200, 'learning_rate': 0.001}\n"
     ]
    },
    {
     "name": "stderr",
     "output_type": "stream",
     "text": [
      "2024-03-14 14:02:11.515860: I tensorflow/core/grappler/optimizers/custom_graph_optimizer_registry.cc:114] Plugin optimizer for device_type GPU is enabled.\n",
      "2024-03-14 14:02:26.166837: I tensorflow/core/grappler/optimizers/custom_graph_optimizer_registry.cc:114] Plugin optimizer for device_type GPU is enabled.\n"
     ]
    },
    {
     "name": "stdout",
     "output_type": "stream",
     "text": [
      "Validation loss : 0.18521861732006073\n",
      "Validation accuracy :  0.9137529134750366\n",
      "Training with parameters: {'batch_size': 16, 'dropout_rate': 0.3, 'hidden_layers': 3, 'hidden_units': 200, 'learning_rate': 0.01}\n"
     ]
    },
    {
     "name": "stderr",
     "output_type": "stream",
     "text": [
      "2024-03-14 14:03:01.054928: I tensorflow/core/grappler/optimizers/custom_graph_optimizer_registry.cc:114] Plugin optimizer for device_type GPU is enabled.\n",
      "2024-03-14 14:03:11.957162: I tensorflow/core/grappler/optimizers/custom_graph_optimizer_registry.cc:114] Plugin optimizer for device_type GPU is enabled.\n"
     ]
    },
    {
     "name": "stdout",
     "output_type": "stream",
     "text": [
      "Validation loss : 11.54222297668457\n",
      "Validation accuracy :  0.8181818127632141\n",
      "Training with parameters: {'batch_size': 16, 'dropout_rate': 0.3, 'hidden_layers': 3, 'hidden_units': 200, 'learning_rate': 0.1}\n"
     ]
    },
    {
     "name": "stderr",
     "output_type": "stream",
     "text": [
      "2024-03-14 14:03:46.966453: I tensorflow/core/grappler/optimizers/custom_graph_optimizer_registry.cc:114] Plugin optimizer for device_type GPU is enabled.\n",
      "2024-03-14 14:03:58.638700: I tensorflow/core/grappler/optimizers/custom_graph_optimizer_registry.cc:114] Plugin optimizer for device_type GPU is enabled.\n"
     ]
    },
    {
     "name": "stdout",
     "output_type": "stream",
     "text": [
      "Validation loss : 54413.81640625\n",
      "Validation accuracy :  0.9137529134750366\n",
      "Best parameters: {'batch_size': 16, 'dropout_rate': 0.1, 'hidden_layers': 3, 'hidden_units': 100, 'learning_rate': 0.1}\n",
      "Best validation accuracy: 6230979.5\n"
     ]
    }
   ],
   "source": [
    "from sklearn.model_selection import ParameterGrid\n",
    "\n",
    "# 하이퍼파라미터 그리드 정의\n",
    "param_grid = {\n",
    "    'learning_rate': [0.001, 0.01, 0.1],\n",
    "    'dropout_rate': [0.1, 0.2, 0.3],\n",
    "    'hidden_layers': [1, 2, 3],\n",
    "    'hidden_units': [50, 100, 200],\n",
    "    'batch_size' : [64, 32, 16]\n",
    "}\n",
    "\n",
    "# 하이퍼파라미터 그리드를 순회하며 그리드 서치 실행\n",
    "best_accuracy = 0\n",
    "best_params = {}\n",
    "new_df = pd.DataFrame()\n",
    "\n",
    "for params in ParameterGrid(param_grid):\n",
    "    print(\"Training with parameters:\", params)\n",
    "    \n",
    "    # 모델 생성\n",
    "    model = keras.Sequential()\n",
    "    model.add(keras.layers.Dense(params['hidden_units'], activation='relu', input_shape=(9,)))\n",
    "    model.add(keras.layers.Dropout(params['dropout_rate']))\n",
    "    \n",
    "    for _ in range(params['hidden_layers']):\n",
    "        model.add(keras.layers.Dense(params['hidden_units'], activation='relu'))\n",
    "        model.add(keras.layers.Dropout(params['dropout_rate']))\n",
    "    \n",
    "    model.add(keras.layers.Dense(1, activation='sigmoid'))\n",
    "    \n",
    "    # 모델 컴파일\n",
    "    optimizer = tf.keras.optimizers.legacy.Adam(learning_rate=params['learning_rate'])\n",
    "    model.compile(optimizer=optimizer, loss='binary_crossentropy', metrics=['accuracy'])\n",
    "    \n",
    "    # 모델 훈련\n",
    "    history = model.fit(train_scale, train_output, epochs=1000, batch_size=params['batch_size'], \n",
    "                        validation_data=(val_scale, val_output), \n",
    "                        callbacks=[callback, checkpoint_cb],\n",
    "                        verbose=0)\n",
    "    \n",
    "    # 검증 세트에 대한 정확도 계산\n",
    "    val_accuracy_and_loss = model.evaluate(val_scale, val_output, verbose=0)\n",
    "    print(\"Validation loss :\", val_accuracy_and_loss[0])\n",
    "    print(\"Validation accuracy : \", val_accuracy_and_loss[1])\n",
    "\n",
    "    data_params = [params['learning_rate'], params['dropout_rate'], params['hidden_layers'], params['hidden_units'], params['batch_size'], val_accuracy_and_loss[0], val_accuracy_and_loss[1]]\n",
    "    params_df = pd.DataFrame({\"Learning_Rate\" : [params['learning_rate']], 'Dropout_Rate' : [params['dropout_rate']], \"Hidden_units\" : [params['hidden_units']], \"Batch_size\" : [params['batch_size']], \"Validation_Loss\" : [val_accuracy_and_loss[0]], \"Validation_Accuracy\" : [val_accuracy_and_loss[1]]})\n",
    "    new_df = pd.concat([new_df, params_df], ignore_index = True)\n",
    "\n",
    "    # 최적의 하이퍼파라미터와 정확도 업데이트\n",
    "    if val_accuracy_and_loss[0] > best_accuracy:\n",
    "        best_accuracy = val_accuracy_and_loss[0]\n",
    "        best_params = params\n",
    "    model.save_weights('best-hyperparameters.h5')\n",
    "    \n",
    "print(\"Best parameters:\", best_params)\n",
    "print(\"Best validation accuracy:\", best_accuracy)\n",
    "\n"
   ]
  },
  {
   "cell_type": "code",
   "execution_count": 37,
   "metadata": {},
   "outputs": [
    {
     "data": {
      "text/html": [
       "<div>\n",
       "<style scoped>\n",
       "    .dataframe tbody tr th:only-of-type {\n",
       "        vertical-align: middle;\n",
       "    }\n",
       "\n",
       "    .dataframe tbody tr th {\n",
       "        vertical-align: top;\n",
       "    }\n",
       "\n",
       "    .dataframe thead th {\n",
       "        text-align: right;\n",
       "    }\n",
       "</style>\n",
       "<table border=\"1\" class=\"dataframe\">\n",
       "  <thead>\n",
       "    <tr style=\"text-align: right;\">\n",
       "      <th></th>\n",
       "      <th>Learning_Rate</th>\n",
       "      <th>Dropout_Rate</th>\n",
       "      <th>Hidden_units</th>\n",
       "      <th>Batch_size</th>\n",
       "      <th>Validation_Loss</th>\n",
       "      <th>Validation_Accuracy</th>\n",
       "    </tr>\n",
       "  </thead>\n",
       "  <tbody>\n",
       "    <tr>\n",
       "      <th>0</th>\n",
       "      <td>0.001</td>\n",
       "      <td>0.1</td>\n",
       "      <td>50</td>\n",
       "      <td>64</td>\n",
       "      <td>0.184297</td>\n",
       "      <td>0.916084</td>\n",
       "    </tr>\n",
       "    <tr>\n",
       "      <th>1</th>\n",
       "      <td>0.010</td>\n",
       "      <td>0.1</td>\n",
       "      <td>50</td>\n",
       "      <td>64</td>\n",
       "      <td>0.173782</td>\n",
       "      <td>0.920746</td>\n",
       "    </tr>\n",
       "    <tr>\n",
       "      <th>2</th>\n",
       "      <td>0.100</td>\n",
       "      <td>0.1</td>\n",
       "      <td>50</td>\n",
       "      <td>64</td>\n",
       "      <td>1.692451</td>\n",
       "      <td>0.750583</td>\n",
       "    </tr>\n",
       "    <tr>\n",
       "      <th>3</th>\n",
       "      <td>0.001</td>\n",
       "      <td>0.1</td>\n",
       "      <td>100</td>\n",
       "      <td>64</td>\n",
       "      <td>0.171089</td>\n",
       "      <td>0.909091</td>\n",
       "    </tr>\n",
       "    <tr>\n",
       "      <th>4</th>\n",
       "      <td>0.010</td>\n",
       "      <td>0.1</td>\n",
       "      <td>100</td>\n",
       "      <td>64</td>\n",
       "      <td>0.956652</td>\n",
       "      <td>0.755245</td>\n",
       "    </tr>\n",
       "    <tr>\n",
       "      <th>...</th>\n",
       "      <td>...</td>\n",
       "      <td>...</td>\n",
       "      <td>...</td>\n",
       "      <td>...</td>\n",
       "      <td>...</td>\n",
       "      <td>...</td>\n",
       "    </tr>\n",
       "    <tr>\n",
       "      <th>238</th>\n",
       "      <td>0.010</td>\n",
       "      <td>0.3</td>\n",
       "      <td>100</td>\n",
       "      <td>16</td>\n",
       "      <td>4.775733</td>\n",
       "      <td>0.736597</td>\n",
       "    </tr>\n",
       "    <tr>\n",
       "      <th>239</th>\n",
       "      <td>0.100</td>\n",
       "      <td>0.3</td>\n",
       "      <td>100</td>\n",
       "      <td>16</td>\n",
       "      <td>42856.363281</td>\n",
       "      <td>0.864802</td>\n",
       "    </tr>\n",
       "    <tr>\n",
       "      <th>240</th>\n",
       "      <td>0.001</td>\n",
       "      <td>0.3</td>\n",
       "      <td>200</td>\n",
       "      <td>16</td>\n",
       "      <td>0.185219</td>\n",
       "      <td>0.913753</td>\n",
       "    </tr>\n",
       "    <tr>\n",
       "      <th>241</th>\n",
       "      <td>0.010</td>\n",
       "      <td>0.3</td>\n",
       "      <td>200</td>\n",
       "      <td>16</td>\n",
       "      <td>11.542223</td>\n",
       "      <td>0.818182</td>\n",
       "    </tr>\n",
       "    <tr>\n",
       "      <th>242</th>\n",
       "      <td>0.100</td>\n",
       "      <td>0.3</td>\n",
       "      <td>200</td>\n",
       "      <td>16</td>\n",
       "      <td>54413.816406</td>\n",
       "      <td>0.913753</td>\n",
       "    </tr>\n",
       "  </tbody>\n",
       "</table>\n",
       "<p>243 rows × 6 columns</p>\n",
       "</div>"
      ],
      "text/plain": [
       "     Learning_Rate  Dropout_Rate  Hidden_units  Batch_size  Validation_Loss   \n",
       "0            0.001           0.1            50          64         0.184297  \\\n",
       "1            0.010           0.1            50          64         0.173782   \n",
       "2            0.100           0.1            50          64         1.692451   \n",
       "3            0.001           0.1           100          64         0.171089   \n",
       "4            0.010           0.1           100          64         0.956652   \n",
       "..             ...           ...           ...         ...              ...   \n",
       "238          0.010           0.3           100          16         4.775733   \n",
       "239          0.100           0.3           100          16     42856.363281   \n",
       "240          0.001           0.3           200          16         0.185219   \n",
       "241          0.010           0.3           200          16        11.542223   \n",
       "242          0.100           0.3           200          16     54413.816406   \n",
       "\n",
       "     Validation_Accuracy  \n",
       "0               0.916084  \n",
       "1               0.920746  \n",
       "2               0.750583  \n",
       "3               0.909091  \n",
       "4               0.755245  \n",
       "..                   ...  \n",
       "238             0.736597  \n",
       "239             0.864802  \n",
       "240             0.913753  \n",
       "241             0.818182  \n",
       "242             0.913753  \n",
       "\n",
       "[243 rows x 6 columns]"
      ]
     },
     "execution_count": 37,
     "metadata": {},
     "output_type": "execute_result"
    }
   ],
   "source": [
    "new_df.to_csv('gridsearch_hyperparameters.csv')\n",
    "new_df"
   ]
  },
  {
   "cell_type": "code",
   "execution_count": 35,
   "metadata": {},
   "outputs": [
    {
     "data": {
      "text/html": [
       "<div>\n",
       "<style scoped>\n",
       "    .dataframe tbody tr th:only-of-type {\n",
       "        vertical-align: middle;\n",
       "    }\n",
       "\n",
       "    .dataframe tbody tr th {\n",
       "        vertical-align: top;\n",
       "    }\n",
       "\n",
       "    .dataframe thead th {\n",
       "        text-align: right;\n",
       "    }\n",
       "</style>\n",
       "<table border=\"1\" class=\"dataframe\">\n",
       "  <thead>\n",
       "    <tr style=\"text-align: right;\">\n",
       "      <th></th>\n",
       "      <th>Best_Hyperparameters</th>\n",
       "    </tr>\n",
       "  </thead>\n",
       "  <tbody>\n",
       "    <tr>\n",
       "      <th>Batch_Size</th>\n",
       "      <td>16.0</td>\n",
       "    </tr>\n",
       "    <tr>\n",
       "      <th>Dropout_Rate</th>\n",
       "      <td>0.1</td>\n",
       "    </tr>\n",
       "    <tr>\n",
       "      <th>Hidden_Layers</th>\n",
       "      <td>3.0</td>\n",
       "    </tr>\n",
       "    <tr>\n",
       "      <th>Hidden_Units</th>\n",
       "      <td>100.0</td>\n",
       "    </tr>\n",
       "    <tr>\n",
       "      <th>Learning_Rate</th>\n",
       "      <td>0.1</td>\n",
       "    </tr>\n",
       "    <tr>\n",
       "      <th>Best_Accuracy</th>\n",
       "      <td>6230979.5</td>\n",
       "    </tr>\n",
       "  </tbody>\n",
       "</table>\n",
       "</div>"
      ],
      "text/plain": [
       "               Best_Hyperparameters\n",
       "Batch_Size                     16.0\n",
       "Dropout_Rate                    0.1\n",
       "Hidden_Layers                   3.0\n",
       "Hidden_Units                  100.0\n",
       "Learning_Rate                   0.1\n",
       "Best_Accuracy             6230979.5"
      ]
     },
     "execution_count": 35,
     "metadata": {},
     "output_type": "execute_result"
    }
   ],
   "source": [
    "data = [best_params['batch_size'], best_params['dropout_rate'], best_params['hidden_layers'], best_params['hidden_units'], best_params['learning_rate'], best_accuracy]\n",
    "grid_result = pd.DataFrame(data=data, columns = ['Best_Hyperparameters'], index = ['Batch_Size', 'Dropout_Rate', 'Hidden_Layers', 'Hidden_Units', 'Learning_Rate', 'Best_Accuracy'])\n",
    "grid_result.to_csv('GridSearch_Result')\n",
    "grid_result"
   ]
  }
 ],
 "metadata": {
  "kernelspec": {
   "display_name": "Python 3",
   "language": "python",
   "name": "python3"
  },
  "language_info": {
   "codemirror_mode": {
    "name": "ipython",
    "version": 3
   },
   "file_extension": ".py",
   "mimetype": "text/x-python",
   "name": "python",
   "nbconvert_exporter": "python",
   "pygments_lexer": "ipython3",
   "version": "3.11.2"
  },
  "orig_nbformat": 4
 },
 "nbformat": 4,
 "nbformat_minor": 2
}
