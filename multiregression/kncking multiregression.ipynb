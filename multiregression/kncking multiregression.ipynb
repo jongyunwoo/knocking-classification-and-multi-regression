{
 "cells": [
  {
   "attachments": {},
   "cell_type": "markdown",
   "metadata": {},
   "source": [
    "# Data preprocessing and split"
   ]
  },
  {
   "cell_type": "code",
   "execution_count": 35,
   "metadata": {},
   "outputs": [
    {
     "name": "stdout",
     "output_type": "stream",
     "text": [
      "2.13.0\n"
     ]
    }
   ],
   "source": [
    "import pandas as pd\n",
    "import numpy as np\n",
    "import matplotlib.pyplot as plt\n",
    "import tensorflow as tf\n",
    "from tensorflow import keras\n",
    "from keras import optimizers\n",
    "from sklearn.preprocessing import StandardScaler\n",
    "from sklearn.model_selection import train_test_split\n",
    "\n",
    "print(tf.__version__)"
   ]
  },
  {
   "cell_type": "code",
   "execution_count": 36,
   "metadata": {},
   "outputs": [
    {
     "data": {
      "text/html": [
       "<div>\n",
       "<style scoped>\n",
       "    .dataframe tbody tr th:only-of-type {\n",
       "        vertical-align: middle;\n",
       "    }\n",
       "\n",
       "    .dataframe tbody tr th {\n",
       "        vertical-align: top;\n",
       "    }\n",
       "\n",
       "    .dataframe thead th {\n",
       "        text-align: right;\n",
       "    }\n",
       "</style>\n",
       "<table border=\"1\" class=\"dataframe\">\n",
       "  <thead>\n",
       "    <tr style=\"text-align: right;\">\n",
       "      <th></th>\n",
       "      <th>Case</th>\n",
       "      <th>Engine Speed</th>\n",
       "      <th>Spark Timing</th>\n",
       "      <th>Throttle Angle</th>\n",
       "      <th>Ambient Temperature</th>\n",
       "      <th>Intake Pressure</th>\n",
       "      <th>Intake Temperature</th>\n",
       "      <th>Exhaust Pressure</th>\n",
       "      <th>Exhaust Temperature</th>\n",
       "      <th>Injected Mass</th>\n",
       "      <th>Maximum Pressure</th>\n",
       "      <th>Crank Angle at Maximum Pressure</th>\n",
       "      <th>Maximum Rate of Pressure Rise</th>\n",
       "      <th>BMEP</th>\n",
       "      <th>IMEP</th>\n",
       "      <th>BSFC</th>\n",
       "      <th>BSNOx</th>\n",
       "      <th>BSCO</th>\n",
       "      <th>Knocking Index</th>\n",
       "      <th>Knocking</th>\n",
       "    </tr>\n",
       "  </thead>\n",
       "  <tbody>\n",
       "    <tr>\n",
       "      <th>547</th>\n",
       "      <td>546.0</td>\n",
       "      <td>2000</td>\n",
       "      <td>-10</td>\n",
       "      <td>30</td>\n",
       "      <td>283</td>\n",
       "      <td>0.975</td>\n",
       "      <td>288.8</td>\n",
       "      <td>1.069</td>\n",
       "      <td>858.7</td>\n",
       "      <td>36.89</td>\n",
       "      <td>39.8</td>\n",
       "      <td>27.96</td>\n",
       "      <td>1.33</td>\n",
       "      <td>8.67</td>\n",
       "      <td>10.1</td>\n",
       "      <td>307.4</td>\n",
       "      <td>2.91</td>\n",
       "      <td>222.7</td>\n",
       "      <td>0.0</td>\n",
       "      <td>0.0</td>\n",
       "    </tr>\n",
       "    <tr>\n",
       "      <th>548</th>\n",
       "      <td>547.0</td>\n",
       "      <td>2000</td>\n",
       "      <td>-10</td>\n",
       "      <td>30</td>\n",
       "      <td>293</td>\n",
       "      <td>0.974</td>\n",
       "      <td>295.5</td>\n",
       "      <td>1.068</td>\n",
       "      <td>858.6</td>\n",
       "      <td>36.61</td>\n",
       "      <td>39.5</td>\n",
       "      <td>27.48</td>\n",
       "      <td>1.32</td>\n",
       "      <td>8.6</td>\n",
       "      <td>9.98</td>\n",
       "      <td>307.2</td>\n",
       "      <td>2.99</td>\n",
       "      <td>220.9</td>\n",
       "      <td>0.0</td>\n",
       "      <td>0.0</td>\n",
       "    </tr>\n",
       "    <tr>\n",
       "      <th>549</th>\n",
       "      <td>548.0</td>\n",
       "      <td>2000</td>\n",
       "      <td>-10</td>\n",
       "      <td>30</td>\n",
       "      <td>303</td>\n",
       "      <td>0.974</td>\n",
       "      <td>302.3</td>\n",
       "      <td>1.067</td>\n",
       "      <td>858.1</td>\n",
       "      <td>36.35</td>\n",
       "      <td>39.2</td>\n",
       "      <td>27.62</td>\n",
       "      <td>1.31</td>\n",
       "      <td>8.53</td>\n",
       "      <td>9.86</td>\n",
       "      <td>307.5</td>\n",
       "      <td>3.03</td>\n",
       "      <td>221.4</td>\n",
       "      <td>0.0</td>\n",
       "      <td>0.0</td>\n",
       "    </tr>\n",
       "    <tr>\n",
       "      <th>550</th>\n",
       "      <td>549.0</td>\n",
       "      <td>2000</td>\n",
       "      <td>-10</td>\n",
       "      <td>35</td>\n",
       "      <td>283</td>\n",
       "      <td>0.982</td>\n",
       "      <td>288.8</td>\n",
       "      <td>1.07</td>\n",
       "      <td>861.2</td>\n",
       "      <td>37.35</td>\n",
       "      <td>40.9</td>\n",
       "      <td>27.25</td>\n",
       "      <td>1.39</td>\n",
       "      <td>8.82</td>\n",
       "      <td>10.31</td>\n",
       "      <td>304.4</td>\n",
       "      <td>3.23</td>\n",
       "      <td>215.2</td>\n",
       "      <td>0.0</td>\n",
       "      <td>0.0</td>\n",
       "    </tr>\n",
       "    <tr>\n",
       "      <th>551</th>\n",
       "      <td>550.0</td>\n",
       "      <td>2000</td>\n",
       "      <td>-10</td>\n",
       "      <td>35</td>\n",
       "      <td>293</td>\n",
       "      <td>0.982</td>\n",
       "      <td>295.6</td>\n",
       "      <td>1.069</td>\n",
       "      <td>858.9</td>\n",
       "      <td>37.1</td>\n",
       "      <td>40.6</td>\n",
       "      <td>27.41</td>\n",
       "      <td>1.39</td>\n",
       "      <td>8.75</td>\n",
       "      <td>10.19</td>\n",
       "      <td>306.1</td>\n",
       "      <td>3.09</td>\n",
       "      <td>221.4</td>\n",
       "      <td>0.0</td>\n",
       "      <td>0.0</td>\n",
       "    </tr>\n",
       "    <tr>\n",
       "      <th>...</th>\n",
       "      <td>...</td>\n",
       "      <td>...</td>\n",
       "      <td>...</td>\n",
       "      <td>...</td>\n",
       "      <td>...</td>\n",
       "      <td>...</td>\n",
       "      <td>...</td>\n",
       "      <td>...</td>\n",
       "      <td>...</td>\n",
       "      <td>...</td>\n",
       "      <td>...</td>\n",
       "      <td>...</td>\n",
       "      <td>...</td>\n",
       "      <td>...</td>\n",
       "      <td>...</td>\n",
       "      <td>...</td>\n",
       "      <td>...</td>\n",
       "      <td>...</td>\n",
       "      <td>...</td>\n",
       "      <td>...</td>\n",
       "    </tr>\n",
       "    <tr>\n",
       "      <th>2141</th>\n",
       "      <td>2140.0</td>\n",
       "      <td>6000</td>\n",
       "      <td>-10</td>\n",
       "      <td>85</td>\n",
       "      <td>293</td>\n",
       "      <td>0.969</td>\n",
       "      <td>294.1</td>\n",
       "      <td>1.493</td>\n",
       "      <td>1088.4</td>\n",
       "      <td>48.07</td>\n",
       "      <td>33.1</td>\n",
       "      <td>36.97</td>\n",
       "      <td>0.78</td>\n",
       "      <td>8.13</td>\n",
       "      <td>10.29</td>\n",
       "      <td>426</td>\n",
       "      <td>1.73</td>\n",
       "      <td>403</td>\n",
       "      <td>0.0</td>\n",
       "      <td>0.0</td>\n",
       "    </tr>\n",
       "    <tr>\n",
       "      <th>2142</th>\n",
       "      <td>2141.0</td>\n",
       "      <td>6000</td>\n",
       "      <td>-10</td>\n",
       "      <td>85</td>\n",
       "      <td>303</td>\n",
       "      <td>0.969</td>\n",
       "      <td>301.6</td>\n",
       "      <td>1.488</td>\n",
       "      <td>1089.5</td>\n",
       "      <td>47.74</td>\n",
       "      <td>33.3</td>\n",
       "      <td>36.99</td>\n",
       "      <td>0.78</td>\n",
       "      <td>8.08</td>\n",
       "      <td>10.27</td>\n",
       "      <td>425.9</td>\n",
       "      <td>1.81</td>\n",
       "      <td>402.8</td>\n",
       "      <td>0.0</td>\n",
       "      <td>0.0</td>\n",
       "    </tr>\n",
       "    <tr>\n",
       "      <th>2143</th>\n",
       "      <td>2142.0</td>\n",
       "      <td>6000</td>\n",
       "      <td>-10</td>\n",
       "      <td>90</td>\n",
       "      <td>283</td>\n",
       "      <td>0.97</td>\n",
       "      <td>286.6</td>\n",
       "      <td>1.498</td>\n",
       "      <td>1088.9</td>\n",
       "      <td>48.4</td>\n",
       "      <td>32.9</td>\n",
       "      <td>37.96</td>\n",
       "      <td>0.78</td>\n",
       "      <td>8.2</td>\n",
       "      <td>10.31</td>\n",
       "      <td>424.8</td>\n",
       "      <td>1.72</td>\n",
       "      <td>399.2</td>\n",
       "      <td>0.0</td>\n",
       "      <td>0.0</td>\n",
       "    </tr>\n",
       "    <tr>\n",
       "      <th>2144</th>\n",
       "      <td>2143.0</td>\n",
       "      <td>6000</td>\n",
       "      <td>-10</td>\n",
       "      <td>90</td>\n",
       "      <td>293</td>\n",
       "      <td>0.969</td>\n",
       "      <td>294.1</td>\n",
       "      <td>1.493</td>\n",
       "      <td>1088.5</td>\n",
       "      <td>48.08</td>\n",
       "      <td>33.1</td>\n",
       "      <td>36.97</td>\n",
       "      <td>0.78</td>\n",
       "      <td>8.14</td>\n",
       "      <td>10.29</td>\n",
       "      <td>425.9</td>\n",
       "      <td>1.74</td>\n",
       "      <td>402.7</td>\n",
       "      <td>0.0</td>\n",
       "      <td>0.0</td>\n",
       "    </tr>\n",
       "    <tr>\n",
       "      <th>2145</th>\n",
       "      <td>2144.0</td>\n",
       "      <td>6000</td>\n",
       "      <td>-10</td>\n",
       "      <td>90</td>\n",
       "      <td>303</td>\n",
       "      <td>0.969</td>\n",
       "      <td>301.6</td>\n",
       "      <td>1.488</td>\n",
       "      <td>1089.2</td>\n",
       "      <td>47.75</td>\n",
       "      <td>33.3</td>\n",
       "      <td>36.99</td>\n",
       "      <td>0.78</td>\n",
       "      <td>8.08</td>\n",
       "      <td>10.27</td>\n",
       "      <td>426</td>\n",
       "      <td>1.8</td>\n",
       "      <td>403.3</td>\n",
       "      <td>0.0</td>\n",
       "      <td>0.0</td>\n",
       "    </tr>\n",
       "  </tbody>\n",
       "</table>\n",
       "<p>1064 rows × 20 columns</p>\n",
       "</div>"
      ],
      "text/plain": [
       "        Case Engine Speed Spark Timing Throttle Angle Ambient Temperature   \n",
       "547    546.0         2000          -10             30                 283  \\\n",
       "548    547.0         2000          -10             30                 293   \n",
       "549    548.0         2000          -10             30                 303   \n",
       "550    549.0         2000          -10             35                 283   \n",
       "551    550.0         2000          -10             35                 293   \n",
       "...      ...          ...          ...            ...                 ...   \n",
       "2141  2140.0         6000          -10             85                 293   \n",
       "2142  2141.0         6000          -10             85                 303   \n",
       "2143  2142.0         6000          -10             90                 283   \n",
       "2144  2143.0         6000          -10             90                 293   \n",
       "2145  2144.0         6000          -10             90                 303   \n",
       "\n",
       "     Intake Pressure Intake Temperature Exhaust Pressure Exhaust Temperature   \n",
       "547            0.975              288.8            1.069               858.7  \\\n",
       "548            0.974              295.5            1.068               858.6   \n",
       "549            0.974              302.3            1.067               858.1   \n",
       "550            0.982              288.8             1.07               861.2   \n",
       "551            0.982              295.6            1.069               858.9   \n",
       "...              ...                ...              ...                 ...   \n",
       "2141           0.969              294.1            1.493              1088.4   \n",
       "2142           0.969              301.6            1.488              1089.5   \n",
       "2143            0.97              286.6            1.498              1088.9   \n",
       "2144           0.969              294.1            1.493              1088.5   \n",
       "2145           0.969              301.6            1.488              1089.2   \n",
       "\n",
       "     Injected Mass Maximum Pressure Crank Angle at Maximum Pressure   \n",
       "547          36.89             39.8                           27.96  \\\n",
       "548          36.61             39.5                           27.48   \n",
       "549          36.35             39.2                           27.62   \n",
       "550          37.35             40.9                           27.25   \n",
       "551           37.1             40.6                           27.41   \n",
       "...            ...              ...                             ...   \n",
       "2141         48.07             33.1                           36.97   \n",
       "2142         47.74             33.3                           36.99   \n",
       "2143          48.4             32.9                           37.96   \n",
       "2144         48.08             33.1                           36.97   \n",
       "2145         47.75             33.3                           36.99   \n",
       "\n",
       "     Maximum Rate of Pressure Rise  BMEP   IMEP   BSFC BSNOx   BSCO   \n",
       "547                           1.33  8.67   10.1  307.4  2.91  222.7  \\\n",
       "548                           1.32   8.6   9.98  307.2  2.99  220.9   \n",
       "549                           1.31  8.53   9.86  307.5  3.03  221.4   \n",
       "550                           1.39  8.82  10.31  304.4  3.23  215.2   \n",
       "551                           1.39  8.75  10.19  306.1  3.09  221.4   \n",
       "...                            ...   ...    ...    ...   ...    ...   \n",
       "2141                          0.78  8.13  10.29    426  1.73    403   \n",
       "2142                          0.78  8.08  10.27  425.9  1.81  402.8   \n",
       "2143                          0.78   8.2  10.31  424.8  1.72  399.2   \n",
       "2144                          0.78  8.14  10.29  425.9  1.74  402.7   \n",
       "2145                          0.78  8.08  10.27    426   1.8  403.3   \n",
       "\n",
       "      Knocking Index  Knocking  \n",
       "547              0.0       0.0  \n",
       "548              0.0       0.0  \n",
       "549              0.0       0.0  \n",
       "550              0.0       0.0  \n",
       "551              0.0       0.0  \n",
       "...              ...       ...  \n",
       "2141             0.0       0.0  \n",
       "2142             0.0       0.0  \n",
       "2143             0.0       0.0  \n",
       "2144             0.0       0.0  \n",
       "2145             0.0       0.0  \n",
       "\n",
       "[1064 rows x 20 columns]"
      ]
     },
     "execution_count": 36,
     "metadata": {},
     "output_type": "execute_result"
    }
   ],
   "source": [
    "data = pd.read_csv('/Users/ujong-yun/Documents/학부연구생/학부연구생 - dataset 공유 (csv).csv')\n",
    "data.dropna()\n",
    "regression_data = data.loc[data['Knocking'] == 0]\n",
    "regression_data"
   ]
  },
  {
   "cell_type": "code",
   "execution_count": 37,
   "metadata": {},
   "outputs": [
    {
     "name": "stdout",
     "output_type": "stream",
     "text": [
      "<class 'pandas.core.frame.DataFrame'>\n",
      "Index: 1064 entries, 547 to 2145\n",
      "Data columns (total 20 columns):\n",
      " #   Column                           Non-Null Count  Dtype  \n",
      "---  ------                           --------------  -----  \n",
      " 0   Case                             1064 non-null   float64\n",
      " 1   Engine Speed                     1064 non-null   object \n",
      " 2   Spark Timing                     1064 non-null   object \n",
      " 3   Throttle Angle                   1064 non-null   object \n",
      " 4   Ambient Temperature              1064 non-null   object \n",
      " 5   Intake Pressure                  1064 non-null   object \n",
      " 6   Intake Temperature               1064 non-null   object \n",
      " 7   Exhaust Pressure                 1064 non-null   object \n",
      " 8   Exhaust Temperature              1064 non-null   object \n",
      " 9   Injected Mass                    1064 non-null   object \n",
      " 10  Maximum Pressure                 1064 non-null   object \n",
      " 11  Crank Angle at Maximum Pressure  1064 non-null   object \n",
      " 12  Maximum Rate of Pressure Rise    1064 non-null   object \n",
      " 13  BMEP                             1064 non-null   object \n",
      " 14  IMEP                             1064 non-null   object \n",
      " 15  BSFC                             1064 non-null   object \n",
      " 16  BSNOx                            1064 non-null   object \n",
      " 17  BSCO                             1064 non-null   object \n",
      " 18  Knocking Index                   1064 non-null   float64\n",
      " 19  Knocking                         1064 non-null   float64\n",
      "dtypes: float64(3), object(17)\n",
      "memory usage: 174.6+ KB\n"
     ]
    }
   ],
   "source": [
    "regression_data.info()"
   ]
  },
  {
   "cell_type": "code",
   "execution_count": 38,
   "metadata": {},
   "outputs": [
    {
     "name": "stdout",
     "output_type": "stream",
     "text": [
      "<class 'pandas.core.frame.DataFrame'>\n",
      "Index: 1064 entries, 547 to 2145\n",
      "Data columns (total 9 columns):\n",
      " #   Column               Non-Null Count  Dtype \n",
      "---  ------               --------------  ----- \n",
      " 0   Engine Speed         1064 non-null   object\n",
      " 1   Spark Timing         1064 non-null   object\n",
      " 2   Throttle Angle       1064 non-null   object\n",
      " 3   Ambient Temperature  1064 non-null   object\n",
      " 4   Intake Pressure      1064 non-null   object\n",
      " 5   Intake Temperature   1064 non-null   object\n",
      " 6   Exhaust Pressure     1064 non-null   object\n",
      " 7   Exhaust Temperature  1064 non-null   object\n",
      " 8   Injected Mass        1064 non-null   object\n",
      "dtypes: object(9)\n",
      "memory usage: 83.1+ KB\n"
     ]
    }
   ],
   "source": [
    "input_data = regression_data.iloc[:, [1, 2, 3, 4, 5, 6, 7, 8, 9]]\n",
    "input_data\n",
    "input_data.info()"
   ]
  },
  {
   "cell_type": "code",
   "execution_count": 39,
   "metadata": {},
   "outputs": [
    {
     "name": "stdout",
     "output_type": "stream",
     "text": [
      "<class 'pandas.core.frame.DataFrame'>\n",
      "Index: 1064 entries, 547 to 2145\n",
      "Data columns (total 8 columns):\n",
      " #   Column                           Non-Null Count  Dtype \n",
      "---  ------                           --------------  ----- \n",
      " 0   Maximum Pressure                 1064 non-null   object\n",
      " 1   Crank Angle at Maximum Pressure  1064 non-null   object\n",
      " 2   Maximum Rate of Pressure Rise    1064 non-null   object\n",
      " 3   BMEP                             1064 non-null   object\n",
      " 4   IMEP                             1064 non-null   object\n",
      " 5   BSFC                             1064 non-null   object\n",
      " 6   BSNOx                            1064 non-null   object\n",
      " 7   BSCO                             1064 non-null   object\n",
      "dtypes: object(8)\n",
      "memory usage: 74.8+ KB\n"
     ]
    }
   ],
   "source": [
    "output_data = regression_data.iloc[:, [10, 11, 12, 13, 14, 15, 16, 17]]\n",
    "output_data\n",
    "output_data.info()"
   ]
  },
  {
   "cell_type": "code",
   "execution_count": 40,
   "metadata": {},
   "outputs": [
    {
     "name": "stdout",
     "output_type": "stream",
     "text": [
      "<class 'pandas.core.frame.DataFrame'>\n",
      "Index: 1064 entries, 547 to 2145\n",
      "Data columns (total 9 columns):\n",
      " #   Column               Non-Null Count  Dtype  \n",
      "---  ------               --------------  -----  \n",
      " 0   Engine Speed         1064 non-null   float64\n",
      " 1   Spark Timing         1064 non-null   float64\n",
      " 2   Throttle Angle       1064 non-null   float64\n",
      " 3   Ambient Temperature  1064 non-null   float64\n",
      " 4   Intake Pressure      1064 non-null   float64\n",
      " 5   Intake Temperature   1064 non-null   float64\n",
      " 6   Exhaust Pressure     1064 non-null   float64\n",
      " 7   Exhaust Temperature  1064 non-null   float64\n",
      " 8   Injected Mass        1064 non-null   float64\n",
      "dtypes: float64(9)\n",
      "memory usage: 83.1 KB\n",
      "<class 'pandas.core.frame.DataFrame'>\n",
      "Index: 1064 entries, 547 to 2145\n",
      "Data columns (total 8 columns):\n",
      " #   Column                           Non-Null Count  Dtype  \n",
      "---  ------                           --------------  -----  \n",
      " 0   Maximum Pressure                 1064 non-null   float64\n",
      " 1   Crank Angle at Maximum Pressure  1064 non-null   float64\n",
      " 2   Maximum Rate of Pressure Rise    1064 non-null   float64\n",
      " 3   BMEP                             1064 non-null   float64\n",
      " 4   IMEP                             1064 non-null   float64\n",
      " 5   BSFC                             1064 non-null   float64\n",
      " 6   BSNOx                            1064 non-null   float64\n",
      " 7   BSCO                             1064 non-null   float64\n",
      "dtypes: float64(8)\n",
      "memory usage: 74.8 KB\n"
     ]
    }
   ],
   "source": [
    "input_data=input_data.astype('float')\n",
    "output_data = output_data.astype('float')\n",
    "input_data.info()\n",
    "output_data.info()"
   ]
  },
  {
   "cell_type": "code",
   "execution_count": 41,
   "metadata": {},
   "outputs": [
    {
     "name": "stdout",
     "output_type": "stream",
     "text": [
      "(638, 9) (638, 8)\n",
      "(213, 9) (213, 8)\n",
      "(213, 9) (213, 8)\n"
     ]
    }
   ],
   "source": [
    "train_input, test_input, train_output, test_output = train_test_split(input_data, output_data, test_size=0.2, shuffle = True, random_state=42)\n",
    "train_input, val_input, train_output, val_output = train_test_split(train_input, train_output, test_size = 0.25, shuffle=True, random_state=42)\n",
    "print(train_input.shape, train_output.shape)\n",
    "print(val_input.shape, val_output.shape)\n",
    "print(test_input.shape, test_output.shape)\n"
   ]
  },
  {
   "cell_type": "code",
   "execution_count": 42,
   "metadata": {},
   "outputs": [
    {
     "name": "stdout",
     "output_type": "stream",
     "text": [
      "Index([ 578, 2135, 1282, 1743, 1854, 1499, 1510, 1522,  746, 1280,\n",
      "       ...\n",
      "       1465, 1993, 2019, 1216,  766, 1512,  715,  780, 2087,  572],\n",
      "      dtype='int64', length=213)\n"
     ]
    }
   ],
   "source": [
    "print(test_output.index)"
   ]
  },
  {
   "cell_type": "code",
   "execution_count": 43,
   "metadata": {},
   "outputs": [],
   "source": [
    "ss = StandardScaler()\n",
    "ss.fit(train_input)\n",
    "train_scale = ss.transform(train_input)\n",
    "val_scale =  ss.transform(val_input)\n",
    "test_scale =  ss.transform(test_input)"
   ]
  },
  {
   "attachments": {},
   "cell_type": "markdown",
   "metadata": {},
   "source": [
    "# DNN Model"
   ]
  },
  {
   "cell_type": "code",
   "execution_count": 44,
   "metadata": {},
   "outputs": [
    {
     "name": "stdout",
     "output_type": "stream",
     "text": [
      "Model: \"sequential_2\"\n",
      "_________________________________________________________________\n",
      " Layer (type)                Output Shape              Param #   \n",
      "=================================================================\n",
      " dense_9 (Dense)             (None, 256)               2560      \n",
      "                                                                 \n",
      " dense_10 (Dense)            (None, 128)               32896     \n",
      "                                                                 \n",
      " dense_11 (Dense)            (None, 64)                8256      \n",
      "                                                                 \n",
      " dense_12 (Dense)            (None, 32)                2080      \n",
      "                                                                 \n",
      " dense_13 (Dense)            (None, 16)                528       \n",
      "                                                                 \n",
      " dense_14 (Dense)            (None, 8)                 136       \n",
      "                                                                 \n",
      "=================================================================\n",
      "Total params: 46456 (181.47 KB)\n",
      "Trainable params: 46456 (181.47 KB)\n",
      "Non-trainable params: 0 (0.00 Byte)\n",
      "_________________________________________________________________\n"
     ]
    }
   ],
   "source": [
    "model = keras.Sequential()\n",
    "model.add(keras.layers.Dense(256, activation='elu', input_shape = (9, )))\n",
    "model.add(keras.layers.Dense(128, activation='elu'))\n",
    "model.add(keras.layers.Dense(64, activation='elu'))\n",
    "model.add(keras.layers.Dense(32, activation= 'elu'))\n",
    "model.add(keras.layers.Dense(16, activation= 'elu'))\n",
    "model.add(keras.layers.Dense(8))\n",
    "model.summary()"
   ]
  },
  {
   "cell_type": "code",
   "execution_count": 45,
   "metadata": {},
   "outputs": [],
   "source": [
    "#initial_learning_rate = 0.01\n",
    "#lr_schedule = tf.keras.optimizers.schedules.ExponentialDecay(\n",
    "    #initial_learning_rate,\n",
    "    #decay_steps=100000,\n",
    "    #decay_rate=0.96,\n",
    "    #staircase=True)"
   ]
  },
  {
   "cell_type": "code",
   "execution_count": 46,
   "metadata": {},
   "outputs": [
    {
     "name": "stdout",
     "output_type": "stream",
     "text": [
      "Epoch 1/1000\n"
     ]
    },
    {
     "name": "stderr",
     "output_type": "stream",
     "text": [
      "2024-03-11 16:06:20.234477: I tensorflow/core/grappler/optimizers/custom_graph_optimizer_registry.cc:114] Plugin optimizer for device_type GPU is enabled.\n"
     ]
    },
    {
     "name": "stdout",
     "output_type": "stream",
     "text": [
      "20/20 [==============================] - 1s 45ms/step - loss: 25183.5586 - mae: 89.7157 - mse: 25183.5586 - val_loss: 24565.7871 - val_mae: 88.7159 - val_mse: 24565.7871\n",
      "Epoch 2/1000\n"
     ]
    },
    {
     "name": "stderr",
     "output_type": "stream",
     "text": [
      "2024-03-11 16:06:21.196475: I tensorflow/core/grappler/optimizers/custom_graph_optimizer_registry.cc:114] Plugin optimizer for device_type GPU is enabled.\n"
     ]
    },
    {
     "name": "stdout",
     "output_type": "stream",
     "text": [
      "20/20 [==============================] - 0s 23ms/step - loss: 24237.9004 - mae: 86.9701 - mse: 24237.9004 - val_loss: 22898.7754 - val_mae: 85.2116 - val_mse: 22898.7754\n",
      "Epoch 3/1000\n",
      "20/20 [==============================] - 0s 23ms/step - loss: 20779.5488 - mae: 86.7790 - mse: 20779.5488 - val_loss: 17219.0918 - val_mae: 86.8485 - val_mse: 17219.0918\n",
      "Epoch 4/1000\n",
      "20/20 [==============================] - 1s 26ms/step - loss: 13886.7842 - mae: 79.0445 - mse: 13886.7842 - val_loss: 10397.1104 - val_mae: 66.2308 - val_mse: 10397.1104\n",
      "Epoch 5/1000\n",
      "20/20 [==============================] - 0s 23ms/step - loss: 8183.5259 - mae: 59.8274 - mse: 8183.5259 - val_loss: 6057.4033 - val_mae: 49.6721 - val_mse: 6057.4033\n",
      "Epoch 6/1000\n",
      "20/20 [==============================] - 0s 24ms/step - loss: 4717.4194 - mae: 44.1262 - mse: 4717.4194 - val_loss: 3473.2148 - val_mae: 37.5304 - val_mse: 3473.2148\n",
      "Epoch 7/1000\n",
      "20/20 [==============================] - 0s 23ms/step - loss: 2618.4529 - mae: 33.4902 - mse: 2618.4529 - val_loss: 1815.7585 - val_mae: 26.8550 - val_mse: 1815.7585\n",
      "Epoch 8/1000\n",
      "20/20 [==============================] - 0s 25ms/step - loss: 1333.0455 - mae: 23.5697 - mse: 1333.0455 - val_loss: 781.0210 - val_mae: 17.9200 - val_mse: 781.0210\n",
      "Epoch 9/1000\n",
      "20/20 [==============================] - 0s 25ms/step - loss: 545.6428 - mae: 15.3671 - mse: 545.6428 - val_loss: 319.9404 - val_mae: 12.0013 - val_mse: 319.9404\n",
      "Epoch 10/1000\n",
      "20/20 [==============================] - 0s 24ms/step - loss: 279.6795 - mae: 11.4402 - mse: 279.6795 - val_loss: 206.6761 - val_mae: 9.8749 - val_mse: 206.6761\n",
      "Epoch 11/1000\n",
      "20/20 [==============================] - 1s 26ms/step - loss: 191.4187 - mae: 9.2306 - mse: 191.4187 - val_loss: 139.7033 - val_mae: 7.9838 - val_mse: 139.7033\n",
      "Epoch 12/1000\n",
      "20/20 [==============================] - 1s 27ms/step - loss: 146.7193 - mae: 8.1107 - mse: 146.7193 - val_loss: 119.1971 - val_mae: 7.3770 - val_mse: 119.1971\n",
      "Epoch 13/1000\n",
      "20/20 [==============================] - 0s 24ms/step - loss: 121.1087 - mae: 7.3851 - mse: 121.1087 - val_loss: 99.4817 - val_mae: 6.8174 - val_mse: 99.4817\n",
      "Epoch 14/1000\n",
      "20/20 [==============================] - 0s 24ms/step - loss: 101.5273 - mae: 6.8177 - mse: 101.5273 - val_loss: 92.8673 - val_mae: 6.5972 - val_mse: 92.8673\n",
      "Epoch 15/1000\n",
      "20/20 [==============================] - 0s 24ms/step - loss: 91.7015 - mae: 6.4796 - mse: 91.7015 - val_loss: 79.3135 - val_mae: 6.0365 - val_mse: 79.3135\n",
      "Epoch 16/1000\n",
      "20/20 [==============================] - 0s 24ms/step - loss: 81.0377 - mae: 6.0829 - mse: 81.0377 - val_loss: 75.2560 - val_mae: 5.9337 - val_mse: 75.2560\n",
      "Epoch 17/1000\n",
      "20/20 [==============================] - 0s 24ms/step - loss: 76.7192 - mae: 5.9782 - mse: 76.7192 - val_loss: 77.7775 - val_mae: 6.0312 - val_mse: 77.7775\n",
      "Epoch 18/1000\n",
      "20/20 [==============================] - 0s 24ms/step - loss: 71.7338 - mae: 5.7967 - mse: 71.7338 - val_loss: 63.3807 - val_mae: 5.3758 - val_mse: 63.3807\n",
      "Epoch 19/1000\n",
      "20/20 [==============================] - 0s 24ms/step - loss: 66.6635 - mae: 5.5766 - mse: 66.6635 - val_loss: 60.6080 - val_mae: 5.3533 - val_mse: 60.6080\n",
      "Epoch 20/1000\n",
      "20/20 [==============================] - 0s 23ms/step - loss: 61.9816 - mae: 5.4195 - mse: 61.9816 - val_loss: 58.3157 - val_mae: 5.2249 - val_mse: 58.3157\n",
      "Epoch 21/1000\n",
      "20/20 [==============================] - 0s 24ms/step - loss: 58.6025 - mae: 5.2605 - mse: 58.6025 - val_loss: 55.5492 - val_mae: 5.0569 - val_mse: 55.5492\n",
      "Epoch 22/1000\n",
      "20/20 [==============================] - 0s 24ms/step - loss: 55.5416 - mae: 5.0923 - mse: 55.5416 - val_loss: 51.8720 - val_mae: 4.8363 - val_mse: 51.8720\n",
      "Epoch 23/1000\n",
      "20/20 [==============================] - 0s 23ms/step - loss: 53.2185 - mae: 4.9205 - mse: 53.2185 - val_loss: 51.1108 - val_mae: 4.8159 - val_mse: 51.1108\n",
      "Epoch 24/1000\n",
      "20/20 [==============================] - 0s 24ms/step - loss: 51.6590 - mae: 4.8547 - mse: 51.6590 - val_loss: 48.2853 - val_mae: 4.6412 - val_mse: 48.2853\n",
      "Epoch 25/1000\n",
      "20/20 [==============================] - 0s 23ms/step - loss: 49.7416 - mae: 4.7484 - mse: 49.7416 - val_loss: 48.4358 - val_mae: 4.6019 - val_mse: 48.4358\n",
      "Epoch 26/1000\n",
      "20/20 [==============================] - 1s 32ms/step - loss: 47.6262 - mae: 4.6193 - mse: 47.6262 - val_loss: 46.1478 - val_mae: 4.4735 - val_mse: 46.1478\n",
      "Epoch 27/1000\n",
      "20/20 [==============================] - 1s 35ms/step - loss: 46.5857 - mae: 4.5433 - mse: 46.5857 - val_loss: 45.6055 - val_mae: 4.4271 - val_mse: 45.6055\n",
      "Epoch 28/1000\n",
      "20/20 [==============================] - 0s 25ms/step - loss: 44.5852 - mae: 4.4408 - mse: 44.5852 - val_loss: 44.0467 - val_mae: 4.3323 - val_mse: 44.0467\n",
      "Epoch 29/1000\n",
      "20/20 [==============================] - 0s 24ms/step - loss: 43.1997 - mae: 4.3701 - mse: 43.1997 - val_loss: 42.7083 - val_mae: 4.2734 - val_mse: 42.7083\n",
      "Epoch 30/1000\n",
      "20/20 [==============================] - 0s 24ms/step - loss: 41.7027 - mae: 4.2856 - mse: 41.7027 - val_loss: 41.7727 - val_mae: 4.2119 - val_mse: 41.7727\n",
      "Epoch 31/1000\n",
      "20/20 [==============================] - 0s 23ms/step - loss: 40.3318 - mae: 4.2512 - mse: 40.3318 - val_loss: 40.7619 - val_mae: 4.1819 - val_mse: 40.7619\n",
      "Epoch 32/1000\n",
      "20/20 [==============================] - 0s 22ms/step - loss: 39.1973 - mae: 4.2078 - mse: 39.1973 - val_loss: 39.3997 - val_mae: 4.1780 - val_mse: 39.3997\n",
      "Epoch 33/1000\n",
      "20/20 [==============================] - 0s 25ms/step - loss: 38.1855 - mae: 4.1790 - mse: 38.1855 - val_loss: 37.6450 - val_mae: 4.0895 - val_mse: 37.6450\n",
      "Epoch 34/1000\n",
      "20/20 [==============================] - 0s 25ms/step - loss: 36.7689 - mae: 4.1327 - mse: 36.7689 - val_loss: 37.9703 - val_mae: 4.1427 - val_mse: 37.9703\n",
      "Epoch 35/1000\n",
      "20/20 [==============================] - 1s 26ms/step - loss: 35.5755 - mae: 4.0620 - mse: 35.5755 - val_loss: 35.3697 - val_mae: 4.0193 - val_mse: 35.3697\n",
      "Epoch 36/1000\n",
      "20/20 [==============================] - 0s 22ms/step - loss: 34.2792 - mae: 4.0336 - mse: 34.2792 - val_loss: 35.2464 - val_mae: 4.0577 - val_mse: 35.2464\n",
      "Epoch 37/1000\n",
      "20/20 [==============================] - 0s 22ms/step - loss: 32.6311 - mae: 3.9481 - mse: 32.6311 - val_loss: 33.4678 - val_mae: 3.9215 - val_mse: 33.4678\n",
      "Epoch 38/1000\n",
      "20/20 [==============================] - 0s 22ms/step - loss: 31.2732 - mae: 3.8748 - mse: 31.2732 - val_loss: 32.8299 - val_mae: 3.9014 - val_mse: 32.8299\n",
      "Epoch 39/1000\n",
      "20/20 [==============================] - 0s 22ms/step - loss: 30.4400 - mae: 3.8672 - mse: 30.4400 - val_loss: 30.0103 - val_mae: 3.7390 - val_mse: 30.0103\n",
      "Epoch 40/1000\n",
      "20/20 [==============================] - 1s 28ms/step - loss: 29.4018 - mae: 3.7639 - mse: 29.4018 - val_loss: 29.6400 - val_mae: 3.7375 - val_mse: 29.6400\n",
      "Epoch 41/1000\n",
      "20/20 [==============================] - 1s 33ms/step - loss: 27.8389 - mae: 3.6659 - mse: 27.8389 - val_loss: 29.6171 - val_mae: 3.6963 - val_mse: 29.6171\n",
      "Epoch 42/1000\n",
      "20/20 [==============================] - 1s 27ms/step - loss: 27.0645 - mae: 3.6245 - mse: 27.0645 - val_loss: 27.5042 - val_mae: 3.5954 - val_mse: 27.5042\n",
      "Epoch 43/1000\n",
      "20/20 [==============================] - 0s 24ms/step - loss: 26.0823 - mae: 3.5701 - mse: 26.0823 - val_loss: 27.0405 - val_mae: 3.5487 - val_mse: 27.0405\n",
      "Epoch 44/1000\n",
      "20/20 [==============================] - 0s 24ms/step - loss: 25.1491 - mae: 3.4855 - mse: 25.1491 - val_loss: 26.0003 - val_mae: 3.4720 - val_mse: 26.0003\n",
      "Epoch 45/1000\n",
      "20/20 [==============================] - 0s 24ms/step - loss: 24.1593 - mae: 3.4312 - mse: 24.1593 - val_loss: 25.1824 - val_mae: 3.4669 - val_mse: 25.1824\n",
      "Epoch 46/1000\n",
      "20/20 [==============================] - 0s 23ms/step - loss: 23.3423 - mae: 3.3660 - mse: 23.3423 - val_loss: 24.0442 - val_mae: 3.3716 - val_mse: 24.0442\n",
      "Epoch 47/1000\n",
      "20/20 [==============================] - 0s 24ms/step - loss: 22.4872 - mae: 3.2919 - mse: 22.4872 - val_loss: 23.9942 - val_mae: 3.3543 - val_mse: 23.9942\n",
      "Epoch 48/1000\n",
      "20/20 [==============================] - 0s 24ms/step - loss: 21.9798 - mae: 3.2417 - mse: 21.9798 - val_loss: 23.1925 - val_mae: 3.2864 - val_mse: 23.1925\n",
      "Epoch 49/1000\n",
      "20/20 [==============================] - 0s 22ms/step - loss: 21.2203 - mae: 3.1900 - mse: 21.2203 - val_loss: 22.5438 - val_mae: 3.2519 - val_mse: 22.5438\n",
      "Epoch 50/1000\n",
      "20/20 [==============================] - 1s 30ms/step - loss: 20.5794 - mae: 3.1270 - mse: 20.5794 - val_loss: 21.3153 - val_mae: 3.1613 - val_mse: 21.3153\n",
      "Epoch 51/1000\n",
      "20/20 [==============================] - 1s 33ms/step - loss: 20.0302 - mae: 3.0763 - mse: 20.0302 - val_loss: 21.1386 - val_mae: 3.1508 - val_mse: 21.1386\n",
      "Epoch 52/1000\n",
      "20/20 [==============================] - 0s 22ms/step - loss: 19.4925 - mae: 3.0364 - mse: 19.4925 - val_loss: 20.3484 - val_mae: 3.0849 - val_mse: 20.3484\n",
      "Epoch 53/1000\n",
      "20/20 [==============================] - 0s 23ms/step - loss: 18.6117 - mae: 2.9719 - mse: 18.6117 - val_loss: 19.7425 - val_mae: 3.0647 - val_mse: 19.7425\n",
      "Epoch 54/1000\n",
      "20/20 [==============================] - 0s 23ms/step - loss: 17.9644 - mae: 2.9372 - mse: 17.9644 - val_loss: 19.7329 - val_mae: 3.0255 - val_mse: 19.7329\n",
      "Epoch 55/1000\n",
      "20/20 [==============================] - 0s 25ms/step - loss: 17.5945 - mae: 2.9028 - mse: 17.5945 - val_loss: 19.3408 - val_mae: 3.0557 - val_mse: 19.3408\n",
      "Epoch 56/1000\n",
      "20/20 [==============================] - 0s 23ms/step - loss: 17.4697 - mae: 2.9021 - mse: 17.4697 - val_loss: 18.7313 - val_mae: 3.0258 - val_mse: 18.7313\n",
      "Epoch 57/1000\n",
      "20/20 [==============================] - 0s 25ms/step - loss: 16.7490 - mae: 2.8610 - mse: 16.7490 - val_loss: 17.4821 - val_mae: 2.9745 - val_mse: 17.4821\n",
      "Epoch 58/1000\n",
      "20/20 [==============================] - 1s 26ms/step - loss: 16.5584 - mae: 2.8490 - mse: 16.5584 - val_loss: 18.7941 - val_mae: 3.0512 - val_mse: 18.7941\n",
      "Epoch 59/1000\n",
      "20/20 [==============================] - 0s 22ms/step - loss: 16.3059 - mae: 2.8446 - mse: 16.3059 - val_loss: 16.8173 - val_mae: 2.8866 - val_mse: 16.8173\n",
      "Epoch 60/1000\n",
      "20/20 [==============================] - 0s 23ms/step - loss: 15.6121 - mae: 2.7756 - mse: 15.6121 - val_loss: 16.7179 - val_mae: 2.8762 - val_mse: 16.7179\n",
      "Epoch 61/1000\n",
      "20/20 [==============================] - 0s 23ms/step - loss: 14.9663 - mae: 2.7323 - mse: 14.9663 - val_loss: 15.9218 - val_mae: 2.8357 - val_mse: 15.9218\n",
      "Epoch 62/1000\n",
      "20/20 [==============================] - 0s 21ms/step - loss: 14.5702 - mae: 2.7011 - mse: 14.5702 - val_loss: 15.6727 - val_mae: 2.8122 - val_mse: 15.6727\n",
      "Epoch 63/1000\n",
      "20/20 [==============================] - 0s 24ms/step - loss: 14.3258 - mae: 2.6879 - mse: 14.3258 - val_loss: 15.1432 - val_mae: 2.7795 - val_mse: 15.1432\n",
      "Epoch 64/1000\n",
      "20/20 [==============================] - 0s 23ms/step - loss: 14.3318 - mae: 2.6969 - mse: 14.3318 - val_loss: 14.7895 - val_mae: 2.7442 - val_mse: 14.7895\n",
      "Epoch 65/1000\n",
      "20/20 [==============================] - 0s 24ms/step - loss: 13.5529 - mae: 2.6278 - mse: 13.5529 - val_loss: 14.1136 - val_mae: 2.7162 - val_mse: 14.1136\n",
      "Epoch 66/1000\n",
      "20/20 [==============================] - 0s 24ms/step - loss: 13.2986 - mae: 2.6113 - mse: 13.2986 - val_loss: 15.4853 - val_mae: 2.8115 - val_mse: 15.4853\n",
      "Epoch 67/1000\n",
      "20/20 [==============================] - 0s 22ms/step - loss: 13.2985 - mae: 2.6211 - mse: 13.2985 - val_loss: 13.9338 - val_mae: 2.7124 - val_mse: 13.9338\n",
      "Epoch 68/1000\n",
      "20/20 [==============================] - 0s 22ms/step - loss: 13.0462 - mae: 2.6071 - mse: 13.0462 - val_loss: 14.8065 - val_mae: 2.7746 - val_mse: 14.8065\n",
      "Epoch 69/1000\n",
      "20/20 [==============================] - 0s 21ms/step - loss: 12.5593 - mae: 2.5556 - mse: 12.5593 - val_loss: 13.3882 - val_mae: 2.6470 - val_mse: 13.3882\n",
      "Epoch 70/1000\n",
      "20/20 [==============================] - 0s 21ms/step - loss: 13.1451 - mae: 2.5875 - mse: 13.1451 - val_loss: 14.7617 - val_mae: 2.7724 - val_mse: 14.7617\n",
      "Epoch 71/1000\n",
      "20/20 [==============================] - 0s 21ms/step - loss: 11.9474 - mae: 2.4991 - mse: 11.9474 - val_loss: 13.2426 - val_mae: 2.6275 - val_mse: 13.2426\n",
      "Epoch 72/1000\n",
      "20/20 [==============================] - 0s 21ms/step - loss: 11.8325 - mae: 2.5054 - mse: 11.8325 - val_loss: 12.7963 - val_mae: 2.5909 - val_mse: 12.7963\n",
      "Epoch 73/1000\n",
      "20/20 [==============================] - 0s 22ms/step - loss: 11.6998 - mae: 2.4805 - mse: 11.6998 - val_loss: 12.4046 - val_mae: 2.5881 - val_mse: 12.4046\n",
      "Epoch 74/1000\n",
      "20/20 [==============================] - 0s 23ms/step - loss: 11.1831 - mae: 2.4404 - mse: 11.1831 - val_loss: 12.1528 - val_mae: 2.5550 - val_mse: 12.1528\n",
      "Epoch 75/1000\n",
      "20/20 [==============================] - 0s 23ms/step - loss: 11.0318 - mae: 2.4220 - mse: 11.0318 - val_loss: 11.5356 - val_mae: 2.5093 - val_mse: 11.5356\n",
      "Epoch 76/1000\n",
      "20/20 [==============================] - 0s 22ms/step - loss: 10.8398 - mae: 2.4152 - mse: 10.8398 - val_loss: 11.1500 - val_mae: 2.4903 - val_mse: 11.1500\n",
      "Epoch 77/1000\n",
      "20/20 [==============================] - 0s 21ms/step - loss: 10.6642 - mae: 2.3900 - mse: 10.6642 - val_loss: 10.8309 - val_mae: 2.4444 - val_mse: 10.8309\n",
      "Epoch 78/1000\n",
      "20/20 [==============================] - 0s 22ms/step - loss: 10.2446 - mae: 2.3428 - mse: 10.2446 - val_loss: 10.7000 - val_mae: 2.4071 - val_mse: 10.7000\n",
      "Epoch 79/1000\n",
      "20/20 [==============================] - 0s 21ms/step - loss: 10.1365 - mae: 2.3387 - mse: 10.1365 - val_loss: 10.7009 - val_mae: 2.4352 - val_mse: 10.7009\n",
      "Epoch 80/1000\n",
      "20/20 [==============================] - 0s 22ms/step - loss: 9.5492 - mae: 2.2885 - mse: 9.5492 - val_loss: 10.3926 - val_mae: 2.3865 - val_mse: 10.3926\n",
      "Epoch 81/1000\n",
      "20/20 [==============================] - 0s 23ms/step - loss: 9.5094 - mae: 2.2728 - mse: 9.5094 - val_loss: 10.7373 - val_mae: 2.4250 - val_mse: 10.7373\n",
      "Epoch 82/1000\n",
      "20/20 [==============================] - 0s 22ms/step - loss: 9.2902 - mae: 2.2456 - mse: 9.2902 - val_loss: 10.1890 - val_mae: 2.3313 - val_mse: 10.1890\n",
      "Epoch 83/1000\n",
      "20/20 [==============================] - 0s 21ms/step - loss: 8.8692 - mae: 2.2005 - mse: 8.8692 - val_loss: 9.1825 - val_mae: 2.2560 - val_mse: 9.1825\n",
      "Epoch 84/1000\n",
      "20/20 [==============================] - 0s 21ms/step - loss: 8.7398 - mae: 2.1902 - mse: 8.7398 - val_loss: 9.2919 - val_mae: 2.2786 - val_mse: 9.2919\n",
      "Epoch 85/1000\n",
      "20/20 [==============================] - 0s 21ms/step - loss: 8.4447 - mae: 2.1465 - mse: 8.4447 - val_loss: 8.7742 - val_mae: 2.2064 - val_mse: 8.7742\n",
      "Epoch 86/1000\n",
      "20/20 [==============================] - 0s 21ms/step - loss: 8.1027 - mae: 2.1196 - mse: 8.1027 - val_loss: 8.4684 - val_mae: 2.1689 - val_mse: 8.4684\n",
      "Epoch 87/1000\n",
      "20/20 [==============================] - 0s 22ms/step - loss: 8.0590 - mae: 2.0979 - mse: 8.0590 - val_loss: 9.4090 - val_mae: 2.2609 - val_mse: 9.4090\n",
      "Epoch 88/1000\n",
      "20/20 [==============================] - 0s 24ms/step - loss: 7.9391 - mae: 2.0828 - mse: 7.9391 - val_loss: 8.0079 - val_mae: 2.1185 - val_mse: 8.0079\n",
      "Epoch 89/1000\n",
      "20/20 [==============================] - 1s 38ms/step - loss: 7.6659 - mae: 2.0543 - mse: 7.6659 - val_loss: 8.3219 - val_mae: 2.1115 - val_mse: 8.3219\n",
      "Epoch 90/1000\n",
      "20/20 [==============================] - 1s 35ms/step - loss: 7.3945 - mae: 2.0131 - mse: 7.3945 - val_loss: 8.0348 - val_mae: 2.0948 - val_mse: 8.0348\n",
      "Epoch 91/1000\n",
      "20/20 [==============================] - 1s 27ms/step - loss: 7.3746 - mae: 1.9995 - mse: 7.3746 - val_loss: 7.7763 - val_mae: 2.0481 - val_mse: 7.7763\n",
      "Epoch 92/1000\n",
      "20/20 [==============================] - 1s 31ms/step - loss: 7.3776 - mae: 1.9907 - mse: 7.3776 - val_loss: 7.1863 - val_mae: 1.9968 - val_mse: 7.1863\n",
      "Epoch 93/1000\n",
      "20/20 [==============================] - 0s 25ms/step - loss: 6.5647 - mae: 1.8957 - mse: 6.5647 - val_loss: 7.4413 - val_mae: 2.0100 - val_mse: 7.4413\n",
      "Epoch 94/1000\n",
      "20/20 [==============================] - 1s 28ms/step - loss: 6.6441 - mae: 1.9022 - mse: 6.6441 - val_loss: 6.5908 - val_mae: 1.9069 - val_mse: 6.5908\n",
      "Epoch 95/1000\n",
      "20/20 [==============================] - 1s 30ms/step - loss: 6.5857 - mae: 1.8767 - mse: 6.5857 - val_loss: 7.1127 - val_mae: 1.9263 - val_mse: 7.1127\n",
      "Epoch 96/1000\n",
      "20/20 [==============================] - 0s 23ms/step - loss: 6.1142 - mae: 1.8190 - mse: 6.1142 - val_loss: 6.5405 - val_mae: 1.8951 - val_mse: 6.5405\n",
      "Epoch 97/1000\n",
      "20/20 [==============================] - 0s 22ms/step - loss: 5.9806 - mae: 1.8104 - mse: 5.9806 - val_loss: 6.1739 - val_mae: 1.8283 - val_mse: 6.1739\n",
      "Epoch 98/1000\n",
      "20/20 [==============================] - 1s 27ms/step - loss: 5.9083 - mae: 1.7904 - mse: 5.9083 - val_loss: 6.5046 - val_mae: 1.8701 - val_mse: 6.5046\n",
      "Epoch 99/1000\n",
      "20/20 [==============================] - 0s 23ms/step - loss: 5.6954 - mae: 1.7491 - mse: 5.6954 - val_loss: 5.6609 - val_mae: 1.7611 - val_mse: 5.6609\n",
      "Epoch 100/1000\n",
      "20/20 [==============================] - 0s 22ms/step - loss: 5.4608 - mae: 1.7106 - mse: 5.4608 - val_loss: 6.1496 - val_mae: 1.8030 - val_mse: 6.1496\n",
      "Epoch 101/1000\n",
      "20/20 [==============================] - 0s 22ms/step - loss: 5.8489 - mae: 1.7545 - mse: 5.8489 - val_loss: 5.7879 - val_mae: 1.7521 - val_mse: 5.7879\n",
      "Epoch 102/1000\n",
      "20/20 [==============================] - 0s 21ms/step - loss: 5.3607 - mae: 1.6797 - mse: 5.3607 - val_loss: 5.1350 - val_mae: 1.6455 - val_mse: 5.1350\n",
      "Epoch 103/1000\n",
      "20/20 [==============================] - 0s 23ms/step - loss: 5.2134 - mae: 1.6559 - mse: 5.2134 - val_loss: 5.5827 - val_mae: 1.6812 - val_mse: 5.5827\n",
      "Epoch 104/1000\n",
      "20/20 [==============================] - 0s 24ms/step - loss: 5.0420 - mae: 1.6203 - mse: 5.0420 - val_loss: 5.3082 - val_mae: 1.6558 - val_mse: 5.3082\n",
      "Epoch 105/1000\n",
      "20/20 [==============================] - 1s 33ms/step - loss: 4.7020 - mae: 1.5647 - mse: 4.7020 - val_loss: 4.8107 - val_mae: 1.5904 - val_mse: 4.8107\n",
      "Epoch 106/1000\n",
      "20/20 [==============================] - 1s 26ms/step - loss: 4.4821 - mae: 1.5321 - mse: 4.4821 - val_loss: 4.8811 - val_mae: 1.5677 - val_mse: 4.8811\n",
      "Epoch 107/1000\n",
      "20/20 [==============================] - 1s 26ms/step - loss: 5.1056 - mae: 1.6181 - mse: 5.1056 - val_loss: 5.1551 - val_mae: 1.6220 - val_mse: 5.1551\n",
      "Epoch 108/1000\n",
      "20/20 [==============================] - 1s 28ms/step - loss: 4.4875 - mae: 1.5235 - mse: 4.4875 - val_loss: 5.0675 - val_mae: 1.6354 - val_mse: 5.0675\n",
      "Epoch 109/1000\n",
      "20/20 [==============================] - 0s 23ms/step - loss: 4.3479 - mae: 1.4846 - mse: 4.3479 - val_loss: 5.0078 - val_mae: 1.5753 - val_mse: 5.0078\n",
      "Epoch 110/1000\n",
      "20/20 [==============================] - 0s 23ms/step - loss: 4.6893 - mae: 1.5370 - mse: 4.6893 - val_loss: 4.9144 - val_mae: 1.5496 - val_mse: 4.9144\n",
      "Epoch 111/1000\n",
      "20/20 [==============================] - 0s 23ms/step - loss: 4.3283 - mae: 1.4791 - mse: 4.3283 - val_loss: 4.1394 - val_mae: 1.4431 - val_mse: 4.1394\n",
      "Epoch 112/1000\n",
      "20/20 [==============================] - 0s 22ms/step - loss: 4.1131 - mae: 1.4366 - mse: 4.1131 - val_loss: 4.8538 - val_mae: 1.5561 - val_mse: 4.8538\n",
      "Epoch 113/1000\n",
      "20/20 [==============================] - 0s 22ms/step - loss: 4.0516 - mae: 1.4219 - mse: 4.0516 - val_loss: 4.2094 - val_mae: 1.4341 - val_mse: 4.2094\n",
      "Epoch 114/1000\n",
      "20/20 [==============================] - 1s 27ms/step - loss: 3.8622 - mae: 1.3806 - mse: 3.8622 - val_loss: 3.8726 - val_mae: 1.3808 - val_mse: 3.8726\n",
      "Epoch 115/1000\n",
      "20/20 [==============================] - 0s 23ms/step - loss: 3.6099 - mae: 1.3510 - mse: 3.6099 - val_loss: 3.6288 - val_mae: 1.3381 - val_mse: 3.6288\n",
      "Epoch 116/1000\n",
      "20/20 [==============================] - 0s 23ms/step - loss: 3.7047 - mae: 1.3644 - mse: 3.7047 - val_loss: 4.0119 - val_mae: 1.3824 - val_mse: 4.0119\n",
      "Epoch 117/1000\n",
      "20/20 [==============================] - 0s 22ms/step - loss: 3.7566 - mae: 1.3649 - mse: 3.7566 - val_loss: 4.3526 - val_mae: 1.4415 - val_mse: 4.3526\n",
      "Epoch 118/1000\n",
      "20/20 [==============================] - 0s 22ms/step - loss: 3.8142 - mae: 1.3622 - mse: 3.8142 - val_loss: 3.6694 - val_mae: 1.3169 - val_mse: 3.6694\n",
      "Epoch 119/1000\n",
      "20/20 [==============================] - 0s 22ms/step - loss: 3.4358 - mae: 1.2923 - mse: 3.4358 - val_loss: 3.6077 - val_mae: 1.3040 - val_mse: 3.6077\n",
      "Epoch 120/1000\n",
      "20/20 [==============================] - 0s 22ms/step - loss: 3.5029 - mae: 1.3009 - mse: 3.5029 - val_loss: 3.3361 - val_mae: 1.2445 - val_mse: 3.3361\n",
      "Epoch 121/1000\n",
      "20/20 [==============================] - 0s 23ms/step - loss: 3.2040 - mae: 1.2635 - mse: 3.2040 - val_loss: 3.6809 - val_mae: 1.3025 - val_mse: 3.6809\n",
      "Epoch 122/1000\n",
      "20/20 [==============================] - 0s 22ms/step - loss: 3.4736 - mae: 1.2994 - mse: 3.4736 - val_loss: 3.7398 - val_mae: 1.3076 - val_mse: 3.7398\n",
      "Epoch 123/1000\n",
      "20/20 [==============================] - 1s 28ms/step - loss: 3.5079 - mae: 1.2873 - mse: 3.5079 - val_loss: 3.7191 - val_mae: 1.2744 - val_mse: 3.7191\n",
      "Epoch 124/1000\n",
      "20/20 [==============================] - 1s 26ms/step - loss: 3.3082 - mae: 1.2467 - mse: 3.3082 - val_loss: 3.6195 - val_mae: 1.3195 - val_mse: 3.6195\n",
      "Epoch 125/1000\n",
      "20/20 [==============================] - 0s 22ms/step - loss: 3.2939 - mae: 1.2565 - mse: 3.2939 - val_loss: 3.3712 - val_mae: 1.2312 - val_mse: 3.3712\n",
      "Epoch 126/1000\n",
      "20/20 [==============================] - 0s 22ms/step - loss: 3.7964 - mae: 1.3318 - mse: 3.7964 - val_loss: 3.3383 - val_mae: 1.2719 - val_mse: 3.3383\n",
      "Epoch 127/1000\n",
      "20/20 [==============================] - 0s 21ms/step - loss: 2.8961 - mae: 1.2005 - mse: 2.8961 - val_loss: 3.1227 - val_mae: 1.1995 - val_mse: 3.1227\n",
      "Epoch 128/1000\n",
      "20/20 [==============================] - 0s 22ms/step - loss: 2.8315 - mae: 1.1761 - mse: 2.8315 - val_loss: 3.1212 - val_mae: 1.2056 - val_mse: 3.1212\n",
      "Epoch 129/1000\n",
      "20/20 [==============================] - 0s 22ms/step - loss: 2.8260 - mae: 1.1809 - mse: 2.8260 - val_loss: 3.1484 - val_mae: 1.1934 - val_mse: 3.1484\n",
      "Epoch 130/1000\n",
      "20/20 [==============================] - 0s 23ms/step - loss: 2.8202 - mae: 1.1741 - mse: 2.8202 - val_loss: 3.4530 - val_mae: 1.2339 - val_mse: 3.4530\n",
      "Epoch 131/1000\n",
      "20/20 [==============================] - 0s 24ms/step - loss: 2.8400 - mae: 1.1704 - mse: 2.8400 - val_loss: 3.2219 - val_mae: 1.2077 - val_mse: 3.2219\n",
      "Epoch 132/1000\n",
      "20/20 [==============================] - 0s 21ms/step - loss: 2.7837 - mae: 1.1591 - mse: 2.7837 - val_loss: 2.9711 - val_mae: 1.1558 - val_mse: 2.9711\n",
      "Epoch 133/1000\n",
      "20/20 [==============================] - 0s 22ms/step - loss: 2.8943 - mae: 1.1864 - mse: 2.8943 - val_loss: 3.0392 - val_mae: 1.1647 - val_mse: 3.0392\n",
      "Epoch 134/1000\n",
      "20/20 [==============================] - 0s 22ms/step - loss: 3.0901 - mae: 1.2023 - mse: 3.0901 - val_loss: 2.9805 - val_mae: 1.1835 - val_mse: 2.9805\n",
      "Epoch 135/1000\n",
      "20/20 [==============================] - 0s 24ms/step - loss: 2.6747 - mae: 1.1410 - mse: 2.6747 - val_loss: 2.8606 - val_mae: 1.1398 - val_mse: 2.8606\n",
      "Epoch 136/1000\n",
      "20/20 [==============================] - 0s 21ms/step - loss: 3.2466 - mae: 1.2329 - mse: 3.2466 - val_loss: 4.3651 - val_mae: 1.3840 - val_mse: 4.3651\n",
      "Epoch 137/1000\n",
      "20/20 [==============================] - 0s 21ms/step - loss: 3.2035 - mae: 1.2251 - mse: 3.2035 - val_loss: 3.4562 - val_mae: 1.2385 - val_mse: 3.4562\n",
      "Epoch 138/1000\n",
      "20/20 [==============================] - 0s 22ms/step - loss: 2.8754 - mae: 1.1576 - mse: 2.8754 - val_loss: 3.2540 - val_mae: 1.1906 - val_mse: 3.2540\n",
      "Epoch 139/1000\n",
      "20/20 [==============================] - 0s 23ms/step - loss: 2.7341 - mae: 1.1356 - mse: 2.7341 - val_loss: 2.6010 - val_mae: 1.0852 - val_mse: 2.6010\n",
      "Epoch 140/1000\n",
      "20/20 [==============================] - 0s 22ms/step - loss: 2.5925 - mae: 1.1114 - mse: 2.5925 - val_loss: 2.9437 - val_mae: 1.1283 - val_mse: 2.9437\n",
      "Epoch 141/1000\n",
      "20/20 [==============================] - 0s 22ms/step - loss: 2.9222 - mae: 1.1704 - mse: 2.9222 - val_loss: 2.8313 - val_mae: 1.1338 - val_mse: 2.8313\n",
      "Epoch 142/1000\n",
      "20/20 [==============================] - 0s 22ms/step - loss: 4.0536 - mae: 1.3109 - mse: 4.0536 - val_loss: 2.7504 - val_mae: 1.1009 - val_mse: 2.7504\n",
      "Epoch 143/1000\n",
      "20/20 [==============================] - 0s 23ms/step - loss: 3.0519 - mae: 1.1762 - mse: 3.0519 - val_loss: 2.7654 - val_mae: 1.1306 - val_mse: 2.7654\n",
      "Epoch 144/1000\n",
      "20/20 [==============================] - 1s 28ms/step - loss: 2.6291 - mae: 1.1073 - mse: 2.6291 - val_loss: 2.5948 - val_mae: 1.0649 - val_mse: 2.5948\n",
      "Epoch 145/1000\n",
      "20/20 [==============================] - 0s 21ms/step - loss: 2.6111 - mae: 1.1022 - mse: 2.6111 - val_loss: 2.5311 - val_mae: 1.0534 - val_mse: 2.5311\n",
      "Epoch 146/1000\n",
      "20/20 [==============================] - 0s 21ms/step - loss: 2.5629 - mae: 1.1050 - mse: 2.5629 - val_loss: 3.0187 - val_mae: 1.1399 - val_mse: 3.0187\n",
      "Epoch 147/1000\n",
      "20/20 [==============================] - 0s 22ms/step - loss: 2.4652 - mae: 1.0912 - mse: 2.4652 - val_loss: 2.6164 - val_mae: 1.0829 - val_mse: 2.6164\n",
      "Epoch 148/1000\n",
      "20/20 [==============================] - 0s 21ms/step - loss: 2.2392 - mae: 1.0343 - mse: 2.2392 - val_loss: 2.3724 - val_mae: 1.0352 - val_mse: 2.3724\n",
      "Epoch 149/1000\n",
      "20/20 [==============================] - 1s 27ms/step - loss: 2.2611 - mae: 1.0421 - mse: 2.2611 - val_loss: 2.5405 - val_mae: 1.0546 - val_mse: 2.5405\n",
      "Epoch 150/1000\n",
      "20/20 [==============================] - 1s 31ms/step - loss: 2.2319 - mae: 1.0282 - mse: 2.2319 - val_loss: 3.0897 - val_mae: 1.1747 - val_mse: 3.0897\n",
      "Epoch 151/1000\n",
      "20/20 [==============================] - 0s 24ms/step - loss: 2.6043 - mae: 1.0970 - mse: 2.6043 - val_loss: 3.6048 - val_mae: 1.2635 - val_mse: 3.6048\n",
      "Epoch 152/1000\n",
      "20/20 [==============================] - 0s 25ms/step - loss: 3.2317 - mae: 1.1898 - mse: 3.2317 - val_loss: 2.7199 - val_mae: 1.0753 - val_mse: 2.7199\n",
      "Epoch 153/1000\n",
      "20/20 [==============================] - 1s 26ms/step - loss: 2.5211 - mae: 1.0894 - mse: 2.5211 - val_loss: 2.6779 - val_mae: 1.0718 - val_mse: 2.6779\n",
      "Epoch 154/1000\n",
      "20/20 [==============================] - 1s 31ms/step - loss: 2.3230 - mae: 1.0530 - mse: 2.3230 - val_loss: 2.6146 - val_mae: 1.0644 - val_mse: 2.6146\n",
      "Epoch 155/1000\n",
      "20/20 [==============================] - 1s 31ms/step - loss: 2.5400 - mae: 1.0890 - mse: 2.5400 - val_loss: 2.1982 - val_mae: 0.9908 - val_mse: 2.1982\n",
      "Epoch 156/1000\n",
      "20/20 [==============================] - 0s 22ms/step - loss: 2.3627 - mae: 1.0468 - mse: 2.3627 - val_loss: 3.3459 - val_mae: 1.2124 - val_mse: 3.3459\n",
      "Epoch 157/1000\n",
      "20/20 [==============================] - 0s 22ms/step - loss: 2.6427 - mae: 1.1090 - mse: 2.6427 - val_loss: 2.1930 - val_mae: 0.9839 - val_mse: 2.1930\n",
      "Epoch 158/1000\n",
      "20/20 [==============================] - 0s 23ms/step - loss: 2.0461 - mae: 0.9911 - mse: 2.0461 - val_loss: 2.4583 - val_mae: 1.0210 - val_mse: 2.4583\n",
      "Epoch 159/1000\n",
      "20/20 [==============================] - 0s 23ms/step - loss: 2.1080 - mae: 0.9978 - mse: 2.1080 - val_loss: 2.1315 - val_mae: 0.9774 - val_mse: 2.1315\n",
      "Epoch 160/1000\n",
      "20/20 [==============================] - 0s 24ms/step - loss: 1.9214 - mae: 0.9712 - mse: 1.9214 - val_loss: 2.6318 - val_mae: 1.0258 - val_mse: 2.6318\n",
      "Epoch 161/1000\n",
      "20/20 [==============================] - 0s 25ms/step - loss: 2.1596 - mae: 1.0075 - mse: 2.1596 - val_loss: 2.3478 - val_mae: 0.9972 - val_mse: 2.3478\n",
      "Epoch 162/1000\n",
      "20/20 [==============================] - 0s 24ms/step - loss: 1.9938 - mae: 0.9782 - mse: 1.9938 - val_loss: 2.2662 - val_mae: 0.9754 - val_mse: 2.2662\n",
      "Epoch 163/1000\n",
      "20/20 [==============================] - 0s 23ms/step - loss: 2.0665 - mae: 0.9971 - mse: 2.0665 - val_loss: 2.4914 - val_mae: 1.0342 - val_mse: 2.4914\n",
      "Epoch 164/1000\n",
      "20/20 [==============================] - 1s 27ms/step - loss: 2.2083 - mae: 1.0129 - mse: 2.2083 - val_loss: 2.1848 - val_mae: 1.0011 - val_mse: 2.1848\n",
      "Epoch 165/1000\n",
      "20/20 [==============================] - 1s 27ms/step - loss: 2.0421 - mae: 0.9872 - mse: 2.0421 - val_loss: 2.1619 - val_mae: 0.9584 - val_mse: 2.1619\n",
      "Epoch 166/1000\n",
      "20/20 [==============================] - 0s 25ms/step - loss: 2.2888 - mae: 1.0006 - mse: 2.2888 - val_loss: 2.8857 - val_mae: 1.0859 - val_mse: 2.8857\n",
      "Epoch 167/1000\n",
      "20/20 [==============================] - 0s 23ms/step - loss: 2.1390 - mae: 0.9948 - mse: 2.1390 - val_loss: 2.2541 - val_mae: 0.9707 - val_mse: 2.2541\n",
      "Epoch 168/1000\n",
      "20/20 [==============================] - 0s 24ms/step - loss: 2.0430 - mae: 0.9766 - mse: 2.0430 - val_loss: 2.7014 - val_mae: 1.0792 - val_mse: 2.7014\n",
      "Epoch 169/1000\n",
      "20/20 [==============================] - 0s 23ms/step - loss: 2.0730 - mae: 0.9779 - mse: 2.0730 - val_loss: 2.4815 - val_mae: 1.0323 - val_mse: 2.4815\n",
      "Epoch 170/1000\n",
      "20/20 [==============================] - 1s 26ms/step - loss: 2.7470 - mae: 1.0984 - mse: 2.7470 - val_loss: 2.8700 - val_mae: 1.1389 - val_mse: 2.8700\n",
      "Epoch 171/1000\n",
      "20/20 [==============================] - 0s 25ms/step - loss: 2.4543 - mae: 1.0667 - mse: 2.4543 - val_loss: 3.2610 - val_mae: 1.1336 - val_mse: 3.2610\n",
      "Epoch 172/1000\n",
      "20/20 [==============================] - 0s 23ms/step - loss: 2.3142 - mae: 1.0246 - mse: 2.3142 - val_loss: 2.1690 - val_mae: 0.9459 - val_mse: 2.1690\n",
      "Epoch 173/1000\n",
      "20/20 [==============================] - 0s 22ms/step - loss: 2.3397 - mae: 1.0161 - mse: 2.3397 - val_loss: 2.3492 - val_mae: 0.9754 - val_mse: 2.3492\n",
      "Epoch 174/1000\n",
      "20/20 [==============================] - 0s 21ms/step - loss: 2.1701 - mae: 1.0030 - mse: 2.1701 - val_loss: 2.7720 - val_mae: 1.0905 - val_mse: 2.7720\n",
      "Epoch 175/1000\n",
      "20/20 [==============================] - 0s 23ms/step - loss: 2.7182 - mae: 1.0930 - mse: 2.7182 - val_loss: 3.3838 - val_mae: 1.1554 - val_mse: 3.3838\n",
      "Epoch 176/1000\n",
      "20/20 [==============================] - 0s 22ms/step - loss: 2.3534 - mae: 1.0234 - mse: 2.3534 - val_loss: 2.6623 - val_mae: 1.0246 - val_mse: 2.6623\n",
      "Epoch 177/1000\n",
      "20/20 [==============================] - 1s 26ms/step - loss: 2.0937 - mae: 0.9759 - mse: 2.0937 - val_loss: 2.4278 - val_mae: 1.0169 - val_mse: 2.4278\n",
      "Epoch 178/1000\n",
      "20/20 [==============================] - 1s 26ms/step - loss: 1.9990 - mae: 0.9619 - mse: 1.9990 - val_loss: 2.8981 - val_mae: 1.0777 - val_mse: 2.8981\n",
      "Epoch 179/1000\n",
      "20/20 [==============================] - 0s 23ms/step - loss: 1.9340 - mae: 0.9355 - mse: 1.9340 - val_loss: 2.0545 - val_mae: 0.9356 - val_mse: 2.0545\n",
      "Epoch 180/1000\n",
      "20/20 [==============================] - 0s 21ms/step - loss: 1.8174 - mae: 0.9253 - mse: 1.8174 - val_loss: 2.3572 - val_mae: 0.9782 - val_mse: 2.3572\n",
      "Epoch 181/1000\n",
      "20/20 [==============================] - 0s 23ms/step - loss: 1.8005 - mae: 0.9174 - mse: 1.8005 - val_loss: 2.5239 - val_mae: 1.0193 - val_mse: 2.5239\n",
      "Epoch 182/1000\n",
      "20/20 [==============================] - 0s 23ms/step - loss: 1.9616 - mae: 0.9439 - mse: 1.9616 - val_loss: 2.0451 - val_mae: 0.9312 - val_mse: 2.0451\n",
      "Epoch 183/1000\n",
      "20/20 [==============================] - 0s 24ms/step - loss: 2.4112 - mae: 1.0137 - mse: 2.4112 - val_loss: 2.3286 - val_mae: 0.9721 - val_mse: 2.3286\n",
      "Epoch 184/1000\n",
      "20/20 [==============================] - 1s 37ms/step - loss: 2.1923 - mae: 1.0037 - mse: 2.1923 - val_loss: 2.8314 - val_mae: 1.0914 - val_mse: 2.8314\n",
      "Epoch 185/1000\n",
      "20/20 [==============================] - 1s 32ms/step - loss: 1.7695 - mae: 0.9073 - mse: 1.7695 - val_loss: 1.8525 - val_mae: 0.8753 - val_mse: 1.8525\n",
      "Epoch 186/1000\n",
      "20/20 [==============================] - 0s 24ms/step - loss: 1.9517 - mae: 0.9465 - mse: 1.9517 - val_loss: 2.1830 - val_mae: 0.9631 - val_mse: 2.1830\n",
      "Epoch 187/1000\n",
      "20/20 [==============================] - 1s 26ms/step - loss: 2.0538 - mae: 0.9459 - mse: 2.0538 - val_loss: 2.2185 - val_mae: 0.9568 - val_mse: 2.2185\n",
      "Epoch 188/1000\n",
      "20/20 [==============================] - 0s 24ms/step - loss: 1.8881 - mae: 0.9366 - mse: 1.8881 - val_loss: 2.0156 - val_mae: 0.9329 - val_mse: 2.0156\n",
      "Epoch 189/1000\n",
      "20/20 [==============================] - 1s 25ms/step - loss: 1.7261 - mae: 0.8990 - mse: 1.7261 - val_loss: 1.8660 - val_mae: 0.8893 - val_mse: 1.8660\n",
      "Epoch 190/1000\n",
      "20/20 [==============================] - 1s 26ms/step - loss: 1.8417 - mae: 0.9171 - mse: 1.8417 - val_loss: 2.6767 - val_mae: 1.0333 - val_mse: 2.6767\n",
      "Epoch 191/1000\n",
      "20/20 [==============================] - 1s 27ms/step - loss: 1.7623 - mae: 0.8893 - mse: 1.7623 - val_loss: 2.8151 - val_mae: 1.0774 - val_mse: 2.8151\n",
      "Epoch 192/1000\n",
      "20/20 [==============================] - 0s 25ms/step - loss: 2.2530 - mae: 0.9969 - mse: 2.2530 - val_loss: 2.1646 - val_mae: 0.9402 - val_mse: 2.1646\n",
      "Epoch 193/1000\n",
      "20/20 [==============================] - 1s 28ms/step - loss: 1.9320 - mae: 0.9225 - mse: 1.9320 - val_loss: 2.1644 - val_mae: 0.9538 - val_mse: 2.1644\n",
      "Epoch 194/1000\n",
      "20/20 [==============================] - 1s 29ms/step - loss: 2.1008 - mae: 0.9603 - mse: 2.1008 - val_loss: 2.9684 - val_mae: 1.0982 - val_mse: 2.9684\n",
      "Epoch 195/1000\n",
      "20/20 [==============================] - 1s 27ms/step - loss: 1.7044 - mae: 0.8906 - mse: 1.7044 - val_loss: 2.2880 - val_mae: 0.9711 - val_mse: 2.2880\n",
      "Epoch 196/1000\n",
      "20/20 [==============================] - 1s 26ms/step - loss: 1.5355 - mae: 0.8511 - mse: 1.5355 - val_loss: 2.6964 - val_mae: 1.0707 - val_mse: 2.6964\n",
      "Epoch 197/1000\n",
      "20/20 [==============================] - 1s 27ms/step - loss: 2.2923 - mae: 0.9987 - mse: 2.2923 - val_loss: 3.0003 - val_mae: 1.1395 - val_mse: 3.0003\n",
      "Epoch 198/1000\n",
      "20/20 [==============================] - 1s 32ms/step - loss: 1.8854 - mae: 0.9341 - mse: 1.8854 - val_loss: 1.9329 - val_mae: 0.8755 - val_mse: 1.9329\n",
      "Epoch 199/1000\n",
      "20/20 [==============================] - 1s 31ms/step - loss: 1.5403 - mae: 0.8480 - mse: 1.5403 - val_loss: 1.8935 - val_mae: 0.9028 - val_mse: 1.8935\n",
      "Epoch 200/1000\n",
      "20/20 [==============================] - 1s 28ms/step - loss: 1.7934 - mae: 0.9032 - mse: 1.7934 - val_loss: 2.3514 - val_mae: 1.0093 - val_mse: 2.3514\n",
      "Epoch 201/1000\n",
      "20/20 [==============================] - 1s 25ms/step - loss: 1.6735 - mae: 0.8817 - mse: 1.6735 - val_loss: 1.9481 - val_mae: 0.9004 - val_mse: 1.9481\n",
      "Epoch 202/1000\n",
      "20/20 [==============================] - 1s 32ms/step - loss: 1.6738 - mae: 0.8828 - mse: 1.6738 - val_loss: 2.1359 - val_mae: 0.9260 - val_mse: 2.1359\n",
      "Epoch 203/1000\n",
      "20/20 [==============================] - 0s 25ms/step - loss: 1.9422 - mae: 0.9266 - mse: 1.9422 - val_loss: 1.5953 - val_mae: 0.8320 - val_mse: 1.5953\n",
      "Epoch 204/1000\n",
      "20/20 [==============================] - 1s 26ms/step - loss: 1.9434 - mae: 0.9607 - mse: 1.9434 - val_loss: 2.7576 - val_mae: 1.1172 - val_mse: 2.7576\n",
      "Epoch 205/1000\n",
      "20/20 [==============================] - 1s 26ms/step - loss: 2.4331 - mae: 1.0150 - mse: 2.4331 - val_loss: 3.1262 - val_mae: 1.1569 - val_mse: 3.1262\n",
      "Epoch 206/1000\n",
      "20/20 [==============================] - 1s 29ms/step - loss: 2.0724 - mae: 0.9547 - mse: 2.0724 - val_loss: 1.9637 - val_mae: 0.8759 - val_mse: 1.9637\n",
      "Epoch 207/1000\n",
      "20/20 [==============================] - 1s 26ms/step - loss: 1.9429 - mae: 0.9205 - mse: 1.9429 - val_loss: 1.9018 - val_mae: 0.9147 - val_mse: 1.9018\n",
      "Epoch 208/1000\n",
      "20/20 [==============================] - 1s 25ms/step - loss: 1.9388 - mae: 0.9144 - mse: 1.9388 - val_loss: 1.8431 - val_mae: 0.8863 - val_mse: 1.8431\n",
      "Epoch 209/1000\n",
      "20/20 [==============================] - 1s 26ms/step - loss: 1.6744 - mae: 0.8786 - mse: 1.6744 - val_loss: 1.7301 - val_mae: 0.8468 - val_mse: 1.7301\n",
      "Epoch 210/1000\n",
      "20/20 [==============================] - 1s 28ms/step - loss: 1.3776 - mae: 0.7946 - mse: 1.3776 - val_loss: 1.5453 - val_mae: 0.8123 - val_mse: 1.5453\n",
      "Epoch 211/1000\n",
      "20/20 [==============================] - 1s 27ms/step - loss: 1.3056 - mae: 0.7757 - mse: 1.3056 - val_loss: 1.5957 - val_mae: 0.8021 - val_mse: 1.5957\n",
      "Epoch 212/1000\n",
      "20/20 [==============================] - 0s 24ms/step - loss: 1.6814 - mae: 0.8728 - mse: 1.6814 - val_loss: 2.7435 - val_mae: 1.0718 - val_mse: 2.7435\n",
      "Epoch 213/1000\n",
      "20/20 [==============================] - 1s 26ms/step - loss: 1.7037 - mae: 0.8816 - mse: 1.7037 - val_loss: 1.6135 - val_mae: 0.8348 - val_mse: 1.6135\n",
      "Epoch 214/1000\n",
      "20/20 [==============================] - 0s 23ms/step - loss: 1.5734 - mae: 0.8510 - mse: 1.5734 - val_loss: 1.6441 - val_mae: 0.8325 - val_mse: 1.6441\n",
      "Epoch 215/1000\n",
      "20/20 [==============================] - 0s 24ms/step - loss: 1.8830 - mae: 0.8902 - mse: 1.8830 - val_loss: 1.8118 - val_mae: 0.8618 - val_mse: 1.8118\n",
      "Epoch 216/1000\n",
      "20/20 [==============================] - 0s 25ms/step - loss: 1.7323 - mae: 0.8782 - mse: 1.7323 - val_loss: 2.1391 - val_mae: 0.9254 - val_mse: 2.1391\n",
      "Epoch 217/1000\n",
      "20/20 [==============================] - 0s 22ms/step - loss: 1.3286 - mae: 0.7973 - mse: 1.3286 - val_loss: 1.5603 - val_mae: 0.7863 - val_mse: 1.5603\n",
      "Epoch 218/1000\n",
      "20/20 [==============================] - 0s 24ms/step - loss: 1.3259 - mae: 0.7855 - mse: 1.3259 - val_loss: 1.4509 - val_mae: 0.7858 - val_mse: 1.4509\n",
      "Epoch 219/1000\n",
      "20/20 [==============================] - 0s 25ms/step - loss: 1.6753 - mae: 0.8632 - mse: 1.6753 - val_loss: 1.7513 - val_mae: 0.8598 - val_mse: 1.7513\n",
      "Epoch 220/1000\n",
      "20/20 [==============================] - 1s 34ms/step - loss: 1.7811 - mae: 0.8723 - mse: 1.7811 - val_loss: 1.7854 - val_mae: 0.8635 - val_mse: 1.7854\n",
      "Epoch 221/1000\n",
      "20/20 [==============================] - 1s 32ms/step - loss: 1.9690 - mae: 0.9144 - mse: 1.9690 - val_loss: 2.0015 - val_mae: 0.9053 - val_mse: 2.0015\n",
      "Epoch 222/1000\n",
      "20/20 [==============================] - 1s 28ms/step - loss: 1.9528 - mae: 0.9267 - mse: 1.9528 - val_loss: 1.8458 - val_mae: 0.8860 - val_mse: 1.8458\n",
      "Epoch 223/1000\n",
      "20/20 [==============================] - 0s 25ms/step - loss: 1.7913 - mae: 0.8944 - mse: 1.7913 - val_loss: 1.8210 - val_mae: 0.8527 - val_mse: 1.8210\n",
      "Epoch 224/1000\n",
      "20/20 [==============================] - 0s 24ms/step - loss: 1.4439 - mae: 0.8158 - mse: 1.4439 - val_loss: 1.7409 - val_mae: 0.8469 - val_mse: 1.7409\n",
      "Epoch 225/1000\n",
      "20/20 [==============================] - 0s 23ms/step - loss: 1.2871 - mae: 0.7669 - mse: 1.2871 - val_loss: 1.3832 - val_mae: 0.7598 - val_mse: 1.3832\n",
      "Epoch 226/1000\n",
      "20/20 [==============================] - 0s 23ms/step - loss: 1.2632 - mae: 0.7722 - mse: 1.2632 - val_loss: 1.4141 - val_mae: 0.7751 - val_mse: 1.4141\n",
      "Epoch 227/1000\n",
      "20/20 [==============================] - 0s 22ms/step - loss: 1.2922 - mae: 0.7655 - mse: 1.2922 - val_loss: 1.5293 - val_mae: 0.7882 - val_mse: 1.5293\n",
      "Epoch 228/1000\n",
      "20/20 [==============================] - 0s 22ms/step - loss: 1.3081 - mae: 0.7867 - mse: 1.3081 - val_loss: 1.3873 - val_mae: 0.7606 - val_mse: 1.3873\n",
      "Epoch 229/1000\n",
      "20/20 [==============================] - 0s 23ms/step - loss: 1.6175 - mae: 0.8523 - mse: 1.6175 - val_loss: 2.0029 - val_mae: 0.9396 - val_mse: 2.0029\n",
      "Epoch 230/1000\n",
      "20/20 [==============================] - 0s 23ms/step - loss: 1.7327 - mae: 0.8801 - mse: 1.7327 - val_loss: 2.1648 - val_mae: 0.9356 - val_mse: 2.1648\n",
      "Epoch 231/1000\n",
      "20/20 [==============================] - 0s 22ms/step - loss: 1.6108 - mae: 0.8359 - mse: 1.6108 - val_loss: 1.4187 - val_mae: 0.7792 - val_mse: 1.4187\n",
      "Epoch 232/1000\n",
      "20/20 [==============================] - 0s 22ms/step - loss: 1.2098 - mae: 0.7627 - mse: 1.2098 - val_loss: 1.3454 - val_mae: 0.7710 - val_mse: 1.3454\n",
      "Epoch 233/1000\n",
      "20/20 [==============================] - 0s 22ms/step - loss: 1.4219 - mae: 0.7951 - mse: 1.4219 - val_loss: 1.9201 - val_mae: 0.8799 - val_mse: 1.9201\n",
      "Epoch 234/1000\n",
      "20/20 [==============================] - 0s 22ms/step - loss: 1.7101 - mae: 0.8577 - mse: 1.7101 - val_loss: 1.4666 - val_mae: 0.7934 - val_mse: 1.4666\n",
      "Epoch 235/1000\n",
      "20/20 [==============================] - 0s 22ms/step - loss: 1.7271 - mae: 0.8636 - mse: 1.7271 - val_loss: 1.7857 - val_mae: 0.8831 - val_mse: 1.7857\n",
      "Epoch 236/1000\n",
      "20/20 [==============================] - 0s 22ms/step - loss: 1.4614 - mae: 0.8236 - mse: 1.4614 - val_loss: 1.4428 - val_mae: 0.7841 - val_mse: 1.4428\n",
      "Epoch 237/1000\n",
      "20/20 [==============================] - 0s 22ms/step - loss: 1.5029 - mae: 0.8085 - mse: 1.5029 - val_loss: 2.1377 - val_mae: 0.9513 - val_mse: 2.1377\n",
      "Epoch 238/1000\n",
      "20/20 [==============================] - 0s 21ms/step - loss: 1.8378 - mae: 0.8780 - mse: 1.8378 - val_loss: 2.1416 - val_mae: 0.8823 - val_mse: 2.1416\n",
      "Epoch 239/1000\n",
      "20/20 [==============================] - 0s 22ms/step - loss: 1.8747 - mae: 0.8964 - mse: 1.8747 - val_loss: 1.9571 - val_mae: 0.8677 - val_mse: 1.9571\n",
      "Epoch 240/1000\n",
      "20/20 [==============================] - 0s 22ms/step - loss: 1.9446 - mae: 0.9101 - mse: 1.9446 - val_loss: 1.4633 - val_mae: 0.7675 - val_mse: 1.4633\n",
      "Epoch 241/1000\n",
      "20/20 [==============================] - 1s 53ms/step - loss: 1.5131 - mae: 0.8380 - mse: 1.5131 - val_loss: 1.8878 - val_mae: 0.9430 - val_mse: 1.8878\n",
      "Epoch 242/1000\n",
      "20/20 [==============================] - 1s 35ms/step - loss: 1.8205 - mae: 0.9001 - mse: 1.8205 - val_loss: 1.6131 - val_mae: 0.8056 - val_mse: 1.6131\n",
      "Epoch 243/1000\n",
      "20/20 [==============================] - 1s 26ms/step - loss: 1.6103 - mae: 0.8380 - mse: 1.6103 - val_loss: 1.7113 - val_mae: 0.8626 - val_mse: 1.7113\n",
      "Epoch 244/1000\n",
      "20/20 [==============================] - 0s 24ms/step - loss: 1.4119 - mae: 0.7939 - mse: 1.4119 - val_loss: 1.4009 - val_mae: 0.7597 - val_mse: 1.4009\n",
      "Epoch 245/1000\n",
      "20/20 [==============================] - 0s 21ms/step - loss: 1.2048 - mae: 0.7414 - mse: 1.2048 - val_loss: 1.4251 - val_mae: 0.7701 - val_mse: 1.4251\n",
      "Epoch 246/1000\n",
      "20/20 [==============================] - 1s 25ms/step - loss: 1.8590 - mae: 0.8793 - mse: 1.8590 - val_loss: 3.1271 - val_mae: 1.0560 - val_mse: 3.1271\n",
      "Epoch 247/1000\n",
      "20/20 [==============================] - 0s 24ms/step - loss: 2.3665 - mae: 0.9477 - mse: 2.3665 - val_loss: 1.8474 - val_mae: 0.8642 - val_mse: 1.8474\n",
      "Epoch 248/1000\n",
      "20/20 [==============================] - 0s 25ms/step - loss: 1.4381 - mae: 0.7928 - mse: 1.4381 - val_loss: 1.6338 - val_mae: 0.8309 - val_mse: 1.6338\n",
      "Epoch 249/1000\n",
      "20/20 [==============================] - 0s 24ms/step - loss: 1.1229 - mae: 0.7218 - mse: 1.1229 - val_loss: 1.2601 - val_mae: 0.7199 - val_mse: 1.2601\n",
      "Epoch 250/1000\n",
      "20/20 [==============================] - 1s 26ms/step - loss: 1.1382 - mae: 0.7340 - mse: 1.1382 - val_loss: 1.2721 - val_mae: 0.7225 - val_mse: 1.2721\n",
      "Epoch 251/1000\n",
      "20/20 [==============================] - 0s 22ms/step - loss: 1.2270 - mae: 0.7515 - mse: 1.2270 - val_loss: 2.2064 - val_mae: 1.0095 - val_mse: 2.2064\n",
      "Epoch 252/1000\n",
      "20/20 [==============================] - 0s 21ms/step - loss: 1.4035 - mae: 0.8036 - mse: 1.4035 - val_loss: 1.2466 - val_mae: 0.7114 - val_mse: 1.2466\n",
      "Epoch 253/1000\n",
      "20/20 [==============================] - 0s 22ms/step - loss: 1.0793 - mae: 0.7189 - mse: 1.0793 - val_loss: 1.7514 - val_mae: 0.8728 - val_mse: 1.7514\n",
      "Epoch 254/1000\n",
      "20/20 [==============================] - 0s 21ms/step - loss: 1.5487 - mae: 0.7986 - mse: 1.5487 - val_loss: 2.9963 - val_mae: 1.0842 - val_mse: 2.9963\n",
      "Epoch 255/1000\n",
      "20/20 [==============================] - 0s 22ms/step - loss: 2.5115 - mae: 1.0149 - mse: 2.5115 - val_loss: 2.3583 - val_mae: 0.9848 - val_mse: 2.3583\n",
      "Epoch 256/1000\n",
      "20/20 [==============================] - 0s 23ms/step - loss: 1.7973 - mae: 0.8792 - mse: 1.7973 - val_loss: 1.9413 - val_mae: 0.8917 - val_mse: 1.9413\n",
      "Epoch 257/1000\n",
      "20/20 [==============================] - 0s 25ms/step - loss: 2.6658 - mae: 1.0052 - mse: 2.6658 - val_loss: 3.1916 - val_mae: 1.0302 - val_mse: 3.1916\n",
      "Epoch 258/1000\n",
      "20/20 [==============================] - 1s 26ms/step - loss: 1.7120 - mae: 0.8495 - mse: 1.7120 - val_loss: 1.8392 - val_mae: 0.8271 - val_mse: 1.8392\n",
      "Epoch 259/1000\n",
      "20/20 [==============================] - 0s 24ms/step - loss: 1.4238 - mae: 0.7885 - mse: 1.4238 - val_loss: 2.4140 - val_mae: 0.9257 - val_mse: 2.4140\n",
      "Epoch 260/1000\n",
      "20/20 [==============================] - 0s 24ms/step - loss: 1.9867 - mae: 0.8982 - mse: 1.9867 - val_loss: 1.3351 - val_mae: 0.7564 - val_mse: 1.3351\n",
      "Epoch 261/1000\n",
      "20/20 [==============================] - 0s 23ms/step - loss: 1.8911 - mae: 0.8776 - mse: 1.8911 - val_loss: 1.8763 - val_mae: 0.8772 - val_mse: 1.8763\n",
      "Epoch 262/1000\n",
      "20/20 [==============================] - 0s 25ms/step - loss: 1.2497 - mae: 0.7492 - mse: 1.2497 - val_loss: 1.2753 - val_mae: 0.7254 - val_mse: 1.2753\n",
      "Epoch 263/1000\n",
      "20/20 [==============================] - 0s 22ms/step - loss: 1.1798 - mae: 0.7295 - mse: 1.1798 - val_loss: 1.2136 - val_mae: 0.7279 - val_mse: 1.2136\n",
      "Epoch 264/1000\n",
      "20/20 [==============================] - 0s 25ms/step - loss: 1.1659 - mae: 0.7359 - mse: 1.1659 - val_loss: 2.0678 - val_mae: 0.9508 - val_mse: 2.0678\n",
      "Epoch 265/1000\n",
      "20/20 [==============================] - 1s 26ms/step - loss: 1.3544 - mae: 0.7779 - mse: 1.3544 - val_loss: 1.9305 - val_mae: 0.9272 - val_mse: 1.9305\n",
      "Epoch 266/1000\n",
      "20/20 [==============================] - 1s 27ms/step - loss: 1.3437 - mae: 0.7673 - mse: 1.3437 - val_loss: 1.1378 - val_mae: 0.6774 - val_mse: 1.1378\n",
      "Epoch 267/1000\n",
      "20/20 [==============================] - 1s 26ms/step - loss: 1.0807 - mae: 0.6981 - mse: 1.0807 - val_loss: 1.2756 - val_mae: 0.7276 - val_mse: 1.2756\n",
      "Epoch 268/1000\n",
      "20/20 [==============================] - 0s 25ms/step - loss: 1.3278 - mae: 0.7540 - mse: 1.3278 - val_loss: 1.6467 - val_mae: 0.8243 - val_mse: 1.6467\n",
      "Epoch 269/1000\n",
      "20/20 [==============================] - 1s 26ms/step - loss: 1.3216 - mae: 0.7645 - mse: 1.3216 - val_loss: 1.2669 - val_mae: 0.7710 - val_mse: 1.2669\n",
      "Epoch 270/1000\n",
      "20/20 [==============================] - 0s 22ms/step - loss: 1.0186 - mae: 0.6980 - mse: 1.0186 - val_loss: 1.6407 - val_mae: 0.7896 - val_mse: 1.6407\n",
      "Epoch 271/1000\n",
      "20/20 [==============================] - 0s 22ms/step - loss: 1.2249 - mae: 0.7431 - mse: 1.2249 - val_loss: 1.4459 - val_mae: 0.7376 - val_mse: 1.4459\n",
      "Epoch 272/1000\n",
      "20/20 [==============================] - 0s 23ms/step - loss: 1.7020 - mae: 0.8173 - mse: 1.7020 - val_loss: 2.7202 - val_mae: 0.9949 - val_mse: 2.7202\n",
      "Epoch 273/1000\n",
      "20/20 [==============================] - 0s 23ms/step - loss: 1.6559 - mae: 0.8163 - mse: 1.6559 - val_loss: 1.8208 - val_mae: 0.8330 - val_mse: 1.8208\n",
      "Epoch 274/1000\n",
      "20/20 [==============================] - 0s 22ms/step - loss: 1.3615 - mae: 0.7622 - mse: 1.3615 - val_loss: 1.5798 - val_mae: 0.7883 - val_mse: 1.5798\n",
      "Epoch 275/1000\n",
      "20/20 [==============================] - 0s 23ms/step - loss: 1.0424 - mae: 0.6981 - mse: 1.0424 - val_loss: 1.1549 - val_mae: 0.6912 - val_mse: 1.1549\n",
      "Epoch 276/1000\n",
      "20/20 [==============================] - 0s 22ms/step - loss: 0.8849 - mae: 0.6357 - mse: 0.8849 - val_loss: 1.2576 - val_mae: 0.7186 - val_mse: 1.2576\n",
      "Epoch 277/1000\n",
      "20/20 [==============================] - 0s 23ms/step - loss: 1.1947 - mae: 0.7399 - mse: 1.1947 - val_loss: 1.2588 - val_mae: 0.7493 - val_mse: 1.2588\n",
      "Epoch 278/1000\n",
      "20/20 [==============================] - 0s 22ms/step - loss: 1.0045 - mae: 0.6812 - mse: 1.0045 - val_loss: 1.4071 - val_mae: 0.7479 - val_mse: 1.4071\n",
      "Epoch 279/1000\n",
      "20/20 [==============================] - 0s 21ms/step - loss: 1.2426 - mae: 0.7136 - mse: 1.2426 - val_loss: 1.1590 - val_mae: 0.7049 - val_mse: 1.1590\n",
      "Epoch 280/1000\n",
      "20/20 [==============================] - 0s 21ms/step - loss: 1.3626 - mae: 0.7568 - mse: 1.3626 - val_loss: 2.3114 - val_mae: 0.9993 - val_mse: 2.3114\n",
      "Epoch 281/1000\n",
      "20/20 [==============================] - 0s 21ms/step - loss: 2.1032 - mae: 0.9093 - mse: 2.1032 - val_loss: 2.0074 - val_mae: 0.9236 - val_mse: 2.0074\n",
      "Epoch 282/1000\n",
      "20/20 [==============================] - 0s 22ms/step - loss: 1.6605 - mae: 0.8183 - mse: 1.6605 - val_loss: 2.3022 - val_mae: 0.9228 - val_mse: 2.3022\n",
      "Epoch 283/1000\n",
      "20/20 [==============================] - 0s 21ms/step - loss: 1.7627 - mae: 0.8396 - mse: 1.7627 - val_loss: 1.7208 - val_mae: 0.8389 - val_mse: 1.7208\n",
      "Epoch 284/1000\n",
      "20/20 [==============================] - 0s 21ms/step - loss: 1.4416 - mae: 0.7689 - mse: 1.4416 - val_loss: 1.4561 - val_mae: 0.7754 - val_mse: 1.4561\n",
      "Epoch 285/1000\n",
      "20/20 [==============================] - 0s 21ms/step - loss: 1.2107 - mae: 0.7257 - mse: 1.2107 - val_loss: 1.5619 - val_mae: 0.8045 - val_mse: 1.5619\n",
      "Epoch 286/1000\n",
      "20/20 [==============================] - 0s 22ms/step - loss: 1.1166 - mae: 0.7145 - mse: 1.1166 - val_loss: 1.4478 - val_mae: 0.7691 - val_mse: 1.4478\n",
      "Epoch 287/1000\n",
      "20/20 [==============================] - 0s 22ms/step - loss: 1.3108 - mae: 0.7670 - mse: 1.3108 - val_loss: 1.3192 - val_mae: 0.7209 - val_mse: 1.3192\n",
      "Epoch 288/1000\n",
      "20/20 [==============================] - 0s 23ms/step - loss: 1.3177 - mae: 0.7283 - mse: 1.3177 - val_loss: 2.9611 - val_mae: 1.0525 - val_mse: 2.9611\n",
      "Epoch 289/1000\n",
      "20/20 [==============================] - 0s 21ms/step - loss: 1.5457 - mae: 0.7936 - mse: 1.5457 - val_loss: 1.4764 - val_mae: 0.7365 - val_mse: 1.4764\n",
      "Epoch 290/1000\n",
      "20/20 [==============================] - 0s 22ms/step - loss: 0.8848 - mae: 0.6363 - mse: 0.8848 - val_loss: 1.3158 - val_mae: 0.7276 - val_mse: 1.3158\n",
      "Epoch 291/1000\n",
      "20/20 [==============================] - 0s 22ms/step - loss: 1.3633 - mae: 0.7455 - mse: 1.3633 - val_loss: 3.0888 - val_mae: 1.0698 - val_mse: 3.0888\n",
      "Epoch 292/1000\n",
      "20/20 [==============================] - 0s 22ms/step - loss: 2.0427 - mae: 0.8943 - mse: 2.0427 - val_loss: 2.3632 - val_mae: 0.8979 - val_mse: 2.3632\n",
      "Epoch 293/1000\n",
      "20/20 [==============================] - 0s 22ms/step - loss: 1.9083 - mae: 0.8513 - mse: 1.9083 - val_loss: 1.2847 - val_mae: 0.7326 - val_mse: 1.2847\n",
      "Epoch 294/1000\n",
      "20/20 [==============================] - 0s 22ms/step - loss: 1.5349 - mae: 0.7855 - mse: 1.5349 - val_loss: 1.4964 - val_mae: 0.7910 - val_mse: 1.4964\n",
      "Epoch 295/1000\n",
      "20/20 [==============================] - 0s 21ms/step - loss: 1.2270 - mae: 0.7249 - mse: 1.2270 - val_loss: 1.1680 - val_mae: 0.6631 - val_mse: 1.1680\n",
      "Epoch 296/1000\n",
      "20/20 [==============================] - 0s 21ms/step - loss: 1.2064 - mae: 0.7270 - mse: 1.2064 - val_loss: 2.1449 - val_mae: 0.9053 - val_mse: 2.1449\n",
      "Epoch 297/1000\n",
      "20/20 [==============================] - 0s 21ms/step - loss: 1.8235 - mae: 0.8778 - mse: 1.8235 - val_loss: 2.1251 - val_mae: 0.9377 - val_mse: 2.1251\n",
      "Epoch 298/1000\n",
      "20/20 [==============================] - 0s 22ms/step - loss: 1.9256 - mae: 0.8554 - mse: 1.9256 - val_loss: 1.4697 - val_mae: 0.7548 - val_mse: 1.4697\n",
      "Epoch 299/1000\n",
      "20/20 [==============================] - 0s 21ms/step - loss: 2.2832 - mae: 0.9161 - mse: 2.2832 - val_loss: 3.9418 - val_mae: 1.0771 - val_mse: 3.9418\n",
      "Epoch 300/1000\n",
      "20/20 [==============================] - 0s 21ms/step - loss: 3.2268 - mae: 1.0479 - mse: 3.2268 - val_loss: 3.0546 - val_mae: 1.0350 - val_mse: 3.0546\n",
      "Epoch 301/1000\n",
      "20/20 [==============================] - 0s 21ms/step - loss: 1.9602 - mae: 0.8753 - mse: 1.9602 - val_loss: 2.0564 - val_mae: 0.9034 - val_mse: 2.0564\n",
      "Epoch 302/1000\n",
      "20/20 [==============================] - 0s 23ms/step - loss: 1.2639 - mae: 0.7379 - mse: 1.2639 - val_loss: 1.9103 - val_mae: 0.8690 - val_mse: 1.9103\n",
      "Epoch 303/1000\n",
      "20/20 [==============================] - 0s 23ms/step - loss: 1.5565 - mae: 0.8086 - mse: 1.5565 - val_loss: 1.2430 - val_mae: 0.7106 - val_mse: 1.2430\n",
      "Epoch 304/1000\n",
      "20/20 [==============================] - 0s 22ms/step - loss: 1.4028 - mae: 0.7537 - mse: 1.4028 - val_loss: 3.8178 - val_mae: 1.1271 - val_mse: 3.8178\n",
      "Epoch 305/1000\n",
      "20/20 [==============================] - 0s 21ms/step - loss: 1.5295 - mae: 0.7826 - mse: 1.5295 - val_loss: 1.5119 - val_mae: 0.7854 - val_mse: 1.5119\n",
      "Epoch 306/1000\n",
      "20/20 [==============================] - 0s 23ms/step - loss: 1.3786 - mae: 0.7520 - mse: 1.3786 - val_loss: 1.2128 - val_mae: 0.6846 - val_mse: 1.2128\n",
      "Epoch 307/1000\n",
      "20/20 [==============================] - 0s 21ms/step - loss: 1.5062 - mae: 0.7586 - mse: 1.5062 - val_loss: 1.9611 - val_mae: 0.8349 - val_mse: 1.9611\n",
      "Epoch 308/1000\n",
      "20/20 [==============================] - 0s 21ms/step - loss: 2.1223 - mae: 0.9058 - mse: 2.1223 - val_loss: 2.6054 - val_mae: 1.0554 - val_mse: 2.6054\n",
      "Epoch 309/1000\n",
      "20/20 [==============================] - 0s 21ms/step - loss: 1.8490 - mae: 0.8674 - mse: 1.8490 - val_loss: 3.0726 - val_mae: 0.9997 - val_mse: 3.0726\n",
      "Epoch 310/1000\n",
      "20/20 [==============================] - 0s 25ms/step - loss: 3.2026 - mae: 1.0855 - mse: 3.2026 - val_loss: 4.1918 - val_mae: 1.1783 - val_mse: 4.1918\n",
      "Epoch 310: early stopping\n"
     ]
    }
   ],
   "source": [
    "checkpoint_cb = tf.keras.callbacks.ModelCheckpoint('best-multiregression-model.h5')\n",
    "callback = keras.callbacks.EarlyStopping(monitor = 'loss', patience=20, verbose=True)\n",
    "model.compile(tf.keras.optimizers.legacy.Adam(learning_rate=0.001), loss = 'mse', metrics=['mae', 'mse'])\n",
    "history = model.fit(train_scale, train_output, batch_size=32, validation_data=(val_scale, val_output) ,epochs=1000, callbacks=[callback])"
   ]
  },
  {
   "cell_type": "code",
   "execution_count": 47,
   "metadata": {},
   "outputs": [
    {
     "name": "stderr",
     "output_type": "stream",
     "text": [
      "/Library/Frameworks/Python.framework/Versions/3.11/lib/python3.11/site-packages/keras/src/engine/training.py:3000: UserWarning: You are saving your model as an HDF5 file via `model.save()`. This file format is considered legacy. We recommend using instead the native Keras format, e.g. `model.save('my_model.keras')`.\n",
      "  saving_api.save_model(\n"
     ]
    }
   ],
   "source": [
    "model.save('best-multiregression-model.h5')\n",
    "model = keras.models.load_model('best-multiregression-model.h5')"
   ]
  },
  {
   "cell_type": "code",
   "execution_count": 48,
   "metadata": {},
   "outputs": [],
   "source": [
    "hist = history.history\n",
    "hist['epochs'] = history.epoch\n",
    "epochs = hist['epochs']\n",
    "loss = hist['loss']\n",
    "val_loss = hist['val_loss']\n",
    "mae = hist['mae']\n",
    "val_mae = hist['val_mae']\n",
    "mse = hist['mse']\n",
    "val_mse = hist['mse']\n",
    "def plot_history(history):\n",
    "\n",
    "    fig, axes = plt.subplots(1, 3, constrained_layout = True, figsize = (10, 5))\n",
    "    axes[0].plot(epochs, loss, label = 'Training_loss')\n",
    "    axes[0].plot(epochs, val_loss, label = 'val_loss')\n",
    "    axes[1].plot(epochs, mae, label = 'Training_mae')\n",
    "    axes[1].plot(epochs, val_mae, label = 'val_mae')\n",
    "    axes[2].plot(epochs, mse, label = 'Training_mse')\n",
    "    axes[2].plot(epochs, val_mse, label = 'val_mse')\n",
    "    axes[0].set_title('Training and validation loss')\n",
    "    axes[0].set_xlabel('Epochs')\n",
    "    axes[0].set_ylabel('Loss')\n",
    "    axes[1].set_title('Training and validation mae')\n",
    "    axes[1].set_xlabel('Epochs')\n",
    "    axes[1].set_ylabel('MAE')\n",
    "    axes[2].set_title('Training and validation mse')\n",
    "    axes[2].set_xlabel('Epochs')\n",
    "    axes[2].set_ylabel('MSE')\n",
    "    axes[0].legend()\n",
    "    axes[1].legend()\n",
    "    axes[2].legend()\n",
    "    plt.show()\n",
    "    \n"
   ]
  },
  {
   "cell_type": "code",
   "execution_count": 49,
   "metadata": {},
   "outputs": [
    {
     "data": {
      "image/png": "[encoded data removed]",
      "text/plain": [
       "<Figure size 1000x500 with 3 Axes>"
      ]
     },
     "metadata": {},
     "output_type": "display_data"
    }
   ],
   "source": [
    "plot_history(history)"
   ]
  },
  {
   "cell_type": "code",
   "execution_count": 50,
   "metadata": {},
   "outputs": [
    {
     "data": {
      "text/html": [
       "<div>\n",
       "<style scoped>\n",
       "    .dataframe tbody tr th:only-of-type {\n",
       "        vertical-align: middle;\n",
       "    }\n",
       "\n",
       "    .dataframe tbody tr th {\n",
       "        vertical-align: top;\n",
       "    }\n",
       "\n",
       "    .dataframe thead th {\n",
       "        text-align: right;\n",
       "    }\n",
       "</style>\n",
       "<table border=\"1\" class=\"dataframe\">\n",
       "  <thead>\n",
       "    <tr style=\"text-align: right;\">\n",
       "      <th></th>\n",
       "      <th>Loss</th>\n",
       "      <th>Val_Loss</th>\n",
       "      <th>MAE</th>\n",
       "      <th>Val_MAE</th>\n",
       "      <th>MSE</th>\n",
       "      <th>Val_MSE</th>\n",
       "    </tr>\n",
       "  </thead>\n",
       "  <tbody>\n",
       "    <tr>\n",
       "      <th>0</th>\n",
       "      <td>25183.558594</td>\n",
       "      <td>24565.787109</td>\n",
       "      <td>89.715698</td>\n",
       "      <td>88.715881</td>\n",
       "      <td>25183.558594</td>\n",
       "      <td>25183.558594</td>\n",
       "    </tr>\n",
       "    <tr>\n",
       "      <th>1</th>\n",
       "      <td>24237.900391</td>\n",
       "      <td>22898.775391</td>\n",
       "      <td>86.970070</td>\n",
       "      <td>85.211578</td>\n",
       "      <td>24237.900391</td>\n",
       "      <td>24237.900391</td>\n",
       "    </tr>\n",
       "    <tr>\n",
       "      <th>2</th>\n",
       "      <td>20779.548828</td>\n",
       "      <td>17219.091797</td>\n",
       "      <td>86.778954</td>\n",
       "      <td>86.848526</td>\n",
       "      <td>20779.548828</td>\n",
       "      <td>20779.548828</td>\n",
       "    </tr>\n",
       "    <tr>\n",
       "      <th>3</th>\n",
       "      <td>13886.784180</td>\n",
       "      <td>10397.110352</td>\n",
       "      <td>79.044533</td>\n",
       "      <td>66.230774</td>\n",
       "      <td>13886.784180</td>\n",
       "      <td>13886.784180</td>\n",
       "    </tr>\n",
       "    <tr>\n",
       "      <th>4</th>\n",
       "      <td>8183.525879</td>\n",
       "      <td>6057.403320</td>\n",
       "      <td>59.827450</td>\n",
       "      <td>49.672142</td>\n",
       "      <td>8183.525879</td>\n",
       "      <td>8183.525879</td>\n",
       "    </tr>\n",
       "    <tr>\n",
       "      <th>...</th>\n",
       "      <td>...</td>\n",
       "      <td>...</td>\n",
       "      <td>...</td>\n",
       "      <td>...</td>\n",
       "      <td>...</td>\n",
       "      <td>...</td>\n",
       "    </tr>\n",
       "    <tr>\n",
       "      <th>305</th>\n",
       "      <td>1.378640</td>\n",
       "      <td>1.212779</td>\n",
       "      <td>0.751950</td>\n",
       "      <td>0.684646</td>\n",
       "      <td>1.378640</td>\n",
       "      <td>1.378640</td>\n",
       "    </tr>\n",
       "    <tr>\n",
       "      <th>306</th>\n",
       "      <td>1.506247</td>\n",
       "      <td>1.961148</td>\n",
       "      <td>0.758560</td>\n",
       "      <td>0.834911</td>\n",
       "      <td>1.506247</td>\n",
       "      <td>1.506247</td>\n",
       "    </tr>\n",
       "    <tr>\n",
       "      <th>307</th>\n",
       "      <td>2.122328</td>\n",
       "      <td>2.605389</td>\n",
       "      <td>0.905757</td>\n",
       "      <td>1.055354</td>\n",
       "      <td>2.122328</td>\n",
       "      <td>2.122328</td>\n",
       "    </tr>\n",
       "    <tr>\n",
       "      <th>308</th>\n",
       "      <td>1.848979</td>\n",
       "      <td>3.072570</td>\n",
       "      <td>0.867419</td>\n",
       "      <td>0.999726</td>\n",
       "      <td>1.848979</td>\n",
       "      <td>1.848979</td>\n",
       "    </tr>\n",
       "    <tr>\n",
       "      <th>309</th>\n",
       "      <td>3.202556</td>\n",
       "      <td>4.191812</td>\n",
       "      <td>1.085510</td>\n",
       "      <td>1.178318</td>\n",
       "      <td>3.202556</td>\n",
       "      <td>3.202556</td>\n",
       "    </tr>\n",
       "  </tbody>\n",
       "</table>\n",
       "<p>310 rows × 6 columns</p>\n",
       "</div>"
      ],
      "text/plain": [
       "             Loss      Val_Loss        MAE    Val_MAE           MSE   \n",
       "0    25183.558594  24565.787109  89.715698  88.715881  25183.558594  \\\n",
       "1    24237.900391  22898.775391  86.970070  85.211578  24237.900391   \n",
       "2    20779.548828  17219.091797  86.778954  86.848526  20779.548828   \n",
       "3    13886.784180  10397.110352  79.044533  66.230774  13886.784180   \n",
       "4     8183.525879   6057.403320  59.827450  49.672142   8183.525879   \n",
       "..            ...           ...        ...        ...           ...   \n",
       "305      1.378640      1.212779   0.751950   0.684646      1.378640   \n",
       "306      1.506247      1.961148   0.758560   0.834911      1.506247   \n",
       "307      2.122328      2.605389   0.905757   1.055354      2.122328   \n",
       "308      1.848979      3.072570   0.867419   0.999726      1.848979   \n",
       "309      3.202556      4.191812   1.085510   1.178318      3.202556   \n",
       "\n",
       "          Val_MSE  \n",
       "0    25183.558594  \n",
       "1    24237.900391  \n",
       "2    20779.548828  \n",
       "3    13886.784180  \n",
       "4     8183.525879  \n",
       "..            ...  \n",
       "305      1.378640  \n",
       "306      1.506247  \n",
       "307      2.122328  \n",
       "308      1.848979  \n",
       "309      3.202556  \n",
       "\n",
       "[310 rows x 6 columns]"
      ]
     },
     "execution_count": 50,
     "metadata": {},
     "output_type": "execute_result"
    }
   ],
   "source": [
    "loss_mae_mse_df = pd.DataFrame(((loss[i], val_loss[i], mae[i], val_mae[i],  mse[i], val_mse[i]) for i in range(len(history.epoch))), columns=['Loss', 'Val_Loss', 'MAE', 'Val_MAE', 'MSE', 'Val_MSE'])\n",
    "loss_mae_mse_df"
   ]
  },
  {
   "cell_type": "code",
   "execution_count": 51,
   "metadata": {},
   "outputs": [],
   "source": [
    "loss_mae_mse_df.to_csv('Loss_Mae_Mse_df.csv', index = True)"
   ]
  },
  {
   "cell_type": "code",
   "execution_count": 52,
   "metadata": {},
   "outputs": [
    {
     "name": "stdout",
     "output_type": "stream",
     "text": [
      "7/7 [==============================] - 0s 15ms/step - loss: 3.8799 - mae: 1.1041 - mse: 3.8799\n"
     ]
    },
    {
     "name": "stderr",
     "output_type": "stream",
     "text": [
      "2024-03-11 16:08:51.266589: I tensorflow/core/grappler/optimizers/custom_graph_optimizer_registry.cc:114] Plugin optimizer for device_type GPU is enabled.\n"
     ]
    },
    {
     "name": "stdout",
     "output_type": "stream",
     "text": [
      "20/20 [==============================] - 0s 11ms/step - loss: 3.5333 - mae: 1.0870 - mse: 3.5333\n",
      "7/7 [==============================] - 0s 10ms/step - loss: 4.1918 - mae: 1.1783 - mse: 4.1918\n"
     ]
    },
    {
     "data": {
      "text/plain": [
       "[4.191812038421631, 1.178317904472351, 4.191812038421631]"
      ]
     },
     "execution_count": 52,
     "metadata": {},
     "output_type": "execute_result"
    }
   ],
   "source": [
    "model.evaluate(test_scale, test_output)\n",
    "model.evaluate(train_scale, train_output)\n",
    "model.evaluate(val_scale, val_output)"
   ]
  },
  {
   "cell_type": "code",
   "execution_count": 53,
   "metadata": {},
   "outputs": [
    {
     "name": "stdout",
     "output_type": "stream",
     "text": [
      "7/7 [==============================] - 0s 7ms/step\n",
      "11/20 [===============>..............] - ETA: 0s"
     ]
    },
    {
     "name": "stderr",
     "output_type": "stream",
     "text": [
      "2024-03-11 16:08:51.910562: I tensorflow/core/grappler/optimizers/custom_graph_optimizer_registry.cc:114] Plugin optimizer for device_type GPU is enabled.\n"
     ]
    },
    {
     "name": "stdout",
     "output_type": "stream",
     "text": [
      "20/20 [==============================] - 0s 5ms/step\n",
      "7/7 [==============================] - 0s 5ms/step\n"
     ]
    }
   ],
   "source": [
    "predicted_test = model.predict(test_scale)\n",
    "predicted_train = model.predict(train_scale)\n",
    "predicted_val = model.predict(val_scale)"
   ]
  },
  {
   "cell_type": "code",
   "execution_count": 54,
   "metadata": {},
   "outputs": [],
   "source": [
    "predicted_test_df = pd.DataFrame(predicted_test)\n",
    "predicted_train_df = pd.DataFrame(predicted_train)\n",
    "predicted_val_df = pd.DataFrame(predicted_val)"
   ]
  },
  {
   "cell_type": "code",
   "execution_count": 55,
   "metadata": {},
   "outputs": [],
   "source": [
    "predicted_test_df.columns = ['Maximum Pressure(predicted)', 'Crank Angle at Maximum Pressure(predicted)', 'Maximum Rate of Pressure Rise(predicted)', 'BMEP(predicted)',\n",
    "                         'IMEP(predicted)', 'BSFC(predicted)', 'BSNOx(predicted)', 'BSCO(predicted)']\n",
    "predicted_train_df.columns = ['Maximum Pressure(predicted)', 'Crank Angle at Maximum Pressure(predicted)', 'Maximum Rate of Pressure Rise(predicted)', 'BMEP(predicted)',\n",
    "                         'IMEP(predicted)', 'BSFC(predicted)', 'BSNOx(predicted)', 'BSCO(predicted)']\n",
    "predicted_val_df.columns = ['Maximum Pressure(predicted)', 'Crank Angle at Maximum Pressure(predicted)', 'Maximum Rate of Pressure Rise(predicted)', 'BMEP(predicted)',\n",
    "                         'IMEP(predicted)', 'BSFC(predicted)', 'BSNOx(predicted)', 'BSCO(predicted)']"
   ]
  },
  {
   "cell_type": "code",
   "execution_count": 56,
   "metadata": {},
   "outputs": [],
   "source": [
    "predicted_test_df.index = test_output.index\n",
    "predicted_train_df.index = train_output.index\n",
    "predicted_val_df.index = val_output.index"
   ]
  },
  {
   "cell_type": "code",
   "execution_count": 57,
   "metadata": {},
   "outputs": [],
   "source": [
    "def DataFrame(predicted_df, df_outuput, output_df):\n",
    "   for i in range(8):\n",
    "      predicted_df.insert(2*i+1, df_outuput.columns[i], output_df.iloc[:, [i]])\n",
    "   predicted_df"
   ]
  },
  {
   "cell_type": "code",
   "execution_count": 58,
   "metadata": {},
   "outputs": [],
   "source": [
    "DataFrame(predicted_test_df, test_output, test_output)\n"
   ]
  },
  {
   "cell_type": "code",
   "execution_count": 59,
   "metadata": {},
   "outputs": [],
   "source": [
    "DataFrame(predicted_train_df, train_output, train_output)"
   ]
  },
  {
   "cell_type": "code",
   "execution_count": 60,
   "metadata": {},
   "outputs": [],
   "source": [
    "DataFrame(predicted_val_df, val_output, val_output)"
   ]
  },
  {
   "cell_type": "code",
   "execution_count": 61,
   "metadata": {},
   "outputs": [],
   "source": [
    "predicted_test_df.to_csv(\"Predicted_result.csv\")"
   ]
  },
  {
   "cell_type": "code",
   "execution_count": 62,
   "metadata": {},
   "outputs": [],
   "source": [
    "predicted_train_df.to_csv(\"Predicted_train_result.csv\")"
   ]
  },
  {
   "cell_type": "code",
   "execution_count": 63,
   "metadata": {},
   "outputs": [],
   "source": [
    "predicted_val_df.to_csv(\"Predicted_val_result.csv\")"
   ]
  },
  {
   "cell_type": "code",
   "execution_count": 64,
   "metadata": {},
   "outputs": [],
   "source": [
    "#R2_score\n",
    "def R2_score(predicted_true):\n",
    "    list = []\n",
    "    metrics = tf.keras.metrics.R2Score()\n",
    "    for i in range(8):\n",
    "        metrics.update_state(predicted_true.iloc[:, [2*i+1]], predicted_true.iloc[:, [2*i]])\n",
    "        result = metrics.result()\n",
    "        list.append(result.numpy())\n",
    "\n",
    "    return list"
   ]
  },
  {
   "cell_type": "code",
   "execution_count": 65,
   "metadata": {},
   "outputs": [
    {
     "name": "stdout",
     "output_type": "stream",
     "text": [
      "[0.98875785, 0.9964024, 0.99849445, 0.9985239, 0.9983099, 0.9997606, 0.999769, 0.99976164]\n",
      "[0.9907031, 0.9964672, 0.9985351, 0.9985461, 0.998355, 0.9997913, 0.9997988, 0.9997949]\n",
      "[0.9863218, 0.99600905, 0.9982969, 0.9983372, 0.99811065, 0.9997491, 0.9997583, 0.9997524]\n"
     ]
    }
   ],
   "source": [
    "print(R2_score(predicted_test_df))\n",
    "print(R2_score(predicted_train_df))\n",
    "print(R2_score(predicted_val_df))"
   ]
  },
  {
   "cell_type": "code",
   "execution_count": 66,
   "metadata": {},
   "outputs": [
    {
     "data": {
      "text/html": [
       "<div>\n",
       "<style scoped>\n",
       "    .dataframe tbody tr th:only-of-type {\n",
       "        vertical-align: middle;\n",
       "    }\n",
       "\n",
       "    .dataframe tbody tr th {\n",
       "        vertical-align: top;\n",
       "    }\n",
       "\n",
       "    .dataframe thead th {\n",
       "        text-align: right;\n",
       "    }\n",
       "</style>\n",
       "<table border=\"1\" class=\"dataframe\">\n",
       "  <thead>\n",
       "    <tr style=\"text-align: right;\">\n",
       "      <th></th>\n",
       "      <th>Maximum Pressure</th>\n",
       "      <th>Crank Angle at Maximum Pressure</th>\n",
       "      <th>Maximum Rate of Pressure Rise</th>\n",
       "      <th>BMEP</th>\n",
       "      <th>IMEP</th>\n",
       "      <th>BSFC</th>\n",
       "      <th>BSNOx</th>\n",
       "      <th>BSCO</th>\n",
       "    </tr>\n",
       "  </thead>\n",
       "  <tbody>\n",
       "    <tr>\n",
       "      <th>Test</th>\n",
       "      <td>0.988758</td>\n",
       "      <td>0.996402</td>\n",
       "      <td>0.998494</td>\n",
       "      <td>0.998524</td>\n",
       "      <td>0.998310</td>\n",
       "      <td>0.999761</td>\n",
       "      <td>0.999769</td>\n",
       "      <td>0.999762</td>\n",
       "    </tr>\n",
       "    <tr>\n",
       "      <th>Train</th>\n",
       "      <td>0.990703</td>\n",
       "      <td>0.996467</td>\n",
       "      <td>0.998535</td>\n",
       "      <td>0.998546</td>\n",
       "      <td>0.998355</td>\n",
       "      <td>0.999791</td>\n",
       "      <td>0.999799</td>\n",
       "      <td>0.999795</td>\n",
       "    </tr>\n",
       "    <tr>\n",
       "      <th>Validation</th>\n",
       "      <td>0.986322</td>\n",
       "      <td>0.996009</td>\n",
       "      <td>0.998297</td>\n",
       "      <td>0.998337</td>\n",
       "      <td>0.998111</td>\n",
       "      <td>0.999749</td>\n",
       "      <td>0.999758</td>\n",
       "      <td>0.999752</td>\n",
       "    </tr>\n",
       "  </tbody>\n",
       "</table>\n",
       "</div>"
      ],
      "text/plain": [
       "            Maximum Pressure  Crank Angle at Maximum Pressure   \n",
       "Test                0.988758                         0.996402  \\\n",
       "Train               0.990703                         0.996467   \n",
       "Validation          0.986322                         0.996009   \n",
       "\n",
       "            Maximum Rate of Pressure Rise      BMEP      IMEP      BSFC   \n",
       "Test                             0.998494  0.998524  0.998310  0.999761  \\\n",
       "Train                            0.998535  0.998546  0.998355  0.999791   \n",
       "Validation                       0.998297  0.998337  0.998111  0.999749   \n",
       "\n",
       "               BSNOx      BSCO  \n",
       "Test        0.999769  0.999762  \n",
       "Train       0.999799  0.999795  \n",
       "Validation  0.999758  0.999752  "
      ]
     },
     "execution_count": 66,
     "metadata": {},
     "output_type": "execute_result"
    }
   ],
   "source": [
    "R2_score_df = pd.DataFrame((R2_score(predicted_test_df), R2_score(predicted_train_df), R2_score(predicted_val_df)), columns = ['Maximum Pressure', 'Crank Angle at Maximum Pressure', 'Maximum Rate of Pressure Rise', 'BMEP','IMEP', 'BSFC', 'BSNOx', 'BSCO'], index = ['Test', 'Train', 'Validation'])\n",
    "R2_score_df"
   ]
  },
  {
   "cell_type": "code",
   "execution_count": 67,
   "metadata": {},
   "outputs": [],
   "source": [
    "R2_score_df.to_csv('R2_score.csv')"
   ]
  },
  {
   "cell_type": "code",
   "execution_count": 74,
   "metadata": {},
   "outputs": [
    {
     "name": "stdout",
     "output_type": "stream",
     "text": [
      "Training with parameters: {'batch_size': 32, 'dropout_rate': 0.1, 'hidden_layers': 1, 'hidden_units': 128, 'learning_rate': 0.001}\n"
     ]
    },
    {
     "name": "stderr",
     "output_type": "stream",
     "text": [
      "2024-03-11 18:59:41.227137: I tensorflow/core/grappler/optimizers/custom_graph_optimizer_registry.cc:114] Plugin optimizer for device_type GPU is enabled.\n",
      "2024-03-11 18:59:42.072945: I tensorflow/core/grappler/optimizers/custom_graph_optimizer_registry.cc:114] Plugin optimizer for device_type GPU is enabled.\n",
      "/Library/Frameworks/Python.framework/Versions/3.11/lib/python3.11/site-packages/keras/src/engine/training.py:3000: UserWarning: You are saving your model as an HDF5 file via `model.save()`. This file format is considered legacy. We recommend using instead the native Keras format, e.g. `model.save('my_model.keras')`.\n",
      "  saving_api.save_model(\n"
     ]
    },
    {
     "name": "stdout",
     "output_type": "stream",
     "text": [
      "Epoch 215: early stopping\n",
      "Validation MAE : 180.35110473632812\n",
      "Validation MSE : 10.191083908081055\n",
      "Training with parameters: {'batch_size': 32, 'dropout_rate': 0.1, 'hidden_layers': 1, 'hidden_units': 128, 'learning_rate': 0.01}\n"
     ]
    },
    {
     "name": "stderr",
     "output_type": "stream",
     "text": [
      "2024-03-11 19:00:40.831936: I tensorflow/core/grappler/optimizers/custom_graph_optimizer_registry.cc:114] Plugin optimizer for device_type GPU is enabled.\n",
      "2024-03-11 19:00:41.651392: I tensorflow/core/grappler/optimizers/custom_graph_optimizer_registry.cc:114] Plugin optimizer for device_type GPU is enabled.\n",
      "/Library/Frameworks/Python.framework/Versions/3.11/lib/python3.11/site-packages/keras/src/engine/training.py:3000: UserWarning: You are saving your model as an HDF5 file via `model.save()`. This file format is considered legacy. We recommend using instead the native Keras format, e.g. `model.save('my_model.keras')`.\n",
      "  saving_api.save_model(\n"
     ]
    },
    {
     "name": "stdout",
     "output_type": "stream",
     "text": [
      "Epoch 60: early stopping\n",
      "Validation MAE : 5914.4619140625\n",
      "Validation MSE : 50.48917007446289\n",
      "Training with parameters: {'batch_size': 32, 'dropout_rate': 0.1, 'hidden_layers': 1, 'hidden_units': 128, 'learning_rate': 0.1}\n"
     ]
    },
    {
     "name": "stderr",
     "output_type": "stream",
     "text": [
      "2024-03-11 19:00:58.411558: I tensorflow/core/grappler/optimizers/custom_graph_optimizer_registry.cc:114] Plugin optimizer for device_type GPU is enabled.\n",
      "2024-03-11 19:00:59.205279: I tensorflow/core/grappler/optimizers/custom_graph_optimizer_registry.cc:114] Plugin optimizer for device_type GPU is enabled.\n",
      "/Library/Frameworks/Python.framework/Versions/3.11/lib/python3.11/site-packages/keras/src/engine/training.py:3000: UserWarning: You are saving your model as an HDF5 file via `model.save()`. This file format is considered legacy. We recommend using instead the native Keras format, e.g. `model.save('my_model.keras')`.\n",
      "  saving_api.save_model(\n"
     ]
    },
    {
     "name": "stdout",
     "output_type": "stream",
     "text": [
      "Epoch 48: early stopping\n",
      "Validation MAE : 1130.069091796875\n",
      "Validation MSE : 22.557313919067383\n",
      "Training with parameters: {'batch_size': 32, 'dropout_rate': 0.1, 'hidden_layers': 1, 'hidden_units': 64, 'learning_rate': 0.001}\n"
     ]
    },
    {
     "name": "stderr",
     "output_type": "stream",
     "text": [
      "2024-03-11 19:01:12.341794: I tensorflow/core/grappler/optimizers/custom_graph_optimizer_registry.cc:114] Plugin optimizer for device_type GPU is enabled.\n",
      "2024-03-11 19:01:15.297719: I tensorflow/core/grappler/optimizers/custom_graph_optimizer_registry.cc:114] Plugin optimizer for device_type GPU is enabled.\n",
      "/Library/Frameworks/Python.framework/Versions/3.11/lib/python3.11/site-packages/keras/src/engine/training.py:3000: UserWarning: You are saving your model as an HDF5 file via `model.save()`. This file format is considered legacy. We recommend using instead the native Keras format, e.g. `model.save('my_model.keras')`.\n",
      "  saving_api.save_model(\n"
     ]
    },
    {
     "name": "stdout",
     "output_type": "stream",
     "text": [
      "Epoch 275: early stopping\n",
      "Validation MAE : 111.63640594482422\n",
      "Validation MSE : 6.317793369293213\n",
      "Training with parameters: {'batch_size': 32, 'dropout_rate': 0.1, 'hidden_layers': 1, 'hidden_units': 64, 'learning_rate': 0.01}\n"
     ]
    },
    {
     "name": "stderr",
     "output_type": "stream",
     "text": [
      "2024-03-11 19:02:27.915030: I tensorflow/core/grappler/optimizers/custom_graph_optimizer_registry.cc:114] Plugin optimizer for device_type GPU is enabled.\n",
      "2024-03-11 19:02:28.691037: I tensorflow/core/grappler/optimizers/custom_graph_optimizer_registry.cc:114] Plugin optimizer for device_type GPU is enabled.\n",
      "/Library/Frameworks/Python.framework/Versions/3.11/lib/python3.11/site-packages/keras/src/engine/training.py:3000: UserWarning: You are saving your model as an HDF5 file via `model.save()`. This file format is considered legacy. We recommend using instead the native Keras format, e.g. `model.save('my_model.keras')`.\n",
      "  saving_api.save_model(\n"
     ]
    },
    {
     "name": "stdout",
     "output_type": "stream",
     "text": [
      "Epoch 42: early stopping\n",
      "Validation MAE : 695.572265625\n",
      "Validation MSE : 16.476024627685547\n",
      "Training with parameters: {'batch_size': 32, 'dropout_rate': 0.1, 'hidden_layers': 1, 'hidden_units': 64, 'learning_rate': 0.1}\n"
     ]
    },
    {
     "name": "stderr",
     "output_type": "stream",
     "text": [
      "2024-03-11 19:02:40.133130: I tensorflow/core/grappler/optimizers/custom_graph_optimizer_registry.cc:114] Plugin optimizer for device_type GPU is enabled.\n",
      "2024-03-11 19:02:40.990222: I tensorflow/core/grappler/optimizers/custom_graph_optimizer_registry.cc:114] Plugin optimizer for device_type GPU is enabled.\n",
      "/Library/Frameworks/Python.framework/Versions/3.11/lib/python3.11/site-packages/keras/src/engine/training.py:3000: UserWarning: You are saving your model as an HDF5 file via `model.save()`. This file format is considered legacy. We recommend using instead the native Keras format, e.g. `model.save('my_model.keras')`.\n",
      "  saving_api.save_model(\n"
     ]
    },
    {
     "name": "stdout",
     "output_type": "stream",
     "text": [
      "Epoch 28: early stopping\n",
      "Validation MAE : 583.4716186523438\n",
      "Validation MSE : 19.884523391723633\n",
      "Training with parameters: {'batch_size': 32, 'dropout_rate': 0.1, 'hidden_layers': 1, 'hidden_units': 32, 'learning_rate': 0.001}\n"
     ]
    },
    {
     "name": "stderr",
     "output_type": "stream",
     "text": [
      "2024-03-11 19:02:48.832144: I tensorflow/core/grappler/optimizers/custom_graph_optimizer_registry.cc:114] Plugin optimizer for device_type GPU is enabled.\n",
      "2024-03-11 19:02:49.978716: I tensorflow/core/grappler/optimizers/custom_graph_optimizer_registry.cc:114] Plugin optimizer for device_type GPU is enabled.\n",
      "/Library/Frameworks/Python.framework/Versions/3.11/lib/python3.11/site-packages/keras/src/engine/training.py:3000: UserWarning: You are saving your model as an HDF5 file via `model.save()`. This file format is considered legacy. We recommend using instead the native Keras format, e.g. `model.save('my_model.keras')`.\n",
      "  saving_api.save_model(\n"
     ]
    },
    {
     "name": "stdout",
     "output_type": "stream",
     "text": [
      "Epoch 324: early stopping\n",
      "Validation MAE : 139.083984375\n",
      "Validation MSE : 6.854597568511963\n",
      "Training with parameters: {'batch_size': 32, 'dropout_rate': 0.1, 'hidden_layers': 1, 'hidden_units': 32, 'learning_rate': 0.01}\n"
     ]
    },
    {
     "name": "stderr",
     "output_type": "stream",
     "text": [
      "2024-03-11 19:04:16.757442: I tensorflow/core/grappler/optimizers/custom_graph_optimizer_registry.cc:114] Plugin optimizer for device_type GPU is enabled.\n",
      "2024-03-11 19:04:17.592542: I tensorflow/core/grappler/optimizers/custom_graph_optimizer_registry.cc:114] Plugin optimizer for device_type GPU is enabled.\n",
      "/Library/Frameworks/Python.framework/Versions/3.11/lib/python3.11/site-packages/keras/src/engine/training.py:3000: UserWarning: You are saving your model as an HDF5 file via `model.save()`. This file format is considered legacy. We recommend using instead the native Keras format, e.g. `model.save('my_model.keras')`.\n",
      "  saving_api.save_model(\n"
     ]
    },
    {
     "name": "stdout",
     "output_type": "stream",
     "text": [
      "Epoch 119: early stopping\n",
      "Validation MAE : 106.02143859863281\n",
      "Validation MSE : 5.878716945648193\n",
      "Training with parameters: {'batch_size': 32, 'dropout_rate': 0.1, 'hidden_layers': 1, 'hidden_units': 32, 'learning_rate': 0.1}\n"
     ]
    },
    {
     "name": "stderr",
     "output_type": "stream",
     "text": [
      "2024-03-11 19:04:49.068956: I tensorflow/core/grappler/optimizers/custom_graph_optimizer_registry.cc:114] Plugin optimizer for device_type GPU is enabled.\n",
      "2024-03-11 19:04:50.033643: I tensorflow/core/grappler/optimizers/custom_graph_optimizer_registry.cc:114] Plugin optimizer for device_type GPU is enabled.\n",
      "/Library/Frameworks/Python.framework/Versions/3.11/lib/python3.11/site-packages/keras/src/engine/training.py:3000: UserWarning: You are saving your model as an HDF5 file via `model.save()`. This file format is considered legacy. We recommend using instead the native Keras format, e.g. `model.save('my_model.keras')`.\n",
      "  saving_api.save_model(\n"
     ]
    },
    {
     "name": "stdout",
     "output_type": "stream",
     "text": [
      "Epoch 29: early stopping\n",
      "Validation MAE : 459.9885559082031\n",
      "Validation MSE : 15.200516700744629\n",
      "Training with parameters: {'batch_size': 32, 'dropout_rate': 0.1, 'hidden_layers': 2, 'hidden_units': 128, 'learning_rate': 0.001}\n"
     ]
    },
    {
     "name": "stderr",
     "output_type": "stream",
     "text": [
      "2024-03-11 19:04:58.129138: I tensorflow/core/grappler/optimizers/custom_graph_optimizer_registry.cc:114] Plugin optimizer for device_type GPU is enabled.\n",
      "2024-03-11 19:04:59.322868: I tensorflow/core/grappler/optimizers/custom_graph_optimizer_registry.cc:114] Plugin optimizer for device_type GPU is enabled.\n",
      "/Library/Frameworks/Python.framework/Versions/3.11/lib/python3.11/site-packages/keras/src/engine/training.py:3000: UserWarning: You are saving your model as an HDF5 file via `model.save()`. This file format is considered legacy. We recommend using instead the native Keras format, e.g. `model.save('my_model.keras')`.\n",
      "  saving_api.save_model(\n"
     ]
    },
    {
     "name": "stdout",
     "output_type": "stream",
     "text": [
      "Epoch 55: early stopping\n",
      "Validation MAE : 4735.83154296875\n",
      "Validation MSE : 48.130245208740234\n",
      "Training with parameters: {'batch_size': 32, 'dropout_rate': 0.1, 'hidden_layers': 2, 'hidden_units': 128, 'learning_rate': 0.01}\n"
     ]
    },
    {
     "name": "stderr",
     "output_type": "stream",
     "text": [
      "2024-03-11 19:05:17.409995: I tensorflow/core/grappler/optimizers/custom_graph_optimizer_registry.cc:114] Plugin optimizer for device_type GPU is enabled.\n",
      "2024-03-11 19:05:18.567526: I tensorflow/core/grappler/optimizers/custom_graph_optimizer_registry.cc:114] Plugin optimizer for device_type GPU is enabled.\n",
      "/Library/Frameworks/Python.framework/Versions/3.11/lib/python3.11/site-packages/keras/src/engine/training.py:3000: UserWarning: You are saving your model as an HDF5 file via `model.save()`. This file format is considered legacy. We recommend using instead the native Keras format, e.g. `model.save('my_model.keras')`.\n",
      "  saving_api.save_model(\n"
     ]
    },
    {
     "name": "stdout",
     "output_type": "stream",
     "text": [
      "Epoch 39: early stopping\n",
      "Validation MAE : 5023.91796875\n",
      "Validation MSE : 44.498023986816406\n",
      "Training with parameters: {'batch_size': 32, 'dropout_rate': 0.1, 'hidden_layers': 2, 'hidden_units': 128, 'learning_rate': 0.1}\n"
     ]
    },
    {
     "name": "stderr",
     "output_type": "stream",
     "text": [
      "2024-03-11 19:05:31.457274: I tensorflow/core/grappler/optimizers/custom_graph_optimizer_registry.cc:114] Plugin optimizer for device_type GPU is enabled.\n",
      "2024-03-11 19:05:32.731661: I tensorflow/core/grappler/optimizers/custom_graph_optimizer_registry.cc:114] Plugin optimizer for device_type GPU is enabled.\n",
      "/Library/Frameworks/Python.framework/Versions/3.11/lib/python3.11/site-packages/keras/src/engine/training.py:3000: UserWarning: You are saving your model as an HDF5 file via `model.save()`. This file format is considered legacy. We recommend using instead the native Keras format, e.g. `model.save('my_model.keras')`.\n",
      "  saving_api.save_model(\n"
     ]
    },
    {
     "name": "stdout",
     "output_type": "stream",
     "text": [
      "Epoch 21: early stopping\n",
      "Validation MAE : 24348386.0\n",
      "Validation MSE : 3569.527099609375\n",
      "Training with parameters: {'batch_size': 32, 'dropout_rate': 0.1, 'hidden_layers': 2, 'hidden_units': 64, 'learning_rate': 0.001}\n"
     ]
    },
    {
     "name": "stderr",
     "output_type": "stream",
     "text": [
      "2024-03-11 19:05:40.563569: I tensorflow/core/grappler/optimizers/custom_graph_optimizer_registry.cc:114] Plugin optimizer for device_type GPU is enabled.\n",
      "2024-03-11 19:05:41.793738: I tensorflow/core/grappler/optimizers/custom_graph_optimizer_registry.cc:114] Plugin optimizer for device_type GPU is enabled.\n",
      "/Library/Frameworks/Python.framework/Versions/3.11/lib/python3.11/site-packages/keras/src/engine/training.py:3000: UserWarning: You are saving your model as an HDF5 file via `model.save()`. This file format is considered legacy. We recommend using instead the native Keras format, e.g. `model.save('my_model.keras')`.\n",
      "  saving_api.save_model(\n"
     ]
    },
    {
     "name": "stdout",
     "output_type": "stream",
     "text": [
      "Epoch 102: early stopping\n",
      "Validation MAE : 41019.1875\n",
      "Validation MSE : 150.5074005126953\n",
      "Training with parameters: {'batch_size': 32, 'dropout_rate': 0.1, 'hidden_layers': 2, 'hidden_units': 64, 'learning_rate': 0.01}\n"
     ]
    },
    {
     "name": "stderr",
     "output_type": "stream",
     "text": [
      "2024-03-11 19:06:13.094219: I tensorflow/core/grappler/optimizers/custom_graph_optimizer_registry.cc:114] Plugin optimizer for device_type GPU is enabled.\n",
      "2024-03-11 19:06:14.300557: I tensorflow/core/grappler/optimizers/custom_graph_optimizer_registry.cc:114] Plugin optimizer for device_type GPU is enabled.\n",
      "/Library/Frameworks/Python.framework/Versions/3.11/lib/python3.11/site-packages/keras/src/engine/training.py:3000: UserWarning: You are saving your model as an HDF5 file via `model.save()`. This file format is considered legacy. We recommend using instead the native Keras format, e.g. `model.save('my_model.keras')`.\n",
      "  saving_api.save_model(\n"
     ]
    },
    {
     "name": "stdout",
     "output_type": "stream",
     "text": [
      "Epoch 43: early stopping\n",
      "Validation MAE : 2181.268310546875\n",
      "Validation MSE : 31.022052764892578\n",
      "Training with parameters: {'batch_size': 32, 'dropout_rate': 0.1, 'hidden_layers': 2, 'hidden_units': 64, 'learning_rate': 0.1}\n"
     ]
    },
    {
     "name": "stderr",
     "output_type": "stream",
     "text": [
      "2024-03-11 19:06:27.747334: I tensorflow/core/grappler/optimizers/custom_graph_optimizer_registry.cc:114] Plugin optimizer for device_type GPU is enabled.\n",
      "2024-03-11 19:06:29.121307: I tensorflow/core/grappler/optimizers/custom_graph_optimizer_registry.cc:114] Plugin optimizer for device_type GPU is enabled.\n",
      "/Library/Frameworks/Python.framework/Versions/3.11/lib/python3.11/site-packages/keras/src/engine/training.py:3000: UserWarning: You are saving your model as an HDF5 file via `model.save()`. This file format is considered legacy. We recommend using instead the native Keras format, e.g. `model.save('my_model.keras')`.\n",
      "  saving_api.save_model(\n"
     ]
    },
    {
     "name": "stdout",
     "output_type": "stream",
     "text": [
      "Epoch 26: early stopping\n",
      "Validation MAE : 6151.53515625\n",
      "Validation MSE : 54.595947265625\n",
      "Training with parameters: {'batch_size': 32, 'dropout_rate': 0.1, 'hidden_layers': 2, 'hidden_units': 32, 'learning_rate': 0.001}\n"
     ]
    },
    {
     "name": "stderr",
     "output_type": "stream",
     "text": [
      "2024-03-11 19:06:37.430386: I tensorflow/core/grappler/optimizers/custom_graph_optimizer_registry.cc:114] Plugin optimizer for device_type GPU is enabled.\n",
      "2024-03-11 19:06:38.642504: I tensorflow/core/grappler/optimizers/custom_graph_optimizer_registry.cc:114] Plugin optimizer for device_type GPU is enabled.\n",
      "/Library/Frameworks/Python.framework/Versions/3.11/lib/python3.11/site-packages/keras/src/engine/training.py:3000: UserWarning: You are saving your model as an HDF5 file via `model.save()`. This file format is considered legacy. We recommend using instead the native Keras format, e.g. `model.save('my_model.keras')`.\n",
      "  saving_api.save_model(\n"
     ]
    },
    {
     "name": "stdout",
     "output_type": "stream",
     "text": [
      "Epoch 146: early stopping\n",
      "Validation MAE : 368.9427795410156\n",
      "Validation MSE : 13.89500617980957\n",
      "Training with parameters: {'batch_size': 32, 'dropout_rate': 0.1, 'hidden_layers': 2, 'hidden_units': 32, 'learning_rate': 0.01}\n"
     ]
    },
    {
     "name": "stderr",
     "output_type": "stream",
     "text": [
      "2024-03-11 19:07:22.512782: I tensorflow/core/grappler/optimizers/custom_graph_optimizer_registry.cc:114] Plugin optimizer for device_type GPU is enabled.\n",
      "2024-03-11 19:07:23.764034: I tensorflow/core/grappler/optimizers/custom_graph_optimizer_registry.cc:114] Plugin optimizer for device_type GPU is enabled.\n",
      "/Library/Frameworks/Python.framework/Versions/3.11/lib/python3.11/site-packages/keras/src/engine/training.py:3000: UserWarning: You are saving your model as an HDF5 file via `model.save()`. This file format is considered legacy. We recommend using instead the native Keras format, e.g. `model.save('my_model.keras')`.\n",
      "  saving_api.save_model(\n"
     ]
    },
    {
     "name": "stdout",
     "output_type": "stream",
     "text": [
      "Epoch 36: early stopping\n",
      "Validation MAE : 4612.4501953125\n",
      "Validation MSE : 50.50625991821289\n",
      "Training with parameters: {'batch_size': 32, 'dropout_rate': 0.1, 'hidden_layers': 2, 'hidden_units': 32, 'learning_rate': 0.1}\n"
     ]
    },
    {
     "name": "stderr",
     "output_type": "stream",
     "text": [
      "2024-03-11 19:07:35.420796: I tensorflow/core/grappler/optimizers/custom_graph_optimizer_registry.cc:114] Plugin optimizer for device_type GPU is enabled.\n",
      "2024-03-11 19:07:36.557242: I tensorflow/core/grappler/optimizers/custom_graph_optimizer_registry.cc:114] Plugin optimizer for device_type GPU is enabled.\n",
      "/Library/Frameworks/Python.framework/Versions/3.11/lib/python3.11/site-packages/keras/src/engine/training.py:3000: UserWarning: You are saving your model as an HDF5 file via `model.save()`. This file format is considered legacy. We recommend using instead the native Keras format, e.g. `model.save('my_model.keras')`.\n",
      "  saving_api.save_model(\n"
     ]
    },
    {
     "name": "stdout",
     "output_type": "stream",
     "text": [
      "Epoch 42: early stopping\n",
      "Validation MAE : 14578659.0\n",
      "Validation MSE : 3342.657470703125\n",
      "Training with parameters: {'batch_size': 32, 'dropout_rate': 0.1, 'hidden_layers': 3, 'hidden_units': 128, 'learning_rate': 0.001}\n"
     ]
    },
    {
     "name": "stderr",
     "output_type": "stream",
     "text": [
      "2024-03-11 19:07:49.560505: I tensorflow/core/grappler/optimizers/custom_graph_optimizer_registry.cc:114] Plugin optimizer for device_type GPU is enabled.\n",
      "2024-03-11 19:07:51.180089: I tensorflow/core/grappler/optimizers/custom_graph_optimizer_registry.cc:114] Plugin optimizer for device_type GPU is enabled.\n",
      "/Library/Frameworks/Python.framework/Versions/3.11/lib/python3.11/site-packages/keras/src/engine/training.py:3000: UserWarning: You are saving your model as an HDF5 file via `model.save()`. This file format is considered legacy. We recommend using instead the native Keras format, e.g. `model.save('my_model.keras')`.\n",
      "  saving_api.save_model(\n"
     ]
    },
    {
     "name": "stdout",
     "output_type": "stream",
     "text": [
      "Epoch 23: early stopping\n",
      "Validation MAE : 542828.3125\n",
      "Validation MSE : 529.0678100585938\n",
      "Training with parameters: {'batch_size': 32, 'dropout_rate': 0.1, 'hidden_layers': 3, 'hidden_units': 128, 'learning_rate': 0.01}\n"
     ]
    },
    {
     "name": "stderr",
     "output_type": "stream",
     "text": [
      "2024-03-11 19:07:59.484096: I tensorflow/core/grappler/optimizers/custom_graph_optimizer_registry.cc:114] Plugin optimizer for device_type GPU is enabled.\n",
      "2024-03-11 19:08:00.948534: I tensorflow/core/grappler/optimizers/custom_graph_optimizer_registry.cc:114] Plugin optimizer for device_type GPU is enabled.\n",
      "/Library/Frameworks/Python.framework/Versions/3.11/lib/python3.11/site-packages/keras/src/engine/training.py:3000: UserWarning: You are saving your model as an HDF5 file via `model.save()`. This file format is considered legacy. We recommend using instead the native Keras format, e.g. `model.save('my_model.keras')`.\n",
      "  saving_api.save_model(\n"
     ]
    },
    {
     "name": "stdout",
     "output_type": "stream",
     "text": [
      "Epoch 56: early stopping\n",
      "Validation MAE : 44313.36328125\n",
      "Validation MSE : 159.005615234375\n",
      "Training with parameters: {'batch_size': 32, 'dropout_rate': 0.1, 'hidden_layers': 3, 'hidden_units': 128, 'learning_rate': 0.1}\n"
     ]
    },
    {
     "name": "stderr",
     "output_type": "stream",
     "text": [
      "2024-03-11 19:08:20.253906: I tensorflow/core/grappler/optimizers/custom_graph_optimizer_registry.cc:114] Plugin optimizer for device_type GPU is enabled.\n",
      "2024-03-11 19:08:21.750398: I tensorflow/core/grappler/optimizers/custom_graph_optimizer_registry.cc:114] Plugin optimizer for device_type GPU is enabled.\n",
      "/Library/Frameworks/Python.framework/Versions/3.11/lib/python3.11/site-packages/keras/src/engine/training.py:3000: UserWarning: You are saving your model as an HDF5 file via `model.save()`. This file format is considered legacy. We recommend using instead the native Keras format, e.g. `model.save('my_model.keras')`.\n",
      "  saving_api.save_model(\n"
     ]
    },
    {
     "name": "stdout",
     "output_type": "stream",
     "text": [
      "Epoch 21: early stopping\n",
      "Validation MAE : 308810976.0\n",
      "Validation MSE : 12046.521484375\n",
      "Training with parameters: {'batch_size': 32, 'dropout_rate': 0.1, 'hidden_layers': 3, 'hidden_units': 64, 'learning_rate': 0.001}\n"
     ]
    },
    {
     "name": "stderr",
     "output_type": "stream",
     "text": [
      "2024-03-11 19:08:29.755270: I tensorflow/core/grappler/optimizers/custom_graph_optimizer_registry.cc:114] Plugin optimizer for device_type GPU is enabled.\n",
      "2024-03-11 19:08:31.451894: I tensorflow/core/grappler/optimizers/custom_graph_optimizer_registry.cc:114] Plugin optimizer for device_type GPU is enabled.\n",
      "/Library/Frameworks/Python.framework/Versions/3.11/lib/python3.11/site-packages/keras/src/engine/training.py:3000: UserWarning: You are saving your model as an HDF5 file via `model.save()`. This file format is considered legacy. We recommend using instead the native Keras format, e.g. `model.save('my_model.keras')`.\n",
      "  saving_api.save_model(\n"
     ]
    },
    {
     "name": "stdout",
     "output_type": "stream",
     "text": [
      "Epoch 24: early stopping\n",
      "Validation MAE : 197569.59375\n",
      "Validation MSE : 314.0386962890625\n",
      "Training with parameters: {'batch_size': 32, 'dropout_rate': 0.1, 'hidden_layers': 3, 'hidden_units': 64, 'learning_rate': 0.01}\n"
     ]
    },
    {
     "name": "stderr",
     "output_type": "stream",
     "text": [
      "2024-03-11 19:08:40.349511: I tensorflow/core/grappler/optimizers/custom_graph_optimizer_registry.cc:114] Plugin optimizer for device_type GPU is enabled.\n",
      "2024-03-11 19:08:43.707352: I tensorflow/core/grappler/optimizers/custom_graph_optimizer_registry.cc:114] Plugin optimizer for device_type GPU is enabled.\n",
      "/Library/Frameworks/Python.framework/Versions/3.11/lib/python3.11/site-packages/keras/src/engine/training.py:3000: UserWarning: You are saving your model as an HDF5 file via `model.save()`. This file format is considered legacy. We recommend using instead the native Keras format, e.g. `model.save('my_model.keras')`.\n",
      "  saving_api.save_model(\n"
     ]
    },
    {
     "name": "stdout",
     "output_type": "stream",
     "text": [
      "Epoch 59: early stopping\n",
      "Validation MAE : 169345.265625\n",
      "Validation MSE : 307.81231689453125\n",
      "Training with parameters: {'batch_size': 32, 'dropout_rate': 0.1, 'hidden_layers': 3, 'hidden_units': 64, 'learning_rate': 0.1}\n"
     ]
    },
    {
     "name": "stderr",
     "output_type": "stream",
     "text": [
      "2024-03-11 19:09:05.380426: I tensorflow/core/grappler/optimizers/custom_graph_optimizer_registry.cc:114] Plugin optimizer for device_type GPU is enabled.\n",
      "2024-03-11 19:09:07.017039: I tensorflow/core/grappler/optimizers/custom_graph_optimizer_registry.cc:114] Plugin optimizer for device_type GPU is enabled.\n",
      "/Library/Frameworks/Python.framework/Versions/3.11/lib/python3.11/site-packages/keras/src/engine/training.py:3000: UserWarning: You are saving your model as an HDF5 file via `model.save()`. This file format is considered legacy. We recommend using instead the native Keras format, e.g. `model.save('my_model.keras')`.\n",
      "  saving_api.save_model(\n"
     ]
    },
    {
     "name": "stdout",
     "output_type": "stream",
     "text": [
      "Epoch 21: early stopping\n",
      "Validation MAE : 278936.53125\n",
      "Validation MSE : 447.0036315917969\n",
      "Training with parameters: {'batch_size': 32, 'dropout_rate': 0.1, 'hidden_layers': 3, 'hidden_units': 32, 'learning_rate': 0.001}\n"
     ]
    },
    {
     "name": "stderr",
     "output_type": "stream",
     "text": [
      "2024-03-11 19:09:15.186795: I tensorflow/core/grappler/optimizers/custom_graph_optimizer_registry.cc:114] Plugin optimizer for device_type GPU is enabled.\n",
      "2024-03-11 19:09:16.734665: I tensorflow/core/grappler/optimizers/custom_graph_optimizer_registry.cc:114] Plugin optimizer for device_type GPU is enabled.\n",
      "/Library/Frameworks/Python.framework/Versions/3.11/lib/python3.11/site-packages/keras/src/engine/training.py:3000: UserWarning: You are saving your model as an HDF5 file via `model.save()`. This file format is considered legacy. We recommend using instead the native Keras format, e.g. `model.save('my_model.keras')`.\n",
      "  saving_api.save_model(\n"
     ]
    },
    {
     "name": "stdout",
     "output_type": "stream",
     "text": [
      "Epoch 26: early stopping\n",
      "Validation MAE : 80768.109375\n",
      "Validation MSE : 218.6837158203125\n",
      "Training with parameters: {'batch_size': 32, 'dropout_rate': 0.1, 'hidden_layers': 3, 'hidden_units': 32, 'learning_rate': 0.01}\n"
     ]
    },
    {
     "name": "stderr",
     "output_type": "stream",
     "text": [
      "2024-03-11 19:09:26.722872: I tensorflow/core/grappler/optimizers/custom_graph_optimizer_registry.cc:114] Plugin optimizer for device_type GPU is enabled.\n",
      "2024-03-11 19:09:28.188777: I tensorflow/core/grappler/optimizers/custom_graph_optimizer_registry.cc:114] Plugin optimizer for device_type GPU is enabled.\n",
      "/Library/Frameworks/Python.framework/Versions/3.11/lib/python3.11/site-packages/keras/src/engine/training.py:3000: UserWarning: You are saving your model as an HDF5 file via `model.save()`. This file format is considered legacy. We recommend using instead the native Keras format, e.g. `model.save('my_model.keras')`.\n",
      "  saving_api.save_model(\n"
     ]
    },
    {
     "name": "stdout",
     "output_type": "stream",
     "text": [
      "Epoch 47: early stopping\n",
      "Validation MAE : 5236.58837890625\n",
      "Validation MSE : 39.55767822265625\n",
      "Training with parameters: {'batch_size': 32, 'dropout_rate': 0.1, 'hidden_layers': 3, 'hidden_units': 32, 'learning_rate': 0.1}\n"
     ]
    },
    {
     "name": "stderr",
     "output_type": "stream",
     "text": [
      "2024-03-11 19:09:44.910526: I tensorflow/core/grappler/optimizers/custom_graph_optimizer_registry.cc:114] Plugin optimizer for device_type GPU is enabled.\n",
      "2024-03-11 19:09:46.619281: I tensorflow/core/grappler/optimizers/custom_graph_optimizer_registry.cc:114] Plugin optimizer for device_type GPU is enabled.\n",
      "/Library/Frameworks/Python.framework/Versions/3.11/lib/python3.11/site-packages/keras/src/engine/training.py:3000: UserWarning: You are saving your model as an HDF5 file via `model.save()`. This file format is considered legacy. We recommend using instead the native Keras format, e.g. `model.save('my_model.keras')`.\n",
      "  saving_api.save_model(\n"
     ]
    },
    {
     "name": "stdout",
     "output_type": "stream",
     "text": [
      "Epoch 31: early stopping\n",
      "Validation MAE : 42363.96875\n",
      "Validation MSE : 104.22421264648438\n",
      "Training with parameters: {'batch_size': 32, 'dropout_rate': 0.2, 'hidden_layers': 1, 'hidden_units': 128, 'learning_rate': 0.001}\n"
     ]
    },
    {
     "name": "stderr",
     "output_type": "stream",
     "text": [
      "2024-03-11 19:09:57.690570: I tensorflow/core/grappler/optimizers/custom_graph_optimizer_registry.cc:114] Plugin optimizer for device_type GPU is enabled.\n",
      "2024-03-11 19:09:58.868658: I tensorflow/core/grappler/optimizers/custom_graph_optimizer_registry.cc:114] Plugin optimizer for device_type GPU is enabled.\n",
      "/Library/Frameworks/Python.framework/Versions/3.11/lib/python3.11/site-packages/keras/src/engine/training.py:3000: UserWarning: You are saving your model as an HDF5 file via `model.save()`. This file format is considered legacy. We recommend using instead the native Keras format, e.g. `model.save('my_model.keras')`.\n",
      "  saving_api.save_model(\n"
     ]
    },
    {
     "name": "stdout",
     "output_type": "stream",
     "text": [
      "Epoch 234: early stopping\n",
      "Validation MAE : 2026.3837890625\n",
      "Validation MSE : 30.82889747619629\n",
      "Training with parameters: {'batch_size': 32, 'dropout_rate': 0.2, 'hidden_layers': 1, 'hidden_units': 128, 'learning_rate': 0.01}\n"
     ]
    },
    {
     "name": "stderr",
     "output_type": "stream",
     "text": [
      "2024-03-11 19:11:02.699656: I tensorflow/core/grappler/optimizers/custom_graph_optimizer_registry.cc:114] Plugin optimizer for device_type GPU is enabled.\n",
      "2024-03-11 19:11:03.808056: I tensorflow/core/grappler/optimizers/custom_graph_optimizer_registry.cc:114] Plugin optimizer for device_type GPU is enabled.\n",
      "/Library/Frameworks/Python.framework/Versions/3.11/lib/python3.11/site-packages/keras/src/engine/training.py:3000: UserWarning: You are saving your model as an HDF5 file via `model.save()`. This file format is considered legacy. We recommend using instead the native Keras format, e.g. `model.save('my_model.keras')`.\n",
      "  saving_api.save_model(\n"
     ]
    },
    {
     "name": "stdout",
     "output_type": "stream",
     "text": [
      "Epoch 35: early stopping\n",
      "Validation MAE : 505.3924865722656\n",
      "Validation MSE : 15.29822063446045\n",
      "Training with parameters: {'batch_size': 32, 'dropout_rate': 0.2, 'hidden_layers': 1, 'hidden_units': 128, 'learning_rate': 0.1}\n"
     ]
    },
    {
     "name": "stderr",
     "output_type": "stream",
     "text": [
      "2024-03-11 19:11:13.794776: I tensorflow/core/grappler/optimizers/custom_graph_optimizer_registry.cc:114] Plugin optimizer for device_type GPU is enabled.\n",
      "2024-03-11 19:11:14.931503: I tensorflow/core/grappler/optimizers/custom_graph_optimizer_registry.cc:114] Plugin optimizer for device_type GPU is enabled.\n",
      "/Library/Frameworks/Python.framework/Versions/3.11/lib/python3.11/site-packages/keras/src/engine/training.py:3000: UserWarning: You are saving your model as an HDF5 file via `model.save()`. This file format is considered legacy. We recommend using instead the native Keras format, e.g. `model.save('my_model.keras')`.\n",
      "  saving_api.save_model(\n"
     ]
    },
    {
     "name": "stdout",
     "output_type": "stream",
     "text": [
      "Epoch 26: early stopping\n",
      "Validation MAE : 3351.3828125\n",
      "Validation MSE : 44.527950286865234\n",
      "Training with parameters: {'batch_size': 32, 'dropout_rate': 0.2, 'hidden_layers': 1, 'hidden_units': 64, 'learning_rate': 0.001}\n"
     ]
    },
    {
     "name": "stderr",
     "output_type": "stream",
     "text": [
      "2024-03-11 19:11:22.632938: I tensorflow/core/grappler/optimizers/custom_graph_optimizer_registry.cc:114] Plugin optimizer for device_type GPU is enabled.\n",
      "2024-03-11 19:11:23.968025: I tensorflow/core/grappler/optimizers/custom_graph_optimizer_registry.cc:114] Plugin optimizer for device_type GPU is enabled.\n",
      "/Library/Frameworks/Python.framework/Versions/3.11/lib/python3.11/site-packages/keras/src/engine/training.py:3000: UserWarning: You are saving your model as an HDF5 file via `model.save()`. This file format is considered legacy. We recommend using instead the native Keras format, e.g. `model.save('my_model.keras')`.\n",
      "  saving_api.save_model(\n"
     ]
    },
    {
     "name": "stdout",
     "output_type": "stream",
     "text": [
      "Epoch 231: early stopping\n",
      "Validation MAE : 27209.306640625\n",
      "Validation MSE : 78.2579345703125\n",
      "Training with parameters: {'batch_size': 32, 'dropout_rate': 0.2, 'hidden_layers': 1, 'hidden_units': 64, 'learning_rate': 0.01}\n"
     ]
    },
    {
     "name": "stderr",
     "output_type": "stream",
     "text": [
      "2024-03-11 19:12:27.460491: I tensorflow/core/grappler/optimizers/custom_graph_optimizer_registry.cc:114] Plugin optimizer for device_type GPU is enabled.\n",
      "2024-03-11 19:12:28.763944: I tensorflow/core/grappler/optimizers/custom_graph_optimizer_registry.cc:114] Plugin optimizer for device_type GPU is enabled.\n",
      "/Library/Frameworks/Python.framework/Versions/3.11/lib/python3.11/site-packages/keras/src/engine/training.py:3000: UserWarning: You are saving your model as an HDF5 file via `model.save()`. This file format is considered legacy. We recommend using instead the native Keras format, e.g. `model.save('my_model.keras')`.\n",
      "  saving_api.save_model(\n"
     ]
    },
    {
     "name": "stdout",
     "output_type": "stream",
     "text": [
      "Epoch 64: early stopping\n",
      "Validation MAE : 1560.4119873046875\n",
      "Validation MSE : 21.55169105529785\n",
      "Training with parameters: {'batch_size': 32, 'dropout_rate': 0.2, 'hidden_layers': 1, 'hidden_units': 64, 'learning_rate': 0.1}\n"
     ]
    },
    {
     "name": "stderr",
     "output_type": "stream",
     "text": [
      "2024-03-11 19:12:46.441711: I tensorflow/core/grappler/optimizers/custom_graph_optimizer_registry.cc:114] Plugin optimizer for device_type GPU is enabled.\n",
      "2024-03-11 19:12:47.722965: I tensorflow/core/grappler/optimizers/custom_graph_optimizer_registry.cc:114] Plugin optimizer for device_type GPU is enabled.\n",
      "/Library/Frameworks/Python.framework/Versions/3.11/lib/python3.11/site-packages/keras/src/engine/training.py:3000: UserWarning: You are saving your model as an HDF5 file via `model.save()`. This file format is considered legacy. We recommend using instead the native Keras format, e.g. `model.save('my_model.keras')`.\n",
      "  saving_api.save_model(\n"
     ]
    },
    {
     "name": "stdout",
     "output_type": "stream",
     "text": [
      "Epoch 27: early stopping\n",
      "Validation MAE : 1498.4443359375\n",
      "Validation MSE : 23.157712936401367\n",
      "Training with parameters: {'batch_size': 32, 'dropout_rate': 0.2, 'hidden_layers': 1, 'hidden_units': 32, 'learning_rate': 0.001}\n"
     ]
    },
    {
     "name": "stderr",
     "output_type": "stream",
     "text": [
      "2024-03-11 19:12:56.116925: I tensorflow/core/grappler/optimizers/custom_graph_optimizer_registry.cc:114] Plugin optimizer for device_type GPU is enabled.\n",
      "2024-03-11 19:12:57.267780: I tensorflow/core/grappler/optimizers/custom_graph_optimizer_registry.cc:114] Plugin optimizer for device_type GPU is enabled.\n",
      "/Library/Frameworks/Python.framework/Versions/3.11/lib/python3.11/site-packages/keras/src/engine/training.py:3000: UserWarning: You are saving your model as an HDF5 file via `model.save()`. This file format is considered legacy. We recommend using instead the native Keras format, e.g. `model.save('my_model.keras')`.\n",
      "  saving_api.save_model(\n"
     ]
    },
    {
     "name": "stdout",
     "output_type": "stream",
     "text": [
      "Epoch 282: early stopping\n",
      "Validation MAE : 714.6819458007812\n",
      "Validation MSE : 13.96703052520752\n",
      "Training with parameters: {'batch_size': 32, 'dropout_rate': 0.2, 'hidden_layers': 1, 'hidden_units': 32, 'learning_rate': 0.01}\n"
     ]
    },
    {
     "name": "stderr",
     "output_type": "stream",
     "text": [
      "2024-03-11 19:14:12.906714: I tensorflow/core/grappler/optimizers/custom_graph_optimizer_registry.cc:114] Plugin optimizer for device_type GPU is enabled.\n",
      "2024-03-11 19:14:14.112766: I tensorflow/core/grappler/optimizers/custom_graph_optimizer_registry.cc:114] Plugin optimizer for device_type GPU is enabled.\n",
      "/Library/Frameworks/Python.framework/Versions/3.11/lib/python3.11/site-packages/keras/src/engine/training.py:3000: UserWarning: You are saving your model as an HDF5 file via `model.save()`. This file format is considered legacy. We recommend using instead the native Keras format, e.g. `model.save('my_model.keras')`.\n",
      "  saving_api.save_model(\n"
     ]
    },
    {
     "name": "stdout",
     "output_type": "stream",
     "text": [
      "Epoch 69: early stopping\n",
      "Validation MAE : 2080.809814453125\n",
      "Validation MSE : 23.59025001525879\n",
      "Training with parameters: {'batch_size': 32, 'dropout_rate': 0.2, 'hidden_layers': 1, 'hidden_units': 32, 'learning_rate': 0.1}\n"
     ]
    },
    {
     "name": "stderr",
     "output_type": "stream",
     "text": [
      "2024-03-11 19:14:34.363632: I tensorflow/core/grappler/optimizers/custom_graph_optimizer_registry.cc:114] Plugin optimizer for device_type GPU is enabled.\n",
      "2024-03-11 19:14:35.438100: I tensorflow/core/grappler/optimizers/custom_graph_optimizer_registry.cc:114] Plugin optimizer for device_type GPU is enabled.\n",
      "/Library/Frameworks/Python.framework/Versions/3.11/lib/python3.11/site-packages/keras/src/engine/training.py:3000: UserWarning: You are saving your model as an HDF5 file via `model.save()`. This file format is considered legacy. We recommend using instead the native Keras format, e.g. `model.save('my_model.keras')`.\n",
      "  saving_api.save_model(\n"
     ]
    },
    {
     "name": "stdout",
     "output_type": "stream",
     "text": [
      "Epoch 26: early stopping\n",
      "Validation MAE : 728.57763671875\n",
      "Validation MSE : 15.617918968200684\n",
      "Training with parameters: {'batch_size': 32, 'dropout_rate': 0.2, 'hidden_layers': 2, 'hidden_units': 128, 'learning_rate': 0.001}\n"
     ]
    },
    {
     "name": "stderr",
     "output_type": "stream",
     "text": [
      "2024-03-11 19:14:43.355707: I tensorflow/core/grappler/optimizers/custom_graph_optimizer_registry.cc:114] Plugin optimizer for device_type GPU is enabled.\n",
      "2024-03-11 19:14:44.772985: I tensorflow/core/grappler/optimizers/custom_graph_optimizer_registry.cc:114] Plugin optimizer for device_type GPU is enabled.\n",
      "/Library/Frameworks/Python.framework/Versions/3.11/lib/python3.11/site-packages/keras/src/engine/training.py:3000: UserWarning: You are saving your model as an HDF5 file via `model.save()`. This file format is considered legacy. We recommend using instead the native Keras format, e.g. `model.save('my_model.keras')`.\n",
      "  saving_api.save_model(\n"
     ]
    },
    {
     "name": "stdout",
     "output_type": "stream",
     "text": [
      "Epoch 58: early stopping\n",
      "Validation MAE : 271098.90625\n",
      "Validation MSE : 327.86920166015625\n",
      "Training with parameters: {'batch_size': 32, 'dropout_rate': 0.2, 'hidden_layers': 2, 'hidden_units': 128, 'learning_rate': 0.01}\n"
     ]
    },
    {
     "name": "stderr",
     "output_type": "stream",
     "text": [
      "2024-03-11 19:15:02.654401: I tensorflow/core/grappler/optimizers/custom_graph_optimizer_registry.cc:114] Plugin optimizer for device_type GPU is enabled.\n",
      "2024-03-11 19:15:04.217467: I tensorflow/core/grappler/optimizers/custom_graph_optimizer_registry.cc:114] Plugin optimizer for device_type GPU is enabled.\n",
      "/Library/Frameworks/Python.framework/Versions/3.11/lib/python3.11/site-packages/keras/src/engine/training.py:3000: UserWarning: You are saving your model as an HDF5 file via `model.save()`. This file format is considered legacy. We recommend using instead the native Keras format, e.g. `model.save('my_model.keras')`.\n",
      "  saving_api.save_model(\n"
     ]
    },
    {
     "name": "stdout",
     "output_type": "stream",
     "text": [
      "Epoch 28: early stopping\n",
      "Validation MAE : 10492.1708984375\n",
      "Validation MSE : 75.33401489257812\n",
      "Training with parameters: {'batch_size': 32, 'dropout_rate': 0.2, 'hidden_layers': 2, 'hidden_units': 128, 'learning_rate': 0.1}\n"
     ]
    },
    {
     "name": "stderr",
     "output_type": "stream",
     "text": [
      "2024-03-11 19:15:13.598146: I tensorflow/core/grappler/optimizers/custom_graph_optimizer_registry.cc:114] Plugin optimizer for device_type GPU is enabled.\n",
      "2024-03-11 19:15:15.311412: I tensorflow/core/grappler/optimizers/custom_graph_optimizer_registry.cc:114] Plugin optimizer for device_type GPU is enabled.\n",
      "/Library/Frameworks/Python.framework/Versions/3.11/lib/python3.11/site-packages/keras/src/engine/training.py:3000: UserWarning: You are saving your model as an HDF5 file via `model.save()`. This file format is considered legacy. We recommend using instead the native Keras format, e.g. `model.save('my_model.keras')`.\n",
      "  saving_api.save_model(\n"
     ]
    },
    {
     "name": "stdout",
     "output_type": "stream",
     "text": [
      "Epoch 21: early stopping\n",
      "Validation MAE : 291427.9375\n",
      "Validation MSE : 467.3056335449219\n",
      "Training with parameters: {'batch_size': 32, 'dropout_rate': 0.2, 'hidden_layers': 2, 'hidden_units': 64, 'learning_rate': 0.001}\n"
     ]
    },
    {
     "name": "stderr",
     "output_type": "stream",
     "text": [
      "2024-03-11 19:15:22.657364: I tensorflow/core/grappler/optimizers/custom_graph_optimizer_registry.cc:114] Plugin optimizer for device_type GPU is enabled.\n",
      "2024-03-11 19:15:24.604120: I tensorflow/core/grappler/optimizers/custom_graph_optimizer_registry.cc:114] Plugin optimizer for device_type GPU is enabled.\n",
      "/Library/Frameworks/Python.framework/Versions/3.11/lib/python3.11/site-packages/keras/src/engine/training.py:3000: UserWarning: You are saving your model as an HDF5 file via `model.save()`. This file format is considered legacy. We recommend using instead the native Keras format, e.g. `model.save('my_model.keras')`.\n",
      "  saving_api.save_model(\n"
     ]
    },
    {
     "name": "stdout",
     "output_type": "stream",
     "text": [
      "Epoch 72: early stopping\n",
      "Validation MAE : 13677.7900390625\n",
      "Validation MSE : 71.52909851074219\n",
      "Training with parameters: {'batch_size': 32, 'dropout_rate': 0.2, 'hidden_layers': 2, 'hidden_units': 64, 'learning_rate': 0.01}\n"
     ]
    },
    {
     "name": "stderr",
     "output_type": "stream",
     "text": [
      "2024-03-11 19:15:46.346037: I tensorflow/core/grappler/optimizers/custom_graph_optimizer_registry.cc:114] Plugin optimizer for device_type GPU is enabled.\n",
      "2024-03-11 19:15:47.761179: I tensorflow/core/grappler/optimizers/custom_graph_optimizer_registry.cc:114] Plugin optimizer for device_type GPU is enabled.\n",
      "/Library/Frameworks/Python.framework/Versions/3.11/lib/python3.11/site-packages/keras/src/engine/training.py:3000: UserWarning: You are saving your model as an HDF5 file via `model.save()`. This file format is considered legacy. We recommend using instead the native Keras format, e.g. `model.save('my_model.keras')`.\n",
      "  saving_api.save_model(\n"
     ]
    },
    {
     "name": "stdout",
     "output_type": "stream",
     "text": [
      "Epoch 38: early stopping\n",
      "Validation MAE : 853.453125\n",
      "Validation MSE : 24.056686401367188\n",
      "Training with parameters: {'batch_size': 32, 'dropout_rate': 0.2, 'hidden_layers': 2, 'hidden_units': 64, 'learning_rate': 0.1}\n"
     ]
    },
    {
     "name": "stderr",
     "output_type": "stream",
     "text": [
      "2024-03-11 19:15:59.762325: I tensorflow/core/grappler/optimizers/custom_graph_optimizer_registry.cc:114] Plugin optimizer for device_type GPU is enabled.\n",
      "2024-03-11 19:16:01.520706: I tensorflow/core/grappler/optimizers/custom_graph_optimizer_registry.cc:114] Plugin optimizer for device_type GPU is enabled.\n",
      "/Library/Frameworks/Python.framework/Versions/3.11/lib/python3.11/site-packages/keras/src/engine/training.py:3000: UserWarning: You are saving your model as an HDF5 file via `model.save()`. This file format is considered legacy. We recommend using instead the native Keras format, e.g. `model.save('my_model.keras')`.\n",
      "  saving_api.save_model(\n"
     ]
    },
    {
     "name": "stdout",
     "output_type": "stream",
     "text": [
      "Epoch 41: early stopping\n",
      "Validation MAE : 82074688.0\n",
      "Validation MSE : 7064.822265625\n",
      "Training with parameters: {'batch_size': 32, 'dropout_rate': 0.2, 'hidden_layers': 2, 'hidden_units': 32, 'learning_rate': 0.001}\n"
     ]
    },
    {
     "name": "stderr",
     "output_type": "stream",
     "text": [
      "2024-03-11 19:16:14.346455: I tensorflow/core/grappler/optimizers/custom_graph_optimizer_registry.cc:114] Plugin optimizer for device_type GPU is enabled.\n",
      "2024-03-11 19:16:15.780641: I tensorflow/core/grappler/optimizers/custom_graph_optimizer_registry.cc:114] Plugin optimizer for device_type GPU is enabled.\n",
      "/Library/Frameworks/Python.framework/Versions/3.11/lib/python3.11/site-packages/keras/src/engine/training.py:3000: UserWarning: You are saving your model as an HDF5 file via `model.save()`. This file format is considered legacy. We recommend using instead the native Keras format, e.g. `model.save('my_model.keras')`.\n",
      "  saving_api.save_model(\n"
     ]
    },
    {
     "name": "stdout",
     "output_type": "stream",
     "text": [
      "Epoch 80: early stopping\n",
      "Validation MAE : 969.4068603515625\n",
      "Validation MSE : 16.758420944213867\n",
      "Training with parameters: {'batch_size': 32, 'dropout_rate': 0.2, 'hidden_layers': 2, 'hidden_units': 32, 'learning_rate': 0.01}\n"
     ]
    },
    {
     "name": "stderr",
     "output_type": "stream",
     "text": [
      "2024-03-11 19:16:39.715294: I tensorflow/core/grappler/optimizers/custom_graph_optimizer_registry.cc:114] Plugin optimizer for device_type GPU is enabled.\n",
      "2024-03-11 19:16:41.411106: I tensorflow/core/grappler/optimizers/custom_graph_optimizer_registry.cc:114] Plugin optimizer for device_type GPU is enabled.\n",
      "/Library/Frameworks/Python.framework/Versions/3.11/lib/python3.11/site-packages/keras/src/engine/training.py:3000: UserWarning: You are saving your model as an HDF5 file via `model.save()`. This file format is considered legacy. We recommend using instead the native Keras format, e.g. `model.save('my_model.keras')`.\n",
      "  saving_api.save_model(\n"
     ]
    },
    {
     "name": "stdout",
     "output_type": "stream",
     "text": [
      "Epoch 33: early stopping\n",
      "Validation MAE : 4907.66015625\n",
      "Validation MSE : 50.50724792480469\n",
      "Training with parameters: {'batch_size': 32, 'dropout_rate': 0.2, 'hidden_layers': 2, 'hidden_units': 32, 'learning_rate': 0.1}\n"
     ]
    },
    {
     "name": "stderr",
     "output_type": "stream",
     "text": [
      "2024-03-11 19:16:51.528515: I tensorflow/core/grappler/optimizers/custom_graph_optimizer_registry.cc:114] Plugin optimizer for device_type GPU is enabled.\n",
      "2024-03-11 19:16:53.264152: I tensorflow/core/grappler/optimizers/custom_graph_optimizer_registry.cc:114] Plugin optimizer for device_type GPU is enabled.\n",
      "/Library/Frameworks/Python.framework/Versions/3.11/lib/python3.11/site-packages/keras/src/engine/training.py:3000: UserWarning: You are saving your model as an HDF5 file via `model.save()`. This file format is considered legacy. We recommend using instead the native Keras format, e.g. `model.save('my_model.keras')`.\n",
      "  saving_api.save_model(\n"
     ]
    },
    {
     "name": "stdout",
     "output_type": "stream",
     "text": [
      "Epoch 29: early stopping\n",
      "Validation MAE : 11956.98828125\n",
      "Validation MSE : 86.48064422607422\n",
      "Training with parameters: {'batch_size': 32, 'dropout_rate': 0.2, 'hidden_layers': 3, 'hidden_units': 128, 'learning_rate': 0.001}\n"
     ]
    },
    {
     "name": "stderr",
     "output_type": "stream",
     "text": [
      "2024-03-11 19:17:02.285665: I tensorflow/core/grappler/optimizers/custom_graph_optimizer_registry.cc:114] Plugin optimizer for device_type GPU is enabled.\n",
      "2024-03-11 19:17:04.085724: I tensorflow/core/grappler/optimizers/custom_graph_optimizer_registry.cc:114] Plugin optimizer for device_type GPU is enabled.\n",
      "/Library/Frameworks/Python.framework/Versions/3.11/lib/python3.11/site-packages/keras/src/engine/training.py:3000: UserWarning: You are saving your model as an HDF5 file via `model.save()`. This file format is considered legacy. We recommend using instead the native Keras format, e.g. `model.save('my_model.keras')`.\n",
      "  saving_api.save_model(\n"
     ]
    },
    {
     "name": "stdout",
     "output_type": "stream",
     "text": [
      "Epoch 22: early stopping\n",
      "Validation MAE : 8760071.0\n",
      "Validation MSE : 2003.4404296875\n",
      "Training with parameters: {'batch_size': 32, 'dropout_rate': 0.2, 'hidden_layers': 3, 'hidden_units': 128, 'learning_rate': 0.01}\n"
     ]
    },
    {
     "name": "stderr",
     "output_type": "stream",
     "text": [
      "2024-03-11 19:17:12.307880: I tensorflow/core/grappler/optimizers/custom_graph_optimizer_registry.cc:114] Plugin optimizer for device_type GPU is enabled.\n",
      "2024-03-11 19:17:14.306360: I tensorflow/core/grappler/optimizers/custom_graph_optimizer_registry.cc:114] Plugin optimizer for device_type GPU is enabled.\n",
      "/Library/Frameworks/Python.framework/Versions/3.11/lib/python3.11/site-packages/keras/src/engine/training.py:3000: UserWarning: You are saving your model as an HDF5 file via `model.save()`. This file format is considered legacy. We recommend using instead the native Keras format, e.g. `model.save('my_model.keras')`.\n",
      "  saving_api.save_model(\n"
     ]
    },
    {
     "name": "stdout",
     "output_type": "stream",
     "text": [
      "Epoch 70: early stopping\n",
      "Validation MAE : 14438959.0\n",
      "Validation MSE : 2546.58740234375\n",
      "Training with parameters: {'batch_size': 32, 'dropout_rate': 0.2, 'hidden_layers': 3, 'hidden_units': 128, 'learning_rate': 0.1}\n"
     ]
    },
    {
     "name": "stderr",
     "output_type": "stream",
     "text": [
      "2024-03-11 19:17:40.258916: I tensorflow/core/grappler/optimizers/custom_graph_optimizer_registry.cc:114] Plugin optimizer for device_type GPU is enabled.\n",
      "2024-03-11 19:17:42.218620: I tensorflow/core/grappler/optimizers/custom_graph_optimizer_registry.cc:114] Plugin optimizer for device_type GPU is enabled.\n",
      "/Library/Frameworks/Python.framework/Versions/3.11/lib/python3.11/site-packages/keras/src/engine/training.py:3000: UserWarning: You are saving your model as an HDF5 file via `model.save()`. This file format is considered legacy. We recommend using instead the native Keras format, e.g. `model.save('my_model.keras')`.\n",
      "  saving_api.save_model(\n"
     ]
    },
    {
     "name": "stdout",
     "output_type": "stream",
     "text": [
      "Epoch 21: early stopping\n",
      "Validation MAE : 2766091059200.0\n",
      "Validation MSE : 1024900.8125\n",
      "Training with parameters: {'batch_size': 32, 'dropout_rate': 0.2, 'hidden_layers': 3, 'hidden_units': 64, 'learning_rate': 0.001}\n"
     ]
    },
    {
     "name": "stderr",
     "output_type": "stream",
     "text": [
      "2024-03-11 19:17:50.749235: I tensorflow/core/grappler/optimizers/custom_graph_optimizer_registry.cc:114] Plugin optimizer for device_type GPU is enabled.\n",
      "2024-03-11 19:17:52.706440: I tensorflow/core/grappler/optimizers/custom_graph_optimizer_registry.cc:114] Plugin optimizer for device_type GPU is enabled.\n",
      "/Library/Frameworks/Python.framework/Versions/3.11/lib/python3.11/site-packages/keras/src/engine/training.py:3000: UserWarning: You are saving your model as an HDF5 file via `model.save()`. This file format is considered legacy. We recommend using instead the native Keras format, e.g. `model.save('my_model.keras')`.\n",
      "  saving_api.save_model(\n"
     ]
    },
    {
     "name": "stdout",
     "output_type": "stream",
     "text": [
      "Epoch 24: early stopping\n",
      "Validation MAE : 1065152.625\n",
      "Validation MSE : 800.0436401367188\n",
      "Training with parameters: {'batch_size': 32, 'dropout_rate': 0.2, 'hidden_layers': 3, 'hidden_units': 64, 'learning_rate': 0.01}\n"
     ]
    },
    {
     "name": "stderr",
     "output_type": "stream",
     "text": [
      "2024-03-11 19:18:01.517699: I tensorflow/core/grappler/optimizers/custom_graph_optimizer_registry.cc:114] Plugin optimizer for device_type GPU is enabled.\n",
      "2024-03-11 19:18:03.399194: I tensorflow/core/grappler/optimizers/custom_graph_optimizer_registry.cc:114] Plugin optimizer for device_type GPU is enabled.\n",
      "/Library/Frameworks/Python.framework/Versions/3.11/lib/python3.11/site-packages/keras/src/engine/training.py:3000: UserWarning: You are saving your model as an HDF5 file via `model.save()`. This file format is considered legacy. We recommend using instead the native Keras format, e.g. `model.save('my_model.keras')`.\n",
      "  saving_api.save_model(\n"
     ]
    },
    {
     "name": "stdout",
     "output_type": "stream",
     "text": [
      "Epoch 21: early stopping\n",
      "Validation MAE : 3266264.25\n",
      "Validation MSE : 1220.064208984375\n",
      "Training with parameters: {'batch_size': 32, 'dropout_rate': 0.2, 'hidden_layers': 3, 'hidden_units': 64, 'learning_rate': 0.1}\n"
     ]
    },
    {
     "name": "stderr",
     "output_type": "stream",
     "text": [
      "2024-03-11 19:18:11.308167: I tensorflow/core/grappler/optimizers/custom_graph_optimizer_registry.cc:114] Plugin optimizer for device_type GPU is enabled.\n",
      "2024-03-11 19:18:13.195352: I tensorflow/core/grappler/optimizers/custom_graph_optimizer_registry.cc:114] Plugin optimizer for device_type GPU is enabled.\n",
      "/Library/Frameworks/Python.framework/Versions/3.11/lib/python3.11/site-packages/keras/src/engine/training.py:3000: UserWarning: You are saving your model as an HDF5 file via `model.save()`. This file format is considered legacy. We recommend using instead the native Keras format, e.g. `model.save('my_model.keras')`.\n",
      "  saving_api.save_model(\n"
     ]
    },
    {
     "name": "stdout",
     "output_type": "stream",
     "text": [
      "Epoch 35: early stopping\n",
      "Validation MAE : 154761712.0\n",
      "Validation MSE : 11006.9873046875\n",
      "Training with parameters: {'batch_size': 32, 'dropout_rate': 0.2, 'hidden_layers': 3, 'hidden_units': 32, 'learning_rate': 0.001}\n"
     ]
    },
    {
     "name": "stderr",
     "output_type": "stream",
     "text": [
      "2024-03-11 19:18:25.720556: I tensorflow/core/grappler/optimizers/custom_graph_optimizer_registry.cc:114] Plugin optimizer for device_type GPU is enabled.\n",
      "2024-03-11 19:18:27.495158: I tensorflow/core/grappler/optimizers/custom_graph_optimizer_registry.cc:114] Plugin optimizer for device_type GPU is enabled.\n",
      "/Library/Frameworks/Python.framework/Versions/3.11/lib/python3.11/site-packages/keras/src/engine/training.py:3000: UserWarning: You are saving your model as an HDF5 file via `model.save()`. This file format is considered legacy. We recommend using instead the native Keras format, e.g. `model.save('my_model.keras')`.\n",
      "  saving_api.save_model(\n"
     ]
    },
    {
     "name": "stdout",
     "output_type": "stream",
     "text": [
      "Epoch 24: early stopping\n",
      "Validation MAE : 38298.4140625\n",
      "Validation MSE : 133.87203979492188\n",
      "Training with parameters: {'batch_size': 32, 'dropout_rate': 0.2, 'hidden_layers': 3, 'hidden_units': 32, 'learning_rate': 0.01}\n"
     ]
    },
    {
     "name": "stderr",
     "output_type": "stream",
     "text": [
      "2024-03-11 19:18:36.622922: I tensorflow/core/grappler/optimizers/custom_graph_optimizer_registry.cc:114] Plugin optimizer for device_type GPU is enabled.\n",
      "2024-03-11 19:18:38.673012: I tensorflow/core/grappler/optimizers/custom_graph_optimizer_registry.cc:114] Plugin optimizer for device_type GPU is enabled.\n",
      "/Library/Frameworks/Python.framework/Versions/3.11/lib/python3.11/site-packages/keras/src/engine/training.py:3000: UserWarning: You are saving your model as an HDF5 file via `model.save()`. This file format is considered legacy. We recommend using instead the native Keras format, e.g. `model.save('my_model.keras')`.\n",
      "  saving_api.save_model(\n"
     ]
    },
    {
     "name": "stdout",
     "output_type": "stream",
     "text": [
      "Epoch 21: early stopping\n",
      "Validation MAE : 285511.625\n",
      "Validation MSE : 332.80755615234375\n",
      "Training with parameters: {'batch_size': 32, 'dropout_rate': 0.2, 'hidden_layers': 3, 'hidden_units': 32, 'learning_rate': 0.1}\n"
     ]
    },
    {
     "name": "stderr",
     "output_type": "stream",
     "text": [
      "2024-03-11 19:18:46.889012: I tensorflow/core/grappler/optimizers/custom_graph_optimizer_registry.cc:114] Plugin optimizer for device_type GPU is enabled.\n",
      "2024-03-11 19:18:49.081270: I tensorflow/core/grappler/optimizers/custom_graph_optimizer_registry.cc:114] Plugin optimizer for device_type GPU is enabled.\n",
      "/Library/Frameworks/Python.framework/Versions/3.11/lib/python3.11/site-packages/keras/src/engine/training.py:3000: UserWarning: You are saving your model as an HDF5 file via `model.save()`. This file format is considered legacy. We recommend using instead the native Keras format, e.g. `model.save('my_model.keras')`.\n",
      "  saving_api.save_model(\n"
     ]
    },
    {
     "name": "stdout",
     "output_type": "stream",
     "text": [
      "Epoch 34: early stopping\n",
      "Validation MAE : 54388276.0\n",
      "Validation MSE : 6176.54248046875\n",
      "Training with parameters: {'batch_size': 32, 'dropout_rate': 0.3, 'hidden_layers': 1, 'hidden_units': 128, 'learning_rate': 0.001}\n"
     ]
    },
    {
     "name": "stderr",
     "output_type": "stream",
     "text": [
      "2024-03-11 19:19:01.545183: I tensorflow/core/grappler/optimizers/custom_graph_optimizer_registry.cc:114] Plugin optimizer for device_type GPU is enabled.\n",
      "2024-03-11 19:19:02.895882: I tensorflow/core/grappler/optimizers/custom_graph_optimizer_registry.cc:114] Plugin optimizer for device_type GPU is enabled.\n",
      "/Library/Frameworks/Python.framework/Versions/3.11/lib/python3.11/site-packages/keras/src/engine/training.py:3000: UserWarning: You are saving your model as an HDF5 file via `model.save()`. This file format is considered legacy. We recommend using instead the native Keras format, e.g. `model.save('my_model.keras')`.\n",
      "  saving_api.save_model(\n"
     ]
    },
    {
     "name": "stdout",
     "output_type": "stream",
     "text": [
      "Epoch 209: early stopping\n",
      "Validation MAE : 597.9906616210938\n",
      "Validation MSE : 16.36578941345215\n",
      "Training with parameters: {'batch_size': 32, 'dropout_rate': 0.3, 'hidden_layers': 1, 'hidden_units': 128, 'learning_rate': 0.01}\n"
     ]
    },
    {
     "name": "stderr",
     "output_type": "stream",
     "text": [
      "2024-03-11 19:19:58.032335: I tensorflow/core/grappler/optimizers/custom_graph_optimizer_registry.cc:114] Plugin optimizer for device_type GPU is enabled.\n",
      "2024-03-11 19:19:59.569386: I tensorflow/core/grappler/optimizers/custom_graph_optimizer_registry.cc:114] Plugin optimizer for device_type GPU is enabled.\n",
      "/Library/Frameworks/Python.framework/Versions/3.11/lib/python3.11/site-packages/keras/src/engine/training.py:3000: UserWarning: You are saving your model as an HDF5 file via `model.save()`. This file format is considered legacy. We recommend using instead the native Keras format, e.g. `model.save('my_model.keras')`.\n",
      "  saving_api.save_model(\n"
     ]
    },
    {
     "name": "stdout",
     "output_type": "stream",
     "text": [
      "Epoch 32: early stopping\n",
      "Validation MAE : 572.2999267578125\n",
      "Validation MSE : 15.09502124786377\n",
      "Training with parameters: {'batch_size': 32, 'dropout_rate': 0.3, 'hidden_layers': 1, 'hidden_units': 128, 'learning_rate': 0.1}\n"
     ]
    },
    {
     "name": "stderr",
     "output_type": "stream",
     "text": [
      "2024-03-11 19:20:08.881773: I tensorflow/core/grappler/optimizers/custom_graph_optimizer_registry.cc:114] Plugin optimizer for device_type GPU is enabled.\n",
      "2024-03-11 19:20:10.512936: I tensorflow/core/grappler/optimizers/custom_graph_optimizer_registry.cc:114] Plugin optimizer for device_type GPU is enabled.\n",
      "/Library/Frameworks/Python.framework/Versions/3.11/lib/python3.11/site-packages/keras/src/engine/training.py:3000: UserWarning: You are saving your model as an HDF5 file via `model.save()`. This file format is considered legacy. We recommend using instead the native Keras format, e.g. `model.save('my_model.keras')`.\n",
      "  saving_api.save_model(\n"
     ]
    },
    {
     "name": "stdout",
     "output_type": "stream",
     "text": [
      "Epoch 25: early stopping\n",
      "Validation MAE : 1327.19775390625\n",
      "Validation MSE : 25.345237731933594\n",
      "Training with parameters: {'batch_size': 32, 'dropout_rate': 0.3, 'hidden_layers': 1, 'hidden_units': 64, 'learning_rate': 0.001}\n"
     ]
    },
    {
     "name": "stderr",
     "output_type": "stream",
     "text": [
      "2024-03-11 19:20:18.067091: I tensorflow/core/grappler/optimizers/custom_graph_optimizer_registry.cc:114] Plugin optimizer for device_type GPU is enabled.\n",
      "2024-03-11 19:20:19.530205: I tensorflow/core/grappler/optimizers/custom_graph_optimizer_registry.cc:114] Plugin optimizer for device_type GPU is enabled.\n",
      "/Library/Frameworks/Python.framework/Versions/3.11/lib/python3.11/site-packages/keras/src/engine/training.py:3000: UserWarning: You are saving your model as an HDF5 file via `model.save()`. This file format is considered legacy. We recommend using instead the native Keras format, e.g. `model.save('my_model.keras')`.\n",
      "  saving_api.save_model(\n"
     ]
    },
    {
     "name": "stdout",
     "output_type": "stream",
     "text": [
      "Epoch 196: early stopping\n",
      "Validation MAE : 170.470458984375\n",
      "Validation MSE : 8.090666770935059\n",
      "Training with parameters: {'batch_size': 32, 'dropout_rate': 0.3, 'hidden_layers': 1, 'hidden_units': 64, 'learning_rate': 0.01}\n"
     ]
    },
    {
     "name": "stderr",
     "output_type": "stream",
     "text": [
      "2024-03-11 19:21:13.924655: I tensorflow/core/grappler/optimizers/custom_graph_optimizer_registry.cc:114] Plugin optimizer for device_type GPU is enabled.\n",
      "2024-03-11 19:21:16.385381: I tensorflow/core/grappler/optimizers/custom_graph_optimizer_registry.cc:114] Plugin optimizer for device_type GPU is enabled.\n",
      "/Library/Frameworks/Python.framework/Versions/3.11/lib/python3.11/site-packages/keras/src/engine/training.py:3000: UserWarning: You are saving your model as an HDF5 file via `model.save()`. This file format is considered legacy. We recommend using instead the native Keras format, e.g. `model.save('my_model.keras')`.\n",
      "  saving_api.save_model(\n"
     ]
    },
    {
     "name": "stdout",
     "output_type": "stream",
     "text": [
      "Epoch 56: early stopping\n",
      "Validation MAE : 478.67950439453125\n",
      "Validation MSE : 14.691408157348633\n",
      "Training with parameters: {'batch_size': 32, 'dropout_rate': 0.3, 'hidden_layers': 1, 'hidden_units': 64, 'learning_rate': 0.1}\n"
     ]
    },
    {
     "name": "stderr",
     "output_type": "stream",
     "text": [
      "2024-03-11 19:21:32.732221: I tensorflow/core/grappler/optimizers/custom_graph_optimizer_registry.cc:114] Plugin optimizer for device_type GPU is enabled.\n",
      "2024-03-11 19:21:34.253570: I tensorflow/core/grappler/optimizers/custom_graph_optimizer_registry.cc:114] Plugin optimizer for device_type GPU is enabled.\n",
      "/Library/Frameworks/Python.framework/Versions/3.11/lib/python3.11/site-packages/keras/src/engine/training.py:3000: UserWarning: You are saving your model as an HDF5 file via `model.save()`. This file format is considered legacy. We recommend using instead the native Keras format, e.g. `model.save('my_model.keras')`.\n",
      "  saving_api.save_model(\n"
     ]
    },
    {
     "name": "stdout",
     "output_type": "stream",
     "text": [
      "Epoch 34: early stopping\n",
      "Validation MAE : 218.95704650878906\n",
      "Validation MSE : 10.442352294921875\n",
      "Training with parameters: {'batch_size': 32, 'dropout_rate': 0.3, 'hidden_layers': 1, 'hidden_units': 32, 'learning_rate': 0.001}\n"
     ]
    },
    {
     "name": "stderr",
     "output_type": "stream",
     "text": [
      "2024-03-11 19:21:43.956187: I tensorflow/core/grappler/optimizers/custom_graph_optimizer_registry.cc:114] Plugin optimizer for device_type GPU is enabled.\n",
      "2024-03-11 19:21:45.522649: I tensorflow/core/grappler/optimizers/custom_graph_optimizer_registry.cc:114] Plugin optimizer for device_type GPU is enabled.\n",
      "/Library/Frameworks/Python.framework/Versions/3.11/lib/python3.11/site-packages/keras/src/engine/training.py:3000: UserWarning: You are saving your model as an HDF5 file via `model.save()`. This file format is considered legacy. We recommend using instead the native Keras format, e.g. `model.save('my_model.keras')`.\n",
      "  saving_api.save_model(\n"
     ]
    },
    {
     "name": "stdout",
     "output_type": "stream",
     "text": [
      "Epoch 330: early stopping\n",
      "Validation MAE : 408.70458984375\n",
      "Validation MSE : 11.203551292419434\n",
      "Training with parameters: {'batch_size': 32, 'dropout_rate': 0.3, 'hidden_layers': 1, 'hidden_units': 32, 'learning_rate': 0.01}\n"
     ]
    },
    {
     "name": "stderr",
     "output_type": "stream",
     "text": [
      "2024-03-11 19:23:14.918419: I tensorflow/core/grappler/optimizers/custom_graph_optimizer_registry.cc:114] Plugin optimizer for device_type GPU is enabled.\n",
      "2024-03-11 19:23:16.495515: I tensorflow/core/grappler/optimizers/custom_graph_optimizer_registry.cc:114] Plugin optimizer for device_type GPU is enabled.\n",
      "/Library/Frameworks/Python.framework/Versions/3.11/lib/python3.11/site-packages/keras/src/engine/training.py:3000: UserWarning: You are saving your model as an HDF5 file via `model.save()`. This file format is considered legacy. We recommend using instead the native Keras format, e.g. `model.save('my_model.keras')`.\n",
      "  saving_api.save_model(\n"
     ]
    },
    {
     "name": "stdout",
     "output_type": "stream",
     "text": [
      "Epoch 58: early stopping\n",
      "Validation MAE : 1258.1837158203125\n",
      "Validation MSE : 20.678022384643555\n",
      "Training with parameters: {'batch_size': 32, 'dropout_rate': 0.3, 'hidden_layers': 1, 'hidden_units': 32, 'learning_rate': 0.1}\n"
     ]
    },
    {
     "name": "stderr",
     "output_type": "stream",
     "text": [
      "2024-03-11 19:23:36.306469: I tensorflow/core/grappler/optimizers/custom_graph_optimizer_registry.cc:114] Plugin optimizer for device_type GPU is enabled.\n",
      "2024-03-11 19:23:38.231209: I tensorflow/core/grappler/optimizers/custom_graph_optimizer_registry.cc:114] Plugin optimizer for device_type GPU is enabled.\n",
      "/Library/Frameworks/Python.framework/Versions/3.11/lib/python3.11/site-packages/keras/src/engine/training.py:3000: UserWarning: You are saving your model as an HDF5 file via `model.save()`. This file format is considered legacy. We recommend using instead the native Keras format, e.g. `model.save('my_model.keras')`.\n",
      "  saving_api.save_model(\n"
     ]
    },
    {
     "name": "stdout",
     "output_type": "stream",
     "text": [
      "Epoch 43: early stopping\n",
      "Validation MAE : 2070.813720703125\n",
      "Validation MSE : 30.870075225830078\n",
      "Training with parameters: {'batch_size': 32, 'dropout_rate': 0.3, 'hidden_layers': 2, 'hidden_units': 128, 'learning_rate': 0.001}\n"
     ]
    },
    {
     "name": "stderr",
     "output_type": "stream",
     "text": [
      "2024-03-11 19:23:50.636277: I tensorflow/core/grappler/optimizers/custom_graph_optimizer_registry.cc:114] Plugin optimizer for device_type GPU is enabled.\n",
      "2024-03-11 19:23:52.520056: I tensorflow/core/grappler/optimizers/custom_graph_optimizer_registry.cc:114] Plugin optimizer for device_type GPU is enabled.\n",
      "/Library/Frameworks/Python.framework/Versions/3.11/lib/python3.11/site-packages/keras/src/engine/training.py:3000: UserWarning: You are saving your model as an HDF5 file via `model.save()`. This file format is considered legacy. We recommend using instead the native Keras format, e.g. `model.save('my_model.keras')`.\n",
      "  saving_api.save_model(\n"
     ]
    },
    {
     "name": "stdout",
     "output_type": "stream",
     "text": [
      "Epoch 78: early stopping\n",
      "Validation MAE : 84388.0078125\n",
      "Validation MSE : 207.59764099121094\n",
      "Training with parameters: {'batch_size': 32, 'dropout_rate': 0.3, 'hidden_layers': 2, 'hidden_units': 128, 'learning_rate': 0.01}\n"
     ]
    },
    {
     "name": "stderr",
     "output_type": "stream",
     "text": [
      "2024-03-11 19:24:17.725601: I tensorflow/core/grappler/optimizers/custom_graph_optimizer_registry.cc:114] Plugin optimizer for device_type GPU is enabled.\n",
      "2024-03-11 19:24:19.723414: I tensorflow/core/grappler/optimizers/custom_graph_optimizer_registry.cc:114] Plugin optimizer for device_type GPU is enabled.\n",
      "/Library/Frameworks/Python.framework/Versions/3.11/lib/python3.11/site-packages/keras/src/engine/training.py:3000: UserWarning: You are saving your model as an HDF5 file via `model.save()`. This file format is considered legacy. We recommend using instead the native Keras format, e.g. `model.save('my_model.keras')`.\n",
      "  saving_api.save_model(\n"
     ]
    },
    {
     "name": "stdout",
     "output_type": "stream",
     "text": [
      "Epoch 46: early stopping\n",
      "Validation MAE : 23154.490234375\n",
      "Validation MSE : 107.6912612915039\n",
      "Training with parameters: {'batch_size': 32, 'dropout_rate': 0.3, 'hidden_layers': 2, 'hidden_units': 128, 'learning_rate': 0.1}\n"
     ]
    },
    {
     "name": "stderr",
     "output_type": "stream",
     "text": [
      "2024-03-11 19:24:37.161609: I tensorflow/core/grappler/optimizers/custom_graph_optimizer_registry.cc:114] Plugin optimizer for device_type GPU is enabled.\n",
      "2024-03-11 19:24:39.776043: I tensorflow/core/grappler/optimizers/custom_graph_optimizer_registry.cc:114] Plugin optimizer for device_type GPU is enabled.\n",
      "/Library/Frameworks/Python.framework/Versions/3.11/lib/python3.11/site-packages/keras/src/engine/training.py:3000: UserWarning: You are saving your model as an HDF5 file via `model.save()`. This file format is considered legacy. We recommend using instead the native Keras format, e.g. `model.save('my_model.keras')`.\n",
      "  saving_api.save_model(\n"
     ]
    },
    {
     "name": "stdout",
     "output_type": "stream",
     "text": [
      "Epoch 21: early stopping\n",
      "Validation MAE : 1124668288.0\n",
      "Validation MSE : 23706.5546875\n",
      "Training with parameters: {'batch_size': 32, 'dropout_rate': 0.3, 'hidden_layers': 2, 'hidden_units': 64, 'learning_rate': 0.001}\n"
     ]
    },
    {
     "name": "stderr",
     "output_type": "stream",
     "text": [
      "2024-03-11 19:24:47.305644: I tensorflow/core/grappler/optimizers/custom_graph_optimizer_registry.cc:114] Plugin optimizer for device_type GPU is enabled.\n",
      "2024-03-11 19:24:49.096739: I tensorflow/core/grappler/optimizers/custom_graph_optimizer_registry.cc:114] Plugin optimizer for device_type GPU is enabled.\n",
      "/Library/Frameworks/Python.framework/Versions/3.11/lib/python3.11/site-packages/keras/src/engine/training.py:3000: UserWarning: You are saving your model as an HDF5 file via `model.save()`. This file format is considered legacy. We recommend using instead the native Keras format, e.g. `model.save('my_model.keras')`.\n",
      "  saving_api.save_model(\n"
     ]
    },
    {
     "name": "stdout",
     "output_type": "stream",
     "text": [
      "Epoch 64: early stopping\n",
      "Validation MAE : 25509.302734375\n",
      "Validation MSE : 90.65367889404297\n",
      "Training with parameters: {'batch_size': 32, 'dropout_rate': 0.3, 'hidden_layers': 2, 'hidden_units': 64, 'learning_rate': 0.01}\n"
     ]
    },
    {
     "name": "stderr",
     "output_type": "stream",
     "text": [
      "2024-03-11 19:25:08.649478: I tensorflow/core/grappler/optimizers/custom_graph_optimizer_registry.cc:114] Plugin optimizer for device_type GPU is enabled.\n",
      "2024-03-11 19:25:10.436522: I tensorflow/core/grappler/optimizers/custom_graph_optimizer_registry.cc:114] Plugin optimizer for device_type GPU is enabled.\n",
      "/Library/Frameworks/Python.framework/Versions/3.11/lib/python3.11/site-packages/keras/src/engine/training.py:3000: UserWarning: You are saving your model as an HDF5 file via `model.save()`. This file format is considered legacy. We recommend using instead the native Keras format, e.g. `model.save('my_model.keras')`.\n",
      "  saving_api.save_model(\n"
     ]
    },
    {
     "name": "stdout",
     "output_type": "stream",
     "text": [
      "Epoch 36: early stopping\n",
      "Validation MAE : 7342.55029296875\n",
      "Validation MSE : 50.10987854003906\n",
      "Training with parameters: {'batch_size': 32, 'dropout_rate': 0.3, 'hidden_layers': 2, 'hidden_units': 64, 'learning_rate': 0.1}\n"
     ]
    },
    {
     "name": "stderr",
     "output_type": "stream",
     "text": [
      "2024-03-11 19:25:21.833212: I tensorflow/core/grappler/optimizers/custom_graph_optimizer_registry.cc:114] Plugin optimizer for device_type GPU is enabled.\n",
      "2024-03-11 19:25:23.520680: I tensorflow/core/grappler/optimizers/custom_graph_optimizer_registry.cc:114] Plugin optimizer for device_type GPU is enabled.\n",
      "/Library/Frameworks/Python.framework/Versions/3.11/lib/python3.11/site-packages/keras/src/engine/training.py:3000: UserWarning: You are saving your model as an HDF5 file via `model.save()`. This file format is considered legacy. We recommend using instead the native Keras format, e.g. `model.save('my_model.keras')`.\n",
      "  saving_api.save_model(\n"
     ]
    },
    {
     "name": "stdout",
     "output_type": "stream",
     "text": [
      "Epoch 25: early stopping\n",
      "Validation MAE : 3178817.5\n",
      "Validation MSE : 1394.9453125\n",
      "Training with parameters: {'batch_size': 32, 'dropout_rate': 0.3, 'hidden_layers': 2, 'hidden_units': 32, 'learning_rate': 0.001}\n"
     ]
    },
    {
     "name": "stderr",
     "output_type": "stream",
     "text": [
      "2024-03-11 19:25:31.652581: I tensorflow/core/grappler/optimizers/custom_graph_optimizer_registry.cc:114] Plugin optimizer for device_type GPU is enabled.\n",
      "2024-03-11 19:25:33.436384: I tensorflow/core/grappler/optimizers/custom_graph_optimizer_registry.cc:114] Plugin optimizer for device_type GPU is enabled.\n",
      "/Library/Frameworks/Python.framework/Versions/3.11/lib/python3.11/site-packages/keras/src/engine/training.py:3000: UserWarning: You are saving your model as an HDF5 file via `model.save()`. This file format is considered legacy. We recommend using instead the native Keras format, e.g. `model.save('my_model.keras')`.\n",
      "  saving_api.save_model(\n"
     ]
    },
    {
     "name": "stdout",
     "output_type": "stream",
     "text": [
      "Epoch 159: early stopping\n",
      "Validation MAE : 17615.51171875\n",
      "Validation MSE : 61.87061309814453\n",
      "Training with parameters: {'batch_size': 32, 'dropout_rate': 0.3, 'hidden_layers': 2, 'hidden_units': 32, 'learning_rate': 0.01}\n"
     ]
    },
    {
     "name": "stderr",
     "output_type": "stream",
     "text": [
      "2024-03-11 19:26:20.166837: I tensorflow/core/grappler/optimizers/custom_graph_optimizer_registry.cc:114] Plugin optimizer for device_type GPU is enabled.\n",
      "2024-03-11 19:26:21.967487: I tensorflow/core/grappler/optimizers/custom_graph_optimizer_registry.cc:114] Plugin optimizer for device_type GPU is enabled.\n",
      "/Library/Frameworks/Python.framework/Versions/3.11/lib/python3.11/site-packages/keras/src/engine/training.py:3000: UserWarning: You are saving your model as an HDF5 file via `model.save()`. This file format is considered legacy. We recommend using instead the native Keras format, e.g. `model.save('my_model.keras')`.\n",
      "  saving_api.save_model(\n"
     ]
    },
    {
     "name": "stdout",
     "output_type": "stream",
     "text": [
      "Epoch 62: early stopping\n",
      "Validation MAE : 14630.140625\n",
      "Validation MSE : 63.08774948120117\n",
      "Training with parameters: {'batch_size': 32, 'dropout_rate': 0.3, 'hidden_layers': 2, 'hidden_units': 32, 'learning_rate': 0.1}\n"
     ]
    },
    {
     "name": "stderr",
     "output_type": "stream",
     "text": [
      "2024-03-11 19:26:42.416593: I tensorflow/core/grappler/optimizers/custom_graph_optimizer_registry.cc:114] Plugin optimizer for device_type GPU is enabled.\n",
      "2024-03-11 19:26:44.292701: I tensorflow/core/grappler/optimizers/custom_graph_optimizer_registry.cc:114] Plugin optimizer for device_type GPU is enabled.\n",
      "/Library/Frameworks/Python.framework/Versions/3.11/lib/python3.11/site-packages/keras/src/engine/training.py:3000: UserWarning: You are saving your model as an HDF5 file via `model.save()`. This file format is considered legacy. We recommend using instead the native Keras format, e.g. `model.save('my_model.keras')`.\n",
      "  saving_api.save_model(\n"
     ]
    },
    {
     "name": "stdout",
     "output_type": "stream",
     "text": [
      "Epoch 30: early stopping\n",
      "Validation MAE : 10747.4541015625\n",
      "Validation MSE : 77.93187713623047\n",
      "Training with parameters: {'batch_size': 32, 'dropout_rate': 0.3, 'hidden_layers': 3, 'hidden_units': 128, 'learning_rate': 0.001}\n"
     ]
    },
    {
     "name": "stderr",
     "output_type": "stream",
     "text": [
      "2024-03-11 19:26:54.653988: I tensorflow/core/grappler/optimizers/custom_graph_optimizer_registry.cc:114] Plugin optimizer for device_type GPU is enabled.\n",
      "2024-03-11 19:26:56.774524: I tensorflow/core/grappler/optimizers/custom_graph_optimizer_registry.cc:114] Plugin optimizer for device_type GPU is enabled.\n",
      "/Library/Frameworks/Python.framework/Versions/3.11/lib/python3.11/site-packages/keras/src/engine/training.py:3000: UserWarning: You are saving your model as an HDF5 file via `model.save()`. This file format is considered legacy. We recommend using instead the native Keras format, e.g. `model.save('my_model.keras')`.\n",
      "  saving_api.save_model(\n"
     ]
    },
    {
     "name": "stdout",
     "output_type": "stream",
     "text": [
      "Epoch 22: early stopping\n",
      "Validation MAE : 29874092.0\n",
      "Validation MSE : 4228.900390625\n",
      "Training with parameters: {'batch_size': 32, 'dropout_rate': 0.3, 'hidden_layers': 3, 'hidden_units': 128, 'learning_rate': 0.01}\n"
     ]
    },
    {
     "name": "stderr",
     "output_type": "stream",
     "text": [
      "2024-03-11 19:27:05.434646: I tensorflow/core/grappler/optimizers/custom_graph_optimizer_registry.cc:114] Plugin optimizer for device_type GPU is enabled.\n",
      "2024-03-11 19:27:07.603988: I tensorflow/core/grappler/optimizers/custom_graph_optimizer_registry.cc:114] Plugin optimizer for device_type GPU is enabled.\n",
      "/Library/Frameworks/Python.framework/Versions/3.11/lib/python3.11/site-packages/keras/src/engine/training.py:3000: UserWarning: You are saving your model as an HDF5 file via `model.save()`. This file format is considered legacy. We recommend using instead the native Keras format, e.g. `model.save('my_model.keras')`.\n",
      "  saving_api.save_model(\n"
     ]
    },
    {
     "name": "stdout",
     "output_type": "stream",
     "text": [
      "Epoch 75: early stopping\n",
      "Validation MAE : 153492.625\n",
      "Validation MSE : 260.96197509765625\n",
      "Training with parameters: {'batch_size': 32, 'dropout_rate': 0.3, 'hidden_layers': 3, 'hidden_units': 128, 'learning_rate': 0.1}\n"
     ]
    },
    {
     "name": "stderr",
     "output_type": "stream",
     "text": [
      "2024-03-11 19:27:33.352734: I tensorflow/core/grappler/optimizers/custom_graph_optimizer_registry.cc:114] Plugin optimizer for device_type GPU is enabled.\n",
      "2024-03-11 19:27:35.479675: I tensorflow/core/grappler/optimizers/custom_graph_optimizer_registry.cc:114] Plugin optimizer for device_type GPU is enabled.\n",
      "/Library/Frameworks/Python.framework/Versions/3.11/lib/python3.11/site-packages/keras/src/engine/training.py:3000: UserWarning: You are saving your model as an HDF5 file via `model.save()`. This file format is considered legacy. We recommend using instead the native Keras format, e.g. `model.save('my_model.keras')`.\n",
      "  saving_api.save_model(\n"
     ]
    },
    {
     "name": "stdout",
     "output_type": "stream",
     "text": [
      "Epoch 21: early stopping\n",
      "Validation MAE : 477347060908032.0\n",
      "Validation MSE : 17696826.0\n",
      "Training with parameters: {'batch_size': 32, 'dropout_rate': 0.3, 'hidden_layers': 3, 'hidden_units': 64, 'learning_rate': 0.001}\n"
     ]
    },
    {
     "name": "stderr",
     "output_type": "stream",
     "text": [
      "2024-03-11 19:27:43.745083: I tensorflow/core/grappler/optimizers/custom_graph_optimizer_registry.cc:114] Plugin optimizer for device_type GPU is enabled.\n",
      "2024-03-11 19:27:45.790311: I tensorflow/core/grappler/optimizers/custom_graph_optimizer_registry.cc:114] Plugin optimizer for device_type GPU is enabled.\n",
      "/Library/Frameworks/Python.framework/Versions/3.11/lib/python3.11/site-packages/keras/src/engine/training.py:3000: UserWarning: You are saving your model as an HDF5 file via `model.save()`. This file format is considered legacy. We recommend using instead the native Keras format, e.g. `model.save('my_model.keras')`.\n",
      "  saving_api.save_model(\n"
     ]
    },
    {
     "name": "stdout",
     "output_type": "stream",
     "text": [
      "Epoch 24: early stopping\n",
      "Validation MAE : 2068107.75\n",
      "Validation MSE : 1086.70703125\n",
      "Training with parameters: {'batch_size': 32, 'dropout_rate': 0.3, 'hidden_layers': 3, 'hidden_units': 64, 'learning_rate': 0.01}\n"
     ]
    },
    {
     "name": "stderr",
     "output_type": "stream",
     "text": [
      "2024-03-11 19:27:55.174642: I tensorflow/core/grappler/optimizers/custom_graph_optimizer_registry.cc:114] Plugin optimizer for device_type GPU is enabled.\n",
      "2024-03-11 19:27:57.409717: I tensorflow/core/grappler/optimizers/custom_graph_optimizer_registry.cc:114] Plugin optimizer for device_type GPU is enabled.\n",
      "/Library/Frameworks/Python.framework/Versions/3.11/lib/python3.11/site-packages/keras/src/engine/training.py:3000: UserWarning: You are saving your model as an HDF5 file via `model.save()`. This file format is considered legacy. We recommend using instead the native Keras format, e.g. `model.save('my_model.keras')`.\n",
      "  saving_api.save_model(\n"
     ]
    },
    {
     "name": "stdout",
     "output_type": "stream",
     "text": [
      "Epoch 28: early stopping\n",
      "Validation MAE : 15261.400390625\n",
      "Validation MSE : 77.74606323242188\n",
      "Training with parameters: {'batch_size': 32, 'dropout_rate': 0.3, 'hidden_layers': 3, 'hidden_units': 64, 'learning_rate': 0.1}\n"
     ]
    },
    {
     "name": "stderr",
     "output_type": "stream",
     "text": [
      "2024-03-11 19:28:08.037749: I tensorflow/core/grappler/optimizers/custom_graph_optimizer_registry.cc:114] Plugin optimizer for device_type GPU is enabled.\n",
      "2024-03-11 19:28:10.204419: I tensorflow/core/grappler/optimizers/custom_graph_optimizer_registry.cc:114] Plugin optimizer for device_type GPU is enabled.\n",
      "/Library/Frameworks/Python.framework/Versions/3.11/lib/python3.11/site-packages/keras/src/engine/training.py:3000: UserWarning: You are saving your model as an HDF5 file via `model.save()`. This file format is considered legacy. We recommend using instead the native Keras format, e.g. `model.save('my_model.keras')`.\n",
      "  saving_api.save_model(\n"
     ]
    },
    {
     "name": "stdout",
     "output_type": "stream",
     "text": [
      "Epoch 21: early stopping\n",
      "Validation MAE : 1191003553792.0\n",
      "Validation MSE : 856590.5625\n",
      "Training with parameters: {'batch_size': 32, 'dropout_rate': 0.3, 'hidden_layers': 3, 'hidden_units': 32, 'learning_rate': 0.001}\n"
     ]
    },
    {
     "name": "stderr",
     "output_type": "stream",
     "text": [
      "2024-03-11 19:28:18.671816: I tensorflow/core/grappler/optimizers/custom_graph_optimizer_registry.cc:114] Plugin optimizer for device_type GPU is enabled.\n",
      "2024-03-11 19:28:20.983245: I tensorflow/core/grappler/optimizers/custom_graph_optimizer_registry.cc:114] Plugin optimizer for device_type GPU is enabled.\n",
      "/Library/Frameworks/Python.framework/Versions/3.11/lib/python3.11/site-packages/keras/src/engine/training.py:3000: UserWarning: You are saving your model as an HDF5 file via `model.save()`. This file format is considered legacy. We recommend using instead the native Keras format, e.g. `model.save('my_model.keras')`.\n",
      "  saving_api.save_model(\n"
     ]
    },
    {
     "name": "stdout",
     "output_type": "stream",
     "text": [
      "Epoch 26: early stopping\n",
      "Validation MAE : 16787.166015625\n",
      "Validation MSE : 88.89788055419922\n",
      "Training with parameters: {'batch_size': 32, 'dropout_rate': 0.3, 'hidden_layers': 3, 'hidden_units': 32, 'learning_rate': 0.01}\n"
     ]
    },
    {
     "name": "stderr",
     "output_type": "stream",
     "text": [
      "2024-03-11 19:28:30.649158: I tensorflow/core/grappler/optimizers/custom_graph_optimizer_registry.cc:114] Plugin optimizer for device_type GPU is enabled.\n",
      "2024-03-11 19:28:32.758398: I tensorflow/core/grappler/optimizers/custom_graph_optimizer_registry.cc:114] Plugin optimizer for device_type GPU is enabled.\n",
      "/Library/Frameworks/Python.framework/Versions/3.11/lib/python3.11/site-packages/keras/src/engine/training.py:3000: UserWarning: You are saving your model as an HDF5 file via `model.save()`. This file format is considered legacy. We recommend using instead the native Keras format, e.g. `model.save('my_model.keras')`.\n",
      "  saving_api.save_model(\n"
     ]
    },
    {
     "name": "stdout",
     "output_type": "stream",
     "text": [
      "Epoch 21: early stopping\n",
      "Validation MAE : 5625782.5\n",
      "Validation MSE : 1452.285400390625\n",
      "Training with parameters: {'batch_size': 32, 'dropout_rate': 0.3, 'hidden_layers': 3, 'hidden_units': 32, 'learning_rate': 0.1}\n"
     ]
    },
    {
     "name": "stderr",
     "output_type": "stream",
     "text": [
      "2024-03-11 19:28:40.878104: I tensorflow/core/grappler/optimizers/custom_graph_optimizer_registry.cc:114] Plugin optimizer for device_type GPU is enabled.\n",
      "2024-03-11 19:28:43.024878: I tensorflow/core/grappler/optimizers/custom_graph_optimizer_registry.cc:114] Plugin optimizer for device_type GPU is enabled.\n",
      "/Library/Frameworks/Python.framework/Versions/3.11/lib/python3.11/site-packages/keras/src/engine/training.py:3000: UserWarning: You are saving your model as an HDF5 file via `model.save()`. This file format is considered legacy. We recommend using instead the native Keras format, e.g. `model.save('my_model.keras')`.\n",
      "  saving_api.save_model(\n"
     ]
    },
    {
     "name": "stdout",
     "output_type": "stream",
     "text": [
      "Epoch 31: early stopping\n",
      "Validation MAE : 9533703168.0\n",
      "Validation MSE : 77899.921875\n",
      "Training with parameters: {'batch_size': 16, 'dropout_rate': 0.1, 'hidden_layers': 1, 'hidden_units': 128, 'learning_rate': 0.001}\n"
     ]
    },
    {
     "name": "stderr",
     "output_type": "stream",
     "text": [
      "2024-03-11 19:28:54.330551: I tensorflow/core/grappler/optimizers/custom_graph_optimizer_registry.cc:114] Plugin optimizer for device_type GPU is enabled.\n",
      "2024-03-11 19:28:57.290357: I tensorflow/core/grappler/optimizers/custom_graph_optimizer_registry.cc:114] Plugin optimizer for device_type GPU is enabled.\n",
      "/Library/Frameworks/Python.framework/Versions/3.11/lib/python3.11/site-packages/keras/src/engine/training.py:3000: UserWarning: You are saving your model as an HDF5 file via `model.save()`. This file format is considered legacy. We recommend using instead the native Keras format, e.g. `model.save('my_model.keras')`.\n",
      "  saving_api.save_model(\n"
     ]
    },
    {
     "name": "stdout",
     "output_type": "stream",
     "text": [
      "Epoch 154: early stopping\n",
      "Validation MAE : 3769.0263671875\n",
      "Validation MSE : 44.18703079223633\n",
      "Training with parameters: {'batch_size': 16, 'dropout_rate': 0.1, 'hidden_layers': 1, 'hidden_units': 128, 'learning_rate': 0.01}\n"
     ]
    },
    {
     "name": "stderr",
     "output_type": "stream",
     "text": [
      "2024-03-11 19:30:12.000406: I tensorflow/core/grappler/optimizers/custom_graph_optimizer_registry.cc:114] Plugin optimizer for device_type GPU is enabled.\n",
      "2024-03-11 19:30:13.842216: I tensorflow/core/grappler/optimizers/custom_graph_optimizer_registry.cc:114] Plugin optimizer for device_type GPU is enabled.\n",
      "/Library/Frameworks/Python.framework/Versions/3.11/lib/python3.11/site-packages/keras/src/engine/training.py:3000: UserWarning: You are saving your model as an HDF5 file via `model.save()`. This file format is considered legacy. We recommend using instead the native Keras format, e.g. `model.save('my_model.keras')`.\n",
      "  saving_api.save_model(\n"
     ]
    },
    {
     "name": "stdout",
     "output_type": "stream",
     "text": [
      "Epoch 44: early stopping\n",
      "Validation MAE : 4527.69873046875\n",
      "Validation MSE : 49.84762954711914\n",
      "Training with parameters: {'batch_size': 16, 'dropout_rate': 0.1, 'hidden_layers': 1, 'hidden_units': 128, 'learning_rate': 0.1}\n"
     ]
    },
    {
     "name": "stderr",
     "output_type": "stream",
     "text": [
      "2024-03-11 19:30:35.824021: I tensorflow/core/grappler/optimizers/custom_graph_optimizer_registry.cc:114] Plugin optimizer for device_type GPU is enabled.\n",
      "2024-03-11 19:30:37.663732: I tensorflow/core/grappler/optimizers/custom_graph_optimizer_registry.cc:114] Plugin optimizer for device_type GPU is enabled.\n",
      "/Library/Frameworks/Python.framework/Versions/3.11/lib/python3.11/site-packages/keras/src/engine/training.py:3000: UserWarning: You are saving your model as an HDF5 file via `model.save()`. This file format is considered legacy. We recommend using instead the native Keras format, e.g. `model.save('my_model.keras')`.\n",
      "  saving_api.save_model(\n"
     ]
    },
    {
     "name": "stdout",
     "output_type": "stream",
     "text": [
      "Epoch 23: early stopping\n",
      "Validation MAE : 3368.5185546875\n",
      "Validation MSE : 41.140625\n",
      "Training with parameters: {'batch_size': 16, 'dropout_rate': 0.1, 'hidden_layers': 1, 'hidden_units': 64, 'learning_rate': 0.001}\n"
     ]
    },
    {
     "name": "stderr",
     "output_type": "stream",
     "text": [
      "2024-03-11 19:30:49.572253: I tensorflow/core/grappler/optimizers/custom_graph_optimizer_registry.cc:114] Plugin optimizer for device_type GPU is enabled.\n",
      "2024-03-11 19:30:51.590916: I tensorflow/core/grappler/optimizers/custom_graph_optimizer_registry.cc:114] Plugin optimizer for device_type GPU is enabled.\n",
      "/Library/Frameworks/Python.framework/Versions/3.11/lib/python3.11/site-packages/keras/src/engine/training.py:3000: UserWarning: You are saving your model as an HDF5 file via `model.save()`. This file format is considered legacy. We recommend using instead the native Keras format, e.g. `model.save('my_model.keras')`.\n",
      "  saving_api.save_model(\n"
     ]
    },
    {
     "name": "stdout",
     "output_type": "stream",
     "text": [
      "Epoch 209: early stopping\n",
      "Validation MAE : 34269.07421875\n",
      "Validation MSE : 99.5440902709961\n",
      "Training with parameters: {'batch_size': 16, 'dropout_rate': 0.1, 'hidden_layers': 1, 'hidden_units': 64, 'learning_rate': 0.01}\n"
     ]
    },
    {
     "name": "stderr",
     "output_type": "stream",
     "text": [
      "2024-03-11 19:32:31.334485: I tensorflow/core/grappler/optimizers/custom_graph_optimizer_registry.cc:114] Plugin optimizer for device_type GPU is enabled.\n",
      "2024-03-11 19:32:33.124670: I tensorflow/core/grappler/optimizers/custom_graph_optimizer_registry.cc:114] Plugin optimizer for device_type GPU is enabled.\n",
      "/Library/Frameworks/Python.framework/Versions/3.11/lib/python3.11/site-packages/keras/src/engine/training.py:3000: UserWarning: You are saving your model as an HDF5 file via `model.save()`. This file format is considered legacy. We recommend using instead the native Keras format, e.g. `model.save('my_model.keras')`.\n",
      "  saving_api.save_model(\n"
     ]
    },
    {
     "name": "stdout",
     "output_type": "stream",
     "text": [
      "Epoch 64: early stopping\n",
      "Validation MAE : 2089.293212890625\n",
      "Validation MSE : 27.435653686523438\n",
      "Training with parameters: {'batch_size': 16, 'dropout_rate': 0.1, 'hidden_layers': 1, 'hidden_units': 64, 'learning_rate': 0.1}\n"
     ]
    },
    {
     "name": "stderr",
     "output_type": "stream",
     "text": [
      "2024-03-11 19:33:03.849099: I tensorflow/core/grappler/optimizers/custom_graph_optimizer_registry.cc:114] Plugin optimizer for device_type GPU is enabled.\n",
      "2024-03-11 19:33:05.644351: I tensorflow/core/grappler/optimizers/custom_graph_optimizer_registry.cc:114] Plugin optimizer for device_type GPU is enabled.\n",
      "/Library/Frameworks/Python.framework/Versions/3.11/lib/python3.11/site-packages/keras/src/engine/training.py:3000: UserWarning: You are saving your model as an HDF5 file via `model.save()`. This file format is considered legacy. We recommend using instead the native Keras format, e.g. `model.save('my_model.keras')`.\n",
      "  saving_api.save_model(\n"
     ]
    },
    {
     "name": "stdout",
     "output_type": "stream",
     "text": [
      "Epoch 35: early stopping\n",
      "Validation MAE : 191.48455810546875\n",
      "Validation MSE : 9.850584983825684\n",
      "Training with parameters: {'batch_size': 16, 'dropout_rate': 0.1, 'hidden_layers': 1, 'hidden_units': 32, 'learning_rate': 0.001}\n"
     ]
    },
    {
     "name": "stderr",
     "output_type": "stream",
     "text": [
      "2024-03-11 19:33:23.314993: I tensorflow/core/grappler/optimizers/custom_graph_optimizer_registry.cc:114] Plugin optimizer for device_type GPU is enabled.\n",
      "2024-03-11 19:33:25.473876: I tensorflow/core/grappler/optimizers/custom_graph_optimizer_registry.cc:114] Plugin optimizer for device_type GPU is enabled.\n",
      "/Library/Frameworks/Python.framework/Versions/3.11/lib/python3.11/site-packages/keras/src/engine/training.py:3000: UserWarning: You are saving your model as an HDF5 file via `model.save()`. This file format is considered legacy. We recommend using instead the native Keras format, e.g. `model.save('my_model.keras')`.\n",
      "  saving_api.save_model(\n"
     ]
    },
    {
     "name": "stdout",
     "output_type": "stream",
     "text": [
      "Epoch 212: early stopping\n",
      "Validation MAE : 274.1380310058594\n",
      "Validation MSE : 8.361749649047852\n",
      "Training with parameters: {'batch_size': 16, 'dropout_rate': 0.1, 'hidden_layers': 1, 'hidden_units': 32, 'learning_rate': 0.01}\n"
     ]
    },
    {
     "name": "stderr",
     "output_type": "stream",
     "text": [
      "2024-03-11 19:35:13.715636: I tensorflow/core/grappler/optimizers/custom_graph_optimizer_registry.cc:114] Plugin optimizer for device_type GPU is enabled.\n",
      "2024-03-11 19:35:15.596589: I tensorflow/core/grappler/optimizers/custom_graph_optimizer_registry.cc:114] Plugin optimizer for device_type GPU is enabled.\n",
      "/Library/Frameworks/Python.framework/Versions/3.11/lib/python3.11/site-packages/keras/src/engine/training.py:3000: UserWarning: You are saving your model as an HDF5 file via `model.save()`. This file format is considered legacy. We recommend using instead the native Keras format, e.g. `model.save('my_model.keras')`.\n",
      "  saving_api.save_model(\n"
     ]
    },
    {
     "name": "stdout",
     "output_type": "stream",
     "text": [
      "Epoch 64: early stopping\n",
      "Validation MAE : 1517.3787841796875\n",
      "Validation MSE : 20.17106056213379\n",
      "Training with parameters: {'batch_size': 16, 'dropout_rate': 0.1, 'hidden_layers': 1, 'hidden_units': 32, 'learning_rate': 0.1}\n"
     ]
    },
    {
     "name": "stderr",
     "output_type": "stream",
     "text": [
      "2024-03-11 19:35:47.749404: I tensorflow/core/grappler/optimizers/custom_graph_optimizer_registry.cc:114] Plugin optimizer for device_type GPU is enabled.\n",
      "2024-03-11 19:35:49.590548: I tensorflow/core/grappler/optimizers/custom_graph_optimizer_registry.cc:114] Plugin optimizer for device_type GPU is enabled.\n",
      "/Library/Frameworks/Python.framework/Versions/3.11/lib/python3.11/site-packages/keras/src/engine/training.py:3000: UserWarning: You are saving your model as an HDF5 file via `model.save()`. This file format is considered legacy. We recommend using instead the native Keras format, e.g. `model.save('my_model.keras')`.\n",
      "  saving_api.save_model(\n"
     ]
    },
    {
     "name": "stdout",
     "output_type": "stream",
     "text": [
      "Epoch 54: early stopping\n",
      "Validation MAE : 10333.455078125\n",
      "Validation MSE : 78.41761016845703\n",
      "Training with parameters: {'batch_size': 16, 'dropout_rate': 0.1, 'hidden_layers': 2, 'hidden_units': 128, 'learning_rate': 0.001}\n"
     ]
    },
    {
     "name": "stderr",
     "output_type": "stream",
     "text": [
      "2024-03-11 19:36:16.079409: I tensorflow/core/grappler/optimizers/custom_graph_optimizer_registry.cc:114] Plugin optimizer for device_type GPU is enabled.\n",
      "2024-03-11 19:36:18.250180: I tensorflow/core/grappler/optimizers/custom_graph_optimizer_registry.cc:114] Plugin optimizer for device_type GPU is enabled.\n",
      "/Library/Frameworks/Python.framework/Versions/3.11/lib/python3.11/site-packages/keras/src/engine/training.py:3000: UserWarning: You are saving your model as an HDF5 file via `model.save()`. This file format is considered legacy. We recommend using instead the native Keras format, e.g. `model.save('my_model.keras')`.\n",
      "  saving_api.save_model(\n"
     ]
    },
    {
     "name": "stdout",
     "output_type": "stream",
     "text": [
      "Epoch 48: early stopping\n",
      "Validation MAE : 166682.90625\n",
      "Validation MSE : 252.958740234375\n",
      "Training with parameters: {'batch_size': 16, 'dropout_rate': 0.1, 'hidden_layers': 2, 'hidden_units': 128, 'learning_rate': 0.01}\n"
     ]
    },
    {
     "name": "stderr",
     "output_type": "stream",
     "text": [
      "2024-03-11 19:36:45.624496: I tensorflow/core/grappler/optimizers/custom_graph_optimizer_registry.cc:114] Plugin optimizer for device_type GPU is enabled.\n",
      "2024-03-11 19:36:48.080415: I tensorflow/core/grappler/optimizers/custom_graph_optimizer_registry.cc:114] Plugin optimizer for device_type GPU is enabled.\n",
      "/Library/Frameworks/Python.framework/Versions/3.11/lib/python3.11/site-packages/keras/src/engine/training.py:3000: UserWarning: You are saving your model as an HDF5 file via `model.save()`. This file format is considered legacy. We recommend using instead the native Keras format, e.g. `model.save('my_model.keras')`.\n",
      "  saving_api.save_model(\n"
     ]
    },
    {
     "name": "stdout",
     "output_type": "stream",
     "text": [
      "Epoch 38: early stopping\n",
      "Validation MAE : 1447.892578125\n",
      "Validation MSE : 28.97817039489746\n",
      "Training with parameters: {'batch_size': 16, 'dropout_rate': 0.1, 'hidden_layers': 2, 'hidden_units': 128, 'learning_rate': 0.1}\n"
     ]
    },
    {
     "name": "stderr",
     "output_type": "stream",
     "text": [
      "2024-03-11 19:37:09.701521: I tensorflow/core/grappler/optimizers/custom_graph_optimizer_registry.cc:114] Plugin optimizer for device_type GPU is enabled.\n",
      "2024-03-11 19:37:12.157430: I tensorflow/core/grappler/optimizers/custom_graph_optimizer_registry.cc:114] Plugin optimizer for device_type GPU is enabled.\n",
      "/Library/Frameworks/Python.framework/Versions/3.11/lib/python3.11/site-packages/keras/src/engine/training.py:3000: UserWarning: You are saving your model as an HDF5 file via `model.save()`. This file format is considered legacy. We recommend using instead the native Keras format, e.g. `model.save('my_model.keras')`.\n",
      "  saving_api.save_model(\n"
     ]
    },
    {
     "name": "stdout",
     "output_type": "stream",
     "text": [
      "Epoch 49: early stopping\n",
      "Validation MAE : 154111.609375\n",
      "Validation MSE : 283.5399169921875\n",
      "Training with parameters: {'batch_size': 16, 'dropout_rate': 0.1, 'hidden_layers': 2, 'hidden_units': 64, 'learning_rate': 0.001}\n"
     ]
    },
    {
     "name": "stderr",
     "output_type": "stream",
     "text": [
      "2024-03-11 19:37:39.174511: I tensorflow/core/grappler/optimizers/custom_graph_optimizer_registry.cc:114] Plugin optimizer for device_type GPU is enabled.\n",
      "2024-03-11 19:37:41.734150: I tensorflow/core/grappler/optimizers/custom_graph_optimizer_registry.cc:114] Plugin optimizer for device_type GPU is enabled.\n",
      "/Library/Frameworks/Python.framework/Versions/3.11/lib/python3.11/site-packages/keras/src/engine/training.py:3000: UserWarning: You are saving your model as an HDF5 file via `model.save()`. This file format is considered legacy. We recommend using instead the native Keras format, e.g. `model.save('my_model.keras')`.\n",
      "  saving_api.save_model(\n"
     ]
    },
    {
     "name": "stdout",
     "output_type": "stream",
     "text": [
      "Epoch 45: early stopping\n",
      "Validation MAE : 272718.90625\n",
      "Validation MSE : 386.478271484375\n",
      "Training with parameters: {'batch_size': 16, 'dropout_rate': 0.1, 'hidden_layers': 2, 'hidden_units': 64, 'learning_rate': 0.01}\n"
     ]
    },
    {
     "name": "stderr",
     "output_type": "stream",
     "text": [
      "2024-03-11 19:38:05.916218: I tensorflow/core/grappler/optimizers/custom_graph_optimizer_registry.cc:114] Plugin optimizer for device_type GPU is enabled.\n",
      "2024-03-11 19:38:08.886626: I tensorflow/core/grappler/optimizers/custom_graph_optimizer_registry.cc:114] Plugin optimizer for device_type GPU is enabled.\n",
      "/Library/Frameworks/Python.framework/Versions/3.11/lib/python3.11/site-packages/keras/src/engine/training.py:3000: UserWarning: You are saving your model as an HDF5 file via `model.save()`. This file format is considered legacy. We recommend using instead the native Keras format, e.g. `model.save('my_model.keras')`.\n",
      "  saving_api.save_model(\n"
     ]
    },
    {
     "name": "stdout",
     "output_type": "stream",
     "text": [
      "Epoch 41: early stopping\n",
      "Validation MAE : 21010.00390625\n",
      "Validation MSE : 98.69412994384766\n",
      "Training with parameters: {'batch_size': 16, 'dropout_rate': 0.1, 'hidden_layers': 2, 'hidden_units': 64, 'learning_rate': 0.1}\n"
     ]
    },
    {
     "name": "stderr",
     "output_type": "stream",
     "text": [
      "2024-03-11 19:38:32.714289: I tensorflow/core/grappler/optimizers/custom_graph_optimizer_registry.cc:114] Plugin optimizer for device_type GPU is enabled.\n",
      "2024-03-11 19:38:38.132373: I tensorflow/core/grappler/optimizers/custom_graph_optimizer_registry.cc:114] Plugin optimizer for device_type GPU is enabled.\n",
      "/Library/Frameworks/Python.framework/Versions/3.11/lib/python3.11/site-packages/keras/src/engine/training.py:3000: UserWarning: You are saving your model as an HDF5 file via `model.save()`. This file format is considered legacy. We recommend using instead the native Keras format, e.g. `model.save('my_model.keras')`.\n",
      "  saving_api.save_model(\n"
     ]
    },
    {
     "name": "stdout",
     "output_type": "stream",
     "text": [
      "Epoch 29: early stopping\n",
      "Validation MAE : 12018454.0\n",
      "Validation MSE : 3000.86181640625\n",
      "Training with parameters: {'batch_size': 16, 'dropout_rate': 0.1, 'hidden_layers': 2, 'hidden_units': 32, 'learning_rate': 0.001}\n"
     ]
    },
    {
     "name": "stderr",
     "output_type": "stream",
     "text": [
      "2024-03-11 19:38:55.176128: I tensorflow/core/grappler/optimizers/custom_graph_optimizer_registry.cc:114] Plugin optimizer for device_type GPU is enabled.\n",
      "2024-03-11 19:38:57.806687: I tensorflow/core/grappler/optimizers/custom_graph_optimizer_registry.cc:114] Plugin optimizer for device_type GPU is enabled.\n",
      "/Library/Frameworks/Python.framework/Versions/3.11/lib/python3.11/site-packages/keras/src/engine/training.py:3000: UserWarning: You are saving your model as an HDF5 file via `model.save()`. This file format is considered legacy. We recommend using instead the native Keras format, e.g. `model.save('my_model.keras')`.\n",
      "  saving_api.save_model(\n"
     ]
    },
    {
     "name": "stdout",
     "output_type": "stream",
     "text": [
      "Epoch 114: early stopping\n",
      "Validation MAE : 23457.712890625\n",
      "Validation MSE : 88.03174591064453\n",
      "Training with parameters: {'batch_size': 16, 'dropout_rate': 0.1, 'hidden_layers': 2, 'hidden_units': 32, 'learning_rate': 0.01}\n"
     ]
    },
    {
     "name": "stderr",
     "output_type": "stream",
     "text": [
      "2024-03-11 19:40:02.035145: I tensorflow/core/grappler/optimizers/custom_graph_optimizer_registry.cc:114] Plugin optimizer for device_type GPU is enabled.\n",
      "2024-03-11 19:40:04.575841: I tensorflow/core/grappler/optimizers/custom_graph_optimizer_registry.cc:114] Plugin optimizer for device_type GPU is enabled.\n",
      "/Library/Frameworks/Python.framework/Versions/3.11/lib/python3.11/site-packages/keras/src/engine/training.py:3000: UserWarning: You are saving your model as an HDF5 file via `model.save()`. This file format is considered legacy. We recommend using instead the native Keras format, e.g. `model.save('my_model.keras')`.\n",
      "  saving_api.save_model(\n"
     ]
    },
    {
     "name": "stdout",
     "output_type": "stream",
     "text": [
      "Epoch 30: early stopping\n",
      "Validation MAE : 558.6267700195312\n",
      "Validation MSE : 14.964944839477539\n",
      "Training with parameters: {'batch_size': 16, 'dropout_rate': 0.1, 'hidden_layers': 2, 'hidden_units': 32, 'learning_rate': 0.1}\n"
     ]
    },
    {
     "name": "stderr",
     "output_type": "stream",
     "text": [
      "2024-03-11 19:40:21.445923: I tensorflow/core/grappler/optimizers/custom_graph_optimizer_registry.cc:114] Plugin optimizer for device_type GPU is enabled.\n",
      "2024-03-11 19:40:24.552797: I tensorflow/core/grappler/optimizers/custom_graph_optimizer_registry.cc:114] Plugin optimizer for device_type GPU is enabled.\n",
      "/Library/Frameworks/Python.framework/Versions/3.11/lib/python3.11/site-packages/keras/src/engine/training.py:3000: UserWarning: You are saving your model as an HDF5 file via `model.save()`. This file format is considered legacy. We recommend using instead the native Keras format, e.g. `model.save('my_model.keras')`.\n",
      "  saving_api.save_model(\n"
     ]
    },
    {
     "name": "stdout",
     "output_type": "stream",
     "text": [
      "Epoch 31: early stopping\n",
      "Validation MAE : 1146836.25\n",
      "Validation MSE : 896.6924438476562\n",
      "Training with parameters: {'batch_size': 16, 'dropout_rate': 0.1, 'hidden_layers': 3, 'hidden_units': 128, 'learning_rate': 0.001}\n"
     ]
    },
    {
     "name": "stderr",
     "output_type": "stream",
     "text": [
      "2024-03-11 19:40:43.140172: I tensorflow/core/grappler/optimizers/custom_graph_optimizer_registry.cc:114] Plugin optimizer for device_type GPU is enabled.\n",
      "2024-03-11 19:40:47.313326: I tensorflow/core/grappler/optimizers/custom_graph_optimizer_registry.cc:114] Plugin optimizer for device_type GPU is enabled.\n",
      "/Library/Frameworks/Python.framework/Versions/3.11/lib/python3.11/site-packages/keras/src/engine/training.py:3000: UserWarning: You are saving your model as an HDF5 file via `model.save()`. This file format is considered legacy. We recommend using instead the native Keras format, e.g. `model.save('my_model.keras')`.\n",
      "  saving_api.save_model(\n"
     ]
    },
    {
     "name": "stdout",
     "output_type": "stream",
     "text": [
      "Epoch 21: early stopping\n",
      "Validation MAE : 5832543.0\n",
      "Validation MSE : 1734.16943359375\n",
      "Training with parameters: {'batch_size': 16, 'dropout_rate': 0.1, 'hidden_layers': 3, 'hidden_units': 128, 'learning_rate': 0.01}\n"
     ]
    },
    {
     "name": "stderr",
     "output_type": "stream",
     "text": [
      "2024-03-11 19:41:02.334354: I tensorflow/core/grappler/optimizers/custom_graph_optimizer_registry.cc:114] Plugin optimizer for device_type GPU is enabled.\n",
      "2024-03-11 19:41:05.237782: I tensorflow/core/grappler/optimizers/custom_graph_optimizer_registry.cc:114] Plugin optimizer for device_type GPU is enabled.\n",
      "/Library/Frameworks/Python.framework/Versions/3.11/lib/python3.11/site-packages/keras/src/engine/training.py:3000: UserWarning: You are saving your model as an HDF5 file via `model.save()`. This file format is considered legacy. We recommend using instead the native Keras format, e.g. `model.save('my_model.keras')`.\n",
      "  saving_api.save_model(\n"
     ]
    },
    {
     "name": "stdout",
     "output_type": "stream",
     "text": [
      "Epoch 37: early stopping\n",
      "Validation MAE : 1905458.875\n",
      "Validation MSE : 1023.9059448242188\n",
      "Training with parameters: {'batch_size': 16, 'dropout_rate': 0.1, 'hidden_layers': 3, 'hidden_units': 128, 'learning_rate': 0.1}\n"
     ]
    },
    {
     "name": "stderr",
     "output_type": "stream",
     "text": [
      "2024-03-11 19:41:29.452659: I tensorflow/core/grappler/optimizers/custom_graph_optimizer_registry.cc:114] Plugin optimizer for device_type GPU is enabled.\n",
      "2024-03-11 19:41:32.457769: I tensorflow/core/grappler/optimizers/custom_graph_optimizer_registry.cc:114] Plugin optimizer for device_type GPU is enabled.\n",
      "/Library/Frameworks/Python.framework/Versions/3.11/lib/python3.11/site-packages/keras/src/engine/training.py:3000: UserWarning: You are saving your model as an HDF5 file via `model.save()`. This file format is considered legacy. We recommend using instead the native Keras format, e.g. `model.save('my_model.keras')`.\n",
      "  saving_api.save_model(\n"
     ]
    },
    {
     "name": "stdout",
     "output_type": "stream",
     "text": [
      "Epoch 21: early stopping\n",
      "Validation MAE : 68205548666880.0\n",
      "Validation MSE : 5048706.0\n",
      "Training with parameters: {'batch_size': 16, 'dropout_rate': 0.1, 'hidden_layers': 3, 'hidden_units': 64, 'learning_rate': 0.001}\n"
     ]
    },
    {
     "name": "stderr",
     "output_type": "stream",
     "text": [
      "2024-03-11 19:41:46.747089: I tensorflow/core/grappler/optimizers/custom_graph_optimizer_registry.cc:114] Plugin optimizer for device_type GPU is enabled.\n",
      "2024-03-11 19:41:49.942278: I tensorflow/core/grappler/optimizers/custom_graph_optimizer_registry.cc:114] Plugin optimizer for device_type GPU is enabled.\n",
      "/Library/Frameworks/Python.framework/Versions/3.11/lib/python3.11/site-packages/keras/src/engine/training.py:3000: UserWarning: You are saving your model as an HDF5 file via `model.save()`. This file format is considered legacy. We recommend using instead the native Keras format, e.g. `model.save('my_model.keras')`.\n",
      "  saving_api.save_model(\n"
     ]
    },
    {
     "name": "stdout",
     "output_type": "stream",
     "text": [
      "Epoch 22: early stopping\n",
      "Validation MAE : 5459167.5\n",
      "Validation MSE : 1635.4012451171875\n",
      "Training with parameters: {'batch_size': 16, 'dropout_rate': 0.1, 'hidden_layers': 3, 'hidden_units': 64, 'learning_rate': 0.01}\n"
     ]
    },
    {
     "name": "stderr",
     "output_type": "stream",
     "text": [
      "2024-03-11 19:42:04.425044: I tensorflow/core/grappler/optimizers/custom_graph_optimizer_registry.cc:114] Plugin optimizer for device_type GPU is enabled.\n",
      "2024-03-11 19:42:07.763183: I tensorflow/core/grappler/optimizers/custom_graph_optimizer_registry.cc:114] Plugin optimizer for device_type GPU is enabled.\n",
      "/Library/Frameworks/Python.framework/Versions/3.11/lib/python3.11/site-packages/keras/src/engine/training.py:3000: UserWarning: You are saving your model as an HDF5 file via `model.save()`. This file format is considered legacy. We recommend using instead the native Keras format, e.g. `model.save('my_model.keras')`.\n",
      "  saving_api.save_model(\n"
     ]
    },
    {
     "name": "stdout",
     "output_type": "stream",
     "text": [
      "Epoch 49: early stopping\n",
      "Validation MAE : 4814685.5\n",
      "Validation MSE : 1701.5494384765625\n",
      "Training with parameters: {'batch_size': 16, 'dropout_rate': 0.1, 'hidden_layers': 3, 'hidden_units': 64, 'learning_rate': 0.1}\n"
     ]
    },
    {
     "name": "stderr",
     "output_type": "stream",
     "text": [
      "2024-03-11 19:42:39.138510: I tensorflow/core/grappler/optimizers/custom_graph_optimizer_registry.cc:114] Plugin optimizer for device_type GPU is enabled.\n",
      "2024-03-11 19:42:42.114449: I tensorflow/core/grappler/optimizers/custom_graph_optimizer_registry.cc:114] Plugin optimizer for device_type GPU is enabled.\n",
      "/Library/Frameworks/Python.framework/Versions/3.11/lib/python3.11/site-packages/keras/src/engine/training.py:3000: UserWarning: You are saving your model as an HDF5 file via `model.save()`. This file format is considered legacy. We recommend using instead the native Keras format, e.g. `model.save('my_model.keras')`.\n",
      "  saving_api.save_model(\n"
     ]
    },
    {
     "name": "stdout",
     "output_type": "stream",
     "text": [
      "Epoch 21: early stopping\n",
      "Validation MAE : 485711904.0\n",
      "Validation MSE : 14950.0751953125\n",
      "Training with parameters: {'batch_size': 16, 'dropout_rate': 0.1, 'hidden_layers': 3, 'hidden_units': 32, 'learning_rate': 0.001}\n"
     ]
    },
    {
     "name": "stderr",
     "output_type": "stream",
     "text": [
      "2024-03-11 19:42:56.467645: I tensorflow/core/grappler/optimizers/custom_graph_optimizer_registry.cc:114] Plugin optimizer for device_type GPU is enabled.\n",
      "2024-03-11 19:43:00.330725: I tensorflow/core/grappler/optimizers/custom_graph_optimizer_registry.cc:114] Plugin optimizer for device_type GPU is enabled.\n",
      "/Library/Frameworks/Python.framework/Versions/3.11/lib/python3.11/site-packages/keras/src/engine/training.py:3000: UserWarning: You are saving your model as an HDF5 file via `model.save()`. This file format is considered legacy. We recommend using instead the native Keras format, e.g. `model.save('my_model.keras')`.\n",
      "  saving_api.save_model(\n"
     ]
    },
    {
     "name": "stdout",
     "output_type": "stream",
     "text": [
      "Epoch 23: early stopping\n",
      "Validation MAE : 1599080.375\n",
      "Validation MSE : 865.9523315429688\n",
      "Training with parameters: {'batch_size': 16, 'dropout_rate': 0.1, 'hidden_layers': 3, 'hidden_units': 32, 'learning_rate': 0.01}\n"
     ]
    },
    {
     "name": "stderr",
     "output_type": "stream",
     "text": [
      "2024-03-11 19:43:16.432673: I tensorflow/core/grappler/optimizers/custom_graph_optimizer_registry.cc:114] Plugin optimizer for device_type GPU is enabled.\n",
      "2024-03-11 19:43:19.218178: I tensorflow/core/grappler/optimizers/custom_graph_optimizer_registry.cc:114] Plugin optimizer for device_type GPU is enabled.\n",
      "/Library/Frameworks/Python.framework/Versions/3.11/lib/python3.11/site-packages/keras/src/engine/training.py:3000: UserWarning: You are saving your model as an HDF5 file via `model.save()`. This file format is considered legacy. We recommend using instead the native Keras format, e.g. `model.save('my_model.keras')`.\n",
      "  saving_api.save_model(\n"
     ]
    },
    {
     "name": "stdout",
     "output_type": "stream",
     "text": [
      "Epoch 34: early stopping\n",
      "Validation MAE : 17898.650390625\n",
      "Validation MSE : 89.68911743164062\n",
      "Training with parameters: {'batch_size': 16, 'dropout_rate': 0.1, 'hidden_layers': 3, 'hidden_units': 32, 'learning_rate': 0.1}\n"
     ]
    },
    {
     "name": "stderr",
     "output_type": "stream",
     "text": [
      "2024-03-11 19:43:41.287541: I tensorflow/core/grappler/optimizers/custom_graph_optimizer_registry.cc:114] Plugin optimizer for device_type GPU is enabled.\n",
      "2024-03-11 19:43:44.886572: I tensorflow/core/grappler/optimizers/custom_graph_optimizer_registry.cc:114] Plugin optimizer for device_type GPU is enabled.\n",
      "/Library/Frameworks/Python.framework/Versions/3.11/lib/python3.11/site-packages/keras/src/engine/training.py:3000: UserWarning: You are saving your model as an HDF5 file via `model.save()`. This file format is considered legacy. We recommend using instead the native Keras format, e.g. `model.save('my_model.keras')`.\n",
      "  saving_api.save_model(\n"
     ]
    },
    {
     "name": "stdout",
     "output_type": "stream",
     "text": [
      "Epoch 21: early stopping\n",
      "Validation MAE : 1048070.9375\n",
      "Validation MSE : 760.9525146484375\n",
      "Training with parameters: {'batch_size': 16, 'dropout_rate': 0.2, 'hidden_layers': 1, 'hidden_units': 128, 'learning_rate': 0.001}\n"
     ]
    },
    {
     "name": "stderr",
     "output_type": "stream",
     "text": [
      "2024-03-11 19:43:59.611278: I tensorflow/core/grappler/optimizers/custom_graph_optimizer_registry.cc:114] Plugin optimizer for device_type GPU is enabled.\n",
      "2024-03-11 19:44:02.125247: I tensorflow/core/grappler/optimizers/custom_graph_optimizer_registry.cc:114] Plugin optimizer for device_type GPU is enabled.\n",
      "/Library/Frameworks/Python.framework/Versions/3.11/lib/python3.11/site-packages/keras/src/engine/training.py:3000: UserWarning: You are saving your model as an HDF5 file via `model.save()`. This file format is considered legacy. We recommend using instead the native Keras format, e.g. `model.save('my_model.keras')`.\n",
      "  saving_api.save_model(\n"
     ]
    },
    {
     "name": "stdout",
     "output_type": "stream",
     "text": [
      "Epoch 142: early stopping\n",
      "Validation MAE : 1648.972900390625\n",
      "Validation MSE : 30.381006240844727\n",
      "Training with parameters: {'batch_size': 16, 'dropout_rate': 0.2, 'hidden_layers': 1, 'hidden_units': 128, 'learning_rate': 0.01}\n"
     ]
    },
    {
     "name": "stderr",
     "output_type": "stream",
     "text": [
      "2024-03-11 19:45:19.821760: I tensorflow/core/grappler/optimizers/custom_graph_optimizer_registry.cc:114] Plugin optimizer for device_type GPU is enabled.\n",
      "2024-03-11 19:45:22.864978: I tensorflow/core/grappler/optimizers/custom_graph_optimizer_registry.cc:114] Plugin optimizer for device_type GPU is enabled.\n",
      "/Library/Frameworks/Python.framework/Versions/3.11/lib/python3.11/site-packages/keras/src/engine/training.py:3000: UserWarning: You are saving your model as an HDF5 file via `model.save()`. This file format is considered legacy. We recommend using instead the native Keras format, e.g. `model.save('my_model.keras')`.\n",
      "  saving_api.save_model(\n"
     ]
    },
    {
     "name": "stdout",
     "output_type": "stream",
     "text": [
      "Epoch 29: early stopping\n",
      "Validation MAE : 5357.77294921875\n",
      "Validation MSE : 49.595069885253906\n",
      "Training with parameters: {'batch_size': 16, 'dropout_rate': 0.2, 'hidden_layers': 1, 'hidden_units': 128, 'learning_rate': 0.1}\n"
     ]
    },
    {
     "name": "stderr",
     "output_type": "stream",
     "text": [
      "2024-03-11 19:45:37.856926: I tensorflow/core/grappler/optimizers/custom_graph_optimizer_registry.cc:114] Plugin optimizer for device_type GPU is enabled.\n",
      "2024-03-11 19:45:40.487080: I tensorflow/core/grappler/optimizers/custom_graph_optimizer_registry.cc:114] Plugin optimizer for device_type GPU is enabled.\n",
      "/Library/Frameworks/Python.framework/Versions/3.11/lib/python3.11/site-packages/keras/src/engine/training.py:3000: UserWarning: You are saving your model as an HDF5 file via `model.save()`. This file format is considered legacy. We recommend using instead the native Keras format, e.g. `model.save('my_model.keras')`.\n",
      "  saving_api.save_model(\n"
     ]
    },
    {
     "name": "stdout",
     "output_type": "stream",
     "text": [
      "Epoch 25: early stopping\n",
      "Validation MAE : 10530.525390625\n",
      "Validation MSE : 64.84385681152344\n",
      "Training with parameters: {'batch_size': 16, 'dropout_rate': 0.2, 'hidden_layers': 1, 'hidden_units': 64, 'learning_rate': 0.001}\n"
     ]
    },
    {
     "name": "stderr",
     "output_type": "stream",
     "text": [
      "2024-03-11 19:45:53.204704: I tensorflow/core/grappler/optimizers/custom_graph_optimizer_registry.cc:114] Plugin optimizer for device_type GPU is enabled.\n",
      "2024-03-11 19:45:55.721842: I tensorflow/core/grappler/optimizers/custom_graph_optimizer_registry.cc:114] Plugin optimizer for device_type GPU is enabled.\n",
      "/Library/Frameworks/Python.framework/Versions/3.11/lib/python3.11/site-packages/keras/src/engine/training.py:3000: UserWarning: You are saving your model as an HDF5 file via `model.save()`. This file format is considered legacy. We recommend using instead the native Keras format, e.g. `model.save('my_model.keras')`.\n",
      "  saving_api.save_model(\n"
     ]
    },
    {
     "name": "stdout",
     "output_type": "stream",
     "text": [
      "Epoch 106: early stopping\n",
      "Validation MAE : 18534.125\n",
      "Validation MSE : 92.6530990600586\n",
      "Training with parameters: {'batch_size': 16, 'dropout_rate': 0.2, 'hidden_layers': 1, 'hidden_units': 64, 'learning_rate': 0.01}\n"
     ]
    },
    {
     "name": "stderr",
     "output_type": "stream",
     "text": [
      "2024-03-11 19:46:45.466531: I tensorflow/core/grappler/optimizers/custom_graph_optimizer_registry.cc:114] Plugin optimizer for device_type GPU is enabled.\n",
      "2024-03-11 19:46:47.948332: I tensorflow/core/grappler/optimizers/custom_graph_optimizer_registry.cc:114] Plugin optimizer for device_type GPU is enabled.\n",
      "/Library/Frameworks/Python.framework/Versions/3.11/lib/python3.11/site-packages/keras/src/engine/training.py:3000: UserWarning: You are saving your model as an HDF5 file via `model.save()`. This file format is considered legacy. We recommend using instead the native Keras format, e.g. `model.save('my_model.keras')`.\n",
      "  saving_api.save_model(\n"
     ]
    },
    {
     "name": "stdout",
     "output_type": "stream",
     "text": [
      "Epoch 40: early stopping\n",
      "Validation MAE : 3002.69189453125\n",
      "Validation MSE : 34.560333251953125\n",
      "Training with parameters: {'batch_size': 16, 'dropout_rate': 0.2, 'hidden_layers': 1, 'hidden_units': 64, 'learning_rate': 0.1}\n"
     ]
    },
    {
     "name": "stderr",
     "output_type": "stream",
     "text": [
      "2024-03-11 19:47:07.709527: I tensorflow/core/grappler/optimizers/custom_graph_optimizer_registry.cc:114] Plugin optimizer for device_type GPU is enabled.\n",
      "2024-03-11 19:47:10.504457: I tensorflow/core/grappler/optimizers/custom_graph_optimizer_registry.cc:114] Plugin optimizer for device_type GPU is enabled.\n",
      "/Library/Frameworks/Python.framework/Versions/3.11/lib/python3.11/site-packages/keras/src/engine/training.py:3000: UserWarning: You are saving your model as an HDF5 file via `model.save()`. This file format is considered legacy. We recommend using instead the native Keras format, e.g. `model.save('my_model.keras')`.\n",
      "  saving_api.save_model(\n"
     ]
    },
    {
     "name": "stdout",
     "output_type": "stream",
     "text": [
      "Epoch 24: early stopping\n",
      "Validation MAE : 1768.9453125\n",
      "Validation MSE : 31.15762710571289\n",
      "Training with parameters: {'batch_size': 16, 'dropout_rate': 0.2, 'hidden_layers': 1, 'hidden_units': 32, 'learning_rate': 0.001}\n"
     ]
    },
    {
     "name": "stderr",
     "output_type": "stream",
     "text": [
      "2024-03-11 19:47:22.960909: I tensorflow/core/grappler/optimizers/custom_graph_optimizer_registry.cc:114] Plugin optimizer for device_type GPU is enabled.\n",
      "2024-03-11 19:47:25.680456: I tensorflow/core/grappler/optimizers/custom_graph_optimizer_registry.cc:114] Plugin optimizer for device_type GPU is enabled.\n",
      "/Library/Frameworks/Python.framework/Versions/3.11/lib/python3.11/site-packages/keras/src/engine/training.py:3000: UserWarning: You are saving your model as an HDF5 file via `model.save()`. This file format is considered legacy. We recommend using instead the native Keras format, e.g. `model.save('my_model.keras')`.\n",
      "  saving_api.save_model(\n"
     ]
    },
    {
     "name": "stdout",
     "output_type": "stream",
     "text": [
      "Epoch 139: early stopping\n",
      "Validation MAE : 586.4119262695312\n",
      "Validation MSE : 13.354686737060547\n",
      "Training with parameters: {'batch_size': 16, 'dropout_rate': 0.2, 'hidden_layers': 1, 'hidden_units': 32, 'learning_rate': 0.01}\n"
     ]
    },
    {
     "name": "stderr",
     "output_type": "stream",
     "text": [
      "2024-03-11 19:48:31.917436: I tensorflow/core/grappler/optimizers/custom_graph_optimizer_registry.cc:114] Plugin optimizer for device_type GPU is enabled.\n",
      "2024-03-11 19:48:34.852312: I tensorflow/core/grappler/optimizers/custom_graph_optimizer_registry.cc:114] Plugin optimizer for device_type GPU is enabled.\n",
      "/Library/Frameworks/Python.framework/Versions/3.11/lib/python3.11/site-packages/keras/src/engine/training.py:3000: UserWarning: You are saving your model as an HDF5 file via `model.save()`. This file format is considered legacy. We recommend using instead the native Keras format, e.g. `model.save('my_model.keras')`.\n",
      "  saving_api.save_model(\n"
     ]
    },
    {
     "name": "stdout",
     "output_type": "stream",
     "text": [
      "Epoch 114: early stopping\n",
      "Validation MAE : 1605.125244140625\n",
      "Validation MSE : 18.821640014648438\n",
      "Training with parameters: {'batch_size': 16, 'dropout_rate': 0.2, 'hidden_layers': 1, 'hidden_units': 32, 'learning_rate': 0.1}\n"
     ]
    },
    {
     "name": "stderr",
     "output_type": "stream",
     "text": [
      "2024-03-11 19:49:29.377430: I tensorflow/core/grappler/optimizers/custom_graph_optimizer_registry.cc:114] Plugin optimizer for device_type GPU is enabled.\n",
      "2024-03-11 19:49:32.101739: I tensorflow/core/grappler/optimizers/custom_graph_optimizer_registry.cc:114] Plugin optimizer for device_type GPU is enabled.\n",
      "/Library/Frameworks/Python.framework/Versions/3.11/lib/python3.11/site-packages/keras/src/engine/training.py:3000: UserWarning: You are saving your model as an HDF5 file via `model.save()`. This file format is considered legacy. We recommend using instead the native Keras format, e.g. `model.save('my_model.keras')`.\n",
      "  saving_api.save_model(\n"
     ]
    },
    {
     "name": "stdout",
     "output_type": "stream",
     "text": [
      "Epoch 26: early stopping\n",
      "Validation MAE : 1314.7591552734375\n",
      "Validation MSE : 22.454160690307617\n",
      "Training with parameters: {'batch_size': 16, 'dropout_rate': 0.2, 'hidden_layers': 2, 'hidden_units': 128, 'learning_rate': 0.001}\n"
     ]
    },
    {
     "name": "stderr",
     "output_type": "stream",
     "text": [
      "2024-03-11 19:49:45.512329: I tensorflow/core/grappler/optimizers/custom_graph_optimizer_registry.cc:114] Plugin optimizer for device_type GPU is enabled.\n",
      "2024-03-11 19:49:48.980968: I tensorflow/core/grappler/optimizers/custom_graph_optimizer_registry.cc:114] Plugin optimizer for device_type GPU is enabled.\n",
      "/Library/Frameworks/Python.framework/Versions/3.11/lib/python3.11/site-packages/keras/src/engine/training.py:3000: UserWarning: You are saving your model as an HDF5 file via `model.save()`. This file format is considered legacy. We recommend using instead the native Keras format, e.g. `model.save('my_model.keras')`.\n",
      "  saving_api.save_model(\n"
     ]
    },
    {
     "name": "stdout",
     "output_type": "stream",
     "text": [
      "Epoch 64: early stopping\n",
      "Validation MAE : 1273273.375\n",
      "Validation MSE : 716.9945678710938\n",
      "Training with parameters: {'batch_size': 16, 'dropout_rate': 0.2, 'hidden_layers': 2, 'hidden_units': 128, 'learning_rate': 0.01}\n"
     ]
    },
    {
     "name": "stderr",
     "output_type": "stream",
     "text": [
      "2024-03-11 19:50:23.489819: I tensorflow/core/grappler/optimizers/custom_graph_optimizer_registry.cc:114] Plugin optimizer for device_type GPU is enabled.\n",
      "2024-03-11 19:50:26.891367: I tensorflow/core/grappler/optimizers/custom_graph_optimizer_registry.cc:114] Plugin optimizer for device_type GPU is enabled.\n",
      "/Library/Frameworks/Python.framework/Versions/3.11/lib/python3.11/site-packages/keras/src/engine/training.py:3000: UserWarning: You are saving your model as an HDF5 file via `model.save()`. This file format is considered legacy. We recommend using instead the native Keras format, e.g. `model.save('my_model.keras')`.\n",
      "  saving_api.save_model(\n"
     ]
    },
    {
     "name": "stdout",
     "output_type": "stream",
     "text": [
      "Epoch 35: early stopping\n",
      "Validation MAE : 26359.326171875\n",
      "Validation MSE : 117.47657775878906\n",
      "Training with parameters: {'batch_size': 16, 'dropout_rate': 0.2, 'hidden_layers': 2, 'hidden_units': 128, 'learning_rate': 0.1}\n"
     ]
    },
    {
     "name": "stderr",
     "output_type": "stream",
     "text": [
      "2024-03-11 19:50:46.387375: I tensorflow/core/grappler/optimizers/custom_graph_optimizer_registry.cc:114] Plugin optimizer for device_type GPU is enabled.\n",
      "2024-03-11 19:50:49.696136: I tensorflow/core/grappler/optimizers/custom_graph_optimizer_registry.cc:114] Plugin optimizer for device_type GPU is enabled.\n",
      "/Library/Frameworks/Python.framework/Versions/3.11/lib/python3.11/site-packages/keras/src/engine/training.py:3000: UserWarning: You are saving your model as an HDF5 file via `model.save()`. This file format is considered legacy. We recommend using instead the native Keras format, e.g. `model.save('my_model.keras')`.\n",
      "  saving_api.save_model(\n"
     ]
    },
    {
     "name": "stdout",
     "output_type": "stream",
     "text": [
      "Epoch 56: early stopping\n",
      "Validation MAE : 966722.875\n",
      "Validation MSE : 711.1939697265625\n",
      "Training with parameters: {'batch_size': 16, 'dropout_rate': 0.2, 'hidden_layers': 2, 'hidden_units': 64, 'learning_rate': 0.001}\n"
     ]
    },
    {
     "name": "stderr",
     "output_type": "stream",
     "text": [
      "2024-03-11 19:51:23.523737: I tensorflow/core/grappler/optimizers/custom_graph_optimizer_registry.cc:114] Plugin optimizer for device_type GPU is enabled.\n",
      "2024-03-11 19:51:26.814411: I tensorflow/core/grappler/optimizers/custom_graph_optimizer_registry.cc:114] Plugin optimizer for device_type GPU is enabled.\n",
      "/Library/Frameworks/Python.framework/Versions/3.11/lib/python3.11/site-packages/keras/src/engine/training.py:3000: UserWarning: You are saving your model as an HDF5 file via `model.save()`. This file format is considered legacy. We recommend using instead the native Keras format, e.g. `model.save('my_model.keras')`.\n",
      "  saving_api.save_model(\n"
     ]
    },
    {
     "name": "stdout",
     "output_type": "stream",
     "text": [
      "Epoch 44: early stopping\n",
      "Validation MAE : 298885.1875\n",
      "Validation MSE : 385.66839599609375\n",
      "Training with parameters: {'batch_size': 16, 'dropout_rate': 0.2, 'hidden_layers': 2, 'hidden_units': 64, 'learning_rate': 0.01}\n"
     ]
    },
    {
     "name": "stderr",
     "output_type": "stream",
     "text": [
      "2024-03-11 19:51:52.546092: I tensorflow/core/grappler/optimizers/custom_graph_optimizer_registry.cc:114] Plugin optimizer for device_type GPU is enabled.\n",
      "2024-03-11 19:51:55.686052: I tensorflow/core/grappler/optimizers/custom_graph_optimizer_registry.cc:114] Plugin optimizer for device_type GPU is enabled.\n",
      "/Library/Frameworks/Python.framework/Versions/3.11/lib/python3.11/site-packages/keras/src/engine/training.py:3000: UserWarning: You are saving your model as an HDF5 file via `model.save()`. This file format is considered legacy. We recommend using instead the native Keras format, e.g. `model.save('my_model.keras')`.\n",
      "  saving_api.save_model(\n"
     ]
    },
    {
     "name": "stdout",
     "output_type": "stream",
     "text": [
      "Epoch 34: early stopping\n",
      "Validation MAE : 1992.620849609375\n",
      "Validation MSE : 31.812057495117188\n",
      "Training with parameters: {'batch_size': 16, 'dropout_rate': 0.2, 'hidden_layers': 2, 'hidden_units': 64, 'learning_rate': 0.1}\n"
     ]
    },
    {
     "name": "stderr",
     "output_type": "stream",
     "text": [
      "2024-03-11 19:52:15.379624: I tensorflow/core/grappler/optimizers/custom_graph_optimizer_registry.cc:114] Plugin optimizer for device_type GPU is enabled.\n",
      "2024-03-11 19:52:18.529694: I tensorflow/core/grappler/optimizers/custom_graph_optimizer_registry.cc:114] Plugin optimizer for device_type GPU is enabled.\n",
      "/Library/Frameworks/Python.framework/Versions/3.11/lib/python3.11/site-packages/keras/src/engine/training.py:3000: UserWarning: You are saving your model as an HDF5 file via `model.save()`. This file format is considered legacy. We recommend using instead the native Keras format, e.g. `model.save('my_model.keras')`.\n",
      "  saving_api.save_model(\n"
     ]
    },
    {
     "name": "stdout",
     "output_type": "stream",
     "text": [
      "Epoch 25: early stopping\n",
      "Validation MAE : 4335.6689453125\n",
      "Validation MSE : 55.571964263916016\n",
      "Training with parameters: {'batch_size': 16, 'dropout_rate': 0.2, 'hidden_layers': 2, 'hidden_units': 32, 'learning_rate': 0.001}\n"
     ]
    },
    {
     "name": "stderr",
     "output_type": "stream",
     "text": [
      "2024-03-11 19:52:32.917202: I tensorflow/core/grappler/optimizers/custom_graph_optimizer_registry.cc:114] Plugin optimizer for device_type GPU is enabled.\n",
      "2024-03-11 19:52:35.933696: I tensorflow/core/grappler/optimizers/custom_graph_optimizer_registry.cc:114] Plugin optimizer for device_type GPU is enabled.\n",
      "/Library/Frameworks/Python.framework/Versions/3.11/lib/python3.11/site-packages/keras/src/engine/training.py:3000: UserWarning: You are saving your model as an HDF5 file via `model.save()`. This file format is considered legacy. We recommend using instead the native Keras format, e.g. `model.save('my_model.keras')`.\n",
      "  saving_api.save_model(\n"
     ]
    },
    {
     "name": "stdout",
     "output_type": "stream",
     "text": [
      "Epoch 68: early stopping\n",
      "Validation MAE : 15333.181640625\n",
      "Validation MSE : 83.32328033447266\n",
      "Training with parameters: {'batch_size': 16, 'dropout_rate': 0.2, 'hidden_layers': 2, 'hidden_units': 32, 'learning_rate': 0.01}\n"
     ]
    },
    {
     "name": "stderr",
     "output_type": "stream",
     "text": [
      "2024-03-11 19:53:12.512447: I tensorflow/core/grappler/optimizers/custom_graph_optimizer_registry.cc:114] Plugin optimizer for device_type GPU is enabled.\n",
      "2024-03-11 19:53:15.912955: I tensorflow/core/grappler/optimizers/custom_graph_optimizer_registry.cc:114] Plugin optimizer for device_type GPU is enabled.\n",
      "/Library/Frameworks/Python.framework/Versions/3.11/lib/python3.11/site-packages/keras/src/engine/training.py:3000: UserWarning: You are saving your model as an HDF5 file via `model.save()`. This file format is considered legacy. We recommend using instead the native Keras format, e.g. `model.save('my_model.keras')`.\n",
      "  saving_api.save_model(\n"
     ]
    },
    {
     "name": "stdout",
     "output_type": "stream",
     "text": [
      "Epoch 26: early stopping\n",
      "Validation MAE : 53957.0859375\n",
      "Validation MSE : 153.03109741210938\n",
      "Training with parameters: {'batch_size': 16, 'dropout_rate': 0.2, 'hidden_layers': 2, 'hidden_units': 32, 'learning_rate': 0.1}\n"
     ]
    },
    {
     "name": "stderr",
     "output_type": "stream",
     "text": [
      "2024-03-11 19:53:31.921809: I tensorflow/core/grappler/optimizers/custom_graph_optimizer_registry.cc:114] Plugin optimizer for device_type GPU is enabled.\n",
      "2024-03-11 19:53:34.760334: I tensorflow/core/grappler/optimizers/custom_graph_optimizer_registry.cc:114] Plugin optimizer for device_type GPU is enabled.\n",
      "/Library/Frameworks/Python.framework/Versions/3.11/lib/python3.11/site-packages/keras/src/engine/training.py:3000: UserWarning: You are saving your model as an HDF5 file via `model.save()`. This file format is considered legacy. We recommend using instead the native Keras format, e.g. `model.save('my_model.keras')`.\n",
      "  saving_api.save_model(\n"
     ]
    },
    {
     "name": "stdout",
     "output_type": "stream",
     "text": [
      "Epoch 29: early stopping\n",
      "Validation MAE : 1198070.25\n",
      "Validation MSE : 777.2620849609375\n",
      "Training with parameters: {'batch_size': 16, 'dropout_rate': 0.2, 'hidden_layers': 3, 'hidden_units': 128, 'learning_rate': 0.001}\n"
     ]
    },
    {
     "name": "stderr",
     "output_type": "stream",
     "text": [
      "2024-03-11 19:53:52.150371: I tensorflow/core/grappler/optimizers/custom_graph_optimizer_registry.cc:114] Plugin optimizer for device_type GPU is enabled.\n",
      "2024-03-11 19:53:56.166764: I tensorflow/core/grappler/optimizers/custom_graph_optimizer_registry.cc:114] Plugin optimizer for device_type GPU is enabled.\n",
      "/Library/Frameworks/Python.framework/Versions/3.11/lib/python3.11/site-packages/keras/src/engine/training.py:3000: UserWarning: You are saving your model as an HDF5 file via `model.save()`. This file format is considered legacy. We recommend using instead the native Keras format, e.g. `model.save('my_model.keras')`.\n",
      "  saving_api.save_model(\n"
     ]
    },
    {
     "name": "stdout",
     "output_type": "stream",
     "text": [
      "Epoch 21: early stopping\n",
      "Validation MAE : 551149312.0\n",
      "Validation MSE : 18101.09375\n",
      "Training with parameters: {'batch_size': 16, 'dropout_rate': 0.2, 'hidden_layers': 3, 'hidden_units': 128, 'learning_rate': 0.01}\n"
     ]
    },
    {
     "name": "stderr",
     "output_type": "stream",
     "text": [
      "2024-03-11 19:54:11.052127: I tensorflow/core/grappler/optimizers/custom_graph_optimizer_registry.cc:114] Plugin optimizer for device_type GPU is enabled.\n",
      "2024-03-11 19:54:14.938365: I tensorflow/core/grappler/optimizers/custom_graph_optimizer_registry.cc:114] Plugin optimizer for device_type GPU is enabled.\n",
      "/Library/Frameworks/Python.framework/Versions/3.11/lib/python3.11/site-packages/keras/src/engine/training.py:3000: UserWarning: You are saving your model as an HDF5 file via `model.save()`. This file format is considered legacy. We recommend using instead the native Keras format, e.g. `model.save('my_model.keras')`.\n",
      "  saving_api.save_model(\n"
     ]
    },
    {
     "name": "stdout",
     "output_type": "stream",
     "text": [
      "Epoch 73: early stopping\n",
      "Validation MAE : 25272.255859375\n",
      "Validation MSE : 124.00167846679688\n",
      "Training with parameters: {'batch_size': 16, 'dropout_rate': 0.2, 'hidden_layers': 3, 'hidden_units': 128, 'learning_rate': 0.1}\n"
     ]
    },
    {
     "name": "stderr",
     "output_type": "stream",
     "text": [
      "2024-03-11 19:55:01.125660: I tensorflow/core/grappler/optimizers/custom_graph_optimizer_registry.cc:114] Plugin optimizer for device_type GPU is enabled.\n",
      "2024-03-11 19:55:05.147997: I tensorflow/core/grappler/optimizers/custom_graph_optimizer_registry.cc:114] Plugin optimizer for device_type GPU is enabled.\n",
      "/Library/Frameworks/Python.framework/Versions/3.11/lib/python3.11/site-packages/keras/src/engine/training.py:3000: UserWarning: You are saving your model as an HDF5 file via `model.save()`. This file format is considered legacy. We recommend using instead the native Keras format, e.g. `model.save('my_model.keras')`.\n",
      "  saving_api.save_model(\n"
     ]
    },
    {
     "name": "stdout",
     "output_type": "stream",
     "text": [
      "Epoch 21: early stopping\n",
      "Validation MAE : 629798435028992.0\n",
      "Validation MSE : 16007770.0\n",
      "Training with parameters: {'batch_size': 16, 'dropout_rate': 0.2, 'hidden_layers': 3, 'hidden_units': 64, 'learning_rate': 0.001}\n"
     ]
    },
    {
     "name": "stderr",
     "output_type": "stream",
     "text": [
      "2024-03-11 19:55:27.548511: I tensorflow/core/grappler/optimizers/custom_graph_optimizer_registry.cc:114] Plugin optimizer for device_type GPU is enabled.\n",
      "2024-03-11 19:55:32.733933: I tensorflow/core/grappler/optimizers/custom_graph_optimizer_registry.cc:114] Plugin optimizer for device_type GPU is enabled.\n",
      "/Library/Frameworks/Python.framework/Versions/3.11/lib/python3.11/site-packages/keras/src/engine/training.py:3000: UserWarning: You are saving your model as an HDF5 file via `model.save()`. This file format is considered legacy. We recommend using instead the native Keras format, e.g. `model.save('my_model.keras')`.\n",
      "  saving_api.save_model(\n"
     ]
    },
    {
     "name": "stdout",
     "output_type": "stream",
     "text": [
      "Epoch 22: early stopping\n",
      "Validation MAE : 36507720.0\n",
      "Validation MSE : 4555.0927734375\n",
      "Training with parameters: {'batch_size': 16, 'dropout_rate': 0.2, 'hidden_layers': 3, 'hidden_units': 64, 'learning_rate': 0.01}\n"
     ]
    },
    {
     "name": "stderr",
     "output_type": "stream",
     "text": [
      "2024-03-11 19:55:48.657223: I tensorflow/core/grappler/optimizers/custom_graph_optimizer_registry.cc:114] Plugin optimizer for device_type GPU is enabled.\n",
      "2024-03-11 19:55:52.516908: I tensorflow/core/grappler/optimizers/custom_graph_optimizer_registry.cc:114] Plugin optimizer for device_type GPU is enabled.\n",
      "/Library/Frameworks/Python.framework/Versions/3.11/lib/python3.11/site-packages/keras/src/engine/training.py:3000: UserWarning: You are saving your model as an HDF5 file via `model.save()`. This file format is considered legacy. We recommend using instead the native Keras format, e.g. `model.save('my_model.keras')`.\n",
      "  saving_api.save_model(\n"
     ]
    },
    {
     "name": "stdout",
     "output_type": "stream",
     "text": [
      "Epoch 21: early stopping\n",
      "Validation MAE : 26516790.0\n",
      "Validation MSE : 3615.37939453125\n",
      "Training with parameters: {'batch_size': 16, 'dropout_rate': 0.2, 'hidden_layers': 3, 'hidden_units': 64, 'learning_rate': 0.1}\n"
     ]
    },
    {
     "name": "stderr",
     "output_type": "stream",
     "text": [
      "2024-03-11 19:56:06.784121: I tensorflow/core/grappler/optimizers/custom_graph_optimizer_registry.cc:114] Plugin optimizer for device_type GPU is enabled.\n",
      "2024-03-11 19:56:10.329570: I tensorflow/core/grappler/optimizers/custom_graph_optimizer_registry.cc:114] Plugin optimizer for device_type GPU is enabled.\n",
      "/Library/Frameworks/Python.framework/Versions/3.11/lib/python3.11/site-packages/keras/src/engine/training.py:3000: UserWarning: You are saving your model as an HDF5 file via `model.save()`. This file format is considered legacy. We recommend using instead the native Keras format, e.g. `model.save('my_model.keras')`.\n",
      "  saving_api.save_model(\n"
     ]
    },
    {
     "name": "stdout",
     "output_type": "stream",
     "text": [
      "Epoch 21: early stopping\n",
      "Validation MAE : 5218342273024.0\n",
      "Validation MSE : 1761803.75\n",
      "Training with parameters: {'batch_size': 16, 'dropout_rate': 0.2, 'hidden_layers': 3, 'hidden_units': 32, 'learning_rate': 0.001}\n"
     ]
    },
    {
     "name": "stderr",
     "output_type": "stream",
     "text": [
      "2024-03-11 19:56:24.694641: I tensorflow/core/grappler/optimizers/custom_graph_optimizer_registry.cc:114] Plugin optimizer for device_type GPU is enabled.\n",
      "2024-03-11 19:56:28.242392: I tensorflow/core/grappler/optimizers/custom_graph_optimizer_registry.cc:114] Plugin optimizer for device_type GPU is enabled.\n",
      "/Library/Frameworks/Python.framework/Versions/3.11/lib/python3.11/site-packages/keras/src/engine/training.py:3000: UserWarning: You are saving your model as an HDF5 file via `model.save()`. This file format is considered legacy. We recommend using instead the native Keras format, e.g. `model.save('my_model.keras')`.\n",
      "  saving_api.save_model(\n"
     ]
    },
    {
     "name": "stdout",
     "output_type": "stream",
     "text": [
      "Epoch 50: early stopping\n",
      "Validation MAE : 5901852.0\n",
      "Validation MSE : 1806.4803466796875\n",
      "Training with parameters: {'batch_size': 16, 'dropout_rate': 0.2, 'hidden_layers': 3, 'hidden_units': 32, 'learning_rate': 0.01}\n"
     ]
    },
    {
     "name": "stderr",
     "output_type": "stream",
     "text": [
      "2024-03-11 19:56:59.584443: I tensorflow/core/grappler/optimizers/custom_graph_optimizer_registry.cc:114] Plugin optimizer for device_type GPU is enabled.\n",
      "2024-03-11 19:57:03.421934: I tensorflow/core/grappler/optimizers/custom_graph_optimizer_registry.cc:114] Plugin optimizer for device_type GPU is enabled.\n",
      "/Library/Frameworks/Python.framework/Versions/3.11/lib/python3.11/site-packages/keras/src/engine/training.py:3000: UserWarning: You are saving your model as an HDF5 file via `model.save()`. This file format is considered legacy. We recommend using instead the native Keras format, e.g. `model.save('my_model.keras')`.\n",
      "  saving_api.save_model(\n"
     ]
    },
    {
     "name": "stdout",
     "output_type": "stream",
     "text": [
      "Epoch 21: early stopping\n",
      "Validation MAE : 535386.0625\n",
      "Validation MSE : 526.188720703125\n",
      "Training with parameters: {'batch_size': 16, 'dropout_rate': 0.2, 'hidden_layers': 3, 'hidden_units': 32, 'learning_rate': 0.1}\n"
     ]
    },
    {
     "name": "stderr",
     "output_type": "stream",
     "text": [
      "2024-03-11 19:57:18.961600: I tensorflow/core/grappler/optimizers/custom_graph_optimizer_registry.cc:114] Plugin optimizer for device_type GPU is enabled.\n",
      "2024-03-11 19:57:23.059283: I tensorflow/core/grappler/optimizers/custom_graph_optimizer_registry.cc:114] Plugin optimizer for device_type GPU is enabled.\n",
      "/Library/Frameworks/Python.framework/Versions/3.11/lib/python3.11/site-packages/keras/src/engine/training.py:3000: UserWarning: You are saving your model as an HDF5 file via `model.save()`. This file format is considered legacy. We recommend using instead the native Keras format, e.g. `model.save('my_model.keras')`.\n",
      "  saving_api.save_model(\n"
     ]
    },
    {
     "name": "stdout",
     "output_type": "stream",
     "text": [
      "Epoch 26: early stopping\n",
      "Validation MAE : 976824448.0\n",
      "Validation MSE : 25656.00390625\n",
      "Training with parameters: {'batch_size': 16, 'dropout_rate': 0.3, 'hidden_layers': 1, 'hidden_units': 128, 'learning_rate': 0.001}\n"
     ]
    },
    {
     "name": "stderr",
     "output_type": "stream",
     "text": [
      "2024-03-11 19:57:40.247273: I tensorflow/core/grappler/optimizers/custom_graph_optimizer_registry.cc:114] Plugin optimizer for device_type GPU is enabled.\n",
      "2024-03-11 19:57:43.232857: I tensorflow/core/grappler/optimizers/custom_graph_optimizer_registry.cc:114] Plugin optimizer for device_type GPU is enabled.\n",
      "/Library/Frameworks/Python.framework/Versions/3.11/lib/python3.11/site-packages/keras/src/engine/training.py:3000: UserWarning: You are saving your model as an HDF5 file via `model.save()`. This file format is considered legacy. We recommend using instead the native Keras format, e.g. `model.save('my_model.keras')`.\n",
      "  saving_api.save_model(\n"
     ]
    },
    {
     "name": "stdout",
     "output_type": "stream",
     "text": [
      "Epoch 139: early stopping\n",
      "Validation MAE : 60747.30078125\n",
      "Validation MSE : 167.6853485107422\n",
      "Training with parameters: {'batch_size': 16, 'dropout_rate': 0.3, 'hidden_layers': 1, 'hidden_units': 128, 'learning_rate': 0.01}\n"
     ]
    },
    {
     "name": "stderr",
     "output_type": "stream",
     "text": [
      "2024-03-11 19:58:48.157194: I tensorflow/core/grappler/optimizers/custom_graph_optimizer_registry.cc:114] Plugin optimizer for device_type GPU is enabled.\n",
      "2024-03-11 19:58:51.145750: I tensorflow/core/grappler/optimizers/custom_graph_optimizer_registry.cc:114] Plugin optimizer for device_type GPU is enabled.\n",
      "/Library/Frameworks/Python.framework/Versions/3.11/lib/python3.11/site-packages/keras/src/engine/training.py:3000: UserWarning: You are saving your model as an HDF5 file via `model.save()`. This file format is considered legacy. We recommend using instead the native Keras format, e.g. `model.save('my_model.keras')`.\n",
      "  saving_api.save_model(\n"
     ]
    },
    {
     "name": "stdout",
     "output_type": "stream",
     "text": [
      "Epoch 31: early stopping\n",
      "Validation MAE : 1606.7127685546875\n",
      "Validation MSE : 29.744613647460938\n",
      "Training with parameters: {'batch_size': 16, 'dropout_rate': 0.3, 'hidden_layers': 1, 'hidden_units': 128, 'learning_rate': 0.1}\n"
     ]
    },
    {
     "name": "stderr",
     "output_type": "stream",
     "text": [
      "2024-03-11 19:59:06.896521: I tensorflow/core/grappler/optimizers/custom_graph_optimizer_registry.cc:114] Plugin optimizer for device_type GPU is enabled.\n",
      "2024-03-11 19:59:09.791300: I tensorflow/core/grappler/optimizers/custom_graph_optimizer_registry.cc:114] Plugin optimizer for device_type GPU is enabled.\n",
      "/Library/Frameworks/Python.framework/Versions/3.11/lib/python3.11/site-packages/keras/src/engine/training.py:3000: UserWarning: You are saving your model as an HDF5 file via `model.save()`. This file format is considered legacy. We recommend using instead the native Keras format, e.g. `model.save('my_model.keras')`.\n",
      "  saving_api.save_model(\n"
     ]
    },
    {
     "name": "stdout",
     "output_type": "stream",
     "text": [
      "Epoch 25: early stopping\n",
      "Validation MAE : 6084.79296875\n",
      "Validation MSE : 66.71086120605469\n",
      "Training with parameters: {'batch_size': 16, 'dropout_rate': 0.3, 'hidden_layers': 1, 'hidden_units': 64, 'learning_rate': 0.001}\n"
     ]
    },
    {
     "name": "stderr",
     "output_type": "stream",
     "text": [
      "2024-03-11 19:59:23.137755: I tensorflow/core/grappler/optimizers/custom_graph_optimizer_registry.cc:114] Plugin optimizer for device_type GPU is enabled.\n",
      "2024-03-11 19:59:26.018852: I tensorflow/core/grappler/optimizers/custom_graph_optimizer_registry.cc:114] Plugin optimizer for device_type GPU is enabled.\n",
      "/Library/Frameworks/Python.framework/Versions/3.11/lib/python3.11/site-packages/keras/src/engine/training.py:3000: UserWarning: You are saving your model as an HDF5 file via `model.save()`. This file format is considered legacy. We recommend using instead the native Keras format, e.g. `model.save('my_model.keras')`.\n",
      "  saving_api.save_model(\n"
     ]
    },
    {
     "name": "stdout",
     "output_type": "stream",
     "text": [
      "Epoch 152: early stopping\n",
      "Validation MAE : 741.4163208007812\n",
      "Validation MSE : 17.632524490356445\n",
      "Training with parameters: {'batch_size': 16, 'dropout_rate': 0.3, 'hidden_layers': 1, 'hidden_units': 64, 'learning_rate': 0.01}\n"
     ]
    },
    {
     "name": "stderr",
     "output_type": "stream",
     "text": [
      "2024-03-11 20:00:36.190814: I tensorflow/core/grappler/optimizers/custom_graph_optimizer_registry.cc:114] Plugin optimizer for device_type GPU is enabled.\n",
      "2024-03-11 20:00:39.066068: I tensorflow/core/grappler/optimizers/custom_graph_optimizer_registry.cc:114] Plugin optimizer for device_type GPU is enabled.\n",
      "/Library/Frameworks/Python.framework/Versions/3.11/lib/python3.11/site-packages/keras/src/engine/training.py:3000: UserWarning: You are saving your model as an HDF5 file via `model.save()`. This file format is considered legacy. We recommend using instead the native Keras format, e.g. `model.save('my_model.keras')`.\n",
      "  saving_api.save_model(\n"
     ]
    },
    {
     "name": "stdout",
     "output_type": "stream",
     "text": [
      "Epoch 55: early stopping\n",
      "Validation MAE : 427.4872741699219\n",
      "Validation MSE : 12.413904190063477\n",
      "Training with parameters: {'batch_size': 16, 'dropout_rate': 0.3, 'hidden_layers': 1, 'hidden_units': 64, 'learning_rate': 0.1}\n"
     ]
    },
    {
     "name": "stderr",
     "output_type": "stream",
     "text": [
      "2024-03-11 20:01:06.071979: I tensorflow/core/grappler/optimizers/custom_graph_optimizer_registry.cc:114] Plugin optimizer for device_type GPU is enabled.\n",
      "2024-03-11 20:01:09.039277: I tensorflow/core/grappler/optimizers/custom_graph_optimizer_registry.cc:114] Plugin optimizer for device_type GPU is enabled.\n",
      "/Library/Frameworks/Python.framework/Versions/3.11/lib/python3.11/site-packages/keras/src/engine/training.py:3000: UserWarning: You are saving your model as an HDF5 file via `model.save()`. This file format is considered legacy. We recommend using instead the native Keras format, e.g. `model.save('my_model.keras')`.\n",
      "  saving_api.save_model(\n"
     ]
    },
    {
     "name": "stdout",
     "output_type": "stream",
     "text": [
      "Epoch 23: early stopping\n",
      "Validation MAE : 2084.0615234375\n",
      "Validation MSE : 30.76270294189453\n",
      "Training with parameters: {'batch_size': 16, 'dropout_rate': 0.3, 'hidden_layers': 1, 'hidden_units': 32, 'learning_rate': 0.001}\n"
     ]
    },
    {
     "name": "stderr",
     "output_type": "stream",
     "text": [
      "2024-03-11 20:01:21.254454: I tensorflow/core/grappler/optimizers/custom_graph_optimizer_registry.cc:114] Plugin optimizer for device_type GPU is enabled.\n",
      "2024-03-11 20:01:24.167308: I tensorflow/core/grappler/optimizers/custom_graph_optimizer_registry.cc:114] Plugin optimizer for device_type GPU is enabled.\n",
      "/Library/Frameworks/Python.framework/Versions/3.11/lib/python3.11/site-packages/keras/src/engine/training.py:3000: UserWarning: You are saving your model as an HDF5 file via `model.save()`. This file format is considered legacy. We recommend using instead the native Keras format, e.g. `model.save('my_model.keras')`.\n",
      "  saving_api.save_model(\n"
     ]
    },
    {
     "name": "stdout",
     "output_type": "stream",
     "text": [
      "Epoch 268: early stopping\n",
      "Validation MAE : 1523.43017578125\n",
      "Validation MSE : 19.703882217407227\n",
      "Training with parameters: {'batch_size': 16, 'dropout_rate': 0.3, 'hidden_layers': 1, 'hidden_units': 32, 'learning_rate': 0.01}\n"
     ]
    },
    {
     "name": "stderr",
     "output_type": "stream",
     "text": [
      "2024-03-11 20:03:26.816825: I tensorflow/core/grappler/optimizers/custom_graph_optimizer_registry.cc:114] Plugin optimizer for device_type GPU is enabled.\n",
      "2024-03-11 20:03:29.870047: I tensorflow/core/grappler/optimizers/custom_graph_optimizer_registry.cc:114] Plugin optimizer for device_type GPU is enabled.\n",
      "/Library/Frameworks/Python.framework/Versions/3.11/lib/python3.11/site-packages/keras/src/engine/training.py:3000: UserWarning: You are saving your model as an HDF5 file via `model.save()`. This file format is considered legacy. We recommend using instead the native Keras format, e.g. `model.save('my_model.keras')`.\n",
      "  saving_api.save_model(\n"
     ]
    },
    {
     "name": "stdout",
     "output_type": "stream",
     "text": [
      "Epoch 47: early stopping\n",
      "Validation MAE : 35720.73046875\n",
      "Validation MSE : 92.05049133300781\n",
      "Training with parameters: {'batch_size': 16, 'dropout_rate': 0.3, 'hidden_layers': 1, 'hidden_units': 32, 'learning_rate': 0.1}\n"
     ]
    },
    {
     "name": "stderr",
     "output_type": "stream",
     "text": [
      "2024-03-11 20:03:52.771996: I tensorflow/core/grappler/optimizers/custom_graph_optimizer_registry.cc:114] Plugin optimizer for device_type GPU is enabled.\n",
      "2024-03-11 20:03:55.802948: I tensorflow/core/grappler/optimizers/custom_graph_optimizer_registry.cc:114] Plugin optimizer for device_type GPU is enabled.\n",
      "/Library/Frameworks/Python.framework/Versions/3.11/lib/python3.11/site-packages/keras/src/engine/training.py:3000: UserWarning: You are saving your model as an HDF5 file via `model.save()`. This file format is considered legacy. We recommend using instead the native Keras format, e.g. `model.save('my_model.keras')`.\n",
      "  saving_api.save_model(\n"
     ]
    },
    {
     "name": "stdout",
     "output_type": "stream",
     "text": [
      "Epoch 23: early stopping\n",
      "Validation MAE : 1149.9571533203125\n",
      "Validation MSE : 23.638578414916992\n",
      "Training with parameters: {'batch_size': 16, 'dropout_rate': 0.3, 'hidden_layers': 2, 'hidden_units': 128, 'learning_rate': 0.001}\n"
     ]
    },
    {
     "name": "stderr",
     "output_type": "stream",
     "text": [
      "2024-03-11 20:04:10.768711: I tensorflow/core/grappler/optimizers/custom_graph_optimizer_registry.cc:114] Plugin optimizer for device_type GPU is enabled.\n",
      "2024-03-11 20:04:14.635605: I tensorflow/core/grappler/optimizers/custom_graph_optimizer_registry.cc:114] Plugin optimizer for device_type GPU is enabled.\n",
      "/Library/Frameworks/Python.framework/Versions/3.11/lib/python3.11/site-packages/keras/src/engine/training.py:3000: UserWarning: You are saving your model as an HDF5 file via `model.save()`. This file format is considered legacy. We recommend using instead the native Keras format, e.g. `model.save('my_model.keras')`.\n",
      "  saving_api.save_model(\n"
     ]
    },
    {
     "name": "stdout",
     "output_type": "stream",
     "text": [
      "Epoch 78: early stopping\n",
      "Validation MAE : 629929.9375\n",
      "Validation MSE : 596.4006958007812\n",
      "Training with parameters: {'batch_size': 16, 'dropout_rate': 0.3, 'hidden_layers': 2, 'hidden_units': 128, 'learning_rate': 0.01}\n"
     ]
    },
    {
     "name": "stderr",
     "output_type": "stream",
     "text": [
      "2024-03-11 20:04:57.341217: I tensorflow/core/grappler/optimizers/custom_graph_optimizer_registry.cc:114] Plugin optimizer for device_type GPU is enabled.\n",
      "2024-03-11 20:05:00.688704: I tensorflow/core/grappler/optimizers/custom_graph_optimizer_registry.cc:114] Plugin optimizer for device_type GPU is enabled.\n",
      "/Library/Frameworks/Python.framework/Versions/3.11/lib/python3.11/site-packages/keras/src/engine/training.py:3000: UserWarning: You are saving your model as an HDF5 file via `model.save()`. This file format is considered legacy. We recommend using instead the native Keras format, e.g. `model.save('my_model.keras')`.\n",
      "  saving_api.save_model(\n"
     ]
    },
    {
     "name": "stdout",
     "output_type": "stream",
     "text": [
      "Epoch 39: early stopping\n",
      "Validation MAE : 36203.99609375\n",
      "Validation MSE : 129.4552764892578\n",
      "Training with parameters: {'batch_size': 16, 'dropout_rate': 0.3, 'hidden_layers': 2, 'hidden_units': 128, 'learning_rate': 0.1}\n"
     ]
    },
    {
     "name": "stderr",
     "output_type": "stream",
     "text": [
      "2024-03-11 20:05:23.083363: I tensorflow/core/grappler/optimizers/custom_graph_optimizer_registry.cc:114] Plugin optimizer for device_type GPU is enabled.\n",
      "2024-03-11 20:05:26.448821: I tensorflow/core/grappler/optimizers/custom_graph_optimizer_registry.cc:114] Plugin optimizer for device_type GPU is enabled.\n",
      "/Library/Frameworks/Python.framework/Versions/3.11/lib/python3.11/site-packages/keras/src/engine/training.py:3000: UserWarning: You are saving your model as an HDF5 file via `model.save()`. This file format is considered legacy. We recommend using instead the native Keras format, e.g. `model.save('my_model.keras')`.\n",
      "  saving_api.save_model(\n"
     ]
    },
    {
     "name": "stdout",
     "output_type": "stream",
     "text": [
      "Epoch 21: early stopping\n",
      "Validation MAE : 193470576.0\n",
      "Validation MSE : 10861.59375\n",
      "Training with parameters: {'batch_size': 16, 'dropout_rate': 0.3, 'hidden_layers': 2, 'hidden_units': 64, 'learning_rate': 0.001}\n"
     ]
    },
    {
     "name": "stderr",
     "output_type": "stream",
     "text": [
      "2024-03-11 20:05:39.121557: I tensorflow/core/grappler/optimizers/custom_graph_optimizer_registry.cc:114] Plugin optimizer for device_type GPU is enabled.\n",
      "2024-03-11 20:05:42.503462: I tensorflow/core/grappler/optimizers/custom_graph_optimizer_registry.cc:114] Plugin optimizer for device_type GPU is enabled.\n",
      "/Library/Frameworks/Python.framework/Versions/3.11/lib/python3.11/site-packages/keras/src/engine/training.py:3000: UserWarning: You are saving your model as an HDF5 file via `model.save()`. This file format is considered legacy. We recommend using instead the native Keras format, e.g. `model.save('my_model.keras')`.\n",
      "  saving_api.save_model(\n"
     ]
    },
    {
     "name": "stdout",
     "output_type": "stream",
     "text": [
      "Epoch 88: early stopping\n",
      "Validation MAE : 307483.5625\n",
      "Validation MSE : 357.0784912109375\n",
      "Training with parameters: {'batch_size': 16, 'dropout_rate': 0.3, 'hidden_layers': 2, 'hidden_units': 64, 'learning_rate': 0.01}\n"
     ]
    },
    {
     "name": "stderr",
     "output_type": "stream",
     "text": [
      "2024-03-11 20:06:30.258766: I tensorflow/core/grappler/optimizers/custom_graph_optimizer_registry.cc:114] Plugin optimizer for device_type GPU is enabled.\n",
      "2024-03-11 20:06:33.809986: I tensorflow/core/grappler/optimizers/custom_graph_optimizer_registry.cc:114] Plugin optimizer for device_type GPU is enabled.\n",
      "/Library/Frameworks/Python.framework/Versions/3.11/lib/python3.11/site-packages/keras/src/engine/training.py:3000: UserWarning: You are saving your model as an HDF5 file via `model.save()`. This file format is considered legacy. We recommend using instead the native Keras format, e.g. `model.save('my_model.keras')`.\n",
      "  saving_api.save_model(\n"
     ]
    },
    {
     "name": "stdout",
     "output_type": "stream",
     "text": [
      "Epoch 38: early stopping\n",
      "Validation MAE : 176152.5\n",
      "Validation MSE : 304.1099853515625\n",
      "Training with parameters: {'batch_size': 16, 'dropout_rate': 0.3, 'hidden_layers': 2, 'hidden_units': 64, 'learning_rate': 0.1}\n"
     ]
    },
    {
     "name": "stderr",
     "output_type": "stream",
     "text": [
      "2024-03-11 20:06:55.508586: I tensorflow/core/grappler/optimizers/custom_graph_optimizer_registry.cc:114] Plugin optimizer for device_type GPU is enabled.\n",
      "2024-03-11 20:06:59.244473: I tensorflow/core/grappler/optimizers/custom_graph_optimizer_registry.cc:114] Plugin optimizer for device_type GPU is enabled.\n",
      "/Library/Frameworks/Python.framework/Versions/3.11/lib/python3.11/site-packages/keras/src/engine/training.py:3000: UserWarning: You are saving your model as an HDF5 file via `model.save()`. This file format is considered legacy. We recommend using instead the native Keras format, e.g. `model.save('my_model.keras')`.\n",
      "  saving_api.save_model(\n"
     ]
    },
    {
     "name": "stdout",
     "output_type": "stream",
     "text": [
      "Epoch 33: early stopping\n",
      "Validation MAE : 2848542208.0\n",
      "Validation MSE : 41072.74609375\n",
      "Training with parameters: {'batch_size': 16, 'dropout_rate': 0.3, 'hidden_layers': 2, 'hidden_units': 32, 'learning_rate': 0.001}\n"
     ]
    },
    {
     "name": "stderr",
     "output_type": "stream",
     "text": [
      "2024-03-11 20:07:18.694187: I tensorflow/core/grappler/optimizers/custom_graph_optimizer_registry.cc:114] Plugin optimizer for device_type GPU is enabled.\n",
      "2024-03-11 20:07:22.340906: I tensorflow/core/grappler/optimizers/custom_graph_optimizer_registry.cc:114] Plugin optimizer for device_type GPU is enabled.\n",
      "/Library/Frameworks/Python.framework/Versions/3.11/lib/python3.11/site-packages/keras/src/engine/training.py:3000: UserWarning: You are saving your model as an HDF5 file via `model.save()`. This file format is considered legacy. We recommend using instead the native Keras format, e.g. `model.save('my_model.keras')`.\n",
      "  saving_api.save_model(\n"
     ]
    },
    {
     "name": "stdout",
     "output_type": "stream",
     "text": [
      "Epoch 74: early stopping\n",
      "Validation MAE : 373708.3125\n",
      "Validation MSE : 308.21051025390625\n",
      "Training with parameters: {'batch_size': 16, 'dropout_rate': 0.3, 'hidden_layers': 2, 'hidden_units': 32, 'learning_rate': 0.01}\n"
     ]
    },
    {
     "name": "stderr",
     "output_type": "stream",
     "text": [
      "2024-03-11 20:08:03.128150: I tensorflow/core/grappler/optimizers/custom_graph_optimizer_registry.cc:114] Plugin optimizer for device_type GPU is enabled.\n",
      "2024-03-11 20:08:06.708488: I tensorflow/core/grappler/optimizers/custom_graph_optimizer_registry.cc:114] Plugin optimizer for device_type GPU is enabled.\n",
      "/Library/Frameworks/Python.framework/Versions/3.11/lib/python3.11/site-packages/keras/src/engine/training.py:3000: UserWarning: You are saving your model as an HDF5 file via `model.save()`. This file format is considered legacy. We recommend using instead the native Keras format, e.g. `model.save('my_model.keras')`.\n",
      "  saving_api.save_model(\n"
     ]
    },
    {
     "name": "stdout",
     "output_type": "stream",
     "text": [
      "Epoch 28: early stopping\n",
      "Validation MAE : 5603.71484375\n",
      "Validation MSE : 46.331241607666016\n",
      "Training with parameters: {'batch_size': 16, 'dropout_rate': 0.3, 'hidden_layers': 2, 'hidden_units': 32, 'learning_rate': 0.1}\n"
     ]
    },
    {
     "name": "stderr",
     "output_type": "stream",
     "text": [
      "2024-03-11 20:08:23.253561: I tensorflow/core/grappler/optimizers/custom_graph_optimizer_registry.cc:114] Plugin optimizer for device_type GPU is enabled.\n",
      "2024-03-11 20:08:27.052020: I tensorflow/core/grappler/optimizers/custom_graph_optimizer_registry.cc:114] Plugin optimizer for device_type GPU is enabled.\n",
      "/Library/Frameworks/Python.framework/Versions/3.11/lib/python3.11/site-packages/keras/src/engine/training.py:3000: UserWarning: You are saving your model as an HDF5 file via `model.save()`. This file format is considered legacy. We recommend using instead the native Keras format, e.g. `model.save('my_model.keras')`.\n",
      "  saving_api.save_model(\n"
     ]
    },
    {
     "name": "stdout",
     "output_type": "stream",
     "text": [
      "Epoch 41: early stopping\n",
      "Validation MAE : 962482.6875\n",
      "Validation MSE : 932.293212890625\n",
      "Training with parameters: {'batch_size': 16, 'dropout_rate': 0.3, 'hidden_layers': 3, 'hidden_units': 128, 'learning_rate': 0.001}\n"
     ]
    },
    {
     "name": "stderr",
     "output_type": "stream",
     "text": [
      "2024-03-11 20:08:50.830575: I tensorflow/core/grappler/optimizers/custom_graph_optimizer_registry.cc:114] Plugin optimizer for device_type GPU is enabled.\n",
      "2024-03-11 20:08:55.764175: I tensorflow/core/grappler/optimizers/custom_graph_optimizer_registry.cc:114] Plugin optimizer for device_type GPU is enabled.\n",
      "/Library/Frameworks/Python.framework/Versions/3.11/lib/python3.11/site-packages/keras/src/engine/training.py:3000: UserWarning: You are saving your model as an HDF5 file via `model.save()`. This file format is considered legacy. We recommend using instead the native Keras format, e.g. `model.save('my_model.keras')`.\n",
      "  saving_api.save_model(\n"
     ]
    },
    {
     "name": "stdout",
     "output_type": "stream",
     "text": [
      "Epoch 21: early stopping\n",
      "Validation MAE : 195376448.0\n",
      "Validation MSE : 9238.6171875\n",
      "Training with parameters: {'batch_size': 16, 'dropout_rate': 0.3, 'hidden_layers': 3, 'hidden_units': 128, 'learning_rate': 0.01}\n"
     ]
    },
    {
     "name": "stderr",
     "output_type": "stream",
     "text": [
      "2024-03-11 20:09:10.990839: I tensorflow/core/grappler/optimizers/custom_graph_optimizer_registry.cc:114] Plugin optimizer for device_type GPU is enabled.\n",
      "2024-03-11 20:09:15.434641: I tensorflow/core/grappler/optimizers/custom_graph_optimizer_registry.cc:114] Plugin optimizer for device_type GPU is enabled.\n",
      "/Library/Frameworks/Python.framework/Versions/3.11/lib/python3.11/site-packages/keras/src/engine/training.py:3000: UserWarning: You are saving your model as an HDF5 file via `model.save()`. This file format is considered legacy. We recommend using instead the native Keras format, e.g. `model.save('my_model.keras')`.\n",
      "  saving_api.save_model(\n"
     ]
    },
    {
     "name": "stdout",
     "output_type": "stream",
     "text": [
      "Epoch 66: early stopping\n",
      "Validation MAE : 254739.046875\n",
      "Validation MSE : 382.54083251953125\n",
      "Training with parameters: {'batch_size': 16, 'dropout_rate': 0.3, 'hidden_layers': 3, 'hidden_units': 128, 'learning_rate': 0.1}\n"
     ]
    },
    {
     "name": "stderr",
     "output_type": "stream",
     "text": [
      "2024-03-11 20:09:59.629211: I tensorflow/core/grappler/optimizers/custom_graph_optimizer_registry.cc:114] Plugin optimizer for device_type GPU is enabled.\n",
      "2024-03-11 20:10:05.022941: I tensorflow/core/grappler/optimizers/custom_graph_optimizer_registry.cc:114] Plugin optimizer for device_type GPU is enabled.\n",
      "/Library/Frameworks/Python.framework/Versions/3.11/lib/python3.11/site-packages/keras/src/engine/training.py:3000: UserWarning: You are saving your model as an HDF5 file via `model.save()`. This file format is considered legacy. We recommend using instead the native Keras format, e.g. `model.save('my_model.keras')`.\n",
      "  saving_api.save_model(\n"
     ]
    },
    {
     "name": "stdout",
     "output_type": "stream",
     "text": [
      "Epoch 21: early stopping\n",
      "Validation MAE : 270688032129024.0\n",
      "Validation MSE : 12414483.0\n",
      "Training with parameters: {'batch_size': 16, 'dropout_rate': 0.3, 'hidden_layers': 3, 'hidden_units': 64, 'learning_rate': 0.001}\n"
     ]
    },
    {
     "name": "stderr",
     "output_type": "stream",
     "text": [
      "2024-03-11 20:10:21.798797: I tensorflow/core/grappler/optimizers/custom_graph_optimizer_registry.cc:114] Plugin optimizer for device_type GPU is enabled.\n",
      "2024-03-11 20:10:26.142031: I tensorflow/core/grappler/optimizers/custom_graph_optimizer_registry.cc:114] Plugin optimizer for device_type GPU is enabled.\n",
      "/Library/Frameworks/Python.framework/Versions/3.11/lib/python3.11/site-packages/keras/src/engine/training.py:3000: UserWarning: You are saving your model as an HDF5 file via `model.save()`. This file format is considered legacy. We recommend using instead the native Keras format, e.g. `model.save('my_model.keras')`.\n",
      "  saving_api.save_model(\n"
     ]
    },
    {
     "name": "stdout",
     "output_type": "stream",
     "text": [
      "Epoch 22: early stopping\n",
      "Validation MAE : 18648702.0\n",
      "Validation MSE : 2959.211669921875\n",
      "Training with parameters: {'batch_size': 16, 'dropout_rate': 0.3, 'hidden_layers': 3, 'hidden_units': 64, 'learning_rate': 0.01}\n"
     ]
    },
    {
     "name": "stderr",
     "output_type": "stream",
     "text": [
      "2024-03-11 20:10:42.070705: I tensorflow/core/grappler/optimizers/custom_graph_optimizer_registry.cc:114] Plugin optimizer for device_type GPU is enabled.\n",
      "2024-03-11 20:10:46.606181: I tensorflow/core/grappler/optimizers/custom_graph_optimizer_registry.cc:114] Plugin optimizer for device_type GPU is enabled.\n",
      "/Library/Frameworks/Python.framework/Versions/3.11/lib/python3.11/site-packages/keras/src/engine/training.py:3000: UserWarning: You are saving your model as an HDF5 file via `model.save()`. This file format is considered legacy. We recommend using instead the native Keras format, e.g. `model.save('my_model.keras')`.\n",
      "  saving_api.save_model(\n"
     ]
    },
    {
     "name": "stdout",
     "output_type": "stream",
     "text": [
      "Epoch 55: early stopping\n",
      "Validation MAE : 757139.5\n",
      "Validation MSE : 655.8931884765625\n",
      "Training with parameters: {'batch_size': 16, 'dropout_rate': 0.3, 'hidden_layers': 3, 'hidden_units': 64, 'learning_rate': 0.1}\n"
     ]
    },
    {
     "name": "stderr",
     "output_type": "stream",
     "text": [
      "2024-03-11 20:11:25.460220: I tensorflow/core/grappler/optimizers/custom_graph_optimizer_registry.cc:114] Plugin optimizer for device_type GPU is enabled.\n",
      "2024-03-11 20:11:30.374856: I tensorflow/core/grappler/optimizers/custom_graph_optimizer_registry.cc:114] Plugin optimizer for device_type GPU is enabled.\n",
      "/Library/Frameworks/Python.framework/Versions/3.11/lib/python3.11/site-packages/keras/src/engine/training.py:3000: UserWarning: You are saving your model as an HDF5 file via `model.save()`. This file format is considered legacy. We recommend using instead the native Keras format, e.g. `model.save('my_model.keras')`.\n",
      "  saving_api.save_model(\n"
     ]
    },
    {
     "name": "stdout",
     "output_type": "stream",
     "text": [
      "Epoch 21: early stopping\n",
      "Validation MAE : 5563181170688.0\n",
      "Validation MSE : 1961778.5\n",
      "Training with parameters: {'batch_size': 16, 'dropout_rate': 0.3, 'hidden_layers': 3, 'hidden_units': 32, 'learning_rate': 0.001}\n"
     ]
    },
    {
     "name": "stderr",
     "output_type": "stream",
     "text": [
      "2024-03-11 20:11:45.464876: I tensorflow/core/grappler/optimizers/custom_graph_optimizer_registry.cc:114] Plugin optimizer for device_type GPU is enabled.\n",
      "2024-03-11 20:11:49.633066: I tensorflow/core/grappler/optimizers/custom_graph_optimizer_registry.cc:114] Plugin optimizer for device_type GPU is enabled.\n",
      "/Library/Frameworks/Python.framework/Versions/3.11/lib/python3.11/site-packages/keras/src/engine/training.py:3000: UserWarning: You are saving your model as an HDF5 file via `model.save()`. This file format is considered legacy. We recommend using instead the native Keras format, e.g. `model.save('my_model.keras')`.\n",
      "  saving_api.save_model(\n"
     ]
    },
    {
     "name": "stdout",
     "output_type": "stream",
     "text": [
      "Epoch 50: early stopping\n",
      "Validation MAE : 971328.0625\n",
      "Validation MSE : 597.298095703125\n",
      "Training with parameters: {'batch_size': 16, 'dropout_rate': 0.3, 'hidden_layers': 3, 'hidden_units': 32, 'learning_rate': 0.01}\n"
     ]
    },
    {
     "name": "stderr",
     "output_type": "stream",
     "text": [
      "2024-03-11 20:12:22.214246: I tensorflow/core/grappler/optimizers/custom_graph_optimizer_registry.cc:114] Plugin optimizer for device_type GPU is enabled.\n",
      "2024-03-11 20:12:26.334414: I tensorflow/core/grappler/optimizers/custom_graph_optimizer_registry.cc:114] Plugin optimizer for device_type GPU is enabled.\n",
      "/Library/Frameworks/Python.framework/Versions/3.11/lib/python3.11/site-packages/keras/src/engine/training.py:3000: UserWarning: You are saving your model as an HDF5 file via `model.save()`. This file format is considered legacy. We recommend using instead the native Keras format, e.g. `model.save('my_model.keras')`.\n",
      "  saving_api.save_model(\n"
     ]
    },
    {
     "name": "stdout",
     "output_type": "stream",
     "text": [
      "Epoch 38: early stopping\n",
      "Validation MAE : 59073.78125\n",
      "Validation MSE : 126.73096466064453\n",
      "Training with parameters: {'batch_size': 16, 'dropout_rate': 0.3, 'hidden_layers': 3, 'hidden_units': 32, 'learning_rate': 0.1}\n"
     ]
    },
    {
     "name": "stderr",
     "output_type": "stream",
     "text": [
      "2024-03-11 20:12:52.385710: I tensorflow/core/grappler/optimizers/custom_graph_optimizer_registry.cc:114] Plugin optimizer for device_type GPU is enabled.\n",
      "2024-03-11 20:12:56.873253: I tensorflow/core/grappler/optimizers/custom_graph_optimizer_registry.cc:114] Plugin optimizer for device_type GPU is enabled.\n",
      "/Library/Frameworks/Python.framework/Versions/3.11/lib/python3.11/site-packages/keras/src/engine/training.py:3000: UserWarning: You are saving your model as an HDF5 file via `model.save()`. This file format is considered legacy. We recommend using instead the native Keras format, e.g. `model.save('my_model.keras')`.\n",
      "  saving_api.save_model(\n"
     ]
    },
    {
     "name": "stdout",
     "output_type": "stream",
     "text": [
      "Epoch 44: early stopping\n",
      "Validation MAE : 18919032832.0\n",
      "Validation MSE : 94596.8046875\n",
      "Training with parameters: {'batch_size': 8, 'dropout_rate': 0.1, 'hidden_layers': 1, 'hidden_units': 128, 'learning_rate': 0.001}\n"
     ]
    },
    {
     "name": "stderr",
     "output_type": "stream",
     "text": [
      "2024-03-11 20:13:26.820112: I tensorflow/core/grappler/optimizers/custom_graph_optimizer_registry.cc:114] Plugin optimizer for device_type GPU is enabled.\n",
      "2024-03-11 20:13:32.657063: I tensorflow/core/grappler/optimizers/custom_graph_optimizer_registry.cc:114] Plugin optimizer for device_type GPU is enabled.\n",
      "/Library/Frameworks/Python.framework/Versions/3.11/lib/python3.11/site-packages/keras/src/engine/training.py:3000: UserWarning: You are saving your model as an HDF5 file via `model.save()`. This file format is considered legacy. We recommend using instead the native Keras format, e.g. `model.save('my_model.keras')`.\n",
      "  saving_api.save_model(\n"
     ]
    },
    {
     "name": "stdout",
     "output_type": "stream",
     "text": [
      "Epoch 92: early stopping\n",
      "Validation MAE : 9813.6982421875\n",
      "Validation MSE : 74.99673461914062\n",
      "Training with parameters: {'batch_size': 8, 'dropout_rate': 0.1, 'hidden_layers': 1, 'hidden_units': 128, 'learning_rate': 0.01}\n"
     ]
    },
    {
     "name": "stderr",
     "output_type": "stream",
     "text": [
      "2024-03-11 20:14:57.863201: I tensorflow/core/grappler/optimizers/custom_graph_optimizer_registry.cc:114] Plugin optimizer for device_type GPU is enabled.\n",
      "2024-03-11 20:15:01.644999: I tensorflow/core/grappler/optimizers/custom_graph_optimizer_registry.cc:114] Plugin optimizer for device_type GPU is enabled.\n",
      "/Library/Frameworks/Python.framework/Versions/3.11/lib/python3.11/site-packages/keras/src/engine/training.py:3000: UserWarning: You are saving your model as an HDF5 file via `model.save()`. This file format is considered legacy. We recommend using instead the native Keras format, e.g. `model.save('my_model.keras')`.\n",
      "  saving_api.save_model(\n"
     ]
    },
    {
     "name": "stdout",
     "output_type": "stream",
     "text": [
      "Epoch 23: early stopping\n",
      "Validation MAE : 8554.259765625\n",
      "Validation MSE : 51.289485931396484\n",
      "Training with parameters: {'batch_size': 8, 'dropout_rate': 0.1, 'hidden_layers': 1, 'hidden_units': 128, 'learning_rate': 0.1}\n"
     ]
    },
    {
     "name": "stderr",
     "output_type": "stream",
     "text": [
      "2024-03-11 20:15:23.398665: I tensorflow/core/grappler/optimizers/custom_graph_optimizer_registry.cc:114] Plugin optimizer for device_type GPU is enabled.\n",
      "2024-03-11 20:15:26.869442: I tensorflow/core/grappler/optimizers/custom_graph_optimizer_registry.cc:114] Plugin optimizer for device_type GPU is enabled.\n",
      "/Library/Frameworks/Python.framework/Versions/3.11/lib/python3.11/site-packages/keras/src/engine/training.py:3000: UserWarning: You are saving your model as an HDF5 file via `model.save()`. This file format is considered legacy. We recommend using instead the native Keras format, e.g. `model.save('my_model.keras')`.\n",
      "  saving_api.save_model(\n"
     ]
    },
    {
     "name": "stdout",
     "output_type": "stream",
     "text": [
      "Epoch 23: early stopping\n",
      "Validation MAE : 1444.89990234375\n",
      "Validation MSE : 28.01468276977539\n",
      "Training with parameters: {'batch_size': 8, 'dropout_rate': 0.1, 'hidden_layers': 1, 'hidden_units': 64, 'learning_rate': 0.001}\n"
     ]
    },
    {
     "name": "stderr",
     "output_type": "stream",
     "text": [
      "2024-03-11 20:15:49.842760: I tensorflow/core/grappler/optimizers/custom_graph_optimizer_registry.cc:114] Plugin optimizer for device_type GPU is enabled.\n",
      "2024-03-11 20:15:54.011914: I tensorflow/core/grappler/optimizers/custom_graph_optimizer_registry.cc:114] Plugin optimizer for device_type GPU is enabled.\n",
      "/Library/Frameworks/Python.framework/Versions/3.11/lib/python3.11/site-packages/keras/src/engine/training.py:3000: UserWarning: You are saving your model as an HDF5 file via `model.save()`. This file format is considered legacy. We recommend using instead the native Keras format, e.g. `model.save('my_model.keras')`.\n",
      "  saving_api.save_model(\n"
     ]
    },
    {
     "name": "stdout",
     "output_type": "stream",
     "text": [
      "Epoch 122: early stopping\n",
      "Validation MAE : 2819.348388671875\n",
      "Validation MSE : 36.647247314453125\n",
      "Training with parameters: {'batch_size': 8, 'dropout_rate': 0.1, 'hidden_layers': 1, 'hidden_units': 64, 'learning_rate': 0.01}\n"
     ]
    },
    {
     "name": "stderr",
     "output_type": "stream",
     "text": [
      "2024-03-11 20:17:46.632990: I tensorflow/core/grappler/optimizers/custom_graph_optimizer_registry.cc:114] Plugin optimizer for device_type GPU is enabled.\n",
      "2024-03-11 20:17:50.763220: I tensorflow/core/grappler/optimizers/custom_graph_optimizer_registry.cc:114] Plugin optimizer for device_type GPU is enabled.\n",
      "/Library/Frameworks/Python.framework/Versions/3.11/lib/python3.11/site-packages/keras/src/engine/training.py:3000: UserWarning: You are saving your model as an HDF5 file via `model.save()`. This file format is considered legacy. We recommend using instead the native Keras format, e.g. `model.save('my_model.keras')`.\n",
      "  saving_api.save_model(\n"
     ]
    },
    {
     "name": "stdout",
     "output_type": "stream",
     "text": [
      "Epoch 25: early stopping\n",
      "Validation MAE : 4403.12841796875\n",
      "Validation MSE : 33.75542068481445\n",
      "Training with parameters: {'batch_size': 8, 'dropout_rate': 0.1, 'hidden_layers': 1, 'hidden_units': 64, 'learning_rate': 0.1}\n"
     ]
    },
    {
     "name": "stderr",
     "output_type": "stream",
     "text": [
      "2024-03-11 20:18:15.101279: I tensorflow/core/grappler/optimizers/custom_graph_optimizer_registry.cc:114] Plugin optimizer for device_type GPU is enabled.\n",
      "2024-03-11 20:18:18.692039: I tensorflow/core/grappler/optimizers/custom_graph_optimizer_registry.cc:114] Plugin optimizer for device_type GPU is enabled.\n",
      "/Library/Frameworks/Python.framework/Versions/3.11/lib/python3.11/site-packages/keras/src/engine/training.py:3000: UserWarning: You are saving your model as an HDF5 file via `model.save()`. This file format is considered legacy. We recommend using instead the native Keras format, e.g. `model.save('my_model.keras')`.\n",
      "  saving_api.save_model(\n"
     ]
    },
    {
     "name": "stdout",
     "output_type": "stream",
     "text": [
      "Epoch 22: early stopping\n",
      "Validation MAE : 525.0177612304688\n",
      "Validation MSE : 14.7633695602417\n",
      "Training with parameters: {'batch_size': 8, 'dropout_rate': 0.1, 'hidden_layers': 1, 'hidden_units': 32, 'learning_rate': 0.001}\n"
     ]
    },
    {
     "name": "stderr",
     "output_type": "stream",
     "text": [
      "2024-03-11 20:18:42.386995: I tensorflow/core/grappler/optimizers/custom_graph_optimizer_registry.cc:114] Plugin optimizer for device_type GPU is enabled.\n",
      "2024-03-11 20:18:46.555751: I tensorflow/core/grappler/optimizers/custom_graph_optimizer_registry.cc:114] Plugin optimizer for device_type GPU is enabled.\n",
      "/Library/Frameworks/Python.framework/Versions/3.11/lib/python3.11/site-packages/keras/src/engine/training.py:3000: UserWarning: You are saving your model as an HDF5 file via `model.save()`. This file format is considered legacy. We recommend using instead the native Keras format, e.g. `model.save('my_model.keras')`.\n",
      "  saving_api.save_model(\n"
     ]
    },
    {
     "name": "stdout",
     "output_type": "stream",
     "text": [
      "Epoch 199: early stopping\n",
      "Validation MAE : 1151.70361328125\n",
      "Validation MSE : 18.251827239990234\n",
      "Training with parameters: {'batch_size': 8, 'dropout_rate': 0.1, 'hidden_layers': 1, 'hidden_units': 32, 'learning_rate': 0.01}\n"
     ]
    },
    {
     "name": "stderr",
     "output_type": "stream",
     "text": [
      "2024-03-11 20:21:51.188901: I tensorflow/core/grappler/optimizers/custom_graph_optimizer_registry.cc:114] Plugin optimizer for device_type GPU is enabled.\n",
      "2024-03-11 20:21:54.885268: I tensorflow/core/grappler/optimizers/custom_graph_optimizer_registry.cc:114] Plugin optimizer for device_type GPU is enabled.\n",
      "/Library/Frameworks/Python.framework/Versions/3.11/lib/python3.11/site-packages/keras/src/engine/training.py:3000: UserWarning: You are saving your model as an HDF5 file via `model.save()`. This file format is considered legacy. We recommend using instead the native Keras format, e.g. `model.save('my_model.keras')`.\n",
      "  saving_api.save_model(\n"
     ]
    },
    {
     "name": "stdout",
     "output_type": "stream",
     "text": [
      "Epoch 33: early stopping\n",
      "Validation MAE : 771.1912231445312\n",
      "Validation MSE : 21.049158096313477\n",
      "Training with parameters: {'batch_size': 8, 'dropout_rate': 0.1, 'hidden_layers': 1, 'hidden_units': 32, 'learning_rate': 0.1}\n"
     ]
    },
    {
     "name": "stderr",
     "output_type": "stream",
     "text": [
      "2024-03-11 20:22:25.785477: I tensorflow/core/grappler/optimizers/custom_graph_optimizer_registry.cc:114] Plugin optimizer for device_type GPU is enabled.\n",
      "2024-03-11 20:22:29.430643: I tensorflow/core/grappler/optimizers/custom_graph_optimizer_registry.cc:114] Plugin optimizer for device_type GPU is enabled.\n",
      "/Library/Frameworks/Python.framework/Versions/3.11/lib/python3.11/site-packages/keras/src/engine/training.py:3000: UserWarning: You are saving your model as an HDF5 file via `model.save()`. This file format is considered legacy. We recommend using instead the native Keras format, e.g. `model.save('my_model.keras')`.\n",
      "  saving_api.save_model(\n"
     ]
    },
    {
     "name": "stdout",
     "output_type": "stream",
     "text": [
      "Epoch 23: early stopping\n",
      "Validation MAE : 872.16796875\n",
      "Validation MSE : 18.814477920532227\n",
      "Training with parameters: {'batch_size': 8, 'dropout_rate': 0.1, 'hidden_layers': 2, 'hidden_units': 128, 'learning_rate': 0.001}\n"
     ]
    },
    {
     "name": "stderr",
     "output_type": "stream",
     "text": [
      "2024-03-11 20:22:51.348633: I tensorflow/core/grappler/optimizers/custom_graph_optimizer_registry.cc:114] Plugin optimizer for device_type GPU is enabled.\n",
      "2024-03-11 20:22:55.532033: I tensorflow/core/grappler/optimizers/custom_graph_optimizer_registry.cc:114] Plugin optimizer for device_type GPU is enabled.\n",
      "/Library/Frameworks/Python.framework/Versions/3.11/lib/python3.11/site-packages/keras/src/engine/training.py:3000: UserWarning: You are saving your model as an HDF5 file via `model.save()`. This file format is considered legacy. We recommend using instead the native Keras format, e.g. `model.save('my_model.keras')`.\n",
      "  saving_api.save_model(\n"
     ]
    },
    {
     "name": "stdout",
     "output_type": "stream",
     "text": [
      "Epoch 72: early stopping\n",
      "Validation MAE : 283592.65625\n",
      "Validation MSE : 359.15277099609375\n",
      "Training with parameters: {'batch_size': 8, 'dropout_rate': 0.1, 'hidden_layers': 2, 'hidden_units': 128, 'learning_rate': 0.01}\n"
     ]
    },
    {
     "name": "stderr",
     "output_type": "stream",
     "text": [
      "2024-03-11 20:24:10.278347: I tensorflow/core/grappler/optimizers/custom_graph_optimizer_registry.cc:114] Plugin optimizer for device_type GPU is enabled.\n",
      "2024-03-11 20:24:14.846754: I tensorflow/core/grappler/optimizers/custom_graph_optimizer_registry.cc:114] Plugin optimizer for device_type GPU is enabled.\n",
      "/Library/Frameworks/Python.framework/Versions/3.11/lib/python3.11/site-packages/keras/src/engine/training.py:3000: UserWarning: You are saving your model as an HDF5 file via `model.save()`. This file format is considered legacy. We recommend using instead the native Keras format, e.g. `model.save('my_model.keras')`.\n",
      "  saving_api.save_model(\n"
     ]
    },
    {
     "name": "stdout",
     "output_type": "stream",
     "text": [
      "Epoch 50: early stopping\n",
      "Validation MAE : 7757.29248046875\n",
      "Validation MSE : 60.42850112915039\n",
      "Training with parameters: {'batch_size': 8, 'dropout_rate': 0.1, 'hidden_layers': 2, 'hidden_units': 128, 'learning_rate': 0.1}\n"
     ]
    },
    {
     "name": "stderr",
     "output_type": "stream",
     "text": [
      "2024-03-11 20:25:07.375094: I tensorflow/core/grappler/optimizers/custom_graph_optimizer_registry.cc:114] Plugin optimizer for device_type GPU is enabled.\n",
      "2024-03-11 20:25:12.433132: I tensorflow/core/grappler/optimizers/custom_graph_optimizer_registry.cc:114] Plugin optimizer for device_type GPU is enabled.\n",
      "/Library/Frameworks/Python.framework/Versions/3.11/lib/python3.11/site-packages/keras/src/engine/training.py:3000: UserWarning: You are saving your model as an HDF5 file via `model.save()`. This file format is considered legacy. We recommend using instead the native Keras format, e.g. `model.save('my_model.keras')`.\n",
      "  saving_api.save_model(\n"
     ]
    },
    {
     "name": "stdout",
     "output_type": "stream",
     "text": [
      "Epoch 41: early stopping\n",
      "Validation MAE : 429004.90625\n",
      "Validation MSE : 569.0291748046875\n",
      "Training with parameters: {'batch_size': 8, 'dropout_rate': 0.1, 'hidden_layers': 2, 'hidden_units': 64, 'learning_rate': 0.001}\n"
     ]
    },
    {
     "name": "stderr",
     "output_type": "stream",
     "text": [
      "2024-03-11 20:25:55.395214: I tensorflow/core/grappler/optimizers/custom_graph_optimizer_registry.cc:114] Plugin optimizer for device_type GPU is enabled.\n",
      "2024-03-11 20:26:00.115486: I tensorflow/core/grappler/optimizers/custom_graph_optimizer_registry.cc:114] Plugin optimizer for device_type GPU is enabled.\n",
      "/Library/Frameworks/Python.framework/Versions/3.11/lib/python3.11/site-packages/keras/src/engine/training.py:3000: UserWarning: You are saving your model as an HDF5 file via `model.save()`. This file format is considered legacy. We recommend using instead the native Keras format, e.g. `model.save('my_model.keras')`.\n",
      "  saving_api.save_model(\n"
     ]
    },
    {
     "name": "stdout",
     "output_type": "stream",
     "text": [
      "Epoch 41: early stopping\n",
      "Validation MAE : 321259.375\n",
      "Validation MSE : 308.90411376953125\n",
      "Training with parameters: {'batch_size': 8, 'dropout_rate': 0.1, 'hidden_layers': 2, 'hidden_units': 64, 'learning_rate': 0.01}\n"
     ]
    },
    {
     "name": "stderr",
     "output_type": "stream",
     "text": [
      "2024-03-11 20:26:42.958120: I tensorflow/core/grappler/optimizers/custom_graph_optimizer_registry.cc:114] Plugin optimizer for device_type GPU is enabled.\n",
      "2024-03-11 20:26:47.644910: I tensorflow/core/grappler/optimizers/custom_graph_optimizer_registry.cc:114] Plugin optimizer for device_type GPU is enabled.\n",
      "/Library/Frameworks/Python.framework/Versions/3.11/lib/python3.11/site-packages/keras/src/engine/training.py:3000: UserWarning: You are saving your model as an HDF5 file via `model.save()`. This file format is considered legacy. We recommend using instead the native Keras format, e.g. `model.save('my_model.keras')`.\n",
      "  saving_api.save_model(\n"
     ]
    },
    {
     "name": "stdout",
     "output_type": "stream",
     "text": [
      "Epoch 57: early stopping\n",
      "Validation MAE : 4937.671875\n",
      "Validation MSE : 40.68109893798828\n",
      "Training with parameters: {'batch_size': 8, 'dropout_rate': 0.1, 'hidden_layers': 2, 'hidden_units': 64, 'learning_rate': 0.1}\n"
     ]
    },
    {
     "name": "stderr",
     "output_type": "stream",
     "text": [
      "2024-03-11 20:27:48.025996: I tensorflow/core/grappler/optimizers/custom_graph_optimizer_registry.cc:114] Plugin optimizer for device_type GPU is enabled.\n",
      "2024-03-11 20:27:52.913644: I tensorflow/core/grappler/optimizers/custom_graph_optimizer_registry.cc:114] Plugin optimizer for device_type GPU is enabled.\n",
      "/Library/Frameworks/Python.framework/Versions/3.11/lib/python3.11/site-packages/keras/src/engine/training.py:3000: UserWarning: You are saving your model as an HDF5 file via `model.save()`. This file format is considered legacy. We recommend using instead the native Keras format, e.g. `model.save('my_model.keras')`.\n",
      "  saving_api.save_model(\n"
     ]
    },
    {
     "name": "stdout",
     "output_type": "stream",
     "text": [
      "Epoch 68: early stopping\n",
      "Validation MAE : 6126.2392578125\n",
      "Validation MSE : 67.50725555419922\n",
      "Training with parameters: {'batch_size': 8, 'dropout_rate': 0.1, 'hidden_layers': 2, 'hidden_units': 32, 'learning_rate': 0.001}\n"
     ]
    },
    {
     "name": "stderr",
     "output_type": "stream",
     "text": [
      "2024-03-11 20:29:03.404949: I tensorflow/core/grappler/optimizers/custom_graph_optimizer_registry.cc:114] Plugin optimizer for device_type GPU is enabled.\n",
      "2024-03-11 20:29:07.997487: I tensorflow/core/grappler/optimizers/custom_graph_optimizer_registry.cc:114] Plugin optimizer for device_type GPU is enabled.\n",
      "/Library/Frameworks/Python.framework/Versions/3.11/lib/python3.11/site-packages/keras/src/engine/training.py:3000: UserWarning: You are saving your model as an HDF5 file via `model.save()`. This file format is considered legacy. We recommend using instead the native Keras format, e.g. `model.save('my_model.keras')`.\n",
      "  saving_api.save_model(\n"
     ]
    },
    {
     "name": "stdout",
     "output_type": "stream",
     "text": [
      "Epoch 57: early stopping\n",
      "Validation MAE : 135706.1875\n",
      "Validation MSE : 250.16807556152344\n",
      "Training with parameters: {'batch_size': 8, 'dropout_rate': 0.1, 'hidden_layers': 2, 'hidden_units': 32, 'learning_rate': 0.01}\n"
     ]
    },
    {
     "name": "stderr",
     "output_type": "stream",
     "text": [
      "2024-03-11 20:30:07.438084: I tensorflow/core/grappler/optimizers/custom_graph_optimizer_registry.cc:114] Plugin optimizer for device_type GPU is enabled.\n",
      "2024-03-11 20:30:12.046716: I tensorflow/core/grappler/optimizers/custom_graph_optimizer_registry.cc:114] Plugin optimizer for device_type GPU is enabled.\n",
      "/Library/Frameworks/Python.framework/Versions/3.11/lib/python3.11/site-packages/keras/src/engine/training.py:3000: UserWarning: You are saving your model as an HDF5 file via `model.save()`. This file format is considered legacy. We recommend using instead the native Keras format, e.g. `model.save('my_model.keras')`.\n",
      "  saving_api.save_model(\n"
     ]
    },
    {
     "name": "stdout",
     "output_type": "stream",
     "text": [
      "Epoch 60: early stopping\n",
      "Validation MAE : 1238.4620361328125\n",
      "Validation MSE : 23.902000427246094\n",
      "Training with parameters: {'batch_size': 8, 'dropout_rate': 0.1, 'hidden_layers': 2, 'hidden_units': 32, 'learning_rate': 0.1}\n"
     ]
    },
    {
     "name": "stderr",
     "output_type": "stream",
     "text": [
      "2024-03-11 20:31:14.396848: I tensorflow/core/grappler/optimizers/custom_graph_optimizer_registry.cc:114] Plugin optimizer for device_type GPU is enabled.\n",
      "2024-03-11 20:31:18.704591: I tensorflow/core/grappler/optimizers/custom_graph_optimizer_registry.cc:114] Plugin optimizer for device_type GPU is enabled.\n",
      "/Library/Frameworks/Python.framework/Versions/3.11/lib/python3.11/site-packages/keras/src/engine/training.py:3000: UserWarning: You are saving your model as an HDF5 file via `model.save()`. This file format is considered legacy. We recommend using instead the native Keras format, e.g. `model.save('my_model.keras')`.\n",
      "  saving_api.save_model(\n"
     ]
    },
    {
     "name": "stdout",
     "output_type": "stream",
     "text": [
      "Epoch 27: early stopping\n",
      "Validation MAE : 2817.283447265625\n",
      "Validation MSE : 33.47898483276367\n",
      "Training with parameters: {'batch_size': 8, 'dropout_rate': 0.1, 'hidden_layers': 3, 'hidden_units': 128, 'learning_rate': 0.001}\n"
     ]
    },
    {
     "name": "stderr",
     "output_type": "stream",
     "text": [
      "2024-03-11 20:31:48.304847: I tensorflow/core/grappler/optimizers/custom_graph_optimizer_registry.cc:114] Plugin optimizer for device_type GPU is enabled.\n",
      "2024-03-11 20:31:53.266431: I tensorflow/core/grappler/optimizers/custom_graph_optimizer_registry.cc:114] Plugin optimizer for device_type GPU is enabled.\n",
      "/Library/Frameworks/Python.framework/Versions/3.11/lib/python3.11/site-packages/keras/src/engine/training.py:3000: UserWarning: You are saving your model as an HDF5 file via `model.save()`. This file format is considered legacy. We recommend using instead the native Keras format, e.g. `model.save('my_model.keras')`.\n",
      "  saving_api.save_model(\n"
     ]
    },
    {
     "name": "stdout",
     "output_type": "stream",
     "text": [
      "Epoch 21: early stopping\n",
      "Validation MAE : 680709248.0\n",
      "Validation MSE : 16858.833984375\n",
      "Training with parameters: {'batch_size': 8, 'dropout_rate': 0.1, 'hidden_layers': 3, 'hidden_units': 128, 'learning_rate': 0.01}\n"
     ]
    },
    {
     "name": "stderr",
     "output_type": "stream",
     "text": [
      "2024-03-11 20:32:19.142177: I tensorflow/core/grappler/optimizers/custom_graph_optimizer_registry.cc:114] Plugin optimizer for device_type GPU is enabled.\n",
      "2024-03-11 20:32:24.289837: I tensorflow/core/grappler/optimizers/custom_graph_optimizer_registry.cc:114] Plugin optimizer for device_type GPU is enabled.\n",
      "/Library/Frameworks/Python.framework/Versions/3.11/lib/python3.11/site-packages/keras/src/engine/training.py:3000: UserWarning: You are saving your model as an HDF5 file via `model.save()`. This file format is considered legacy. We recommend using instead the native Keras format, e.g. `model.save('my_model.keras')`.\n",
      "  saving_api.save_model(\n"
     ]
    },
    {
     "name": "stdout",
     "output_type": "stream",
     "text": [
      "Epoch 52: early stopping\n",
      "Validation MAE : 117731.8984375\n",
      "Validation MSE : 263.78692626953125\n",
      "Training with parameters: {'batch_size': 8, 'dropout_rate': 0.1, 'hidden_layers': 3, 'hidden_units': 128, 'learning_rate': 0.1}\n"
     ]
    },
    {
     "name": "stderr",
     "output_type": "stream",
     "text": [
      "2024-03-11 20:33:24.704567: I tensorflow/core/grappler/optimizers/custom_graph_optimizer_registry.cc:114] Plugin optimizer for device_type GPU is enabled.\n",
      "2024-03-11 20:33:29.832049: I tensorflow/core/grappler/optimizers/custom_graph_optimizer_registry.cc:114] Plugin optimizer for device_type GPU is enabled.\n",
      "/Library/Frameworks/Python.framework/Versions/3.11/lib/python3.11/site-packages/keras/src/engine/training.py:3000: UserWarning: You are saving your model as an HDF5 file via `model.save()`. This file format is considered legacy. We recommend using instead the native Keras format, e.g. `model.save('my_model.keras')`.\n",
      "  saving_api.save_model(\n"
     ]
    },
    {
     "name": "stdout",
     "output_type": "stream",
     "text": [
      "Epoch 56: early stopping\n",
      "Validation MAE : 308383580160.0\n",
      "Validation MSE : 276375.6875\n",
      "Training with parameters: {'batch_size': 8, 'dropout_rate': 0.1, 'hidden_layers': 3, 'hidden_units': 64, 'learning_rate': 0.001}\n"
     ]
    },
    {
     "name": "stderr",
     "output_type": "stream",
     "text": [
      "2024-03-11 20:34:36.189411: I tensorflow/core/grappler/optimizers/custom_graph_optimizer_registry.cc:114] Plugin optimizer for device_type GPU is enabled.\n",
      "2024-03-11 20:34:41.400762: I tensorflow/core/grappler/optimizers/custom_graph_optimizer_registry.cc:114] Plugin optimizer for device_type GPU is enabled.\n",
      "/Library/Frameworks/Python.framework/Versions/3.11/lib/python3.11/site-packages/keras/src/engine/training.py:3000: UserWarning: You are saving your model as an HDF5 file via `model.save()`. This file format is considered legacy. We recommend using instead the native Keras format, e.g. `model.save('my_model.keras')`.\n",
      "  saving_api.save_model(\n"
     ]
    },
    {
     "name": "stdout",
     "output_type": "stream",
     "text": [
      "Epoch 40: early stopping\n",
      "Validation MAE : 13336117.0\n",
      "Validation MSE : 2348.012939453125\n",
      "Training with parameters: {'batch_size': 8, 'dropout_rate': 0.1, 'hidden_layers': 3, 'hidden_units': 64, 'learning_rate': 0.01}\n"
     ]
    },
    {
     "name": "stderr",
     "output_type": "stream",
     "text": [
      "2024-03-11 20:35:28.961665: I tensorflow/core/grappler/optimizers/custom_graph_optimizer_registry.cc:114] Plugin optimizer for device_type GPU is enabled.\n",
      "2024-03-11 20:35:34.224156: I tensorflow/core/grappler/optimizers/custom_graph_optimizer_registry.cc:114] Plugin optimizer for device_type GPU is enabled.\n",
      "/Library/Frameworks/Python.framework/Versions/3.11/lib/python3.11/site-packages/keras/src/engine/training.py:3000: UserWarning: You are saving your model as an HDF5 file via `model.save()`. This file format is considered legacy. We recommend using instead the native Keras format, e.g. `model.save('my_model.keras')`.\n",
      "  saving_api.save_model(\n"
     ]
    },
    {
     "name": "stdout",
     "output_type": "stream",
     "text": [
      "Epoch 28: early stopping\n",
      "Validation MAE : 4436.72021484375\n",
      "Validation MSE : 48.14543914794922\n",
      "Training with parameters: {'batch_size': 8, 'dropout_rate': 0.1, 'hidden_layers': 3, 'hidden_units': 64, 'learning_rate': 0.1}\n"
     ]
    },
    {
     "name": "stderr",
     "output_type": "stream",
     "text": [
      "2024-03-11 20:36:07.660652: I tensorflow/core/grappler/optimizers/custom_graph_optimizer_registry.cc:114] Plugin optimizer for device_type GPU is enabled.\n",
      "2024-03-11 20:36:12.963025: I tensorflow/core/grappler/optimizers/custom_graph_optimizer_registry.cc:114] Plugin optimizer for device_type GPU is enabled.\n",
      "/Library/Frameworks/Python.framework/Versions/3.11/lib/python3.11/site-packages/keras/src/engine/training.py:3000: UserWarning: You are saving your model as an HDF5 file via `model.save()`. This file format is considered legacy. We recommend using instead the native Keras format, e.g. `model.save('my_model.keras')`.\n",
      "  saving_api.save_model(\n"
     ]
    },
    {
     "name": "stdout",
     "output_type": "stream",
     "text": [
      "Epoch 65: early stopping\n",
      "Validation MAE : 303339040.0\n",
      "Validation MSE : 11310.537109375\n",
      "Training with parameters: {'batch_size': 8, 'dropout_rate': 0.1, 'hidden_layers': 3, 'hidden_units': 32, 'learning_rate': 0.001}\n"
     ]
    },
    {
     "name": "stderr",
     "output_type": "stream",
     "text": [
      "2024-03-11 20:37:28.325992: I tensorflow/core/grappler/optimizers/custom_graph_optimizer_registry.cc:114] Plugin optimizer for device_type GPU is enabled.\n",
      "2024-03-11 20:37:33.693095: I tensorflow/core/grappler/optimizers/custom_graph_optimizer_registry.cc:114] Plugin optimizer for device_type GPU is enabled.\n",
      "/Library/Frameworks/Python.framework/Versions/3.11/lib/python3.11/site-packages/keras/src/engine/training.py:3000: UserWarning: You are saving your model as an HDF5 file via `model.save()`. This file format is considered legacy. We recommend using instead the native Keras format, e.g. `model.save('my_model.keras')`.\n",
      "  saving_api.save_model(\n"
     ]
    },
    {
     "name": "stdout",
     "output_type": "stream",
     "text": [
      "Epoch 22: early stopping\n",
      "Validation MAE : 10156306.0\n",
      "Validation MSE : 2121.947265625\n",
      "Training with parameters: {'batch_size': 8, 'dropout_rate': 0.1, 'hidden_layers': 3, 'hidden_units': 32, 'learning_rate': 0.01}\n"
     ]
    },
    {
     "name": "stderr",
     "output_type": "stream",
     "text": [
      "2024-03-11 20:38:00.539625: I tensorflow/core/grappler/optimizers/custom_graph_optimizer_registry.cc:114] Plugin optimizer for device_type GPU is enabled.\n",
      "2024-03-11 20:38:05.892421: I tensorflow/core/grappler/optimizers/custom_graph_optimizer_registry.cc:114] Plugin optimizer for device_type GPU is enabled.\n",
      "/Library/Frameworks/Python.framework/Versions/3.11/lib/python3.11/site-packages/keras/src/engine/training.py:3000: UserWarning: You are saving your model as an HDF5 file via `model.save()`. This file format is considered legacy. We recommend using instead the native Keras format, e.g. `model.save('my_model.keras')`.\n",
      "  saving_api.save_model(\n"
     ]
    },
    {
     "name": "stdout",
     "output_type": "stream",
     "text": [
      "Epoch 21: early stopping\n",
      "Validation MAE : 1081852.125\n",
      "Validation MSE : 734.9114379882812\n",
      "Training with parameters: {'batch_size': 8, 'dropout_rate': 0.1, 'hidden_layers': 3, 'hidden_units': 32, 'learning_rate': 0.1}\n"
     ]
    },
    {
     "name": "stderr",
     "output_type": "stream",
     "text": [
      "2024-03-11 20:38:31.431094: I tensorflow/core/grappler/optimizers/custom_graph_optimizer_registry.cc:114] Plugin optimizer for device_type GPU is enabled.\n",
      "2024-03-11 20:38:37.045911: I tensorflow/core/grappler/optimizers/custom_graph_optimizer_registry.cc:114] Plugin optimizer for device_type GPU is enabled.\n",
      "/Library/Frameworks/Python.framework/Versions/3.11/lib/python3.11/site-packages/keras/src/engine/training.py:3000: UserWarning: You are saving your model as an HDF5 file via `model.save()`. This file format is considered legacy. We recommend using instead the native Keras format, e.g. `model.save('my_model.keras')`.\n",
      "  saving_api.save_model(\n"
     ]
    },
    {
     "name": "stdout",
     "output_type": "stream",
     "text": [
      "Epoch 21: early stopping\n",
      "Validation MAE : 65600660.0\n",
      "Validation MSE : 5448.8017578125\n",
      "Training with parameters: {'batch_size': 8, 'dropout_rate': 0.2, 'hidden_layers': 1, 'hidden_units': 128, 'learning_rate': 0.001}\n"
     ]
    },
    {
     "name": "stderr",
     "output_type": "stream",
     "text": [
      "2024-03-11 20:39:03.386088: I tensorflow/core/grappler/optimizers/custom_graph_optimizer_registry.cc:114] Plugin optimizer for device_type GPU is enabled.\n",
      "2024-03-11 20:39:07.966083: I tensorflow/core/grappler/optimizers/custom_graph_optimizer_registry.cc:114] Plugin optimizer for device_type GPU is enabled.\n",
      "/Library/Frameworks/Python.framework/Versions/3.11/lib/python3.11/site-packages/keras/src/engine/training.py:3000: UserWarning: You are saving your model as an HDF5 file via `model.save()`. This file format is considered legacy. We recommend using instead the native Keras format, e.g. `model.save('my_model.keras')`.\n",
      "  saving_api.save_model(\n"
     ]
    },
    {
     "name": "stdout",
     "output_type": "stream",
     "text": [
      "Epoch 80: early stopping\n",
      "Validation MAE : 18852.525390625\n",
      "Validation MSE : 89.9626693725586\n",
      "Training with parameters: {'batch_size': 8, 'dropout_rate': 0.2, 'hidden_layers': 1, 'hidden_units': 128, 'learning_rate': 0.01}\n"
     ]
    },
    {
     "name": "stderr",
     "output_type": "stream",
     "text": [
      "2024-03-11 20:40:20.566701: I tensorflow/core/grappler/optimizers/custom_graph_optimizer_registry.cc:114] Plugin optimizer for device_type GPU is enabled.\n",
      "2024-03-11 20:40:24.061236: I tensorflow/core/grappler/optimizers/custom_graph_optimizer_registry.cc:114] Plugin optimizer for device_type GPU is enabled.\n",
      "/Library/Frameworks/Python.framework/Versions/3.11/lib/python3.11/site-packages/keras/src/engine/training.py:3000: UserWarning: You are saving your model as an HDF5 file via `model.save()`. This file format is considered legacy. We recommend using instead the native Keras format, e.g. `model.save('my_model.keras')`.\n",
      "  saving_api.save_model(\n"
     ]
    },
    {
     "name": "stdout",
     "output_type": "stream",
     "text": [
      "Epoch 23: early stopping\n",
      "Validation MAE : 14793.76953125\n",
      "Validation MSE : 85.30437469482422\n",
      "Training with parameters: {'batch_size': 8, 'dropout_rate': 0.2, 'hidden_layers': 1, 'hidden_units': 128, 'learning_rate': 0.1}\n"
     ]
    },
    {
     "name": "stderr",
     "output_type": "stream",
     "text": [
      "2024-03-11 20:40:48.849180: I tensorflow/core/grappler/optimizers/custom_graph_optimizer_registry.cc:114] Plugin optimizer for device_type GPU is enabled.\n",
      "2024-03-11 20:40:54.416378: I tensorflow/core/grappler/optimizers/custom_graph_optimizer_registry.cc:114] Plugin optimizer for device_type GPU is enabled.\n",
      "/Library/Frameworks/Python.framework/Versions/3.11/lib/python3.11/site-packages/keras/src/engine/training.py:3000: UserWarning: You are saving your model as an HDF5 file via `model.save()`. This file format is considered legacy. We recommend using instead the native Keras format, e.g. `model.save('my_model.keras')`.\n",
      "  saving_api.save_model(\n"
     ]
    },
    {
     "name": "stdout",
     "output_type": "stream",
     "text": [
      "Epoch 51: early stopping\n",
      "Validation MAE : 4402.03466796875\n",
      "Validation MSE : 48.1902961730957\n",
      "Training with parameters: {'batch_size': 8, 'dropout_rate': 0.2, 'hidden_layers': 1, 'hidden_units': 64, 'learning_rate': 0.001}\n"
     ]
    },
    {
     "name": "stderr",
     "output_type": "stream",
     "text": [
      "2024-03-11 20:41:46.721121: I tensorflow/core/grappler/optimizers/custom_graph_optimizer_registry.cc:114] Plugin optimizer for device_type GPU is enabled.\n",
      "2024-03-11 20:41:51.516305: I tensorflow/core/grappler/optimizers/custom_graph_optimizer_registry.cc:114] Plugin optimizer for device_type GPU is enabled.\n",
      "/Library/Frameworks/Python.framework/Versions/3.11/lib/python3.11/site-packages/keras/src/engine/training.py:3000: UserWarning: You are saving your model as an HDF5 file via `model.save()`. This file format is considered legacy. We recommend using instead the native Keras format, e.g. `model.save('my_model.keras')`.\n",
      "  saving_api.save_model(\n"
     ]
    },
    {
     "name": "stdout",
     "output_type": "stream",
     "text": [
      "Epoch 95: early stopping\n",
      "Validation MAE : 46040.296875\n",
      "Validation MSE : 148.91090393066406\n",
      "Training with parameters: {'batch_size': 8, 'dropout_rate': 0.2, 'hidden_layers': 1, 'hidden_units': 64, 'learning_rate': 0.01}\n"
     ]
    },
    {
     "name": "stderr",
     "output_type": "stream",
     "text": [
      "2024-03-11 20:43:19.395391: I tensorflow/core/grappler/optimizers/custom_graph_optimizer_registry.cc:114] Plugin optimizer for device_type GPU is enabled.\n",
      "2024-03-11 20:43:23.296531: I tensorflow/core/grappler/optimizers/custom_graph_optimizer_registry.cc:114] Plugin optimizer for device_type GPU is enabled.\n",
      "/Library/Frameworks/Python.framework/Versions/3.11/lib/python3.11/site-packages/keras/src/engine/training.py:3000: UserWarning: You are saving your model as an HDF5 file via `model.save()`. This file format is considered legacy. We recommend using instead the native Keras format, e.g. `model.save('my_model.keras')`.\n",
      "  saving_api.save_model(\n"
     ]
    },
    {
     "name": "stdout",
     "output_type": "stream",
     "text": [
      "Epoch 26: early stopping\n",
      "Validation MAE : 7279.00830078125\n",
      "Validation MSE : 61.035972595214844\n",
      "Training with parameters: {'batch_size': 8, 'dropout_rate': 0.2, 'hidden_layers': 1, 'hidden_units': 64, 'learning_rate': 0.1}\n"
     ]
    },
    {
     "name": "stderr",
     "output_type": "stream",
     "text": [
      "2024-03-11 20:43:50.432237: I tensorflow/core/grappler/optimizers/custom_graph_optimizer_registry.cc:114] Plugin optimizer for device_type GPU is enabled.\n",
      "2024-03-11 20:43:54.643904: I tensorflow/core/grappler/optimizers/custom_graph_optimizer_registry.cc:114] Plugin optimizer for device_type GPU is enabled.\n",
      "/Library/Frameworks/Python.framework/Versions/3.11/lib/python3.11/site-packages/keras/src/engine/training.py:3000: UserWarning: You are saving your model as an HDF5 file via `model.save()`. This file format is considered legacy. We recommend using instead the native Keras format, e.g. `model.save('my_model.keras')`.\n",
      "  saving_api.save_model(\n"
     ]
    },
    {
     "name": "stdout",
     "output_type": "stream",
     "text": [
      "Epoch 23: early stopping\n",
      "Validation MAE : 4920.96826171875\n",
      "Validation MSE : 41.980377197265625\n",
      "Training with parameters: {'batch_size': 8, 'dropout_rate': 0.2, 'hidden_layers': 1, 'hidden_units': 32, 'learning_rate': 0.001}\n"
     ]
    },
    {
     "name": "stderr",
     "output_type": "stream",
     "text": [
      "2024-03-11 20:44:16.724407: I tensorflow/core/grappler/optimizers/custom_graph_optimizer_registry.cc:114] Plugin optimizer for device_type GPU is enabled.\n",
      "2024-03-11 20:44:20.553999: I tensorflow/core/grappler/optimizers/custom_graph_optimizer_registry.cc:114] Plugin optimizer for device_type GPU is enabled.\n",
      "/Library/Frameworks/Python.framework/Versions/3.11/lib/python3.11/site-packages/keras/src/engine/training.py:3000: UserWarning: You are saving your model as an HDF5 file via `model.save()`. This file format is considered legacy. We recommend using instead the native Keras format, e.g. `model.save('my_model.keras')`.\n",
      "  saving_api.save_model(\n"
     ]
    },
    {
     "name": "stdout",
     "output_type": "stream",
     "text": [
      "Epoch 177: early stopping\n",
      "Validation MAE : 17289.9453125\n",
      "Validation MSE : 84.73828125\n",
      "Training with parameters: {'batch_size': 8, 'dropout_rate': 0.2, 'hidden_layers': 1, 'hidden_units': 32, 'learning_rate': 0.01}\n"
     ]
    },
    {
     "name": "stderr",
     "output_type": "stream",
     "text": [
      "2024-03-11 20:46:59.155242: I tensorflow/core/grappler/optimizers/custom_graph_optimizer_registry.cc:114] Plugin optimizer for device_type GPU is enabled.\n",
      "2024-03-11 20:47:03.130419: I tensorflow/core/grappler/optimizers/custom_graph_optimizer_registry.cc:114] Plugin optimizer for device_type GPU is enabled.\n",
      "/Library/Frameworks/Python.framework/Versions/3.11/lib/python3.11/site-packages/keras/src/engine/training.py:3000: UserWarning: You are saving your model as an HDF5 file via `model.save()`. This file format is considered legacy. We recommend using instead the native Keras format, e.g. `model.save('my_model.keras')`.\n",
      "  saving_api.save_model(\n"
     ]
    },
    {
     "name": "stdout",
     "output_type": "stream",
     "text": [
      "Epoch 40: early stopping\n",
      "Validation MAE : 57126.6484375\n",
      "Validation MSE : 139.0790252685547\n",
      "Training with parameters: {'batch_size': 8, 'dropout_rate': 0.2, 'hidden_layers': 1, 'hidden_units': 32, 'learning_rate': 0.1}\n"
     ]
    },
    {
     "name": "stderr",
     "output_type": "stream",
     "text": [
      "2024-03-11 20:47:40.839385: I tensorflow/core/grappler/optimizers/custom_graph_optimizer_registry.cc:114] Plugin optimizer for device_type GPU is enabled.\n",
      "2024-03-11 20:47:44.997681: I tensorflow/core/grappler/optimizers/custom_graph_optimizer_registry.cc:114] Plugin optimizer for device_type GPU is enabled.\n",
      "/Library/Frameworks/Python.framework/Versions/3.11/lib/python3.11/site-packages/keras/src/engine/training.py:3000: UserWarning: You are saving your model as an HDF5 file via `model.save()`. This file format is considered legacy. We recommend using instead the native Keras format, e.g. `model.save('my_model.keras')`.\n",
      "  saving_api.save_model(\n"
     ]
    },
    {
     "name": "stdout",
     "output_type": "stream",
     "text": [
      "Epoch 40: early stopping\n",
      "Validation MAE : 210.93710327148438\n",
      "Validation MSE : 8.348642349243164\n",
      "Training with parameters: {'batch_size': 8, 'dropout_rate': 0.2, 'hidden_layers': 2, 'hidden_units': 128, 'learning_rate': 0.001}\n"
     ]
    },
    {
     "name": "stderr",
     "output_type": "stream",
     "text": [
      "2024-03-11 20:48:22.331857: I tensorflow/core/grappler/optimizers/custom_graph_optimizer_registry.cc:114] Plugin optimizer for device_type GPU is enabled.\n",
      "2024-03-11 20:48:26.949189: I tensorflow/core/grappler/optimizers/custom_graph_optimizer_registry.cc:114] Plugin optimizer for device_type GPU is enabled.\n",
      "/Library/Frameworks/Python.framework/Versions/3.11/lib/python3.11/site-packages/keras/src/engine/training.py:3000: UserWarning: You are saving your model as an HDF5 file via `model.save()`. This file format is considered legacy. We recommend using instead the native Keras format, e.g. `model.save('my_model.keras')`.\n",
      "  saving_api.save_model(\n"
     ]
    },
    {
     "name": "stdout",
     "output_type": "stream",
     "text": [
      "Epoch 79: early stopping\n",
      "Validation MAE : 1266778.875\n",
      "Validation MSE : 824.9426879882812\n",
      "Training with parameters: {'batch_size': 8, 'dropout_rate': 0.2, 'hidden_layers': 2, 'hidden_units': 128, 'learning_rate': 0.01}\n"
     ]
    },
    {
     "name": "stderr",
     "output_type": "stream",
     "text": [
      "2024-03-11 20:49:49.446922: I tensorflow/core/grappler/optimizers/custom_graph_optimizer_registry.cc:114] Plugin optimizer for device_type GPU is enabled.\n",
      "2024-03-11 20:49:54.537408: I tensorflow/core/grappler/optimizers/custom_graph_optimizer_registry.cc:114] Plugin optimizer for device_type GPU is enabled.\n",
      "/Library/Frameworks/Python.framework/Versions/3.11/lib/python3.11/site-packages/keras/src/engine/training.py:3000: UserWarning: You are saving your model as an HDF5 file via `model.save()`. This file format is considered legacy. We recommend using instead the native Keras format, e.g. `model.save('my_model.keras')`.\n",
      "  saving_api.save_model(\n"
     ]
    },
    {
     "name": "stdout",
     "output_type": "stream",
     "text": [
      "Epoch 35: early stopping\n",
      "Validation MAE : 16346.60546875\n",
      "Validation MSE : 105.03986358642578\n",
      "Training with parameters: {'batch_size': 8, 'dropout_rate': 0.2, 'hidden_layers': 2, 'hidden_units': 128, 'learning_rate': 0.1}\n"
     ]
    },
    {
     "name": "stderr",
     "output_type": "stream",
     "text": [
      "2024-03-11 20:50:31.728271: I tensorflow/core/grappler/optimizers/custom_graph_optimizer_registry.cc:114] Plugin optimizer for device_type GPU is enabled.\n",
      "2024-03-11 20:50:36.440900: I tensorflow/core/grappler/optimizers/custom_graph_optimizer_registry.cc:114] Plugin optimizer for device_type GPU is enabled.\n",
      "/Library/Frameworks/Python.framework/Versions/3.11/lib/python3.11/site-packages/keras/src/engine/training.py:3000: UserWarning: You are saving your model as an HDF5 file via `model.save()`. This file format is considered legacy. We recommend using instead the native Keras format, e.g. `model.save('my_model.keras')`.\n",
      "  saving_api.save_model(\n"
     ]
    },
    {
     "name": "stdout",
     "output_type": "stream",
     "text": [
      "Epoch 31: early stopping\n",
      "Validation MAE : 2746611.5\n",
      "Validation MSE : 1286.0997314453125\n",
      "Training with parameters: {'batch_size': 8, 'dropout_rate': 0.2, 'hidden_layers': 2, 'hidden_units': 64, 'learning_rate': 0.001}\n"
     ]
    },
    {
     "name": "stderr",
     "output_type": "stream",
     "text": [
      "2024-03-11 20:51:09.092822: I tensorflow/core/grappler/optimizers/custom_graph_optimizer_registry.cc:114] Plugin optimizer for device_type GPU is enabled.\n",
      "2024-03-11 20:51:14.083926: I tensorflow/core/grappler/optimizers/custom_graph_optimizer_registry.cc:114] Plugin optimizer for device_type GPU is enabled.\n",
      "/Library/Frameworks/Python.framework/Versions/3.11/lib/python3.11/site-packages/keras/src/engine/training.py:3000: UserWarning: You are saving your model as an HDF5 file via `model.save()`. This file format is considered legacy. We recommend using instead the native Keras format, e.g. `model.save('my_model.keras')`.\n",
      "  saving_api.save_model(\n"
     ]
    },
    {
     "name": "stdout",
     "output_type": "stream",
     "text": [
      "Epoch 102: early stopping\n",
      "Validation MAE : 1083275.375\n",
      "Validation MSE : 588.6363525390625\n",
      "Training with parameters: {'batch_size': 8, 'dropout_rate': 0.2, 'hidden_layers': 2, 'hidden_units': 64, 'learning_rate': 0.01}\n"
     ]
    },
    {
     "name": "stderr",
     "output_type": "stream",
     "text": [
      "2024-03-11 20:52:57.597459: I tensorflow/core/grappler/optimizers/custom_graph_optimizer_registry.cc:114] Plugin optimizer for device_type GPU is enabled.\n",
      "2024-03-11 20:53:02.878913: I tensorflow/core/grappler/optimizers/custom_graph_optimizer_registry.cc:114] Plugin optimizer for device_type GPU is enabled.\n",
      "/Library/Frameworks/Python.framework/Versions/3.11/lib/python3.11/site-packages/keras/src/engine/training.py:3000: UserWarning: You are saving your model as an HDF5 file via `model.save()`. This file format is considered legacy. We recommend using instead the native Keras format, e.g. `model.save('my_model.keras')`.\n",
      "  saving_api.save_model(\n"
     ]
    },
    {
     "name": "stdout",
     "output_type": "stream",
     "text": [
      "Epoch 38: early stopping\n",
      "Validation MAE : 46623.609375\n",
      "Validation MSE : 158.59107971191406\n",
      "Training with parameters: {'batch_size': 8, 'dropout_rate': 0.2, 'hidden_layers': 2, 'hidden_units': 64, 'learning_rate': 0.1}\n"
     ]
    },
    {
     "name": "stderr",
     "output_type": "stream",
     "text": [
      "2024-03-11 20:53:42.759655: I tensorflow/core/grappler/optimizers/custom_graph_optimizer_registry.cc:114] Plugin optimizer for device_type GPU is enabled.\n",
      "2024-03-11 20:53:47.598883: I tensorflow/core/grappler/optimizers/custom_graph_optimizer_registry.cc:114] Plugin optimizer for device_type GPU is enabled.\n",
      "/Library/Frameworks/Python.framework/Versions/3.11/lib/python3.11/site-packages/keras/src/engine/training.py:3000: UserWarning: You are saving your model as an HDF5 file via `model.save()`. This file format is considered legacy. We recommend using instead the native Keras format, e.g. `model.save('my_model.keras')`.\n",
      "  saving_api.save_model(\n"
     ]
    },
    {
     "name": "stdout",
     "output_type": "stream",
     "text": [
      "Epoch 37: early stopping\n",
      "Validation MAE : 14637.775390625\n",
      "Validation MSE : 92.74256896972656\n",
      "Training with parameters: {'batch_size': 8, 'dropout_rate': 0.2, 'hidden_layers': 2, 'hidden_units': 32, 'learning_rate': 0.001}\n"
     ]
    },
    {
     "name": "stderr",
     "output_type": "stream",
     "text": [
      "2024-03-11 20:54:27.354556: I tensorflow/core/grappler/optimizers/custom_graph_optimizer_registry.cc:114] Plugin optimizer for device_type GPU is enabled.\n",
      "2024-03-11 20:54:32.022009: I tensorflow/core/grappler/optimizers/custom_graph_optimizer_registry.cc:114] Plugin optimizer for device_type GPU is enabled.\n",
      "/Library/Frameworks/Python.framework/Versions/3.11/lib/python3.11/site-packages/keras/src/engine/training.py:3000: UserWarning: You are saving your model as an HDF5 file via `model.save()`. This file format is considered legacy. We recommend using instead the native Keras format, e.g. `model.save('my_model.keras')`.\n",
      "  saving_api.save_model(\n"
     ]
    },
    {
     "name": "stdout",
     "output_type": "stream",
     "text": [
      "Epoch 73: early stopping\n",
      "Validation MAE : 2349454.0\n",
      "Validation MSE : 994.4430541992188\n",
      "Training with parameters: {'batch_size': 8, 'dropout_rate': 0.2, 'hidden_layers': 2, 'hidden_units': 32, 'learning_rate': 0.01}\n"
     ]
    },
    {
     "name": "stderr",
     "output_type": "stream",
     "text": [
      "2024-03-11 20:55:46.877357: I tensorflow/core/grappler/optimizers/custom_graph_optimizer_registry.cc:114] Plugin optimizer for device_type GPU is enabled.\n",
      "2024-03-11 20:55:51.813397: I tensorflow/core/grappler/optimizers/custom_graph_optimizer_registry.cc:114] Plugin optimizer for device_type GPU is enabled.\n",
      "/Library/Frameworks/Python.framework/Versions/3.11/lib/python3.11/site-packages/keras/src/engine/training.py:3000: UserWarning: You are saving your model as an HDF5 file via `model.save()`. This file format is considered legacy. We recommend using instead the native Keras format, e.g. `model.save('my_model.keras')`.\n",
      "  saving_api.save_model(\n"
     ]
    },
    {
     "name": "stdout",
     "output_type": "stream",
     "text": [
      "Epoch 27: early stopping\n",
      "Validation MAE : 1211643.75\n",
      "Validation MSE : 782.98779296875\n",
      "Training with parameters: {'batch_size': 8, 'dropout_rate': 0.2, 'hidden_layers': 2, 'hidden_units': 32, 'learning_rate': 0.1}\n"
     ]
    },
    {
     "name": "stderr",
     "output_type": "stream",
     "text": [
      "2024-03-11 20:56:20.813831: I tensorflow/core/grappler/optimizers/custom_graph_optimizer_registry.cc:114] Plugin optimizer for device_type GPU is enabled.\n",
      "2024-03-11 20:56:25.787410: I tensorflow/core/grappler/optimizers/custom_graph_optimizer_registry.cc:114] Plugin optimizer for device_type GPU is enabled.\n",
      "/Library/Frameworks/Python.framework/Versions/3.11/lib/python3.11/site-packages/keras/src/engine/training.py:3000: UserWarning: You are saving your model as an HDF5 file via `model.save()`. This file format is considered legacy. We recommend using instead the native Keras format, e.g. `model.save('my_model.keras')`.\n",
      "  saving_api.save_model(\n"
     ]
    },
    {
     "name": "stdout",
     "output_type": "stream",
     "text": [
      "Epoch 34: early stopping\n",
      "Validation MAE : 2022.3934326171875\n",
      "Validation MSE : 33.09292984008789\n",
      "Training with parameters: {'batch_size': 8, 'dropout_rate': 0.2, 'hidden_layers': 3, 'hidden_units': 128, 'learning_rate': 0.001}\n"
     ]
    },
    {
     "name": "stderr",
     "output_type": "stream",
     "text": [
      "2024-03-11 20:57:01.775314: I tensorflow/core/grappler/optimizers/custom_graph_optimizer_registry.cc:114] Plugin optimizer for device_type GPU is enabled.\n",
      "2024-03-11 20:57:08.062008: I tensorflow/core/grappler/optimizers/custom_graph_optimizer_registry.cc:114] Plugin optimizer for device_type GPU is enabled.\n",
      "/Library/Frameworks/Python.framework/Versions/3.11/lib/python3.11/site-packages/keras/src/engine/training.py:3000: UserWarning: You are saving your model as an HDF5 file via `model.save()`. This file format is considered legacy. We recommend using instead the native Keras format, e.g. `model.save('my_model.keras')`.\n",
      "  saving_api.save_model(\n"
     ]
    },
    {
     "name": "stdout",
     "output_type": "stream",
     "text": [
      "Epoch 21: early stopping\n",
      "Validation MAE : 2466308096.0\n",
      "Validation MSE : 36373.796875\n",
      "Training with parameters: {'batch_size': 8, 'dropout_rate': 0.2, 'hidden_layers': 3, 'hidden_units': 128, 'learning_rate': 0.01}\n"
     ]
    },
    {
     "name": "stderr",
     "output_type": "stream",
     "text": [
      "2024-03-11 20:57:34.152367: I tensorflow/core/grappler/optimizers/custom_graph_optimizer_registry.cc:114] Plugin optimizer for device_type GPU is enabled.\n",
      "2024-03-11 20:57:39.509631: I tensorflow/core/grappler/optimizers/custom_graph_optimizer_registry.cc:114] Plugin optimizer for device_type GPU is enabled.\n",
      "/Library/Frameworks/Python.framework/Versions/3.11/lib/python3.11/site-packages/keras/src/engine/training.py:3000: UserWarning: You are saving your model as an HDF5 file via `model.save()`. This file format is considered legacy. We recommend using instead the native Keras format, e.g. `model.save('my_model.keras')`.\n",
      "  saving_api.save_model(\n"
     ]
    },
    {
     "name": "stdout",
     "output_type": "stream",
     "text": [
      "Epoch 46: early stopping\n",
      "Validation MAE : 193725.796875\n",
      "Validation MSE : 342.41168212890625\n",
      "Training with parameters: {'batch_size': 8, 'dropout_rate': 0.2, 'hidden_layers': 3, 'hidden_units': 128, 'learning_rate': 0.1}\n"
     ]
    },
    {
     "name": "stderr",
     "output_type": "stream",
     "text": [
      "2024-03-11 20:58:34.049592: I tensorflow/core/grappler/optimizers/custom_graph_optimizer_registry.cc:114] Plugin optimizer for device_type GPU is enabled.\n",
      "2024-03-11 20:58:39.656439: I tensorflow/core/grappler/optimizers/custom_graph_optimizer_registry.cc:114] Plugin optimizer for device_type GPU is enabled.\n",
      "/Library/Frameworks/Python.framework/Versions/3.11/lib/python3.11/site-packages/keras/src/engine/training.py:3000: UserWarning: You are saving your model as an HDF5 file via `model.save()`. This file format is considered legacy. We recommend using instead the native Keras format, e.g. `model.save('my_model.keras')`.\n",
      "  saving_api.save_model(\n"
     ]
    },
    {
     "name": "stdout",
     "output_type": "stream",
     "text": [
      "Epoch 21: early stopping\n",
      "Validation MAE : 84808105459712.0\n",
      "Validation MSE : 7283102.0\n",
      "Training with parameters: {'batch_size': 8, 'dropout_rate': 0.2, 'hidden_layers': 3, 'hidden_units': 64, 'learning_rate': 0.001}\n"
     ]
    },
    {
     "name": "stderr",
     "output_type": "stream",
     "text": [
      "2024-03-11 20:59:05.754276: I tensorflow/core/grappler/optimizers/custom_graph_optimizer_registry.cc:114] Plugin optimizer for device_type GPU is enabled.\n",
      "2024-03-11 20:59:11.473357: I tensorflow/core/grappler/optimizers/custom_graph_optimizer_registry.cc:114] Plugin optimizer for device_type GPU is enabled.\n",
      "/Library/Frameworks/Python.framework/Versions/3.11/lib/python3.11/site-packages/keras/src/engine/training.py:3000: UserWarning: You are saving your model as an HDF5 file via `model.save()`. This file format is considered legacy. We recommend using instead the native Keras format, e.g. `model.save('my_model.keras')`.\n",
      "  saving_api.save_model(\n"
     ]
    },
    {
     "name": "stdout",
     "output_type": "stream",
     "text": [
      "Epoch 21: early stopping\n",
      "Validation MAE : 1398693888.0\n",
      "Validation MSE : 25326.05859375\n",
      "Training with parameters: {'batch_size': 8, 'dropout_rate': 0.2, 'hidden_layers': 3, 'hidden_units': 64, 'learning_rate': 0.01}\n"
     ]
    },
    {
     "name": "stderr",
     "output_type": "stream",
     "text": [
      "2024-03-11 20:59:37.437294: I tensorflow/core/grappler/optimizers/custom_graph_optimizer_registry.cc:114] Plugin optimizer for device_type GPU is enabled.\n",
      "2024-03-11 20:59:43.155683: I tensorflow/core/grappler/optimizers/custom_graph_optimizer_registry.cc:114] Plugin optimizer for device_type GPU is enabled.\n",
      "/Library/Frameworks/Python.framework/Versions/3.11/lib/python3.11/site-packages/keras/src/engine/training.py:3000: UserWarning: You are saving your model as an HDF5 file via `model.save()`. This file format is considered legacy. We recommend using instead the native Keras format, e.g. `model.save('my_model.keras')`.\n",
      "  saving_api.save_model(\n"
     ]
    },
    {
     "name": "stdout",
     "output_type": "stream",
     "text": [
      "Epoch 87: early stopping\n",
      "Validation MAE : 58887000.0\n",
      "Validation MSE : 4765.13330078125\n",
      "Training with parameters: {'batch_size': 8, 'dropout_rate': 0.2, 'hidden_layers': 3, 'hidden_units': 64, 'learning_rate': 0.1}\n"
     ]
    },
    {
     "name": "stderr",
     "output_type": "stream",
     "text": [
      "2024-03-11 21:01:24.872459: I tensorflow/core/grappler/optimizers/custom_graph_optimizer_registry.cc:114] Plugin optimizer for device_type GPU is enabled.\n",
      "2024-03-11 21:01:32.100865: I tensorflow/core/grappler/optimizers/custom_graph_optimizer_registry.cc:114] Plugin optimizer for device_type GPU is enabled.\n",
      "/Library/Frameworks/Python.framework/Versions/3.11/lib/python3.11/site-packages/keras/src/engine/training.py:3000: UserWarning: You are saving your model as an HDF5 file via `model.save()`. This file format is considered legacy. We recommend using instead the native Keras format, e.g. `model.save('my_model.keras')`.\n",
      "  saving_api.save_model(\n"
     ]
    },
    {
     "name": "stdout",
     "output_type": "stream",
     "text": [
      "Epoch 37: early stopping\n",
      "Validation MAE : 4383360000.0\n",
      "Validation MSE : 44297.06640625\n",
      "Training with parameters: {'batch_size': 8, 'dropout_rate': 0.2, 'hidden_layers': 3, 'hidden_units': 32, 'learning_rate': 0.001}\n"
     ]
    },
    {
     "name": "stderr",
     "output_type": "stream",
     "text": [
      "2024-03-11 21:02:16.453127: I tensorflow/core/grappler/optimizers/custom_graph_optimizer_registry.cc:114] Plugin optimizer for device_type GPU is enabled.\n",
      "2024-03-11 21:02:22.158252: I tensorflow/core/grappler/optimizers/custom_graph_optimizer_registry.cc:114] Plugin optimizer for device_type GPU is enabled.\n",
      "/Library/Frameworks/Python.framework/Versions/3.11/lib/python3.11/site-packages/keras/src/engine/training.py:3000: UserWarning: You are saving your model as an HDF5 file via `model.save()`. This file format is considered legacy. We recommend using instead the native Keras format, e.g. `model.save('my_model.keras')`.\n",
      "  saving_api.save_model(\n"
     ]
    },
    {
     "name": "stdout",
     "output_type": "stream",
     "text": [
      "Epoch 22: early stopping\n",
      "Validation MAE : 61426704.0\n",
      "Validation MSE : 5764.19970703125\n",
      "Training with parameters: {'batch_size': 8, 'dropout_rate': 0.2, 'hidden_layers': 3, 'hidden_units': 32, 'learning_rate': 0.01}\n"
     ]
    },
    {
     "name": "stderr",
     "output_type": "stream",
     "text": [
      "2024-03-11 21:02:49.935271: I tensorflow/core/grappler/optimizers/custom_graph_optimizer_registry.cc:114] Plugin optimizer for device_type GPU is enabled.\n",
      "2024-03-11 21:02:55.849854: I tensorflow/core/grappler/optimizers/custom_graph_optimizer_registry.cc:114] Plugin optimizer for device_type GPU is enabled.\n",
      "/Library/Frameworks/Python.framework/Versions/3.11/lib/python3.11/site-packages/keras/src/engine/training.py:3000: UserWarning: You are saving your model as an HDF5 file via `model.save()`. This file format is considered legacy. We recommend using instead the native Keras format, e.g. `model.save('my_model.keras')`.\n",
      "  saving_api.save_model(\n"
     ]
    },
    {
     "name": "stdout",
     "output_type": "stream",
     "text": [
      "Epoch 76: early stopping\n",
      "Validation MAE : 12628.5224609375\n",
      "Validation MSE : 80.40465545654297\n",
      "Training with parameters: {'batch_size': 8, 'dropout_rate': 0.2, 'hidden_layers': 3, 'hidden_units': 32, 'learning_rate': 0.1}\n"
     ]
    },
    {
     "name": "stderr",
     "output_type": "stream",
     "text": [
      "2024-03-11 21:04:28.796585: I tensorflow/core/grappler/optimizers/custom_graph_optimizer_registry.cc:114] Plugin optimizer for device_type GPU is enabled.\n",
      "2024-03-11 21:04:35.116243: I tensorflow/core/grappler/optimizers/custom_graph_optimizer_registry.cc:114] Plugin optimizer for device_type GPU is enabled.\n",
      "/Library/Frameworks/Python.framework/Versions/3.11/lib/python3.11/site-packages/keras/src/engine/training.py:3000: UserWarning: You are saving your model as an HDF5 file via `model.save()`. This file format is considered legacy. We recommend using instead the native Keras format, e.g. `model.save('my_model.keras')`.\n",
      "  saving_api.save_model(\n"
     ]
    },
    {
     "name": "stdout",
     "output_type": "stream",
     "text": [
      "Epoch 23: early stopping\n",
      "Validation MAE : 3108712192.0\n",
      "Validation MSE : 49346.2578125\n",
      "Training with parameters: {'batch_size': 8, 'dropout_rate': 0.3, 'hidden_layers': 1, 'hidden_units': 128, 'learning_rate': 0.001}\n"
     ]
    },
    {
     "name": "stderr",
     "output_type": "stream",
     "text": [
      "2024-03-11 21:05:04.966200: I tensorflow/core/grappler/optimizers/custom_graph_optimizer_registry.cc:114] Plugin optimizer for device_type GPU is enabled.\n",
      "2024-03-11 21:05:09.685168: I tensorflow/core/grappler/optimizers/custom_graph_optimizer_registry.cc:114] Plugin optimizer for device_type GPU is enabled.\n",
      "/Library/Frameworks/Python.framework/Versions/3.11/lib/python3.11/site-packages/keras/src/engine/training.py:3000: UserWarning: You are saving your model as an HDF5 file via `model.save()`. This file format is considered legacy. We recommend using instead the native Keras format, e.g. `model.save('my_model.keras')`.\n",
      "  saving_api.save_model(\n"
     ]
    },
    {
     "name": "stdout",
     "output_type": "stream",
     "text": [
      "Epoch 85: early stopping\n",
      "Validation MAE : 28330.818359375\n",
      "Validation MSE : 107.78339385986328\n",
      "Training with parameters: {'batch_size': 8, 'dropout_rate': 0.3, 'hidden_layers': 1, 'hidden_units': 128, 'learning_rate': 0.01}\n"
     ]
    },
    {
     "name": "stderr",
     "output_type": "stream",
     "text": [
      "2024-03-11 21:06:28.362160: I tensorflow/core/grappler/optimizers/custom_graph_optimizer_registry.cc:114] Plugin optimizer for device_type GPU is enabled.\n",
      "2024-03-11 21:06:32.750732: I tensorflow/core/grappler/optimizers/custom_graph_optimizer_registry.cc:114] Plugin optimizer for device_type GPU is enabled.\n",
      "/Library/Frameworks/Python.framework/Versions/3.11/lib/python3.11/site-packages/keras/src/engine/training.py:3000: UserWarning: You are saving your model as an HDF5 file via `model.save()`. This file format is considered legacy. We recommend using instead the native Keras format, e.g. `model.save('my_model.keras')`.\n",
      "  saving_api.save_model(\n"
     ]
    },
    {
     "name": "stdout",
     "output_type": "stream",
     "text": [
      "Epoch 24: early stopping\n",
      "Validation MAE : 5526.34228515625\n",
      "Validation MSE : 51.45641326904297\n",
      "Training with parameters: {'batch_size': 8, 'dropout_rate': 0.3, 'hidden_layers': 1, 'hidden_units': 128, 'learning_rate': 0.1}\n"
     ]
    },
    {
     "name": "stderr",
     "output_type": "stream",
     "text": [
      "2024-03-11 21:06:57.117432: I tensorflow/core/grappler/optimizers/custom_graph_optimizer_registry.cc:114] Plugin optimizer for device_type GPU is enabled.\n",
      "2024-03-11 21:07:01.020062: I tensorflow/core/grappler/optimizers/custom_graph_optimizer_registry.cc:114] Plugin optimizer for device_type GPU is enabled.\n",
      "/Library/Frameworks/Python.framework/Versions/3.11/lib/python3.11/site-packages/keras/src/engine/training.py:3000: UserWarning: You are saving your model as an HDF5 file via `model.save()`. This file format is considered legacy. We recommend using instead the native Keras format, e.g. `model.save('my_model.keras')`.\n",
      "  saving_api.save_model(\n"
     ]
    },
    {
     "name": "stdout",
     "output_type": "stream",
     "text": [
      "Epoch 39: early stopping\n",
      "Validation MAE : 18481.8984375\n",
      "Validation MSE : 90.56842041015625\n",
      "Training with parameters: {'batch_size': 8, 'dropout_rate': 0.3, 'hidden_layers': 1, 'hidden_units': 64, 'learning_rate': 0.001}\n"
     ]
    },
    {
     "name": "stderr",
     "output_type": "stream",
     "text": [
      "2024-03-11 21:07:37.480955: I tensorflow/core/grappler/optimizers/custom_graph_optimizer_registry.cc:114] Plugin optimizer for device_type GPU is enabled.\n",
      "2024-03-11 21:07:42.053158: I tensorflow/core/grappler/optimizers/custom_graph_optimizer_registry.cc:114] Plugin optimizer for device_type GPU is enabled.\n",
      "/Library/Frameworks/Python.framework/Versions/3.11/lib/python3.11/site-packages/keras/src/engine/training.py:3000: UserWarning: You are saving your model as an HDF5 file via `model.save()`. This file format is considered legacy. We recommend using instead the native Keras format, e.g. `model.save('my_model.keras')`.\n",
      "  saving_api.save_model(\n"
     ]
    },
    {
     "name": "stdout",
     "output_type": "stream",
     "text": [
      "Epoch 106: early stopping\n",
      "Validation MAE : 24808.90625\n",
      "Validation MSE : 116.1592788696289\n",
      "Training with parameters: {'batch_size': 8, 'dropout_rate': 0.3, 'hidden_layers': 1, 'hidden_units': 64, 'learning_rate': 0.01}\n"
     ]
    },
    {
     "name": "stderr",
     "output_type": "stream",
     "text": [
      "2024-03-11 21:09:15.826267: I tensorflow/core/grappler/optimizers/custom_graph_optimizer_registry.cc:114] Plugin optimizer for device_type GPU is enabled.\n",
      "2024-03-11 21:09:20.023904: I tensorflow/core/grappler/optimizers/custom_graph_optimizer_registry.cc:114] Plugin optimizer for device_type GPU is enabled.\n",
      "/Library/Frameworks/Python.framework/Versions/3.11/lib/python3.11/site-packages/keras/src/engine/training.py:3000: UserWarning: You are saving your model as an HDF5 file via `model.save()`. This file format is considered legacy. We recommend using instead the native Keras format, e.g. `model.save('my_model.keras')`.\n",
      "  saving_api.save_model(\n"
     ]
    },
    {
     "name": "stdout",
     "output_type": "stream",
     "text": [
      "Epoch 24: early stopping\n",
      "Validation MAE : 4470.4892578125\n",
      "Validation MSE : 46.488624572753906\n",
      "Training with parameters: {'batch_size': 8, 'dropout_rate': 0.3, 'hidden_layers': 1, 'hidden_units': 64, 'learning_rate': 0.1}\n"
     ]
    },
    {
     "name": "stderr",
     "output_type": "stream",
     "text": [
      "2024-03-11 21:09:42.964227: I tensorflow/core/grappler/optimizers/custom_graph_optimizer_registry.cc:114] Plugin optimizer for device_type GPU is enabled.\n",
      "2024-03-11 21:09:47.748081: I tensorflow/core/grappler/optimizers/custom_graph_optimizer_registry.cc:114] Plugin optimizer for device_type GPU is enabled.\n",
      "/Library/Frameworks/Python.framework/Versions/3.11/lib/python3.11/site-packages/keras/src/engine/training.py:3000: UserWarning: You are saving your model as an HDF5 file via `model.save()`. This file format is considered legacy. We recommend using instead the native Keras format, e.g. `model.save('my_model.keras')`.\n",
      "  saving_api.save_model(\n"
     ]
    },
    {
     "name": "stdout",
     "output_type": "stream",
     "text": [
      "Epoch 23: early stopping\n",
      "Validation MAE : 9650.60546875\n",
      "Validation MSE : 70.85757446289062\n",
      "Training with parameters: {'batch_size': 8, 'dropout_rate': 0.3, 'hidden_layers': 1, 'hidden_units': 32, 'learning_rate': 0.001}\n"
     ]
    },
    {
     "name": "stderr",
     "output_type": "stream",
     "text": [
      "2024-03-11 21:10:10.231659: I tensorflow/core/grappler/optimizers/custom_graph_optimizer_registry.cc:114] Plugin optimizer for device_type GPU is enabled.\n",
      "2024-03-11 21:10:14.624948: I tensorflow/core/grappler/optimizers/custom_graph_optimizer_registry.cc:114] Plugin optimizer for device_type GPU is enabled.\n",
      "/Library/Frameworks/Python.framework/Versions/3.11/lib/python3.11/site-packages/keras/src/engine/training.py:3000: UserWarning: You are saving your model as an HDF5 file via `model.save()`. This file format is considered legacy. We recommend using instead the native Keras format, e.g. `model.save('my_model.keras')`.\n",
      "  saving_api.save_model(\n"
     ]
    },
    {
     "name": "stdout",
     "output_type": "stream",
     "text": [
      "Epoch 115: early stopping\n",
      "Validation MAE : 19555.236328125\n",
      "Validation MSE : 72.7573013305664\n",
      "Training with parameters: {'batch_size': 8, 'dropout_rate': 0.3, 'hidden_layers': 1, 'hidden_units': 32, 'learning_rate': 0.01}\n"
     ]
    },
    {
     "name": "stderr",
     "output_type": "stream",
     "text": [
      "2024-03-11 21:11:57.508899: I tensorflow/core/grappler/optimizers/custom_graph_optimizer_registry.cc:114] Plugin optimizer for device_type GPU is enabled.\n",
      "2024-03-11 21:12:01.996477: I tensorflow/core/grappler/optimizers/custom_graph_optimizer_registry.cc:114] Plugin optimizer for device_type GPU is enabled.\n",
      "/Library/Frameworks/Python.framework/Versions/3.11/lib/python3.11/site-packages/keras/src/engine/training.py:3000: UserWarning: You are saving your model as an HDF5 file via `model.save()`. This file format is considered legacy. We recommend using instead the native Keras format, e.g. `model.save('my_model.keras')`.\n",
      "  saving_api.save_model(\n"
     ]
    },
    {
     "name": "stdout",
     "output_type": "stream",
     "text": [
      "Epoch 42: early stopping\n",
      "Validation MAE : 8323.57421875\n",
      "Validation MSE : 45.979122161865234\n",
      "Training with parameters: {'batch_size': 8, 'dropout_rate': 0.3, 'hidden_layers': 1, 'hidden_units': 32, 'learning_rate': 0.1}\n"
     ]
    },
    {
     "name": "stderr",
     "output_type": "stream",
     "text": [
      "2024-03-11 21:12:40.579189: I tensorflow/core/grappler/optimizers/custom_graph_optimizer_registry.cc:114] Plugin optimizer for device_type GPU is enabled.\n",
      "2024-03-11 21:12:44.999373: I tensorflow/core/grappler/optimizers/custom_graph_optimizer_registry.cc:114] Plugin optimizer for device_type GPU is enabled.\n",
      "/Library/Frameworks/Python.framework/Versions/3.11/lib/python3.11/site-packages/keras/src/engine/training.py:3000: UserWarning: You are saving your model as an HDF5 file via `model.save()`. This file format is considered legacy. We recommend using instead the native Keras format, e.g. `model.save('my_model.keras')`.\n",
      "  saving_api.save_model(\n"
     ]
    },
    {
     "name": "stdout",
     "output_type": "stream",
     "text": [
      "Epoch 26: early stopping\n",
      "Validation MAE : 218.34620666503906\n",
      "Validation MSE : 10.521278381347656\n",
      "Training with parameters: {'batch_size': 8, 'dropout_rate': 0.3, 'hidden_layers': 2, 'hidden_units': 128, 'learning_rate': 0.001}\n"
     ]
    },
    {
     "name": "stderr",
     "output_type": "stream",
     "text": [
      "2024-03-11 21:13:10.352302: I tensorflow/core/grappler/optimizers/custom_graph_optimizer_registry.cc:114] Plugin optimizer for device_type GPU is enabled.\n",
      "2024-03-11 21:13:16.269672: I tensorflow/core/grappler/optimizers/custom_graph_optimizer_registry.cc:114] Plugin optimizer for device_type GPU is enabled.\n",
      "/Library/Frameworks/Python.framework/Versions/3.11/lib/python3.11/site-packages/keras/src/engine/training.py:3000: UserWarning: You are saving your model as an HDF5 file via `model.save()`. This file format is considered legacy. We recommend using instead the native Keras format, e.g. `model.save('my_model.keras')`.\n",
      "  saving_api.save_model(\n"
     ]
    },
    {
     "name": "stdout",
     "output_type": "stream",
     "text": [
      "Epoch 92: early stopping\n",
      "Validation MAE : 42671.12109375\n",
      "Validation MSE : 150.75851440429688\n",
      "Training with parameters: {'batch_size': 8, 'dropout_rate': 0.3, 'hidden_layers': 2, 'hidden_units': 128, 'learning_rate': 0.01}\n"
     ]
    },
    {
     "name": "stderr",
     "output_type": "stream",
     "text": [
      "2024-03-11 21:14:53.603049: I tensorflow/core/grappler/optimizers/custom_graph_optimizer_registry.cc:114] Plugin optimizer for device_type GPU is enabled.\n",
      "2024-03-11 21:14:59.617218: I tensorflow/core/grappler/optimizers/custom_graph_optimizer_registry.cc:114] Plugin optimizer for device_type GPU is enabled.\n",
      "/Library/Frameworks/Python.framework/Versions/3.11/lib/python3.11/site-packages/keras/src/engine/training.py:3000: UserWarning: You are saving your model as an HDF5 file via `model.save()`. This file format is considered legacy. We recommend using instead the native Keras format, e.g. `model.save('my_model.keras')`.\n",
      "  saving_api.save_model(\n"
     ]
    },
    {
     "name": "stdout",
     "output_type": "stream",
     "text": [
      "Epoch 33: early stopping\n",
      "Validation MAE : 5103.04296875\n",
      "Validation MSE : 46.75715255737305\n",
      "Training with parameters: {'batch_size': 8, 'dropout_rate': 0.3, 'hidden_layers': 2, 'hidden_units': 128, 'learning_rate': 0.1}\n"
     ]
    },
    {
     "name": "stderr",
     "output_type": "stream",
     "text": [
      "2024-03-11 21:15:35.892915: I tensorflow/core/grappler/optimizers/custom_graph_optimizer_registry.cc:114] Plugin optimizer for device_type GPU is enabled.\n",
      "2024-03-11 21:15:42.294949: I tensorflow/core/grappler/optimizers/custom_graph_optimizer_registry.cc:114] Plugin optimizer for device_type GPU is enabled.\n",
      "/Library/Frameworks/Python.framework/Versions/3.11/lib/python3.11/site-packages/keras/src/engine/training.py:3000: UserWarning: You are saving your model as an HDF5 file via `model.save()`. This file format is considered legacy. We recommend using instead the native Keras format, e.g. `model.save('my_model.keras')`.\n",
      "  saving_api.save_model(\n"
     ]
    },
    {
     "name": "stdout",
     "output_type": "stream",
     "text": [
      "Epoch 41: early stopping\n",
      "Validation MAE : 2481482.0\n",
      "Validation MSE : 1363.2928466796875\n",
      "Training with parameters: {'batch_size': 8, 'dropout_rate': 0.3, 'hidden_layers': 2, 'hidden_units': 64, 'learning_rate': 0.001}\n"
     ]
    },
    {
     "name": "stderr",
     "output_type": "stream",
     "text": [
      "2024-03-11 21:16:25.934947: I tensorflow/core/grappler/optimizers/custom_graph_optimizer_registry.cc:114] Plugin optimizer for device_type GPU is enabled.\n",
      "2024-03-11 21:16:31.493335: I tensorflow/core/grappler/optimizers/custom_graph_optimizer_registry.cc:114] Plugin optimizer for device_type GPU is enabled.\n",
      "/Library/Frameworks/Python.framework/Versions/3.11/lib/python3.11/site-packages/keras/src/engine/training.py:3000: UserWarning: You are saving your model as an HDF5 file via `model.save()`. This file format is considered legacy. We recommend using instead the native Keras format, e.g. `model.save('my_model.keras')`.\n",
      "  saving_api.save_model(\n"
     ]
    },
    {
     "name": "stdout",
     "output_type": "stream",
     "text": [
      "Epoch 75: early stopping\n",
      "Validation MAE : 1916878.375\n",
      "Validation MSE : 993.7119750976562\n",
      "Training with parameters: {'batch_size': 8, 'dropout_rate': 0.3, 'hidden_layers': 2, 'hidden_units': 64, 'learning_rate': 0.01}\n"
     ]
    },
    {
     "name": "stderr",
     "output_type": "stream",
     "text": [
      "2024-03-11 21:17:48.515415: I tensorflow/core/grappler/optimizers/custom_graph_optimizer_registry.cc:114] Plugin optimizer for device_type GPU is enabled.\n",
      "2024-03-11 21:17:53.575958: I tensorflow/core/grappler/optimizers/custom_graph_optimizer_registry.cc:114] Plugin optimizer for device_type GPU is enabled.\n",
      "/Library/Frameworks/Python.framework/Versions/3.11/lib/python3.11/site-packages/keras/src/engine/training.py:3000: UserWarning: You are saving your model as an HDF5 file via `model.save()`. This file format is considered legacy. We recommend using instead the native Keras format, e.g. `model.save('my_model.keras')`.\n",
      "  saving_api.save_model(\n"
     ]
    },
    {
     "name": "stdout",
     "output_type": "stream",
     "text": [
      "Epoch 30: early stopping\n",
      "Validation MAE : 18602.1171875\n",
      "Validation MSE : 101.5759048461914\n",
      "Training with parameters: {'batch_size': 8, 'dropout_rate': 0.3, 'hidden_layers': 2, 'hidden_units': 64, 'learning_rate': 0.1}\n"
     ]
    },
    {
     "name": "stderr",
     "output_type": "stream",
     "text": [
      "2024-03-11 21:18:26.390902: I tensorflow/core/grappler/optimizers/custom_graph_optimizer_registry.cc:114] Plugin optimizer for device_type GPU is enabled.\n",
      "2024-03-11 21:18:33.391620: I tensorflow/core/grappler/optimizers/custom_graph_optimizer_registry.cc:114] Plugin optimizer for device_type GPU is enabled.\n",
      "/Library/Frameworks/Python.framework/Versions/3.11/lib/python3.11/site-packages/keras/src/engine/training.py:3000: UserWarning: You are saving your model as an HDF5 file via `model.save()`. This file format is considered legacy. We recommend using instead the native Keras format, e.g. `model.save('my_model.keras')`.\n",
      "  saving_api.save_model(\n"
     ]
    },
    {
     "name": "stdout",
     "output_type": "stream",
     "text": [
      "Epoch 75: early stopping\n",
      "Validation MAE : 24845.55078125\n",
      "Validation MSE : 135.70779418945312\n",
      "Training with parameters: {'batch_size': 8, 'dropout_rate': 0.3, 'hidden_layers': 2, 'hidden_units': 32, 'learning_rate': 0.001}\n"
     ]
    },
    {
     "name": "stderr",
     "output_type": "stream",
     "text": [
      "2024-03-11 21:19:50.378393: I tensorflow/core/grappler/optimizers/custom_graph_optimizer_registry.cc:114] Plugin optimizer for device_type GPU is enabled.\n",
      "2024-03-11 21:19:56.779323: I tensorflow/core/grappler/optimizers/custom_graph_optimizer_registry.cc:114] Plugin optimizer for device_type GPU is enabled.\n",
      "/Library/Frameworks/Python.framework/Versions/3.11/lib/python3.11/site-packages/keras/src/engine/training.py:3000: UserWarning: You are saving your model as an HDF5 file via `model.save()`. This file format is considered legacy. We recommend using instead the native Keras format, e.g. `model.save('my_model.keras')`.\n",
      "  saving_api.save_model(\n"
     ]
    },
    {
     "name": "stdout",
     "output_type": "stream",
     "text": [
      "Epoch 67: early stopping\n",
      "Validation MAE : 2031568.875\n",
      "Validation MSE : 1030.696044921875\n",
      "Training with parameters: {'batch_size': 8, 'dropout_rate': 0.3, 'hidden_layers': 2, 'hidden_units': 32, 'learning_rate': 0.01}\n"
     ]
    },
    {
     "name": "stderr",
     "output_type": "stream",
     "text": [
      "2024-03-11 21:21:05.920187: I tensorflow/core/grappler/optimizers/custom_graph_optimizer_registry.cc:114] Plugin optimizer for device_type GPU is enabled.\n",
      "2024-03-11 21:21:12.664450: I tensorflow/core/grappler/optimizers/custom_graph_optimizer_registry.cc:114] Plugin optimizer for device_type GPU is enabled.\n",
      "/Library/Frameworks/Python.framework/Versions/3.11/lib/python3.11/site-packages/keras/src/engine/training.py:3000: UserWarning: You are saving your model as an HDF5 file via `model.save()`. This file format is considered legacy. We recommend using instead the native Keras format, e.g. `model.save('my_model.keras')`.\n",
      "  saving_api.save_model(\n"
     ]
    },
    {
     "name": "stdout",
     "output_type": "stream",
     "text": [
      "Epoch 41: early stopping\n",
      "Validation MAE : 7393.24365234375\n",
      "Validation MSE : 59.75006866455078\n",
      "Training with parameters: {'batch_size': 8, 'dropout_rate': 0.3, 'hidden_layers': 2, 'hidden_units': 32, 'learning_rate': 0.1}\n"
     ]
    },
    {
     "name": "stderr",
     "output_type": "stream",
     "text": [
      "2024-03-11 21:21:57.921510: I tensorflow/core/grappler/optimizers/custom_graph_optimizer_registry.cc:114] Plugin optimizer for device_type GPU is enabled.\n",
      "2024-03-11 21:22:05.113891: I tensorflow/core/grappler/optimizers/custom_graph_optimizer_registry.cc:114] Plugin optimizer for device_type GPU is enabled.\n",
      "/Library/Frameworks/Python.framework/Versions/3.11/lib/python3.11/site-packages/keras/src/engine/training.py:3000: UserWarning: You are saving your model as an HDF5 file via `model.save()`. This file format is considered legacy. We recommend using instead the native Keras format, e.g. `model.save('my_model.keras')`.\n",
      "  saving_api.save_model(\n"
     ]
    },
    {
     "name": "stdout",
     "output_type": "stream",
     "text": [
      "Epoch 27: early stopping\n",
      "Validation MAE : 109509592.0\n",
      "Validation MSE : 7753.41943359375\n",
      "Training with parameters: {'batch_size': 8, 'dropout_rate': 0.3, 'hidden_layers': 3, 'hidden_units': 128, 'learning_rate': 0.001}\n"
     ]
    },
    {
     "name": "stderr",
     "output_type": "stream",
     "text": [
      "2024-03-11 21:22:35.748327: I tensorflow/core/grappler/optimizers/custom_graph_optimizer_registry.cc:114] Plugin optimizer for device_type GPU is enabled.\n",
      "2024-03-11 21:22:44.825617: I tensorflow/core/grappler/optimizers/custom_graph_optimizer_registry.cc:114] Plugin optimizer for device_type GPU is enabled.\n",
      "/Library/Frameworks/Python.framework/Versions/3.11/lib/python3.11/site-packages/keras/src/engine/training.py:3000: UserWarning: You are saving your model as an HDF5 file via `model.save()`. This file format is considered legacy. We recommend using instead the native Keras format, e.g. `model.save('my_model.keras')`.\n",
      "  saving_api.save_model(\n"
     ]
    },
    {
     "name": "stdout",
     "output_type": "stream",
     "text": [
      "Epoch 21: early stopping\n",
      "Validation MAE : 1049964864.0\n",
      "Validation MSE : 22160.5546875\n",
      "Training with parameters: {'batch_size': 8, 'dropout_rate': 0.3, 'hidden_layers': 3, 'hidden_units': 128, 'learning_rate': 0.01}\n"
     ]
    },
    {
     "name": "stderr",
     "output_type": "stream",
     "text": [
      "2024-03-11 21:23:13.094345: I tensorflow/core/grappler/optimizers/custom_graph_optimizer_registry.cc:114] Plugin optimizer for device_type GPU is enabled.\n",
      "2024-03-11 21:23:21.550856: I tensorflow/core/grappler/optimizers/custom_graph_optimizer_registry.cc:114] Plugin optimizer for device_type GPU is enabled.\n",
      "/Library/Frameworks/Python.framework/Versions/3.11/lib/python3.11/site-packages/keras/src/engine/training.py:3000: UserWarning: You are saving your model as an HDF5 file via `model.save()`. This file format is considered legacy. We recommend using instead the native Keras format, e.g. `model.save('my_model.keras')`.\n",
      "  saving_api.save_model(\n"
     ]
    },
    {
     "name": "stdout",
     "output_type": "stream",
     "text": [
      "Epoch 28: early stopping\n",
      "Validation MAE : 1045155.125\n",
      "Validation MSE : 676.1525268554688\n",
      "Training with parameters: {'batch_size': 8, 'dropout_rate': 0.3, 'hidden_layers': 3, 'hidden_units': 128, 'learning_rate': 0.1}\n"
     ]
    },
    {
     "name": "stderr",
     "output_type": "stream",
     "text": [
      "2024-03-11 21:23:57.721383: I tensorflow/core/grappler/optimizers/custom_graph_optimizer_registry.cc:114] Plugin optimizer for device_type GPU is enabled.\n",
      "2024-03-11 21:24:06.432695: I tensorflow/core/grappler/optimizers/custom_graph_optimizer_registry.cc:114] Plugin optimizer for device_type GPU is enabled.\n",
      "/Library/Frameworks/Python.framework/Versions/3.11/lib/python3.11/site-packages/keras/src/engine/training.py:3000: UserWarning: You are saving your model as an HDF5 file via `model.save()`. This file format is considered legacy. We recommend using instead the native Keras format, e.g. `model.save('my_model.keras')`.\n",
      "  saving_api.save_model(\n"
     ]
    },
    {
     "name": "stdout",
     "output_type": "stream",
     "text": [
      "Epoch 21: early stopping\n",
      "Validation MAE : 1734477479936.0\n",
      "Validation MSE : 1009133.5\n",
      "Training with parameters: {'batch_size': 8, 'dropout_rate': 0.3, 'hidden_layers': 3, 'hidden_units': 64, 'learning_rate': 0.001}\n"
     ]
    },
    {
     "name": "stderr",
     "output_type": "stream",
     "text": [
      "2024-03-11 21:24:34.112794: I tensorflow/core/grappler/optimizers/custom_graph_optimizer_registry.cc:114] Plugin optimizer for device_type GPU is enabled.\n",
      "2024-03-11 21:24:42.025852: I tensorflow/core/grappler/optimizers/custom_graph_optimizer_registry.cc:114] Plugin optimizer for device_type GPU is enabled.\n",
      "/Library/Frameworks/Python.framework/Versions/3.11/lib/python3.11/site-packages/keras/src/engine/training.py:3000: UserWarning: You are saving your model as an HDF5 file via `model.save()`. This file format is considered legacy. We recommend using instead the native Keras format, e.g. `model.save('my_model.keras')`.\n",
      "  saving_api.save_model(\n"
     ]
    },
    {
     "name": "stdout",
     "output_type": "stream",
     "text": [
      "Epoch 21: early stopping\n",
      "Validation MAE : 128297608.0\n",
      "Validation MSE : 8214.5400390625\n",
      "Training with parameters: {'batch_size': 8, 'dropout_rate': 0.3, 'hidden_layers': 3, 'hidden_units': 64, 'learning_rate': 0.01}\n"
     ]
    },
    {
     "name": "stderr",
     "output_type": "stream",
     "text": [
      "2024-03-11 21:25:09.443113: I tensorflow/core/grappler/optimizers/custom_graph_optimizer_registry.cc:114] Plugin optimizer for device_type GPU is enabled.\n",
      "2024-03-11 21:25:18.181265: I tensorflow/core/grappler/optimizers/custom_graph_optimizer_registry.cc:114] Plugin optimizer for device_type GPU is enabled.\n",
      "/Library/Frameworks/Python.framework/Versions/3.11/lib/python3.11/site-packages/keras/src/engine/training.py:3000: UserWarning: You are saving your model as an HDF5 file via `model.save()`. This file format is considered legacy. We recommend using instead the native Keras format, e.g. `model.save('my_model.keras')`.\n",
      "  saving_api.save_model(\n"
     ]
    },
    {
     "name": "stdout",
     "output_type": "stream",
     "text": [
      "Epoch 40: early stopping\n",
      "Validation MAE : 6221999.0\n",
      "Validation MSE : 1901.5616455078125\n",
      "Training with parameters: {'batch_size': 8, 'dropout_rate': 0.3, 'hidden_layers': 3, 'hidden_units': 64, 'learning_rate': 0.1}\n"
     ]
    },
    {
     "name": "stderr",
     "output_type": "stream",
     "text": [
      "2024-03-11 21:26:11.982148: I tensorflow/core/grappler/optimizers/custom_graph_optimizer_registry.cc:114] Plugin optimizer for device_type GPU is enabled.\n",
      "2024-03-11 21:26:22.117277: I tensorflow/core/grappler/optimizers/custom_graph_optimizer_registry.cc:114] Plugin optimizer for device_type GPU is enabled.\n",
      "/Library/Frameworks/Python.framework/Versions/3.11/lib/python3.11/site-packages/keras/src/engine/training.py:3000: UserWarning: You are saving your model as an HDF5 file via `model.save()`. This file format is considered legacy. We recommend using instead the native Keras format, e.g. `model.save('my_model.keras')`.\n",
      "  saving_api.save_model(\n"
     ]
    },
    {
     "name": "stdout",
     "output_type": "stream",
     "text": [
      "Epoch 21: early stopping\n",
      "Validation MAE : 59459035136.0\n",
      "Validation MSE : 191973.546875\n",
      "Training with parameters: {'batch_size': 8, 'dropout_rate': 0.3, 'hidden_layers': 3, 'hidden_units': 32, 'learning_rate': 0.001}\n"
     ]
    },
    {
     "name": "stderr",
     "output_type": "stream",
     "text": [
      "2024-03-11 21:26:51.556099: I tensorflow/core/grappler/optimizers/custom_graph_optimizer_registry.cc:114] Plugin optimizer for device_type GPU is enabled.\n",
      "2024-03-11 21:27:00.254471: I tensorflow/core/grappler/optimizers/custom_graph_optimizer_registry.cc:114] Plugin optimizer for device_type GPU is enabled.\n",
      "/Library/Frameworks/Python.framework/Versions/3.11/lib/python3.11/site-packages/keras/src/engine/training.py:3000: UserWarning: You are saving your model as an HDF5 file via `model.save()`. This file format is considered legacy. We recommend using instead the native Keras format, e.g. `model.save('my_model.keras')`.\n",
      "  saving_api.save_model(\n"
     ]
    },
    {
     "name": "stdout",
     "output_type": "stream",
     "text": [
      "Epoch 44: early stopping\n",
      "Validation MAE : 4230527.0\n",
      "Validation MSE : 1487.6905517578125\n",
      "Training with parameters: {'batch_size': 8, 'dropout_rate': 0.3, 'hidden_layers': 3, 'hidden_units': 32, 'learning_rate': 0.01}\n"
     ]
    },
    {
     "name": "stderr",
     "output_type": "stream",
     "text": [
      "2024-03-11 21:27:55.089654: I tensorflow/core/grappler/optimizers/custom_graph_optimizer_registry.cc:114] Plugin optimizer for device_type GPU is enabled.\n",
      "2024-03-11 21:28:01.703444: I tensorflow/core/grappler/optimizers/custom_graph_optimizer_registry.cc:114] Plugin optimizer for device_type GPU is enabled.\n",
      "/Library/Frameworks/Python.framework/Versions/3.11/lib/python3.11/site-packages/keras/src/engine/training.py:3000: UserWarning: You are saving your model as an HDF5 file via `model.save()`. This file format is considered legacy. We recommend using instead the native Keras format, e.g. `model.save('my_model.keras')`.\n",
      "  saving_api.save_model(\n"
     ]
    },
    {
     "name": "stdout",
     "output_type": "stream",
     "text": [
      "Epoch 34: early stopping\n",
      "Validation MAE : 1316144.125\n",
      "Validation MSE : 824.6380004882812\n",
      "Training with parameters: {'batch_size': 8, 'dropout_rate': 0.3, 'hidden_layers': 3, 'hidden_units': 32, 'learning_rate': 0.1}\n"
     ]
    },
    {
     "name": "stderr",
     "output_type": "stream",
     "text": [
      "2024-03-11 21:28:43.910991: I tensorflow/core/grappler/optimizers/custom_graph_optimizer_registry.cc:114] Plugin optimizer for device_type GPU is enabled.\n",
      "2024-03-11 21:28:52.071610: I tensorflow/core/grappler/optimizers/custom_graph_optimizer_registry.cc:114] Plugin optimizer for device_type GPU is enabled.\n",
      "/Library/Frameworks/Python.framework/Versions/3.11/lib/python3.11/site-packages/keras/src/engine/training.py:3000: UserWarning: You are saving your model as an HDF5 file via `model.save()`. This file format is considered legacy. We recommend using instead the native Keras format, e.g. `model.save('my_model.keras')`.\n",
      "  saving_api.save_model(\n"
     ]
    },
    {
     "name": "stdout",
     "output_type": "stream",
     "text": [
      "Epoch 21: early stopping\n",
      "Validation MAE : 16599946240.0\n",
      "Validation MSE : 111794.9453125\n",
      "Best parameters: {'batch_size': 32, 'dropout_rate': 0.1, 'hidden_layers': 1, 'hidden_units': 32, 'learning_rate': 0.01}\n",
      "Best validation MAE: 5.878716945648193\n"
     ]
    }
   ],
   "source": [
    "from sklearn.model_selection import ParameterGrid\n",
    "\n",
    "# 하이퍼파라미터 그리드 정의\n",
    "param_grid = {\n",
    "    'dropout_rate': [0.1 ,0.2, 0.3,],\n",
    "    'learning_rate': [0.001, 0.01, 0.1],\n",
    "    'hidden_layers': [1, 2, 3],\n",
    "    'hidden_units': [128, 64, 32],\n",
    "    'batch_size' : [32, 16, 8]\n",
    "}\n",
    "\n",
    "# 하이퍼파라미터 그리드를 순회하며 그리드 서치 실행\n",
    "\n",
    "best_mse = float('inf')\n",
    "best_params = {}\n",
    "\n",
    "for params in ParameterGrid(param_grid):\n",
    "    print(\"Training with parameters:\", params)\n",
    "    \n",
    "    # 모델 생성\n",
    "    model = keras.Sequential()\n",
    "    model.add(keras.layers.Dense(params['hidden_units'], activation='relu', input_shape=(9, )))\n",
    "    model.add(keras.layers.Dropout(rate=params['dropout_rate']))\n",
    "    \n",
    "    for _ in range(params['hidden_layers']):\n",
    "        model.add(keras.layers.Dense(params['hidden_units'], activation='relu'))\n",
    "        model.add(keras.layers.Dropout(rate=params['dropout_rate']))\n",
    "    \n",
    "    model.add(keras.layers.Dense(8))\n",
    "    \n",
    "    # 모델 컴파일\n",
    "    optimizer = tf.keras.optimizers.legacy.Adam(learning_rate=params['learning_rate'])\n",
    "    model.compile(optimizer=optimizer, loss='mse', metrics=['mae', 'mse'])\n",
    "    \n",
    "    # 모델 훈련\n",
    "    history = model.fit(train_scale, train_output, batch_size = params['batch_size'], validation_data=(val_scale, val_output), epochs=1000, callbacks=[callback, checkpoint_cb], verbose=0)\n",
    "    \n",
    "    # 검증 세트에 대한 평가\n",
    "    metrics = model.evaluate(val_scale, val_output, verbose=0)\n",
    "    print(\"Validation MAE :\", metrics[0])\n",
    "    print(\"Validation MSE :\", metrics[1])\n",
    "    \n",
    "    # 최적의 하이퍼파라미터와 MAE 업데이트\n",
    "    if metrics[1] < best_mse:\n",
    "        best_mse = metrics[1]\n",
    "        best_params = params\n",
    "\n",
    "\n",
    "    # 최적의 하이퍼파라미터 저장    \n",
    "    model.save_weights('best-multiregression-hyperparameters.h5')\n",
    "print(\"Best parameters:\", best_params)\n",
    "print(\"Best validation MAE:\", best_mse)\n"
   ]
  },
  {
   "cell_type": "code",
   "execution_count": 75,
   "metadata": {},
   "outputs": [
    {
     "data": {
      "text/html": [
       "<div>\n",
       "<style scoped>\n",
       "    .dataframe tbody tr th:only-of-type {\n",
       "        vertical-align: middle;\n",
       "    }\n",
       "\n",
       "    .dataframe tbody tr th {\n",
       "        vertical-align: top;\n",
       "    }\n",
       "\n",
       "    .dataframe thead th {\n",
       "        text-align: right;\n",
       "    }\n",
       "</style>\n",
       "<table border=\"1\" class=\"dataframe\">\n",
       "  <thead>\n",
       "    <tr style=\"text-align: right;\">\n",
       "      <th></th>\n",
       "      <th>Best_Hyperparameters</th>\n",
       "    </tr>\n",
       "  </thead>\n",
       "  <tbody>\n",
       "    <tr>\n",
       "      <th>Batch_Size</th>\n",
       "      <td>32.000000</td>\n",
       "    </tr>\n",
       "    <tr>\n",
       "      <th>Dropout_Rate</th>\n",
       "      <td>0.100000</td>\n",
       "    </tr>\n",
       "    <tr>\n",
       "      <th>Hidden_Layers</th>\n",
       "      <td>1.000000</td>\n",
       "    </tr>\n",
       "    <tr>\n",
       "      <th>Hidden_Units</th>\n",
       "      <td>32.000000</td>\n",
       "    </tr>\n",
       "    <tr>\n",
       "      <th>Learning_Rate</th>\n",
       "      <td>0.010000</td>\n",
       "    </tr>\n",
       "    <tr>\n",
       "      <th>Best_MSE</th>\n",
       "      <td>5.878717</td>\n",
       "    </tr>\n",
       "  </tbody>\n",
       "</table>\n",
       "</div>"
      ],
      "text/plain": [
       "               Best_Hyperparameters\n",
       "Batch_Size                32.000000\n",
       "Dropout_Rate               0.100000\n",
       "Hidden_Layers              1.000000\n",
       "Hidden_Units              32.000000\n",
       "Learning_Rate              0.010000\n",
       "Best_MSE                   5.878717"
      ]
     },
     "execution_count": 75,
     "metadata": {},
     "output_type": "execute_result"
    }
   ],
   "source": [
    "data = [best_params['batch_size'], best_params['dropout_rate'], best_params['hidden_layers'], best_params['hidden_units'], best_params['learning_rate'], best_mse]\n",
    "grid_result = pd.DataFrame(data=data, columns = ['Best_Hyperparameters'], index = ['Batch_Size', 'Dropout_Rate', 'Hidden_Layers', 'Hidden_Units', 'Learning_Rate', 'Best_MSE'])\n",
    "grid_result.to_csv('Regression_GridSearch_Result')\n",
    "grid_result"
   ]
  },
  {
   "cell_type": "code",
   "execution_count": null,
   "metadata": {},
   "outputs": [],
   "source": []
  }
 ],
 "metadata": {
  "kernelspec": {
   "display_name": "Python 3",
   "language": "python",
   "name": "python3"
  },
  "language_info": {
   "codemirror_mode": {
    "name": "ipython",
    "version": 3
   },
   "file_extension": ".py",
   "mimetype": "text/x-python",
   "name": "python",
   "nbconvert_exporter": "python",
   "pygments_lexer": "ipython3",
   "version": "3.11.2"
  },
  "orig_nbformat": 4
 },
 "nbformat": 4,
 "nbformat_minor": 2
}
