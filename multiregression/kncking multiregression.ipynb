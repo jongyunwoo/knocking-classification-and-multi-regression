{
 "cells": [
  {
   "attachments": {},
   "cell_type": "markdown",
   "metadata": {},
   "source": [
    "# Data preprocessing and split"
   ]
  },
  {
   "cell_type": "code",
   "execution_count": 1,
   "metadata": {},
   "outputs": [
    {
     "name": "stdout",
     "output_type": "stream",
     "text": [
      "2.13.0\n"
     ]
    }
   ],
   "source": [
    "import pandas as pd\n",
    "import numpy as np\n",
    "import matplotlib.pyplot as plt\n",
    "import tensorflow as tf\n",
    "from tensorflow import keras\n",
    "from keras import optimizers\n",
    "from sklearn.preprocessing import StandardScaler\n",
    "from sklearn.model_selection import train_test_split\n",
    "\n",
    "print(tf.__version__)"
   ]
  },
  {
   "cell_type": "code",
   "execution_count": 2,
   "metadata": {},
   "outputs": [
    {
     "data": {
      "text/html": [
       "<div>\n",
       "<style scoped>\n",
       "    .dataframe tbody tr th:only-of-type {\n",
       "        vertical-align: middle;\n",
       "    }\n",
       "\n",
       "    .dataframe tbody tr th {\n",
       "        vertical-align: top;\n",
       "    }\n",
       "\n",
       "    .dataframe thead th {\n",
       "        text-align: right;\n",
       "    }\n",
       "</style>\n",
       "<table border=\"1\" class=\"dataframe\">\n",
       "  <thead>\n",
       "    <tr style=\"text-align: right;\">\n",
       "      <th></th>\n",
       "      <th>Case</th>\n",
       "      <th>Engine Speed</th>\n",
       "      <th>Spark Timing</th>\n",
       "      <th>Throttle Angle</th>\n",
       "      <th>Ambient Temperature</th>\n",
       "      <th>Intake Pressure</th>\n",
       "      <th>Intake Temperature</th>\n",
       "      <th>Exhaust Pressure</th>\n",
       "      <th>Exhaust Temperature</th>\n",
       "      <th>Injected Mass</th>\n",
       "      <th>Maximum Pressure</th>\n",
       "      <th>Crank Angle at Maximum Pressure</th>\n",
       "      <th>Maximum Rate of Pressure Rise</th>\n",
       "      <th>BMEP</th>\n",
       "      <th>IMEP</th>\n",
       "      <th>BSFC</th>\n",
       "      <th>BSNOx</th>\n",
       "      <th>BSCO</th>\n",
       "      <th>Knocking Index</th>\n",
       "      <th>Knocking</th>\n",
       "    </tr>\n",
       "  </thead>\n",
       "  <tbody>\n",
       "    <tr>\n",
       "      <th>547</th>\n",
       "      <td>546.0</td>\n",
       "      <td>2000</td>\n",
       "      <td>-10</td>\n",
       "      <td>30</td>\n",
       "      <td>283</td>\n",
       "      <td>0.975</td>\n",
       "      <td>288.8</td>\n",
       "      <td>1.069</td>\n",
       "      <td>858.7</td>\n",
       "      <td>36.89</td>\n",
       "      <td>39.8</td>\n",
       "      <td>27.96</td>\n",
       "      <td>1.33</td>\n",
       "      <td>8.67</td>\n",
       "      <td>10.1</td>\n",
       "      <td>307.4</td>\n",
       "      <td>2.91</td>\n",
       "      <td>222.7</td>\n",
       "      <td>0.0</td>\n",
       "      <td>0.0</td>\n",
       "    </tr>\n",
       "    <tr>\n",
       "      <th>548</th>\n",
       "      <td>547.0</td>\n",
       "      <td>2000</td>\n",
       "      <td>-10</td>\n",
       "      <td>30</td>\n",
       "      <td>293</td>\n",
       "      <td>0.974</td>\n",
       "      <td>295.5</td>\n",
       "      <td>1.068</td>\n",
       "      <td>858.6</td>\n",
       "      <td>36.61</td>\n",
       "      <td>39.5</td>\n",
       "      <td>27.48</td>\n",
       "      <td>1.32</td>\n",
       "      <td>8.6</td>\n",
       "      <td>9.98</td>\n",
       "      <td>307.2</td>\n",
       "      <td>2.99</td>\n",
       "      <td>220.9</td>\n",
       "      <td>0.0</td>\n",
       "      <td>0.0</td>\n",
       "    </tr>\n",
       "    <tr>\n",
       "      <th>549</th>\n",
       "      <td>548.0</td>\n",
       "      <td>2000</td>\n",
       "      <td>-10</td>\n",
       "      <td>30</td>\n",
       "      <td>303</td>\n",
       "      <td>0.974</td>\n",
       "      <td>302.3</td>\n",
       "      <td>1.067</td>\n",
       "      <td>858.1</td>\n",
       "      <td>36.35</td>\n",
       "      <td>39.2</td>\n",
       "      <td>27.62</td>\n",
       "      <td>1.31</td>\n",
       "      <td>8.53</td>\n",
       "      <td>9.86</td>\n",
       "      <td>307.5</td>\n",
       "      <td>3.03</td>\n",
       "      <td>221.4</td>\n",
       "      <td>0.0</td>\n",
       "      <td>0.0</td>\n",
       "    </tr>\n",
       "    <tr>\n",
       "      <th>550</th>\n",
       "      <td>549.0</td>\n",
       "      <td>2000</td>\n",
       "      <td>-10</td>\n",
       "      <td>35</td>\n",
       "      <td>283</td>\n",
       "      <td>0.982</td>\n",
       "      <td>288.8</td>\n",
       "      <td>1.07</td>\n",
       "      <td>861.2</td>\n",
       "      <td>37.35</td>\n",
       "      <td>40.9</td>\n",
       "      <td>27.25</td>\n",
       "      <td>1.39</td>\n",
       "      <td>8.82</td>\n",
       "      <td>10.31</td>\n",
       "      <td>304.4</td>\n",
       "      <td>3.23</td>\n",
       "      <td>215.2</td>\n",
       "      <td>0.0</td>\n",
       "      <td>0.0</td>\n",
       "    </tr>\n",
       "    <tr>\n",
       "      <th>551</th>\n",
       "      <td>550.0</td>\n",
       "      <td>2000</td>\n",
       "      <td>-10</td>\n",
       "      <td>35</td>\n",
       "      <td>293</td>\n",
       "      <td>0.982</td>\n",
       "      <td>295.6</td>\n",
       "      <td>1.069</td>\n",
       "      <td>858.9</td>\n",
       "      <td>37.1</td>\n",
       "      <td>40.6</td>\n",
       "      <td>27.41</td>\n",
       "      <td>1.39</td>\n",
       "      <td>8.75</td>\n",
       "      <td>10.19</td>\n",
       "      <td>306.1</td>\n",
       "      <td>3.09</td>\n",
       "      <td>221.4</td>\n",
       "      <td>0.0</td>\n",
       "      <td>0.0</td>\n",
       "    </tr>\n",
       "    <tr>\n",
       "      <th>...</th>\n",
       "      <td>...</td>\n",
       "      <td>...</td>\n",
       "      <td>...</td>\n",
       "      <td>...</td>\n",
       "      <td>...</td>\n",
       "      <td>...</td>\n",
       "      <td>...</td>\n",
       "      <td>...</td>\n",
       "      <td>...</td>\n",
       "      <td>...</td>\n",
       "      <td>...</td>\n",
       "      <td>...</td>\n",
       "      <td>...</td>\n",
       "      <td>...</td>\n",
       "      <td>...</td>\n",
       "      <td>...</td>\n",
       "      <td>...</td>\n",
       "      <td>...</td>\n",
       "      <td>...</td>\n",
       "      <td>...</td>\n",
       "    </tr>\n",
       "    <tr>\n",
       "      <th>2141</th>\n",
       "      <td>2140.0</td>\n",
       "      <td>6000</td>\n",
       "      <td>-10</td>\n",
       "      <td>85</td>\n",
       "      <td>293</td>\n",
       "      <td>0.969</td>\n",
       "      <td>294.1</td>\n",
       "      <td>1.493</td>\n",
       "      <td>1088.4</td>\n",
       "      <td>48.07</td>\n",
       "      <td>33.1</td>\n",
       "      <td>36.97</td>\n",
       "      <td>0.78</td>\n",
       "      <td>8.13</td>\n",
       "      <td>10.29</td>\n",
       "      <td>426</td>\n",
       "      <td>1.73</td>\n",
       "      <td>403</td>\n",
       "      <td>0.0</td>\n",
       "      <td>0.0</td>\n",
       "    </tr>\n",
       "    <tr>\n",
       "      <th>2142</th>\n",
       "      <td>2141.0</td>\n",
       "      <td>6000</td>\n",
       "      <td>-10</td>\n",
       "      <td>85</td>\n",
       "      <td>303</td>\n",
       "      <td>0.969</td>\n",
       "      <td>301.6</td>\n",
       "      <td>1.488</td>\n",
       "      <td>1089.5</td>\n",
       "      <td>47.74</td>\n",
       "      <td>33.3</td>\n",
       "      <td>36.99</td>\n",
       "      <td>0.78</td>\n",
       "      <td>8.08</td>\n",
       "      <td>10.27</td>\n",
       "      <td>425.9</td>\n",
       "      <td>1.81</td>\n",
       "      <td>402.8</td>\n",
       "      <td>0.0</td>\n",
       "      <td>0.0</td>\n",
       "    </tr>\n",
       "    <tr>\n",
       "      <th>2143</th>\n",
       "      <td>2142.0</td>\n",
       "      <td>6000</td>\n",
       "      <td>-10</td>\n",
       "      <td>90</td>\n",
       "      <td>283</td>\n",
       "      <td>0.97</td>\n",
       "      <td>286.6</td>\n",
       "      <td>1.498</td>\n",
       "      <td>1088.9</td>\n",
       "      <td>48.4</td>\n",
       "      <td>32.9</td>\n",
       "      <td>37.96</td>\n",
       "      <td>0.78</td>\n",
       "      <td>8.2</td>\n",
       "      <td>10.31</td>\n",
       "      <td>424.8</td>\n",
       "      <td>1.72</td>\n",
       "      <td>399.2</td>\n",
       "      <td>0.0</td>\n",
       "      <td>0.0</td>\n",
       "    </tr>\n",
       "    <tr>\n",
       "      <th>2144</th>\n",
       "      <td>2143.0</td>\n",
       "      <td>6000</td>\n",
       "      <td>-10</td>\n",
       "      <td>90</td>\n",
       "      <td>293</td>\n",
       "      <td>0.969</td>\n",
       "      <td>294.1</td>\n",
       "      <td>1.493</td>\n",
       "      <td>1088.5</td>\n",
       "      <td>48.08</td>\n",
       "      <td>33.1</td>\n",
       "      <td>36.97</td>\n",
       "      <td>0.78</td>\n",
       "      <td>8.14</td>\n",
       "      <td>10.29</td>\n",
       "      <td>425.9</td>\n",
       "      <td>1.74</td>\n",
       "      <td>402.7</td>\n",
       "      <td>0.0</td>\n",
       "      <td>0.0</td>\n",
       "    </tr>\n",
       "    <tr>\n",
       "      <th>2145</th>\n",
       "      <td>2144.0</td>\n",
       "      <td>6000</td>\n",
       "      <td>-10</td>\n",
       "      <td>90</td>\n",
       "      <td>303</td>\n",
       "      <td>0.969</td>\n",
       "      <td>301.6</td>\n",
       "      <td>1.488</td>\n",
       "      <td>1089.2</td>\n",
       "      <td>47.75</td>\n",
       "      <td>33.3</td>\n",
       "      <td>36.99</td>\n",
       "      <td>0.78</td>\n",
       "      <td>8.08</td>\n",
       "      <td>10.27</td>\n",
       "      <td>426</td>\n",
       "      <td>1.8</td>\n",
       "      <td>403.3</td>\n",
       "      <td>0.0</td>\n",
       "      <td>0.0</td>\n",
       "    </tr>\n",
       "  </tbody>\n",
       "</table>\n",
       "<p>1064 rows × 20 columns</p>\n",
       "</div>"
      ],
      "text/plain": [
       "        Case Engine Speed Spark Timing Throttle Angle Ambient Temperature   \n",
       "547    546.0         2000          -10             30                 283  \\\n",
       "548    547.0         2000          -10             30                 293   \n",
       "549    548.0         2000          -10             30                 303   \n",
       "550    549.0         2000          -10             35                 283   \n",
       "551    550.0         2000          -10             35                 293   \n",
       "...      ...          ...          ...            ...                 ...   \n",
       "2141  2140.0         6000          -10             85                 293   \n",
       "2142  2141.0         6000          -10             85                 303   \n",
       "2143  2142.0         6000          -10             90                 283   \n",
       "2144  2143.0         6000          -10             90                 293   \n",
       "2145  2144.0         6000          -10             90                 303   \n",
       "\n",
       "     Intake Pressure Intake Temperature Exhaust Pressure Exhaust Temperature   \n",
       "547            0.975              288.8            1.069               858.7  \\\n",
       "548            0.974              295.5            1.068               858.6   \n",
       "549            0.974              302.3            1.067               858.1   \n",
       "550            0.982              288.8             1.07               861.2   \n",
       "551            0.982              295.6            1.069               858.9   \n",
       "...              ...                ...              ...                 ...   \n",
       "2141           0.969              294.1            1.493              1088.4   \n",
       "2142           0.969              301.6            1.488              1089.5   \n",
       "2143            0.97              286.6            1.498              1088.9   \n",
       "2144           0.969              294.1            1.493              1088.5   \n",
       "2145           0.969              301.6            1.488              1089.2   \n",
       "\n",
       "     Injected Mass Maximum Pressure Crank Angle at Maximum Pressure   \n",
       "547          36.89             39.8                           27.96  \\\n",
       "548          36.61             39.5                           27.48   \n",
       "549          36.35             39.2                           27.62   \n",
       "550          37.35             40.9                           27.25   \n",
       "551           37.1             40.6                           27.41   \n",
       "...            ...              ...                             ...   \n",
       "2141         48.07             33.1                           36.97   \n",
       "2142         47.74             33.3                           36.99   \n",
       "2143          48.4             32.9                           37.96   \n",
       "2144         48.08             33.1                           36.97   \n",
       "2145         47.75             33.3                           36.99   \n",
       "\n",
       "     Maximum Rate of Pressure Rise  BMEP   IMEP   BSFC BSNOx   BSCO   \n",
       "547                           1.33  8.67   10.1  307.4  2.91  222.7  \\\n",
       "548                           1.32   8.6   9.98  307.2  2.99  220.9   \n",
       "549                           1.31  8.53   9.86  307.5  3.03  221.4   \n",
       "550                           1.39  8.82  10.31  304.4  3.23  215.2   \n",
       "551                           1.39  8.75  10.19  306.1  3.09  221.4   \n",
       "...                            ...   ...    ...    ...   ...    ...   \n",
       "2141                          0.78  8.13  10.29    426  1.73    403   \n",
       "2142                          0.78  8.08  10.27  425.9  1.81  402.8   \n",
       "2143                          0.78   8.2  10.31  424.8  1.72  399.2   \n",
       "2144                          0.78  8.14  10.29  425.9  1.74  402.7   \n",
       "2145                          0.78  8.08  10.27    426   1.8  403.3   \n",
       "\n",
       "      Knocking Index  Knocking  \n",
       "547              0.0       0.0  \n",
       "548              0.0       0.0  \n",
       "549              0.0       0.0  \n",
       "550              0.0       0.0  \n",
       "551              0.0       0.0  \n",
       "...              ...       ...  \n",
       "2141             0.0       0.0  \n",
       "2142             0.0       0.0  \n",
       "2143             0.0       0.0  \n",
       "2144             0.0       0.0  \n",
       "2145             0.0       0.0  \n",
       "\n",
       "[1064 rows x 20 columns]"
      ]
     },
     "execution_count": 2,
     "metadata": {},
     "output_type": "execute_result"
    }
   ],
   "source": [
    "data = pd.read_csv('/Users/ujong-yun/Documents/학부연구생/학부연구생 - dataset 공유 (csv).csv')\n",
    "data.dropna()\n",
    "regression_data = data.loc[data['Knocking'] == 0]\n",
    "regression_data"
   ]
  },
  {
   "cell_type": "code",
   "execution_count": 3,
   "metadata": {},
   "outputs": [
    {
     "name": "stdout",
     "output_type": "stream",
     "text": [
      "<class 'pandas.core.frame.DataFrame'>\n",
      "Index: 1064 entries, 547 to 2145\n",
      "Data columns (total 20 columns):\n",
      " #   Column                           Non-Null Count  Dtype  \n",
      "---  ------                           --------------  -----  \n",
      " 0   Case                             1064 non-null   float64\n",
      " 1   Engine Speed                     1064 non-null   object \n",
      " 2   Spark Timing                     1064 non-null   object \n",
      " 3   Throttle Angle                   1064 non-null   object \n",
      " 4   Ambient Temperature              1064 non-null   object \n",
      " 5   Intake Pressure                  1064 non-null   object \n",
      " 6   Intake Temperature               1064 non-null   object \n",
      " 7   Exhaust Pressure                 1064 non-null   object \n",
      " 8   Exhaust Temperature              1064 non-null   object \n",
      " 9   Injected Mass                    1064 non-null   object \n",
      " 10  Maximum Pressure                 1064 non-null   object \n",
      " 11  Crank Angle at Maximum Pressure  1064 non-null   object \n",
      " 12  Maximum Rate of Pressure Rise    1064 non-null   object \n",
      " 13  BMEP                             1064 non-null   object \n",
      " 14  IMEP                             1064 non-null   object \n",
      " 15  BSFC                             1064 non-null   object \n",
      " 16  BSNOx                            1064 non-null   object \n",
      " 17  BSCO                             1064 non-null   object \n",
      " 18  Knocking Index                   1064 non-null   float64\n",
      " 19  Knocking                         1064 non-null   float64\n",
      "dtypes: float64(3), object(17)\n",
      "memory usage: 174.6+ KB\n"
     ]
    }
   ],
   "source": [
    "regression_data.info()"
   ]
  },
  {
   "cell_type": "code",
   "execution_count": 4,
   "metadata": {},
   "outputs": [
    {
     "name": "stdout",
     "output_type": "stream",
     "text": [
      "<class 'pandas.core.frame.DataFrame'>\n",
      "Index: 1064 entries, 547 to 2145\n",
      "Data columns (total 9 columns):\n",
      " #   Column               Non-Null Count  Dtype \n",
      "---  ------               --------------  ----- \n",
      " 0   Engine Speed         1064 non-null   object\n",
      " 1   Spark Timing         1064 non-null   object\n",
      " 2   Throttle Angle       1064 non-null   object\n",
      " 3   Ambient Temperature  1064 non-null   object\n",
      " 4   Intake Pressure      1064 non-null   object\n",
      " 5   Intake Temperature   1064 non-null   object\n",
      " 6   Exhaust Pressure     1064 non-null   object\n",
      " 7   Exhaust Temperature  1064 non-null   object\n",
      " 8   Injected Mass        1064 non-null   object\n",
      "dtypes: object(9)\n",
      "memory usage: 83.1+ KB\n"
     ]
    }
   ],
   "source": [
    "input_data = regression_data.iloc[:, [1, 2, 3, 4, 5, 6, 7, 8, 9]]\n",
    "input_data\n",
    "input_data.info()"
   ]
  },
  {
   "cell_type": "code",
   "execution_count": 5,
   "metadata": {},
   "outputs": [
    {
     "name": "stdout",
     "output_type": "stream",
     "text": [
      "<class 'pandas.core.frame.DataFrame'>\n",
      "Index: 1064 entries, 547 to 2145\n",
      "Data columns (total 8 columns):\n",
      " #   Column                           Non-Null Count  Dtype \n",
      "---  ------                           --------------  ----- \n",
      " 0   Maximum Pressure                 1064 non-null   object\n",
      " 1   Crank Angle at Maximum Pressure  1064 non-null   object\n",
      " 2   Maximum Rate of Pressure Rise    1064 non-null   object\n",
      " 3   BMEP                             1064 non-null   object\n",
      " 4   IMEP                             1064 non-null   object\n",
      " 5   BSFC                             1064 non-null   object\n",
      " 6   BSNOx                            1064 non-null   object\n",
      " 7   BSCO                             1064 non-null   object\n",
      "dtypes: object(8)\n",
      "memory usage: 74.8+ KB\n"
     ]
    }
   ],
   "source": [
    "output_data = regression_data.iloc[:, [10, 11, 12, 13, 14, 15, 16, 17]]\n",
    "output_data\n",
    "output_data.info()"
   ]
  },
  {
   "cell_type": "code",
   "execution_count": 6,
   "metadata": {},
   "outputs": [
    {
     "name": "stdout",
     "output_type": "stream",
     "text": [
      "<class 'pandas.core.frame.DataFrame'>\n",
      "Index: 1064 entries, 547 to 2145\n",
      "Data columns (total 9 columns):\n",
      " #   Column               Non-Null Count  Dtype  \n",
      "---  ------               --------------  -----  \n",
      " 0   Engine Speed         1064 non-null   float64\n",
      " 1   Spark Timing         1064 non-null   float64\n",
      " 2   Throttle Angle       1064 non-null   float64\n",
      " 3   Ambient Temperature  1064 non-null   float64\n",
      " 4   Intake Pressure      1064 non-null   float64\n",
      " 5   Intake Temperature   1064 non-null   float64\n",
      " 6   Exhaust Pressure     1064 non-null   float64\n",
      " 7   Exhaust Temperature  1064 non-null   float64\n",
      " 8   Injected Mass        1064 non-null   float64\n",
      "dtypes: float64(9)\n",
      "memory usage: 83.1 KB\n",
      "<class 'pandas.core.frame.DataFrame'>\n",
      "Index: 1064 entries, 547 to 2145\n",
      "Data columns (total 8 columns):\n",
      " #   Column                           Non-Null Count  Dtype  \n",
      "---  ------                           --------------  -----  \n",
      " 0   Maximum Pressure                 1064 non-null   float64\n",
      " 1   Crank Angle at Maximum Pressure  1064 non-null   float64\n",
      " 2   Maximum Rate of Pressure Rise    1064 non-null   float64\n",
      " 3   BMEP                             1064 non-null   float64\n",
      " 4   IMEP                             1064 non-null   float64\n",
      " 5   BSFC                             1064 non-null   float64\n",
      " 6   BSNOx                            1064 non-null   float64\n",
      " 7   BSCO                             1064 non-null   float64\n",
      "dtypes: float64(8)\n",
      "memory usage: 74.8 KB\n"
     ]
    }
   ],
   "source": [
    "input_data=input_data.astype('float')\n",
    "output_data = output_data.astype('float')\n",
    "input_data.info()\n",
    "output_data.info()"
   ]
  },
  {
   "cell_type": "code",
   "execution_count": 7,
   "metadata": {},
   "outputs": [
    {
     "name": "stdout",
     "output_type": "stream",
     "text": [
      "(638, 9) (638, 8)\n",
      "(213, 9) (213, 8)\n",
      "(213, 9) (213, 8)\n"
     ]
    }
   ],
   "source": [
    "train_input, test_input, train_output, test_output = train_test_split(input_data, output_data, test_size=0.2, shuffle = True, random_state=42)\n",
    "train_input, val_input, train_output, val_output = train_test_split(train_input, train_output, test_size = 0.25, shuffle=True, random_state=42)\n",
    "print(train_input.shape, train_output.shape)\n",
    "print(val_input.shape, val_output.shape)\n",
    "print(test_input.shape, test_output.shape)\n"
   ]
  },
  {
   "cell_type": "code",
   "execution_count": 8,
   "metadata": {},
   "outputs": [
    {
     "name": "stdout",
     "output_type": "stream",
     "text": [
      "Index([ 578, 2135, 1282, 1743, 1854, 1499, 1510, 1522,  746, 1280,\n",
      "       ...\n",
      "       1465, 1993, 2019, 1216,  766, 1512,  715,  780, 2087,  572],\n",
      "      dtype='int64', length=213)\n"
     ]
    }
   ],
   "source": [
    "print(test_output.index)"
   ]
  },
  {
   "cell_type": "code",
   "execution_count": 9,
   "metadata": {},
   "outputs": [],
   "source": [
    "ss = StandardScaler()\n",
    "ss.fit(train_input)\n",
    "train_scale = ss.transform(train_input)\n",
    "val_scale =  ss.transform(val_input)\n",
    "test_scale =  ss.transform(test_input)"
   ]
  },
  {
   "attachments": {},
   "cell_type": "markdown",
   "metadata": {},
   "source": [
    "# DNN Model"
   ]
  },
  {
   "cell_type": "code",
   "execution_count": 10,
   "metadata": {},
   "outputs": [
    {
     "name": "stderr",
     "output_type": "stream",
     "text": [
      "2024-03-15 15:16:20.600519: I metal_plugin/src/device/metal_device.cc:1154] Metal device set to: Apple M1\n",
      "2024-03-15 15:16:20.600547: I metal_plugin/src/device/metal_device.cc:296] systemMemory: 16.00 GB\n",
      "2024-03-15 15:16:20.600554: I metal_plugin/src/device/metal_device.cc:313] maxCacheSize: 5.33 GB\n",
      "2024-03-15 15:16:20.600637: I tensorflow/core/common_runtime/pluggable_device/pluggable_device_factory.cc:303] Could not identify NUMA node of platform GPU ID 0, defaulting to 0. Your kernel may not have been built with NUMA support.\n",
      "2024-03-15 15:16:20.600687: I tensorflow/core/common_runtime/pluggable_device/pluggable_device_factory.cc:269] Created TensorFlow device (/job:localhost/replica:0/task:0/device:GPU:0 with 0 MB memory) -> physical PluggableDevice (device: 0, name: METAL, pci bus id: <undefined>)\n"
     ]
    },
    {
     "name": "stdout",
     "output_type": "stream",
     "text": [
      "Model: \"sequential\"\n",
      "_________________________________________________________________\n",
      " Layer (type)                Output Shape              Param #   \n",
      "=================================================================\n",
      " dense (Dense)               (None, 256)               2560      \n",
      "                                                                 \n",
      " dense_1 (Dense)             (None, 128)               32896     \n",
      "                                                                 \n",
      " dense_2 (Dense)             (None, 64)                8256      \n",
      "                                                                 \n",
      " dense_3 (Dense)             (None, 32)                2080      \n",
      "                                                                 \n",
      " dense_4 (Dense)             (None, 16)                528       \n",
      "                                                                 \n",
      " dense_5 (Dense)             (None, 8)                 136       \n",
      "                                                                 \n",
      "=================================================================\n",
      "Total params: 46456 (181.47 KB)\n",
      "Trainable params: 46456 (181.47 KB)\n",
      "Non-trainable params: 0 (0.00 Byte)\n",
      "_________________________________________________________________\n"
     ]
    }
   ],
   "source": [
    "model = keras.Sequential()\n",
    "model.add(keras.layers.Dense(256, activation='elu', input_shape = (9, )))\n",
    "model.add(keras.layers.Dense(128, activation='elu'))\n",
    "model.add(keras.layers.Dense(64, activation='elu'))\n",
    "model.add(keras.layers.Dense(32, activation= 'elu'))\n",
    "model.add(keras.layers.Dense(16, activation= 'elu'))\n",
    "model.add(keras.layers.Dense(8))\n",
    "model.summary()"
   ]
  },
  {
   "cell_type": "code",
   "execution_count": 11,
   "metadata": {},
   "outputs": [],
   "source": [
    "#initial_learning_rate = 0.01\n",
    "#lr_schedule = tf.keras.optimizers.schedules.ExponentialDecay(\n",
    "    #initial_learning_rate,\n",
    "    #decay_steps=100000,\n",
    "    #decay_rate=0.96,\n",
    "    #staircase=True)"
   ]
  },
  {
   "cell_type": "code",
   "execution_count": 12,
   "metadata": {},
   "outputs": [
    {
     "name": "stdout",
     "output_type": "stream",
     "text": [
      "Epoch 1/1000\n"
     ]
    },
    {
     "name": "stderr",
     "output_type": "stream",
     "text": [
      "2024-03-15 15:16:24.659712: I tensorflow/core/grappler/optimizers/custom_graph_optimizer_registry.cc:114] Plugin optimizer for device_type GPU is enabled.\n"
     ]
    },
    {
     "name": "stdout",
     "output_type": "stream",
     "text": [
      "20/20 [==============================] - 2s 43ms/step - loss: 25129.5977 - mae: 89.8296 - mse: 25129.5977 - val_loss: 24409.6523 - val_mae: 89.0030 - val_mse: 24409.6523\n",
      "Epoch 2/1000\n"
     ]
    },
    {
     "name": "stderr",
     "output_type": "stream",
     "text": [
      "2024-03-15 15:16:25.694526: I tensorflow/core/grappler/optimizers/custom_graph_optimizer_registry.cc:114] Plugin optimizer for device_type GPU is enabled.\n"
     ]
    },
    {
     "name": "stdout",
     "output_type": "stream",
     "text": [
      "20/20 [==============================] - 0s 23ms/step - loss: 23584.1621 - mae: 87.3015 - mse: 23584.1621 - val_loss: 21090.9375 - val_mae: 83.8931 - val_mse: 21090.9375\n",
      "Epoch 3/1000\n",
      "20/20 [==============================] - 0s 24ms/step - loss: 15708.4229 - mae: 77.9674 - mse: 15708.4229 - val_loss: 8945.7305 - val_mae: 66.5294 - val_mse: 8945.7305\n",
      "Epoch 4/1000\n",
      "20/20 [==============================] - 0s 23ms/step - loss: 6312.2207 - mae: 55.8588 - mse: 6312.2207 - val_loss: 4335.6880 - val_mae: 40.9008 - val_mse: 4335.6880\n",
      "Epoch 5/1000\n",
      "20/20 [==============================] - 0s 23ms/step - loss: 3353.8279 - mae: 35.2833 - mse: 3353.8279 - val_loss: 2660.1091 - val_mae: 29.0780 - val_mse: 2660.1091\n",
      "Epoch 6/1000\n",
      "20/20 [==============================] - 0s 23ms/step - loss: 2362.2412 - mae: 28.0695 - mse: 2362.2412 - val_loss: 1903.4734 - val_mae: 24.3214 - val_mse: 1903.4734\n",
      "Epoch 7/1000\n",
      "20/20 [==============================] - 0s 23ms/step - loss: 1717.8767 - mae: 23.9899 - mse: 1717.8767 - val_loss: 1389.9657 - val_mae: 19.8500 - val_mse: 1389.9657\n",
      "Epoch 8/1000\n",
      "20/20 [==============================] - 0s 23ms/step - loss: 1247.5367 - mae: 19.4969 - mse: 1247.5367 - val_loss: 976.0282 - val_mae: 16.1053 - val_mse: 976.0282\n",
      "Epoch 9/1000\n",
      "20/20 [==============================] - 0s 23ms/step - loss: 877.9388 - mae: 16.1785 - mse: 877.9388 - val_loss: 708.6031 - val_mae: 13.5483 - val_mse: 708.6031\n",
      "Epoch 10/1000\n",
      "20/20 [==============================] - 0s 25ms/step - loss: 599.0034 - mae: 13.7454 - mse: 599.0034 - val_loss: 436.3307 - val_mae: 11.4894 - val_mse: 436.3307\n",
      "Epoch 11/1000\n",
      "20/20 [==============================] - 0s 23ms/step - loss: 344.3016 - mae: 11.0572 - mse: 344.3016 - val_loss: 279.8647 - val_mae: 9.8811 - val_mse: 279.8647\n",
      "Epoch 12/1000\n",
      "20/20 [==============================] - 0s 23ms/step - loss: 204.7530 - mae: 9.0979 - mse: 204.7530 - val_loss: 158.1496 - val_mae: 7.8637 - val_mse: 158.1496\n",
      "Epoch 13/1000\n",
      "20/20 [==============================] - 0s 23ms/step - loss: 137.5332 - mae: 7.8017 - mse: 137.5332 - val_loss: 114.1238 - val_mae: 6.9857 - val_mse: 114.1238\n",
      "Epoch 14/1000\n",
      "20/20 [==============================] - 0s 23ms/step - loss: 105.9163 - mae: 7.0356 - mse: 105.9163 - val_loss: 91.9142 - val_mae: 6.4033 - val_mse: 91.9142\n",
      "Epoch 15/1000\n",
      "20/20 [==============================] - 0s 23ms/step - loss: 87.9637 - mae: 6.4518 - mse: 87.9637 - val_loss: 81.9116 - val_mae: 6.1089 - val_mse: 81.9116\n",
      "Epoch 16/1000\n",
      "20/20 [==============================] - 0s 23ms/step - loss: 77.3914 - mae: 6.0837 - mse: 77.3914 - val_loss: 71.1460 - val_mae: 5.6788 - val_mse: 71.1460\n",
      "Epoch 17/1000\n",
      "20/20 [==============================] - 0s 23ms/step - loss: 68.5894 - mae: 5.6855 - mse: 68.5894 - val_loss: 64.0887 - val_mae: 5.3967 - val_mse: 64.0887\n",
      "Epoch 18/1000\n",
      "20/20 [==============================] - 0s 23ms/step - loss: 63.0649 - mae: 5.4282 - mse: 63.0649 - val_loss: 58.2467 - val_mae: 5.0743 - val_mse: 58.2467\n",
      "Epoch 19/1000\n",
      "20/20 [==============================] - 0s 23ms/step - loss: 58.5959 - mae: 5.1802 - mse: 58.5959 - val_loss: 52.0801 - val_mae: 4.7990 - val_mse: 52.0801\n",
      "Epoch 20/1000\n",
      "20/20 [==============================] - 1s 30ms/step - loss: 54.3264 - mae: 4.9702 - mse: 54.3264 - val_loss: 51.3131 - val_mae: 4.7245 - val_mse: 51.3131\n",
      "Epoch 21/1000\n",
      "20/20 [==============================] - 1s 27ms/step - loss: 50.4650 - mae: 4.7808 - mse: 50.4650 - val_loss: 48.4479 - val_mae: 4.5717 - val_mse: 48.4479\n",
      "Epoch 22/1000\n",
      "20/20 [==============================] - 0s 23ms/step - loss: 48.5726 - mae: 4.6504 - mse: 48.5726 - val_loss: 46.6694 - val_mae: 4.4654 - val_mse: 46.6694\n",
      "Epoch 23/1000\n",
      "20/20 [==============================] - 0s 22ms/step - loss: 47.3915 - mae: 4.5535 - mse: 47.3915 - val_loss: 44.1818 - val_mae: 4.3413 - val_mse: 44.1818\n",
      "Epoch 24/1000\n",
      "20/20 [==============================] - 1s 31ms/step - loss: 45.0627 - mae: 4.4420 - mse: 45.0627 - val_loss: 43.9455 - val_mae: 4.3076 - val_mse: 43.9455\n",
      "Epoch 25/1000\n",
      "20/20 [==============================] - 1s 32ms/step - loss: 44.2495 - mae: 4.3873 - mse: 44.2495 - val_loss: 41.8050 - val_mae: 4.1988 - val_mse: 41.8050\n",
      "Epoch 26/1000\n",
      "20/20 [==============================] - 1s 27ms/step - loss: 42.3272 - mae: 4.2722 - mse: 42.3272 - val_loss: 41.3997 - val_mae: 4.1393 - val_mse: 41.3997\n",
      "Epoch 27/1000\n",
      "20/20 [==============================] - 1s 29ms/step - loss: 42.2501 - mae: 4.2173 - mse: 42.2501 - val_loss: 42.4968 - val_mae: 4.1987 - val_mse: 42.4968\n",
      "Epoch 28/1000\n",
      "20/20 [==============================] - 1s 28ms/step - loss: 42.8978 - mae: 4.2748 - mse: 42.8978 - val_loss: 40.3199 - val_mae: 4.1013 - val_mse: 40.3199\n",
      "Epoch 29/1000\n",
      "20/20 [==============================] - 0s 23ms/step - loss: 40.7315 - mae: 4.1623 - mse: 40.7315 - val_loss: 39.4126 - val_mae: 4.0031 - val_mse: 39.4126\n",
      "Epoch 30/1000\n",
      "20/20 [==============================] - 1s 29ms/step - loss: 40.0456 - mae: 4.0992 - mse: 40.0456 - val_loss: 40.1714 - val_mae: 4.0502 - val_mse: 40.1714\n",
      "Epoch 31/1000\n",
      "20/20 [==============================] - 1s 30ms/step - loss: 38.8318 - mae: 4.0287 - mse: 38.8318 - val_loss: 38.3442 - val_mae: 3.9440 - val_mse: 38.3442\n",
      "Epoch 32/1000\n",
      "20/20 [==============================] - 1s 27ms/step - loss: 38.6161 - mae: 4.0204 - mse: 38.6161 - val_loss: 37.3323 - val_mae: 3.8693 - val_mse: 37.3323\n",
      "Epoch 33/1000\n",
      "20/20 [==============================] - 1s 27ms/step - loss: 37.9602 - mae: 3.9647 - mse: 37.9602 - val_loss: 37.6291 - val_mae: 3.8691 - val_mse: 37.6291\n",
      "Epoch 34/1000\n",
      "20/20 [==============================] - 0s 25ms/step - loss: 37.0605 - mae: 3.9191 - mse: 37.0605 - val_loss: 38.1489 - val_mae: 3.9159 - val_mse: 38.1489\n",
      "Epoch 35/1000\n",
      "20/20 [==============================] - 0s 24ms/step - loss: 37.2111 - mae: 3.9082 - mse: 37.2111 - val_loss: 38.3797 - val_mae: 3.9332 - val_mse: 38.3797\n",
      "Epoch 36/1000\n",
      "20/20 [==============================] - 0s 24ms/step - loss: 37.2110 - mae: 3.9162 - mse: 37.2110 - val_loss: 37.2099 - val_mae: 3.8552 - val_mse: 37.2099\n",
      "Epoch 37/1000\n",
      "20/20 [==============================] - 0s 24ms/step - loss: 36.1999 - mae: 3.8733 - mse: 36.1999 - val_loss: 37.0911 - val_mae: 3.8158 - val_mse: 37.0911\n",
      "Epoch 38/1000\n",
      "20/20 [==============================] - 0s 25ms/step - loss: 36.0856 - mae: 3.8525 - mse: 36.0856 - val_loss: 35.7008 - val_mae: 3.7566 - val_mse: 35.7008\n",
      "Epoch 39/1000\n",
      "20/20 [==============================] - 0s 23ms/step - loss: 35.7605 - mae: 3.8220 - mse: 35.7605 - val_loss: 35.7836 - val_mae: 3.7427 - val_mse: 35.7836\n",
      "Epoch 40/1000\n",
      "20/20 [==============================] - 0s 23ms/step - loss: 34.7128 - mae: 3.7548 - mse: 34.7128 - val_loss: 34.4843 - val_mae: 3.6788 - val_mse: 34.4843\n",
      "Epoch 41/1000\n",
      "20/20 [==============================] - 0s 24ms/step - loss: 34.6541 - mae: 3.7628 - mse: 34.6541 - val_loss: 35.2899 - val_mae: 3.7185 - val_mse: 35.2899\n",
      "Epoch 42/1000\n",
      "20/20 [==============================] - 0s 23ms/step - loss: 34.7842 - mae: 3.7634 - mse: 34.7842 - val_loss: 34.7629 - val_mae: 3.6686 - val_mse: 34.7629\n",
      "Epoch 43/1000\n",
      "20/20 [==============================] - 1s 26ms/step - loss: 34.0287 - mae: 3.7036 - mse: 34.0287 - val_loss: 33.5240 - val_mae: 3.6291 - val_mse: 33.5240\n",
      "Epoch 44/1000\n",
      "20/20 [==============================] - 0s 22ms/step - loss: 33.6102 - mae: 3.6893 - mse: 33.6102 - val_loss: 34.1327 - val_mae: 3.6528 - val_mse: 34.1327\n",
      "Epoch 45/1000\n",
      "20/20 [==============================] - 1s 32ms/step - loss: 33.4889 - mae: 3.6863 - mse: 33.4889 - val_loss: 33.9425 - val_mae: 3.6327 - val_mse: 33.9425\n",
      "Epoch 46/1000\n",
      "20/20 [==============================] - 0s 24ms/step - loss: 33.0066 - mae: 3.6633 - mse: 33.0066 - val_loss: 33.0583 - val_mae: 3.6084 - val_mse: 33.0583\n",
      "Epoch 47/1000\n",
      "20/20 [==============================] - 0s 24ms/step - loss: 32.6193 - mae: 3.6262 - mse: 32.6193 - val_loss: 33.6888 - val_mae: 3.6326 - val_mse: 33.6888\n",
      "Epoch 48/1000\n",
      "20/20 [==============================] - 1s 26ms/step - loss: 32.1491 - mae: 3.6036 - mse: 32.1491 - val_loss: 32.9227 - val_mae: 3.5926 - val_mse: 32.9227\n",
      "Epoch 49/1000\n",
      "20/20 [==============================] - 1s 43ms/step - loss: 32.2677 - mae: 3.6235 - mse: 32.2677 - val_loss: 33.4465 - val_mae: 3.6155 - val_mse: 33.4465\n",
      "Epoch 50/1000\n",
      "20/20 [==============================] - 1s 41ms/step - loss: 32.6562 - mae: 3.6400 - mse: 32.6562 - val_loss: 32.0828 - val_mae: 3.5591 - val_mse: 32.0828\n",
      "Epoch 51/1000\n",
      "20/20 [==============================] - 0s 25ms/step - loss: 31.6690 - mae: 3.5891 - mse: 31.6690 - val_loss: 32.6395 - val_mae: 3.5566 - val_mse: 32.6395\n",
      "Epoch 52/1000\n",
      "20/20 [==============================] - 0s 23ms/step - loss: 31.8735 - mae: 3.5885 - mse: 31.8735 - val_loss: 31.6686 - val_mae: 3.5057 - val_mse: 31.6686\n",
      "Epoch 53/1000\n",
      "20/20 [==============================] - 0s 23ms/step - loss: 30.8778 - mae: 3.5276 - mse: 30.8778 - val_loss: 31.7491 - val_mae: 3.5446 - val_mse: 31.7491\n",
      "Epoch 54/1000\n",
      "20/20 [==============================] - 1s 25ms/step - loss: 31.2527 - mae: 3.5762 - mse: 31.2527 - val_loss: 32.1966 - val_mae: 3.5865 - val_mse: 32.1966\n",
      "Epoch 55/1000\n",
      "20/20 [==============================] - 0s 22ms/step - loss: 31.0996 - mae: 3.5538 - mse: 31.0996 - val_loss: 30.8243 - val_mae: 3.4666 - val_mse: 30.8243\n",
      "Epoch 56/1000\n",
      "20/20 [==============================] - 1s 26ms/step - loss: 29.9988 - mae: 3.4797 - mse: 29.9988 - val_loss: 30.7327 - val_mae: 3.4277 - val_mse: 30.7327\n",
      "Epoch 57/1000\n",
      "20/20 [==============================] - 0s 24ms/step - loss: 29.8424 - mae: 3.4643 - mse: 29.8424 - val_loss: 29.9872 - val_mae: 3.4260 - val_mse: 29.9872\n",
      "Epoch 58/1000\n",
      "20/20 [==============================] - 0s 23ms/step - loss: 30.1412 - mae: 3.5012 - mse: 30.1412 - val_loss: 30.6798 - val_mae: 3.4677 - val_mse: 30.6798\n",
      "Epoch 59/1000\n",
      "20/20 [==============================] - 0s 23ms/step - loss: 29.8188 - mae: 3.4854 - mse: 29.8188 - val_loss: 29.8152 - val_mae: 3.4277 - val_mse: 29.8152\n",
      "Epoch 60/1000\n",
      "20/20 [==============================] - 0s 23ms/step - loss: 29.1751 - mae: 3.4567 - mse: 29.1751 - val_loss: 29.5587 - val_mae: 3.4100 - val_mse: 29.5587\n",
      "Epoch 61/1000\n",
      "20/20 [==============================] - 0s 22ms/step - loss: 28.7834 - mae: 3.4193 - mse: 28.7834 - val_loss: 29.5638 - val_mae: 3.3948 - val_mse: 29.5638\n",
      "Epoch 62/1000\n",
      "20/20 [==============================] - 0s 23ms/step - loss: 28.5516 - mae: 3.4242 - mse: 28.5516 - val_loss: 29.6950 - val_mae: 3.4232 - val_mse: 29.6950\n",
      "Epoch 63/1000\n",
      "20/20 [==============================] - 0s 24ms/step - loss: 28.6289 - mae: 3.4139 - mse: 28.6289 - val_loss: 29.7463 - val_mae: 3.4005 - val_mse: 29.7463\n",
      "Epoch 64/1000\n",
      "20/20 [==============================] - 0s 22ms/step - loss: 28.7204 - mae: 3.4349 - mse: 28.7204 - val_loss: 30.1808 - val_mae: 3.4304 - val_mse: 30.1808\n",
      "Epoch 65/1000\n",
      "20/20 [==============================] - 0s 23ms/step - loss: 28.0316 - mae: 3.3903 - mse: 28.0316 - val_loss: 28.1647 - val_mae: 3.3490 - val_mse: 28.1647\n",
      "Epoch 66/1000\n",
      "20/20 [==============================] - 0s 23ms/step - loss: 27.8583 - mae: 3.3894 - mse: 27.8583 - val_loss: 28.2166 - val_mae: 3.3574 - val_mse: 28.2166\n",
      "Epoch 67/1000\n",
      "20/20 [==============================] - 0s 24ms/step - loss: 27.4679 - mae: 3.3535 - mse: 27.4679 - val_loss: 29.1127 - val_mae: 3.3895 - val_mse: 29.1127\n",
      "Epoch 68/1000\n",
      "20/20 [==============================] - 0s 23ms/step - loss: 27.2189 - mae: 3.3496 - mse: 27.2189 - val_loss: 28.2002 - val_mae: 3.3551 - val_mse: 28.2002\n",
      "Epoch 69/1000\n",
      "20/20 [==============================] - 0s 24ms/step - loss: 26.7448 - mae: 3.3361 - mse: 26.7448 - val_loss: 27.6552 - val_mae: 3.3321 - val_mse: 27.6552\n",
      "Epoch 70/1000\n",
      "20/20 [==============================] - 0s 23ms/step - loss: 26.5998 - mae: 3.3236 - mse: 26.5998 - val_loss: 26.9744 - val_mae: 3.2998 - val_mse: 26.9744\n",
      "Epoch 71/1000\n",
      "20/20 [==============================] - 1s 28ms/step - loss: 26.1494 - mae: 3.2978 - mse: 26.1494 - val_loss: 26.6225 - val_mae: 3.2783 - val_mse: 26.6225\n",
      "Epoch 72/1000\n",
      "20/20 [==============================] - 0s 23ms/step - loss: 25.6436 - mae: 3.2750 - mse: 25.6436 - val_loss: 27.7079 - val_mae: 3.3632 - val_mse: 27.7079\n",
      "Epoch 73/1000\n",
      "20/20 [==============================] - 0s 22ms/step - loss: 25.9808 - mae: 3.3273 - mse: 25.9808 - val_loss: 26.5690 - val_mae: 3.2994 - val_mse: 26.5690\n",
      "Epoch 74/1000\n",
      "20/20 [==============================] - 1s 26ms/step - loss: 25.2751 - mae: 3.2599 - mse: 25.2751 - val_loss: 26.4502 - val_mae: 3.2971 - val_mse: 26.4502\n",
      "Epoch 75/1000\n",
      "20/20 [==============================] - 0s 25ms/step - loss: 25.4487 - mae: 3.3092 - mse: 25.4487 - val_loss: 26.1234 - val_mae: 3.2935 - val_mse: 26.1234\n",
      "Epoch 76/1000\n",
      "20/20 [==============================] - 0s 23ms/step - loss: 25.1786 - mae: 3.2638 - mse: 25.1786 - val_loss: 25.4816 - val_mae: 3.3027 - val_mse: 25.4816\n",
      "Epoch 77/1000\n",
      "20/20 [==============================] - 0s 23ms/step - loss: 24.8383 - mae: 3.2658 - mse: 24.8383 - val_loss: 25.5426 - val_mae: 3.2640 - val_mse: 25.5426\n",
      "Epoch 78/1000\n",
      "20/20 [==============================] - 0s 24ms/step - loss: 24.2829 - mae: 3.2321 - mse: 24.2829 - val_loss: 24.7918 - val_mae: 3.2429 - val_mse: 24.7918\n",
      "Epoch 79/1000\n",
      "20/20 [==============================] - 0s 24ms/step - loss: 23.9056 - mae: 3.2182 - mse: 23.9056 - val_loss: 24.8377 - val_mae: 3.2407 - val_mse: 24.8377\n",
      "Epoch 80/1000\n",
      "20/20 [==============================] - 0s 25ms/step - loss: 23.9623 - mae: 3.2155 - mse: 23.9623 - val_loss: 24.3727 - val_mae: 3.2439 - val_mse: 24.3727\n",
      "Epoch 81/1000\n",
      "20/20 [==============================] - 0s 24ms/step - loss: 23.4218 - mae: 3.1915 - mse: 23.4218 - val_loss: 24.6643 - val_mae: 3.2310 - val_mse: 24.6643\n",
      "Epoch 82/1000\n",
      "20/20 [==============================] - 0s 23ms/step - loss: 22.8470 - mae: 3.1652 - mse: 22.8470 - val_loss: 24.1993 - val_mae: 3.2417 - val_mse: 24.1993\n",
      "Epoch 83/1000\n",
      "20/20 [==============================] - 0s 22ms/step - loss: 23.3905 - mae: 3.2237 - mse: 23.3905 - val_loss: 24.2762 - val_mae: 3.2819 - val_mse: 24.2762\n",
      "Epoch 84/1000\n",
      "20/20 [==============================] - 0s 22ms/step - loss: 22.7639 - mae: 3.1877 - mse: 22.7639 - val_loss: 23.4926 - val_mae: 3.2211 - val_mse: 23.4926\n",
      "Epoch 85/1000\n",
      "20/20 [==============================] - 0s 24ms/step - loss: 22.3706 - mae: 3.1504 - mse: 22.3706 - val_loss: 23.2626 - val_mae: 3.2154 - val_mse: 23.2626\n",
      "Epoch 86/1000\n",
      "20/20 [==============================] - 0s 23ms/step - loss: 22.0683 - mae: 3.1499 - mse: 22.0683 - val_loss: 22.1310 - val_mae: 3.1484 - val_mse: 22.1310\n",
      "Epoch 87/1000\n",
      "20/20 [==============================] - 0s 23ms/step - loss: 21.3140 - mae: 3.1017 - mse: 21.3140 - val_loss: 21.9159 - val_mae: 3.1384 - val_mse: 21.9159\n",
      "Epoch 88/1000\n",
      "20/20 [==============================] - 0s 23ms/step - loss: 21.1166 - mae: 3.1144 - mse: 21.1166 - val_loss: 22.8168 - val_mae: 3.2363 - val_mse: 22.8168\n",
      "Epoch 89/1000\n",
      "20/20 [==============================] - 0s 23ms/step - loss: 21.3880 - mae: 3.1389 - mse: 21.3880 - val_loss: 21.4940 - val_mae: 3.1540 - val_mse: 21.4940\n",
      "Epoch 90/1000\n",
      "20/20 [==============================] - 0s 23ms/step - loss: 20.6956 - mae: 3.1165 - mse: 20.6956 - val_loss: 20.7228 - val_mae: 3.0996 - val_mse: 20.7228\n",
      "Epoch 91/1000\n",
      "20/20 [==============================] - 0s 23ms/step - loss: 20.2762 - mae: 3.0859 - mse: 20.2762 - val_loss: 20.6476 - val_mae: 3.1218 - val_mse: 20.6476\n",
      "Epoch 92/1000\n",
      "20/20 [==============================] - 0s 24ms/step - loss: 19.6393 - mae: 3.0655 - mse: 19.6393 - val_loss: 20.4176 - val_mae: 3.0854 - val_mse: 20.4176\n",
      "Epoch 93/1000\n",
      "20/20 [==============================] - 0s 24ms/step - loss: 19.1251 - mae: 3.0225 - mse: 19.1251 - val_loss: 19.9254 - val_mae: 3.0779 - val_mse: 19.9254\n",
      "Epoch 94/1000\n",
      "20/20 [==============================] - 0s 23ms/step - loss: 19.0703 - mae: 3.0412 - mse: 19.0703 - val_loss: 19.4861 - val_mae: 3.0457 - val_mse: 19.4861\n",
      "Epoch 95/1000\n",
      "20/20 [==============================] - 0s 23ms/step - loss: 18.2215 - mae: 2.9943 - mse: 18.2215 - val_loss: 18.6072 - val_mae: 3.0115 - val_mse: 18.6072\n",
      "Epoch 96/1000\n",
      "20/20 [==============================] - 0s 23ms/step - loss: 17.8280 - mae: 2.9696 - mse: 17.8280 - val_loss: 18.3139 - val_mae: 3.0206 - val_mse: 18.3139\n",
      "Epoch 97/1000\n",
      "20/20 [==============================] - 1s 27ms/step - loss: 17.7096 - mae: 2.9968 - mse: 17.7096 - val_loss: 18.2226 - val_mae: 3.0471 - val_mse: 18.2226\n",
      "Epoch 98/1000\n",
      "20/20 [==============================] - 1s 26ms/step - loss: 17.0360 - mae: 2.9358 - mse: 17.0360 - val_loss: 17.9186 - val_mae: 3.0126 - val_mse: 17.9186\n",
      "Epoch 99/1000\n",
      "20/20 [==============================] - 0s 23ms/step - loss: 16.4875 - mae: 2.8999 - mse: 16.4875 - val_loss: 16.5288 - val_mae: 2.9117 - val_mse: 16.5288\n",
      "Epoch 100/1000\n",
      "20/20 [==============================] - 0s 24ms/step - loss: 15.7955 - mae: 2.8543 - mse: 15.7955 - val_loss: 16.1553 - val_mae: 2.8971 - val_mse: 16.1553\n",
      "Epoch 101/1000\n",
      "20/20 [==============================] - 0s 24ms/step - loss: 15.7722 - mae: 2.8774 - mse: 15.7722 - val_loss: 15.4801 - val_mae: 2.8550 - val_mse: 15.4801\n",
      "Epoch 102/1000\n",
      "20/20 [==============================] - 0s 24ms/step - loss: 14.8262 - mae: 2.8211 - mse: 14.8262 - val_loss: 14.7956 - val_mae: 2.8039 - val_mse: 14.7956\n",
      "Epoch 103/1000\n",
      "20/20 [==============================] - 1s 29ms/step - loss: 14.3758 - mae: 2.7680 - mse: 14.3758 - val_loss: 15.5411 - val_mae: 2.8785 - val_mse: 15.5411\n",
      "Epoch 104/1000\n",
      "20/20 [==============================] - 0s 24ms/step - loss: 13.6233 - mae: 2.7122 - mse: 13.6233 - val_loss: 14.0095 - val_mae: 2.7439 - val_mse: 14.0095\n",
      "Epoch 105/1000\n",
      "20/20 [==============================] - 0s 25ms/step - loss: 12.9256 - mae: 2.6528 - mse: 12.9256 - val_loss: 13.6038 - val_mae: 2.6882 - val_mse: 13.6038\n",
      "Epoch 106/1000\n",
      "20/20 [==============================] - 0s 23ms/step - loss: 12.5936 - mae: 2.6056 - mse: 12.5936 - val_loss: 12.8615 - val_mae: 2.6404 - val_mse: 12.8615\n",
      "Epoch 107/1000\n",
      "20/20 [==============================] - 0s 23ms/step - loss: 12.0062 - mae: 2.5733 - mse: 12.0062 - val_loss: 13.2053 - val_mae: 2.7038 - val_mse: 13.2053\n",
      "Epoch 108/1000\n",
      "20/20 [==============================] - 0s 24ms/step - loss: 11.5065 - mae: 2.5157 - mse: 11.5065 - val_loss: 11.8295 - val_mae: 2.5542 - val_mse: 11.8295\n",
      "Epoch 109/1000\n",
      "20/20 [==============================] - 1s 30ms/step - loss: 10.8690 - mae: 2.4339 - mse: 10.8690 - val_loss: 10.7818 - val_mae: 2.4286 - val_mse: 10.7818\n",
      "Epoch 110/1000\n",
      "20/20 [==============================] - 0s 24ms/step - loss: 10.2087 - mae: 2.3731 - mse: 10.2087 - val_loss: 10.4434 - val_mae: 2.4006 - val_mse: 10.4434\n",
      "Epoch 111/1000\n",
      "20/20 [==============================] - 0s 24ms/step - loss: 9.7923 - mae: 2.3329 - mse: 9.7923 - val_loss: 10.3919 - val_mae: 2.3746 - val_mse: 10.3919\n",
      "Epoch 112/1000\n",
      "20/20 [==============================] - 0s 24ms/step - loss: 9.6694 - mae: 2.2996 - mse: 9.6694 - val_loss: 10.2928 - val_mae: 2.3588 - val_mse: 10.2928\n",
      "Epoch 113/1000\n",
      "20/20 [==============================] - 1s 30ms/step - loss: 9.3596 - mae: 2.2679 - mse: 9.3596 - val_loss: 9.0830 - val_mae: 2.2218 - val_mse: 9.0830\n",
      "Epoch 114/1000\n",
      "20/20 [==============================] - 1s 32ms/step - loss: 8.9209 - mae: 2.2153 - mse: 8.9209 - val_loss: 8.5342 - val_mae: 2.1575 - val_mse: 8.5342\n",
      "Epoch 115/1000\n",
      "20/20 [==============================] - 0s 24ms/step - loss: 8.2895 - mae: 2.1304 - mse: 8.2895 - val_loss: 8.2674 - val_mae: 2.1136 - val_mse: 8.2674\n",
      "Epoch 116/1000\n",
      "20/20 [==============================] - 0s 23ms/step - loss: 7.8541 - mae: 2.0874 - mse: 7.8541 - val_loss: 8.1085 - val_mae: 2.1023 - val_mse: 8.1085\n",
      "Epoch 117/1000\n",
      "20/20 [==============================] - 0s 24ms/step - loss: 7.4929 - mae: 2.0393 - mse: 7.4929 - val_loss: 7.8693 - val_mae: 2.0691 - val_mse: 7.8693\n",
      "Epoch 118/1000\n",
      "20/20 [==============================] - 0s 23ms/step - loss: 7.4065 - mae: 2.0361 - mse: 7.4065 - val_loss: 7.4141 - val_mae: 1.9907 - val_mse: 7.4141\n",
      "Epoch 119/1000\n",
      "20/20 [==============================] - 0s 25ms/step - loss: 6.8852 - mae: 1.9619 - mse: 6.8852 - val_loss: 6.9948 - val_mae: 1.9532 - val_mse: 6.9948\n",
      "Epoch 120/1000\n",
      "20/20 [==============================] - 0s 23ms/step - loss: 6.7109 - mae: 1.9402 - mse: 6.7109 - val_loss: 7.2161 - val_mae: 1.9715 - val_mse: 7.2161\n",
      "Epoch 121/1000\n",
      "20/20 [==============================] - 0s 23ms/step - loss: 6.4100 - mae: 1.8884 - mse: 6.4100 - val_loss: 6.6675 - val_mae: 1.8977 - val_mse: 6.6675\n",
      "Epoch 122/1000\n",
      "20/20 [==============================] - 0s 22ms/step - loss: 6.3312 - mae: 1.8861 - mse: 6.3312 - val_loss: 6.5004 - val_mae: 1.8752 - val_mse: 6.5004\n",
      "Epoch 123/1000\n",
      "20/20 [==============================] - 1s 27ms/step - loss: 6.3104 - mae: 1.8629 - mse: 6.3104 - val_loss: 7.0757 - val_mae: 1.9550 - val_mse: 7.0757\n",
      "Epoch 124/1000\n",
      "20/20 [==============================] - 1s 27ms/step - loss: 6.3538 - mae: 1.8849 - mse: 6.3538 - val_loss: 6.0968 - val_mae: 1.8204 - val_mse: 6.0968\n",
      "Epoch 125/1000\n",
      "20/20 [==============================] - 0s 24ms/step - loss: 6.1780 - mae: 1.8397 - mse: 6.1780 - val_loss: 5.7777 - val_mae: 1.7513 - val_mse: 5.7777\n",
      "Epoch 126/1000\n",
      "20/20 [==============================] - 0s 23ms/step - loss: 5.2278 - mae: 1.7267 - mse: 5.2278 - val_loss: 5.6719 - val_mae: 1.7436 - val_mse: 5.6719\n",
      "Epoch 127/1000\n",
      "20/20 [==============================] - 0s 23ms/step - loss: 5.1710 - mae: 1.7093 - mse: 5.1710 - val_loss: 5.1609 - val_mae: 1.6555 - val_mse: 5.1609\n",
      "Epoch 128/1000\n",
      "20/20 [==============================] - 0s 23ms/step - loss: 4.8975 - mae: 1.6563 - mse: 4.8975 - val_loss: 5.1866 - val_mae: 1.6497 - val_mse: 5.1866\n",
      "Epoch 129/1000\n",
      "20/20 [==============================] - 0s 23ms/step - loss: 4.8453 - mae: 1.6460 - mse: 4.8453 - val_loss: 6.4447 - val_mae: 1.8166 - val_mse: 6.4447\n",
      "Epoch 130/1000\n",
      "20/20 [==============================] - 1s 26ms/step - loss: 4.9819 - mae: 1.6556 - mse: 4.9819 - val_loss: 4.8367 - val_mae: 1.6081 - val_mse: 4.8367\n",
      "Epoch 131/1000\n",
      "20/20 [==============================] - 0s 25ms/step - loss: 4.6637 - mae: 1.6113 - mse: 4.6637 - val_loss: 4.6541 - val_mae: 1.5639 - val_mse: 4.6541\n",
      "Epoch 132/1000\n",
      "20/20 [==============================] - 0s 23ms/step - loss: 4.4374 - mae: 1.5672 - mse: 4.4374 - val_loss: 4.6317 - val_mae: 1.5724 - val_mse: 4.6317\n",
      "Epoch 133/1000\n",
      "20/20 [==============================] - 0s 24ms/step - loss: 4.2508 - mae: 1.5413 - mse: 4.2508 - val_loss: 4.5417 - val_mae: 1.5305 - val_mse: 4.5417\n",
      "Epoch 134/1000\n",
      "20/20 [==============================] - 0s 25ms/step - loss: 4.3851 - mae: 1.5565 - mse: 4.3851 - val_loss: 5.6127 - val_mae: 1.6856 - val_mse: 5.6127\n",
      "Epoch 135/1000\n",
      "20/20 [==============================] - 0s 25ms/step - loss: 4.3709 - mae: 1.5595 - mse: 4.3709 - val_loss: 4.5595 - val_mae: 1.5450 - val_mse: 4.5595\n",
      "Epoch 136/1000\n",
      "20/20 [==============================] - 0s 23ms/step - loss: 4.2835 - mae: 1.5349 - mse: 4.2835 - val_loss: 4.3932 - val_mae: 1.5210 - val_mse: 4.3932\n",
      "Epoch 137/1000\n",
      "20/20 [==============================] - 0s 24ms/step - loss: 4.1138 - mae: 1.4989 - mse: 4.1138 - val_loss: 4.2908 - val_mae: 1.4753 - val_mse: 4.2908\n",
      "Epoch 138/1000\n",
      "20/20 [==============================] - 0s 24ms/step - loss: 3.9572 - mae: 1.4661 - mse: 3.9572 - val_loss: 4.1137 - val_mae: 1.4684 - val_mse: 4.1137\n",
      "Epoch 139/1000\n",
      "20/20 [==============================] - 1s 28ms/step - loss: 4.0599 - mae: 1.4895 - mse: 4.0599 - val_loss: 5.0267 - val_mae: 1.5874 - val_mse: 5.0267\n",
      "Epoch 140/1000\n",
      "20/20 [==============================] - 1s 28ms/step - loss: 3.8723 - mae: 1.4512 - mse: 3.8723 - val_loss: 3.8465 - val_mae: 1.4132 - val_mse: 3.8465\n",
      "Epoch 141/1000\n",
      "20/20 [==============================] - 0s 24ms/step - loss: 3.5361 - mae: 1.3887 - mse: 3.5361 - val_loss: 3.8661 - val_mae: 1.4165 - val_mse: 3.8661\n",
      "Epoch 142/1000\n",
      "20/20 [==============================] - 0s 23ms/step - loss: 3.4434 - mae: 1.3799 - mse: 3.4434 - val_loss: 4.3142 - val_mae: 1.4643 - val_mse: 4.3142\n",
      "Epoch 143/1000\n",
      "20/20 [==============================] - 0s 24ms/step - loss: 3.3791 - mae: 1.3621 - mse: 3.3791 - val_loss: 3.6121 - val_mae: 1.3666 - val_mse: 3.6121\n",
      "Epoch 144/1000\n",
      "20/20 [==============================] - 1s 26ms/step - loss: 3.3960 - mae: 1.3559 - mse: 3.3960 - val_loss: 4.2208 - val_mae: 1.4657 - val_mse: 4.2208\n",
      "Epoch 145/1000\n",
      "20/20 [==============================] - 1s 33ms/step - loss: 3.3477 - mae: 1.3535 - mse: 3.3477 - val_loss: 3.3002 - val_mae: 1.2899 - val_mse: 3.3002\n",
      "Epoch 146/1000\n",
      "20/20 [==============================] - 0s 23ms/step - loss: 3.2771 - mae: 1.3463 - mse: 3.2771 - val_loss: 3.4477 - val_mae: 1.3345 - val_mse: 3.4477\n",
      "Epoch 147/1000\n",
      "20/20 [==============================] - 0s 24ms/step - loss: 3.2713 - mae: 1.3330 - mse: 3.2713 - val_loss: 3.3412 - val_mae: 1.2973 - val_mse: 3.3412\n",
      "Epoch 148/1000\n",
      "20/20 [==============================] - 0s 25ms/step - loss: 3.1214 - mae: 1.3134 - mse: 3.1214 - val_loss: 3.3808 - val_mae: 1.3127 - val_mse: 3.3808\n",
      "Epoch 149/1000\n",
      "20/20 [==============================] - 1s 26ms/step - loss: 2.9723 - mae: 1.2852 - mse: 2.9723 - val_loss: 3.2869 - val_mae: 1.3012 - val_mse: 3.2869\n",
      "Epoch 150/1000\n",
      "20/20 [==============================] - 1s 27ms/step - loss: 3.4594 - mae: 1.3517 - mse: 3.4594 - val_loss: 3.4813 - val_mae: 1.3145 - val_mse: 3.4813\n",
      "Epoch 151/1000\n",
      "20/20 [==============================] - 0s 24ms/step - loss: 3.1072 - mae: 1.3017 - mse: 3.1072 - val_loss: 3.2500 - val_mae: 1.2648 - val_mse: 3.2500\n",
      "Epoch 152/1000\n",
      "20/20 [==============================] - 0s 24ms/step - loss: 3.1573 - mae: 1.2943 - mse: 3.1573 - val_loss: 3.6632 - val_mae: 1.3568 - val_mse: 3.6632\n",
      "Epoch 153/1000\n",
      "20/20 [==============================] - 1s 28ms/step - loss: 3.1935 - mae: 1.3087 - mse: 3.1935 - val_loss: 4.7420 - val_mae: 1.5146 - val_mse: 4.7420\n",
      "Epoch 154/1000\n",
      "20/20 [==============================] - 1s 26ms/step - loss: 3.3599 - mae: 1.3258 - mse: 3.3599 - val_loss: 3.3227 - val_mae: 1.2790 - val_mse: 3.3227\n",
      "Epoch 155/1000\n",
      "20/20 [==============================] - 1s 25ms/step - loss: 2.9515 - mae: 1.2593 - mse: 2.9515 - val_loss: 3.1353 - val_mae: 1.2336 - val_mse: 3.1353\n",
      "Epoch 156/1000\n",
      "20/20 [==============================] - 0s 24ms/step - loss: 2.9768 - mae: 1.2457 - mse: 2.9768 - val_loss: 4.3892 - val_mae: 1.4216 - val_mse: 4.3892\n",
      "Epoch 157/1000\n",
      "20/20 [==============================] - 0s 24ms/step - loss: 3.0205 - mae: 1.2705 - mse: 3.0205 - val_loss: 3.1032 - val_mae: 1.2160 - val_mse: 3.1032\n",
      "Epoch 158/1000\n",
      "20/20 [==============================] - 0s 24ms/step - loss: 2.5648 - mae: 1.1800 - mse: 2.5648 - val_loss: 2.8096 - val_mae: 1.1840 - val_mse: 2.8096\n",
      "Epoch 159/1000\n",
      "20/20 [==============================] - 0s 24ms/step - loss: 2.7406 - mae: 1.2033 - mse: 2.7406 - val_loss: 3.1716 - val_mae: 1.2386 - val_mse: 3.1716\n",
      "Epoch 160/1000\n",
      "20/20 [==============================] - 1s 27ms/step - loss: 2.9566 - mae: 1.2474 - mse: 2.9566 - val_loss: 2.8583 - val_mae: 1.1926 - val_mse: 2.8583\n",
      "Epoch 161/1000\n",
      "20/20 [==============================] - 0s 24ms/step - loss: 3.0114 - mae: 1.2450 - mse: 3.0114 - val_loss: 3.3291 - val_mae: 1.2394 - val_mse: 3.3291\n",
      "Epoch 162/1000\n",
      "20/20 [==============================] - 0s 23ms/step - loss: 2.6765 - mae: 1.1801 - mse: 2.6765 - val_loss: 2.5762 - val_mae: 1.1243 - val_mse: 2.5762\n",
      "Epoch 163/1000\n",
      "20/20 [==============================] - 0s 25ms/step - loss: 2.4182 - mae: 1.1375 - mse: 2.4182 - val_loss: 2.9141 - val_mae: 1.1753 - val_mse: 2.9141\n",
      "Epoch 164/1000\n",
      "20/20 [==============================] - 0s 24ms/step - loss: 2.5777 - mae: 1.1659 - mse: 2.5777 - val_loss: 2.7500 - val_mae: 1.1535 - val_mse: 2.7500\n",
      "Epoch 165/1000\n",
      "20/20 [==============================] - 0s 25ms/step - loss: 2.7338 - mae: 1.1855 - mse: 2.7338 - val_loss: 2.4839 - val_mae: 1.0929 - val_mse: 2.4839\n",
      "Epoch 166/1000\n",
      "20/20 [==============================] - 0s 25ms/step - loss: 2.4935 - mae: 1.1458 - mse: 2.4935 - val_loss: 2.9042 - val_mae: 1.1832 - val_mse: 2.9042\n",
      "Epoch 167/1000\n",
      "20/20 [==============================] - 0s 24ms/step - loss: 2.3664 - mae: 1.1285 - mse: 2.3664 - val_loss: 2.4265 - val_mae: 1.0933 - val_mse: 2.4265\n",
      "Epoch 168/1000\n",
      "20/20 [==============================] - 1s 27ms/step - loss: 2.5637 - mae: 1.1477 - mse: 2.5637 - val_loss: 3.0537 - val_mae: 1.1914 - val_mse: 3.0537\n",
      "Epoch 169/1000\n",
      "20/20 [==============================] - 0s 25ms/step - loss: 2.3737 - mae: 1.1209 - mse: 2.3737 - val_loss: 2.5973 - val_mae: 1.1286 - val_mse: 2.5973\n",
      "Epoch 170/1000\n",
      "20/20 [==============================] - 1s 32ms/step - loss: 2.5094 - mae: 1.1445 - mse: 2.5094 - val_loss: 2.8332 - val_mae: 1.1572 - val_mse: 2.8332\n",
      "Epoch 171/1000\n",
      "20/20 [==============================] - 1s 26ms/step - loss: 2.1898 - mae: 1.0769 - mse: 2.1898 - val_loss: 2.5402 - val_mae: 1.1042 - val_mse: 2.5402\n",
      "Epoch 172/1000\n",
      "20/20 [==============================] - 1s 27ms/step - loss: 2.1861 - mae: 1.0793 - mse: 2.1861 - val_loss: 2.4131 - val_mae: 1.0757 - val_mse: 2.4131\n",
      "Epoch 173/1000\n",
      "20/20 [==============================] - 1s 29ms/step - loss: 2.1242 - mae: 1.0682 - mse: 2.1242 - val_loss: 2.4795 - val_mae: 1.0954 - val_mse: 2.4795\n",
      "Epoch 174/1000\n",
      "20/20 [==============================] - 0s 25ms/step - loss: 2.1605 - mae: 1.0717 - mse: 2.1605 - val_loss: 2.2914 - val_mae: 1.0479 - val_mse: 2.2914\n",
      "Epoch 175/1000\n",
      "20/20 [==============================] - 1s 28ms/step - loss: 2.1996 - mae: 1.0736 - mse: 2.1996 - val_loss: 2.3321 - val_mae: 1.0702 - val_mse: 2.3321\n",
      "Epoch 176/1000\n",
      "20/20 [==============================] - 0s 24ms/step - loss: 2.3021 - mae: 1.0843 - mse: 2.3021 - val_loss: 2.7257 - val_mae: 1.1539 - val_mse: 2.7257\n",
      "Epoch 177/1000\n",
      "20/20 [==============================] - 0s 24ms/step - loss: 2.2838 - mae: 1.0874 - mse: 2.2838 - val_loss: 2.7890 - val_mae: 1.1391 - val_mse: 2.7890\n",
      "Epoch 178/1000\n",
      "20/20 [==============================] - 1s 28ms/step - loss: 2.3987 - mae: 1.1178 - mse: 2.3987 - val_loss: 2.5559 - val_mae: 1.0956 - val_mse: 2.5559\n",
      "Epoch 179/1000\n",
      "20/20 [==============================] - 1s 32ms/step - loss: 2.6286 - mae: 1.1507 - mse: 2.6286 - val_loss: 2.6281 - val_mae: 1.1205 - val_mse: 2.6281\n",
      "Epoch 180/1000\n",
      "20/20 [==============================] - 1s 28ms/step - loss: 2.3098 - mae: 1.0979 - mse: 2.3098 - val_loss: 2.9691 - val_mae: 1.1858 - val_mse: 2.9691\n",
      "Epoch 181/1000\n",
      "20/20 [==============================] - 0s 25ms/step - loss: 2.4213 - mae: 1.0984 - mse: 2.4213 - val_loss: 2.3061 - val_mae: 1.0477 - val_mse: 2.3061\n",
      "Epoch 182/1000\n",
      "20/20 [==============================] - 0s 25ms/step - loss: 2.1705 - mae: 1.0606 - mse: 2.1705 - val_loss: 2.2935 - val_mae: 1.0446 - val_mse: 2.2935\n",
      "Epoch 183/1000\n",
      "20/20 [==============================] - 1s 26ms/step - loss: 2.1888 - mae: 1.0685 - mse: 2.1888 - val_loss: 2.2904 - val_mae: 1.0445 - val_mse: 2.2904\n",
      "Epoch 184/1000\n",
      "20/20 [==============================] - 0s 25ms/step - loss: 2.0573 - mae: 1.0350 - mse: 2.0573 - val_loss: 2.0716 - val_mae: 0.9959 - val_mse: 2.0716\n",
      "Epoch 185/1000\n",
      "20/20 [==============================] - 1s 31ms/step - loss: 2.1391 - mae: 1.0535 - mse: 2.1391 - val_loss: 2.2360 - val_mae: 1.0381 - val_mse: 2.2360\n",
      "Epoch 186/1000\n",
      "20/20 [==============================] - 1s 25ms/step - loss: 2.3261 - mae: 1.1177 - mse: 2.3261 - val_loss: 2.4459 - val_mae: 1.0904 - val_mse: 2.4459\n",
      "Epoch 187/1000\n",
      "20/20 [==============================] - 1s 26ms/step - loss: 2.1481 - mae: 1.0503 - mse: 2.1481 - val_loss: 2.4986 - val_mae: 1.0774 - val_mse: 2.4986\n",
      "Epoch 188/1000\n",
      "20/20 [==============================] - 1s 27ms/step - loss: 2.1990 - mae: 1.0703 - mse: 2.1990 - val_loss: 2.4418 - val_mae: 1.0771 - val_mse: 2.4418\n",
      "Epoch 189/1000\n",
      "20/20 [==============================] - 1s 28ms/step - loss: 3.6487 - mae: 1.2371 - mse: 3.6487 - val_loss: 3.9248 - val_mae: 1.3051 - val_mse: 3.9248\n",
      "Epoch 190/1000\n",
      "20/20 [==============================] - 0s 25ms/step - loss: 5.9876 - mae: 1.5062 - mse: 5.9876 - val_loss: 3.4713 - val_mae: 1.2151 - val_mse: 3.4713\n",
      "Epoch 191/1000\n",
      "20/20 [==============================] - 1s 26ms/step - loss: 4.1191 - mae: 1.3328 - mse: 4.1191 - val_loss: 3.9794 - val_mae: 1.3223 - val_mse: 3.9794\n",
      "Epoch 192/1000\n",
      "20/20 [==============================] - 1s 26ms/step - loss: 2.3754 - mae: 1.0917 - mse: 2.3754 - val_loss: 3.0026 - val_mae: 1.1794 - val_mse: 3.0026\n",
      "Epoch 193/1000\n",
      "20/20 [==============================] - 1s 26ms/step - loss: 2.8335 - mae: 1.1501 - mse: 2.8335 - val_loss: 4.7322 - val_mae: 1.3957 - val_mse: 4.7322\n",
      "Epoch 194/1000\n",
      "20/20 [==============================] - 1s 29ms/step - loss: 2.6450 - mae: 1.1061 - mse: 2.6450 - val_loss: 2.6887 - val_mae: 1.1057 - val_mse: 2.6887\n",
      "Epoch 195/1000\n",
      "20/20 [==============================] - 1s 26ms/step - loss: 2.0827 - mae: 1.0259 - mse: 2.0827 - val_loss: 2.0337 - val_mae: 0.9840 - val_mse: 2.0337\n",
      "Epoch 196/1000\n",
      "20/20 [==============================] - 0s 25ms/step - loss: 2.0090 - mae: 1.0112 - mse: 2.0090 - val_loss: 1.9964 - val_mae: 0.9566 - val_mse: 1.9964\n",
      "Epoch 197/1000\n",
      "20/20 [==============================] - 0s 25ms/step - loss: 1.8296 - mae: 0.9732 - mse: 1.8296 - val_loss: 2.0913 - val_mae: 0.9812 - val_mse: 2.0913\n",
      "Epoch 198/1000\n",
      "20/20 [==============================] - 1s 26ms/step - loss: 1.8402 - mae: 0.9902 - mse: 1.8402 - val_loss: 2.3260 - val_mae: 1.0209 - val_mse: 2.3260\n",
      "Epoch 199/1000\n",
      "20/20 [==============================] - 1s 31ms/step - loss: 1.9507 - mae: 0.9998 - mse: 1.9507 - val_loss: 1.9801 - val_mae: 0.9601 - val_mse: 1.9801\n",
      "Epoch 200/1000\n",
      "20/20 [==============================] - 1s 26ms/step - loss: 1.6738 - mae: 0.9309 - mse: 1.6738 - val_loss: 1.8190 - val_mae: 0.9262 - val_mse: 1.8190\n",
      "Epoch 201/1000\n",
      "20/20 [==============================] - 0s 25ms/step - loss: 1.8769 - mae: 0.9711 - mse: 1.8769 - val_loss: 2.2573 - val_mae: 1.0344 - val_mse: 2.2573\n",
      "Epoch 202/1000\n",
      "20/20 [==============================] - 1s 26ms/step - loss: 1.9539 - mae: 0.9930 - mse: 1.9539 - val_loss: 3.1738 - val_mae: 1.2061 - val_mse: 3.1738\n",
      "Epoch 203/1000\n",
      "20/20 [==============================] - 0s 25ms/step - loss: 2.0224 - mae: 1.0128 - mse: 2.0224 - val_loss: 2.2368 - val_mae: 1.0548 - val_mse: 2.2368\n",
      "Epoch 204/1000\n",
      "20/20 [==============================] - 1s 28ms/step - loss: 1.9323 - mae: 0.9881 - mse: 1.9323 - val_loss: 2.4605 - val_mae: 1.0581 - val_mse: 2.4605\n",
      "Epoch 205/1000\n",
      "20/20 [==============================] - 1s 26ms/step - loss: 1.9512 - mae: 0.9933 - mse: 1.9512 - val_loss: 1.7416 - val_mae: 0.8824 - val_mse: 1.7416\n",
      "Epoch 206/1000\n",
      "20/20 [==============================] - 1s 26ms/step - loss: 1.6492 - mae: 0.9265 - mse: 1.6492 - val_loss: 2.0407 - val_mae: 0.9769 - val_mse: 2.0407\n",
      "Epoch 207/1000\n",
      "20/20 [==============================] - 0s 25ms/step - loss: 2.0034 - mae: 1.0014 - mse: 2.0034 - val_loss: 1.8018 - val_mae: 0.8935 - val_mse: 1.8018\n",
      "Epoch 208/1000\n",
      "20/20 [==============================] - 1s 26ms/step - loss: 2.1455 - mae: 1.0417 - mse: 2.1455 - val_loss: 1.9407 - val_mae: 0.9377 - val_mse: 1.9407\n",
      "Epoch 209/1000\n",
      "20/20 [==============================] - 1s 29ms/step - loss: 1.5494 - mae: 0.8966 - mse: 1.5494 - val_loss: 2.0383 - val_mae: 0.9596 - val_mse: 2.0383\n",
      "Epoch 210/1000\n",
      "20/20 [==============================] - 1s 27ms/step - loss: 1.9203 - mae: 0.9740 - mse: 1.9203 - val_loss: 3.0676 - val_mae: 1.1163 - val_mse: 3.0676\n",
      "Epoch 211/1000\n",
      "20/20 [==============================] - 1s 28ms/step - loss: 2.2351 - mae: 1.0261 - mse: 2.2351 - val_loss: 2.4629 - val_mae: 1.0368 - val_mse: 2.4629\n",
      "Epoch 212/1000\n",
      "20/20 [==============================] - 1s 28ms/step - loss: 2.5143 - mae: 1.0843 - mse: 2.5143 - val_loss: 2.2896 - val_mae: 1.0246 - val_mse: 2.2896\n",
      "Epoch 213/1000\n",
      "20/20 [==============================] - 1s 38ms/step - loss: 2.2117 - mae: 1.0228 - mse: 2.2117 - val_loss: 2.1285 - val_mae: 1.0055 - val_mse: 2.1285\n",
      "Epoch 214/1000\n",
      "20/20 [==============================] - 1s 30ms/step - loss: 1.9585 - mae: 0.9744 - mse: 1.9585 - val_loss: 2.5141 - val_mae: 1.0393 - val_mse: 2.5141\n",
      "Epoch 215/1000\n",
      "20/20 [==============================] - 1s 33ms/step - loss: 2.0636 - mae: 0.9981 - mse: 2.0636 - val_loss: 2.4948 - val_mae: 1.0452 - val_mse: 2.4948\n",
      "Epoch 216/1000\n",
      "20/20 [==============================] - 1s 32ms/step - loss: 2.4203 - mae: 1.0527 - mse: 2.4203 - val_loss: 2.1933 - val_mae: 0.9524 - val_mse: 2.1933\n",
      "Epoch 217/1000\n",
      "20/20 [==============================] - 1s 45ms/step - loss: 1.9887 - mae: 0.9810 - mse: 1.9887 - val_loss: 2.0710 - val_mae: 0.9685 - val_mse: 2.0710\n",
      "Epoch 218/1000\n",
      "20/20 [==============================] - 1s 38ms/step - loss: 2.5928 - mae: 1.0759 - mse: 2.5928 - val_loss: 2.6055 - val_mae: 1.0629 - val_mse: 2.6055\n",
      "Epoch 219/1000\n",
      "20/20 [==============================] - 1s 30ms/step - loss: 2.1025 - mae: 0.9914 - mse: 2.1025 - val_loss: 2.0028 - val_mae: 0.9194 - val_mse: 2.0028\n",
      "Epoch 220/1000\n",
      "20/20 [==============================] - 1s 34ms/step - loss: 2.5816 - mae: 1.0703 - mse: 2.5816 - val_loss: 3.8947 - val_mae: 1.2367 - val_mse: 3.8947\n",
      "Epoch 221/1000\n",
      "20/20 [==============================] - 1s 35ms/step - loss: 2.3232 - mae: 1.0150 - mse: 2.3232 - val_loss: 2.3901 - val_mae: 1.0171 - val_mse: 2.3901\n",
      "Epoch 222/1000\n",
      "20/20 [==============================] - 1s 36ms/step - loss: 1.5610 - mae: 0.8849 - mse: 1.5610 - val_loss: 1.8317 - val_mae: 0.8817 - val_mse: 1.8317\n",
      "Epoch 223/1000\n",
      "20/20 [==============================] - 1s 36ms/step - loss: 1.5316 - mae: 0.8747 - mse: 1.5316 - val_loss: 2.1067 - val_mae: 0.9725 - val_mse: 2.1067\n",
      "Epoch 224/1000\n",
      "20/20 [==============================] - 1s 39ms/step - loss: 2.0479 - mae: 0.9682 - mse: 2.0479 - val_loss: 3.8009 - val_mae: 1.2638 - val_mse: 3.8009\n",
      "Epoch 225/1000\n",
      "20/20 [==============================] - 1s 28ms/step - loss: 1.8676 - mae: 0.9623 - mse: 1.8676 - val_loss: 2.4566 - val_mae: 1.0276 - val_mse: 2.4566\n",
      "Epoch 226/1000\n",
      "20/20 [==============================] - 1s 26ms/step - loss: 1.7741 - mae: 0.9352 - mse: 1.7741 - val_loss: 1.7696 - val_mae: 0.8703 - val_mse: 1.7696\n",
      "Epoch 227/1000\n",
      "20/20 [==============================] - 1s 29ms/step - loss: 1.5730 - mae: 0.8827 - mse: 1.5730 - val_loss: 1.6542 - val_mae: 0.8525 - val_mse: 1.6542\n",
      "Epoch 228/1000\n",
      "20/20 [==============================] - 1s 26ms/step - loss: 1.5127 - mae: 0.8711 - mse: 1.5127 - val_loss: 1.8513 - val_mae: 0.9174 - val_mse: 1.8513\n",
      "Epoch 229/1000\n",
      "20/20 [==============================] - 1s 26ms/step - loss: 1.9468 - mae: 0.9457 - mse: 1.9468 - val_loss: 2.3006 - val_mae: 1.0039 - val_mse: 2.3006\n",
      "Epoch 230/1000\n",
      "20/20 [==============================] - 1s 25ms/step - loss: 1.7064 - mae: 0.9056 - mse: 1.7064 - val_loss: 1.7742 - val_mae: 0.8762 - val_mse: 1.7742\n",
      "Epoch 231/1000\n",
      "20/20 [==============================] - 1s 33ms/step - loss: 1.4764 - mae: 0.8511 - mse: 1.4764 - val_loss: 1.9362 - val_mae: 0.8969 - val_mse: 1.9362\n",
      "Epoch 232/1000\n",
      "20/20 [==============================] - 1s 29ms/step - loss: 1.6834 - mae: 0.8955 - mse: 1.6834 - val_loss: 1.8257 - val_mae: 0.9143 - val_mse: 1.8257\n",
      "Epoch 233/1000\n",
      "20/20 [==============================] - 1s 28ms/step - loss: 1.6126 - mae: 0.8849 - mse: 1.6126 - val_loss: 1.8835 - val_mae: 0.9016 - val_mse: 1.8835\n",
      "Epoch 234/1000\n",
      "20/20 [==============================] - 1s 26ms/step - loss: 1.5977 - mae: 0.8848 - mse: 1.5977 - val_loss: 1.8274 - val_mae: 0.8551 - val_mse: 1.8274\n",
      "Epoch 235/1000\n",
      "20/20 [==============================] - 1s 27ms/step - loss: 1.3614 - mae: 0.8213 - mse: 1.3614 - val_loss: 1.6773 - val_mae: 0.8409 - val_mse: 1.6773\n",
      "Epoch 236/1000\n",
      "20/20 [==============================] - 1s 27ms/step - loss: 1.4190 - mae: 0.8274 - mse: 1.4190 - val_loss: 1.5768 - val_mae: 0.8087 - val_mse: 1.5768\n",
      "Epoch 237/1000\n",
      "20/20 [==============================] - 1s 29ms/step - loss: 2.2535 - mae: 0.9885 - mse: 2.2535 - val_loss: 2.6922 - val_mae: 1.0548 - val_mse: 2.6922\n",
      "Epoch 238/1000\n",
      "20/20 [==============================] - 0s 25ms/step - loss: 2.4013 - mae: 1.0084 - mse: 2.4013 - val_loss: 1.8711 - val_mae: 0.8754 - val_mse: 1.8711\n",
      "Epoch 239/1000\n",
      "20/20 [==============================] - 0s 24ms/step - loss: 1.5968 - mae: 0.8709 - mse: 1.5968 - val_loss: 2.1200 - val_mae: 0.9083 - val_mse: 2.1200\n",
      "Epoch 240/1000\n",
      "20/20 [==============================] - 0s 25ms/step - loss: 1.6485 - mae: 0.8761 - mse: 1.6485 - val_loss: 1.7421 - val_mae: 0.8309 - val_mse: 1.7421\n",
      "Epoch 241/1000\n",
      "20/20 [==============================] - 1s 29ms/step - loss: 1.6530 - mae: 0.8798 - mse: 1.6530 - val_loss: 2.2104 - val_mae: 0.9321 - val_mse: 2.2104\n",
      "Epoch 242/1000\n",
      "20/20 [==============================] - 1s 30ms/step - loss: 1.4312 - mae: 0.8223 - mse: 1.4312 - val_loss: 1.5285 - val_mae: 0.7912 - val_mse: 1.5285\n",
      "Epoch 243/1000\n",
      "20/20 [==============================] - 1s 30ms/step - loss: 1.3785 - mae: 0.8102 - mse: 1.3785 - val_loss: 1.7138 - val_mae: 0.8468 - val_mse: 1.7138\n",
      "Epoch 244/1000\n",
      "20/20 [==============================] - 1s 25ms/step - loss: 1.6285 - mae: 0.8718 - mse: 1.6285 - val_loss: 1.4158 - val_mae: 0.7640 - val_mse: 1.4158\n",
      "Epoch 245/1000\n",
      "20/20 [==============================] - 0s 24ms/step - loss: 1.4255 - mae: 0.8193 - mse: 1.4255 - val_loss: 1.4259 - val_mae: 0.7601 - val_mse: 1.4259\n",
      "Epoch 246/1000\n",
      "20/20 [==============================] - 1s 29ms/step - loss: 1.3635 - mae: 0.8036 - mse: 1.3635 - val_loss: 1.4034 - val_mae: 0.7716 - val_mse: 1.4034\n",
      "Epoch 247/1000\n",
      "20/20 [==============================] - 1s 27ms/step - loss: 1.2390 - mae: 0.7700 - mse: 1.2390 - val_loss: 1.5668 - val_mae: 0.7980 - val_mse: 1.5668\n",
      "Epoch 248/1000\n",
      "20/20 [==============================] - 1s 26ms/step - loss: 1.7999 - mae: 0.8845 - mse: 1.7999 - val_loss: 1.4466 - val_mae: 0.7727 - val_mse: 1.4466\n",
      "Epoch 249/1000\n",
      "20/20 [==============================] - 0s 25ms/step - loss: 1.5304 - mae: 0.8417 - mse: 1.5304 - val_loss: 1.4981 - val_mae: 0.7907 - val_mse: 1.4981\n",
      "Epoch 250/1000\n",
      "20/20 [==============================] - 1s 28ms/step - loss: 1.5769 - mae: 0.8295 - mse: 1.5769 - val_loss: 1.5298 - val_mae: 0.8044 - val_mse: 1.5298\n",
      "Epoch 251/1000\n",
      "20/20 [==============================] - 0s 25ms/step - loss: 1.2778 - mae: 0.7757 - mse: 1.2778 - val_loss: 1.3121 - val_mae: 0.7263 - val_mse: 1.3121\n",
      "Epoch 252/1000\n",
      "20/20 [==============================] - 0s 24ms/step - loss: 1.5595 - mae: 0.8285 - mse: 1.5595 - val_loss: 1.7453 - val_mae: 0.8337 - val_mse: 1.7453\n",
      "Epoch 253/1000\n",
      "20/20 [==============================] - 0s 25ms/step - loss: 1.3020 - mae: 0.7834 - mse: 1.3020 - val_loss: 1.3484 - val_mae: 0.7347 - val_mse: 1.3484\n",
      "Epoch 254/1000\n",
      "20/20 [==============================] - 1s 27ms/step - loss: 1.2599 - mae: 0.7660 - mse: 1.2599 - val_loss: 1.2965 - val_mae: 0.7227 - val_mse: 1.2965\n",
      "Epoch 255/1000\n",
      "20/20 [==============================] - 1s 26ms/step - loss: 1.2161 - mae: 0.7616 - mse: 1.2161 - val_loss: 1.3302 - val_mae: 0.7369 - val_mse: 1.3302\n",
      "Epoch 256/1000\n",
      "20/20 [==============================] - 1s 27ms/step - loss: 3.2622 - mae: 1.0664 - mse: 3.2622 - val_loss: 3.7240 - val_mae: 1.1407 - val_mse: 3.7240\n",
      "Epoch 257/1000\n",
      "20/20 [==============================] - 1s 27ms/step - loss: 3.0835 - mae: 1.0921 - mse: 3.0835 - val_loss: 2.5700 - val_mae: 0.9861 - val_mse: 2.5700\n",
      "Epoch 258/1000\n",
      "20/20 [==============================] - 1s 25ms/step - loss: 1.6708 - mae: 0.8505 - mse: 1.6708 - val_loss: 1.6431 - val_mae: 0.8152 - val_mse: 1.6431\n",
      "Epoch 259/1000\n",
      "20/20 [==============================] - 1s 28ms/step - loss: 1.4255 - mae: 0.8055 - mse: 1.4255 - val_loss: 2.5468 - val_mae: 0.9733 - val_mse: 2.5468\n",
      "Epoch 260/1000\n",
      "20/20 [==============================] - 0s 25ms/step - loss: 1.9213 - mae: 0.8878 - mse: 1.9213 - val_loss: 2.1119 - val_mae: 0.9053 - val_mse: 2.1119\n",
      "Epoch 261/1000\n",
      "20/20 [==============================] - 0s 24ms/step - loss: 1.4576 - mae: 0.7977 - mse: 1.4576 - val_loss: 1.1742 - val_mae: 0.6847 - val_mse: 1.1742\n",
      "Epoch 262/1000\n",
      "20/20 [==============================] - 0s 25ms/step - loss: 1.1444 - mae: 0.7226 - mse: 1.1444 - val_loss: 1.4432 - val_mae: 0.7640 - val_mse: 1.4432\n",
      "Epoch 263/1000\n",
      "20/20 [==============================] - 1s 26ms/step - loss: 2.5140 - mae: 0.9736 - mse: 2.5140 - val_loss: 2.3482 - val_mae: 0.8968 - val_mse: 2.3482\n",
      "Epoch 264/1000\n",
      "20/20 [==============================] - 1s 32ms/step - loss: 1.6041 - mae: 0.8242 - mse: 1.6041 - val_loss: 1.2057 - val_mae: 0.6879 - val_mse: 1.2057\n",
      "Epoch 265/1000\n",
      "20/20 [==============================] - 1s 26ms/step - loss: 0.9951 - mae: 0.6819 - mse: 0.9951 - val_loss: 1.1788 - val_mae: 0.6744 - val_mse: 1.1788\n",
      "Epoch 266/1000\n",
      "20/20 [==============================] - 1s 27ms/step - loss: 1.0318 - mae: 0.6896 - mse: 1.0318 - val_loss: 1.1996 - val_mae: 0.6869 - val_mse: 1.1996\n",
      "Epoch 267/1000\n",
      "20/20 [==============================] - 1s 29ms/step - loss: 1.0567 - mae: 0.6945 - mse: 1.0567 - val_loss: 1.4554 - val_mae: 0.7404 - val_mse: 1.4554\n",
      "Epoch 268/1000\n",
      "20/20 [==============================] - 1s 31ms/step - loss: 1.3574 - mae: 0.7636 - mse: 1.3574 - val_loss: 1.9835 - val_mae: 0.8372 - val_mse: 1.9835\n",
      "Epoch 269/1000\n",
      "20/20 [==============================] - 1s 26ms/step - loss: 1.2136 - mae: 0.7293 - mse: 1.2136 - val_loss: 1.3809 - val_mae: 0.7681 - val_mse: 1.3809\n",
      "Epoch 270/1000\n",
      "20/20 [==============================] - 1s 25ms/step - loss: 1.1261 - mae: 0.7115 - mse: 1.1261 - val_loss: 1.3167 - val_mae: 0.7251 - val_mse: 1.3167\n",
      "Epoch 271/1000\n",
      "20/20 [==============================] - 0s 24ms/step - loss: 1.1564 - mae: 0.7296 - mse: 1.1564 - val_loss: 1.1969 - val_mae: 0.6984 - val_mse: 1.1969\n",
      "Epoch 272/1000\n",
      "20/20 [==============================] - 1s 29ms/step - loss: 1.2112 - mae: 0.7255 - mse: 1.2112 - val_loss: 1.6432 - val_mae: 0.7851 - val_mse: 1.6432\n",
      "Epoch 273/1000\n",
      "20/20 [==============================] - 1s 31ms/step - loss: 1.1403 - mae: 0.7158 - mse: 1.1403 - val_loss: 1.3401 - val_mae: 0.7058 - val_mse: 1.3401\n",
      "Epoch 274/1000\n",
      "20/20 [==============================] - 0s 24ms/step - loss: 1.1070 - mae: 0.7006 - mse: 1.1070 - val_loss: 1.0833 - val_mae: 0.6465 - val_mse: 1.0833\n",
      "Epoch 275/1000\n",
      "20/20 [==============================] - 0s 25ms/step - loss: 1.0956 - mae: 0.6966 - mse: 1.0956 - val_loss: 1.3180 - val_mae: 0.7207 - val_mse: 1.3180\n",
      "Epoch 276/1000\n",
      "20/20 [==============================] - 1s 26ms/step - loss: 1.1325 - mae: 0.7192 - mse: 1.1325 - val_loss: 1.2374 - val_mae: 0.6922 - val_mse: 1.2374\n",
      "Epoch 277/1000\n",
      "20/20 [==============================] - 0s 25ms/step - loss: 1.1324 - mae: 0.7054 - mse: 1.1324 - val_loss: 1.6342 - val_mae: 0.7638 - val_mse: 1.6342\n",
      "Epoch 278/1000\n",
      "20/20 [==============================] - 1s 27ms/step - loss: 1.2786 - mae: 0.7350 - mse: 1.2786 - val_loss: 1.7443 - val_mae: 0.8146 - val_mse: 1.7443\n",
      "Epoch 279/1000\n",
      "20/20 [==============================] - 1s 26ms/step - loss: 1.5131 - mae: 0.7859 - mse: 1.5131 - val_loss: 1.2338 - val_mae: 0.6826 - val_mse: 1.2338\n",
      "Epoch 280/1000\n",
      "20/20 [==============================] - 1s 26ms/step - loss: 1.0445 - mae: 0.6817 - mse: 1.0445 - val_loss: 1.2202 - val_mae: 0.6731 - val_mse: 1.2202\n",
      "Epoch 281/1000\n",
      "20/20 [==============================] - 0s 25ms/step - loss: 0.9690 - mae: 0.6592 - mse: 0.9690 - val_loss: 1.1077 - val_mae: 0.6592 - val_mse: 1.1077\n",
      "Epoch 282/1000\n",
      "20/20 [==============================] - 1s 26ms/step - loss: 1.0535 - mae: 0.6791 - mse: 1.0535 - val_loss: 1.1927 - val_mae: 0.6631 - val_mse: 1.1927\n",
      "Epoch 283/1000\n",
      "20/20 [==============================] - 1s 27ms/step - loss: 0.9192 - mae: 0.6290 - mse: 0.9192 - val_loss: 1.2522 - val_mae: 0.6915 - val_mse: 1.2522\n",
      "Epoch 284/1000\n",
      "20/20 [==============================] - 0s 25ms/step - loss: 1.1084 - mae: 0.6928 - mse: 1.1084 - val_loss: 1.2073 - val_mae: 0.6693 - val_mse: 1.2073\n",
      "Epoch 285/1000\n",
      "20/20 [==============================] - 1s 26ms/step - loss: 1.1287 - mae: 0.6966 - mse: 1.1287 - val_loss: 2.0178 - val_mae: 0.8432 - val_mse: 2.0178\n",
      "Epoch 286/1000\n",
      "20/20 [==============================] - 0s 25ms/step - loss: 1.8280 - mae: 0.8210 - mse: 1.8280 - val_loss: 1.4987 - val_mae: 0.7446 - val_mse: 1.4987\n",
      "Epoch 287/1000\n",
      "20/20 [==============================] - 0s 25ms/step - loss: 3.6076 - mae: 1.0837 - mse: 3.6076 - val_loss: 2.0181 - val_mae: 0.8378 - val_mse: 2.0181\n",
      "Epoch 288/1000\n",
      "20/20 [==============================] - 0s 25ms/step - loss: 2.3732 - mae: 0.9337 - mse: 2.3732 - val_loss: 1.7404 - val_mae: 0.7781 - val_mse: 1.7404\n",
      "Epoch 289/1000\n",
      "20/20 [==============================] - 1s 28ms/step - loss: 1.2740 - mae: 0.7156 - mse: 1.2740 - val_loss: 1.1873 - val_mae: 0.6620 - val_mse: 1.1873\n",
      "Epoch 290/1000\n",
      "20/20 [==============================] - 1s 26ms/step - loss: 1.2293 - mae: 0.7158 - mse: 1.2293 - val_loss: 1.1747 - val_mae: 0.6656 - val_mse: 1.1747\n",
      "Epoch 291/1000\n",
      "20/20 [==============================] - 1s 25ms/step - loss: 2.1487 - mae: 0.9154 - mse: 2.1487 - val_loss: 3.8185 - val_mae: 1.0941 - val_mse: 3.8185\n",
      "Epoch 292/1000\n",
      "20/20 [==============================] - 0s 23ms/step - loss: 3.0650 - mae: 1.0087 - mse: 3.0650 - val_loss: 3.2731 - val_mae: 0.9922 - val_mse: 3.2731\n",
      "Epoch 293/1000\n",
      "20/20 [==============================] - 0s 25ms/step - loss: 2.5258 - mae: 0.9280 - mse: 2.5258 - val_loss: 2.6580 - val_mae: 0.9540 - val_mse: 2.6580\n",
      "Epoch 294/1000\n",
      "20/20 [==============================] - 1s 26ms/step - loss: 1.7302 - mae: 0.8088 - mse: 1.7302 - val_loss: 1.1375 - val_mae: 0.6437 - val_mse: 1.1375\n",
      "Epoch 295/1000\n",
      "20/20 [==============================] - 0s 25ms/step - loss: 1.4793 - mae: 0.7523 - mse: 1.4793 - val_loss: 1.4324 - val_mae: 0.7507 - val_mse: 1.4324\n",
      "Epoch 296/1000\n",
      "20/20 [==============================] - 0s 24ms/step - loss: 0.9699 - mae: 0.6410 - mse: 0.9699 - val_loss: 1.0739 - val_mae: 0.6402 - val_mse: 1.0739\n",
      "Epoch 297/1000\n",
      "20/20 [==============================] - 0s 24ms/step - loss: 0.9162 - mae: 0.6291 - mse: 0.9162 - val_loss: 0.9915 - val_mae: 0.5775 - val_mse: 0.9915\n",
      "Epoch 298/1000\n",
      "20/20 [==============================] - 1s 27ms/step - loss: 0.8180 - mae: 0.5906 - mse: 0.8180 - val_loss: 1.1308 - val_mae: 0.6248 - val_mse: 1.1308\n",
      "Epoch 299/1000\n",
      "20/20 [==============================] - 1s 27ms/step - loss: 1.4076 - mae: 0.7499 - mse: 1.4076 - val_loss: 1.7850 - val_mae: 0.7899 - val_mse: 1.7850\n",
      "Epoch 300/1000\n",
      "20/20 [==============================] - 1s 26ms/step - loss: 1.1697 - mae: 0.6858 - mse: 1.1697 - val_loss: 2.1179 - val_mae: 0.9088 - val_mse: 2.1179\n",
      "Epoch 301/1000\n",
      "20/20 [==============================] - 1s 28ms/step - loss: 1.1517 - mae: 0.6873 - mse: 1.1517 - val_loss: 1.2026 - val_mae: 0.6473 - val_mse: 1.2026\n",
      "Epoch 302/1000\n",
      "20/20 [==============================] - 1s 28ms/step - loss: 1.1149 - mae: 0.6658 - mse: 1.1149 - val_loss: 1.4047 - val_mae: 0.7188 - val_mse: 1.4047\n",
      "Epoch 303/1000\n",
      "20/20 [==============================] - 1s 26ms/step - loss: 1.0712 - mae: 0.6550 - mse: 1.0712 - val_loss: 3.5767 - val_mae: 0.9995 - val_mse: 3.5767\n",
      "Epoch 304/1000\n",
      "20/20 [==============================] - 0s 24ms/step - loss: 3.6241 - mae: 1.0591 - mse: 3.6241 - val_loss: 4.0627 - val_mae: 1.1262 - val_mse: 4.0627\n",
      "Epoch 305/1000\n",
      "20/20 [==============================] - 1s 26ms/step - loss: 1.6967 - mae: 0.7718 - mse: 1.6967 - val_loss: 1.8100 - val_mae: 0.7435 - val_mse: 1.8100\n",
      "Epoch 306/1000\n",
      "20/20 [==============================] - 1s 29ms/step - loss: 1.5505 - mae: 0.7519 - mse: 1.5505 - val_loss: 1.3497 - val_mae: 0.6704 - val_mse: 1.3497\n",
      "Epoch 307/1000\n",
      "20/20 [==============================] - 0s 25ms/step - loss: 1.3875 - mae: 0.7275 - mse: 1.3875 - val_loss: 1.3154 - val_mae: 0.6698 - val_mse: 1.3154\n",
      "Epoch 308/1000\n",
      "20/20 [==============================] - 0s 25ms/step - loss: 0.9297 - mae: 0.6086 - mse: 0.9297 - val_loss: 0.9582 - val_mae: 0.5845 - val_mse: 0.9582\n",
      "Epoch 309/1000\n",
      "20/20 [==============================] - 1s 27ms/step - loss: 1.0076 - mae: 0.6430 - mse: 1.0076 - val_loss: 1.8006 - val_mae: 0.7781 - val_mse: 1.8006\n",
      "Epoch 310/1000\n",
      "20/20 [==============================] - 1s 26ms/step - loss: 2.7246 - mae: 0.9476 - mse: 2.7246 - val_loss: 2.1860 - val_mae: 0.8714 - val_mse: 2.1860\n",
      "Epoch 311/1000\n",
      "20/20 [==============================] - 1s 26ms/step - loss: 1.7650 - mae: 0.8110 - mse: 1.7650 - val_loss: 1.5572 - val_mae: 0.7638 - val_mse: 1.5572\n",
      "Epoch 312/1000\n",
      "20/20 [==============================] - 1s 27ms/step - loss: 1.1637 - mae: 0.6611 - mse: 1.1637 - val_loss: 1.2912 - val_mae: 0.6851 - val_mse: 1.2912\n",
      "Epoch 313/1000\n",
      "20/20 [==============================] - 1s 26ms/step - loss: 0.9519 - mae: 0.6351 - mse: 0.9519 - val_loss: 1.2097 - val_mae: 0.6601 - val_mse: 1.2097\n",
      "Epoch 314/1000\n",
      "20/20 [==============================] - 1s 31ms/step - loss: 1.1531 - mae: 0.6810 - mse: 1.1531 - val_loss: 1.2170 - val_mae: 0.6269 - val_mse: 1.2170\n",
      "Epoch 315/1000\n",
      "20/20 [==============================] - 1s 27ms/step - loss: 0.8955 - mae: 0.5893 - mse: 0.8955 - val_loss: 1.0498 - val_mae: 0.6060 - val_mse: 1.0498\n",
      "Epoch 316/1000\n",
      "20/20 [==============================] - 1s 28ms/step - loss: 1.1449 - mae: 0.6731 - mse: 1.1449 - val_loss: 0.9482 - val_mae: 0.5848 - val_mse: 0.9482\n",
      "Epoch 317/1000\n",
      "20/20 [==============================] - 1s 27ms/step - loss: 0.7898 - mae: 0.5840 - mse: 0.7898 - val_loss: 1.3662 - val_mae: 0.6990 - val_mse: 1.3662\n",
      "Epoch 318/1000\n",
      "20/20 [==============================] - 1s 30ms/step - loss: 1.0306 - mae: 0.6424 - mse: 1.0306 - val_loss: 1.0860 - val_mae: 0.6678 - val_mse: 1.0860\n",
      "Epoch 319/1000\n",
      "20/20 [==============================] - 0s 25ms/step - loss: 0.9831 - mae: 0.6363 - mse: 0.9831 - val_loss: 1.2662 - val_mae: 0.6514 - val_mse: 1.2662\n",
      "Epoch 320/1000\n",
      "20/20 [==============================] - 1s 25ms/step - loss: 1.0979 - mae: 0.6569 - mse: 1.0979 - val_loss: 1.4787 - val_mae: 0.6907 - val_mse: 1.4787\n",
      "Epoch 321/1000\n",
      "20/20 [==============================] - 1s 25ms/step - loss: 1.2441 - mae: 0.6814 - mse: 1.2441 - val_loss: 1.2945 - val_mae: 0.6332 - val_mse: 1.2945\n",
      "Epoch 322/1000\n",
      "20/20 [==============================] - 1s 29ms/step - loss: 1.0008 - mae: 0.6232 - mse: 1.0008 - val_loss: 1.4407 - val_mae: 0.6951 - val_mse: 1.4407\n",
      "Epoch 323/1000\n",
      "20/20 [==============================] - 1s 25ms/step - loss: 0.9926 - mae: 0.6161 - mse: 0.9926 - val_loss: 1.2759 - val_mae: 0.6587 - val_mse: 1.2759\n",
      "Epoch 324/1000\n",
      "20/20 [==============================] - 0s 25ms/step - loss: 1.3588 - mae: 0.7024 - mse: 1.3588 - val_loss: 1.0252 - val_mae: 0.6029 - val_mse: 1.0252\n",
      "Epoch 325/1000\n",
      "20/20 [==============================] - 1s 26ms/step - loss: 1.3112 - mae: 0.6855 - mse: 1.3112 - val_loss: 1.5192 - val_mae: 0.7030 - val_mse: 1.5192\n",
      "Epoch 326/1000\n",
      "20/20 [==============================] - 1s 27ms/step - loss: 1.7718 - mae: 0.7933 - mse: 1.7718 - val_loss: 1.7027 - val_mae: 0.7409 - val_mse: 1.7027\n",
      "Epoch 327/1000\n",
      "20/20 [==============================] - 1s 26ms/step - loss: 1.7933 - mae: 0.7670 - mse: 1.7933 - val_loss: 1.4476 - val_mae: 0.6970 - val_mse: 1.4476\n",
      "Epoch 328/1000\n",
      "20/20 [==============================] - 0s 24ms/step - loss: 1.8113 - mae: 0.7811 - mse: 1.8113 - val_loss: 2.2694 - val_mae: 0.8511 - val_mse: 2.2694\n",
      "Epoch 329/1000\n",
      "20/20 [==============================] - 0s 24ms/step - loss: 1.2785 - mae: 0.6968 - mse: 1.2785 - val_loss: 1.1011 - val_mae: 0.6232 - val_mse: 1.1011\n",
      "Epoch 330/1000\n",
      "20/20 [==============================] - 0s 25ms/step - loss: 1.0024 - mae: 0.6231 - mse: 1.0024 - val_loss: 1.2219 - val_mae: 0.6588 - val_mse: 1.2219\n",
      "Epoch 331/1000\n",
      "20/20 [==============================] - 1s 27ms/step - loss: 1.1929 - mae: 0.6549 - mse: 1.1929 - val_loss: 1.1679 - val_mae: 0.6299 - val_mse: 1.1679\n",
      "Epoch 332/1000\n",
      "20/20 [==============================] - 0s 25ms/step - loss: 1.3057 - mae: 0.6813 - mse: 1.3057 - val_loss: 0.9914 - val_mae: 0.5724 - val_mse: 0.9914\n",
      "Epoch 333/1000\n",
      "20/20 [==============================] - 0s 24ms/step - loss: 0.8572 - mae: 0.5877 - mse: 0.8572 - val_loss: 0.8347 - val_mae: 0.5331 - val_mse: 0.8347\n",
      "Epoch 334/1000\n",
      "20/20 [==============================] - 1s 26ms/step - loss: 0.8950 - mae: 0.5897 - mse: 0.8950 - val_loss: 0.9229 - val_mae: 0.5695 - val_mse: 0.9229\n",
      "Epoch 335/1000\n",
      "20/20 [==============================] - 1s 25ms/step - loss: 0.7707 - mae: 0.5564 - mse: 0.7707 - val_loss: 1.0220 - val_mae: 0.5971 - val_mse: 1.0220\n",
      "Epoch 336/1000\n",
      "20/20 [==============================] - 0s 24ms/step - loss: 0.9550 - mae: 0.6202 - mse: 0.9550 - val_loss: 1.0537 - val_mae: 0.5960 - val_mse: 1.0537\n",
      "Epoch 337/1000\n",
      "20/20 [==============================] - 0s 24ms/step - loss: 1.1601 - mae: 0.6554 - mse: 1.1601 - val_loss: 1.3595 - val_mae: 0.6730 - val_mse: 1.3595\n",
      "Epoch 338/1000\n",
      "20/20 [==============================] - 1s 27ms/step - loss: 0.9573 - mae: 0.5909 - mse: 0.9573 - val_loss: 0.9887 - val_mae: 0.5683 - val_mse: 0.9887\n",
      "Epoch 339/1000\n",
      "20/20 [==============================] - 1s 25ms/step - loss: 1.0398 - mae: 0.6231 - mse: 1.0398 - val_loss: 0.9499 - val_mae: 0.5735 - val_mse: 0.9499\n",
      "Epoch 340/1000\n",
      "20/20 [==============================] - 0s 24ms/step - loss: 1.1969 - mae: 0.6412 - mse: 1.1969 - val_loss: 2.8647 - val_mae: 0.9753 - val_mse: 2.8647\n",
      "Epoch 341/1000\n",
      "20/20 [==============================] - 0s 25ms/step - loss: 1.2063 - mae: 0.6675 - mse: 1.2063 - val_loss: 1.5220 - val_mae: 0.6879 - val_mse: 1.5220\n",
      "Epoch 342/1000\n",
      "20/20 [==============================] - 1s 26ms/step - loss: 1.0799 - mae: 0.6355 - mse: 1.0799 - val_loss: 1.0198 - val_mae: 0.5982 - val_mse: 1.0198\n",
      "Epoch 343/1000\n",
      "20/20 [==============================] - 0s 25ms/step - loss: 1.0944 - mae: 0.6386 - mse: 1.0944 - val_loss: 1.9293 - val_mae: 0.7924 - val_mse: 1.9293\n",
      "Epoch 344/1000\n",
      "20/20 [==============================] - 0s 24ms/step - loss: 1.0906 - mae: 0.6351 - mse: 1.0906 - val_loss: 1.3635 - val_mae: 0.6906 - val_mse: 1.3635\n",
      "Epoch 345/1000\n",
      "20/20 [==============================] - 1s 27ms/step - loss: 1.3343 - mae: 0.6787 - mse: 1.3343 - val_loss: 2.1843 - val_mae: 0.8401 - val_mse: 2.1843\n",
      "Epoch 346/1000\n",
      "20/20 [==============================] - 0s 25ms/step - loss: 1.8386 - mae: 0.7731 - mse: 1.8386 - val_loss: 4.3846 - val_mae: 1.1624 - val_mse: 4.3846\n",
      "Epoch 347/1000\n",
      "20/20 [==============================] - 0s 24ms/step - loss: 8.4003 - mae: 1.3549 - mse: 8.4003 - val_loss: 18.1525 - val_mae: 2.1461 - val_mse: 18.1525\n",
      "Epoch 348/1000\n",
      "20/20 [==============================] - 0s 25ms/step - loss: 12.5094 - mae: 1.7283 - mse: 12.5094 - val_loss: 8.0743 - val_mae: 1.4695 - val_mse: 8.0743\n",
      "Epoch 349/1000\n",
      "20/20 [==============================] - 1s 27ms/step - loss: 3.9108 - mae: 1.0593 - mse: 3.9108 - val_loss: 1.9138 - val_mae: 0.7546 - val_mse: 1.9138\n",
      "Epoch 350/1000\n",
      "20/20 [==============================] - 1s 26ms/step - loss: 1.3761 - mae: 0.6934 - mse: 1.3761 - val_loss: 1.4567 - val_mae: 0.6663 - val_mse: 1.4567\n",
      "Epoch 351/1000\n",
      "20/20 [==============================] - 0s 24ms/step - loss: 1.0665 - mae: 0.6332 - mse: 1.0665 - val_loss: 1.0391 - val_mae: 0.5868 - val_mse: 1.0391\n",
      "Epoch 352/1000\n",
      "20/20 [==============================] - 0s 24ms/step - loss: 0.7349 - mae: 0.5420 - mse: 0.7349 - val_loss: 0.9490 - val_mae: 0.5689 - val_mse: 0.9490\n",
      "Epoch 353/1000\n",
      "20/20 [==============================] - 1s 27ms/step - loss: 0.7915 - mae: 0.5485 - mse: 0.7915 - val_loss: 1.1097 - val_mae: 0.6190 - val_mse: 1.1097\n",
      "Epoch 354/1000\n",
      "20/20 [==============================] - 0s 25ms/step - loss: 0.7360 - mae: 0.5388 - mse: 0.7360 - val_loss: 0.8377 - val_mae: 0.5309 - val_mse: 0.8377\n",
      "Epoch 355/1000\n",
      "20/20 [==============================] - 0s 23ms/step - loss: 0.9072 - mae: 0.5880 - mse: 0.9072 - val_loss: 0.8298 - val_mae: 0.5345 - val_mse: 0.8298\n",
      "Epoch 356/1000\n",
      "20/20 [==============================] - 0s 24ms/step - loss: 0.7352 - mae: 0.5528 - mse: 0.7352 - val_loss: 0.8588 - val_mae: 0.5450 - val_mse: 0.8588\n",
      "Epoch 357/1000\n",
      "20/20 [==============================] - 0s 25ms/step - loss: 0.9664 - mae: 0.6128 - mse: 0.9664 - val_loss: 1.4465 - val_mae: 0.6929 - val_mse: 1.4465\n",
      "Epoch 358/1000\n",
      "20/20 [==============================] - 1s 25ms/step - loss: 1.1835 - mae: 0.6520 - mse: 1.1835 - val_loss: 1.2705 - val_mae: 0.6121 - val_mse: 1.2705\n",
      "Epoch 359/1000\n",
      "20/20 [==============================] - 0s 24ms/step - loss: 0.7859 - mae: 0.5531 - mse: 0.7859 - val_loss: 0.8768 - val_mae: 0.5447 - val_mse: 0.8768\n",
      "Epoch 360/1000\n",
      "20/20 [==============================] - 0s 24ms/step - loss: 0.6771 - mae: 0.5220 - mse: 0.6771 - val_loss: 0.8382 - val_mae: 0.5353 - val_mse: 0.8382\n",
      "Epoch 361/1000\n",
      "20/20 [==============================] - 0s 24ms/step - loss: 0.6229 - mae: 0.4935 - mse: 0.6229 - val_loss: 0.8076 - val_mae: 0.5169 - val_mse: 0.8076\n",
      "Epoch 362/1000\n",
      "20/20 [==============================] - 1s 27ms/step - loss: 0.7732 - mae: 0.5456 - mse: 0.7732 - val_loss: 1.8358 - val_mae: 0.8012 - val_mse: 1.8358\n",
      "Epoch 363/1000\n",
      "20/20 [==============================] - 0s 24ms/step - loss: 0.9135 - mae: 0.5870 - mse: 0.9135 - val_loss: 0.9205 - val_mae: 0.5501 - val_mse: 0.9205\n",
      "Epoch 364/1000\n",
      "20/20 [==============================] - 0s 23ms/step - loss: 0.7938 - mae: 0.5629 - mse: 0.7938 - val_loss: 0.8768 - val_mae: 0.5712 - val_mse: 0.8768\n",
      "Epoch 365/1000\n",
      "20/20 [==============================] - 0s 25ms/step - loss: 0.8002 - mae: 0.5488 - mse: 0.8002 - val_loss: 1.0852 - val_mae: 0.5906 - val_mse: 1.0852\n",
      "Epoch 366/1000\n",
      "20/20 [==============================] - 1s 28ms/step - loss: 1.0521 - mae: 0.6468 - mse: 1.0521 - val_loss: 0.9856 - val_mae: 0.5613 - val_mse: 0.9856\n",
      "Epoch 367/1000\n",
      "20/20 [==============================] - 0s 25ms/step - loss: 0.7612 - mae: 0.5519 - mse: 0.7612 - val_loss: 0.9764 - val_mae: 0.5992 - val_mse: 0.9764\n",
      "Epoch 368/1000\n",
      "20/20 [==============================] - 1s 25ms/step - loss: 0.7459 - mae: 0.5370 - mse: 0.7459 - val_loss: 0.9900 - val_mae: 0.5847 - val_mse: 0.9900\n",
      "Epoch 369/1000\n",
      "20/20 [==============================] - 1s 28ms/step - loss: 0.6364 - mae: 0.4951 - mse: 0.6364 - val_loss: 1.0212 - val_mae: 0.5800 - val_mse: 1.0212\n",
      "Epoch 370/1000\n",
      "20/20 [==============================] - 1s 26ms/step - loss: 0.6480 - mae: 0.5340 - mse: 0.6480 - val_loss: 0.9463 - val_mae: 0.5806 - val_mse: 0.9463\n",
      "Epoch 371/1000\n",
      "20/20 [==============================] - 0s 25ms/step - loss: 0.6128 - mae: 0.5000 - mse: 0.6128 - val_loss: 0.9651 - val_mae: 0.5831 - val_mse: 0.9651\n",
      "Epoch 372/1000\n",
      "20/20 [==============================] - 0s 23ms/step - loss: 0.7556 - mae: 0.5423 - mse: 0.7556 - val_loss: 1.2259 - val_mae: 0.6450 - val_mse: 1.2259\n",
      "Epoch 373/1000\n",
      "20/20 [==============================] - 1s 27ms/step - loss: 0.6963 - mae: 0.5222 - mse: 0.6963 - val_loss: 0.8610 - val_mae: 0.5414 - val_mse: 0.8610\n",
      "Epoch 374/1000\n",
      "20/20 [==============================] - 0s 24ms/step - loss: 0.8607 - mae: 0.5711 - mse: 0.8607 - val_loss: 1.1904 - val_mae: 0.6390 - val_mse: 1.1904\n",
      "Epoch 375/1000\n",
      "20/20 [==============================] - 0s 23ms/step - loss: 1.1690 - mae: 0.6386 - mse: 1.1690 - val_loss: 1.6387 - val_mae: 0.7461 - val_mse: 1.6387\n",
      "Epoch 376/1000\n",
      "20/20 [==============================] - 1s 25ms/step - loss: 1.3346 - mae: 0.6803 - mse: 1.3346 - val_loss: 0.9496 - val_mae: 0.5923 - val_mse: 0.9496\n",
      "Epoch 377/1000\n",
      "20/20 [==============================] - 0s 25ms/step - loss: 1.6258 - mae: 0.7461 - mse: 1.6258 - val_loss: 1.3113 - val_mae: 0.6632 - val_mse: 1.3113\n",
      "Epoch 378/1000\n",
      "20/20 [==============================] - 0s 23ms/step - loss: 1.4184 - mae: 0.6993 - mse: 1.4184 - val_loss: 1.2808 - val_mae: 0.6749 - val_mse: 1.2808\n",
      "Epoch 379/1000\n",
      "20/20 [==============================] - 0s 25ms/step - loss: 1.1734 - mae: 0.6534 - mse: 1.1734 - val_loss: 1.2263 - val_mae: 0.6320 - val_mse: 1.2263\n",
      "Epoch 380/1000\n",
      "20/20 [==============================] - 0s 25ms/step - loss: 0.8979 - mae: 0.5869 - mse: 0.8979 - val_loss: 1.7287 - val_mae: 0.7536 - val_mse: 1.7287\n",
      "Epoch 381/1000\n",
      "20/20 [==============================] - 0s 23ms/step - loss: 0.7159 - mae: 0.5210 - mse: 0.7159 - val_loss: 0.7604 - val_mae: 0.5061 - val_mse: 0.7604\n",
      "Epoch 382/1000\n",
      "20/20 [==============================] - 0s 24ms/step - loss: 0.7751 - mae: 0.5446 - mse: 0.7751 - val_loss: 1.2545 - val_mae: 0.6593 - val_mse: 1.2545\n",
      "Epoch 383/1000\n",
      "20/20 [==============================] - 1s 25ms/step - loss: 0.6833 - mae: 0.5249 - mse: 0.6833 - val_loss: 0.8000 - val_mae: 0.5097 - val_mse: 0.8000\n",
      "Epoch 384/1000\n",
      "20/20 [==============================] - 1s 26ms/step - loss: 0.6462 - mae: 0.5048 - mse: 0.6462 - val_loss: 1.1265 - val_mae: 0.5959 - val_mse: 1.1265\n",
      "Epoch 385/1000\n",
      "20/20 [==============================] - 1s 28ms/step - loss: 0.8731 - mae: 0.5693 - mse: 0.8731 - val_loss: 1.4017 - val_mae: 0.6783 - val_mse: 1.4017\n",
      "Epoch 386/1000\n",
      "20/20 [==============================] - 1s 34ms/step - loss: 0.9899 - mae: 0.5986 - mse: 0.9899 - val_loss: 0.9969 - val_mae: 0.5911 - val_mse: 0.9969\n",
      "Epoch 387/1000\n",
      "20/20 [==============================] - 1s 26ms/step - loss: 0.8006 - mae: 0.5529 - mse: 0.8006 - val_loss: 0.9996 - val_mae: 0.6105 - val_mse: 0.9996\n",
      "Epoch 388/1000\n",
      "20/20 [==============================] - 1s 26ms/step - loss: 1.0658 - mae: 0.6214 - mse: 1.0658 - val_loss: 1.2315 - val_mae: 0.6520 - val_mse: 1.2315\n",
      "Epoch 389/1000\n",
      "20/20 [==============================] - 1s 28ms/step - loss: 2.3173 - mae: 0.8123 - mse: 2.3173 - val_loss: 2.8561 - val_mae: 0.9343 - val_mse: 2.8561\n",
      "Epoch 390/1000\n",
      "20/20 [==============================] - 1s 29ms/step - loss: 1.2313 - mae: 0.6487 - mse: 1.2313 - val_loss: 1.0215 - val_mae: 0.5889 - val_mse: 1.0215\n",
      "Epoch 391/1000\n",
      "20/20 [==============================] - 1s 26ms/step - loss: 0.8841 - mae: 0.5699 - mse: 0.8841 - val_loss: 0.9289 - val_mae: 0.5775 - val_mse: 0.9289\n",
      "Epoch 391: early stopping\n"
     ]
    }
   ],
   "source": [
    "checkpoint_cb = tf.keras.callbacks.ModelCheckpoint('best-multiregression-model.h5')\n",
    "callback = keras.callbacks.EarlyStopping(monitor = 'loss', patience=20, verbose=True)\n",
    "model.compile(tf.keras.optimizers.legacy.Adam(learning_rate=0.001), loss = 'mse', metrics=['mae', 'mse'])\n",
    "history = model.fit(train_scale, train_output, batch_size=32, validation_data=(val_scale, val_output) ,epochs=1000, callbacks=[callback])"
   ]
  },
  {
   "cell_type": "code",
   "execution_count": 17,
   "metadata": {},
   "outputs": [
    {
     "name": "stderr",
     "output_type": "stream",
     "text": [
      "/Library/Frameworks/Python.framework/Versions/3.11/lib/python3.11/site-packages/keras/src/engine/training.py:3000: UserWarning: You are saving your model as an HDF5 file via `model.save()`. This file format is considered legacy. We recommend using instead the native Keras format, e.g. `model.save('my_model.keras')`.\n",
      "  saving_api.save_model(\n"
     ]
    }
   ],
   "source": [
    "model.save('best-multiregression-model.h5')\n",
    "model = keras.models.load_model('best-multiregression-model.h5')"
   ]
  },
  {
   "cell_type": "code",
   "execution_count": 18,
   "metadata": {},
   "outputs": [],
   "source": [
    "hist = history.history\n",
    "hist['epochs'] = history.epoch\n",
    "epochs = hist['epochs']\n",
    "loss = hist['loss']\n",
    "val_loss = hist['val_loss']\n",
    "mae = hist['mae']\n",
    "val_mae = hist['val_mae']\n",
    "mse = hist['mse']\n",
    "val_mse = hist['mse']\n",
    "def plot_history(history):\n",
    "\n",
    "    fig, axes = plt.subplots(1, 3, constrained_layout = True, figsize = (10, 5))\n",
    "    axes[0].plot(epochs, loss, label = 'Training_loss')\n",
    "    axes[0].plot(epochs, val_loss, label = 'val_loss')\n",
    "    axes[1].plot(epochs, mae, label = 'Training_mae')\n",
    "    axes[1].plot(epochs, val_mae, label = 'val_mae')\n",
    "    axes[2].plot(epochs, mse, label = 'Training_mse')\n",
    "    axes[2].plot(epochs, val_mse, label = 'val_mse')\n",
    "    axes[0].set_title('Training and validation loss')\n",
    "    axes[0].set_xlabel('Epochs')\n",
    "    axes[0].set_ylabel('Loss')\n",
    "    axes[1].set_title('Training and validation mae')\n",
    "    axes[1].set_xlabel('Epochs')\n",
    "    axes[1].set_ylabel('MAE')\n",
    "    axes[2].set_title('Training and validation mse')\n",
    "    axes[2].set_xlabel('Epochs')\n",
    "    axes[2].set_ylabel('MSE')\n",
    "    axes[0].legend()\n",
    "    axes[1].legend()\n",
    "    axes[2].legend()\n",
    "    plt.show()\n",
    "    \n"
   ]
  },
  {
   "cell_type": "code",
   "execution_count": 19,
   "metadata": {},
   "outputs": [
    {
     "data": {
      "image/png": "[encoded data removed]",
      "text/plain": [
       "<Figure size 1000x500 with 3 Axes>"
      ]
     },
     "metadata": {},
     "output_type": "display_data"
    }
   ],
   "source": [
    "plot_history(history)"
   ]
  },
  {
   "cell_type": "code",
   "execution_count": 20,
   "metadata": {},
   "outputs": [
    {
     "data": {
      "text/html": [
       "<div>\n",
       "<style scoped>\n",
       "    .dataframe tbody tr th:only-of-type {\n",
       "        vertical-align: middle;\n",
       "    }\n",
       "\n",
       "    .dataframe tbody tr th {\n",
       "        vertical-align: top;\n",
       "    }\n",
       "\n",
       "    .dataframe thead th {\n",
       "        text-align: right;\n",
       "    }\n",
       "</style>\n",
       "<table border=\"1\" class=\"dataframe\">\n",
       "  <thead>\n",
       "    <tr style=\"text-align: right;\">\n",
       "      <th></th>\n",
       "      <th>Loss</th>\n",
       "      <th>Val_Loss</th>\n",
       "      <th>MAE</th>\n",
       "      <th>Val_MAE</th>\n",
       "      <th>MSE</th>\n",
       "      <th>Val_MSE</th>\n",
       "    </tr>\n",
       "  </thead>\n",
       "  <tbody>\n",
       "    <tr>\n",
       "      <th>0</th>\n",
       "      <td>25129.597656</td>\n",
       "      <td>24409.652344</td>\n",
       "      <td>89.829567</td>\n",
       "      <td>89.002968</td>\n",
       "      <td>25129.597656</td>\n",
       "      <td>25129.597656</td>\n",
       "    </tr>\n",
       "    <tr>\n",
       "      <th>1</th>\n",
       "      <td>23584.162109</td>\n",
       "      <td>21090.937500</td>\n",
       "      <td>87.301468</td>\n",
       "      <td>83.893112</td>\n",
       "      <td>23584.162109</td>\n",
       "      <td>23584.162109</td>\n",
       "    </tr>\n",
       "    <tr>\n",
       "      <th>2</th>\n",
       "      <td>15708.422852</td>\n",
       "      <td>8945.730469</td>\n",
       "      <td>77.967361</td>\n",
       "      <td>66.529449</td>\n",
       "      <td>15708.422852</td>\n",
       "      <td>15708.422852</td>\n",
       "    </tr>\n",
       "    <tr>\n",
       "      <th>3</th>\n",
       "      <td>6312.220703</td>\n",
       "      <td>4335.687988</td>\n",
       "      <td>55.858757</td>\n",
       "      <td>40.900772</td>\n",
       "      <td>6312.220703</td>\n",
       "      <td>6312.220703</td>\n",
       "    </tr>\n",
       "    <tr>\n",
       "      <th>4</th>\n",
       "      <td>3353.827881</td>\n",
       "      <td>2660.109131</td>\n",
       "      <td>35.283279</td>\n",
       "      <td>29.078022</td>\n",
       "      <td>3353.827881</td>\n",
       "      <td>3353.827881</td>\n",
       "    </tr>\n",
       "    <tr>\n",
       "      <th>...</th>\n",
       "      <td>...</td>\n",
       "      <td>...</td>\n",
       "      <td>...</td>\n",
       "      <td>...</td>\n",
       "      <td>...</td>\n",
       "      <td>...</td>\n",
       "    </tr>\n",
       "    <tr>\n",
       "      <th>386</th>\n",
       "      <td>0.800644</td>\n",
       "      <td>0.999551</td>\n",
       "      <td>0.552882</td>\n",
       "      <td>0.610532</td>\n",
       "      <td>0.800644</td>\n",
       "      <td>0.800644</td>\n",
       "    </tr>\n",
       "    <tr>\n",
       "      <th>387</th>\n",
       "      <td>1.065779</td>\n",
       "      <td>1.231546</td>\n",
       "      <td>0.621369</td>\n",
       "      <td>0.652027</td>\n",
       "      <td>1.065779</td>\n",
       "      <td>1.065779</td>\n",
       "    </tr>\n",
       "    <tr>\n",
       "      <th>388</th>\n",
       "      <td>2.317332</td>\n",
       "      <td>2.856134</td>\n",
       "      <td>0.812256</td>\n",
       "      <td>0.934269</td>\n",
       "      <td>2.317332</td>\n",
       "      <td>2.317332</td>\n",
       "    </tr>\n",
       "    <tr>\n",
       "      <th>389</th>\n",
       "      <td>1.231261</td>\n",
       "      <td>1.021458</td>\n",
       "      <td>0.648750</td>\n",
       "      <td>0.588881</td>\n",
       "      <td>1.231261</td>\n",
       "      <td>1.231261</td>\n",
       "    </tr>\n",
       "    <tr>\n",
       "      <th>390</th>\n",
       "      <td>0.884090</td>\n",
       "      <td>0.928893</td>\n",
       "      <td>0.569905</td>\n",
       "      <td>0.577477</td>\n",
       "      <td>0.884090</td>\n",
       "      <td>0.884090</td>\n",
       "    </tr>\n",
       "  </tbody>\n",
       "</table>\n",
       "<p>391 rows × 6 columns</p>\n",
       "</div>"
      ],
      "text/plain": [
       "             Loss      Val_Loss        MAE    Val_MAE           MSE   \n",
       "0    25129.597656  24409.652344  89.829567  89.002968  25129.597656  \\\n",
       "1    23584.162109  21090.937500  87.301468  83.893112  23584.162109   \n",
       "2    15708.422852   8945.730469  77.967361  66.529449  15708.422852   \n",
       "3     6312.220703   4335.687988  55.858757  40.900772   6312.220703   \n",
       "4     3353.827881   2660.109131  35.283279  29.078022   3353.827881   \n",
       "..            ...           ...        ...        ...           ...   \n",
       "386      0.800644      0.999551   0.552882   0.610532      0.800644   \n",
       "387      1.065779      1.231546   0.621369   0.652027      1.065779   \n",
       "388      2.317332      2.856134   0.812256   0.934269      2.317332   \n",
       "389      1.231261      1.021458   0.648750   0.588881      1.231261   \n",
       "390      0.884090      0.928893   0.569905   0.577477      0.884090   \n",
       "\n",
       "          Val_MSE  \n",
       "0    25129.597656  \n",
       "1    23584.162109  \n",
       "2    15708.422852  \n",
       "3     6312.220703  \n",
       "4     3353.827881  \n",
       "..            ...  \n",
       "386      0.800644  \n",
       "387      1.065779  \n",
       "388      2.317332  \n",
       "389      1.231261  \n",
       "390      0.884090  \n",
       "\n",
       "[391 rows x 6 columns]"
      ]
     },
     "execution_count": 20,
     "metadata": {},
     "output_type": "execute_result"
    }
   ],
   "source": [
    "loss_mae_mse_df = pd.DataFrame(((loss[i], val_loss[i], mae[i], val_mae[i],  mse[i], val_mse[i]) for i in range(len(history.epoch))), columns=['Loss', 'Val_Loss', 'MAE', 'Val_MAE', 'MSE', 'Val_MSE'])\n",
    "loss_mae_mse_df"
   ]
  },
  {
   "cell_type": "code",
   "execution_count": 21,
   "metadata": {},
   "outputs": [],
   "source": [
    "loss_mae_mse_df.to_csv('Loss_Mae_Mse_df.csv', index = True)"
   ]
  },
  {
   "cell_type": "code",
   "execution_count": 22,
   "metadata": {},
   "outputs": [
    {
     "name": "stdout",
     "output_type": "stream",
     "text": [
      "7/7 [==============================] - 0s 16ms/step - loss: 0.9083 - mae: 0.5814 - mse: 0.9083\n"
     ]
    },
    {
     "name": "stderr",
     "output_type": "stream",
     "text": [
      "2024-03-15 15:30:15.329972: I tensorflow/core/grappler/optimizers/custom_graph_optimizer_registry.cc:114] Plugin optimizer for device_type GPU is enabled.\n"
     ]
    },
    {
     "name": "stdout",
     "output_type": "stream",
     "text": [
      "20/20 [==============================] - 0s 12ms/step - loss: 0.7292 - mae: 0.5398 - mse: 0.7292\n",
      "7/7 [==============================] - 0s 11ms/step - loss: 0.9289 - mae: 0.5775 - mse: 0.9289\n"
     ]
    },
    {
     "data": {
      "text/plain": [
       "[0.9288926720619202, 0.5774769186973572, 0.9288926720619202]"
      ]
     },
     "execution_count": 22,
     "metadata": {},
     "output_type": "execute_result"
    }
   ],
   "source": [
    "model.evaluate(test_scale, test_output)\n",
    "model.evaluate(train_scale, train_output)\n",
    "model.evaluate(val_scale, val_output)"
   ]
  },
  {
   "cell_type": "code",
   "execution_count": 23,
   "metadata": {},
   "outputs": [
    {
     "name": "stdout",
     "output_type": "stream",
     "text": [
      "7/7 [==============================] - 0s 7ms/step\n",
      " 9/20 [============>.................] - ETA: 0s"
     ]
    },
    {
     "name": "stderr",
     "output_type": "stream",
     "text": [
      "2024-03-15 15:30:16.099972: I tensorflow/core/grappler/optimizers/custom_graph_optimizer_registry.cc:114] Plugin optimizer for device_type GPU is enabled.\n"
     ]
    },
    {
     "name": "stdout",
     "output_type": "stream",
     "text": [
      "20/20 [==============================] - 0s 8ms/step\n",
      "7/7 [==============================] - 0s 6ms/step\n"
     ]
    }
   ],
   "source": [
    "predicted_test = model.predict(test_scale)\n",
    "predicted_train = model.predict(train_scale)\n",
    "predicted_val = model.predict(val_scale)"
   ]
  },
  {
   "cell_type": "code",
   "execution_count": 24,
   "metadata": {},
   "outputs": [],
   "source": [
    "predicted_test_df = pd.DataFrame(predicted_test)\n",
    "predicted_train_df = pd.DataFrame(predicted_train)\n",
    "predicted_val_df = pd.DataFrame(predicted_val)"
   ]
  },
  {
   "cell_type": "code",
   "execution_count": 25,
   "metadata": {},
   "outputs": [],
   "source": [
    "predicted_test_df.columns = ['Maximum Pressure(predicted)', 'Crank Angle at Maximum Pressure(predicted)', 'Maximum Rate of Pressure Rise(predicted)', 'BMEP(predicted)',\n",
    "                         'IMEP(predicted)', 'BSFC(predicted)', 'BSNOx(predicted)', 'BSCO(predicted)']\n",
    "predicted_train_df.columns = ['Maximum Pressure(predicted)', 'Crank Angle at Maximum Pressure(predicted)', 'Maximum Rate of Pressure Rise(predicted)', 'BMEP(predicted)',\n",
    "                         'IMEP(predicted)', 'BSFC(predicted)', 'BSNOx(predicted)', 'BSCO(predicted)']\n",
    "predicted_val_df.columns = ['Maximum Pressure(predicted)', 'Crank Angle at Maximum Pressure(predicted)', 'Maximum Rate of Pressure Rise(predicted)', 'BMEP(predicted)',\n",
    "                         'IMEP(predicted)', 'BSFC(predicted)', 'BSNOx(predicted)', 'BSCO(predicted)']"
   ]
  },
  {
   "cell_type": "code",
   "execution_count": 26,
   "metadata": {},
   "outputs": [],
   "source": [
    "predicted_test_df.index = test_output.index\n",
    "predicted_train_df.index = train_output.index\n",
    "predicted_val_df.index = val_output.index"
   ]
  },
  {
   "cell_type": "code",
   "execution_count": 27,
   "metadata": {},
   "outputs": [],
   "source": [
    "def DataFrame(predicted_df, df_outuput, output_df):\n",
    "   for i in range(8):\n",
    "      predicted_df.insert(2*i+1, df_outuput.columns[i], output_df.iloc[:, [i]])\n",
    "   predicted_df"
   ]
  },
  {
   "cell_type": "code",
   "execution_count": 64,
   "metadata": {},
   "outputs": [
    {
     "data": {
      "text/html": [
       "<div>\n",
       "<style scoped>\n",
       "    .dataframe tbody tr th:only-of-type {\n",
       "        vertical-align: middle;\n",
       "    }\n",
       "\n",
       "    .dataframe tbody tr th {\n",
       "        vertical-align: top;\n",
       "    }\n",
       "\n",
       "    .dataframe thead th {\n",
       "        text-align: right;\n",
       "    }\n",
       "</style>\n",
       "<table border=\"1\" class=\"dataframe\">\n",
       "  <thead>\n",
       "    <tr style=\"text-align: right;\">\n",
       "      <th></th>\n",
       "      <th>Maximum Pressure(predicted)</th>\n",
       "      <th>Maximum Pressure</th>\n",
       "      <th>Crank Angle at Maximum Pressure(predicted)</th>\n",
       "      <th>Crank Angle at Maximum Pressure</th>\n",
       "      <th>Maximum Rate of Pressure Rise(predicted)</th>\n",
       "      <th>Maximum Rate of Pressure Rise</th>\n",
       "      <th>BMEP(predicted)</th>\n",
       "      <th>BMEP</th>\n",
       "      <th>IMEP(predicted)</th>\n",
       "      <th>IMEP</th>\n",
       "      <th>BSFC(predicted)</th>\n",
       "      <th>BSFC</th>\n",
       "      <th>BSNOx(predicted)</th>\n",
       "      <th>BSNOx</th>\n",
       "      <th>BSCO(predicted)</th>\n",
       "      <th>BSCO</th>\n",
       "    </tr>\n",
       "  </thead>\n",
       "  <tbody>\n",
       "    <tr>\n",
       "      <th>578</th>\n",
       "      <td>41.720318</td>\n",
       "      <td>42.8</td>\n",
       "      <td>27.448090</td>\n",
       "      <td>26.73</td>\n",
       "      <td>1.248747</td>\n",
       "      <td>1.53</td>\n",
       "      <td>9.471144</td>\n",
       "      <td>8.97</td>\n",
       "      <td>10.354410</td>\n",
       "      <td>10.59</td>\n",
       "      <td>306.307892</td>\n",
       "      <td>304.0</td>\n",
       "      <td>3.495212</td>\n",
       "      <td>3.49</td>\n",
       "      <td>220.261581</td>\n",
       "      <td>220.0</td>\n",
       "    </tr>\n",
       "    <tr>\n",
       "      <th>2135</th>\n",
       "      <td>31.843363</td>\n",
       "      <td>32.8</td>\n",
       "      <td>37.733757</td>\n",
       "      <td>36.98</td>\n",
       "      <td>1.093717</td>\n",
       "      <td>0.77</td>\n",
       "      <td>7.971080</td>\n",
       "      <td>8.07</td>\n",
       "      <td>10.070024</td>\n",
       "      <td>10.21</td>\n",
       "      <td>428.667786</td>\n",
       "      <td>427.2</td>\n",
       "      <td>1.412363</td>\n",
       "      <td>1.72</td>\n",
       "      <td>404.041443</td>\n",
       "      <td>403.8</td>\n",
       "    </tr>\n",
       "    <tr>\n",
       "      <th>1282</th>\n",
       "      <td>65.594864</td>\n",
       "      <td>65.9</td>\n",
       "      <td>17.999329</td>\n",
       "      <td>18.78</td>\n",
       "      <td>3.320805</td>\n",
       "      <td>3.01</td>\n",
       "      <td>11.382939</td>\n",
       "      <td>11.48</td>\n",
       "      <td>13.257752</td>\n",
       "      <td>13.56</td>\n",
       "      <td>294.423462</td>\n",
       "      <td>296.5</td>\n",
       "      <td>4.946413</td>\n",
       "      <td>5.05</td>\n",
       "      <td>240.670731</td>\n",
       "      <td>241.8</td>\n",
       "    </tr>\n",
       "    <tr>\n",
       "      <th>1743</th>\n",
       "      <td>39.205814</td>\n",
       "      <td>38.9</td>\n",
       "      <td>34.002457</td>\n",
       "      <td>33.83</td>\n",
       "      <td>0.859579</td>\n",
       "      <td>1.00</td>\n",
       "      <td>9.165236</td>\n",
       "      <td>9.19</td>\n",
       "      <td>11.346533</td>\n",
       "      <td>11.60</td>\n",
       "      <td>377.251678</td>\n",
       "      <td>375.6</td>\n",
       "      <td>2.153072</td>\n",
       "      <td>2.35</td>\n",
       "      <td>342.220825</td>\n",
       "      <td>341.5</td>\n",
       "    </tr>\n",
       "    <tr>\n",
       "      <th>1854</th>\n",
       "      <td>59.443573</td>\n",
       "      <td>59.7</td>\n",
       "      <td>20.196878</td>\n",
       "      <td>20.87</td>\n",
       "      <td>2.441705</td>\n",
       "      <td>2.42</td>\n",
       "      <td>9.908331</td>\n",
       "      <td>10.20</td>\n",
       "      <td>12.360216</td>\n",
       "      <td>12.58</td>\n",
       "      <td>335.509888</td>\n",
       "      <td>336.8</td>\n",
       "      <td>3.923213</td>\n",
       "      <td>3.88</td>\n",
       "      <td>317.358002</td>\n",
       "      <td>317.9</td>\n",
       "    </tr>\n",
       "    <tr>\n",
       "      <th>...</th>\n",
       "      <td>...</td>\n",
       "      <td>...</td>\n",
       "      <td>...</td>\n",
       "      <td>...</td>\n",
       "      <td>...</td>\n",
       "      <td>...</td>\n",
       "      <td>...</td>\n",
       "      <td>...</td>\n",
       "      <td>...</td>\n",
       "      <td>...</td>\n",
       "      <td>...</td>\n",
       "      <td>...</td>\n",
       "      <td>...</td>\n",
       "      <td>...</td>\n",
       "      <td>...</td>\n",
       "      <td>...</td>\n",
       "    </tr>\n",
       "    <tr>\n",
       "      <th>1512</th>\n",
       "      <td>51.500202</td>\n",
       "      <td>51.7</td>\n",
       "      <td>25.616142</td>\n",
       "      <td>25.85</td>\n",
       "      <td>2.017801</td>\n",
       "      <td>1.83</td>\n",
       "      <td>10.108431</td>\n",
       "      <td>10.52</td>\n",
       "      <td>12.185418</td>\n",
       "      <td>12.72</td>\n",
       "      <td>322.430969</td>\n",
       "      <td>323.3</td>\n",
       "      <td>3.088829</td>\n",
       "      <td>3.59</td>\n",
       "      <td>281.095215</td>\n",
       "      <td>280.7</td>\n",
       "    </tr>\n",
       "    <tr>\n",
       "      <th>715</th>\n",
       "      <td>49.215950</td>\n",
       "      <td>48.7</td>\n",
       "      <td>22.145269</td>\n",
       "      <td>22.73</td>\n",
       "      <td>2.136455</td>\n",
       "      <td>1.95</td>\n",
       "      <td>10.036057</td>\n",
       "      <td>9.86</td>\n",
       "      <td>10.997758</td>\n",
       "      <td>10.97</td>\n",
       "      <td>293.801636</td>\n",
       "      <td>291.3</td>\n",
       "      <td>4.143559</td>\n",
       "      <td>4.47</td>\n",
       "      <td>214.044342</td>\n",
       "      <td>209.8</td>\n",
       "    </tr>\n",
       "    <tr>\n",
       "      <th>780</th>\n",
       "      <td>41.165257</td>\n",
       "      <td>38.4</td>\n",
       "      <td>28.739738</td>\n",
       "      <td>29.57</td>\n",
       "      <td>1.081071</td>\n",
       "      <td>1.19</td>\n",
       "      <td>9.851686</td>\n",
       "      <td>9.32</td>\n",
       "      <td>10.924137</td>\n",
       "      <td>10.35</td>\n",
       "      <td>310.094482</td>\n",
       "      <td>307.5</td>\n",
       "      <td>3.621521</td>\n",
       "      <td>3.47</td>\n",
       "      <td>226.813400</td>\n",
       "      <td>226.5</td>\n",
       "    </tr>\n",
       "    <tr>\n",
       "      <th>2087</th>\n",
       "      <td>42.151455</td>\n",
       "      <td>42.6</td>\n",
       "      <td>29.175243</td>\n",
       "      <td>29.00</td>\n",
       "      <td>1.456373</td>\n",
       "      <td>1.30</td>\n",
       "      <td>8.507978</td>\n",
       "      <td>8.92</td>\n",
       "      <td>10.810328</td>\n",
       "      <td>11.10</td>\n",
       "      <td>379.531708</td>\n",
       "      <td>378.2</td>\n",
       "      <td>2.665664</td>\n",
       "      <td>2.53</td>\n",
       "      <td>360.229553</td>\n",
       "      <td>360.8</td>\n",
       "    </tr>\n",
       "    <tr>\n",
       "      <th>572</th>\n",
       "      <td>41.392929</td>\n",
       "      <td>42.7</td>\n",
       "      <td>27.365597</td>\n",
       "      <td>26.72</td>\n",
       "      <td>1.221667</td>\n",
       "      <td>1.53</td>\n",
       "      <td>9.370502</td>\n",
       "      <td>8.96</td>\n",
       "      <td>10.224411</td>\n",
       "      <td>10.57</td>\n",
       "      <td>305.744720</td>\n",
       "      <td>304.0</td>\n",
       "      <td>3.475866</td>\n",
       "      <td>3.46</td>\n",
       "      <td>219.764816</td>\n",
       "      <td>220.0</td>\n",
       "    </tr>\n",
       "  </tbody>\n",
       "</table>\n",
       "<p>213 rows × 16 columns</p>\n",
       "</div>"
      ],
      "text/plain": [
       "      Maximum Pressure(predicted)  Maximum Pressure   \n",
       "578                     41.720318              42.8  \\\n",
       "2135                    31.843363              32.8   \n",
       "1282                    65.594864              65.9   \n",
       "1743                    39.205814              38.9   \n",
       "1854                    59.443573              59.7   \n",
       "...                           ...               ...   \n",
       "1512                    51.500202              51.7   \n",
       "715                     49.215950              48.7   \n",
       "780                     41.165257              38.4   \n",
       "2087                    42.151455              42.6   \n",
       "572                     41.392929              42.7   \n",
       "\n",
       "      Crank Angle at Maximum Pressure(predicted)   \n",
       "578                                    27.448090  \\\n",
       "2135                                   37.733757   \n",
       "1282                                   17.999329   \n",
       "1743                                   34.002457   \n",
       "1854                                   20.196878   \n",
       "...                                          ...   \n",
       "1512                                   25.616142   \n",
       "715                                    22.145269   \n",
       "780                                    28.739738   \n",
       "2087                                   29.175243   \n",
       "572                                    27.365597   \n",
       "\n",
       "      Crank Angle at Maximum Pressure   \n",
       "578                             26.73  \\\n",
       "2135                            36.98   \n",
       "1282                            18.78   \n",
       "1743                            33.83   \n",
       "1854                            20.87   \n",
       "...                               ...   \n",
       "1512                            25.85   \n",
       "715                             22.73   \n",
       "780                             29.57   \n",
       "2087                            29.00   \n",
       "572                             26.72   \n",
       "\n",
       "      Maximum Rate of Pressure Rise(predicted)  Maximum Rate of Pressure Rise   \n",
       "578                                   1.248747                           1.53  \\\n",
       "2135                                  1.093717                           0.77   \n",
       "1282                                  3.320805                           3.01   \n",
       "1743                                  0.859579                           1.00   \n",
       "1854                                  2.441705                           2.42   \n",
       "...                                        ...                            ...   \n",
       "1512                                  2.017801                           1.83   \n",
       "715                                   2.136455                           1.95   \n",
       "780                                   1.081071                           1.19   \n",
       "2087                                  1.456373                           1.30   \n",
       "572                                   1.221667                           1.53   \n",
       "\n",
       "      BMEP(predicted)   BMEP  IMEP(predicted)   IMEP  BSFC(predicted)   BSFC   \n",
       "578          9.471144   8.97        10.354410  10.59       306.307892  304.0  \\\n",
       "2135         7.971080   8.07        10.070024  10.21       428.667786  427.2   \n",
       "1282        11.382939  11.48        13.257752  13.56       294.423462  296.5   \n",
       "1743         9.165236   9.19        11.346533  11.60       377.251678  375.6   \n",
       "1854         9.908331  10.20        12.360216  12.58       335.509888  336.8   \n",
       "...               ...    ...              ...    ...              ...    ...   \n",
       "1512        10.108431  10.52        12.185418  12.72       322.430969  323.3   \n",
       "715         10.036057   9.86        10.997758  10.97       293.801636  291.3   \n",
       "780          9.851686   9.32        10.924137  10.35       310.094482  307.5   \n",
       "2087         8.507978   8.92        10.810328  11.10       379.531708  378.2   \n",
       "572          9.370502   8.96        10.224411  10.57       305.744720  304.0   \n",
       "\n",
       "      BSNOx(predicted)  BSNOx  BSCO(predicted)   BSCO  \n",
       "578           3.495212   3.49       220.261581  220.0  \n",
       "2135          1.412363   1.72       404.041443  403.8  \n",
       "1282          4.946413   5.05       240.670731  241.8  \n",
       "1743          2.153072   2.35       342.220825  341.5  \n",
       "1854          3.923213   3.88       317.358002  317.9  \n",
       "...                ...    ...              ...    ...  \n",
       "1512          3.088829   3.59       281.095215  280.7  \n",
       "715           4.143559   4.47       214.044342  209.8  \n",
       "780           3.621521   3.47       226.813400  226.5  \n",
       "2087          2.665664   2.53       360.229553  360.8  \n",
       "572           3.475866   3.46       219.764816  220.0  \n",
       "\n",
       "[213 rows x 16 columns]"
      ]
     },
     "execution_count": 64,
     "metadata": {},
     "output_type": "execute_result"
    }
   ],
   "source": [
    "predicted_test_df"
   ]
  },
  {
   "cell_type": "code",
   "execution_count": 29,
   "metadata": {},
   "outputs": [],
   "source": [
    "DataFrame(predicted_train_df, train_output, train_output)"
   ]
  },
  {
   "cell_type": "code",
   "execution_count": 30,
   "metadata": {},
   "outputs": [],
   "source": [
    "DataFrame(predicted_val_df, val_output, val_output)"
   ]
  },
  {
   "cell_type": "code",
   "execution_count": 31,
   "metadata": {},
   "outputs": [],
   "source": [
    "predicted_test_df.to_csv(\"Predicted_result.csv\")"
   ]
  },
  {
   "cell_type": "code",
   "execution_count": 32,
   "metadata": {},
   "outputs": [],
   "source": [
    "predicted_train_df.to_csv(\"Predicted_train_result.csv\")"
   ]
  },
  {
   "cell_type": "code",
   "execution_count": 33,
   "metadata": {},
   "outputs": [],
   "source": [
    "predicted_val_df.to_csv(\"Predicted_val_result.csv\")"
   ]
  },
  {
   "cell_type": "code",
   "execution_count": 34,
   "metadata": {},
   "outputs": [],
   "source": [
    "#R2_score\n",
    "def R2_score(predicted_true):\n",
    "    list = []\n",
    "    metrics = tf.keras.metrics.R2Score()\n",
    "    for i in range(8):\n",
    "        metrics.update_state(predicted_true.iloc[:, [2*i+1]], predicted_true.iloc[:, [2*i]])\n",
    "        result = metrics.result()\n",
    "        list.append(result.numpy())\n",
    "\n",
    "    return list"
   ]
  },
  {
   "cell_type": "code",
   "execution_count": 35,
   "metadata": {},
   "outputs": [
    {
     "name": "stdout",
     "output_type": "stream",
     "text": [
      "[0.9896805, 0.9965965, 0.9987992, 0.9988849, 0.99886316, 0.9999456, 0.9999464, 0.9999442]\n",
      "[0.9933753, 0.9974109, 0.9990532, 0.99911237, 0.9990975, 0.9999583, 0.9999592, 0.9999577]\n",
      "[0.9930933, 0.9977038, 0.999098, 0.9991415, 0.9991182, 0.9999478, 0.99994916, 0.99994516]\n"
     ]
    }
   ],
   "source": [
    "print(R2_score(predicted_test_df))\n",
    "print(R2_score(predicted_train_df))\n",
    "print(R2_score(predicted_val_df))"
   ]
  },
  {
   "cell_type": "code",
   "execution_count": 36,
   "metadata": {},
   "outputs": [
    {
     "data": {
      "text/html": [
       "<div>\n",
       "<style scoped>\n",
       "    .dataframe tbody tr th:only-of-type {\n",
       "        vertical-align: middle;\n",
       "    }\n",
       "\n",
       "    .dataframe tbody tr th {\n",
       "        vertical-align: top;\n",
       "    }\n",
       "\n",
       "    .dataframe thead th {\n",
       "        text-align: right;\n",
       "    }\n",
       "</style>\n",
       "<table border=\"1\" class=\"dataframe\">\n",
       "  <thead>\n",
       "    <tr style=\"text-align: right;\">\n",
       "      <th></th>\n",
       "      <th>Maximum Pressure</th>\n",
       "      <th>Crank Angle at Maximum Pressure</th>\n",
       "      <th>Maximum Rate of Pressure Rise</th>\n",
       "      <th>BMEP</th>\n",
       "      <th>IMEP</th>\n",
       "      <th>BSFC</th>\n",
       "      <th>BSNOx</th>\n",
       "      <th>BSCO</th>\n",
       "    </tr>\n",
       "  </thead>\n",
       "  <tbody>\n",
       "    <tr>\n",
       "      <th>Test</th>\n",
       "      <td>0.989681</td>\n",
       "      <td>0.996597</td>\n",
       "      <td>0.998799</td>\n",
       "      <td>0.998885</td>\n",
       "      <td>0.998863</td>\n",
       "      <td>0.999946</td>\n",
       "      <td>0.999946</td>\n",
       "      <td>0.999944</td>\n",
       "    </tr>\n",
       "    <tr>\n",
       "      <th>Train</th>\n",
       "      <td>0.993375</td>\n",
       "      <td>0.997411</td>\n",
       "      <td>0.999053</td>\n",
       "      <td>0.999112</td>\n",
       "      <td>0.999098</td>\n",
       "      <td>0.999958</td>\n",
       "      <td>0.999959</td>\n",
       "      <td>0.999958</td>\n",
       "    </tr>\n",
       "    <tr>\n",
       "      <th>Validation</th>\n",
       "      <td>0.993093</td>\n",
       "      <td>0.997704</td>\n",
       "      <td>0.999098</td>\n",
       "      <td>0.999142</td>\n",
       "      <td>0.999118</td>\n",
       "      <td>0.999948</td>\n",
       "      <td>0.999949</td>\n",
       "      <td>0.999945</td>\n",
       "    </tr>\n",
       "  </tbody>\n",
       "</table>\n",
       "</div>"
      ],
      "text/plain": [
       "            Maximum Pressure  Crank Angle at Maximum Pressure   \n",
       "Test                0.989681                         0.996597  \\\n",
       "Train               0.993375                         0.997411   \n",
       "Validation          0.993093                         0.997704   \n",
       "\n",
       "            Maximum Rate of Pressure Rise      BMEP      IMEP      BSFC   \n",
       "Test                             0.998799  0.998885  0.998863  0.999946  \\\n",
       "Train                            0.999053  0.999112  0.999098  0.999958   \n",
       "Validation                       0.999098  0.999142  0.999118  0.999948   \n",
       "\n",
       "               BSNOx      BSCO  \n",
       "Test        0.999946  0.999944  \n",
       "Train       0.999959  0.999958  \n",
       "Validation  0.999949  0.999945  "
      ]
     },
     "execution_count": 36,
     "metadata": {},
     "output_type": "execute_result"
    }
   ],
   "source": [
    "R2_score_df = pd.DataFrame((R2_score(predicted_test_df), R2_score(predicted_train_df), R2_score(predicted_val_df)), columns = ['Maximum Pressure', 'Crank Angle at Maximum Pressure', 'Maximum Rate of Pressure Rise', 'BMEP','IMEP', 'BSFC', 'BSNOx', 'BSCO'], index = ['Test', 'Train', 'Validation'])\n",
    "R2_score_df"
   ]
  },
  {
   "cell_type": "code",
   "execution_count": 66,
   "metadata": {},
   "outputs": [],
   "source": [
    "# RMSE와 R2 score 같이 저장"
   ]
  },
  {
   "cell_type": "code",
   "execution_count": 37,
   "metadata": {},
   "outputs": [],
   "source": [
    "R2_score_df.to_csv('R2_score.csv')"
   ]
  },
  {
   "cell_type": "code",
   "execution_count": 62,
   "metadata": {},
   "outputs": [
    {
     "name": "stdout",
     "output_type": "stream",
     "text": [
      "578     27.448090\n",
      "2135    37.733757\n",
      "1282    17.999329\n",
      "1743    34.002457\n",
      "1854    20.196878\n",
      "          ...    \n",
      "1512    25.616142\n",
      "715     22.145269\n",
      "780     28.739738\n",
      "2087    29.175243\n",
      "572     27.365597\n",
      "Name: Crank Angle at Maximum Pressure(predicted), Length: 213, dtype: float32\n",
      "578     1.53\n",
      "2135    0.77\n",
      "1282    3.01\n",
      "1743    1.00\n",
      "1854    2.42\n",
      "        ... \n",
      "1512    1.83\n",
      "715     1.95\n",
      "780     1.19\n",
      "2087    1.30\n",
      "572     1.53\n",
      "Name: Maximum Rate of Pressure Rise, Length: 213, dtype: float64\n"
     ]
    }
   ],
   "source": [
    "print(predicted_test_df.iloc[:, 2])\n",
    "print(test_output.iloc[:, 2])\n"
   ]
  },
  {
   "cell_type": "code",
   "execution_count": 65,
   "metadata": {},
   "outputs": [
    {
     "data": {
      "image/png": "[encoded data removed]",
      "text/plain": [
       "<Figure size 800x600 with 1 Axes>"
      ]
     },
     "metadata": {},
     "output_type": "display_data"
    },
    {
     "data": {
      "image/png": "[encoded data removed]",
      "text/plain": [
       "<Figure size 800x600 with 1 Axes>"
      ]
     },
     "metadata": {},
     "output_type": "display_data"
    },
    {
     "data": {
      "image/png": "[encoded data removed]",
      "text/plain": [
       "<Figure size 800x600 with 1 Axes>"
      ]
     },
     "metadata": {},
     "output_type": "display_data"
    },
    {
     "data": {
      "image/png": "[encoded data removed]",
      "text/plain": [
       "<Figure size 800x600 with 1 Axes>"
      ]
     },
     "metadata": {},
     "output_type": "display_data"
    },
    {
     "data": {
      "image/png": "[encoded data removed]",
      "text/plain": [
       "<Figure size 800x600 with 1 Axes>"
      ]
     },
     "metadata": {},
     "output_type": "display_data"
    },
    {
     "data": {
      "image/png": "[encoded data removed]",
      "text/plain": [
       "<Figure size 800x600 with 1 Axes>"
      ]
     },
     "metadata": {},
     "output_type": "display_data"
    },
    {
     "data": {
      "image/png": "[encoded data removed]",
      "text/plain": [
       "<Figure size 800x600 with 1 Axes>"
      ]
     },
     "metadata": {},
     "output_type": "display_data"
    },
    {
     "data": {
      "image/png": "[encoded data removed]",
      "text/plain": [
       "<Figure size 800x600 with 1 Axes>"
      ]
     },
     "metadata": {},
     "output_type": "display_data"
    }
   ],
   "source": [
    "import matplotlib.pyplot as plt\n",
    "\n",
    "# 각 컬럼별로 산점도 그리기\n",
    "for i in range(predicted_test.shape[1]):\n",
    "    plt.figure(figsize=(8, 6))\n",
    "    plt.scatter(predicted_test_df.iloc[:, 2*i], predicted_test_df.iloc[:, 2*i+1], color='blue')\n",
    "    plt.plot(test_output.iloc[:, i], test_output.iloc[:, i], color='red')  # y=x 직선 그리기 (참 값과 예측 값이 일치하는 경우)\n",
    "    plt.title(f'Regression Plot for Column {i+1}')\n",
    "    plt.xlabel('True Values')\n",
    "    plt.ylabel('Predicted Values')\n",
    "    plt.show()\n"
   ]
  },
  {
   "cell_type": "code",
   "execution_count": 36,
   "metadata": {},
   "outputs": [
    {
     "name": "stdout",
     "output_type": "stream",
     "text": [
      "Training with parameters: {'batch_size': 32, 'dropout_rate': 0.1, 'hidden_layers': 1, 'hidden_units': 128, 'learning_rate': 0.001}\n"
     ]
    },
    {
     "name": "stderr",
     "output_type": "stream",
     "text": [
      "2024-03-14 21:09:42.175214: I tensorflow/core/grappler/optimizers/custom_graph_optimizer_registry.cc:114] Plugin optimizer for device_type GPU is enabled.\n",
      "2024-03-14 21:09:42.889493: I tensorflow/core/grappler/optimizers/custom_graph_optimizer_registry.cc:114] Plugin optimizer for device_type GPU is enabled.\n",
      "/Library/Frameworks/Python.framework/Versions/3.11/lib/python3.11/site-packages/keras/src/engine/training.py:3000: UserWarning: You are saving your model as an HDF5 file via `model.save()`. This file format is considered legacy. We recommend using instead the native Keras format, e.g. `model.save('my_model.keras')`.\n",
      "  saving_api.save_model(\n"
     ]
    },
    {
     "name": "stdout",
     "output_type": "stream",
     "text": [
      "Epoch 250: early stopping\n",
      "Validation MAE : 1238.8858642578125\n",
      "Validation MSE : 25.943017959594727\n",
      "Training with parameters: {'batch_size': 32, 'dropout_rate': 0.1, 'hidden_layers': 1, 'hidden_units': 128, 'learning_rate': 0.01}\n"
     ]
    },
    {
     "name": "stderr",
     "output_type": "stream",
     "text": [
      "2024-03-14 21:10:46.096198: I tensorflow/core/grappler/optimizers/custom_graph_optimizer_registry.cc:114] Plugin optimizer for device_type GPU is enabled.\n",
      "2024-03-14 21:10:46.752930: I tensorflow/core/grappler/optimizers/custom_graph_optimizer_registry.cc:114] Plugin optimizer for device_type GPU is enabled.\n",
      "/Library/Frameworks/Python.framework/Versions/3.11/lib/python3.11/site-packages/keras/src/engine/training.py:3000: UserWarning: You are saving your model as an HDF5 file via `model.save()`. This file format is considered legacy. We recommend using instead the native Keras format, e.g. `model.save('my_model.keras')`.\n",
      "  saving_api.save_model(\n"
     ]
    },
    {
     "name": "stdout",
     "output_type": "stream",
     "text": [
      "Epoch 47: early stopping\n",
      "Validation MAE : 452.98638916015625\n",
      "Validation MSE : 14.77975082397461\n",
      "Training with parameters: {'batch_size': 32, 'dropout_rate': 0.1, 'hidden_layers': 1, 'hidden_units': 128, 'learning_rate': 0.1}\n"
     ]
    },
    {
     "name": "stderr",
     "output_type": "stream",
     "text": [
      "2024-03-14 21:10:58.817275: I tensorflow/core/grappler/optimizers/custom_graph_optimizer_registry.cc:114] Plugin optimizer for device_type GPU is enabled.\n",
      "2024-03-14 21:10:59.488910: I tensorflow/core/grappler/optimizers/custom_graph_optimizer_registry.cc:114] Plugin optimizer for device_type GPU is enabled.\n",
      "/Library/Frameworks/Python.framework/Versions/3.11/lib/python3.11/site-packages/keras/src/engine/training.py:3000: UserWarning: You are saving your model as an HDF5 file via `model.save()`. This file format is considered legacy. We recommend using instead the native Keras format, e.g. `model.save('my_model.keras')`.\n",
      "  saving_api.save_model(\n"
     ]
    },
    {
     "name": "stdout",
     "output_type": "stream",
     "text": [
      "Epoch 32: early stopping\n",
      "Validation MAE : 2096.08447265625\n",
      "Validation MSE : 27.660606384277344\n",
      "Training with parameters: {'batch_size': 32, 'dropout_rate': 0.1, 'hidden_layers': 1, 'hidden_units': 64, 'learning_rate': 0.001}\n"
     ]
    },
    {
     "name": "stderr",
     "output_type": "stream",
     "text": [
      "2024-03-14 21:11:07.947816: I tensorflow/core/grappler/optimizers/custom_graph_optimizer_registry.cc:114] Plugin optimizer for device_type GPU is enabled.\n",
      "2024-03-14 21:11:08.715308: I tensorflow/core/grappler/optimizers/custom_graph_optimizer_registry.cc:114] Plugin optimizer for device_type GPU is enabled.\n",
      "/Library/Frameworks/Python.framework/Versions/3.11/lib/python3.11/site-packages/keras/src/engine/training.py:3000: UserWarning: You are saving your model as an HDF5 file via `model.save()`. This file format is considered legacy. We recommend using instead the native Keras format, e.g. `model.save('my_model.keras')`.\n",
      "  saving_api.save_model(\n"
     ]
    },
    {
     "name": "stdout",
     "output_type": "stream",
     "text": [
      "Epoch 245: early stopping\n",
      "Validation MAE : 1116.8323974609375\n",
      "Validation MSE : 22.353708267211914\n",
      "Training with parameters: {'batch_size': 32, 'dropout_rate': 0.1, 'hidden_layers': 1, 'hidden_units': 64, 'learning_rate': 0.01}\n"
     ]
    },
    {
     "name": "stderr",
     "output_type": "stream",
     "text": [
      "2024-03-14 21:12:10.197488: I tensorflow/core/grappler/optimizers/custom_graph_optimizer_registry.cc:114] Plugin optimizer for device_type GPU is enabled.\n",
      "2024-03-14 21:12:10.899269: I tensorflow/core/grappler/optimizers/custom_graph_optimizer_registry.cc:114] Plugin optimizer for device_type GPU is enabled.\n",
      "/Library/Frameworks/Python.framework/Versions/3.11/lib/python3.11/site-packages/keras/src/engine/training.py:3000: UserWarning: You are saving your model as an HDF5 file via `model.save()`. This file format is considered legacy. We recommend using instead the native Keras format, e.g. `model.save('my_model.keras')`.\n",
      "  saving_api.save_model(\n"
     ]
    },
    {
     "name": "stdout",
     "output_type": "stream",
     "text": [
      "Epoch 59: early stopping\n",
      "Validation MAE : 553.5841674804688\n",
      "Validation MSE : 12.886138916015625\n",
      "Training with parameters: {'batch_size': 32, 'dropout_rate': 0.1, 'hidden_layers': 1, 'hidden_units': 64, 'learning_rate': 0.1}\n"
     ]
    },
    {
     "name": "stderr",
     "output_type": "stream",
     "text": [
      "2024-03-14 21:12:25.994295: I tensorflow/core/grappler/optimizers/custom_graph_optimizer_registry.cc:114] Plugin optimizer for device_type GPU is enabled.\n",
      "2024-03-14 21:12:26.737234: I tensorflow/core/grappler/optimizers/custom_graph_optimizer_registry.cc:114] Plugin optimizer for device_type GPU is enabled.\n",
      "/Library/Frameworks/Python.framework/Versions/3.11/lib/python3.11/site-packages/keras/src/engine/training.py:3000: UserWarning: You are saving your model as an HDF5 file via `model.save()`. This file format is considered legacy. We recommend using instead the native Keras format, e.g. `model.save('my_model.keras')`.\n",
      "  saving_api.save_model(\n"
     ]
    },
    {
     "name": "stdout",
     "output_type": "stream",
     "text": [
      "Epoch 27: early stopping\n",
      "Validation MAE : 477.80535888671875\n",
      "Validation MSE : 14.983604431152344\n",
      "Training with parameters: {'batch_size': 32, 'dropout_rate': 0.1, 'hidden_layers': 1, 'hidden_units': 32, 'learning_rate': 0.001}\n"
     ]
    },
    {
     "name": "stderr",
     "output_type": "stream",
     "text": [
      "2024-03-14 21:12:33.959871: I tensorflow/core/grappler/optimizers/custom_graph_optimizer_registry.cc:114] Plugin optimizer for device_type GPU is enabled.\n",
      "2024-03-14 21:12:35.153876: I tensorflow/core/grappler/optimizers/custom_graph_optimizer_registry.cc:114] Plugin optimizer for device_type GPU is enabled.\n",
      "/Library/Frameworks/Python.framework/Versions/3.11/lib/python3.11/site-packages/keras/src/engine/training.py:3000: UserWarning: You are saving your model as an HDF5 file via `model.save()`. This file format is considered legacy. We recommend using instead the native Keras format, e.g. `model.save('my_model.keras')`.\n",
      "  saving_api.save_model(\n"
     ]
    },
    {
     "name": "stdout",
     "output_type": "stream",
     "text": [
      "Epoch 365: early stopping\n",
      "Validation MAE : 88.69823455810547\n",
      "Validation MSE : 5.5705885887146\n",
      "Training with parameters: {'batch_size': 32, 'dropout_rate': 0.1, 'hidden_layers': 1, 'hidden_units': 32, 'learning_rate': 0.01}\n"
     ]
    },
    {
     "name": "stderr",
     "output_type": "stream",
     "text": [
      "2024-03-14 21:14:05.950539: I tensorflow/core/grappler/optimizers/custom_graph_optimizer_registry.cc:114] Plugin optimizer for device_type GPU is enabled.\n",
      "2024-03-14 21:14:06.751993: I tensorflow/core/grappler/optimizers/custom_graph_optimizer_registry.cc:114] Plugin optimizer for device_type GPU is enabled.\n",
      "/Library/Frameworks/Python.framework/Versions/3.11/lib/python3.11/site-packages/keras/src/engine/training.py:3000: UserWarning: You are saving your model as an HDF5 file via `model.save()`. This file format is considered legacy. We recommend using instead the native Keras format, e.g. `model.save('my_model.keras')`.\n",
      "  saving_api.save_model(\n"
     ]
    },
    {
     "name": "stdout",
     "output_type": "stream",
     "text": [
      "Epoch 185: early stopping\n",
      "Validation MAE : 405.3184814453125\n",
      "Validation MSE : 10.528520584106445\n",
      "Training with parameters: {'batch_size': 32, 'dropout_rate': 0.1, 'hidden_layers': 1, 'hidden_units': 32, 'learning_rate': 0.1}\n"
     ]
    },
    {
     "name": "stderr",
     "output_type": "stream",
     "text": [
      "2024-03-14 21:14:53.151904: I tensorflow/core/grappler/optimizers/custom_graph_optimizer_registry.cc:114] Plugin optimizer for device_type GPU is enabled.\n",
      "2024-03-14 21:14:54.707924: I tensorflow/core/grappler/optimizers/custom_graph_optimizer_registry.cc:114] Plugin optimizer for device_type GPU is enabled.\n",
      "/Library/Frameworks/Python.framework/Versions/3.11/lib/python3.11/site-packages/keras/src/engine/training.py:3000: UserWarning: You are saving your model as an HDF5 file via `model.save()`. This file format is considered legacy. We recommend using instead the native Keras format, e.g. `model.save('my_model.keras')`.\n",
      "  saving_api.save_model(\n"
     ]
    },
    {
     "name": "stdout",
     "output_type": "stream",
     "text": [
      "Epoch 25: early stopping\n",
      "Validation MAE : 6510.51171875\n",
      "Validation MSE : 44.53046417236328\n",
      "Training with parameters: {'batch_size': 32, 'dropout_rate': 0.1, 'hidden_layers': 2, 'hidden_units': 128, 'learning_rate': 0.001}\n"
     ]
    },
    {
     "name": "stderr",
     "output_type": "stream",
     "text": [
      "2024-03-14 21:15:01.568621: I tensorflow/core/grappler/optimizers/custom_graph_optimizer_registry.cc:114] Plugin optimizer for device_type GPU is enabled.\n",
      "2024-03-14 21:15:02.463039: I tensorflow/core/grappler/optimizers/custom_graph_optimizer_registry.cc:114] Plugin optimizer for device_type GPU is enabled.\n",
      "/Library/Frameworks/Python.framework/Versions/3.11/lib/python3.11/site-packages/keras/src/engine/training.py:3000: UserWarning: You are saving your model as an HDF5 file via `model.save()`. This file format is considered legacy. We recommend using instead the native Keras format, e.g. `model.save('my_model.keras')`.\n",
      "  saving_api.save_model(\n"
     ]
    },
    {
     "name": "stdout",
     "output_type": "stream",
     "text": [
      "Epoch 89: early stopping\n",
      "Validation MAE : 192203.515625\n",
      "Validation MSE : 302.4712219238281\n",
      "Training with parameters: {'batch_size': 32, 'dropout_rate': 0.1, 'hidden_layers': 2, 'hidden_units': 128, 'learning_rate': 0.01}\n"
     ]
    },
    {
     "name": "stderr",
     "output_type": "stream",
     "text": [
      "2024-03-14 21:15:27.950892: I tensorflow/core/grappler/optimizers/custom_graph_optimizer_registry.cc:114] Plugin optimizer for device_type GPU is enabled.\n",
      "2024-03-14 21:15:28.902856: I tensorflow/core/grappler/optimizers/custom_graph_optimizer_registry.cc:114] Plugin optimizer for device_type GPU is enabled.\n",
      "/Library/Frameworks/Python.framework/Versions/3.11/lib/python3.11/site-packages/keras/src/engine/training.py:3000: UserWarning: You are saving your model as an HDF5 file via `model.save()`. This file format is considered legacy. We recommend using instead the native Keras format, e.g. `model.save('my_model.keras')`.\n",
      "  saving_api.save_model(\n"
     ]
    },
    {
     "name": "stdout",
     "output_type": "stream",
     "text": [
      "Epoch 47: early stopping\n",
      "Validation MAE : 4666.3896484375\n",
      "Validation MSE : 45.7672004699707\n",
      "Training with parameters: {'batch_size': 32, 'dropout_rate': 0.1, 'hidden_layers': 2, 'hidden_units': 128, 'learning_rate': 0.1}\n"
     ]
    },
    {
     "name": "stderr",
     "output_type": "stream",
     "text": [
      "2024-03-14 21:15:42.608462: I tensorflow/core/grappler/optimizers/custom_graph_optimizer_registry.cc:114] Plugin optimizer for device_type GPU is enabled.\n",
      "2024-03-14 21:15:43.558425: I tensorflow/core/grappler/optimizers/custom_graph_optimizer_registry.cc:114] Plugin optimizer for device_type GPU is enabled.\n",
      "/Library/Frameworks/Python.framework/Versions/3.11/lib/python3.11/site-packages/keras/src/engine/training.py:3000: UserWarning: You are saving your model as an HDF5 file via `model.save()`. This file format is considered legacy. We recommend using instead the native Keras format, e.g. `model.save('my_model.keras')`.\n",
      "  saving_api.save_model(\n"
     ]
    },
    {
     "name": "stdout",
     "output_type": "stream",
     "text": [
      "Epoch 21: early stopping\n",
      "Validation MAE : 164070.0625\n",
      "Validation MSE : 349.4001159667969\n",
      "Training with parameters: {'batch_size': 32, 'dropout_rate': 0.1, 'hidden_layers': 2, 'hidden_units': 64, 'learning_rate': 0.001}\n"
     ]
    },
    {
     "name": "stderr",
     "output_type": "stream",
     "text": [
      "2024-03-14 21:15:49.979068: I tensorflow/core/grappler/optimizers/custom_graph_optimizer_registry.cc:114] Plugin optimizer for device_type GPU is enabled.\n",
      "2024-03-14 21:15:50.930865: I tensorflow/core/grappler/optimizers/custom_graph_optimizer_registry.cc:114] Plugin optimizer for device_type GPU is enabled.\n",
      "/Library/Frameworks/Python.framework/Versions/3.11/lib/python3.11/site-packages/keras/src/engine/training.py:3000: UserWarning: You are saving your model as an HDF5 file via `model.save()`. This file format is considered legacy. We recommend using instead the native Keras format, e.g. `model.save('my_model.keras')`.\n",
      "  saving_api.save_model(\n"
     ]
    },
    {
     "name": "stdout",
     "output_type": "stream",
     "text": [
      "Epoch 96: early stopping\n",
      "Validation MAE : 51431.890625\n",
      "Validation MSE : 160.70359802246094\n",
      "Training with parameters: {'batch_size': 32, 'dropout_rate': 0.1, 'hidden_layers': 2, 'hidden_units': 64, 'learning_rate': 0.01}\n"
     ]
    },
    {
     "name": "stderr",
     "output_type": "stream",
     "text": [
      "2024-03-14 21:16:18.949189: I tensorflow/core/grappler/optimizers/custom_graph_optimizer_registry.cc:114] Plugin optimizer for device_type GPU is enabled.\n",
      "2024-03-14 21:16:19.896842: I tensorflow/core/grappler/optimizers/custom_graph_optimizer_registry.cc:114] Plugin optimizer for device_type GPU is enabled.\n",
      "/Library/Frameworks/Python.framework/Versions/3.11/lib/python3.11/site-packages/keras/src/engine/training.py:3000: UserWarning: You are saving your model as an HDF5 file via `model.save()`. This file format is considered legacy. We recommend using instead the native Keras format, e.g. `model.save('my_model.keras')`.\n",
      "  saving_api.save_model(\n"
     ]
    },
    {
     "name": "stdout",
     "output_type": "stream",
     "text": [
      "Epoch 34: early stopping\n",
      "Validation MAE : 3946.303955078125\n",
      "Validation MSE : 33.319122314453125\n",
      "Training with parameters: {'batch_size': 32, 'dropout_rate': 0.1, 'hidden_layers': 2, 'hidden_units': 64, 'learning_rate': 0.1}\n"
     ]
    },
    {
     "name": "stderr",
     "output_type": "stream",
     "text": [
      "2024-03-14 21:16:29.854656: I tensorflow/core/grappler/optimizers/custom_graph_optimizer_registry.cc:114] Plugin optimizer for device_type GPU is enabled.\n",
      "2024-03-14 21:16:30.811024: I tensorflow/core/grappler/optimizers/custom_graph_optimizer_registry.cc:114] Plugin optimizer for device_type GPU is enabled.\n",
      "/Library/Frameworks/Python.framework/Versions/3.11/lib/python3.11/site-packages/keras/src/engine/training.py:3000: UserWarning: You are saving your model as an HDF5 file via `model.save()`. This file format is considered legacy. We recommend using instead the native Keras format, e.g. `model.save('my_model.keras')`.\n",
      "  saving_api.save_model(\n"
     ]
    },
    {
     "name": "stdout",
     "output_type": "stream",
     "text": [
      "Epoch 37: early stopping\n",
      "Validation MAE : 8044.92236328125\n",
      "Validation MSE : 45.712745666503906\n",
      "Training with parameters: {'batch_size': 32, 'dropout_rate': 0.1, 'hidden_layers': 2, 'hidden_units': 32, 'learning_rate': 0.001}\n"
     ]
    },
    {
     "name": "stderr",
     "output_type": "stream",
     "text": [
      "2024-03-14 21:16:41.657777: I tensorflow/core/grappler/optimizers/custom_graph_optimizer_registry.cc:114] Plugin optimizer for device_type GPU is enabled.\n",
      "2024-03-14 21:16:42.613312: I tensorflow/core/grappler/optimizers/custom_graph_optimizer_registry.cc:114] Plugin optimizer for device_type GPU is enabled.\n",
      "/Library/Frameworks/Python.framework/Versions/3.11/lib/python3.11/site-packages/keras/src/engine/training.py:3000: UserWarning: You are saving your model as an HDF5 file via `model.save()`. This file format is considered legacy. We recommend using instead the native Keras format, e.g. `model.save('my_model.keras')`.\n",
      "  saving_api.save_model(\n"
     ]
    },
    {
     "name": "stdout",
     "output_type": "stream",
     "text": [
      "Epoch 136: early stopping\n",
      "Validation MAE : 741.2787475585938\n",
      "Validation MSE : 17.277997970581055\n",
      "Training with parameters: {'batch_size': 32, 'dropout_rate': 0.1, 'hidden_layers': 2, 'hidden_units': 32, 'learning_rate': 0.01}\n"
     ]
    },
    {
     "name": "stderr",
     "output_type": "stream",
     "text": [
      "2024-03-14 21:17:21.166339: I tensorflow/core/grappler/optimizers/custom_graph_optimizer_registry.cc:114] Plugin optimizer for device_type GPU is enabled.\n",
      "2024-03-14 21:17:22.203863: I tensorflow/core/grappler/optimizers/custom_graph_optimizer_registry.cc:114] Plugin optimizer for device_type GPU is enabled.\n",
      "/Library/Frameworks/Python.framework/Versions/3.11/lib/python3.11/site-packages/keras/src/engine/training.py:3000: UserWarning: You are saving your model as an HDF5 file via `model.save()`. This file format is considered legacy. We recommend using instead the native Keras format, e.g. `model.save('my_model.keras')`.\n",
      "  saving_api.save_model(\n"
     ]
    },
    {
     "name": "stdout",
     "output_type": "stream",
     "text": [
      "Epoch 47: early stopping\n",
      "Validation MAE : 2091.96044921875\n",
      "Validation MSE : 29.902809143066406\n",
      "Training with parameters: {'batch_size': 32, 'dropout_rate': 0.1, 'hidden_layers': 2, 'hidden_units': 32, 'learning_rate': 0.1}\n"
     ]
    },
    {
     "name": "stderr",
     "output_type": "stream",
     "text": [
      "2024-03-14 21:17:35.881560: I tensorflow/core/grappler/optimizers/custom_graph_optimizer_registry.cc:114] Plugin optimizer for device_type GPU is enabled.\n",
      "2024-03-14 21:17:36.951119: I tensorflow/core/grappler/optimizers/custom_graph_optimizer_registry.cc:114] Plugin optimizer for device_type GPU is enabled.\n",
      "/Library/Frameworks/Python.framework/Versions/3.11/lib/python3.11/site-packages/keras/src/engine/training.py:3000: UserWarning: You are saving your model as an HDF5 file via `model.save()`. This file format is considered legacy. We recommend using instead the native Keras format, e.g. `model.save('my_model.keras')`.\n",
      "  saving_api.save_model(\n"
     ]
    },
    {
     "name": "stdout",
     "output_type": "stream",
     "text": [
      "Epoch 39: early stopping\n",
      "Validation MAE : 70007200.0\n",
      "Validation MSE : 7210.1630859375\n",
      "Training with parameters: {'batch_size': 32, 'dropout_rate': 0.1, 'hidden_layers': 3, 'hidden_units': 128, 'learning_rate': 0.001}\n"
     ]
    },
    {
     "name": "stderr",
     "output_type": "stream",
     "text": [
      "2024-03-14 21:17:48.397038: I tensorflow/core/grappler/optimizers/custom_graph_optimizer_registry.cc:114] Plugin optimizer for device_type GPU is enabled.\n",
      "2024-03-14 21:17:49.781394: I tensorflow/core/grappler/optimizers/custom_graph_optimizer_registry.cc:114] Plugin optimizer for device_type GPU is enabled.\n",
      "/Library/Frameworks/Python.framework/Versions/3.11/lib/python3.11/site-packages/keras/src/engine/training.py:3000: UserWarning: You are saving your model as an HDF5 file via `model.save()`. This file format is considered legacy. We recommend using instead the native Keras format, e.g. `model.save('my_model.keras')`.\n",
      "  saving_api.save_model(\n"
     ]
    },
    {
     "name": "stdout",
     "output_type": "stream",
     "text": [
      "Epoch 22: early stopping\n",
      "Validation MAE : 4023467.5\n",
      "Validation MSE : 1325.6533203125\n",
      "Training with parameters: {'batch_size': 32, 'dropout_rate': 0.1, 'hidden_layers': 3, 'hidden_units': 128, 'learning_rate': 0.01}\n"
     ]
    },
    {
     "name": "stderr",
     "output_type": "stream",
     "text": [
      "2024-03-14 21:17:57.431441: I tensorflow/core/grappler/optimizers/custom_graph_optimizer_registry.cc:114] Plugin optimizer for device_type GPU is enabled.\n",
      "2024-03-14 21:17:58.646265: I tensorflow/core/grappler/optimizers/custom_graph_optimizer_registry.cc:114] Plugin optimizer for device_type GPU is enabled.\n",
      "/Library/Frameworks/Python.framework/Versions/3.11/lib/python3.11/site-packages/keras/src/engine/training.py:3000: UserWarning: You are saving your model as an HDF5 file via `model.save()`. This file format is considered legacy. We recommend using instead the native Keras format, e.g. `model.save('my_model.keras')`.\n",
      "  saving_api.save_model(\n"
     ]
    },
    {
     "name": "stdout",
     "output_type": "stream",
     "text": [
      "Epoch 21: early stopping\n",
      "Validation MAE : 299716.6875\n",
      "Validation MSE : 443.71148681640625\n",
      "Training with parameters: {'batch_size': 32, 'dropout_rate': 0.1, 'hidden_layers': 3, 'hidden_units': 128, 'learning_rate': 0.1}\n"
     ]
    },
    {
     "name": "stderr",
     "output_type": "stream",
     "text": [
      "2024-03-14 21:18:06.014315: I tensorflow/core/grappler/optimizers/custom_graph_optimizer_registry.cc:114] Plugin optimizer for device_type GPU is enabled.\n",
      "2024-03-14 21:18:07.349461: I tensorflow/core/grappler/optimizers/custom_graph_optimizer_registry.cc:114] Plugin optimizer for device_type GPU is enabled.\n",
      "/Library/Frameworks/Python.framework/Versions/3.11/lib/python3.11/site-packages/keras/src/engine/training.py:3000: UserWarning: You are saving your model as an HDF5 file via `model.save()`. This file format is considered legacy. We recommend using instead the native Keras format, e.g. `model.save('my_model.keras')`.\n",
      "  saving_api.save_model(\n"
     ]
    },
    {
     "name": "stdout",
     "output_type": "stream",
     "text": [
      "Epoch 21: early stopping\n",
      "Validation MAE : 42425192.0\n",
      "Validation MSE : 5389.6552734375\n",
      "Training with parameters: {'batch_size': 32, 'dropout_rate': 0.1, 'hidden_layers': 3, 'hidden_units': 64, 'learning_rate': 0.001}\n"
     ]
    },
    {
     "name": "stderr",
     "output_type": "stream",
     "text": [
      "2024-03-14 21:18:14.795404: I tensorflow/core/grappler/optimizers/custom_graph_optimizer_registry.cc:114] Plugin optimizer for device_type GPU is enabled.\n",
      "2024-03-14 21:18:16.249194: I tensorflow/core/grappler/optimizers/custom_graph_optimizer_registry.cc:114] Plugin optimizer for device_type GPU is enabled.\n",
      "/Library/Frameworks/Python.framework/Versions/3.11/lib/python3.11/site-packages/keras/src/engine/training.py:3000: UserWarning: You are saving your model as an HDF5 file via `model.save()`. This file format is considered legacy. We recommend using instead the native Keras format, e.g. `model.save('my_model.keras')`.\n",
      "  saving_api.save_model(\n"
     ]
    },
    {
     "name": "stdout",
     "output_type": "stream",
     "text": [
      "Epoch 24: early stopping\n",
      "Validation MAE : 798099.5\n",
      "Validation MSE : 705.1351318359375\n",
      "Training with parameters: {'batch_size': 32, 'dropout_rate': 0.1, 'hidden_layers': 3, 'hidden_units': 64, 'learning_rate': 0.01}\n"
     ]
    },
    {
     "name": "stderr",
     "output_type": "stream",
     "text": [
      "2024-03-14 21:18:24.559828: I tensorflow/core/grappler/optimizers/custom_graph_optimizer_registry.cc:114] Plugin optimizer for device_type GPU is enabled.\n",
      "2024-03-14 21:18:25.912979: I tensorflow/core/grappler/optimizers/custom_graph_optimizer_registry.cc:114] Plugin optimizer for device_type GPU is enabled.\n",
      "/Library/Frameworks/Python.framework/Versions/3.11/lib/python3.11/site-packages/keras/src/engine/training.py:3000: UserWarning: You are saving your model as an HDF5 file via `model.save()`. This file format is considered legacy. We recommend using instead the native Keras format, e.g. `model.save('my_model.keras')`.\n",
      "  saving_api.save_model(\n"
     ]
    },
    {
     "name": "stdout",
     "output_type": "stream",
     "text": [
      "Epoch 52: early stopping\n",
      "Validation MAE : 96985.6328125\n",
      "Validation MSE : 217.374755859375\n",
      "Training with parameters: {'batch_size': 32, 'dropout_rate': 0.1, 'hidden_layers': 3, 'hidden_units': 64, 'learning_rate': 0.1}\n"
     ]
    },
    {
     "name": "stderr",
     "output_type": "stream",
     "text": [
      "2024-03-14 21:18:44.532060: I tensorflow/core/grappler/optimizers/custom_graph_optimizer_registry.cc:114] Plugin optimizer for device_type GPU is enabled.\n",
      "2024-03-14 21:18:45.989370: I tensorflow/core/grappler/optimizers/custom_graph_optimizer_registry.cc:114] Plugin optimizer for device_type GPU is enabled.\n",
      "/Library/Frameworks/Python.framework/Versions/3.11/lib/python3.11/site-packages/keras/src/engine/training.py:3000: UserWarning: You are saving your model as an HDF5 file via `model.save()`. This file format is considered legacy. We recommend using instead the native Keras format, e.g. `model.save('my_model.keras')`.\n",
      "  saving_api.save_model(\n"
     ]
    },
    {
     "name": "stdout",
     "output_type": "stream",
     "text": [
      "Epoch 34: early stopping\n",
      "Validation MAE : 1539465412608.0\n",
      "Validation MSE : 1002630.4375\n",
      "Training with parameters: {'batch_size': 32, 'dropout_rate': 0.1, 'hidden_layers': 3, 'hidden_units': 32, 'learning_rate': 0.001}\n"
     ]
    },
    {
     "name": "stderr",
     "output_type": "stream",
     "text": [
      "2024-03-14 21:18:57.784506: I tensorflow/core/grappler/optimizers/custom_graph_optimizer_registry.cc:114] Plugin optimizer for device_type GPU is enabled.\n",
      "2024-03-14 21:18:59.118448: I tensorflow/core/grappler/optimizers/custom_graph_optimizer_registry.cc:114] Plugin optimizer for device_type GPU is enabled.\n",
      "/Library/Frameworks/Python.framework/Versions/3.11/lib/python3.11/site-packages/keras/src/engine/training.py:3000: UserWarning: You are saving your model as an HDF5 file via `model.save()`. This file format is considered legacy. We recommend using instead the native Keras format, e.g. `model.save('my_model.keras')`.\n",
      "  saving_api.save_model(\n"
     ]
    },
    {
     "name": "stdout",
     "output_type": "stream",
     "text": [
      "Epoch 25: early stopping\n",
      "Validation MAE : 89525.1484375\n",
      "Validation MSE : 155.26681518554688\n",
      "Training with parameters: {'batch_size': 32, 'dropout_rate': 0.1, 'hidden_layers': 3, 'hidden_units': 32, 'learning_rate': 0.01}\n"
     ]
    },
    {
     "name": "stderr",
     "output_type": "stream",
     "text": [
      "2024-03-14 21:19:07.810750: I tensorflow/core/grappler/optimizers/custom_graph_optimizer_registry.cc:114] Plugin optimizer for device_type GPU is enabled.\n",
      "2024-03-14 21:19:09.208114: I tensorflow/core/grappler/optimizers/custom_graph_optimizer_registry.cc:114] Plugin optimizer for device_type GPU is enabled.\n",
      "/Library/Frameworks/Python.framework/Versions/3.11/lib/python3.11/site-packages/keras/src/engine/training.py:3000: UserWarning: You are saving your model as an HDF5 file via `model.save()`. This file format is considered legacy. We recommend using instead the native Keras format, e.g. `model.save('my_model.keras')`.\n",
      "  saving_api.save_model(\n"
     ]
    },
    {
     "name": "stdout",
     "output_type": "stream",
     "text": [
      "Epoch 34: early stopping\n",
      "Validation MAE : 10881.8916015625\n",
      "Validation MSE : 63.611812591552734\n",
      "Training with parameters: {'batch_size': 32, 'dropout_rate': 0.1, 'hidden_layers': 3, 'hidden_units': 32, 'learning_rate': 0.1}\n"
     ]
    },
    {
     "name": "stderr",
     "output_type": "stream",
     "text": [
      "2024-03-14 21:19:20.861964: I tensorflow/core/grappler/optimizers/custom_graph_optimizer_registry.cc:114] Plugin optimizer for device_type GPU is enabled.\n",
      "2024-03-14 21:19:22.274012: I tensorflow/core/grappler/optimizers/custom_graph_optimizer_registry.cc:114] Plugin optimizer for device_type GPU is enabled.\n",
      "/Library/Frameworks/Python.framework/Versions/3.11/lib/python3.11/site-packages/keras/src/engine/training.py:3000: UserWarning: You are saving your model as an HDF5 file via `model.save()`. This file format is considered legacy. We recommend using instead the native Keras format, e.g. `model.save('my_model.keras')`.\n",
      "  saving_api.save_model(\n"
     ]
    },
    {
     "name": "stdout",
     "output_type": "stream",
     "text": [
      "Epoch 21: early stopping\n",
      "Validation MAE : 1507368320.0\n",
      "Validation MSE : 31880.248046875\n",
      "Training with parameters: {'batch_size': 32, 'dropout_rate': 0.2, 'hidden_layers': 1, 'hidden_units': 128, 'learning_rate': 0.001}\n"
     ]
    },
    {
     "name": "stderr",
     "output_type": "stream",
     "text": [
      "2024-03-14 21:19:29.705010: I tensorflow/core/grappler/optimizers/custom_graph_optimizer_registry.cc:114] Plugin optimizer for device_type GPU is enabled.\n",
      "2024-03-14 21:19:30.691934: I tensorflow/core/grappler/optimizers/custom_graph_optimizer_registry.cc:114] Plugin optimizer for device_type GPU is enabled.\n",
      "/Library/Frameworks/Python.framework/Versions/3.11/lib/python3.11/site-packages/keras/src/engine/training.py:3000: UserWarning: You are saving your model as an HDF5 file via `model.save()`. This file format is considered legacy. We recommend using instead the native Keras format, e.g. `model.save('my_model.keras')`.\n",
      "  saving_api.save_model(\n"
     ]
    },
    {
     "name": "stdout",
     "output_type": "stream",
     "text": [
      "Epoch 215: early stopping\n",
      "Validation MAE : 1219.3570556640625\n",
      "Validation MSE : 23.2166748046875\n",
      "Training with parameters: {'batch_size': 32, 'dropout_rate': 0.2, 'hidden_layers': 1, 'hidden_units': 128, 'learning_rate': 0.01}\n"
     ]
    },
    {
     "name": "stderr",
     "output_type": "stream",
     "text": [
      "2024-03-14 21:20:24.841762: I tensorflow/core/grappler/optimizers/custom_graph_optimizer_registry.cc:114] Plugin optimizer for device_type GPU is enabled.\n",
      "2024-03-14 21:20:25.900241: I tensorflow/core/grappler/optimizers/custom_graph_optimizer_registry.cc:114] Plugin optimizer for device_type GPU is enabled.\n",
      "/Library/Frameworks/Python.framework/Versions/3.11/lib/python3.11/site-packages/keras/src/engine/training.py:3000: UserWarning: You are saving your model as an HDF5 file via `model.save()`. This file format is considered legacy. We recommend using instead the native Keras format, e.g. `model.save('my_model.keras')`.\n",
      "  saving_api.save_model(\n"
     ]
    },
    {
     "name": "stdout",
     "output_type": "stream",
     "text": [
      "Epoch 44: early stopping\n",
      "Validation MAE : 934.4331665039062\n",
      "Validation MSE : 21.94850730895996\n",
      "Training with parameters: {'batch_size': 32, 'dropout_rate': 0.2, 'hidden_layers': 1, 'hidden_units': 128, 'learning_rate': 0.1}\n"
     ]
    },
    {
     "name": "stderr",
     "output_type": "stream",
     "text": [
      "2024-03-14 21:20:37.724646: I tensorflow/core/grappler/optimizers/custom_graph_optimizer_registry.cc:114] Plugin optimizer for device_type GPU is enabled.\n",
      "2024-03-14 21:20:38.799155: I tensorflow/core/grappler/optimizers/custom_graph_optimizer_registry.cc:114] Plugin optimizer for device_type GPU is enabled.\n",
      "/Library/Frameworks/Python.framework/Versions/3.11/lib/python3.11/site-packages/keras/src/engine/training.py:3000: UserWarning: You are saving your model as an HDF5 file via `model.save()`. This file format is considered legacy. We recommend using instead the native Keras format, e.g. `model.save('my_model.keras')`.\n",
      "  saving_api.save_model(\n"
     ]
    },
    {
     "name": "stdout",
     "output_type": "stream",
     "text": [
      "Epoch 25: early stopping\n",
      "Validation MAE : 2408.870849609375\n",
      "Validation MSE : 40.067718505859375\n",
      "Training with parameters: {'batch_size': 32, 'dropout_rate': 0.2, 'hidden_layers': 1, 'hidden_units': 64, 'learning_rate': 0.001}\n"
     ]
    },
    {
     "name": "stderr",
     "output_type": "stream",
     "text": [
      "2024-03-14 21:20:45.701588: I tensorflow/core/grappler/optimizers/custom_graph_optimizer_registry.cc:114] Plugin optimizer for device_type GPU is enabled.\n",
      "2024-03-14 21:20:46.778514: I tensorflow/core/grappler/optimizers/custom_graph_optimizer_registry.cc:114] Plugin optimizer for device_type GPU is enabled.\n",
      "/Library/Frameworks/Python.framework/Versions/3.11/lib/python3.11/site-packages/keras/src/engine/training.py:3000: UserWarning: You are saving your model as an HDF5 file via `model.save()`. This file format is considered legacy. We recommend using instead the native Keras format, e.g. `model.save('my_model.keras')`.\n",
      "  saving_api.save_model(\n"
     ]
    },
    {
     "name": "stdout",
     "output_type": "stream",
     "text": [
      "Epoch 229: early stopping\n",
      "Validation MAE : 81.8257064819336\n",
      "Validation MSE : 5.161391735076904\n",
      "Training with parameters: {'batch_size': 32, 'dropout_rate': 0.2, 'hidden_layers': 1, 'hidden_units': 64, 'learning_rate': 0.01}\n"
     ]
    },
    {
     "name": "stderr",
     "output_type": "stream",
     "text": [
      "2024-03-14 21:21:45.072535: I tensorflow/core/grappler/optimizers/custom_graph_optimizer_registry.cc:114] Plugin optimizer for device_type GPU is enabled.\n",
      "2024-03-14 21:21:46.156954: I tensorflow/core/grappler/optimizers/custom_graph_optimizer_registry.cc:114] Plugin optimizer for device_type GPU is enabled.\n",
      "/Library/Frameworks/Python.framework/Versions/3.11/lib/python3.11/site-packages/keras/src/engine/training.py:3000: UserWarning: You are saving your model as an HDF5 file via `model.save()`. This file format is considered legacy. We recommend using instead the native Keras format, e.g. `model.save('my_model.keras')`.\n",
      "  saving_api.save_model(\n"
     ]
    },
    {
     "name": "stdout",
     "output_type": "stream",
     "text": [
      "Epoch 37: early stopping\n",
      "Validation MAE : 2195.131591796875\n",
      "Validation MSE : 24.61507225036621\n",
      "Training with parameters: {'batch_size': 32, 'dropout_rate': 0.2, 'hidden_layers': 1, 'hidden_units': 64, 'learning_rate': 0.1}\n"
     ]
    },
    {
     "name": "stderr",
     "output_type": "stream",
     "text": [
      "2024-03-14 21:21:56.162195: I tensorflow/core/grappler/optimizers/custom_graph_optimizer_registry.cc:114] Plugin optimizer for device_type GPU is enabled.\n",
      "2024-03-14 21:21:57.382133: I tensorflow/core/grappler/optimizers/custom_graph_optimizer_registry.cc:114] Plugin optimizer for device_type GPU is enabled.\n",
      "/Library/Frameworks/Python.framework/Versions/3.11/lib/python3.11/site-packages/keras/src/engine/training.py:3000: UserWarning: You are saving your model as an HDF5 file via `model.save()`. This file format is considered legacy. We recommend using instead the native Keras format, e.g. `model.save('my_model.keras')`.\n",
      "  saving_api.save_model(\n"
     ]
    },
    {
     "name": "stdout",
     "output_type": "stream",
     "text": [
      "Epoch 26: early stopping\n",
      "Validation MAE : 150.9918975830078\n",
      "Validation MSE : 7.597806453704834\n",
      "Training with parameters: {'batch_size': 32, 'dropout_rate': 0.2, 'hidden_layers': 1, 'hidden_units': 32, 'learning_rate': 0.001}\n"
     ]
    },
    {
     "name": "stderr",
     "output_type": "stream",
     "text": [
      "2024-03-14 21:22:04.490164: I tensorflow/core/grappler/optimizers/custom_graph_optimizer_registry.cc:114] Plugin optimizer for device_type GPU is enabled.\n",
      "2024-03-14 21:22:05.545722: I tensorflow/core/grappler/optimizers/custom_graph_optimizer_registry.cc:114] Plugin optimizer for device_type GPU is enabled.\n",
      "/Library/Frameworks/Python.framework/Versions/3.11/lib/python3.11/site-packages/keras/src/engine/training.py:3000: UserWarning: You are saving your model as an HDF5 file via `model.save()`. This file format is considered legacy. We recommend using instead the native Keras format, e.g. `model.save('my_model.keras')`.\n",
      "  saving_api.save_model(\n"
     ]
    },
    {
     "name": "stdout",
     "output_type": "stream",
     "text": [
      "Epoch 348: early stopping\n",
      "Validation MAE : 314.98760986328125\n",
      "Validation MSE : 9.54705810546875\n",
      "Training with parameters: {'batch_size': 32, 'dropout_rate': 0.2, 'hidden_layers': 1, 'hidden_units': 32, 'learning_rate': 0.01}\n"
     ]
    },
    {
     "name": "stderr",
     "output_type": "stream",
     "text": [
      "2024-03-14 21:23:32.791156: I tensorflow/core/grappler/optimizers/custom_graph_optimizer_registry.cc:114] Plugin optimizer for device_type GPU is enabled.\n",
      "2024-03-14 21:23:33.868701: I tensorflow/core/grappler/optimizers/custom_graph_optimizer_registry.cc:114] Plugin optimizer for device_type GPU is enabled.\n",
      "/Library/Frameworks/Python.framework/Versions/3.11/lib/python3.11/site-packages/keras/src/engine/training.py:3000: UserWarning: You are saving your model as an HDF5 file via `model.save()`. This file format is considered legacy. We recommend using instead the native Keras format, e.g. `model.save('my_model.keras')`.\n",
      "  saving_api.save_model(\n"
     ]
    },
    {
     "name": "stdout",
     "output_type": "stream",
     "text": [
      "Epoch 52: early stopping\n",
      "Validation MAE : 332.5363464355469\n",
      "Validation MSE : 11.806624412536621\n",
      "Training with parameters: {'batch_size': 32, 'dropout_rate': 0.2, 'hidden_layers': 1, 'hidden_units': 32, 'learning_rate': 0.1}\n"
     ]
    },
    {
     "name": "stderr",
     "output_type": "stream",
     "text": [
      "2024-03-14 21:23:47.425733: I tensorflow/core/grappler/optimizers/custom_graph_optimizer_registry.cc:114] Plugin optimizer for device_type GPU is enabled.\n",
      "2024-03-14 21:23:48.441331: I tensorflow/core/grappler/optimizers/custom_graph_optimizer_registry.cc:114] Plugin optimizer for device_type GPU is enabled.\n",
      "/Library/Frameworks/Python.framework/Versions/3.11/lib/python3.11/site-packages/keras/src/engine/training.py:3000: UserWarning: You are saving your model as an HDF5 file via `model.save()`. This file format is considered legacy. We recommend using instead the native Keras format, e.g. `model.save('my_model.keras')`.\n",
      "  saving_api.save_model(\n"
     ]
    },
    {
     "name": "stdout",
     "output_type": "stream",
     "text": [
      "Epoch 29: early stopping\n",
      "Validation MAE : 222.47732543945312\n",
      "Validation MSE : 9.4492826461792\n",
      "Training with parameters: {'batch_size': 32, 'dropout_rate': 0.2, 'hidden_layers': 2, 'hidden_units': 128, 'learning_rate': 0.001}\n"
     ]
    },
    {
     "name": "stderr",
     "output_type": "stream",
     "text": [
      "2024-03-14 21:23:56.346602: I tensorflow/core/grappler/optimizers/custom_graph_optimizer_registry.cc:114] Plugin optimizer for device_type GPU is enabled.\n",
      "2024-03-14 21:23:57.611910: I tensorflow/core/grappler/optimizers/custom_graph_optimizer_registry.cc:114] Plugin optimizer for device_type GPU is enabled.\n",
      "/Library/Frameworks/Python.framework/Versions/3.11/lib/python3.11/site-packages/keras/src/engine/training.py:3000: UserWarning: You are saving your model as an HDF5 file via `model.save()`. This file format is considered legacy. We recommend using instead the native Keras format, e.g. `model.save('my_model.keras')`.\n",
      "  saving_api.save_model(\n"
     ]
    },
    {
     "name": "stdout",
     "output_type": "stream",
     "text": [
      "Epoch 51: early stopping\n",
      "Validation MAE : 108881.296875\n",
      "Validation MSE : 225.25682067871094\n",
      "Training with parameters: {'batch_size': 32, 'dropout_rate': 0.2, 'hidden_layers': 2, 'hidden_units': 128, 'learning_rate': 0.01}\n"
     ]
    },
    {
     "name": "stderr",
     "output_type": "stream",
     "text": [
      "2024-03-14 21:24:12.686757: I tensorflow/core/grappler/optimizers/custom_graph_optimizer_registry.cc:114] Plugin optimizer for device_type GPU is enabled.\n",
      "2024-03-14 21:24:13.882646: I tensorflow/core/grappler/optimizers/custom_graph_optimizer_registry.cc:114] Plugin optimizer for device_type GPU is enabled.\n",
      "/Library/Frameworks/Python.framework/Versions/3.11/lib/python3.11/site-packages/keras/src/engine/training.py:3000: UserWarning: You are saving your model as an HDF5 file via `model.save()`. This file format is considered legacy. We recommend using instead the native Keras format, e.g. `model.save('my_model.keras')`.\n",
      "  saving_api.save_model(\n"
     ]
    },
    {
     "name": "stdout",
     "output_type": "stream",
     "text": [
      "Epoch 34: early stopping\n",
      "Validation MAE : 6627.2451171875\n",
      "Validation MSE : 58.49088668823242\n",
      "Training with parameters: {'batch_size': 32, 'dropout_rate': 0.2, 'hidden_layers': 2, 'hidden_units': 128, 'learning_rate': 0.1}\n"
     ]
    },
    {
     "name": "stderr",
     "output_type": "stream",
     "text": [
      "2024-03-14 21:24:24.155825: I tensorflow/core/grappler/optimizers/custom_graph_optimizer_registry.cc:114] Plugin optimizer for device_type GPU is enabled.\n",
      "2024-03-14 21:24:25.394312: I tensorflow/core/grappler/optimizers/custom_graph_optimizer_registry.cc:114] Plugin optimizer for device_type GPU is enabled.\n",
      "/Library/Frameworks/Python.framework/Versions/3.11/lib/python3.11/site-packages/keras/src/engine/training.py:3000: UserWarning: You are saving your model as an HDF5 file via `model.save()`. This file format is considered legacy. We recommend using instead the native Keras format, e.g. `model.save('my_model.keras')`.\n",
      "  saving_api.save_model(\n"
     ]
    },
    {
     "name": "stdout",
     "output_type": "stream",
     "text": [
      "Epoch 21: early stopping\n",
      "Validation MAE : 73939656.0\n",
      "Validation MSE : 5551.26806640625\n",
      "Training with parameters: {'batch_size': 32, 'dropout_rate': 0.2, 'hidden_layers': 2, 'hidden_units': 64, 'learning_rate': 0.001}\n"
     ]
    },
    {
     "name": "stderr",
     "output_type": "stream",
     "text": [
      "2024-03-14 21:24:32.071954: I tensorflow/core/grappler/optimizers/custom_graph_optimizer_registry.cc:114] Plugin optimizer for device_type GPU is enabled.\n",
      "2024-03-14 21:24:33.581201: I tensorflow/core/grappler/optimizers/custom_graph_optimizer_registry.cc:114] Plugin optimizer for device_type GPU is enabled.\n",
      "/Library/Frameworks/Python.framework/Versions/3.11/lib/python3.11/site-packages/keras/src/engine/training.py:3000: UserWarning: You are saving your model as an HDF5 file via `model.save()`. This file format is considered legacy. We recommend using instead the native Keras format, e.g. `model.save('my_model.keras')`.\n",
      "  saving_api.save_model(\n"
     ]
    },
    {
     "name": "stdout",
     "output_type": "stream",
     "text": [
      "Epoch 72: early stopping\n",
      "Validation MAE : 497431.5625\n",
      "Validation MSE : 429.991455078125\n",
      "Training with parameters: {'batch_size': 32, 'dropout_rate': 0.2, 'hidden_layers': 2, 'hidden_units': 64, 'learning_rate': 0.01}\n"
     ]
    },
    {
     "name": "stderr",
     "output_type": "stream",
     "text": [
      "2024-03-14 21:24:56.110607: I tensorflow/core/grappler/optimizers/custom_graph_optimizer_registry.cc:114] Plugin optimizer for device_type GPU is enabled.\n",
      "2024-03-14 21:24:57.369350: I tensorflow/core/grappler/optimizers/custom_graph_optimizer_registry.cc:114] Plugin optimizer for device_type GPU is enabled.\n",
      "/Library/Frameworks/Python.framework/Versions/3.11/lib/python3.11/site-packages/keras/src/engine/training.py:3000: UserWarning: You are saving your model as an HDF5 file via `model.save()`. This file format is considered legacy. We recommend using instead the native Keras format, e.g. `model.save('my_model.keras')`.\n",
      "  saving_api.save_model(\n"
     ]
    },
    {
     "name": "stdout",
     "output_type": "stream",
     "text": [
      "Epoch 43: early stopping\n",
      "Validation MAE : 20271.728515625\n",
      "Validation MSE : 95.61744689941406\n",
      "Training with parameters: {'batch_size': 32, 'dropout_rate': 0.2, 'hidden_layers': 2, 'hidden_units': 64, 'learning_rate': 0.1}\n"
     ]
    },
    {
     "name": "stderr",
     "output_type": "stream",
     "text": [
      "2024-03-14 21:25:10.641272: I tensorflow/core/grappler/optimizers/custom_graph_optimizer_registry.cc:114] Plugin optimizer for device_type GPU is enabled.\n",
      "2024-03-14 21:25:11.981487: I tensorflow/core/grappler/optimizers/custom_graph_optimizer_registry.cc:114] Plugin optimizer for device_type GPU is enabled.\n",
      "/Library/Frameworks/Python.framework/Versions/3.11/lib/python3.11/site-packages/keras/src/engine/training.py:3000: UserWarning: You are saving your model as an HDF5 file via `model.save()`. This file format is considered legacy. We recommend using instead the native Keras format, e.g. `model.save('my_model.keras')`.\n",
      "  saving_api.save_model(\n"
     ]
    },
    {
     "name": "stdout",
     "output_type": "stream",
     "text": [
      "Epoch 22: early stopping\n",
      "Validation MAE : 2628540.75\n",
      "Validation MSE : 1120.2449951171875\n",
      "Training with parameters: {'batch_size': 32, 'dropout_rate': 0.2, 'hidden_layers': 2, 'hidden_units': 32, 'learning_rate': 0.001}\n"
     ]
    },
    {
     "name": "stderr",
     "output_type": "stream",
     "text": [
      "2024-03-14 21:25:19.106954: I tensorflow/core/grappler/optimizers/custom_graph_optimizer_registry.cc:114] Plugin optimizer for device_type GPU is enabled.\n",
      "2024-03-14 21:25:20.347997: I tensorflow/core/grappler/optimizers/custom_graph_optimizer_registry.cc:114] Plugin optimizer for device_type GPU is enabled.\n",
      "/Library/Frameworks/Python.framework/Versions/3.11/lib/python3.11/site-packages/keras/src/engine/training.py:3000: UserWarning: You are saving your model as an HDF5 file via `model.save()`. This file format is considered legacy. We recommend using instead the native Keras format, e.g. `model.save('my_model.keras')`.\n",
      "  saving_api.save_model(\n"
     ]
    },
    {
     "name": "stdout",
     "output_type": "stream",
     "text": [
      "Epoch 97: early stopping\n",
      "Validation MAE : 5480.23779296875\n",
      "Validation MSE : 32.956478118896484\n",
      "Training with parameters: {'batch_size': 32, 'dropout_rate': 0.2, 'hidden_layers': 2, 'hidden_units': 32, 'learning_rate': 0.01}\n"
     ]
    },
    {
     "name": "stderr",
     "output_type": "stream",
     "text": [
      "2024-03-14 21:25:48.216718: I tensorflow/core/grappler/optimizers/custom_graph_optimizer_registry.cc:114] Plugin optimizer for device_type GPU is enabled.\n",
      "2024-03-14 21:25:49.521238: I tensorflow/core/grappler/optimizers/custom_graph_optimizer_registry.cc:114] Plugin optimizer for device_type GPU is enabled.\n",
      "/Library/Frameworks/Python.framework/Versions/3.11/lib/python3.11/site-packages/keras/src/engine/training.py:3000: UserWarning: You are saving your model as an HDF5 file via `model.save()`. This file format is considered legacy. We recommend using instead the native Keras format, e.g. `model.save('my_model.keras')`.\n",
      "  saving_api.save_model(\n"
     ]
    },
    {
     "name": "stdout",
     "output_type": "stream",
     "text": [
      "Epoch 33: early stopping\n",
      "Validation MAE : 26679.1171875\n",
      "Validation MSE : 102.75628662109375\n",
      "Training with parameters: {'batch_size': 32, 'dropout_rate': 0.2, 'hidden_layers': 2, 'hidden_units': 32, 'learning_rate': 0.1}\n"
     ]
    },
    {
     "name": "stderr",
     "output_type": "stream",
     "text": [
      "2024-03-14 21:25:59.446328: I tensorflow/core/grappler/optimizers/custom_graph_optimizer_registry.cc:114] Plugin optimizer for device_type GPU is enabled.\n",
      "2024-03-14 21:26:00.806329: I tensorflow/core/grappler/optimizers/custom_graph_optimizer_registry.cc:114] Plugin optimizer for device_type GPU is enabled.\n",
      "/Library/Frameworks/Python.framework/Versions/3.11/lib/python3.11/site-packages/keras/src/engine/training.py:3000: UserWarning: You are saving your model as an HDF5 file via `model.save()`. This file format is considered legacy. We recommend using instead the native Keras format, e.g. `model.save('my_model.keras')`.\n",
      "  saving_api.save_model(\n"
     ]
    },
    {
     "name": "stdout",
     "output_type": "stream",
     "text": [
      "Epoch 46: early stopping\n",
      "Validation MAE : 36524.31640625\n",
      "Validation MSE : 115.9997329711914\n",
      "Training with parameters: {'batch_size': 32, 'dropout_rate': 0.2, 'hidden_layers': 3, 'hidden_units': 128, 'learning_rate': 0.001}\n"
     ]
    },
    {
     "name": "stderr",
     "output_type": "stream",
     "text": [
      "2024-03-14 21:26:14.626592: I tensorflow/core/grappler/optimizers/custom_graph_optimizer_registry.cc:114] Plugin optimizer for device_type GPU is enabled.\n",
      "2024-03-14 21:26:16.067312: I tensorflow/core/grappler/optimizers/custom_graph_optimizer_registry.cc:114] Plugin optimizer for device_type GPU is enabled.\n",
      "/Library/Frameworks/Python.framework/Versions/3.11/lib/python3.11/site-packages/keras/src/engine/training.py:3000: UserWarning: You are saving your model as an HDF5 file via `model.save()`. This file format is considered legacy. We recommend using instead the native Keras format, e.g. `model.save('my_model.keras')`.\n",
      "  saving_api.save_model(\n"
     ]
    },
    {
     "name": "stdout",
     "output_type": "stream",
     "text": [
      "Epoch 22: early stopping\n",
      "Validation MAE : 14626669.0\n",
      "Validation MSE : 2683.17919921875\n",
      "Training with parameters: {'batch_size': 32, 'dropout_rate': 0.2, 'hidden_layers': 3, 'hidden_units': 128, 'learning_rate': 0.01}\n"
     ]
    },
    {
     "name": "stderr",
     "output_type": "stream",
     "text": [
      "2024-03-14 21:26:24.078095: I tensorflow/core/grappler/optimizers/custom_graph_optimizer_registry.cc:114] Plugin optimizer for device_type GPU is enabled.\n",
      "2024-03-14 21:26:25.902975: I tensorflow/core/grappler/optimizers/custom_graph_optimizer_registry.cc:114] Plugin optimizer for device_type GPU is enabled.\n",
      "/Library/Frameworks/Python.framework/Versions/3.11/lib/python3.11/site-packages/keras/src/engine/training.py:3000: UserWarning: You are saving your model as an HDF5 file via `model.save()`. This file format is considered legacy. We recommend using instead the native Keras format, e.g. `model.save('my_model.keras')`.\n",
      "  saving_api.save_model(\n"
     ]
    },
    {
     "name": "stdout",
     "output_type": "stream",
     "text": [
      "Epoch 28: early stopping\n",
      "Validation MAE : 174366.8125\n",
      "Validation MSE : 290.4527282714844\n",
      "Training with parameters: {'batch_size': 32, 'dropout_rate': 0.2, 'hidden_layers': 3, 'hidden_units': 128, 'learning_rate': 0.1}\n"
     ]
    },
    {
     "name": "stderr",
     "output_type": "stream",
     "text": [
      "2024-03-14 21:26:35.752170: I tensorflow/core/grappler/optimizers/custom_graph_optimizer_registry.cc:114] Plugin optimizer for device_type GPU is enabled.\n",
      "2024-03-14 21:26:37.541859: I tensorflow/core/grappler/optimizers/custom_graph_optimizer_registry.cc:114] Plugin optimizer for device_type GPU is enabled.\n",
      "/Library/Frameworks/Python.framework/Versions/3.11/lib/python3.11/site-packages/keras/src/engine/training.py:3000: UserWarning: You are saving your model as an HDF5 file via `model.save()`. This file format is considered legacy. We recommend using instead the native Keras format, e.g. `model.save('my_model.keras')`.\n",
      "  saving_api.save_model(\n"
     ]
    },
    {
     "name": "stdout",
     "output_type": "stream",
     "text": [
      "Epoch 21: early stopping\n",
      "Validation MAE : 40276586496.0\n",
      "Validation MSE : 140211.140625\n",
      "Training with parameters: {'batch_size': 32, 'dropout_rate': 0.2, 'hidden_layers': 3, 'hidden_units': 64, 'learning_rate': 0.001}\n"
     ]
    },
    {
     "name": "stderr",
     "output_type": "stream",
     "text": [
      "2024-03-14 21:26:45.264244: I tensorflow/core/grappler/optimizers/custom_graph_optimizer_registry.cc:114] Plugin optimizer for device_type GPU is enabled.\n",
      "2024-03-14 21:26:47.108366: I tensorflow/core/grappler/optimizers/custom_graph_optimizer_registry.cc:114] Plugin optimizer for device_type GPU is enabled.\n",
      "/Library/Frameworks/Python.framework/Versions/3.11/lib/python3.11/site-packages/keras/src/engine/training.py:3000: UserWarning: You are saving your model as an HDF5 file via `model.save()`. This file format is considered legacy. We recommend using instead the native Keras format, e.g. `model.save('my_model.keras')`.\n",
      "  saving_api.save_model(\n"
     ]
    },
    {
     "name": "stdout",
     "output_type": "stream",
     "text": [
      "Epoch 24: early stopping\n",
      "Validation MAE : 5135253.5\n",
      "Validation MSE : 1566.393798828125\n",
      "Training with parameters: {'batch_size': 32, 'dropout_rate': 0.2, 'hidden_layers': 3, 'hidden_units': 64, 'learning_rate': 0.01}\n"
     ]
    },
    {
     "name": "stderr",
     "output_type": "stream",
     "text": [
      "2024-03-14 21:26:55.813341: I tensorflow/core/grappler/optimizers/custom_graph_optimizer_registry.cc:114] Plugin optimizer for device_type GPU is enabled.\n",
      "2024-03-14 21:26:57.531523: I tensorflow/core/grappler/optimizers/custom_graph_optimizer_registry.cc:114] Plugin optimizer for device_type GPU is enabled.\n",
      "/Library/Frameworks/Python.framework/Versions/3.11/lib/python3.11/site-packages/keras/src/engine/training.py:3000: UserWarning: You are saving your model as an HDF5 file via `model.save()`. This file format is considered legacy. We recommend using instead the native Keras format, e.g. `model.save('my_model.keras')`.\n",
      "  saving_api.save_model(\n"
     ]
    },
    {
     "name": "stdout",
     "output_type": "stream",
     "text": [
      "Epoch 21: early stopping\n",
      "Validation MAE : 732974.125\n",
      "Validation MSE : 610.3388061523438\n",
      "Training with parameters: {'batch_size': 32, 'dropout_rate': 0.2, 'hidden_layers': 3, 'hidden_units': 64, 'learning_rate': 0.1}\n"
     ]
    },
    {
     "name": "stderr",
     "output_type": "stream",
     "text": [
      "2024-03-14 21:27:05.223493: I tensorflow/core/grappler/optimizers/custom_graph_optimizer_registry.cc:114] Plugin optimizer for device_type GPU is enabled.\n",
      "2024-03-14 21:27:06.932112: I tensorflow/core/grappler/optimizers/custom_graph_optimizer_registry.cc:114] Plugin optimizer for device_type GPU is enabled.\n",
      "/Library/Frameworks/Python.framework/Versions/3.11/lib/python3.11/site-packages/keras/src/engine/training.py:3000: UserWarning: You are saving your model as an HDF5 file via `model.save()`. This file format is considered legacy. We recommend using instead the native Keras format, e.g. `model.save('my_model.keras')`.\n",
      "  saving_api.save_model(\n"
     ]
    },
    {
     "name": "stdout",
     "output_type": "stream",
     "text": [
      "Epoch 21: early stopping\n",
      "Validation MAE : 3622846720.0\n",
      "Validation MSE : 49391.14453125\n",
      "Training with parameters: {'batch_size': 32, 'dropout_rate': 0.2, 'hidden_layers': 3, 'hidden_units': 32, 'learning_rate': 0.001}\n"
     ]
    },
    {
     "name": "stderr",
     "output_type": "stream",
     "text": [
      "2024-03-14 21:27:14.810391: I tensorflow/core/grappler/optimizers/custom_graph_optimizer_registry.cc:114] Plugin optimizer for device_type GPU is enabled.\n",
      "2024-03-14 21:27:16.625919: I tensorflow/core/grappler/optimizers/custom_graph_optimizer_registry.cc:114] Plugin optimizer for device_type GPU is enabled.\n",
      "/Library/Frameworks/Python.framework/Versions/3.11/lib/python3.11/site-packages/keras/src/engine/training.py:3000: UserWarning: You are saving your model as an HDF5 file via `model.save()`. This file format is considered legacy. We recommend using instead the native Keras format, e.g. `model.save('my_model.keras')`.\n",
      "  saving_api.save_model(\n"
     ]
    },
    {
     "name": "stdout",
     "output_type": "stream",
     "text": [
      "Epoch 26: early stopping\n",
      "Validation MAE : 54678.515625\n",
      "Validation MSE : 141.8944091796875\n",
      "Training with parameters: {'batch_size': 32, 'dropout_rate': 0.2, 'hidden_layers': 3, 'hidden_units': 32, 'learning_rate': 0.01}\n"
     ]
    },
    {
     "name": "stderr",
     "output_type": "stream",
     "text": [
      "2024-03-14 21:27:25.879820: I tensorflow/core/grappler/optimizers/custom_graph_optimizer_registry.cc:114] Plugin optimizer for device_type GPU is enabled.\n",
      "2024-03-14 21:27:27.859028: I tensorflow/core/grappler/optimizers/custom_graph_optimizer_registry.cc:114] Plugin optimizer for device_type GPU is enabled.\n",
      "/Library/Frameworks/Python.framework/Versions/3.11/lib/python3.11/site-packages/keras/src/engine/training.py:3000: UserWarning: You are saving your model as an HDF5 file via `model.save()`. This file format is considered legacy. We recommend using instead the native Keras format, e.g. `model.save('my_model.keras')`.\n",
      "  saving_api.save_model(\n"
     ]
    },
    {
     "name": "stdout",
     "output_type": "stream",
     "text": [
      "Epoch 39: early stopping\n",
      "Validation MAE : 547336.4375\n",
      "Validation MSE : 438.2572021484375\n",
      "Training with parameters: {'batch_size': 32, 'dropout_rate': 0.2, 'hidden_layers': 3, 'hidden_units': 32, 'learning_rate': 0.1}\n"
     ]
    },
    {
     "name": "stderr",
     "output_type": "stream",
     "text": [
      "2024-03-14 21:27:41.596250: I tensorflow/core/grappler/optimizers/custom_graph_optimizer_registry.cc:114] Plugin optimizer for device_type GPU is enabled.\n",
      "2024-03-14 21:27:43.396575: I tensorflow/core/grappler/optimizers/custom_graph_optimizer_registry.cc:114] Plugin optimizer for device_type GPU is enabled.\n",
      "/Library/Frameworks/Python.framework/Versions/3.11/lib/python3.11/site-packages/keras/src/engine/training.py:3000: UserWarning: You are saving your model as an HDF5 file via `model.save()`. This file format is considered legacy. We recommend using instead the native Keras format, e.g. `model.save('my_model.keras')`.\n",
      "  saving_api.save_model(\n"
     ]
    },
    {
     "name": "stdout",
     "output_type": "stream",
     "text": [
      "Epoch 30: early stopping\n",
      "Validation MAE : 5115020.0\n",
      "Validation MSE : 1501.1517333984375\n",
      "Training with parameters: {'batch_size': 32, 'dropout_rate': 0.3, 'hidden_layers': 1, 'hidden_units': 128, 'learning_rate': 0.001}\n"
     ]
    },
    {
     "name": "stderr",
     "output_type": "stream",
     "text": [
      "2024-03-14 21:27:53.973725: I tensorflow/core/grappler/optimizers/custom_graph_optimizer_registry.cc:114] Plugin optimizer for device_type GPU is enabled.\n",
      "2024-03-14 21:27:55.343700: I tensorflow/core/grappler/optimizers/custom_graph_optimizer_registry.cc:114] Plugin optimizer for device_type GPU is enabled.\n",
      "/Library/Frameworks/Python.framework/Versions/3.11/lib/python3.11/site-packages/keras/src/engine/training.py:3000: UserWarning: You are saving your model as an HDF5 file via `model.save()`. This file format is considered legacy. We recommend using instead the native Keras format, e.g. `model.save('my_model.keras')`.\n",
      "  saving_api.save_model(\n"
     ]
    },
    {
     "name": "stdout",
     "output_type": "stream",
     "text": [
      "Epoch 203: early stopping\n",
      "Validation MAE : 27616.830078125\n",
      "Validation MSE : 82.61972045898438\n",
      "Training with parameters: {'batch_size': 32, 'dropout_rate': 0.3, 'hidden_layers': 1, 'hidden_units': 128, 'learning_rate': 0.01}\n"
     ]
    },
    {
     "name": "stderr",
     "output_type": "stream",
     "text": [
      "2024-03-14 21:28:46.991489: I tensorflow/core/grappler/optimizers/custom_graph_optimizer_registry.cc:114] Plugin optimizer for device_type GPU is enabled.\n",
      "2024-03-14 21:28:49.992116: I tensorflow/core/grappler/optimizers/custom_graph_optimizer_registry.cc:114] Plugin optimizer for device_type GPU is enabled.\n",
      "/Library/Frameworks/Python.framework/Versions/3.11/lib/python3.11/site-packages/keras/src/engine/training.py:3000: UserWarning: You are saving your model as an HDF5 file via `model.save()`. This file format is considered legacy. We recommend using instead the native Keras format, e.g. `model.save('my_model.keras')`.\n",
      "  saving_api.save_model(\n"
     ]
    },
    {
     "name": "stdout",
     "output_type": "stream",
     "text": [
      "Epoch 34: early stopping\n",
      "Validation MAE : 710.5170288085938\n",
      "Validation MSE : 18.495067596435547\n",
      "Training with parameters: {'batch_size': 32, 'dropout_rate': 0.3, 'hidden_layers': 1, 'hidden_units': 128, 'learning_rate': 0.1}\n"
     ]
    },
    {
     "name": "stderr",
     "output_type": "stream",
     "text": [
      "2024-03-14 21:28:59.581546: I tensorflow/core/grappler/optimizers/custom_graph_optimizer_registry.cc:114] Plugin optimizer for device_type GPU is enabled.\n",
      "2024-03-14 21:29:00.919904: I tensorflow/core/grappler/optimizers/custom_graph_optimizer_registry.cc:114] Plugin optimizer for device_type GPU is enabled.\n",
      "/Library/Frameworks/Python.framework/Versions/3.11/lib/python3.11/site-packages/keras/src/engine/training.py:3000: UserWarning: You are saving your model as an HDF5 file via `model.save()`. This file format is considered legacy. We recommend using instead the native Keras format, e.g. `model.save('my_model.keras')`.\n",
      "  saving_api.save_model(\n"
     ]
    },
    {
     "name": "stdout",
     "output_type": "stream",
     "text": [
      "Epoch 27: early stopping\n",
      "Validation MAE : 2189.10986328125\n",
      "Validation MSE : 39.91972351074219\n",
      "Training with parameters: {'batch_size': 32, 'dropout_rate': 0.3, 'hidden_layers': 1, 'hidden_units': 64, 'learning_rate': 0.001}\n"
     ]
    },
    {
     "name": "stderr",
     "output_type": "stream",
     "text": [
      "2024-03-14 21:29:08.650255: I tensorflow/core/grappler/optimizers/custom_graph_optimizer_registry.cc:114] Plugin optimizer for device_type GPU is enabled.\n",
      "2024-03-14 21:29:10.157972: I tensorflow/core/grappler/optimizers/custom_graph_optimizer_registry.cc:114] Plugin optimizer for device_type GPU is enabled.\n",
      "/Library/Frameworks/Python.framework/Versions/3.11/lib/python3.11/site-packages/keras/src/engine/training.py:3000: UserWarning: You are saving your model as an HDF5 file via `model.save()`. This file format is considered legacy. We recommend using instead the native Keras format, e.g. `model.save('my_model.keras')`.\n",
      "  saving_api.save_model(\n"
     ]
    },
    {
     "name": "stdout",
     "output_type": "stream",
     "text": [
      "Epoch 296: early stopping\n",
      "Validation MAE : 118.84679412841797\n",
      "Validation MSE : 6.017107963562012\n",
      "Training with parameters: {'batch_size': 32, 'dropout_rate': 0.3, 'hidden_layers': 1, 'hidden_units': 64, 'learning_rate': 0.01}\n"
     ]
    },
    {
     "name": "stderr",
     "output_type": "stream",
     "text": [
      "2024-03-14 21:30:32.743435: I tensorflow/core/grappler/optimizers/custom_graph_optimizer_registry.cc:114] Plugin optimizer for device_type GPU is enabled.\n",
      "2024-03-14 21:30:34.151833: I tensorflow/core/grappler/optimizers/custom_graph_optimizer_registry.cc:114] Plugin optimizer for device_type GPU is enabled.\n",
      "/Library/Frameworks/Python.framework/Versions/3.11/lib/python3.11/site-packages/keras/src/engine/training.py:3000: UserWarning: You are saving your model as an HDF5 file via `model.save()`. This file format is considered legacy. We recommend using instead the native Keras format, e.g. `model.save('my_model.keras')`.\n",
      "  saving_api.save_model(\n"
     ]
    },
    {
     "name": "stdout",
     "output_type": "stream",
     "text": [
      "Epoch 90: early stopping\n",
      "Validation MAE : 849.2053833007812\n",
      "Validation MSE : 18.48120880126953\n",
      "Training with parameters: {'batch_size': 32, 'dropout_rate': 0.3, 'hidden_layers': 1, 'hidden_units': 64, 'learning_rate': 0.1}\n"
     ]
    },
    {
     "name": "stderr",
     "output_type": "stream",
     "text": [
      "2024-03-14 21:31:00.464956: I tensorflow/core/grappler/optimizers/custom_graph_optimizer_registry.cc:114] Plugin optimizer for device_type GPU is enabled.\n",
      "2024-03-14 21:31:01.722966: I tensorflow/core/grappler/optimizers/custom_graph_optimizer_registry.cc:114] Plugin optimizer for device_type GPU is enabled.\n",
      "/Library/Frameworks/Python.framework/Versions/3.11/lib/python3.11/site-packages/keras/src/engine/training.py:3000: UserWarning: You are saving your model as an HDF5 file via `model.save()`. This file format is considered legacy. We recommend using instead the native Keras format, e.g. `model.save('my_model.keras')`.\n",
      "  saving_api.save_model(\n"
     ]
    },
    {
     "name": "stdout",
     "output_type": "stream",
     "text": [
      "Epoch 28: early stopping\n",
      "Validation MAE : 1097.65234375\n",
      "Validation MSE : 23.201026916503906\n",
      "Training with parameters: {'batch_size': 32, 'dropout_rate': 0.3, 'hidden_layers': 1, 'hidden_units': 32, 'learning_rate': 0.001}\n"
     ]
    },
    {
     "name": "stderr",
     "output_type": "stream",
     "text": [
      "2024-03-14 21:31:10.555069: I tensorflow/core/grappler/optimizers/custom_graph_optimizer_registry.cc:114] Plugin optimizer for device_type GPU is enabled.\n",
      "2024-03-14 21:31:12.102712: I tensorflow/core/grappler/optimizers/custom_graph_optimizer_registry.cc:114] Plugin optimizer for device_type GPU is enabled.\n",
      "/Library/Frameworks/Python.framework/Versions/3.11/lib/python3.11/site-packages/keras/src/engine/training.py:3000: UserWarning: You are saving your model as an HDF5 file via `model.save()`. This file format is considered legacy. We recommend using instead the native Keras format, e.g. `model.save('my_model.keras')`.\n",
      "  saving_api.save_model(\n"
     ]
    },
    {
     "name": "stdout",
     "output_type": "stream",
     "text": [
      "Epoch 274: early stopping\n",
      "Validation MAE : 615.4740600585938\n",
      "Validation MSE : 13.091577529907227\n",
      "Training with parameters: {'batch_size': 32, 'dropout_rate': 0.3, 'hidden_layers': 1, 'hidden_units': 32, 'learning_rate': 0.01}\n"
     ]
    },
    {
     "name": "stderr",
     "output_type": "stream",
     "text": [
      "2024-03-14 21:32:35.824695: I tensorflow/core/grappler/optimizers/custom_graph_optimizer_registry.cc:114] Plugin optimizer for device_type GPU is enabled.\n",
      "2024-03-14 21:32:37.354628: I tensorflow/core/grappler/optimizers/custom_graph_optimizer_registry.cc:114] Plugin optimizer for device_type GPU is enabled.\n",
      "/Library/Frameworks/Python.framework/Versions/3.11/lib/python3.11/site-packages/keras/src/engine/training.py:3000: UserWarning: You are saving your model as an HDF5 file via `model.save()`. This file format is considered legacy. We recommend using instead the native Keras format, e.g. `model.save('my_model.keras')`.\n",
      "  saving_api.save_model(\n"
     ]
    },
    {
     "name": "stdout",
     "output_type": "stream",
     "text": [
      "Epoch 42: early stopping\n",
      "Validation MAE : 741.4484252929688\n",
      "Validation MSE : 17.804424285888672\n",
      "Training with parameters: {'batch_size': 32, 'dropout_rate': 0.3, 'hidden_layers': 1, 'hidden_units': 32, 'learning_rate': 0.1}\n"
     ]
    },
    {
     "name": "stderr",
     "output_type": "stream",
     "text": [
      "2024-03-14 21:32:50.856753: I tensorflow/core/grappler/optimizers/custom_graph_optimizer_registry.cc:114] Plugin optimizer for device_type GPU is enabled.\n",
      "2024-03-14 21:32:52.288601: I tensorflow/core/grappler/optimizers/custom_graph_optimizer_registry.cc:114] Plugin optimizer for device_type GPU is enabled.\n",
      "/Library/Frameworks/Python.framework/Versions/3.11/lib/python3.11/site-packages/keras/src/engine/training.py:3000: UserWarning: You are saving your model as an HDF5 file via `model.save()`. This file format is considered legacy. We recommend using instead the native Keras format, e.g. `model.save('my_model.keras')`.\n",
      "  saving_api.save_model(\n"
     ]
    },
    {
     "name": "stdout",
     "output_type": "stream",
     "text": [
      "Epoch 34: early stopping\n",
      "Validation MAE : 800.6387939453125\n",
      "Validation MSE : 15.68887996673584\n",
      "Training with parameters: {'batch_size': 32, 'dropout_rate': 0.3, 'hidden_layers': 2, 'hidden_units': 128, 'learning_rate': 0.001}\n"
     ]
    },
    {
     "name": "stderr",
     "output_type": "stream",
     "text": [
      "2024-03-14 21:33:03.491730: I tensorflow/core/grappler/optimizers/custom_graph_optimizer_registry.cc:114] Plugin optimizer for device_type GPU is enabled.\n",
      "2024-03-14 21:33:05.108959: I tensorflow/core/grappler/optimizers/custom_graph_optimizer_registry.cc:114] Plugin optimizer for device_type GPU is enabled.\n",
      "/Library/Frameworks/Python.framework/Versions/3.11/lib/python3.11/site-packages/keras/src/engine/training.py:3000: UserWarning: You are saving your model as an HDF5 file via `model.save()`. This file format is considered legacy. We recommend using instead the native Keras format, e.g. `model.save('my_model.keras')`.\n",
      "  saving_api.save_model(\n"
     ]
    },
    {
     "name": "stdout",
     "output_type": "stream",
     "text": [
      "Epoch 52: early stopping\n",
      "Validation MAE : 130566.6484375\n",
      "Validation MSE : 261.43743896484375\n",
      "Training with parameters: {'batch_size': 32, 'dropout_rate': 0.3, 'hidden_layers': 2, 'hidden_units': 128, 'learning_rate': 0.01}\n"
     ]
    },
    {
     "name": "stderr",
     "output_type": "stream",
     "text": [
      "2024-03-14 21:33:22.515307: I tensorflow/core/grappler/optimizers/custom_graph_optimizer_registry.cc:114] Plugin optimizer for device_type GPU is enabled.\n",
      "2024-03-14 21:33:24.408237: I tensorflow/core/grappler/optimizers/custom_graph_optimizer_registry.cc:114] Plugin optimizer for device_type GPU is enabled.\n",
      "/Library/Frameworks/Python.framework/Versions/3.11/lib/python3.11/site-packages/keras/src/engine/training.py:3000: UserWarning: You are saving your model as an HDF5 file via `model.save()`. This file format is considered legacy. We recommend using instead the native Keras format, e.g. `model.save('my_model.keras')`.\n",
      "  saving_api.save_model(\n"
     ]
    },
    {
     "name": "stdout",
     "output_type": "stream",
     "text": [
      "Epoch 45: early stopping\n",
      "Validation MAE : 5709.49462890625\n",
      "Validation MSE : 59.219825744628906\n",
      "Training with parameters: {'batch_size': 32, 'dropout_rate': 0.3, 'hidden_layers': 2, 'hidden_units': 128, 'learning_rate': 0.1}\n"
     ]
    },
    {
     "name": "stderr",
     "output_type": "stream",
     "text": [
      "2024-03-14 21:33:39.698811: I tensorflow/core/grappler/optimizers/custom_graph_optimizer_registry.cc:114] Plugin optimizer for device_type GPU is enabled.\n",
      "2024-03-14 21:33:41.274633: I tensorflow/core/grappler/optimizers/custom_graph_optimizer_registry.cc:114] Plugin optimizer for device_type GPU is enabled.\n",
      "/Library/Frameworks/Python.framework/Versions/3.11/lib/python3.11/site-packages/keras/src/engine/training.py:3000: UserWarning: You are saving your model as an HDF5 file via `model.save()`. This file format is considered legacy. We recommend using instead the native Keras format, e.g. `model.save('my_model.keras')`.\n",
      "  saving_api.save_model(\n"
     ]
    },
    {
     "name": "stdout",
     "output_type": "stream",
     "text": [
      "Epoch 21: early stopping\n",
      "Validation MAE : 121299280.0\n",
      "Validation MSE : 9328.48046875\n",
      "Training with parameters: {'batch_size': 32, 'dropout_rate': 0.3, 'hidden_layers': 2, 'hidden_units': 64, 'learning_rate': 0.001}\n"
     ]
    },
    {
     "name": "stderr",
     "output_type": "stream",
     "text": [
      "2024-03-14 21:33:49.082344: I tensorflow/core/grappler/optimizers/custom_graph_optimizer_registry.cc:114] Plugin optimizer for device_type GPU is enabled.\n",
      "2024-03-14 21:33:51.023494: I tensorflow/core/grappler/optimizers/custom_graph_optimizer_registry.cc:114] Plugin optimizer for device_type GPU is enabled.\n",
      "/Library/Frameworks/Python.framework/Versions/3.11/lib/python3.11/site-packages/keras/src/engine/training.py:3000: UserWarning: You are saving your model as an HDF5 file via `model.save()`. This file format is considered legacy. We recommend using instead the native Keras format, e.g. `model.save('my_model.keras')`.\n",
      "  saving_api.save_model(\n"
     ]
    },
    {
     "name": "stdout",
     "output_type": "stream",
     "text": [
      "Epoch 65: early stopping\n",
      "Validation MAE : 137098.921875\n",
      "Validation MSE : 244.92257690429688\n",
      "Training with parameters: {'batch_size': 32, 'dropout_rate': 0.3, 'hidden_layers': 2, 'hidden_units': 64, 'learning_rate': 0.01}\n"
     ]
    },
    {
     "name": "stderr",
     "output_type": "stream",
     "text": [
      "2024-03-14 21:34:12.582191: I tensorflow/core/grappler/optimizers/custom_graph_optimizer_registry.cc:114] Plugin optimizer for device_type GPU is enabled.\n",
      "2024-03-14 21:34:14.459346: I tensorflow/core/grappler/optimizers/custom_graph_optimizer_registry.cc:114] Plugin optimizer for device_type GPU is enabled.\n",
      "/Library/Frameworks/Python.framework/Versions/3.11/lib/python3.11/site-packages/keras/src/engine/training.py:3000: UserWarning: You are saving your model as an HDF5 file via `model.save()`. This file format is considered legacy. We recommend using instead the native Keras format, e.g. `model.save('my_model.keras')`.\n",
      "  saving_api.save_model(\n"
     ]
    },
    {
     "name": "stdout",
     "output_type": "stream",
     "text": [
      "Epoch 28: early stopping\n",
      "Validation MAE : 49215.55078125\n",
      "Validation MSE : 136.06948852539062\n",
      "Training with parameters: {'batch_size': 32, 'dropout_rate': 0.3, 'hidden_layers': 2, 'hidden_units': 64, 'learning_rate': 0.1}\n"
     ]
    },
    {
     "name": "stderr",
     "output_type": "stream",
     "text": [
      "2024-03-14 21:34:24.585829: I tensorflow/core/grappler/optimizers/custom_graph_optimizer_registry.cc:114] Plugin optimizer for device_type GPU is enabled.\n",
      "2024-03-14 21:34:26.391631: I tensorflow/core/grappler/optimizers/custom_graph_optimizer_registry.cc:114] Plugin optimizer for device_type GPU is enabled.\n",
      "/Library/Frameworks/Python.framework/Versions/3.11/lib/python3.11/site-packages/keras/src/engine/training.py:3000: UserWarning: You are saving your model as an HDF5 file via `model.save()`. This file format is considered legacy. We recommend using instead the native Keras format, e.g. `model.save('my_model.keras')`.\n",
      "  saving_api.save_model(\n"
     ]
    },
    {
     "name": "stdout",
     "output_type": "stream",
     "text": [
      "Epoch 29: early stopping\n",
      "Validation MAE : 4073693.25\n",
      "Validation MSE : 1593.3414306640625\n",
      "Training with parameters: {'batch_size': 32, 'dropout_rate': 0.3, 'hidden_layers': 2, 'hidden_units': 32, 'learning_rate': 0.001}\n"
     ]
    },
    {
     "name": "stderr",
     "output_type": "stream",
     "text": [
      "2024-03-14 21:34:36.665803: I tensorflow/core/grappler/optimizers/custom_graph_optimizer_registry.cc:114] Plugin optimizer for device_type GPU is enabled.\n",
      "2024-03-14 21:34:38.584844: I tensorflow/core/grappler/optimizers/custom_graph_optimizer_registry.cc:114] Plugin optimizer for device_type GPU is enabled.\n",
      "/Library/Frameworks/Python.framework/Versions/3.11/lib/python3.11/site-packages/keras/src/engine/training.py:3000: UserWarning: You are saving your model as an HDF5 file via `model.save()`. This file format is considered legacy. We recommend using instead the native Keras format, e.g. `model.save('my_model.keras')`.\n",
      "  saving_api.save_model(\n"
     ]
    },
    {
     "name": "stdout",
     "output_type": "stream",
     "text": [
      "Epoch 128: early stopping\n",
      "Validation MAE : 1170.3272705078125\n",
      "Validation MSE : 18.22939109802246\n",
      "Training with parameters: {'batch_size': 32, 'dropout_rate': 0.3, 'hidden_layers': 2, 'hidden_units': 32, 'learning_rate': 0.01}\n"
     ]
    },
    {
     "name": "stderr",
     "output_type": "stream",
     "text": [
      "2024-03-14 21:35:20.066613: I tensorflow/core/grappler/optimizers/custom_graph_optimizer_registry.cc:114] Plugin optimizer for device_type GPU is enabled.\n",
      "2024-03-14 21:35:21.930270: I tensorflow/core/grappler/optimizers/custom_graph_optimizer_registry.cc:114] Plugin optimizer for device_type GPU is enabled.\n",
      "/Library/Frameworks/Python.framework/Versions/3.11/lib/python3.11/site-packages/keras/src/engine/training.py:3000: UserWarning: You are saving your model as an HDF5 file via `model.save()`. This file format is considered legacy. We recommend using instead the native Keras format, e.g. `model.save('my_model.keras')`.\n",
      "  saving_api.save_model(\n"
     ]
    },
    {
     "name": "stdout",
     "output_type": "stream",
     "text": [
      "Epoch 33: early stopping\n",
      "Validation MAE : 7298.61572265625\n",
      "Validation MSE : 44.963226318359375\n",
      "Training with parameters: {'batch_size': 32, 'dropout_rate': 0.3, 'hidden_layers': 2, 'hidden_units': 32, 'learning_rate': 0.1}\n"
     ]
    },
    {
     "name": "stderr",
     "output_type": "stream",
     "text": [
      "2024-03-14 21:35:33.530581: I tensorflow/core/grappler/optimizers/custom_graph_optimizer_registry.cc:114] Plugin optimizer for device_type GPU is enabled.\n",
      "2024-03-14 21:35:35.460156: I tensorflow/core/grappler/optimizers/custom_graph_optimizer_registry.cc:114] Plugin optimizer for device_type GPU is enabled.\n",
      "/Library/Frameworks/Python.framework/Versions/3.11/lib/python3.11/site-packages/keras/src/engine/training.py:3000: UserWarning: You are saving your model as an HDF5 file via `model.save()`. This file format is considered legacy. We recommend using instead the native Keras format, e.g. `model.save('my_model.keras')`.\n",
      "  saving_api.save_model(\n"
     ]
    },
    {
     "name": "stdout",
     "output_type": "stream",
     "text": [
      "Epoch 27: early stopping\n",
      "Validation MAE : 9470801.0\n",
      "Validation MSE : 2525.420166015625\n",
      "Training with parameters: {'batch_size': 32, 'dropout_rate': 0.3, 'hidden_layers': 3, 'hidden_units': 128, 'learning_rate': 0.001}\n"
     ]
    },
    {
     "name": "stderr",
     "output_type": "stream",
     "text": [
      "2024-03-14 21:35:45.149002: I tensorflow/core/grappler/optimizers/custom_graph_optimizer_registry.cc:114] Plugin optimizer for device_type GPU is enabled.\n",
      "2024-03-14 21:35:47.294539: I tensorflow/core/grappler/optimizers/custom_graph_optimizer_registry.cc:114] Plugin optimizer for device_type GPU is enabled.\n",
      "/Library/Frameworks/Python.framework/Versions/3.11/lib/python3.11/site-packages/keras/src/engine/training.py:3000: UserWarning: You are saving your model as an HDF5 file via `model.save()`. This file format is considered legacy. We recommend using instead the native Keras format, e.g. `model.save('my_model.keras')`.\n",
      "  saving_api.save_model(\n"
     ]
    },
    {
     "name": "stdout",
     "output_type": "stream",
     "text": [
      "Epoch 22: early stopping\n",
      "Validation MAE : 27121678.0\n",
      "Validation MSE : 3340.23876953125\n",
      "Training with parameters: {'batch_size': 32, 'dropout_rate': 0.3, 'hidden_layers': 3, 'hidden_units': 128, 'learning_rate': 0.01}\n"
     ]
    },
    {
     "name": "stderr",
     "output_type": "stream",
     "text": [
      "2024-03-14 21:35:59.576907: I tensorflow/core/grappler/optimizers/custom_graph_optimizer_registry.cc:114] Plugin optimizer for device_type GPU is enabled.\n",
      "2024-03-14 21:36:02.109410: I tensorflow/core/grappler/optimizers/custom_graph_optimizer_registry.cc:114] Plugin optimizer for device_type GPU is enabled.\n",
      "/Library/Frameworks/Python.framework/Versions/3.11/lib/python3.11/site-packages/keras/src/engine/training.py:3000: UserWarning: You are saving your model as an HDF5 file via `model.save()`. This file format is considered legacy. We recommend using instead the native Keras format, e.g. `model.save('my_model.keras')`.\n",
      "  saving_api.save_model(\n"
     ]
    },
    {
     "name": "stdout",
     "output_type": "stream",
     "text": [
      "Epoch 47: early stopping\n",
      "Validation MAE : 3615064.75\n",
      "Validation MSE : 1417.1414794921875\n",
      "Training with parameters: {'batch_size': 32, 'dropout_rate': 0.3, 'hidden_layers': 3, 'hidden_units': 128, 'learning_rate': 0.1}\n"
     ]
    },
    {
     "name": "stderr",
     "output_type": "stream",
     "text": [
      "2024-03-14 21:36:19.061993: I tensorflow/core/grappler/optimizers/custom_graph_optimizer_registry.cc:114] Plugin optimizer for device_type GPU is enabled.\n",
      "2024-03-14 21:36:21.315768: I tensorflow/core/grappler/optimizers/custom_graph_optimizer_registry.cc:114] Plugin optimizer for device_type GPU is enabled.\n",
      "/Library/Frameworks/Python.framework/Versions/3.11/lib/python3.11/site-packages/keras/src/engine/training.py:3000: UserWarning: You are saving your model as an HDF5 file via `model.save()`. This file format is considered legacy. We recommend using instead the native Keras format, e.g. `model.save('my_model.keras')`.\n",
      "  saving_api.save_model(\n"
     ]
    },
    {
     "name": "stdout",
     "output_type": "stream",
     "text": [
      "Epoch 21: early stopping\n",
      "Validation MAE : 29141686550528.0\n",
      "Validation MSE : 4627456.5\n",
      "Training with parameters: {'batch_size': 32, 'dropout_rate': 0.3, 'hidden_layers': 3, 'hidden_units': 64, 'learning_rate': 0.001}\n"
     ]
    },
    {
     "name": "stderr",
     "output_type": "stream",
     "text": [
      "2024-03-14 21:36:29.343935: I tensorflow/core/grappler/optimizers/custom_graph_optimizer_registry.cc:114] Plugin optimizer for device_type GPU is enabled.\n",
      "2024-03-14 21:36:31.541775: I tensorflow/core/grappler/optimizers/custom_graph_optimizer_registry.cc:114] Plugin optimizer for device_type GPU is enabled.\n",
      "/Library/Frameworks/Python.framework/Versions/3.11/lib/python3.11/site-packages/keras/src/engine/training.py:3000: UserWarning: You are saving your model as an HDF5 file via `model.save()`. This file format is considered legacy. We recommend using instead the native Keras format, e.g. `model.save('my_model.keras')`.\n",
      "  saving_api.save_model(\n"
     ]
    },
    {
     "name": "stdout",
     "output_type": "stream",
     "text": [
      "Epoch 24: early stopping\n",
      "Validation MAE : 10646111.0\n",
      "Validation MSE : 2317.2197265625\n",
      "Training with parameters: {'batch_size': 32, 'dropout_rate': 0.3, 'hidden_layers': 3, 'hidden_units': 64, 'learning_rate': 0.01}\n"
     ]
    },
    {
     "name": "stderr",
     "output_type": "stream",
     "text": [
      "2024-03-14 21:36:40.377371: I tensorflow/core/grappler/optimizers/custom_graph_optimizer_registry.cc:114] Plugin optimizer for device_type GPU is enabled.\n",
      "2024-03-14 21:36:42.534350: I tensorflow/core/grappler/optimizers/custom_graph_optimizer_registry.cc:114] Plugin optimizer for device_type GPU is enabled.\n",
      "/Library/Frameworks/Python.framework/Versions/3.11/lib/python3.11/site-packages/keras/src/engine/training.py:3000: UserWarning: You are saving your model as an HDF5 file via `model.save()`. This file format is considered legacy. We recommend using instead the native Keras format, e.g. `model.save('my_model.keras')`.\n",
      "  saving_api.save_model(\n"
     ]
    },
    {
     "name": "stdout",
     "output_type": "stream",
     "text": [
      "Epoch 52: early stopping\n",
      "Validation MAE : 6374.38330078125\n",
      "Validation MSE : 54.816959381103516\n",
      "Training with parameters: {'batch_size': 32, 'dropout_rate': 0.3, 'hidden_layers': 3, 'hidden_units': 64, 'learning_rate': 0.1}\n"
     ]
    },
    {
     "name": "stderr",
     "output_type": "stream",
     "text": [
      "2024-03-14 21:37:00.559951: I tensorflow/core/grappler/optimizers/custom_graph_optimizer_registry.cc:114] Plugin optimizer for device_type GPU is enabled.\n",
      "2024-03-14 21:37:02.762235: I tensorflow/core/grappler/optimizers/custom_graph_optimizer_registry.cc:114] Plugin optimizer for device_type GPU is enabled.\n",
      "/Library/Frameworks/Python.framework/Versions/3.11/lib/python3.11/site-packages/keras/src/engine/training.py:3000: UserWarning: You are saving your model as an HDF5 file via `model.save()`. This file format is considered legacy. We recommend using instead the native Keras format, e.g. `model.save('my_model.keras')`.\n",
      "  saving_api.save_model(\n"
     ]
    },
    {
     "name": "stdout",
     "output_type": "stream",
     "text": [
      "Epoch 21: early stopping\n",
      "Validation MAE : 949176448.0\n",
      "Validation MSE : 22326.322265625\n",
      "Training with parameters: {'batch_size': 32, 'dropout_rate': 0.3, 'hidden_layers': 3, 'hidden_units': 32, 'learning_rate': 0.001}\n"
     ]
    },
    {
     "name": "stderr",
     "output_type": "stream",
     "text": [
      "2024-03-14 21:37:10.623436: I tensorflow/core/grappler/optimizers/custom_graph_optimizer_registry.cc:114] Plugin optimizer for device_type GPU is enabled.\n",
      "2024-03-14 21:37:12.790350: I tensorflow/core/grappler/optimizers/custom_graph_optimizer_registry.cc:114] Plugin optimizer for device_type GPU is enabled.\n",
      "/Library/Frameworks/Python.framework/Versions/3.11/lib/python3.11/site-packages/keras/src/engine/training.py:3000: UserWarning: You are saving your model as an HDF5 file via `model.save()`. This file format is considered legacy. We recommend using instead the native Keras format, e.g. `model.save('my_model.keras')`.\n",
      "  saving_api.save_model(\n"
     ]
    },
    {
     "name": "stdout",
     "output_type": "stream",
     "text": [
      "Epoch 27: early stopping\n",
      "Validation MAE : 23558.31640625\n",
      "Validation MSE : 107.40987396240234\n",
      "Training with parameters: {'batch_size': 32, 'dropout_rate': 0.3, 'hidden_layers': 3, 'hidden_units': 32, 'learning_rate': 0.01}\n"
     ]
    },
    {
     "name": "stderr",
     "output_type": "stream",
     "text": [
      "2024-03-14 21:37:22.862040: I tensorflow/core/grappler/optimizers/custom_graph_optimizer_registry.cc:114] Plugin optimizer for device_type GPU is enabled.\n",
      "2024-03-14 21:37:25.126616: I tensorflow/core/grappler/optimizers/custom_graph_optimizer_registry.cc:114] Plugin optimizer for device_type GPU is enabled.\n",
      "/Library/Frameworks/Python.framework/Versions/3.11/lib/python3.11/site-packages/keras/src/engine/training.py:3000: UserWarning: You are saving your model as an HDF5 file via `model.save()`. This file format is considered legacy. We recommend using instead the native Keras format, e.g. `model.save('my_model.keras')`.\n",
      "  saving_api.save_model(\n"
     ]
    },
    {
     "name": "stdout",
     "output_type": "stream",
     "text": [
      "Epoch 26: early stopping\n",
      "Validation MAE : 37394.21875\n",
      "Validation MSE : 137.5878143310547\n",
      "Training with parameters: {'batch_size': 32, 'dropout_rate': 0.3, 'hidden_layers': 3, 'hidden_units': 32, 'learning_rate': 0.1}\n"
     ]
    },
    {
     "name": "stderr",
     "output_type": "stream",
     "text": [
      "2024-03-14 21:37:34.649033: I tensorflow/core/grappler/optimizers/custom_graph_optimizer_registry.cc:114] Plugin optimizer for device_type GPU is enabled.\n",
      "2024-03-14 21:37:36.821118: I tensorflow/core/grappler/optimizers/custom_graph_optimizer_registry.cc:114] Plugin optimizer for device_type GPU is enabled.\n",
      "/Library/Frameworks/Python.framework/Versions/3.11/lib/python3.11/site-packages/keras/src/engine/training.py:3000: UserWarning: You are saving your model as an HDF5 file via `model.save()`. This file format is considered legacy. We recommend using instead the native Keras format, e.g. `model.save('my_model.keras')`.\n",
      "  saving_api.save_model(\n"
     ]
    },
    {
     "name": "stdout",
     "output_type": "stream",
     "text": [
      "Epoch 28: early stopping\n",
      "Validation MAE : 2848192.0\n",
      "Validation MSE : 1266.02099609375\n",
      "Training with parameters: {'batch_size': 16, 'dropout_rate': 0.1, 'hidden_layers': 1, 'hidden_units': 128, 'learning_rate': 0.001}\n"
     ]
    },
    {
     "name": "stderr",
     "output_type": "stream",
     "text": [
      "2024-03-14 21:37:46.855142: I tensorflow/core/grappler/optimizers/custom_graph_optimizer_registry.cc:114] Plugin optimizer for device_type GPU is enabled.\n",
      "2024-03-14 21:37:49.739741: I tensorflow/core/grappler/optimizers/custom_graph_optimizer_registry.cc:114] Plugin optimizer for device_type GPU is enabled.\n",
      "/Library/Frameworks/Python.framework/Versions/3.11/lib/python3.11/site-packages/keras/src/engine/training.py:3000: UserWarning: You are saving your model as an HDF5 file via `model.save()`. This file format is considered legacy. We recommend using instead the native Keras format, e.g. `model.save('my_model.keras')`.\n",
      "  saving_api.save_model(\n"
     ]
    },
    {
     "name": "stdout",
     "output_type": "stream",
     "text": [
      "Epoch 181: early stopping\n",
      "Validation MAE : 3371.193603515625\n",
      "Validation MSE : 37.42913818359375\n",
      "Training with parameters: {'batch_size': 16, 'dropout_rate': 0.1, 'hidden_layers': 1, 'hidden_units': 128, 'learning_rate': 0.01}\n"
     ]
    },
    {
     "name": "stderr",
     "output_type": "stream",
     "text": [
      "2024-03-14 21:39:13.624104: I tensorflow/core/grappler/optimizers/custom_graph_optimizer_registry.cc:114] Plugin optimizer for device_type GPU is enabled.\n",
      "2024-03-14 21:39:15.406731: I tensorflow/core/grappler/optimizers/custom_graph_optimizer_registry.cc:114] Plugin optimizer for device_type GPU is enabled.\n",
      "/Library/Frameworks/Python.framework/Versions/3.11/lib/python3.11/site-packages/keras/src/engine/training.py:3000: UserWarning: You are saving your model as an HDF5 file via `model.save()`. This file format is considered legacy. We recommend using instead the native Keras format, e.g. `model.save('my_model.keras')`.\n",
      "  saving_api.save_model(\n"
     ]
    },
    {
     "name": "stdout",
     "output_type": "stream",
     "text": [
      "Epoch 36: early stopping\n",
      "Validation MAE : 4208.4814453125\n",
      "Validation MSE : 45.41334915161133\n",
      "Training with parameters: {'batch_size': 16, 'dropout_rate': 0.1, 'hidden_layers': 1, 'hidden_units': 128, 'learning_rate': 0.1}\n"
     ]
    },
    {
     "name": "stderr",
     "output_type": "stream",
     "text": [
      "2024-03-14 21:39:32.646853: I tensorflow/core/grappler/optimizers/custom_graph_optimizer_registry.cc:114] Plugin optimizer for device_type GPU is enabled.\n",
      "2024-03-14 21:39:34.526253: I tensorflow/core/grappler/optimizers/custom_graph_optimizer_registry.cc:114] Plugin optimizer for device_type GPU is enabled.\n",
      "/Library/Frameworks/Python.framework/Versions/3.11/lib/python3.11/site-packages/keras/src/engine/training.py:3000: UserWarning: You are saving your model as an HDF5 file via `model.save()`. This file format is considered legacy. We recommend using instead the native Keras format, e.g. `model.save('my_model.keras')`.\n",
      "  saving_api.save_model(\n"
     ]
    },
    {
     "name": "stdout",
     "output_type": "stream",
     "text": [
      "Epoch 32: early stopping\n",
      "Validation MAE : 432.25897216796875\n",
      "Validation MSE : 16.03275489807129\n",
      "Training with parameters: {'batch_size': 16, 'dropout_rate': 0.1, 'hidden_layers': 1, 'hidden_units': 64, 'learning_rate': 0.001}\n"
     ]
    },
    {
     "name": "stderr",
     "output_type": "stream",
     "text": [
      "2024-03-14 21:39:50.096766: I tensorflow/core/grappler/optimizers/custom_graph_optimizer_registry.cc:114] Plugin optimizer for device_type GPU is enabled.\n",
      "2024-03-14 21:39:52.118124: I tensorflow/core/grappler/optimizers/custom_graph_optimizer_registry.cc:114] Plugin optimizer for device_type GPU is enabled.\n",
      "/Library/Frameworks/Python.framework/Versions/3.11/lib/python3.11/site-packages/keras/src/engine/training.py:3000: UserWarning: You are saving your model as an HDF5 file via `model.save()`. This file format is considered legacy. We recommend using instead the native Keras format, e.g. `model.save('my_model.keras')`.\n",
      "  saving_api.save_model(\n"
     ]
    },
    {
     "name": "stdout",
     "output_type": "stream",
     "text": [
      "Epoch 146: early stopping\n",
      "Validation MAE : 1270.7879638671875\n",
      "Validation MSE : 22.69824981689453\n",
      "Training with parameters: {'batch_size': 16, 'dropout_rate': 0.1, 'hidden_layers': 1, 'hidden_units': 64, 'learning_rate': 0.01}\n"
     ]
    },
    {
     "name": "stderr",
     "output_type": "stream",
     "text": [
      "2024-03-14 21:41:01.196621: I tensorflow/core/grappler/optimizers/custom_graph_optimizer_registry.cc:114] Plugin optimizer for device_type GPU is enabled.\n",
      "2024-03-14 21:41:02.852897: I tensorflow/core/grappler/optimizers/custom_graph_optimizer_registry.cc:114] Plugin optimizer for device_type GPU is enabled.\n",
      "/Library/Frameworks/Python.framework/Versions/3.11/lib/python3.11/site-packages/keras/src/engine/training.py:3000: UserWarning: You are saving your model as an HDF5 file via `model.save()`. This file format is considered legacy. We recommend using instead the native Keras format, e.g. `model.save('my_model.keras')`.\n",
      "  saving_api.save_model(\n"
     ]
    },
    {
     "name": "stdout",
     "output_type": "stream",
     "text": [
      "Epoch 65: early stopping\n",
      "Validation MAE : 632.6780395507812\n",
      "Validation MSE : 14.570762634277344\n",
      "Training with parameters: {'batch_size': 16, 'dropout_rate': 0.1, 'hidden_layers': 1, 'hidden_units': 64, 'learning_rate': 0.1}\n"
     ]
    },
    {
     "name": "stderr",
     "output_type": "stream",
     "text": [
      "2024-03-14 21:41:33.383595: I tensorflow/core/grappler/optimizers/custom_graph_optimizer_registry.cc:114] Plugin optimizer for device_type GPU is enabled.\n",
      "2024-03-14 21:41:35.120579: I tensorflow/core/grappler/optimizers/custom_graph_optimizer_registry.cc:114] Plugin optimizer for device_type GPU is enabled.\n",
      "/Library/Frameworks/Python.framework/Versions/3.11/lib/python3.11/site-packages/keras/src/engine/training.py:3000: UserWarning: You are saving your model as an HDF5 file via `model.save()`. This file format is considered legacy. We recommend using instead the native Keras format, e.g. `model.save('my_model.keras')`.\n",
      "  saving_api.save_model(\n"
     ]
    },
    {
     "name": "stdout",
     "output_type": "stream",
     "text": [
      "Epoch 23: early stopping\n",
      "Validation MAE : 816.6264038085938\n",
      "Validation MSE : 22.006986618041992\n",
      "Training with parameters: {'batch_size': 16, 'dropout_rate': 0.1, 'hidden_layers': 1, 'hidden_units': 32, 'learning_rate': 0.001}\n"
     ]
    },
    {
     "name": "stderr",
     "output_type": "stream",
     "text": [
      "2024-03-14 21:41:46.648880: I tensorflow/core/grappler/optimizers/custom_graph_optimizer_registry.cc:114] Plugin optimizer for device_type GPU is enabled.\n",
      "2024-03-14 21:41:48.686095: I tensorflow/core/grappler/optimizers/custom_graph_optimizer_registry.cc:114] Plugin optimizer for device_type GPU is enabled.\n",
      "/Library/Frameworks/Python.framework/Versions/3.11/lib/python3.11/site-packages/keras/src/engine/training.py:3000: UserWarning: You are saving your model as an HDF5 file via `model.save()`. This file format is considered legacy. We recommend using instead the native Keras format, e.g. `model.save('my_model.keras')`.\n",
      "  saving_api.save_model(\n"
     ]
    },
    {
     "name": "stdout",
     "output_type": "stream",
     "text": [
      "Epoch 334: early stopping\n",
      "Validation MAE : 707.16162109375\n",
      "Validation MSE : 12.159497261047363\n",
      "Training with parameters: {'batch_size': 16, 'dropout_rate': 0.1, 'hidden_layers': 1, 'hidden_units': 32, 'learning_rate': 0.01}\n"
     ]
    },
    {
     "name": "stderr",
     "output_type": "stream",
     "text": [
      "2024-03-14 21:44:20.914089: I tensorflow/core/grappler/optimizers/custom_graph_optimizer_registry.cc:114] Plugin optimizer for device_type GPU is enabled.\n",
      "2024-03-14 21:44:24.267531: I tensorflow/core/grappler/optimizers/custom_graph_optimizer_registry.cc:114] Plugin optimizer for device_type GPU is enabled.\n",
      "/Library/Frameworks/Python.framework/Versions/3.11/lib/python3.11/site-packages/keras/src/engine/training.py:3000: UserWarning: You are saving your model as an HDF5 file via `model.save()`. This file format is considered legacy. We recommend using instead the native Keras format, e.g. `model.save('my_model.keras')`.\n",
      "  saving_api.save_model(\n"
     ]
    },
    {
     "name": "stdout",
     "output_type": "stream",
     "text": [
      "Epoch 88: early stopping\n",
      "Validation MAE : 524.9402465820312\n",
      "Validation MSE : 13.832728385925293\n",
      "Training with parameters: {'batch_size': 16, 'dropout_rate': 0.1, 'hidden_layers': 1, 'hidden_units': 32, 'learning_rate': 0.1}\n"
     ]
    },
    {
     "name": "stderr",
     "output_type": "stream",
     "text": [
      "2024-03-14 21:45:06.726438: I tensorflow/core/grappler/optimizers/custom_graph_optimizer_registry.cc:114] Plugin optimizer for device_type GPU is enabled.\n",
      "2024-03-14 21:45:08.660203: I tensorflow/core/grappler/optimizers/custom_graph_optimizer_registry.cc:114] Plugin optimizer for device_type GPU is enabled.\n",
      "/Library/Frameworks/Python.framework/Versions/3.11/lib/python3.11/site-packages/keras/src/engine/training.py:3000: UserWarning: You are saving your model as an HDF5 file via `model.save()`. This file format is considered legacy. We recommend using instead the native Keras format, e.g. `model.save('my_model.keras')`.\n",
      "  saving_api.save_model(\n"
     ]
    },
    {
     "name": "stdout",
     "output_type": "stream",
     "text": [
      "Epoch 24: early stopping\n",
      "Validation MAE : 2703.87060546875\n",
      "Validation MSE : 36.86920166015625\n",
      "Training with parameters: {'batch_size': 16, 'dropout_rate': 0.1, 'hidden_layers': 2, 'hidden_units': 128, 'learning_rate': 0.001}\n"
     ]
    },
    {
     "name": "stderr",
     "output_type": "stream",
     "text": [
      "2024-03-14 21:45:21.332366: I tensorflow/core/grappler/optimizers/custom_graph_optimizer_registry.cc:114] Plugin optimizer for device_type GPU is enabled.\n",
      "2024-03-14 21:45:23.557442: I tensorflow/core/grappler/optimizers/custom_graph_optimizer_registry.cc:114] Plugin optimizer for device_type GPU is enabled.\n",
      "/Library/Frameworks/Python.framework/Versions/3.11/lib/python3.11/site-packages/keras/src/engine/training.py:3000: UserWarning: You are saving your model as an HDF5 file via `model.save()`. This file format is considered legacy. We recommend using instead the native Keras format, e.g. `model.save('my_model.keras')`.\n",
      "  saving_api.save_model(\n"
     ]
    },
    {
     "name": "stdout",
     "output_type": "stream",
     "text": [
      "Epoch 49: early stopping\n",
      "Validation MAE : 70617.3046875\n",
      "Validation MSE : 186.16270446777344\n",
      "Training with parameters: {'batch_size': 16, 'dropout_rate': 0.1, 'hidden_layers': 2, 'hidden_units': 128, 'learning_rate': 0.01}\n"
     ]
    },
    {
     "name": "stderr",
     "output_type": "stream",
     "text": [
      "2024-03-14 21:45:49.873411: I tensorflow/core/grappler/optimizers/custom_graph_optimizer_registry.cc:114] Plugin optimizer for device_type GPU is enabled.\n",
      "2024-03-14 21:45:52.109740: I tensorflow/core/grappler/optimizers/custom_graph_optimizer_registry.cc:114] Plugin optimizer for device_type GPU is enabled.\n",
      "/Library/Frameworks/Python.framework/Versions/3.11/lib/python3.11/site-packages/keras/src/engine/training.py:3000: UserWarning: You are saving your model as an HDF5 file via `model.save()`. This file format is considered legacy. We recommend using instead the native Keras format, e.g. `model.save('my_model.keras')`.\n",
      "  saving_api.save_model(\n"
     ]
    },
    {
     "name": "stdout",
     "output_type": "stream",
     "text": [
      "Epoch 43: early stopping\n",
      "Validation MAE : 23672.10546875\n",
      "Validation MSE : 101.84963989257812\n",
      "Training with parameters: {'batch_size': 16, 'dropout_rate': 0.1, 'hidden_layers': 2, 'hidden_units': 128, 'learning_rate': 0.1}\n"
     ]
    },
    {
     "name": "stderr",
     "output_type": "stream",
     "text": [
      "2024-03-14 21:46:15.503439: I tensorflow/core/grappler/optimizers/custom_graph_optimizer_registry.cc:114] Plugin optimizer for device_type GPU is enabled.\n",
      "2024-03-14 21:46:17.596661: I tensorflow/core/grappler/optimizers/custom_graph_optimizer_registry.cc:114] Plugin optimizer for device_type GPU is enabled.\n",
      "/Library/Frameworks/Python.framework/Versions/3.11/lib/python3.11/site-packages/keras/src/engine/training.py:3000: UserWarning: You are saving your model as an HDF5 file via `model.save()`. This file format is considered legacy. We recommend using instead the native Keras format, e.g. `model.save('my_model.keras')`.\n",
      "  saving_api.save_model(\n"
     ]
    },
    {
     "name": "stdout",
     "output_type": "stream",
     "text": [
      "Epoch 33: early stopping\n",
      "Validation MAE : 255729.515625\n",
      "Validation MSE : 456.786376953125\n",
      "Training with parameters: {'batch_size': 16, 'dropout_rate': 0.1, 'hidden_layers': 2, 'hidden_units': 64, 'learning_rate': 0.001}\n"
     ]
    },
    {
     "name": "stderr",
     "output_type": "stream",
     "text": [
      "2024-03-14 21:46:35.744161: I tensorflow/core/grappler/optimizers/custom_graph_optimizer_registry.cc:114] Plugin optimizer for device_type GPU is enabled.\n",
      "2024-03-14 21:46:37.961383: I tensorflow/core/grappler/optimizers/custom_graph_optimizer_registry.cc:114] Plugin optimizer for device_type GPU is enabled.\n",
      "/Library/Frameworks/Python.framework/Versions/3.11/lib/python3.11/site-packages/keras/src/engine/training.py:3000: UserWarning: You are saving your model as an HDF5 file via `model.save()`. This file format is considered legacy. We recommend using instead the native Keras format, e.g. `model.save('my_model.keras')`.\n",
      "  saving_api.save_model(\n"
     ]
    },
    {
     "name": "stdout",
     "output_type": "stream",
     "text": [
      "Epoch 77: early stopping\n",
      "Validation MAE : 409881.125\n",
      "Validation MSE : 475.7040100097656\n",
      "Training with parameters: {'batch_size': 16, 'dropout_rate': 0.1, 'hidden_layers': 2, 'hidden_units': 64, 'learning_rate': 0.01}\n"
     ]
    },
    {
     "name": "stderr",
     "output_type": "stream",
     "text": [
      "2024-03-14 21:47:18.586476: I tensorflow/core/grappler/optimizers/custom_graph_optimizer_registry.cc:114] Plugin optimizer for device_type GPU is enabled.\n",
      "2024-03-14 21:47:20.683086: I tensorflow/core/grappler/optimizers/custom_graph_optimizer_registry.cc:114] Plugin optimizer for device_type GPU is enabled.\n",
      "/Library/Frameworks/Python.framework/Versions/3.11/lib/python3.11/site-packages/keras/src/engine/training.py:3000: UserWarning: You are saving your model as an HDF5 file via `model.save()`. This file format is considered legacy. We recommend using instead the native Keras format, e.g. `model.save('my_model.keras')`.\n",
      "  saving_api.save_model(\n"
     ]
    },
    {
     "name": "stdout",
     "output_type": "stream",
     "text": [
      "Epoch 34: early stopping\n",
      "Validation MAE : 27211.87109375\n",
      "Validation MSE : 105.51976776123047\n",
      "Training with parameters: {'batch_size': 16, 'dropout_rate': 0.1, 'hidden_layers': 2, 'hidden_units': 64, 'learning_rate': 0.1}\n"
     ]
    },
    {
     "name": "stderr",
     "output_type": "stream",
     "text": [
      "2024-03-14 21:47:39.287290: I tensorflow/core/grappler/optimizers/custom_graph_optimizer_registry.cc:114] Plugin optimizer for device_type GPU is enabled.\n",
      "2024-03-14 21:47:41.335028: I tensorflow/core/grappler/optimizers/custom_graph_optimizer_registry.cc:114] Plugin optimizer for device_type GPU is enabled.\n",
      "/Library/Frameworks/Python.framework/Versions/3.11/lib/python3.11/site-packages/keras/src/engine/training.py:3000: UserWarning: You are saving your model as an HDF5 file via `model.save()`. This file format is considered legacy. We recommend using instead the native Keras format, e.g. `model.save('my_model.keras')`.\n",
      "  saving_api.save_model(\n"
     ]
    },
    {
     "name": "stdout",
     "output_type": "stream",
     "text": [
      "Epoch 64: early stopping\n",
      "Validation MAE : 447070.875\n",
      "Validation MSE : 509.8468017578125\n",
      "Training with parameters: {'batch_size': 16, 'dropout_rate': 0.1, 'hidden_layers': 2, 'hidden_units': 32, 'learning_rate': 0.001}\n"
     ]
    },
    {
     "name": "stderr",
     "output_type": "stream",
     "text": [
      "2024-03-14 21:48:15.043744: I tensorflow/core/grappler/optimizers/custom_graph_optimizer_registry.cc:114] Plugin optimizer for device_type GPU is enabled.\n",
      "2024-03-14 21:48:17.151849: I tensorflow/core/grappler/optimizers/custom_graph_optimizer_registry.cc:114] Plugin optimizer for device_type GPU is enabled.\n",
      "/Library/Frameworks/Python.framework/Versions/3.11/lib/python3.11/site-packages/keras/src/engine/training.py:3000: UserWarning: You are saving your model as an HDF5 file via `model.save()`. This file format is considered legacy. We recommend using instead the native Keras format, e.g. `model.save('my_model.keras')`.\n",
      "  saving_api.save_model(\n"
     ]
    },
    {
     "name": "stdout",
     "output_type": "stream",
     "text": [
      "Epoch 91: early stopping\n",
      "Validation MAE : 11269.77734375\n",
      "Validation MSE : 81.69044494628906\n",
      "Training with parameters: {'batch_size': 16, 'dropout_rate': 0.1, 'hidden_layers': 2, 'hidden_units': 32, 'learning_rate': 0.01}\n"
     ]
    },
    {
     "name": "stderr",
     "output_type": "stream",
     "text": [
      "2024-03-14 21:49:04.967835: I tensorflow/core/grappler/optimizers/custom_graph_optimizer_registry.cc:114] Plugin optimizer for device_type GPU is enabled.\n",
      "2024-03-14 21:49:07.136905: I tensorflow/core/grappler/optimizers/custom_graph_optimizer_registry.cc:114] Plugin optimizer for device_type GPU is enabled.\n",
      "/Library/Frameworks/Python.framework/Versions/3.11/lib/python3.11/site-packages/keras/src/engine/training.py:3000: UserWarning: You are saving your model as an HDF5 file via `model.save()`. This file format is considered legacy. We recommend using instead the native Keras format, e.g. `model.save('my_model.keras')`.\n",
      "  saving_api.save_model(\n"
     ]
    },
    {
     "name": "stdout",
     "output_type": "stream",
     "text": [
      "Epoch 44: early stopping\n",
      "Validation MAE : 15169.3359375\n",
      "Validation MSE : 71.23493194580078\n",
      "Training with parameters: {'batch_size': 16, 'dropout_rate': 0.1, 'hidden_layers': 2, 'hidden_units': 32, 'learning_rate': 0.1}\n"
     ]
    },
    {
     "name": "stderr",
     "output_type": "stream",
     "text": [
      "2024-03-14 21:49:30.836893: I tensorflow/core/grappler/optimizers/custom_graph_optimizer_registry.cc:114] Plugin optimizer for device_type GPU is enabled.\n",
      "2024-03-14 21:49:32.998891: I tensorflow/core/grappler/optimizers/custom_graph_optimizer_registry.cc:114] Plugin optimizer for device_type GPU is enabled.\n",
      "/Library/Frameworks/Python.framework/Versions/3.11/lib/python3.11/site-packages/keras/src/engine/training.py:3000: UserWarning: You are saving your model as an HDF5 file via `model.save()`. This file format is considered legacy. We recommend using instead the native Keras format, e.g. `model.save('my_model.keras')`.\n",
      "  saving_api.save_model(\n"
     ]
    },
    {
     "name": "stdout",
     "output_type": "stream",
     "text": [
      "Epoch 23: early stopping\n",
      "Validation MAE : 91265104.0\n",
      "Validation MSE : 7426.83251953125\n",
      "Training with parameters: {'batch_size': 16, 'dropout_rate': 0.1, 'hidden_layers': 3, 'hidden_units': 128, 'learning_rate': 0.001}\n"
     ]
    },
    {
     "name": "stderr",
     "output_type": "stream",
     "text": [
      "2024-03-14 21:49:45.938999: I tensorflow/core/grappler/optimizers/custom_graph_optimizer_registry.cc:114] Plugin optimizer for device_type GPU is enabled.\n",
      "2024-03-14 21:49:48.518839: I tensorflow/core/grappler/optimizers/custom_graph_optimizer_registry.cc:114] Plugin optimizer for device_type GPU is enabled.\n",
      "/Library/Frameworks/Python.framework/Versions/3.11/lib/python3.11/site-packages/keras/src/engine/training.py:3000: UserWarning: You are saving your model as an HDF5 file via `model.save()`. This file format is considered legacy. We recommend using instead the native Keras format, e.g. `model.save('my_model.keras')`.\n",
      "  saving_api.save_model(\n"
     ]
    },
    {
     "name": "stdout",
     "output_type": "stream",
     "text": [
      "Epoch 21: early stopping\n",
      "Validation MAE : 40897664.0\n",
      "Validation MSE : 4179.34033203125\n",
      "Training with parameters: {'batch_size': 16, 'dropout_rate': 0.1, 'hidden_layers': 3, 'hidden_units': 128, 'learning_rate': 0.01}\n"
     ]
    },
    {
     "name": "stderr",
     "output_type": "stream",
     "text": [
      "2024-03-14 21:50:02.173776: I tensorflow/core/grappler/optimizers/custom_graph_optimizer_registry.cc:114] Plugin optimizer for device_type GPU is enabled.\n",
      "2024-03-14 21:50:04.897994: I tensorflow/core/grappler/optimizers/custom_graph_optimizer_registry.cc:114] Plugin optimizer for device_type GPU is enabled.\n",
      "/Library/Frameworks/Python.framework/Versions/3.11/lib/python3.11/site-packages/keras/src/engine/training.py:3000: UserWarning: You are saving your model as an HDF5 file via `model.save()`. This file format is considered legacy. We recommend using instead the native Keras format, e.g. `model.save('my_model.keras')`.\n",
      "  saving_api.save_model(\n"
     ]
    },
    {
     "name": "stdout",
     "output_type": "stream",
     "text": [
      "Epoch 53: early stopping\n",
      "Validation MAE : 145394.578125\n",
      "Validation MSE : 262.1580810546875\n",
      "Training with parameters: {'batch_size': 16, 'dropout_rate': 0.1, 'hidden_layers': 3, 'hidden_units': 128, 'learning_rate': 0.1}\n"
     ]
    },
    {
     "name": "stderr",
     "output_type": "stream",
     "text": [
      "2024-03-14 21:50:37.108023: I tensorflow/core/grappler/optimizers/custom_graph_optimizer_registry.cc:114] Plugin optimizer for device_type GPU is enabled.\n",
      "2024-03-14 21:50:39.760603: I tensorflow/core/grappler/optimizers/custom_graph_optimizer_registry.cc:114] Plugin optimizer for device_type GPU is enabled.\n",
      "/Library/Frameworks/Python.framework/Versions/3.11/lib/python3.11/site-packages/keras/src/engine/training.py:3000: UserWarning: You are saving your model as an HDF5 file via `model.save()`. This file format is considered legacy. We recommend using instead the native Keras format, e.g. `model.save('my_model.keras')`.\n",
      "  saving_api.save_model(\n"
     ]
    },
    {
     "name": "stdout",
     "output_type": "stream",
     "text": [
      "Epoch 21: early stopping\n",
      "Validation MAE : 429246054400.0\n",
      "Validation MSE : 562378.125\n",
      "Training with parameters: {'batch_size': 16, 'dropout_rate': 0.1, 'hidden_layers': 3, 'hidden_units': 64, 'learning_rate': 0.001}\n"
     ]
    },
    {
     "name": "stderr",
     "output_type": "stream",
     "text": [
      "2024-03-14 21:50:53.397458: I tensorflow/core/grappler/optimizers/custom_graph_optimizer_registry.cc:114] Plugin optimizer for device_type GPU is enabled.\n",
      "2024-03-14 21:50:56.618202: I tensorflow/core/grappler/optimizers/custom_graph_optimizer_registry.cc:114] Plugin optimizer for device_type GPU is enabled.\n",
      "/Library/Frameworks/Python.framework/Versions/3.11/lib/python3.11/site-packages/keras/src/engine/training.py:3000: UserWarning: You are saving your model as an HDF5 file via `model.save()`. This file format is considered legacy. We recommend using instead the native Keras format, e.g. `model.save('my_model.keras')`.\n",
      "  saving_api.save_model(\n"
     ]
    },
    {
     "name": "stdout",
     "output_type": "stream",
     "text": [
      "Epoch 22: early stopping\n",
      "Validation MAE : 11597923.0\n",
      "Validation MSE : 2679.65380859375\n",
      "Training with parameters: {'batch_size': 16, 'dropout_rate': 0.1, 'hidden_layers': 3, 'hidden_units': 64, 'learning_rate': 0.01}\n"
     ]
    },
    {
     "name": "stderr",
     "output_type": "stream",
     "text": [
      "2024-03-14 21:51:11.738196: I tensorflow/core/grappler/optimizers/custom_graph_optimizer_registry.cc:114] Plugin optimizer for device_type GPU is enabled.\n",
      "2024-03-14 21:51:14.374514: I tensorflow/core/grappler/optimizers/custom_graph_optimizer_registry.cc:114] Plugin optimizer for device_type GPU is enabled.\n",
      "/Library/Frameworks/Python.framework/Versions/3.11/lib/python3.11/site-packages/keras/src/engine/training.py:3000: UserWarning: You are saving your model as an HDF5 file via `model.save()`. This file format is considered legacy. We recommend using instead the native Keras format, e.g. `model.save('my_model.keras')`.\n",
      "  saving_api.save_model(\n"
     ]
    },
    {
     "name": "stdout",
     "output_type": "stream",
     "text": [
      "Epoch 21: early stopping\n",
      "Validation MAE : 2337696.5\n",
      "Validation MSE : 992.7976684570312\n",
      "Training with parameters: {'batch_size': 16, 'dropout_rate': 0.1, 'hidden_layers': 3, 'hidden_units': 64, 'learning_rate': 0.1}\n"
     ]
    },
    {
     "name": "stderr",
     "output_type": "stream",
     "text": [
      "2024-03-14 21:51:27.904701: I tensorflow/core/grappler/optimizers/custom_graph_optimizer_registry.cc:114] Plugin optimizer for device_type GPU is enabled.\n",
      "2024-03-14 21:51:32.379056: I tensorflow/core/grappler/optimizers/custom_graph_optimizer_registry.cc:114] Plugin optimizer for device_type GPU is enabled.\n",
      "/Library/Frameworks/Python.framework/Versions/3.11/lib/python3.11/site-packages/keras/src/engine/training.py:3000: UserWarning: You are saving your model as an HDF5 file via `model.save()`. This file format is considered legacy. We recommend using instead the native Keras format, e.g. `model.save('my_model.keras')`.\n",
      "  saving_api.save_model(\n"
     ]
    },
    {
     "name": "stdout",
     "output_type": "stream",
     "text": [
      "Epoch 43: early stopping\n",
      "Validation MAE : 7440277.0\n",
      "Validation MSE : 2130.72607421875\n",
      "Training with parameters: {'batch_size': 16, 'dropout_rate': 0.1, 'hidden_layers': 3, 'hidden_units': 32, 'learning_rate': 0.001}\n"
     ]
    },
    {
     "name": "stderr",
     "output_type": "stream",
     "text": [
      "2024-03-14 21:51:59.188009: I tensorflow/core/grappler/optimizers/custom_graph_optimizer_registry.cc:114] Plugin optimizer for device_type GPU is enabled.\n",
      "2024-03-14 21:52:01.742234: I tensorflow/core/grappler/optimizers/custom_graph_optimizer_registry.cc:114] Plugin optimizer for device_type GPU is enabled.\n",
      "/Library/Frameworks/Python.framework/Versions/3.11/lib/python3.11/site-packages/keras/src/engine/training.py:3000: UserWarning: You are saving your model as an HDF5 file via `model.save()`. This file format is considered legacy. We recommend using instead the native Keras format, e.g. `model.save('my_model.keras')`.\n",
      "  saving_api.save_model(\n"
     ]
    },
    {
     "name": "stdout",
     "output_type": "stream",
     "text": [
      "Epoch 23: early stopping\n",
      "Validation MAE : 48742.96875\n",
      "Validation MSE : 174.52735900878906\n",
      "Training with parameters: {'batch_size': 16, 'dropout_rate': 0.1, 'hidden_layers': 3, 'hidden_units': 32, 'learning_rate': 0.01}\n"
     ]
    },
    {
     "name": "stderr",
     "output_type": "stream",
     "text": [
      "2024-03-14 21:52:16.656543: I tensorflow/core/grappler/optimizers/custom_graph_optimizer_registry.cc:114] Plugin optimizer for device_type GPU is enabled.\n",
      "2024-03-14 21:52:19.229436: I tensorflow/core/grappler/optimizers/custom_graph_optimizer_registry.cc:114] Plugin optimizer for device_type GPU is enabled.\n",
      "/Library/Frameworks/Python.framework/Versions/3.11/lib/python3.11/site-packages/keras/src/engine/training.py:3000: UserWarning: You are saving your model as an HDF5 file via `model.save()`. This file format is considered legacy. We recommend using instead the native Keras format, e.g. `model.save('my_model.keras')`.\n",
      "  saving_api.save_model(\n"
     ]
    },
    {
     "name": "stdout",
     "output_type": "stream",
     "text": [
      "Epoch 72: early stopping\n",
      "Validation MAE : 2320.583984375\n",
      "Validation MSE : 28.76155662536621\n",
      "Training with parameters: {'batch_size': 16, 'dropout_rate': 0.1, 'hidden_layers': 3, 'hidden_units': 32, 'learning_rate': 0.1}\n"
     ]
    },
    {
     "name": "stderr",
     "output_type": "stream",
     "text": [
      "2024-03-14 21:53:03.130053: I tensorflow/core/grappler/optimizers/custom_graph_optimizer_registry.cc:114] Plugin optimizer for device_type GPU is enabled.\n",
      "2024-03-14 21:53:05.738560: I tensorflow/core/grappler/optimizers/custom_graph_optimizer_registry.cc:114] Plugin optimizer for device_type GPU is enabled.\n",
      "/Library/Frameworks/Python.framework/Versions/3.11/lib/python3.11/site-packages/keras/src/engine/training.py:3000: UserWarning: You are saving your model as an HDF5 file via `model.save()`. This file format is considered legacy. We recommend using instead the native Keras format, e.g. `model.save('my_model.keras')`.\n",
      "  saving_api.save_model(\n"
     ]
    },
    {
     "name": "stdout",
     "output_type": "stream",
     "text": [
      "Epoch 27: early stopping\n",
      "Validation MAE : 4566868992.0\n",
      "Validation MSE : 54849.140625\n",
      "Training with parameters: {'batch_size': 16, 'dropout_rate': 0.2, 'hidden_layers': 1, 'hidden_units': 128, 'learning_rate': 0.001}\n"
     ]
    },
    {
     "name": "stderr",
     "output_type": "stream",
     "text": [
      "2024-03-14 21:53:22.844875: I tensorflow/core/grappler/optimizers/custom_graph_optimizer_registry.cc:114] Plugin optimizer for device_type GPU is enabled.\n",
      "2024-03-14 21:53:24.829246: I tensorflow/core/grappler/optimizers/custom_graph_optimizer_registry.cc:114] Plugin optimizer for device_type GPU is enabled.\n",
      "/Library/Frameworks/Python.framework/Versions/3.11/lib/python3.11/site-packages/keras/src/engine/training.py:3000: UserWarning: You are saving your model as an HDF5 file via `model.save()`. This file format is considered legacy. We recommend using instead the native Keras format, e.g. `model.save('my_model.keras')`.\n",
      "  saving_api.save_model(\n"
     ]
    },
    {
     "name": "stdout",
     "output_type": "stream",
     "text": [
      "Epoch 117: early stopping\n",
      "Validation MAE : 2608.182861328125\n",
      "Validation MSE : 33.404415130615234\n",
      "Training with parameters: {'batch_size': 16, 'dropout_rate': 0.2, 'hidden_layers': 1, 'hidden_units': 128, 'learning_rate': 0.01}\n"
     ]
    },
    {
     "name": "stderr",
     "output_type": "stream",
     "text": [
      "2024-03-14 21:54:19.953192: I tensorflow/core/grappler/optimizers/custom_graph_optimizer_registry.cc:114] Plugin optimizer for device_type GPU is enabled.\n",
      "2024-03-14 21:54:21.775402: I tensorflow/core/grappler/optimizers/custom_graph_optimizer_registry.cc:114] Plugin optimizer for device_type GPU is enabled.\n",
      "/Library/Frameworks/Python.framework/Versions/3.11/lib/python3.11/site-packages/keras/src/engine/training.py:3000: UserWarning: You are saving your model as an HDF5 file via `model.save()`. This file format is considered legacy. We recommend using instead the native Keras format, e.g. `model.save('my_model.keras')`.\n",
      "  saving_api.save_model(\n"
     ]
    },
    {
     "name": "stdout",
     "output_type": "stream",
     "text": [
      "Epoch 29: early stopping\n",
      "Validation MAE : 2069.853759765625\n",
      "Validation MSE : 33.09697341918945\n",
      "Training with parameters: {'batch_size': 16, 'dropout_rate': 0.2, 'hidden_layers': 1, 'hidden_units': 128, 'learning_rate': 0.1}\n"
     ]
    },
    {
     "name": "stderr",
     "output_type": "stream",
     "text": [
      "2024-03-14 21:54:36.252590: I tensorflow/core/grappler/optimizers/custom_graph_optimizer_registry.cc:114] Plugin optimizer for device_type GPU is enabled.\n",
      "2024-03-14 21:54:38.299391: I tensorflow/core/grappler/optimizers/custom_graph_optimizer_registry.cc:114] Plugin optimizer for device_type GPU is enabled.\n",
      "/Library/Frameworks/Python.framework/Versions/3.11/lib/python3.11/site-packages/keras/src/engine/training.py:3000: UserWarning: You are saving your model as an HDF5 file via `model.save()`. This file format is considered legacy. We recommend using instead the native Keras format, e.g. `model.save('my_model.keras')`.\n",
      "  saving_api.save_model(\n"
     ]
    },
    {
     "name": "stdout",
     "output_type": "stream",
     "text": [
      "Epoch 25: early stopping\n",
      "Validation MAE : 749.6974487304688\n",
      "Validation MSE : 22.781829833984375\n",
      "Training with parameters: {'batch_size': 16, 'dropout_rate': 0.2, 'hidden_layers': 1, 'hidden_units': 64, 'learning_rate': 0.001}\n"
     ]
    },
    {
     "name": "stderr",
     "output_type": "stream",
     "text": [
      "2024-03-14 21:54:50.995837: I tensorflow/core/grappler/optimizers/custom_graph_optimizer_registry.cc:114] Plugin optimizer for device_type GPU is enabled.\n",
      "2024-03-14 21:54:52.932857: I tensorflow/core/grappler/optimizers/custom_graph_optimizer_registry.cc:114] Plugin optimizer for device_type GPU is enabled.\n",
      "/Library/Frameworks/Python.framework/Versions/3.11/lib/python3.11/site-packages/keras/src/engine/training.py:3000: UserWarning: You are saving your model as an HDF5 file via `model.save()`. This file format is considered legacy. We recommend using instead the native Keras format, e.g. `model.save('my_model.keras')`.\n",
      "  saving_api.save_model(\n"
     ]
    },
    {
     "name": "stdout",
     "output_type": "stream",
     "text": [
      "Epoch 137: early stopping\n",
      "Validation MAE : 698.651123046875\n",
      "Validation MSE : 15.939703941345215\n",
      "Training with parameters: {'batch_size': 16, 'dropout_rate': 0.2, 'hidden_layers': 1, 'hidden_units': 64, 'learning_rate': 0.01}\n"
     ]
    },
    {
     "name": "stderr",
     "output_type": "stream",
     "text": [
      "2024-03-14 21:55:57.563015: I tensorflow/core/grappler/optimizers/custom_graph_optimizer_registry.cc:114] Plugin optimizer for device_type GPU is enabled.\n",
      "2024-03-14 21:55:59.577615: I tensorflow/core/grappler/optimizers/custom_graph_optimizer_registry.cc:114] Plugin optimizer for device_type GPU is enabled.\n",
      "/Library/Frameworks/Python.framework/Versions/3.11/lib/python3.11/site-packages/keras/src/engine/training.py:3000: UserWarning: You are saving your model as an HDF5 file via `model.save()`. This file format is considered legacy. We recommend using instead the native Keras format, e.g. `model.save('my_model.keras')`.\n",
      "  saving_api.save_model(\n"
     ]
    },
    {
     "name": "stdout",
     "output_type": "stream",
     "text": [
      "Epoch 82: early stopping\n",
      "Validation MAE : 12910.3642578125\n",
      "Validation MSE : 75.1407470703125\n",
      "Training with parameters: {'batch_size': 16, 'dropout_rate': 0.2, 'hidden_layers': 1, 'hidden_units': 64, 'learning_rate': 0.1}\n"
     ]
    },
    {
     "name": "stderr",
     "output_type": "stream",
     "text": [
      "2024-03-14 21:56:48.073602: I tensorflow/core/grappler/optimizers/custom_graph_optimizer_registry.cc:114] Plugin optimizer for device_type GPU is enabled.\n",
      "2024-03-14 21:56:50.383481: I tensorflow/core/grappler/optimizers/custom_graph_optimizer_registry.cc:114] Plugin optimizer for device_type GPU is enabled.\n",
      "/Library/Frameworks/Python.framework/Versions/3.11/lib/python3.11/site-packages/keras/src/engine/training.py:3000: UserWarning: You are saving your model as an HDF5 file via `model.save()`. This file format is considered legacy. We recommend using instead the native Keras format, e.g. `model.save('my_model.keras')`.\n",
      "  saving_api.save_model(\n"
     ]
    },
    {
     "name": "stdout",
     "output_type": "stream",
     "text": [
      "Epoch 25: early stopping\n",
      "Validation MAE : 263.4568176269531\n",
      "Validation MSE : 10.470378875732422\n",
      "Training with parameters: {'batch_size': 16, 'dropout_rate': 0.2, 'hidden_layers': 1, 'hidden_units': 32, 'learning_rate': 0.001}\n"
     ]
    },
    {
     "name": "stderr",
     "output_type": "stream",
     "text": [
      "2024-03-14 21:57:05.181978: I tensorflow/core/grappler/optimizers/custom_graph_optimizer_registry.cc:114] Plugin optimizer for device_type GPU is enabled.\n",
      "2024-03-14 21:57:07.049218: I tensorflow/core/grappler/optimizers/custom_graph_optimizer_registry.cc:114] Plugin optimizer for device_type GPU is enabled.\n",
      "/Library/Frameworks/Python.framework/Versions/3.11/lib/python3.11/site-packages/keras/src/engine/training.py:3000: UserWarning: You are saving your model as an HDF5 file via `model.save()`. This file format is considered legacy. We recommend using instead the native Keras format, e.g. `model.save('my_model.keras')`.\n",
      "  saving_api.save_model(\n"
     ]
    },
    {
     "name": "stdout",
     "output_type": "stream",
     "text": [
      "Epoch 171: early stopping\n",
      "Validation MAE : 605.5877075195312\n",
      "Validation MSE : 15.624905586242676\n",
      "Training with parameters: {'batch_size': 16, 'dropout_rate': 0.2, 'hidden_layers': 1, 'hidden_units': 32, 'learning_rate': 0.01}\n"
     ]
    },
    {
     "name": "stderr",
     "output_type": "stream",
     "text": [
      "2024-03-14 21:58:42.659858: I tensorflow/core/grappler/optimizers/custom_graph_optimizer_registry.cc:114] Plugin optimizer for device_type GPU is enabled.\n",
      "2024-03-14 21:58:44.740167: I tensorflow/core/grappler/optimizers/custom_graph_optimizer_registry.cc:114] Plugin optimizer for device_type GPU is enabled.\n",
      "/Library/Frameworks/Python.framework/Versions/3.11/lib/python3.11/site-packages/keras/src/engine/training.py:3000: UserWarning: You are saving your model as an HDF5 file via `model.save()`. This file format is considered legacy. We recommend using instead the native Keras format, e.g. `model.save('my_model.keras')`.\n",
      "  saving_api.save_model(\n"
     ]
    },
    {
     "name": "stdout",
     "output_type": "stream",
     "text": [
      "Epoch 71: early stopping\n",
      "Validation MAE : 583.2792358398438\n",
      "Validation MSE : 13.920845985412598\n",
      "Training with parameters: {'batch_size': 16, 'dropout_rate': 0.2, 'hidden_layers': 1, 'hidden_units': 32, 'learning_rate': 0.1}\n"
     ]
    },
    {
     "name": "stderr",
     "output_type": "stream",
     "text": [
      "2024-03-14 21:59:25.336403: I tensorflow/core/grappler/optimizers/custom_graph_optimizer_registry.cc:114] Plugin optimizer for device_type GPU is enabled.\n",
      "2024-03-14 21:59:27.589548: I tensorflow/core/grappler/optimizers/custom_graph_optimizer_registry.cc:114] Plugin optimizer for device_type GPU is enabled.\n",
      "/Library/Frameworks/Python.framework/Versions/3.11/lib/python3.11/site-packages/keras/src/engine/training.py:3000: UserWarning: You are saving your model as an HDF5 file via `model.save()`. This file format is considered legacy. We recommend using instead the native Keras format, e.g. `model.save('my_model.keras')`.\n",
      "  saving_api.save_model(\n"
     ]
    },
    {
     "name": "stdout",
     "output_type": "stream",
     "text": [
      "Epoch 24: early stopping\n",
      "Validation MAE : 1763.30517578125\n",
      "Validation MSE : 21.698314666748047\n",
      "Training with parameters: {'batch_size': 16, 'dropout_rate': 0.2, 'hidden_layers': 2, 'hidden_units': 128, 'learning_rate': 0.001}\n"
     ]
    },
    {
     "name": "stderr",
     "output_type": "stream",
     "text": [
      "2024-03-14 21:59:42.174585: I tensorflow/core/grappler/optimizers/custom_graph_optimizer_registry.cc:114] Plugin optimizer for device_type GPU is enabled.\n",
      "2024-03-14 21:59:45.225385: I tensorflow/core/grappler/optimizers/custom_graph_optimizer_registry.cc:114] Plugin optimizer for device_type GPU is enabled.\n",
      "/Library/Frameworks/Python.framework/Versions/3.11/lib/python3.11/site-packages/keras/src/engine/training.py:3000: UserWarning: You are saving your model as an HDF5 file via `model.save()`. This file format is considered legacy. We recommend using instead the native Keras format, e.g. `model.save('my_model.keras')`.\n",
      "  saving_api.save_model(\n"
     ]
    },
    {
     "name": "stdout",
     "output_type": "stream",
     "text": [
      "Epoch 53: early stopping\n",
      "Validation MAE : 752313.75\n",
      "Validation MSE : 585.9778442382812\n",
      "Training with parameters: {'batch_size': 16, 'dropout_rate': 0.2, 'hidden_layers': 2, 'hidden_units': 128, 'learning_rate': 0.01}\n"
     ]
    },
    {
     "name": "stderr",
     "output_type": "stream",
     "text": [
      "2024-03-14 22:00:17.332432: I tensorflow/core/grappler/optimizers/custom_graph_optimizer_registry.cc:114] Plugin optimizer for device_type GPU is enabled.\n",
      "2024-03-14 22:00:20.484786: I tensorflow/core/grappler/optimizers/custom_graph_optimizer_registry.cc:114] Plugin optimizer for device_type GPU is enabled.\n",
      "/Library/Frameworks/Python.framework/Versions/3.11/lib/python3.11/site-packages/keras/src/engine/training.py:3000: UserWarning: You are saving your model as an HDF5 file via `model.save()`. This file format is considered legacy. We recommend using instead the native Keras format, e.g. `model.save('my_model.keras')`.\n",
      "  saving_api.save_model(\n"
     ]
    },
    {
     "name": "stdout",
     "output_type": "stream",
     "text": [
      "Epoch 44: early stopping\n",
      "Validation MAE : 6423.4931640625\n",
      "Validation MSE : 55.424591064453125\n",
      "Training with parameters: {'batch_size': 16, 'dropout_rate': 0.2, 'hidden_layers': 2, 'hidden_units': 128, 'learning_rate': 0.1}\n"
     ]
    },
    {
     "name": "stderr",
     "output_type": "stream",
     "text": [
      "2024-03-14 22:00:47.298848: I tensorflow/core/grappler/optimizers/custom_graph_optimizer_registry.cc:114] Plugin optimizer for device_type GPU is enabled.\n",
      "2024-03-14 22:00:50.042657: I tensorflow/core/grappler/optimizers/custom_graph_optimizer_registry.cc:114] Plugin optimizer for device_type GPU is enabled.\n",
      "/Library/Frameworks/Python.framework/Versions/3.11/lib/python3.11/site-packages/keras/src/engine/training.py:3000: UserWarning: You are saving your model as an HDF5 file via `model.save()`. This file format is considered legacy. We recommend using instead the native Keras format, e.g. `model.save('my_model.keras')`.\n",
      "  saving_api.save_model(\n"
     ]
    },
    {
     "name": "stdout",
     "output_type": "stream",
     "text": [
      "Epoch 38: early stopping\n",
      "Validation MAE : 616212.5625\n",
      "Validation MSE : 614.4618530273438\n",
      "Training with parameters: {'batch_size': 16, 'dropout_rate': 0.2, 'hidden_layers': 2, 'hidden_units': 64, 'learning_rate': 0.001}\n"
     ]
    },
    {
     "name": "stderr",
     "output_type": "stream",
     "text": [
      "2024-03-14 22:01:13.533806: I tensorflow/core/grappler/optimizers/custom_graph_optimizer_registry.cc:114] Plugin optimizer for device_type GPU is enabled.\n",
      "2024-03-14 22:01:16.774878: I tensorflow/core/grappler/optimizers/custom_graph_optimizer_registry.cc:114] Plugin optimizer for device_type GPU is enabled.\n",
      "/Library/Frameworks/Python.framework/Versions/3.11/lib/python3.11/site-packages/keras/src/engine/training.py:3000: UserWarning: You are saving your model as an HDF5 file via `model.save()`. This file format is considered legacy. We recommend using instead the native Keras format, e.g. `model.save('my_model.keras')`.\n",
      "  saving_api.save_model(\n"
     ]
    },
    {
     "name": "stdout",
     "output_type": "stream",
     "text": [
      "Epoch 52: early stopping\n",
      "Validation MAE : 1278928.5\n",
      "Validation MSE : 712.4537963867188\n",
      "Training with parameters: {'batch_size': 16, 'dropout_rate': 0.2, 'hidden_layers': 2, 'hidden_units': 64, 'learning_rate': 0.01}\n"
     ]
    },
    {
     "name": "stderr",
     "output_type": "stream",
     "text": [
      "2024-03-14 22:01:50.217614: I tensorflow/core/grappler/optimizers/custom_graph_optimizer_registry.cc:114] Plugin optimizer for device_type GPU is enabled.\n",
      "2024-03-14 22:01:53.293673: I tensorflow/core/grappler/optimizers/custom_graph_optimizer_registry.cc:114] Plugin optimizer for device_type GPU is enabled.\n",
      "/Library/Frameworks/Python.framework/Versions/3.11/lib/python3.11/site-packages/keras/src/engine/training.py:3000: UserWarning: You are saving your model as an HDF5 file via `model.save()`. This file format is considered legacy. We recommend using instead the native Keras format, e.g. `model.save('my_model.keras')`.\n",
      "  saving_api.save_model(\n"
     ]
    },
    {
     "name": "stdout",
     "output_type": "stream",
     "text": [
      "Epoch 33: early stopping\n",
      "Validation MAE : 4383.38916015625\n",
      "Validation MSE : 45.2807502746582\n",
      "Training with parameters: {'batch_size': 16, 'dropout_rate': 0.2, 'hidden_layers': 2, 'hidden_units': 64, 'learning_rate': 0.1}\n"
     ]
    },
    {
     "name": "stderr",
     "output_type": "stream",
     "text": [
      "2024-03-14 22:02:14.136682: I tensorflow/core/grappler/optimizers/custom_graph_optimizer_registry.cc:114] Plugin optimizer for device_type GPU is enabled.\n",
      "2024-03-14 22:02:16.699959: I tensorflow/core/grappler/optimizers/custom_graph_optimizer_registry.cc:114] Plugin optimizer for device_type GPU is enabled.\n",
      "/Library/Frameworks/Python.framework/Versions/3.11/lib/python3.11/site-packages/keras/src/engine/training.py:3000: UserWarning: You are saving your model as an HDF5 file via `model.save()`. This file format is considered legacy. We recommend using instead the native Keras format, e.g. `model.save('my_model.keras')`.\n",
      "  saving_api.save_model(\n"
     ]
    },
    {
     "name": "stdout",
     "output_type": "stream",
     "text": [
      "Epoch 29: early stopping\n",
      "Validation MAE : 57295056.0\n",
      "Validation MSE : 5879.0927734375\n",
      "Training with parameters: {'batch_size': 16, 'dropout_rate': 0.2, 'hidden_layers': 2, 'hidden_units': 32, 'learning_rate': 0.001}\n"
     ]
    },
    {
     "name": "stderr",
     "output_type": "stream",
     "text": [
      "2024-03-14 22:02:34.804165: I tensorflow/core/grappler/optimizers/custom_graph_optimizer_registry.cc:114] Plugin optimizer for device_type GPU is enabled.\n",
      "2024-03-14 22:02:37.633989: I tensorflow/core/grappler/optimizers/custom_graph_optimizer_registry.cc:114] Plugin optimizer for device_type GPU is enabled.\n",
      "/Library/Frameworks/Python.framework/Versions/3.11/lib/python3.11/site-packages/keras/src/engine/training.py:3000: UserWarning: You are saving your model as an HDF5 file via `model.save()`. This file format is considered legacy. We recommend using instead the native Keras format, e.g. `model.save('my_model.keras')`.\n",
      "  saving_api.save_model(\n"
     ]
    },
    {
     "name": "stdout",
     "output_type": "stream",
     "text": [
      "Epoch 114: early stopping\n",
      "Validation MAE : 110081.40625\n",
      "Validation MSE : 230.15170288085938\n",
      "Training with parameters: {'batch_size': 16, 'dropout_rate': 0.2, 'hidden_layers': 2, 'hidden_units': 32, 'learning_rate': 0.01}\n"
     ]
    },
    {
     "name": "stderr",
     "output_type": "stream",
     "text": [
      "2024-03-14 22:03:44.779253: I tensorflow/core/grappler/optimizers/custom_graph_optimizer_registry.cc:114] Plugin optimizer for device_type GPU is enabled.\n",
      "2024-03-14 22:03:47.932674: I tensorflow/core/grappler/optimizers/custom_graph_optimizer_registry.cc:114] Plugin optimizer for device_type GPU is enabled.\n",
      "/Library/Frameworks/Python.framework/Versions/3.11/lib/python3.11/site-packages/keras/src/engine/training.py:3000: UserWarning: You are saving your model as an HDF5 file via `model.save()`. This file format is considered legacy. We recommend using instead the native Keras format, e.g. `model.save('my_model.keras')`.\n",
      "  saving_api.save_model(\n"
     ]
    },
    {
     "name": "stdout",
     "output_type": "stream",
     "text": [
      "Epoch 44: early stopping\n",
      "Validation MAE : 11332.6064453125\n",
      "Validation MSE : 62.484100341796875\n",
      "Training with parameters: {'batch_size': 16, 'dropout_rate': 0.2, 'hidden_layers': 2, 'hidden_units': 32, 'learning_rate': 0.1}\n"
     ]
    },
    {
     "name": "stderr",
     "output_type": "stream",
     "text": [
      "2024-03-14 22:04:14.738762: I tensorflow/core/grappler/optimizers/custom_graph_optimizer_registry.cc:114] Plugin optimizer for device_type GPU is enabled.\n",
      "2024-03-14 22:04:17.846928: I tensorflow/core/grappler/optimizers/custom_graph_optimizer_registry.cc:114] Plugin optimizer for device_type GPU is enabled.\n",
      "/Library/Frameworks/Python.framework/Versions/3.11/lib/python3.11/site-packages/keras/src/engine/training.py:3000: UserWarning: You are saving your model as an HDF5 file via `model.save()`. This file format is considered legacy. We recommend using instead the native Keras format, e.g. `model.save('my_model.keras')`.\n",
      "  saving_api.save_model(\n"
     ]
    },
    {
     "name": "stdout",
     "output_type": "stream",
     "text": [
      "Epoch 30: early stopping\n",
      "Validation MAE : 501878.46875\n",
      "Validation MSE : 547.611572265625\n",
      "Training with parameters: {'batch_size': 16, 'dropout_rate': 0.2, 'hidden_layers': 3, 'hidden_units': 128, 'learning_rate': 0.001}\n"
     ]
    },
    {
     "name": "stderr",
     "output_type": "stream",
     "text": [
      "2024-03-14 22:04:36.613282: I tensorflow/core/grappler/optimizers/custom_graph_optimizer_registry.cc:114] Plugin optimizer for device_type GPU is enabled.\n",
      "2024-03-14 22:04:40.524525: I tensorflow/core/grappler/optimizers/custom_graph_optimizer_registry.cc:114] Plugin optimizer for device_type GPU is enabled.\n",
      "/Library/Frameworks/Python.framework/Versions/3.11/lib/python3.11/site-packages/keras/src/engine/training.py:3000: UserWarning: You are saving your model as an HDF5 file via `model.save()`. This file format is considered legacy. We recommend using instead the native Keras format, e.g. `model.save('my_model.keras')`.\n",
      "  saving_api.save_model(\n"
     ]
    },
    {
     "name": "stdout",
     "output_type": "stream",
     "text": [
      "Epoch 21: early stopping\n",
      "Validation MAE : 466039296.0\n",
      "Validation MSE : 15151.3916015625\n",
      "Training with parameters: {'batch_size': 16, 'dropout_rate': 0.2, 'hidden_layers': 3, 'hidden_units': 128, 'learning_rate': 0.01}\n"
     ]
    },
    {
     "name": "stderr",
     "output_type": "stream",
     "text": [
      "2024-03-14 22:04:55.991227: I tensorflow/core/grappler/optimizers/custom_graph_optimizer_registry.cc:114] Plugin optimizer for device_type GPU is enabled.\n",
      "2024-03-14 22:04:59.742549: I tensorflow/core/grappler/optimizers/custom_graph_optimizer_registry.cc:114] Plugin optimizer for device_type GPU is enabled.\n",
      "/Library/Frameworks/Python.framework/Versions/3.11/lib/python3.11/site-packages/keras/src/engine/training.py:3000: UserWarning: You are saving your model as an HDF5 file via `model.save()`. This file format is considered legacy. We recommend using instead the native Keras format, e.g. `model.save('my_model.keras')`.\n",
      "  saving_api.save_model(\n"
     ]
    },
    {
     "name": "stdout",
     "output_type": "stream",
     "text": [
      "Epoch 28: early stopping\n",
      "Validation MAE : 23587812.0\n",
      "Validation MSE : 3227.48876953125\n",
      "Training with parameters: {'batch_size': 16, 'dropout_rate': 0.2, 'hidden_layers': 3, 'hidden_units': 128, 'learning_rate': 0.1}\n"
     ]
    },
    {
     "name": "stderr",
     "output_type": "stream",
     "text": [
      "2024-03-14 22:05:20.128226: I tensorflow/core/grappler/optimizers/custom_graph_optimizer_registry.cc:114] Plugin optimizer for device_type GPU is enabled.\n",
      "2024-03-14 22:05:23.723227: I tensorflow/core/grappler/optimizers/custom_graph_optimizer_registry.cc:114] Plugin optimizer for device_type GPU is enabled.\n",
      "/Library/Frameworks/Python.framework/Versions/3.11/lib/python3.11/site-packages/keras/src/engine/training.py:3000: UserWarning: You are saving your model as an HDF5 file via `model.save()`. This file format is considered legacy. We recommend using instead the native Keras format, e.g. `model.save('my_model.keras')`.\n",
      "  saving_api.save_model(\n"
     ]
    },
    {
     "name": "stdout",
     "output_type": "stream",
     "text": [
      "Epoch 21: early stopping\n",
      "Validation MAE : 4623315763200.0\n",
      "Validation MSE : 1631239.25\n",
      "Training with parameters: {'batch_size': 16, 'dropout_rate': 0.2, 'hidden_layers': 3, 'hidden_units': 64, 'learning_rate': 0.001}\n"
     ]
    },
    {
     "name": "stderr",
     "output_type": "stream",
     "text": [
      "2024-03-14 22:05:39.555157: I tensorflow/core/grappler/optimizers/custom_graph_optimizer_registry.cc:114] Plugin optimizer for device_type GPU is enabled.\n",
      "2024-03-14 22:05:43.090764: I tensorflow/core/grappler/optimizers/custom_graph_optimizer_registry.cc:114] Plugin optimizer for device_type GPU is enabled.\n",
      "/Library/Frameworks/Python.framework/Versions/3.11/lib/python3.11/site-packages/keras/src/engine/training.py:3000: UserWarning: You are saving your model as an HDF5 file via `model.save()`. This file format is considered legacy. We recommend using instead the native Keras format, e.g. `model.save('my_model.keras')`.\n",
      "  saving_api.save_model(\n"
     ]
    },
    {
     "name": "stdout",
     "output_type": "stream",
     "text": [
      "Epoch 23: early stopping\n",
      "Validation MAE : 5520473.5\n",
      "Validation MSE : 1595.4510498046875\n",
      "Training with parameters: {'batch_size': 16, 'dropout_rate': 0.2, 'hidden_layers': 3, 'hidden_units': 64, 'learning_rate': 0.01}\n"
     ]
    },
    {
     "name": "stderr",
     "output_type": "stream",
     "text": [
      "2024-03-14 22:06:00.197807: I tensorflow/core/grappler/optimizers/custom_graph_optimizer_registry.cc:114] Plugin optimizer for device_type GPU is enabled.\n",
      "2024-03-14 22:06:03.674962: I tensorflow/core/grappler/optimizers/custom_graph_optimizer_registry.cc:114] Plugin optimizer for device_type GPU is enabled.\n",
      "/Library/Frameworks/Python.framework/Versions/3.11/lib/python3.11/site-packages/keras/src/engine/training.py:3000: UserWarning: You are saving your model as an HDF5 file via `model.save()`. This file format is considered legacy. We recommend using instead the native Keras format, e.g. `model.save('my_model.keras')`.\n",
      "  saving_api.save_model(\n"
     ]
    },
    {
     "name": "stdout",
     "output_type": "stream",
     "text": [
      "Epoch 50: early stopping\n",
      "Validation MAE : 698636.875\n",
      "Validation MSE : 566.556884765625\n",
      "Training with parameters: {'batch_size': 16, 'dropout_rate': 0.2, 'hidden_layers': 3, 'hidden_units': 64, 'learning_rate': 0.1}\n"
     ]
    },
    {
     "name": "stderr",
     "output_type": "stream",
     "text": [
      "2024-03-14 22:06:38.876610: I tensorflow/core/grappler/optimizers/custom_graph_optimizer_registry.cc:114] Plugin optimizer for device_type GPU is enabled.\n",
      "2024-03-14 22:06:42.940278: I tensorflow/core/grappler/optimizers/custom_graph_optimizer_registry.cc:114] Plugin optimizer for device_type GPU is enabled.\n",
      "/Library/Frameworks/Python.framework/Versions/3.11/lib/python3.11/site-packages/keras/src/engine/training.py:3000: UserWarning: You are saving your model as an HDF5 file via `model.save()`. This file format is considered legacy. We recommend using instead the native Keras format, e.g. `model.save('my_model.keras')`.\n",
      "  saving_api.save_model(\n"
     ]
    },
    {
     "name": "stdout",
     "output_type": "stream",
     "text": [
      "Epoch 21: early stopping\n",
      "Validation MAE : 327554531328.0\n",
      "Validation MSE : 509447.84375\n",
      "Training with parameters: {'batch_size': 16, 'dropout_rate': 0.2, 'hidden_layers': 3, 'hidden_units': 32, 'learning_rate': 0.001}\n"
     ]
    },
    {
     "name": "stderr",
     "output_type": "stream",
     "text": [
      "2024-03-14 22:06:58.545586: I tensorflow/core/grappler/optimizers/custom_graph_optimizer_registry.cc:114] Plugin optimizer for device_type GPU is enabled.\n",
      "2024-03-14 22:07:02.373335: I tensorflow/core/grappler/optimizers/custom_graph_optimizer_registry.cc:114] Plugin optimizer for device_type GPU is enabled.\n",
      "/Library/Frameworks/Python.framework/Versions/3.11/lib/python3.11/site-packages/keras/src/engine/training.py:3000: UserWarning: You are saving your model as an HDF5 file via `model.save()`. This file format is considered legacy. We recommend using instead the native Keras format, e.g. `model.save('my_model.keras')`.\n",
      "  saving_api.save_model(\n"
     ]
    },
    {
     "name": "stdout",
     "output_type": "stream",
     "text": [
      "Epoch 23: early stopping\n",
      "Validation MAE : 3460869.5\n",
      "Validation MSE : 1114.23681640625\n",
      "Training with parameters: {'batch_size': 16, 'dropout_rate': 0.2, 'hidden_layers': 3, 'hidden_units': 32, 'learning_rate': 0.01}\n"
     ]
    },
    {
     "name": "stderr",
     "output_type": "stream",
     "text": [
      "2024-03-14 22:07:19.729321: I tensorflow/core/grappler/optimizers/custom_graph_optimizer_registry.cc:114] Plugin optimizer for device_type GPU is enabled.\n",
      "2024-03-14 22:07:23.845111: I tensorflow/core/grappler/optimizers/custom_graph_optimizer_registry.cc:114] Plugin optimizer for device_type GPU is enabled.\n",
      "/Library/Frameworks/Python.framework/Versions/3.11/lib/python3.11/site-packages/keras/src/engine/training.py:3000: UserWarning: You are saving your model as an HDF5 file via `model.save()`. This file format is considered legacy. We recommend using instead the native Keras format, e.g. `model.save('my_model.keras')`.\n",
      "  saving_api.save_model(\n"
     ]
    },
    {
     "name": "stdout",
     "output_type": "stream",
     "text": [
      "Epoch 21: early stopping\n",
      "Validation MAE : 1638856.625\n",
      "Validation MSE : 896.7500610351562\n",
      "Training with parameters: {'batch_size': 16, 'dropout_rate': 0.2, 'hidden_layers': 3, 'hidden_units': 32, 'learning_rate': 0.1}\n"
     ]
    },
    {
     "name": "stderr",
     "output_type": "stream",
     "text": [
      "2024-03-14 22:07:38.789006: I tensorflow/core/grappler/optimizers/custom_graph_optimizer_registry.cc:114] Plugin optimizer for device_type GPU is enabled.\n",
      "2024-03-14 22:07:42.767657: I tensorflow/core/grappler/optimizers/custom_graph_optimizer_registry.cc:114] Plugin optimizer for device_type GPU is enabled.\n",
      "/Library/Frameworks/Python.framework/Versions/3.11/lib/python3.11/site-packages/keras/src/engine/training.py:3000: UserWarning: You are saving your model as an HDF5 file via `model.save()`. This file format is considered legacy. We recommend using instead the native Keras format, e.g. `model.save('my_model.keras')`.\n",
      "  saving_api.save_model(\n"
     ]
    },
    {
     "name": "stdout",
     "output_type": "stream",
     "text": [
      "Epoch 25: early stopping\n",
      "Validation MAE : 12489234432.0\n",
      "Validation MSE : 85056.109375\n",
      "Training with parameters: {'batch_size': 16, 'dropout_rate': 0.3, 'hidden_layers': 1, 'hidden_units': 128, 'learning_rate': 0.001}\n"
     ]
    },
    {
     "name": "stderr",
     "output_type": "stream",
     "text": [
      "2024-03-14 22:07:59.476203: I tensorflow/core/grappler/optimizers/custom_graph_optimizer_registry.cc:114] Plugin optimizer for device_type GPU is enabled.\n",
      "2024-03-14 22:08:02.269103: I tensorflow/core/grappler/optimizers/custom_graph_optimizer_registry.cc:114] Plugin optimizer for device_type GPU is enabled.\n",
      "/Library/Frameworks/Python.framework/Versions/3.11/lib/python3.11/site-packages/keras/src/engine/training.py:3000: UserWarning: You are saving your model as an HDF5 file via `model.save()`. This file format is considered legacy. We recommend using instead the native Keras format, e.g. `model.save('my_model.keras')`.\n",
      "  saving_api.save_model(\n"
     ]
    },
    {
     "name": "stdout",
     "output_type": "stream",
     "text": [
      "Epoch 113: early stopping\n",
      "Validation MAE : 7272.6484375\n",
      "Validation MSE : 63.92826461791992\n",
      "Training with parameters: {'batch_size': 16, 'dropout_rate': 0.3, 'hidden_layers': 1, 'hidden_units': 128, 'learning_rate': 0.01}\n"
     ]
    },
    {
     "name": "stderr",
     "output_type": "stream",
     "text": [
      "2024-03-14 22:08:55.612052: I tensorflow/core/grappler/optimizers/custom_graph_optimizer_registry.cc:114] Plugin optimizer for device_type GPU is enabled.\n",
      "2024-03-14 22:08:58.512772: I tensorflow/core/grappler/optimizers/custom_graph_optimizer_registry.cc:114] Plugin optimizer for device_type GPU is enabled.\n",
      "/Library/Frameworks/Python.framework/Versions/3.11/lib/python3.11/site-packages/keras/src/engine/training.py:3000: UserWarning: You are saving your model as an HDF5 file via `model.save()`. This file format is considered legacy. We recommend using instead the native Keras format, e.g. `model.save('my_model.keras')`.\n",
      "  saving_api.save_model(\n"
     ]
    },
    {
     "name": "stdout",
     "output_type": "stream",
     "text": [
      "Epoch 26: early stopping\n",
      "Validation MAE : 650.9137573242188\n",
      "Validation MSE : 17.792903900146484\n",
      "Training with parameters: {'batch_size': 16, 'dropout_rate': 0.3, 'hidden_layers': 1, 'hidden_units': 128, 'learning_rate': 0.1}\n"
     ]
    },
    {
     "name": "stderr",
     "output_type": "stream",
     "text": [
      "2024-03-14 22:09:13.731916: I tensorflow/core/grappler/optimizers/custom_graph_optimizer_registry.cc:114] Plugin optimizer for device_type GPU is enabled.\n",
      "2024-03-14 22:09:16.526536: I tensorflow/core/grappler/optimizers/custom_graph_optimizer_registry.cc:114] Plugin optimizer for device_type GPU is enabled.\n",
      "/Library/Frameworks/Python.framework/Versions/3.11/lib/python3.11/site-packages/keras/src/engine/training.py:3000: UserWarning: You are saving your model as an HDF5 file via `model.save()`. This file format is considered legacy. We recommend using instead the native Keras format, e.g. `model.save('my_model.keras')`.\n",
      "  saving_api.save_model(\n"
     ]
    },
    {
     "name": "stdout",
     "output_type": "stream",
     "text": [
      "Epoch 30: early stopping\n",
      "Validation MAE : 382.63140869140625\n",
      "Validation MSE : 16.86034393310547\n",
      "Training with parameters: {'batch_size': 16, 'dropout_rate': 0.3, 'hidden_layers': 1, 'hidden_units': 64, 'learning_rate': 0.001}\n"
     ]
    },
    {
     "name": "stderr",
     "output_type": "stream",
     "text": [
      "2024-03-14 22:09:33.046050: I tensorflow/core/grappler/optimizers/custom_graph_optimizer_registry.cc:114] Plugin optimizer for device_type GPU is enabled.\n",
      "2024-03-14 22:09:35.795426: I tensorflow/core/grappler/optimizers/custom_graph_optimizer_registry.cc:114] Plugin optimizer for device_type GPU is enabled.\n",
      "/Library/Frameworks/Python.framework/Versions/3.11/lib/python3.11/site-packages/keras/src/engine/training.py:3000: UserWarning: You are saving your model as an HDF5 file via `model.save()`. This file format is considered legacy. We recommend using instead the native Keras format, e.g. `model.save('my_model.keras')`.\n",
      "  saving_api.save_model(\n"
     ]
    },
    {
     "name": "stdout",
     "output_type": "stream",
     "text": [
      "Epoch 195: early stopping\n",
      "Validation MAE : 8585.4150390625\n",
      "Validation MSE : 61.4624137878418\n",
      "Training with parameters: {'batch_size': 16, 'dropout_rate': 0.3, 'hidden_layers': 1, 'hidden_units': 64, 'learning_rate': 0.01}\n"
     ]
    },
    {
     "name": "stderr",
     "output_type": "stream",
     "text": [
      "2024-03-14 22:11:07.434586: I tensorflow/core/grappler/optimizers/custom_graph_optimizer_registry.cc:114] Plugin optimizer for device_type GPU is enabled.\n",
      "2024-03-14 22:11:10.103162: I tensorflow/core/grappler/optimizers/custom_graph_optimizer_registry.cc:114] Plugin optimizer for device_type GPU is enabled.\n",
      "/Library/Frameworks/Python.framework/Versions/3.11/lib/python3.11/site-packages/keras/src/engine/training.py:3000: UserWarning: You are saving your model as an HDF5 file via `model.save()`. This file format is considered legacy. We recommend using instead the native Keras format, e.g. `model.save('my_model.keras')`.\n",
      "  saving_api.save_model(\n"
     ]
    },
    {
     "name": "stdout",
     "output_type": "stream",
     "text": [
      "Epoch 61: early stopping\n",
      "Validation MAE : 3958.439208984375\n",
      "Validation MSE : 42.90119934082031\n",
      "Training with parameters: {'batch_size': 16, 'dropout_rate': 0.3, 'hidden_layers': 1, 'hidden_units': 64, 'learning_rate': 0.1}\n"
     ]
    },
    {
     "name": "stderr",
     "output_type": "stream",
     "text": [
      "2024-03-14 22:11:40.363824: I tensorflow/core/grappler/optimizers/custom_graph_optimizer_registry.cc:114] Plugin optimizer for device_type GPU is enabled.\n",
      "2024-03-14 22:11:43.058186: I tensorflow/core/grappler/optimizers/custom_graph_optimizer_registry.cc:114] Plugin optimizer for device_type GPU is enabled.\n",
      "/Library/Frameworks/Python.framework/Versions/3.11/lib/python3.11/site-packages/keras/src/engine/training.py:3000: UserWarning: You are saving your model as an HDF5 file via `model.save()`. This file format is considered legacy. We recommend using instead the native Keras format, e.g. `model.save('my_model.keras')`.\n",
      "  saving_api.save_model(\n"
     ]
    },
    {
     "name": "stdout",
     "output_type": "stream",
     "text": [
      "Epoch 33: early stopping\n",
      "Validation MAE : 1313.788330078125\n",
      "Validation MSE : 22.47854995727539\n",
      "Training with parameters: {'batch_size': 16, 'dropout_rate': 0.3, 'hidden_layers': 1, 'hidden_units': 32, 'learning_rate': 0.001}\n"
     ]
    },
    {
     "name": "stderr",
     "output_type": "stream",
     "text": [
      "2024-03-14 22:11:59.792943: I tensorflow/core/grappler/optimizers/custom_graph_optimizer_registry.cc:114] Plugin optimizer for device_type GPU is enabled.\n",
      "2024-03-14 22:12:02.533372: I tensorflow/core/grappler/optimizers/custom_graph_optimizer_registry.cc:114] Plugin optimizer for device_type GPU is enabled.\n",
      "/Library/Frameworks/Python.framework/Versions/3.11/lib/python3.11/site-packages/keras/src/engine/training.py:3000: UserWarning: You are saving your model as an HDF5 file via `model.save()`. This file format is considered legacy. We recommend using instead the native Keras format, e.g. `model.save('my_model.keras')`.\n",
      "  saving_api.save_model(\n"
     ]
    },
    {
     "name": "stdout",
     "output_type": "stream",
     "text": [
      "Epoch 137: early stopping\n",
      "Validation MAE : 2228.482177734375\n",
      "Validation MSE : 26.826400756835938\n",
      "Training with parameters: {'batch_size': 16, 'dropout_rate': 0.3, 'hidden_layers': 1, 'hidden_units': 32, 'learning_rate': 0.01}\n"
     ]
    },
    {
     "name": "stderr",
     "output_type": "stream",
     "text": [
      "2024-03-14 22:13:06.519942: I tensorflow/core/grappler/optimizers/custom_graph_optimizer_registry.cc:114] Plugin optimizer for device_type GPU is enabled.\n",
      "2024-03-14 22:13:09.257638: I tensorflow/core/grappler/optimizers/custom_graph_optimizer_registry.cc:114] Plugin optimizer for device_type GPU is enabled.\n",
      "/Library/Frameworks/Python.framework/Versions/3.11/lib/python3.11/site-packages/keras/src/engine/training.py:3000: UserWarning: You are saving your model as an HDF5 file via `model.save()`. This file format is considered legacy. We recommend using instead the native Keras format, e.g. `model.save('my_model.keras')`.\n",
      "  saving_api.save_model(\n"
     ]
    },
    {
     "name": "stdout",
     "output_type": "stream",
     "text": [
      "Epoch 110: early stopping\n",
      "Validation MAE : 19877.271484375\n",
      "Validation MSE : 65.26052856445312\n",
      "Training with parameters: {'batch_size': 16, 'dropout_rate': 0.3, 'hidden_layers': 1, 'hidden_units': 32, 'learning_rate': 0.1}\n"
     ]
    },
    {
     "name": "stderr",
     "output_type": "stream",
     "text": [
      "2024-03-14 22:14:00.715327: I tensorflow/core/grappler/optimizers/custom_graph_optimizer_registry.cc:114] Plugin optimizer for device_type GPU is enabled.\n",
      "2024-03-14 22:14:03.643894: I tensorflow/core/grappler/optimizers/custom_graph_optimizer_registry.cc:114] Plugin optimizer for device_type GPU is enabled.\n",
      "/Library/Frameworks/Python.framework/Versions/3.11/lib/python3.11/site-packages/keras/src/engine/training.py:3000: UserWarning: You are saving your model as an HDF5 file via `model.save()`. This file format is considered legacy. We recommend using instead the native Keras format, e.g. `model.save('my_model.keras')`.\n",
      "  saving_api.save_model(\n"
     ]
    },
    {
     "name": "stdout",
     "output_type": "stream",
     "text": [
      "Epoch 42: early stopping\n",
      "Validation MAE : 605.98974609375\n",
      "Validation MSE : 17.940214157104492\n",
      "Training with parameters: {'batch_size': 16, 'dropout_rate': 0.3, 'hidden_layers': 2, 'hidden_units': 128, 'learning_rate': 0.001}\n"
     ]
    },
    {
     "name": "stderr",
     "output_type": "stream",
     "text": [
      "2024-03-14 22:14:24.619968: I tensorflow/core/grappler/optimizers/custom_graph_optimizer_registry.cc:114] Plugin optimizer for device_type GPU is enabled.\n",
      "2024-03-14 22:14:28.165712: I tensorflow/core/grappler/optimizers/custom_graph_optimizer_registry.cc:114] Plugin optimizer for device_type GPU is enabled.\n",
      "/Library/Frameworks/Python.framework/Versions/3.11/lib/python3.11/site-packages/keras/src/engine/training.py:3000: UserWarning: You are saving your model as an HDF5 file via `model.save()`. This file format is considered legacy. We recommend using instead the native Keras format, e.g. `model.save('my_model.keras')`.\n",
      "  saving_api.save_model(\n"
     ]
    },
    {
     "name": "stdout",
     "output_type": "stream",
     "text": [
      "Epoch 38: early stopping\n",
      "Validation MAE : 241701.03125\n",
      "Validation MSE : 323.1689453125\n",
      "Training with parameters: {'batch_size': 16, 'dropout_rate': 0.3, 'hidden_layers': 2, 'hidden_units': 128, 'learning_rate': 0.01}\n"
     ]
    },
    {
     "name": "stderr",
     "output_type": "stream",
     "text": [
      "2024-03-14 22:14:49.475270: I tensorflow/core/grappler/optimizers/custom_graph_optimizer_registry.cc:114] Plugin optimizer for device_type GPU is enabled.\n",
      "2024-03-14 22:14:52.800686: I tensorflow/core/grappler/optimizers/custom_graph_optimizer_registry.cc:114] Plugin optimizer for device_type GPU is enabled.\n",
      "/Library/Frameworks/Python.framework/Versions/3.11/lib/python3.11/site-packages/keras/src/engine/training.py:3000: UserWarning: You are saving your model as an HDF5 file via `model.save()`. This file format is considered legacy. We recommend using instead the native Keras format, e.g. `model.save('my_model.keras')`.\n",
      "  saving_api.save_model(\n"
     ]
    },
    {
     "name": "stdout",
     "output_type": "stream",
     "text": [
      "Epoch 32: early stopping\n",
      "Validation MAE : 89725.6171875\n",
      "Validation MSE : 201.9459686279297\n",
      "Training with parameters: {'batch_size': 16, 'dropout_rate': 0.3, 'hidden_layers': 2, 'hidden_units': 128, 'learning_rate': 0.1}\n"
     ]
    },
    {
     "name": "stderr",
     "output_type": "stream",
     "text": [
      "2024-03-14 22:15:11.098802: I tensorflow/core/grappler/optimizers/custom_graph_optimizer_registry.cc:114] Plugin optimizer for device_type GPU is enabled.\n",
      "2024-03-14 22:15:14.549420: I tensorflow/core/grappler/optimizers/custom_graph_optimizer_registry.cc:114] Plugin optimizer for device_type GPU is enabled.\n",
      "/Library/Frameworks/Python.framework/Versions/3.11/lib/python3.11/site-packages/keras/src/engine/training.py:3000: UserWarning: You are saving your model as an HDF5 file via `model.save()`. This file format is considered legacy. We recommend using instead the native Keras format, e.g. `model.save('my_model.keras')`.\n",
      "  saving_api.save_model(\n"
     ]
    },
    {
     "name": "stdout",
     "output_type": "stream",
     "text": [
      "Epoch 21: early stopping\n",
      "Validation MAE : 2377081856.0\n",
      "Validation MSE : 38130.35546875\n",
      "Training with parameters: {'batch_size': 16, 'dropout_rate': 0.3, 'hidden_layers': 2, 'hidden_units': 64, 'learning_rate': 0.001}\n"
     ]
    },
    {
     "name": "stderr",
     "output_type": "stream",
     "text": [
      "2024-03-14 22:15:27.147643: I tensorflow/core/grappler/optimizers/custom_graph_optimizer_registry.cc:114] Plugin optimizer for device_type GPU is enabled.\n",
      "2024-03-14 22:15:30.759074: I tensorflow/core/grappler/optimizers/custom_graph_optimizer_registry.cc:114] Plugin optimizer for device_type GPU is enabled.\n",
      "/Library/Frameworks/Python.framework/Versions/3.11/lib/python3.11/site-packages/keras/src/engine/training.py:3000: UserWarning: You are saving your model as an HDF5 file via `model.save()`. This file format is considered legacy. We recommend using instead the native Keras format, e.g. `model.save('my_model.keras')`.\n",
      "  saving_api.save_model(\n"
     ]
    },
    {
     "name": "stdout",
     "output_type": "stream",
     "text": [
      "Epoch 37: early stopping\n",
      "Validation MAE : 861206.8125\n",
      "Validation MSE : 628.0266723632812\n",
      "Training with parameters: {'batch_size': 16, 'dropout_rate': 0.3, 'hidden_layers': 2, 'hidden_units': 64, 'learning_rate': 0.01}\n"
     ]
    },
    {
     "name": "stderr",
     "output_type": "stream",
     "text": [
      "2024-03-14 22:15:51.493652: I tensorflow/core/grappler/optimizers/custom_graph_optimizer_registry.cc:114] Plugin optimizer for device_type GPU is enabled.\n",
      "2024-03-14 22:15:55.266997: I tensorflow/core/grappler/optimizers/custom_graph_optimizer_registry.cc:114] Plugin optimizer for device_type GPU is enabled.\n",
      "/Library/Frameworks/Python.framework/Versions/3.11/lib/python3.11/site-packages/keras/src/engine/training.py:3000: UserWarning: You are saving your model as an HDF5 file via `model.save()`. This file format is considered legacy. We recommend using instead the native Keras format, e.g. `model.save('my_model.keras')`.\n",
      "  saving_api.save_model(\n"
     ]
    },
    {
     "name": "stdout",
     "output_type": "stream",
     "text": [
      "Epoch 58: early stopping\n",
      "Validation MAE : 333046.9375\n",
      "Validation MSE : 369.0177917480469\n",
      "Training with parameters: {'batch_size': 16, 'dropout_rate': 0.3, 'hidden_layers': 2, 'hidden_units': 64, 'learning_rate': 0.1}\n"
     ]
    },
    {
     "name": "stderr",
     "output_type": "stream",
     "text": [
      "2024-03-14 22:16:26.501300: I tensorflow/core/grappler/optimizers/custom_graph_optimizer_registry.cc:114] Plugin optimizer for device_type GPU is enabled.\n",
      "2024-03-14 22:16:30.119903: I tensorflow/core/grappler/optimizers/custom_graph_optimizer_registry.cc:114] Plugin optimizer for device_type GPU is enabled.\n",
      "/Library/Frameworks/Python.framework/Versions/3.11/lib/python3.11/site-packages/keras/src/engine/training.py:3000: UserWarning: You are saving your model as an HDF5 file via `model.save()`. This file format is considered legacy. We recommend using instead the native Keras format, e.g. `model.save('my_model.keras')`.\n",
      "  saving_api.save_model(\n"
     ]
    },
    {
     "name": "stdout",
     "output_type": "stream",
     "text": [
      "Epoch 25: early stopping\n",
      "Validation MAE : 537162240.0\n",
      "Validation MSE : 17268.72265625\n",
      "Training with parameters: {'batch_size': 16, 'dropout_rate': 0.3, 'hidden_layers': 2, 'hidden_units': 32, 'learning_rate': 0.001}\n"
     ]
    },
    {
     "name": "stderr",
     "output_type": "stream",
     "text": [
      "2024-03-14 22:16:44.628485: I tensorflow/core/grappler/optimizers/custom_graph_optimizer_registry.cc:114] Plugin optimizer for device_type GPU is enabled.\n",
      "2024-03-14 22:16:48.158465: I tensorflow/core/grappler/optimizers/custom_graph_optimizer_registry.cc:114] Plugin optimizer for device_type GPU is enabled.\n",
      "/Library/Frameworks/Python.framework/Versions/3.11/lib/python3.11/site-packages/keras/src/engine/training.py:3000: UserWarning: You are saving your model as an HDF5 file via `model.save()`. This file format is considered legacy. We recommend using instead the native Keras format, e.g. `model.save('my_model.keras')`.\n",
      "  saving_api.save_model(\n"
     ]
    },
    {
     "name": "stdout",
     "output_type": "stream",
     "text": [
      "Epoch 74: early stopping\n",
      "Validation MAE : 144711.375\n",
      "Validation MSE : 272.1882629394531\n",
      "Training with parameters: {'batch_size': 16, 'dropout_rate': 0.3, 'hidden_layers': 2, 'hidden_units': 32, 'learning_rate': 0.01}\n"
     ]
    },
    {
     "name": "stderr",
     "output_type": "stream",
     "text": [
      "2024-03-14 22:17:27.584452: I tensorflow/core/grappler/optimizers/custom_graph_optimizer_registry.cc:114] Plugin optimizer for device_type GPU is enabled.\n",
      "2024-03-14 22:17:31.100287: I tensorflow/core/grappler/optimizers/custom_graph_optimizer_registry.cc:114] Plugin optimizer for device_type GPU is enabled.\n",
      "/Library/Frameworks/Python.framework/Versions/3.11/lib/python3.11/site-packages/keras/src/engine/training.py:3000: UserWarning: You are saving your model as an HDF5 file via `model.save()`. This file format is considered legacy. We recommend using instead the native Keras format, e.g. `model.save('my_model.keras')`.\n",
      "  saving_api.save_model(\n"
     ]
    },
    {
     "name": "stdout",
     "output_type": "stream",
     "text": [
      "Epoch 38: early stopping\n",
      "Validation MAE : 118708.203125\n",
      "Validation MSE : 219.05613708496094\n",
      "Training with parameters: {'batch_size': 16, 'dropout_rate': 0.3, 'hidden_layers': 2, 'hidden_units': 32, 'learning_rate': 0.1}\n"
     ]
    },
    {
     "name": "stderr",
     "output_type": "stream",
     "text": [
      "2024-03-14 22:17:52.380563: I tensorflow/core/grappler/optimizers/custom_graph_optimizer_registry.cc:114] Plugin optimizer for device_type GPU is enabled.\n",
      "2024-03-14 22:17:55.816680: I tensorflow/core/grappler/optimizers/custom_graph_optimizer_registry.cc:114] Plugin optimizer for device_type GPU is enabled.\n",
      "/Library/Frameworks/Python.framework/Versions/3.11/lib/python3.11/site-packages/keras/src/engine/training.py:3000: UserWarning: You are saving your model as an HDF5 file via `model.save()`. This file format is considered legacy. We recommend using instead the native Keras format, e.g. `model.save('my_model.keras')`.\n",
      "  saving_api.save_model(\n"
     ]
    },
    {
     "name": "stdout",
     "output_type": "stream",
     "text": [
      "Epoch 38: early stopping\n",
      "Validation MAE : 5845.2548828125\n",
      "Validation MSE : 63.020328521728516\n",
      "Training with parameters: {'batch_size': 16, 'dropout_rate': 0.3, 'hidden_layers': 3, 'hidden_units': 128, 'learning_rate': 0.001}\n"
     ]
    },
    {
     "name": "stderr",
     "output_type": "stream",
     "text": [
      "2024-03-14 22:18:17.437642: I tensorflow/core/grappler/optimizers/custom_graph_optimizer_registry.cc:114] Plugin optimizer for device_type GPU is enabled.\n",
      "2024-03-14 22:18:21.522035: I tensorflow/core/grappler/optimizers/custom_graph_optimizer_registry.cc:114] Plugin optimizer for device_type GPU is enabled.\n",
      "/Library/Frameworks/Python.framework/Versions/3.11/lib/python3.11/site-packages/keras/src/engine/training.py:3000: UserWarning: You are saving your model as an HDF5 file via `model.save()`. This file format is considered legacy. We recommend using instead the native Keras format, e.g. `model.save('my_model.keras')`.\n",
      "  saving_api.save_model(\n"
     ]
    },
    {
     "name": "stdout",
     "output_type": "stream",
     "text": [
      "Epoch 22: early stopping\n",
      "Validation MAE : 187295920.0\n",
      "Validation MSE : 9005.21875\n",
      "Training with parameters: {'batch_size': 16, 'dropout_rate': 0.3, 'hidden_layers': 3, 'hidden_units': 128, 'learning_rate': 0.01}\n"
     ]
    },
    {
     "name": "stderr",
     "output_type": "stream",
     "text": [
      "2024-03-14 22:18:38.245645: I tensorflow/core/grappler/optimizers/custom_graph_optimizer_registry.cc:114] Plugin optimizer for device_type GPU is enabled.\n",
      "2024-03-14 22:18:42.390250: I tensorflow/core/grappler/optimizers/custom_graph_optimizer_registry.cc:114] Plugin optimizer for device_type GPU is enabled.\n",
      "/Library/Frameworks/Python.framework/Versions/3.11/lib/python3.11/site-packages/keras/src/engine/training.py:3000: UserWarning: You are saving your model as an HDF5 file via `model.save()`. This file format is considered legacy. We recommend using instead the native Keras format, e.g. `model.save('my_model.keras')`.\n",
      "  saving_api.save_model(\n"
     ]
    },
    {
     "name": "stdout",
     "output_type": "stream",
     "text": [
      "Epoch 48: early stopping\n",
      "Validation MAE : 9225.8115234375\n",
      "Validation MSE : 73.65216827392578\n",
      "Training with parameters: {'batch_size': 16, 'dropout_rate': 0.3, 'hidden_layers': 3, 'hidden_units': 128, 'learning_rate': 0.1}\n"
     ]
    },
    {
     "name": "stderr",
     "output_type": "stream",
     "text": [
      "2024-03-14 22:19:14.204920: I tensorflow/core/grappler/optimizers/custom_graph_optimizer_registry.cc:114] Plugin optimizer for device_type GPU is enabled.\n",
      "2024-03-14 22:19:18.262869: I tensorflow/core/grappler/optimizers/custom_graph_optimizer_registry.cc:114] Plugin optimizer for device_type GPU is enabled.\n",
      "/Library/Frameworks/Python.framework/Versions/3.11/lib/python3.11/site-packages/keras/src/engine/training.py:3000: UserWarning: You are saving your model as an HDF5 file via `model.save()`. This file format is considered legacy. We recommend using instead the native Keras format, e.g. `model.save('my_model.keras')`.\n",
      "  saving_api.save_model(\n"
     ]
    },
    {
     "name": "stdout",
     "output_type": "stream",
     "text": [
      "Epoch 21: early stopping\n",
      "Validation MAE : 1167678767104.0\n",
      "Validation MSE : 779566.125\n",
      "Training with parameters: {'batch_size': 16, 'dropout_rate': 0.3, 'hidden_layers': 3, 'hidden_units': 64, 'learning_rate': 0.001}\n"
     ]
    },
    {
     "name": "stderr",
     "output_type": "stream",
     "text": [
      "2024-03-14 22:19:33.012751: I tensorflow/core/grappler/optimizers/custom_graph_optimizer_registry.cc:114] Plugin optimizer for device_type GPU is enabled.\n",
      "2024-03-14 22:19:37.326900: I tensorflow/core/grappler/optimizers/custom_graph_optimizer_registry.cc:114] Plugin optimizer for device_type GPU is enabled.\n",
      "/Library/Frameworks/Python.framework/Versions/3.11/lib/python3.11/site-packages/keras/src/engine/training.py:3000: UserWarning: You are saving your model as an HDF5 file via `model.save()`. This file format is considered legacy. We recommend using instead the native Keras format, e.g. `model.save('my_model.keras')`.\n",
      "  saving_api.save_model(\n"
     ]
    },
    {
     "name": "stdout",
     "output_type": "stream",
     "text": [
      "Epoch 22: early stopping\n",
      "Validation MAE : 73642952.0\n",
      "Validation MSE : 6046.587890625\n",
      "Training with parameters: {'batch_size': 16, 'dropout_rate': 0.3, 'hidden_layers': 3, 'hidden_units': 64, 'learning_rate': 0.01}\n"
     ]
    },
    {
     "name": "stderr",
     "output_type": "stream",
     "text": [
      "2024-03-14 22:19:52.299560: I tensorflow/core/grappler/optimizers/custom_graph_optimizer_registry.cc:114] Plugin optimizer for device_type GPU is enabled.\n",
      "2024-03-14 22:19:56.455635: I tensorflow/core/grappler/optimizers/custom_graph_optimizer_registry.cc:114] Plugin optimizer for device_type GPU is enabled.\n",
      "/Library/Frameworks/Python.framework/Versions/3.11/lib/python3.11/site-packages/keras/src/engine/training.py:3000: UserWarning: You are saving your model as an HDF5 file via `model.save()`. This file format is considered legacy. We recommend using instead the native Keras format, e.g. `model.save('my_model.keras')`.\n",
      "  saving_api.save_model(\n"
     ]
    },
    {
     "name": "stdout",
     "output_type": "stream",
     "text": [
      "Epoch 65: early stopping\n",
      "Validation MAE : 36523584.0\n",
      "Validation MSE : 3929.592529296875\n",
      "Training with parameters: {'batch_size': 16, 'dropout_rate': 0.3, 'hidden_layers': 3, 'hidden_units': 64, 'learning_rate': 0.1}\n"
     ]
    },
    {
     "name": "stderr",
     "output_type": "stream",
     "text": [
      "2024-03-14 22:20:36.693457: I tensorflow/core/grappler/optimizers/custom_graph_optimizer_registry.cc:114] Plugin optimizer for device_type GPU is enabled.\n",
      "2024-03-14 22:20:41.003155: I tensorflow/core/grappler/optimizers/custom_graph_optimizer_registry.cc:114] Plugin optimizer for device_type GPU is enabled.\n",
      "/Library/Frameworks/Python.framework/Versions/3.11/lib/python3.11/site-packages/keras/src/engine/training.py:3000: UserWarning: You are saving your model as an HDF5 file via `model.save()`. This file format is considered legacy. We recommend using instead the native Keras format, e.g. `model.save('my_model.keras')`.\n",
      "  saving_api.save_model(\n"
     ]
    },
    {
     "name": "stdout",
     "output_type": "stream",
     "text": [
      "Epoch 21: early stopping\n",
      "Validation MAE : 361548546048.0\n",
      "Validation MSE : 362386.09375\n",
      "Training with parameters: {'batch_size': 16, 'dropout_rate': 0.3, 'hidden_layers': 3, 'hidden_units': 32, 'learning_rate': 0.001}\n"
     ]
    },
    {
     "name": "stderr",
     "output_type": "stream",
     "text": [
      "2024-03-14 22:20:55.172737: I tensorflow/core/grappler/optimizers/custom_graph_optimizer_registry.cc:114] Plugin optimizer for device_type GPU is enabled.\n",
      "2024-03-14 22:20:59.327616: I tensorflow/core/grappler/optimizers/custom_graph_optimizer_registry.cc:114] Plugin optimizer for device_type GPU is enabled.\n",
      "/Library/Frameworks/Python.framework/Versions/3.11/lib/python3.11/site-packages/keras/src/engine/training.py:3000: UserWarning: You are saving your model as an HDF5 file via `model.save()`. This file format is considered legacy. We recommend using instead the native Keras format, e.g. `model.save('my_model.keras')`.\n",
      "  saving_api.save_model(\n"
     ]
    },
    {
     "name": "stdout",
     "output_type": "stream",
     "text": [
      "Epoch 49: early stopping\n",
      "Validation MAE : 3048088.75\n",
      "Validation MSE : 1186.08056640625\n",
      "Training with parameters: {'batch_size': 16, 'dropout_rate': 0.3, 'hidden_layers': 3, 'hidden_units': 32, 'learning_rate': 0.01}\n"
     ]
    },
    {
     "name": "stderr",
     "output_type": "stream",
     "text": [
      "2024-03-14 22:21:31.881495: I tensorflow/core/grappler/optimizers/custom_graph_optimizer_registry.cc:114] Plugin optimizer for device_type GPU is enabled.\n",
      "2024-03-14 22:21:36.405352: I tensorflow/core/grappler/optimizers/custom_graph_optimizer_registry.cc:114] Plugin optimizer for device_type GPU is enabled.\n",
      "/Library/Frameworks/Python.framework/Versions/3.11/lib/python3.11/site-packages/keras/src/engine/training.py:3000: UserWarning: You are saving your model as an HDF5 file via `model.save()`. This file format is considered legacy. We recommend using instead the native Keras format, e.g. `model.save('my_model.keras')`.\n",
      "  saving_api.save_model(\n"
     ]
    },
    {
     "name": "stdout",
     "output_type": "stream",
     "text": [
      "Epoch 81: early stopping\n",
      "Validation MAE : 1471.3365478515625\n",
      "Validation MSE : 21.94451904296875\n",
      "Training with parameters: {'batch_size': 16, 'dropout_rate': 0.3, 'hidden_layers': 3, 'hidden_units': 32, 'learning_rate': 0.1}\n"
     ]
    },
    {
     "name": "stderr",
     "output_type": "stream",
     "text": [
      "2024-03-14 22:22:25.797916: I tensorflow/core/grappler/optimizers/custom_graph_optimizer_registry.cc:114] Plugin optimizer for device_type GPU is enabled.\n",
      "2024-03-14 22:22:29.985861: I tensorflow/core/grappler/optimizers/custom_graph_optimizer_registry.cc:114] Plugin optimizer for device_type GPU is enabled.\n",
      "/Library/Frameworks/Python.framework/Versions/3.11/lib/python3.11/site-packages/keras/src/engine/training.py:3000: UserWarning: You are saving your model as an HDF5 file via `model.save()`. This file format is considered legacy. We recommend using instead the native Keras format, e.g. `model.save('my_model.keras')`.\n",
      "  saving_api.save_model(\n"
     ]
    },
    {
     "name": "stdout",
     "output_type": "stream",
     "text": [
      "Epoch 35: early stopping\n",
      "Validation MAE : 58918895616.0\n",
      "Validation MSE : 189567.78125\n",
      "Training with parameters: {'batch_size': 8, 'dropout_rate': 0.1, 'hidden_layers': 1, 'hidden_units': 128, 'learning_rate': 0.001}\n"
     ]
    },
    {
     "name": "stderr",
     "output_type": "stream",
     "text": [
      "2024-03-14 22:22:52.375391: I tensorflow/core/grappler/optimizers/custom_graph_optimizer_registry.cc:114] Plugin optimizer for device_type GPU is enabled.\n",
      "2024-03-14 22:22:57.826433: I tensorflow/core/grappler/optimizers/custom_graph_optimizer_registry.cc:114] Plugin optimizer for device_type GPU is enabled.\n",
      "/Library/Frameworks/Python.framework/Versions/3.11/lib/python3.11/site-packages/keras/src/engine/training.py:3000: UserWarning: You are saving your model as an HDF5 file via `model.save()`. This file format is considered legacy. We recommend using instead the native Keras format, e.g. `model.save('my_model.keras')`.\n",
      "  saving_api.save_model(\n"
     ]
    },
    {
     "name": "stdout",
     "output_type": "stream",
     "text": [
      "Epoch 75: early stopping\n",
      "Validation MAE : 12416.3974609375\n",
      "Validation MSE : 71.73729705810547\n",
      "Training with parameters: {'batch_size': 8, 'dropout_rate': 0.1, 'hidden_layers': 1, 'hidden_units': 128, 'learning_rate': 0.01}\n"
     ]
    },
    {
     "name": "stderr",
     "output_type": "stream",
     "text": [
      "2024-03-14 22:24:03.955606: I tensorflow/core/grappler/optimizers/custom_graph_optimizer_registry.cc:114] Plugin optimizer for device_type GPU is enabled.\n",
      "2024-03-14 22:24:07.363857: I tensorflow/core/grappler/optimizers/custom_graph_optimizer_registry.cc:114] Plugin optimizer for device_type GPU is enabled.\n",
      "/Library/Frameworks/Python.framework/Versions/3.11/lib/python3.11/site-packages/keras/src/engine/training.py:3000: UserWarning: You are saving your model as an HDF5 file via `model.save()`. This file format is considered legacy. We recommend using instead the native Keras format, e.g. `model.save('my_model.keras')`.\n",
      "  saving_api.save_model(\n"
     ]
    },
    {
     "name": "stdout",
     "output_type": "stream",
     "text": [
      "Epoch 40: early stopping\n",
      "Validation MAE : 12767.2568359375\n",
      "Validation MSE : 70.8408203125\n",
      "Training with parameters: {'batch_size': 8, 'dropout_rate': 0.1, 'hidden_layers': 1, 'hidden_units': 128, 'learning_rate': 0.1}\n"
     ]
    },
    {
     "name": "stderr",
     "output_type": "stream",
     "text": [
      "2024-03-14 22:24:43.330531: I tensorflow/core/grappler/optimizers/custom_graph_optimizer_registry.cc:114] Plugin optimizer for device_type GPU is enabled.\n",
      "2024-03-14 22:24:46.749302: I tensorflow/core/grappler/optimizers/custom_graph_optimizer_registry.cc:114] Plugin optimizer for device_type GPU is enabled.\n",
      "/Library/Frameworks/Python.framework/Versions/3.11/lib/python3.11/site-packages/keras/src/engine/training.py:3000: UserWarning: You are saving your model as an HDF5 file via `model.save()`. This file format is considered legacy. We recommend using instead the native Keras format, e.g. `model.save('my_model.keras')`.\n",
      "  saving_api.save_model(\n"
     ]
    },
    {
     "name": "stdout",
     "output_type": "stream",
     "text": [
      "Epoch 65: early stopping\n",
      "Validation MAE : 1903.087158203125\n",
      "Validation MSE : 30.44777488708496\n",
      "Training with parameters: {'batch_size': 8, 'dropout_rate': 0.1, 'hidden_layers': 1, 'hidden_units': 64, 'learning_rate': 0.001}\n"
     ]
    },
    {
     "name": "stderr",
     "output_type": "stream",
     "text": [
      "2024-03-14 22:25:43.950452: I tensorflow/core/grappler/optimizers/custom_graph_optimizer_registry.cc:114] Plugin optimizer for device_type GPU is enabled.\n",
      "2024-03-14 22:25:47.953801: I tensorflow/core/grappler/optimizers/custom_graph_optimizer_registry.cc:114] Plugin optimizer for device_type GPU is enabled.\n",
      "/Library/Frameworks/Python.framework/Versions/3.11/lib/python3.11/site-packages/keras/src/engine/training.py:3000: UserWarning: You are saving your model as an HDF5 file via `model.save()`. This file format is considered legacy. We recommend using instead the native Keras format, e.g. `model.save('my_model.keras')`.\n",
      "  saving_api.save_model(\n"
     ]
    },
    {
     "name": "stdout",
     "output_type": "stream",
     "text": [
      "Epoch 118: early stopping\n",
      "Validation MAE : 9442.2578125\n",
      "Validation MSE : 61.58512878417969\n",
      "Training with parameters: {'batch_size': 8, 'dropout_rate': 0.1, 'hidden_layers': 1, 'hidden_units': 64, 'learning_rate': 0.01}\n"
     ]
    },
    {
     "name": "stderr",
     "output_type": "stream",
     "text": [
      "2024-03-14 22:27:29.813309: I tensorflow/core/grappler/optimizers/custom_graph_optimizer_registry.cc:114] Plugin optimizer for device_type GPU is enabled.\n",
      "2024-03-14 22:27:33.325210: I tensorflow/core/grappler/optimizers/custom_graph_optimizer_registry.cc:114] Plugin optimizer for device_type GPU is enabled.\n",
      "/Library/Frameworks/Python.framework/Versions/3.11/lib/python3.11/site-packages/keras/src/engine/training.py:3000: UserWarning: You are saving your model as an HDF5 file via `model.save()`. This file format is considered legacy. We recommend using instead the native Keras format, e.g. `model.save('my_model.keras')`.\n",
      "  saving_api.save_model(\n"
     ]
    },
    {
     "name": "stdout",
     "output_type": "stream",
     "text": [
      "Epoch 29: early stopping\n",
      "Validation MAE : 944.4201049804688\n",
      "Validation MSE : 15.697125434875488\n",
      "Training with parameters: {'batch_size': 8, 'dropout_rate': 0.1, 'hidden_layers': 1, 'hidden_units': 64, 'learning_rate': 0.1}\n"
     ]
    },
    {
     "name": "stderr",
     "output_type": "stream",
     "text": [
      "2024-03-14 22:27:59.721022: I tensorflow/core/grappler/optimizers/custom_graph_optimizer_registry.cc:114] Plugin optimizer for device_type GPU is enabled.\n",
      "2024-03-14 22:28:03.170899: I tensorflow/core/grappler/optimizers/custom_graph_optimizer_registry.cc:114] Plugin optimizer for device_type GPU is enabled.\n",
      "/Library/Frameworks/Python.framework/Versions/3.11/lib/python3.11/site-packages/keras/src/engine/training.py:3000: UserWarning: You are saving your model as an HDF5 file via `model.save()`. This file format is considered legacy. We recommend using instead the native Keras format, e.g. `model.save('my_model.keras')`.\n",
      "  saving_api.save_model(\n"
     ]
    },
    {
     "name": "stdout",
     "output_type": "stream",
     "text": [
      "Epoch 23: early stopping\n",
      "Validation MAE : 1723.9232177734375\n",
      "Validation MSE : 30.783931732177734\n",
      "Training with parameters: {'batch_size': 8, 'dropout_rate': 0.1, 'hidden_layers': 1, 'hidden_units': 32, 'learning_rate': 0.001}\n"
     ]
    },
    {
     "name": "stderr",
     "output_type": "stream",
     "text": [
      "2024-03-14 22:28:24.448871: I tensorflow/core/grappler/optimizers/custom_graph_optimizer_registry.cc:114] Plugin optimizer for device_type GPU is enabled.\n",
      "2024-03-14 22:28:28.329509: I tensorflow/core/grappler/optimizers/custom_graph_optimizer_registry.cc:114] Plugin optimizer for device_type GPU is enabled.\n",
      "/Library/Frameworks/Python.framework/Versions/3.11/lib/python3.11/site-packages/keras/src/engine/training.py:3000: UserWarning: You are saving your model as an HDF5 file via `model.save()`. This file format is considered legacy. We recommend using instead the native Keras format, e.g. `model.save('my_model.keras')`.\n",
      "  saving_api.save_model(\n"
     ]
    },
    {
     "name": "stdout",
     "output_type": "stream",
     "text": [
      "Epoch 128: early stopping\n",
      "Validation MAE : 2716.62939453125\n",
      "Validation MSE : 25.353893280029297\n",
      "Training with parameters: {'batch_size': 8, 'dropout_rate': 0.1, 'hidden_layers': 1, 'hidden_units': 32, 'learning_rate': 0.01}\n"
     ]
    },
    {
     "name": "stderr",
     "output_type": "stream",
     "text": [
      "2024-03-14 22:30:18.940148: I tensorflow/core/grappler/optimizers/custom_graph_optimizer_registry.cc:114] Plugin optimizer for device_type GPU is enabled.\n",
      "2024-03-14 22:30:22.488741: I tensorflow/core/grappler/optimizers/custom_graph_optimizer_registry.cc:114] Plugin optimizer for device_type GPU is enabled.\n",
      "/Library/Frameworks/Python.framework/Versions/3.11/lib/python3.11/site-packages/keras/src/engine/training.py:3000: UserWarning: You are saving your model as an HDF5 file via `model.save()`. This file format is considered legacy. We recommend using instead the native Keras format, e.g. `model.save('my_model.keras')`.\n",
      "  saving_api.save_model(\n"
     ]
    },
    {
     "name": "stdout",
     "output_type": "stream",
     "text": [
      "Epoch 42: early stopping\n",
      "Validation MAE : 995.3851318359375\n",
      "Validation MSE : 22.379413604736328\n",
      "Training with parameters: {'batch_size': 8, 'dropout_rate': 0.1, 'hidden_layers': 1, 'hidden_units': 32, 'learning_rate': 0.1}\n"
     ]
    },
    {
     "name": "stderr",
     "output_type": "stream",
     "text": [
      "2024-03-14 22:31:09.594781: I tensorflow/core/grappler/optimizers/custom_graph_optimizer_registry.cc:114] Plugin optimizer for device_type GPU is enabled.\n",
      "2024-03-14 22:31:13.131591: I tensorflow/core/grappler/optimizers/custom_graph_optimizer_registry.cc:114] Plugin optimizer for device_type GPU is enabled.\n",
      "/Library/Frameworks/Python.framework/Versions/3.11/lib/python3.11/site-packages/keras/src/engine/training.py:3000: UserWarning: You are saving your model as an HDF5 file via `model.save()`. This file format is considered legacy. We recommend using instead the native Keras format, e.g. `model.save('my_model.keras')`.\n",
      "  saving_api.save_model(\n"
     ]
    },
    {
     "name": "stdout",
     "output_type": "stream",
     "text": [
      "Epoch 23: early stopping\n",
      "Validation MAE : 9309.03125\n",
      "Validation MSE : 72.0474853515625\n",
      "Training with parameters: {'batch_size': 8, 'dropout_rate': 0.1, 'hidden_layers': 2, 'hidden_units': 128, 'learning_rate': 0.001}\n"
     ]
    },
    {
     "name": "stderr",
     "output_type": "stream",
     "text": [
      "2024-03-14 22:31:39.640445: I tensorflow/core/grappler/optimizers/custom_graph_optimizer_registry.cc:114] Plugin optimizer for device_type GPU is enabled.\n",
      "2024-03-14 22:31:43.941497: I tensorflow/core/grappler/optimizers/custom_graph_optimizer_registry.cc:114] Plugin optimizer for device_type GPU is enabled.\n",
      "/Library/Frameworks/Python.framework/Versions/3.11/lib/python3.11/site-packages/keras/src/engine/training.py:3000: UserWarning: You are saving your model as an HDF5 file via `model.save()`. This file format is considered legacy. We recommend using instead the native Keras format, e.g. `model.save('my_model.keras')`.\n",
      "  saving_api.save_model(\n"
     ]
    },
    {
     "name": "stdout",
     "output_type": "stream",
     "text": [
      "Epoch 41: early stopping\n",
      "Validation MAE : 432132.21875\n",
      "Validation MSE : 426.65985107421875\n",
      "Training with parameters: {'batch_size': 8, 'dropout_rate': 0.1, 'hidden_layers': 2, 'hidden_units': 128, 'learning_rate': 0.01}\n"
     ]
    },
    {
     "name": "stderr",
     "output_type": "stream",
     "text": [
      "2024-03-14 22:32:30.475083: I tensorflow/core/grappler/optimizers/custom_graph_optimizer_registry.cc:114] Plugin optimizer for device_type GPU is enabled.\n",
      "2024-03-14 22:32:35.123598: I tensorflow/core/grappler/optimizers/custom_graph_optimizer_registry.cc:114] Plugin optimizer for device_type GPU is enabled.\n",
      "/Library/Frameworks/Python.framework/Versions/3.11/lib/python3.11/site-packages/keras/src/engine/training.py:3000: UserWarning: You are saving your model as an HDF5 file via `model.save()`. This file format is considered legacy. We recommend using instead the native Keras format, e.g. `model.save('my_model.keras')`.\n",
      "  saving_api.save_model(\n"
     ]
    },
    {
     "name": "stdout",
     "output_type": "stream",
     "text": [
      "Epoch 64: early stopping\n",
      "Validation MAE : 5870.9365234375\n",
      "Validation MSE : 55.646305084228516\n",
      "Training with parameters: {'batch_size': 8, 'dropout_rate': 0.1, 'hidden_layers': 2, 'hidden_units': 128, 'learning_rate': 0.1}\n"
     ]
    },
    {
     "name": "stderr",
     "output_type": "stream",
     "text": [
      "2024-03-14 22:33:46.762296: I tensorflow/core/grappler/optimizers/custom_graph_optimizer_registry.cc:114] Plugin optimizer for device_type GPU is enabled.\n",
      "2024-03-14 22:33:51.004600: I tensorflow/core/grappler/optimizers/custom_graph_optimizer_registry.cc:114] Plugin optimizer for device_type GPU is enabled.\n",
      "/Library/Frameworks/Python.framework/Versions/3.11/lib/python3.11/site-packages/keras/src/engine/training.py:3000: UserWarning: You are saving your model as an HDF5 file via `model.save()`. This file format is considered legacy. We recommend using instead the native Keras format, e.g. `model.save('my_model.keras')`.\n",
      "  saving_api.save_model(\n"
     ]
    },
    {
     "name": "stdout",
     "output_type": "stream",
     "text": [
      "Epoch 47: early stopping\n",
      "Validation MAE : 27798518.0\n",
      "Validation MSE : 3699.54931640625\n",
      "Training with parameters: {'batch_size': 8, 'dropout_rate': 0.1, 'hidden_layers': 2, 'hidden_units': 64, 'learning_rate': 0.001}\n"
     ]
    },
    {
     "name": "stderr",
     "output_type": "stream",
     "text": [
      "2024-03-14 22:34:43.845643: I tensorflow/core/grappler/optimizers/custom_graph_optimizer_registry.cc:114] Plugin optimizer for device_type GPU is enabled.\n",
      "2024-03-14 22:34:48.440244: I tensorflow/core/grappler/optimizers/custom_graph_optimizer_registry.cc:114] Plugin optimizer for device_type GPU is enabled.\n",
      "/Library/Frameworks/Python.framework/Versions/3.11/lib/python3.11/site-packages/keras/src/engine/training.py:3000: UserWarning: You are saving your model as an HDF5 file via `model.save()`. This file format is considered legacy. We recommend using instead the native Keras format, e.g. `model.save('my_model.keras')`.\n",
      "  saving_api.save_model(\n"
     ]
    },
    {
     "name": "stdout",
     "output_type": "stream",
     "text": [
      "Epoch 44: early stopping\n",
      "Validation MAE : 110771.5\n",
      "Validation MSE : 243.62818908691406\n",
      "Training with parameters: {'batch_size': 8, 'dropout_rate': 0.1, 'hidden_layers': 2, 'hidden_units': 64, 'learning_rate': 0.01}\n"
     ]
    },
    {
     "name": "stderr",
     "output_type": "stream",
     "text": [
      "2024-03-14 22:35:38.373972: I tensorflow/core/grappler/optimizers/custom_graph_optimizer_registry.cc:114] Plugin optimizer for device_type GPU is enabled.\n",
      "2024-03-14 22:35:43.051922: I tensorflow/core/grappler/optimizers/custom_graph_optimizer_registry.cc:114] Plugin optimizer for device_type GPU is enabled.\n",
      "/Library/Frameworks/Python.framework/Versions/3.11/lib/python3.11/site-packages/keras/src/engine/training.py:3000: UserWarning: You are saving your model as an HDF5 file via `model.save()`. This file format is considered legacy. We recommend using instead the native Keras format, e.g. `model.save('my_model.keras')`.\n",
      "  saving_api.save_model(\n"
     ]
    },
    {
     "name": "stdout",
     "output_type": "stream",
     "text": [
      "Epoch 40: early stopping\n",
      "Validation MAE : 6872.2412109375\n",
      "Validation MSE : 53.33194351196289\n",
      "Training with parameters: {'batch_size': 8, 'dropout_rate': 0.1, 'hidden_layers': 2, 'hidden_units': 64, 'learning_rate': 0.1}\n"
     ]
    },
    {
     "name": "stderr",
     "output_type": "stream",
     "text": [
      "2024-03-14 22:36:28.475814: I tensorflow/core/grappler/optimizers/custom_graph_optimizer_registry.cc:114] Plugin optimizer for device_type GPU is enabled.\n",
      "2024-03-14 22:36:33.468491: I tensorflow/core/grappler/optimizers/custom_graph_optimizer_registry.cc:114] Plugin optimizer for device_type GPU is enabled.\n",
      "/Library/Frameworks/Python.framework/Versions/3.11/lib/python3.11/site-packages/keras/src/engine/training.py:3000: UserWarning: You are saving your model as an HDF5 file via `model.save()`. This file format is considered legacy. We recommend using instead the native Keras format, e.g. `model.save('my_model.keras')`.\n",
      "  saving_api.save_model(\n"
     ]
    },
    {
     "name": "stdout",
     "output_type": "stream",
     "text": [
      "Epoch 54: early stopping\n",
      "Validation MAE : 1724.87353515625\n",
      "Validation MSE : 28.400806427001953\n",
      "Training with parameters: {'batch_size': 8, 'dropout_rate': 0.1, 'hidden_layers': 2, 'hidden_units': 32, 'learning_rate': 0.001}\n"
     ]
    },
    {
     "name": "stderr",
     "output_type": "stream",
     "text": [
      "2024-03-14 22:37:34.135698: I tensorflow/core/grappler/optimizers/custom_graph_optimizer_registry.cc:114] Plugin optimizer for device_type GPU is enabled.\n",
      "2024-03-14 22:37:38.987283: I tensorflow/core/grappler/optimizers/custom_graph_optimizer_registry.cc:114] Plugin optimizer for device_type GPU is enabled.\n",
      "/Library/Frameworks/Python.framework/Versions/3.11/lib/python3.11/site-packages/keras/src/engine/training.py:3000: UserWarning: You are saving your model as an HDF5 file via `model.save()`. This file format is considered legacy. We recommend using instead the native Keras format, e.g. `model.save('my_model.keras')`.\n",
      "  saving_api.save_model(\n"
     ]
    },
    {
     "name": "stdout",
     "output_type": "stream",
     "text": [
      "Epoch 67: early stopping\n",
      "Validation MAE : 2585.925537109375\n",
      "Validation MSE : 37.90351867675781\n",
      "Training with parameters: {'batch_size': 8, 'dropout_rate': 0.1, 'hidden_layers': 2, 'hidden_units': 32, 'learning_rate': 0.01}\n"
     ]
    },
    {
     "name": "stderr",
     "output_type": "stream",
     "text": [
      "2024-03-14 22:38:54.424174: I tensorflow/core/grappler/optimizers/custom_graph_optimizer_registry.cc:114] Plugin optimizer for device_type GPU is enabled.\n",
      "2024-03-14 22:38:59.463015: I tensorflow/core/grappler/optimizers/custom_graph_optimizer_registry.cc:114] Plugin optimizer for device_type GPU is enabled.\n",
      "/Library/Frameworks/Python.framework/Versions/3.11/lib/python3.11/site-packages/keras/src/engine/training.py:3000: UserWarning: You are saving your model as an HDF5 file via `model.save()`. This file format is considered legacy. We recommend using instead the native Keras format, e.g. `model.save('my_model.keras')`.\n",
      "  saving_api.save_model(\n"
     ]
    },
    {
     "name": "stdout",
     "output_type": "stream",
     "text": [
      "Epoch 37: early stopping\n",
      "Validation MAE : 6779.1455078125\n",
      "Validation MSE : 56.8626594543457\n",
      "Training with parameters: {'batch_size': 8, 'dropout_rate': 0.1, 'hidden_layers': 2, 'hidden_units': 32, 'learning_rate': 0.1}\n"
     ]
    },
    {
     "name": "stderr",
     "output_type": "stream",
     "text": [
      "2024-03-14 22:39:41.372421: I tensorflow/core/grappler/optimizers/custom_graph_optimizer_registry.cc:114] Plugin optimizer for device_type GPU is enabled.\n",
      "2024-03-14 22:39:45.854555: I tensorflow/core/grappler/optimizers/custom_graph_optimizer_registry.cc:114] Plugin optimizer for device_type GPU is enabled.\n",
      "/Library/Frameworks/Python.framework/Versions/3.11/lib/python3.11/site-packages/keras/src/engine/training.py:3000: UserWarning: You are saving your model as an HDF5 file via `model.save()`. This file format is considered legacy. We recommend using instead the native Keras format, e.g. `model.save('my_model.keras')`.\n",
      "  saving_api.save_model(\n"
     ]
    },
    {
     "name": "stdout",
     "output_type": "stream",
     "text": [
      "Epoch 48: early stopping\n",
      "Validation MAE : 26273.009765625\n",
      "Validation MSE : 113.67214965820312\n",
      "Training with parameters: {'batch_size': 8, 'dropout_rate': 0.1, 'hidden_layers': 3, 'hidden_units': 128, 'learning_rate': 0.001}\n"
     ]
    },
    {
     "name": "stderr",
     "output_type": "stream",
     "text": [
      "2024-03-14 22:40:39.806530: I tensorflow/core/grappler/optimizers/custom_graph_optimizer_registry.cc:114] Plugin optimizer for device_type GPU is enabled.\n",
      "2024-03-14 22:40:45.464986: I tensorflow/core/grappler/optimizers/custom_graph_optimizer_registry.cc:114] Plugin optimizer for device_type GPU is enabled.\n",
      "/Library/Frameworks/Python.framework/Versions/3.11/lib/python3.11/site-packages/keras/src/engine/training.py:3000: UserWarning: You are saving your model as an HDF5 file via `model.save()`. This file format is considered legacy. We recommend using instead the native Keras format, e.g. `model.save('my_model.keras')`.\n",
      "  saving_api.save_model(\n"
     ]
    },
    {
     "name": "stdout",
     "output_type": "stream",
     "text": [
      "Epoch 21: early stopping\n",
      "Validation MAE : 1097773824.0\n",
      "Validation MSE : 22698.806640625\n",
      "Training with parameters: {'batch_size': 8, 'dropout_rate': 0.1, 'hidden_layers': 3, 'hidden_units': 128, 'learning_rate': 0.01}\n"
     ]
    },
    {
     "name": "stderr",
     "output_type": "stream",
     "text": [
      "2024-03-14 22:41:13.827521: I tensorflow/core/grappler/optimizers/custom_graph_optimizer_registry.cc:114] Plugin optimizer for device_type GPU is enabled.\n",
      "2024-03-14 22:41:19.548081: I tensorflow/core/grappler/optimizers/custom_graph_optimizer_registry.cc:114] Plugin optimizer for device_type GPU is enabled.\n",
      "/Library/Frameworks/Python.framework/Versions/3.11/lib/python3.11/site-packages/keras/src/engine/training.py:3000: UserWarning: You are saving your model as an HDF5 file via `model.save()`. This file format is considered legacy. We recommend using instead the native Keras format, e.g. `model.save('my_model.keras')`.\n",
      "  saving_api.save_model(\n"
     ]
    },
    {
     "name": "stdout",
     "output_type": "stream",
     "text": [
      "Epoch 31: early stopping\n",
      "Validation MAE : 1686971.25\n",
      "Validation MSE : 943.3768920898438\n",
      "Training with parameters: {'batch_size': 8, 'dropout_rate': 0.1, 'hidden_layers': 3, 'hidden_units': 128, 'learning_rate': 0.1}\n"
     ]
    },
    {
     "name": "stderr",
     "output_type": "stream",
     "text": [
      "2024-03-14 22:41:59.818402: I tensorflow/core/grappler/optimizers/custom_graph_optimizer_registry.cc:114] Plugin optimizer for device_type GPU is enabled.\n",
      "2024-03-14 22:42:05.529081: I tensorflow/core/grappler/optimizers/custom_graph_optimizer_registry.cc:114] Plugin optimizer for device_type GPU is enabled.\n",
      "/Library/Frameworks/Python.framework/Versions/3.11/lib/python3.11/site-packages/keras/src/engine/training.py:3000: UserWarning: You are saving your model as an HDF5 file via `model.save()`. This file format is considered legacy. We recommend using instead the native Keras format, e.g. `model.save('my_model.keras')`.\n",
      "  saving_api.save_model(\n"
     ]
    },
    {
     "name": "stdout",
     "output_type": "stream",
     "text": [
      "Epoch 39: early stopping\n",
      "Validation MAE : 40602267648.0\n",
      "Validation MSE : 148752.4375\n",
      "Training with parameters: {'batch_size': 8, 'dropout_rate': 0.1, 'hidden_layers': 3, 'hidden_units': 64, 'learning_rate': 0.001}\n"
     ]
    },
    {
     "name": "stderr",
     "output_type": "stream",
     "text": [
      "2024-03-14 22:42:56.381172: I tensorflow/core/grappler/optimizers/custom_graph_optimizer_registry.cc:114] Plugin optimizer for device_type GPU is enabled.\n",
      "2024-03-14 22:43:01.960329: I tensorflow/core/grappler/optimizers/custom_graph_optimizer_registry.cc:114] Plugin optimizer for device_type GPU is enabled.\n",
      "/Library/Frameworks/Python.framework/Versions/3.11/lib/python3.11/site-packages/keras/src/engine/training.py:3000: UserWarning: You are saving your model as an HDF5 file via `model.save()`. This file format is considered legacy. We recommend using instead the native Keras format, e.g. `model.save('my_model.keras')`.\n",
      "  saving_api.save_model(\n"
     ]
    },
    {
     "name": "stdout",
     "output_type": "stream",
     "text": [
      "Epoch 45: early stopping\n",
      "Validation MAE : 15543358.0\n",
      "Validation MSE : 2756.195068359375\n",
      "Training with parameters: {'batch_size': 8, 'dropout_rate': 0.1, 'hidden_layers': 3, 'hidden_units': 64, 'learning_rate': 0.01}\n"
     ]
    },
    {
     "name": "stderr",
     "output_type": "stream",
     "text": [
      "2024-03-14 22:43:59.476159: I tensorflow/core/grappler/optimizers/custom_graph_optimizer_registry.cc:114] Plugin optimizer for device_type GPU is enabled.\n",
      "2024-03-14 22:44:05.590537: I tensorflow/core/grappler/optimizers/custom_graph_optimizer_registry.cc:114] Plugin optimizer for device_type GPU is enabled.\n",
      "/Library/Frameworks/Python.framework/Versions/3.11/lib/python3.11/site-packages/keras/src/engine/training.py:3000: UserWarning: You are saving your model as an HDF5 file via `model.save()`. This file format is considered legacy. We recommend using instead the native Keras format, e.g. `model.save('my_model.keras')`.\n",
      "  saving_api.save_model(\n"
     ]
    },
    {
     "name": "stdout",
     "output_type": "stream",
     "text": [
      "Epoch 44: early stopping\n",
      "Validation MAE : 119434.109375\n",
      "Validation MSE : 262.9851989746094\n",
      "Training with parameters: {'batch_size': 8, 'dropout_rate': 0.1, 'hidden_layers': 3, 'hidden_units': 64, 'learning_rate': 0.1}\n"
     ]
    },
    {
     "name": "stderr",
     "output_type": "stream",
     "text": [
      "2024-03-14 22:45:01.613012: I tensorflow/core/grappler/optimizers/custom_graph_optimizer_registry.cc:114] Plugin optimizer for device_type GPU is enabled.\n",
      "2024-03-14 22:45:07.057887: I tensorflow/core/grappler/optimizers/custom_graph_optimizer_registry.cc:114] Plugin optimizer for device_type GPU is enabled.\n",
      "/Library/Frameworks/Python.framework/Versions/3.11/lib/python3.11/site-packages/keras/src/engine/training.py:3000: UserWarning: You are saving your model as an HDF5 file via `model.save()`. This file format is considered legacy. We recommend using instead the native Keras format, e.g. `model.save('my_model.keras')`.\n",
      "  saving_api.save_model(\n"
     ]
    },
    {
     "name": "stdout",
     "output_type": "stream",
     "text": [
      "Epoch 51: early stopping\n",
      "Validation MAE : 23367512064.0\n",
      "Validation MSE : 83715.0078125\n",
      "Training with parameters: {'batch_size': 8, 'dropout_rate': 0.1, 'hidden_layers': 3, 'hidden_units': 32, 'learning_rate': 0.001}\n"
     ]
    },
    {
     "name": "stderr",
     "output_type": "stream",
     "text": [
      "2024-03-14 22:46:14.793343: I tensorflow/core/grappler/optimizers/custom_graph_optimizer_registry.cc:114] Plugin optimizer for device_type GPU is enabled.\n",
      "2024-03-14 22:46:20.720947: I tensorflow/core/grappler/optimizers/custom_graph_optimizer_registry.cc:114] Plugin optimizer for device_type GPU is enabled.\n",
      "/Library/Frameworks/Python.framework/Versions/3.11/lib/python3.11/site-packages/keras/src/engine/training.py:3000: UserWarning: You are saving your model as an HDF5 file via `model.save()`. This file format is considered legacy. We recommend using instead the native Keras format, e.g. `model.save('my_model.keras')`.\n",
      "  saving_api.save_model(\n"
     ]
    },
    {
     "name": "stdout",
     "output_type": "stream",
     "text": [
      "Epoch 45: early stopping\n",
      "Validation MAE : 241821.1875\n",
      "Validation MSE : 284.086669921875\n",
      "Training with parameters: {'batch_size': 8, 'dropout_rate': 0.1, 'hidden_layers': 3, 'hidden_units': 32, 'learning_rate': 0.01}\n"
     ]
    },
    {
     "name": "stderr",
     "output_type": "stream",
     "text": [
      "2024-03-14 22:47:24.074804: I tensorflow/core/grappler/optimizers/custom_graph_optimizer_registry.cc:114] Plugin optimizer for device_type GPU is enabled.\n",
      "2024-03-14 22:47:29.702372: I tensorflow/core/grappler/optimizers/custom_graph_optimizer_registry.cc:114] Plugin optimizer for device_type GPU is enabled.\n",
      "/Library/Frameworks/Python.framework/Versions/3.11/lib/python3.11/site-packages/keras/src/engine/training.py:3000: UserWarning: You are saving your model as an HDF5 file via `model.save()`. This file format is considered legacy. We recommend using instead the native Keras format, e.g. `model.save('my_model.keras')`.\n",
      "  saving_api.save_model(\n"
     ]
    },
    {
     "name": "stdout",
     "output_type": "stream",
     "text": [
      "Epoch 38: early stopping\n",
      "Validation MAE : 350156.03125\n",
      "Validation MSE : 409.6837463378906\n",
      "Training with parameters: {'batch_size': 8, 'dropout_rate': 0.1, 'hidden_layers': 3, 'hidden_units': 32, 'learning_rate': 0.1}\n"
     ]
    },
    {
     "name": "stderr",
     "output_type": "stream",
     "text": [
      "2024-03-14 22:48:19.535595: I tensorflow/core/grappler/optimizers/custom_graph_optimizer_registry.cc:114] Plugin optimizer for device_type GPU is enabled.\n",
      "2024-03-14 22:48:25.200860: I tensorflow/core/grappler/optimizers/custom_graph_optimizer_registry.cc:114] Plugin optimizer for device_type GPU is enabled.\n",
      "/Library/Frameworks/Python.framework/Versions/3.11/lib/python3.11/site-packages/keras/src/engine/training.py:3000: UserWarning: You are saving your model as an HDF5 file via `model.save()`. This file format is considered legacy. We recommend using instead the native Keras format, e.g. `model.save('my_model.keras')`.\n",
      "  saving_api.save_model(\n"
     ]
    },
    {
     "name": "stdout",
     "output_type": "stream",
     "text": [
      "Epoch 36: early stopping\n",
      "Validation MAE : 85065211904.0\n",
      "Validation MSE : 240990.609375\n",
      "Training with parameters: {'batch_size': 8, 'dropout_rate': 0.2, 'hidden_layers': 1, 'hidden_units': 128, 'learning_rate': 0.001}\n"
     ]
    },
    {
     "name": "stderr",
     "output_type": "stream",
     "text": [
      "2024-03-14 22:49:12.995762: I tensorflow/core/grappler/optimizers/custom_graph_optimizer_registry.cc:114] Plugin optimizer for device_type GPU is enabled.\n",
      "2024-03-14 22:49:17.162092: I tensorflow/core/grappler/optimizers/custom_graph_optimizer_registry.cc:114] Plugin optimizer for device_type GPU is enabled.\n",
      "/Library/Frameworks/Python.framework/Versions/3.11/lib/python3.11/site-packages/keras/src/engine/training.py:3000: UserWarning: You are saving your model as an HDF5 file via `model.save()`. This file format is considered legacy. We recommend using instead the native Keras format, e.g. `model.save('my_model.keras')`.\n",
      "  saving_api.save_model(\n"
     ]
    },
    {
     "name": "stdout",
     "output_type": "stream",
     "text": [
      "Epoch 85: early stopping\n",
      "Validation MAE : 13218.85546875\n",
      "Validation MSE : 87.01876831054688\n",
      "Training with parameters: {'batch_size': 8, 'dropout_rate': 0.2, 'hidden_layers': 1, 'hidden_units': 128, 'learning_rate': 0.01}\n"
     ]
    },
    {
     "name": "stderr",
     "output_type": "stream",
     "text": [
      "2024-03-14 22:50:47.627361: I tensorflow/core/grappler/optimizers/custom_graph_optimizer_registry.cc:114] Plugin optimizer for device_type GPU is enabled.\n",
      "2024-03-14 22:50:51.957711: I tensorflow/core/grappler/optimizers/custom_graph_optimizer_registry.cc:114] Plugin optimizer for device_type GPU is enabled.\n",
      "/Library/Frameworks/Python.framework/Versions/3.11/lib/python3.11/site-packages/keras/src/engine/training.py:3000: UserWarning: You are saving your model as an HDF5 file via `model.save()`. This file format is considered legacy. We recommend using instead the native Keras format, e.g. `model.save('my_model.keras')`.\n",
      "  saving_api.save_model(\n"
     ]
    },
    {
     "name": "stdout",
     "output_type": "stream",
     "text": [
      "Epoch 26: early stopping\n",
      "Validation MAE : 9857.4267578125\n",
      "Validation MSE : 60.78934860229492\n",
      "Training with parameters: {'batch_size': 8, 'dropout_rate': 0.2, 'hidden_layers': 1, 'hidden_units': 128, 'learning_rate': 0.1}\n"
     ]
    },
    {
     "name": "stderr",
     "output_type": "stream",
     "text": [
      "2024-03-14 22:51:22.837539: I tensorflow/core/grappler/optimizers/custom_graph_optimizer_registry.cc:114] Plugin optimizer for device_type GPU is enabled.\n",
      "2024-03-14 22:51:27.176711: I tensorflow/core/grappler/optimizers/custom_graph_optimizer_registry.cc:114] Plugin optimizer for device_type GPU is enabled.\n",
      "/Library/Frameworks/Python.framework/Versions/3.11/lib/python3.11/site-packages/keras/src/engine/training.py:3000: UserWarning: You are saving your model as an HDF5 file via `model.save()`. This file format is considered legacy. We recommend using instead the native Keras format, e.g. `model.save('my_model.keras')`.\n",
      "  saving_api.save_model(\n"
     ]
    },
    {
     "name": "stdout",
     "output_type": "stream",
     "text": [
      "Epoch 24: early stopping\n",
      "Validation MAE : 387.12579345703125\n",
      "Validation MSE : 16.344940185546875\n",
      "Training with parameters: {'batch_size': 8, 'dropout_rate': 0.2, 'hidden_layers': 1, 'hidden_units': 64, 'learning_rate': 0.001}\n"
     ]
    },
    {
     "name": "stderr",
     "output_type": "stream",
     "text": [
      "2024-03-14 22:51:54.276184: I tensorflow/core/grappler/optimizers/custom_graph_optimizer_registry.cc:114] Plugin optimizer for device_type GPU is enabled.\n",
      "2024-03-14 22:51:58.505106: I tensorflow/core/grappler/optimizers/custom_graph_optimizer_registry.cc:114] Plugin optimizer for device_type GPU is enabled.\n",
      "/Library/Frameworks/Python.framework/Versions/3.11/lib/python3.11/site-packages/keras/src/engine/training.py:3000: UserWarning: You are saving your model as an HDF5 file via `model.save()`. This file format is considered legacy. We recommend using instead the native Keras format, e.g. `model.save('my_model.keras')`.\n",
      "  saving_api.save_model(\n"
     ]
    },
    {
     "name": "stdout",
     "output_type": "stream",
     "text": [
      "Epoch 109: early stopping\n",
      "Validation MAE : 23472.8046875\n",
      "Validation MSE : 116.03866577148438\n",
      "Training with parameters: {'batch_size': 8, 'dropout_rate': 0.2, 'hidden_layers': 1, 'hidden_units': 64, 'learning_rate': 0.01}\n"
     ]
    },
    {
     "name": "stderr",
     "output_type": "stream",
     "text": [
      "2024-03-14 22:53:54.895741: I tensorflow/core/grappler/optimizers/custom_graph_optimizer_registry.cc:114] Plugin optimizer for device_type GPU is enabled.\n",
      "2024-03-14 22:53:58.856735: I tensorflow/core/grappler/optimizers/custom_graph_optimizer_registry.cc:114] Plugin optimizer for device_type GPU is enabled.\n",
      "/Library/Frameworks/Python.framework/Versions/3.11/lib/python3.11/site-packages/keras/src/engine/training.py:3000: UserWarning: You are saving your model as an HDF5 file via `model.save()`. This file format is considered legacy. We recommend using instead the native Keras format, e.g. `model.save('my_model.keras')`.\n",
      "  saving_api.save_model(\n"
     ]
    },
    {
     "name": "stdout",
     "output_type": "stream",
     "text": [
      "Epoch 24: early stopping\n",
      "Validation MAE : 30760.787109375\n",
      "Validation MSE : 115.08027648925781\n",
      "Training with parameters: {'batch_size': 8, 'dropout_rate': 0.2, 'hidden_layers': 1, 'hidden_units': 64, 'learning_rate': 0.1}\n"
     ]
    },
    {
     "name": "stderr",
     "output_type": "stream",
     "text": [
      "2024-03-14 22:54:26.070866: I tensorflow/core/grappler/optimizers/custom_graph_optimizer_registry.cc:114] Plugin optimizer for device_type GPU is enabled.\n",
      "2024-03-14 22:54:30.376737: I tensorflow/core/grappler/optimizers/custom_graph_optimizer_registry.cc:114] Plugin optimizer for device_type GPU is enabled.\n",
      "/Library/Frameworks/Python.framework/Versions/3.11/lib/python3.11/site-packages/keras/src/engine/training.py:3000: UserWarning: You are saving your model as an HDF5 file via `model.save()`. This file format is considered legacy. We recommend using instead the native Keras format, e.g. `model.save('my_model.keras')`.\n",
      "  saving_api.save_model(\n"
     ]
    },
    {
     "name": "stdout",
     "output_type": "stream",
     "text": [
      "Epoch 23: early stopping\n",
      "Validation MAE : 440.74853515625\n",
      "Validation MSE : 14.807684898376465\n",
      "Training with parameters: {'batch_size': 8, 'dropout_rate': 0.2, 'hidden_layers': 1, 'hidden_units': 32, 'learning_rate': 0.001}\n"
     ]
    },
    {
     "name": "stderr",
     "output_type": "stream",
     "text": [
      "2024-03-14 22:54:56.554414: I tensorflow/core/grappler/optimizers/custom_graph_optimizer_registry.cc:114] Plugin optimizer for device_type GPU is enabled.\n",
      "2024-03-14 22:55:00.860369: I tensorflow/core/grappler/optimizers/custom_graph_optimizer_registry.cc:114] Plugin optimizer for device_type GPU is enabled.\n",
      "/Library/Frameworks/Python.framework/Versions/3.11/lib/python3.11/site-packages/keras/src/engine/training.py:3000: UserWarning: You are saving your model as an HDF5 file via `model.save()`. This file format is considered legacy. We recommend using instead the native Keras format, e.g. `model.save('my_model.keras')`.\n",
      "  saving_api.save_model(\n"
     ]
    },
    {
     "name": "stdout",
     "output_type": "stream",
     "text": [
      "Epoch 112: early stopping\n",
      "Validation MAE : 26498.60546875\n",
      "Validation MSE : 85.7165298461914\n",
      "Training with parameters: {'batch_size': 8, 'dropout_rate': 0.2, 'hidden_layers': 1, 'hidden_units': 32, 'learning_rate': 0.01}\n"
     ]
    },
    {
     "name": "stderr",
     "output_type": "stream",
     "text": [
      "2024-03-14 22:56:59.876642: I tensorflow/core/grappler/optimizers/custom_graph_optimizer_registry.cc:114] Plugin optimizer for device_type GPU is enabled.\n",
      "2024-03-14 22:57:04.232661: I tensorflow/core/grappler/optimizers/custom_graph_optimizer_registry.cc:114] Plugin optimizer for device_type GPU is enabled.\n",
      "/Library/Frameworks/Python.framework/Versions/3.11/lib/python3.11/site-packages/keras/src/engine/training.py:3000: UserWarning: You are saving your model as an HDF5 file via `model.save()`. This file format is considered legacy. We recommend using instead the native Keras format, e.g. `model.save('my_model.keras')`.\n",
      "  saving_api.save_model(\n"
     ]
    },
    {
     "name": "stdout",
     "output_type": "stream",
     "text": [
      "Epoch 68: early stopping\n",
      "Validation MAE : 507.938720703125\n",
      "Validation MSE : 13.195218086242676\n",
      "Training with parameters: {'batch_size': 8, 'dropout_rate': 0.2, 'hidden_layers': 1, 'hidden_units': 32, 'learning_rate': 0.1}\n"
     ]
    },
    {
     "name": "stderr",
     "output_type": "stream",
     "text": [
      "2024-03-14 22:58:16.710493: I tensorflow/core/grappler/optimizers/custom_graph_optimizer_registry.cc:114] Plugin optimizer for device_type GPU is enabled.\n",
      "2024-03-14 22:58:20.763246: I tensorflow/core/grappler/optimizers/custom_graph_optimizer_registry.cc:114] Plugin optimizer for device_type GPU is enabled.\n",
      "/Library/Frameworks/Python.framework/Versions/3.11/lib/python3.11/site-packages/keras/src/engine/training.py:3000: UserWarning: You are saving your model as an HDF5 file via `model.save()`. This file format is considered legacy. We recommend using instead the native Keras format, e.g. `model.save('my_model.keras')`.\n",
      "  saving_api.save_model(\n"
     ]
    },
    {
     "name": "stdout",
     "output_type": "stream",
     "text": [
      "Epoch 38: early stopping\n",
      "Validation MAE : 3266.73388671875\n",
      "Validation MSE : 30.592975616455078\n",
      "Training with parameters: {'batch_size': 8, 'dropout_rate': 0.2, 'hidden_layers': 2, 'hidden_units': 128, 'learning_rate': 0.001}\n"
     ]
    },
    {
     "name": "stderr",
     "output_type": "stream",
     "text": [
      "2024-03-14 22:59:02.342051: I tensorflow/core/grappler/optimizers/custom_graph_optimizer_registry.cc:114] Plugin optimizer for device_type GPU is enabled.\n",
      "2024-03-14 22:59:07.349104: I tensorflow/core/grappler/optimizers/custom_graph_optimizer_registry.cc:114] Plugin optimizer for device_type GPU is enabled.\n",
      "/Library/Frameworks/Python.framework/Versions/3.11/lib/python3.11/site-packages/keras/src/engine/training.py:3000: UserWarning: You are saving your model as an HDF5 file via `model.save()`. This file format is considered legacy. We recommend using instead the native Keras format, e.g. `model.save('my_model.keras')`.\n",
      "  saving_api.save_model(\n"
     ]
    },
    {
     "name": "stdout",
     "output_type": "stream",
     "text": [
      "Epoch 66: early stopping\n",
      "Validation MAE : 3415650.5\n",
      "Validation MSE : 1337.08740234375\n",
      "Training with parameters: {'batch_size': 8, 'dropout_rate': 0.2, 'hidden_layers': 2, 'hidden_units': 128, 'learning_rate': 0.01}\n"
     ]
    },
    {
     "name": "stderr",
     "output_type": "stream",
     "text": [
      "2024-03-14 23:00:21.319282: I tensorflow/core/grappler/optimizers/custom_graph_optimizer_registry.cc:114] Plugin optimizer for device_type GPU is enabled.\n",
      "2024-03-14 23:00:26.412834: I tensorflow/core/grappler/optimizers/custom_graph_optimizer_registry.cc:114] Plugin optimizer for device_type GPU is enabled.\n",
      "/Library/Frameworks/Python.framework/Versions/3.11/lib/python3.11/site-packages/keras/src/engine/training.py:3000: UserWarning: You are saving your model as an HDF5 file via `model.save()`. This file format is considered legacy. We recommend using instead the native Keras format, e.g. `model.save('my_model.keras')`.\n",
      "  saving_api.save_model(\n"
     ]
    },
    {
     "name": "stdout",
     "output_type": "stream",
     "text": [
      "Epoch 33: early stopping\n",
      "Validation MAE : 5887.06103515625\n",
      "Validation MSE : 57.30291748046875\n",
      "Training with parameters: {'batch_size': 8, 'dropout_rate': 0.2, 'hidden_layers': 2, 'hidden_units': 128, 'learning_rate': 0.1}\n"
     ]
    },
    {
     "name": "stderr",
     "output_type": "stream",
     "text": [
      "2024-03-14 23:01:04.437157: I tensorflow/core/grappler/optimizers/custom_graph_optimizer_registry.cc:114] Plugin optimizer for device_type GPU is enabled.\n",
      "2024-03-14 23:01:09.594581: I tensorflow/core/grappler/optimizers/custom_graph_optimizer_registry.cc:114] Plugin optimizer for device_type GPU is enabled.\n",
      "/Library/Frameworks/Python.framework/Versions/3.11/lib/python3.11/site-packages/keras/src/engine/training.py:3000: UserWarning: You are saving your model as an HDF5 file via `model.save()`. This file format is considered legacy. We recommend using instead the native Keras format, e.g. `model.save('my_model.keras')`.\n",
      "  saving_api.save_model(\n"
     ]
    },
    {
     "name": "stdout",
     "output_type": "stream",
     "text": [
      "Epoch 48: early stopping\n",
      "Validation MAE : 93618.03125\n",
      "Validation MSE : 253.57772827148438\n",
      "Training with parameters: {'batch_size': 8, 'dropout_rate': 0.2, 'hidden_layers': 2, 'hidden_units': 64, 'learning_rate': 0.001}\n"
     ]
    },
    {
     "name": "stderr",
     "output_type": "stream",
     "text": [
      "2024-03-14 23:02:03.938844: I tensorflow/core/grappler/optimizers/custom_graph_optimizer_registry.cc:114] Plugin optimizer for device_type GPU is enabled.\n",
      "2024-03-14 23:02:09.092840: I tensorflow/core/grappler/optimizers/custom_graph_optimizer_registry.cc:114] Plugin optimizer for device_type GPU is enabled.\n",
      "/Library/Frameworks/Python.framework/Versions/3.11/lib/python3.11/site-packages/keras/src/engine/training.py:3000: UserWarning: You are saving your model as an HDF5 file via `model.save()`. This file format is considered legacy. We recommend using instead the native Keras format, e.g. `model.save('my_model.keras')`.\n",
      "  saving_api.save_model(\n"
     ]
    },
    {
     "name": "stdout",
     "output_type": "stream",
     "text": [
      "Epoch 61: early stopping\n",
      "Validation MAE : 886141.4375\n",
      "Validation MSE : 671.2133178710938\n",
      "Training with parameters: {'batch_size': 8, 'dropout_rate': 0.2, 'hidden_layers': 2, 'hidden_units': 64, 'learning_rate': 0.01}\n"
     ]
    },
    {
     "name": "stderr",
     "output_type": "stream",
     "text": [
      "2024-03-14 23:03:18.102557: I tensorflow/core/grappler/optimizers/custom_graph_optimizer_registry.cc:114] Plugin optimizer for device_type GPU is enabled.\n",
      "2024-03-14 23:03:23.282494: I tensorflow/core/grappler/optimizers/custom_graph_optimizer_registry.cc:114] Plugin optimizer for device_type GPU is enabled.\n",
      "/Library/Frameworks/Python.framework/Versions/3.11/lib/python3.11/site-packages/keras/src/engine/training.py:3000: UserWarning: You are saving your model as an HDF5 file via `model.save()`. This file format is considered legacy. We recommend using instead the native Keras format, e.g. `model.save('my_model.keras')`.\n",
      "  saving_api.save_model(\n"
     ]
    },
    {
     "name": "stdout",
     "output_type": "stream",
     "text": [
      "Epoch 39: early stopping\n",
      "Validation MAE : 10355.6357421875\n",
      "Validation MSE : 66.47773742675781\n",
      "Training with parameters: {'batch_size': 8, 'dropout_rate': 0.2, 'hidden_layers': 2, 'hidden_units': 64, 'learning_rate': 0.1}\n"
     ]
    },
    {
     "name": "stderr",
     "output_type": "stream",
     "text": [
      "2024-03-14 23:04:10.036181: I tensorflow/core/grappler/optimizers/custom_graph_optimizer_registry.cc:114] Plugin optimizer for device_type GPU is enabled.\n",
      "2024-03-14 23:04:15.174551: I tensorflow/core/grappler/optimizers/custom_graph_optimizer_registry.cc:114] Plugin optimizer for device_type GPU is enabled.\n",
      "/Library/Frameworks/Python.framework/Versions/3.11/lib/python3.11/site-packages/keras/src/engine/training.py:3000: UserWarning: You are saving your model as an HDF5 file via `model.save()`. This file format is considered legacy. We recommend using instead the native Keras format, e.g. `model.save('my_model.keras')`.\n",
      "  saving_api.save_model(\n"
     ]
    },
    {
     "name": "stdout",
     "output_type": "stream",
     "text": [
      "Epoch 55: early stopping\n",
      "Validation MAE : 7885.43994140625\n",
      "Validation MSE : 68.63702392578125\n",
      "Training with parameters: {'batch_size': 8, 'dropout_rate': 0.2, 'hidden_layers': 2, 'hidden_units': 32, 'learning_rate': 0.001}\n"
     ]
    },
    {
     "name": "stderr",
     "output_type": "stream",
     "text": [
      "2024-03-14 23:05:17.583844: I tensorflow/core/grappler/optimizers/custom_graph_optimizer_registry.cc:114] Plugin optimizer for device_type GPU is enabled.\n",
      "2024-03-14 23:05:22.818734: I tensorflow/core/grappler/optimizers/custom_graph_optimizer_registry.cc:114] Plugin optimizer for device_type GPU is enabled.\n",
      "/Library/Frameworks/Python.framework/Versions/3.11/lib/python3.11/site-packages/keras/src/engine/training.py:3000: UserWarning: You are saving your model as an HDF5 file via `model.save()`. This file format is considered legacy. We recommend using instead the native Keras format, e.g. `model.save('my_model.keras')`.\n",
      "  saving_api.save_model(\n"
     ]
    },
    {
     "name": "stdout",
     "output_type": "stream",
     "text": [
      "Epoch 43: early stopping\n",
      "Validation MAE : 663179.5\n",
      "Validation MSE : 577.4395751953125\n",
      "Training with parameters: {'batch_size': 8, 'dropout_rate': 0.2, 'hidden_layers': 2, 'hidden_units': 32, 'learning_rate': 0.01}\n"
     ]
    },
    {
     "name": "stderr",
     "output_type": "stream",
     "text": [
      "2024-03-14 23:06:11.814416: I tensorflow/core/grappler/optimizers/custom_graph_optimizer_registry.cc:114] Plugin optimizer for device_type GPU is enabled.\n",
      "2024-03-14 23:06:16.932668: I tensorflow/core/grappler/optimizers/custom_graph_optimizer_registry.cc:114] Plugin optimizer for device_type GPU is enabled.\n",
      "/Library/Frameworks/Python.framework/Versions/3.11/lib/python3.11/site-packages/keras/src/engine/training.py:3000: UserWarning: You are saving your model as an HDF5 file via `model.save()`. This file format is considered legacy. We recommend using instead the native Keras format, e.g. `model.save('my_model.keras')`.\n",
      "  saving_api.save_model(\n"
     ]
    },
    {
     "name": "stdout",
     "output_type": "stream",
     "text": [
      "Epoch 34: early stopping\n",
      "Validation MAE : 964952.3125\n",
      "Validation MSE : 615.40185546875\n",
      "Training with parameters: {'batch_size': 8, 'dropout_rate': 0.2, 'hidden_layers': 2, 'hidden_units': 32, 'learning_rate': 0.1}\n"
     ]
    },
    {
     "name": "stderr",
     "output_type": "stream",
     "text": [
      "2024-03-14 23:06:55.155889: I tensorflow/core/grappler/optimizers/custom_graph_optimizer_registry.cc:114] Plugin optimizer for device_type GPU is enabled.\n",
      "2024-03-14 23:06:59.809460: I tensorflow/core/grappler/optimizers/custom_graph_optimizer_registry.cc:114] Plugin optimizer for device_type GPU is enabled.\n",
      "/Library/Frameworks/Python.framework/Versions/3.11/lib/python3.11/site-packages/keras/src/engine/training.py:3000: UserWarning: You are saving your model as an HDF5 file via `model.save()`. This file format is considered legacy. We recommend using instead the native Keras format, e.g. `model.save('my_model.keras')`.\n",
      "  saving_api.save_model(\n"
     ]
    },
    {
     "name": "stdout",
     "output_type": "stream",
     "text": [
      "Epoch 31: early stopping\n",
      "Validation MAE : 26633128.0\n",
      "Validation MSE : 4337.06298828125\n",
      "Training with parameters: {'batch_size': 8, 'dropout_rate': 0.2, 'hidden_layers': 3, 'hidden_units': 128, 'learning_rate': 0.001}\n"
     ]
    },
    {
     "name": "stderr",
     "output_type": "stream",
     "text": [
      "2024-03-14 23:07:32.307214: I tensorflow/core/grappler/optimizers/custom_graph_optimizer_registry.cc:114] Plugin optimizer for device_type GPU is enabled.\n",
      "2024-03-14 23:07:37.891312: I tensorflow/core/grappler/optimizers/custom_graph_optimizer_registry.cc:114] Plugin optimizer for device_type GPU is enabled.\n",
      "/Library/Frameworks/Python.framework/Versions/3.11/lib/python3.11/site-packages/keras/src/engine/training.py:3000: UserWarning: You are saving your model as an HDF5 file via `model.save()`. This file format is considered legacy. We recommend using instead the native Keras format, e.g. `model.save('my_model.keras')`.\n",
      "  saving_api.save_model(\n"
     ]
    },
    {
     "name": "stdout",
     "output_type": "stream",
     "text": [
      "Epoch 21: early stopping\n",
      "Validation MAE : 1724730240.0\n",
      "Validation MSE : 24945.10546875\n",
      "Training with parameters: {'batch_size': 8, 'dropout_rate': 0.2, 'hidden_layers': 3, 'hidden_units': 128, 'learning_rate': 0.01}\n"
     ]
    },
    {
     "name": "stderr",
     "output_type": "stream",
     "text": [
      "2024-03-14 23:08:03.769915: I tensorflow/core/grappler/optimizers/custom_graph_optimizer_registry.cc:114] Plugin optimizer for device_type GPU is enabled.\n",
      "2024-03-14 23:08:09.389800: I tensorflow/core/grappler/optimizers/custom_graph_optimizer_registry.cc:114] Plugin optimizer for device_type GPU is enabled.\n",
      "/Library/Frameworks/Python.framework/Versions/3.11/lib/python3.11/site-packages/keras/src/engine/training.py:3000: UserWarning: You are saving your model as an HDF5 file via `model.save()`. This file format is considered legacy. We recommend using instead the native Keras format, e.g. `model.save('my_model.keras')`.\n",
      "  saving_api.save_model(\n"
     ]
    },
    {
     "name": "stdout",
     "output_type": "stream",
     "text": [
      "Epoch 36: early stopping\n",
      "Validation MAE : 2386315.75\n",
      "Validation MSE : 1026.912109375\n",
      "Training with parameters: {'batch_size': 8, 'dropout_rate': 0.2, 'hidden_layers': 3, 'hidden_units': 128, 'learning_rate': 0.1}\n"
     ]
    },
    {
     "name": "stderr",
     "output_type": "stream",
     "text": [
      "2024-03-14 23:08:52.662087: I tensorflow/core/grappler/optimizers/custom_graph_optimizer_registry.cc:114] Plugin optimizer for device_type GPU is enabled.\n",
      "2024-03-14 23:08:58.515256: I tensorflow/core/grappler/optimizers/custom_graph_optimizer_registry.cc:114] Plugin optimizer for device_type GPU is enabled.\n",
      "/Library/Frameworks/Python.framework/Versions/3.11/lib/python3.11/site-packages/keras/src/engine/training.py:3000: UserWarning: You are saving your model as an HDF5 file via `model.save()`. This file format is considered legacy. We recommend using instead the native Keras format, e.g. `model.save('my_model.keras')`.\n",
      "  saving_api.save_model(\n"
     ]
    },
    {
     "name": "stdout",
     "output_type": "stream",
     "text": [
      "Epoch 21: early stopping\n",
      "Validation MAE : 163718840320.0\n",
      "Validation MSE : 359562.25\n",
      "Training with parameters: {'batch_size': 8, 'dropout_rate': 0.2, 'hidden_layers': 3, 'hidden_units': 64, 'learning_rate': 0.001}\n"
     ]
    },
    {
     "name": "stderr",
     "output_type": "stream",
     "text": [
      "2024-03-14 23:09:24.888230: I tensorflow/core/grappler/optimizers/custom_graph_optimizer_registry.cc:114] Plugin optimizer for device_type GPU is enabled.\n",
      "2024-03-14 23:09:31.109599: I tensorflow/core/grappler/optimizers/custom_graph_optimizer_registry.cc:114] Plugin optimizer for device_type GPU is enabled.\n",
      "/Library/Frameworks/Python.framework/Versions/3.11/lib/python3.11/site-packages/keras/src/engine/training.py:3000: UserWarning: You are saving your model as an HDF5 file via `model.save()`. This file format is considered legacy. We recommend using instead the native Keras format, e.g. `model.save('my_model.keras')`.\n",
      "  saving_api.save_model(\n"
     ]
    },
    {
     "name": "stdout",
     "output_type": "stream",
     "text": [
      "Epoch 49: early stopping\n",
      "Validation MAE : 616476480.0\n",
      "Validation MSE : 19579.94140625\n",
      "Training with parameters: {'batch_size': 8, 'dropout_rate': 0.2, 'hidden_layers': 3, 'hidden_units': 64, 'learning_rate': 0.01}\n"
     ]
    },
    {
     "name": "stderr",
     "output_type": "stream",
     "text": [
      "2024-03-14 23:10:28.485706: I tensorflow/core/grappler/optimizers/custom_graph_optimizer_registry.cc:114] Plugin optimizer for device_type GPU is enabled.\n",
      "2024-03-14 23:10:34.061448: I tensorflow/core/grappler/optimizers/custom_graph_optimizer_registry.cc:114] Plugin optimizer for device_type GPU is enabled.\n",
      "/Library/Frameworks/Python.framework/Versions/3.11/lib/python3.11/site-packages/keras/src/engine/training.py:3000: UserWarning: You are saving your model as an HDF5 file via `model.save()`. This file format is considered legacy. We recommend using instead the native Keras format, e.g. `model.save('my_model.keras')`.\n",
      "  saving_api.save_model(\n"
     ]
    },
    {
     "name": "stdout",
     "output_type": "stream",
     "text": [
      "Epoch 30: early stopping\n",
      "Validation MAE : 493192.34375\n",
      "Validation MSE : 430.899658203125\n",
      "Training with parameters: {'batch_size': 8, 'dropout_rate': 0.2, 'hidden_layers': 3, 'hidden_units': 64, 'learning_rate': 0.1}\n"
     ]
    },
    {
     "name": "stderr",
     "output_type": "stream",
     "text": [
      "2024-03-14 23:11:09.914413: I tensorflow/core/grappler/optimizers/custom_graph_optimizer_registry.cc:114] Plugin optimizer for device_type GPU is enabled.\n",
      "2024-03-14 23:11:15.311027: I tensorflow/core/grappler/optimizers/custom_graph_optimizer_registry.cc:114] Plugin optimizer for device_type GPU is enabled.\n",
      "/Library/Frameworks/Python.framework/Versions/3.11/lib/python3.11/site-packages/keras/src/engine/training.py:3000: UserWarning: You are saving your model as an HDF5 file via `model.save()`. This file format is considered legacy. We recommend using instead the native Keras format, e.g. `model.save('my_model.keras')`.\n",
      "  saving_api.save_model(\n"
     ]
    },
    {
     "name": "stdout",
     "output_type": "stream",
     "text": [
      "Epoch 21: early stopping\n",
      "Validation MAE : 5927354368.0\n",
      "Validation MSE : 67915.3203125\n",
      "Training with parameters: {'batch_size': 8, 'dropout_rate': 0.2, 'hidden_layers': 3, 'hidden_units': 32, 'learning_rate': 0.001}\n"
     ]
    },
    {
     "name": "stderr",
     "output_type": "stream",
     "text": [
      "2024-03-14 23:11:41.095374: I tensorflow/core/grappler/optimizers/custom_graph_optimizer_registry.cc:114] Plugin optimizer for device_type GPU is enabled.\n",
      "2024-03-14 23:11:46.699436: I tensorflow/core/grappler/optimizers/custom_graph_optimizer_registry.cc:114] Plugin optimizer for device_type GPU is enabled.\n",
      "/Library/Frameworks/Python.framework/Versions/3.11/lib/python3.11/site-packages/keras/src/engine/training.py:3000: UserWarning: You are saving your model as an HDF5 file via `model.save()`. This file format is considered legacy. We recommend using instead the native Keras format, e.g. `model.save('my_model.keras')`.\n",
      "  saving_api.save_model(\n"
     ]
    },
    {
     "name": "stdout",
     "output_type": "stream",
     "text": [
      "Epoch 42: early stopping\n",
      "Validation MAE : 2383027.75\n",
      "Validation MSE : 1027.2794189453125\n",
      "Training with parameters: {'batch_size': 8, 'dropout_rate': 0.2, 'hidden_layers': 3, 'hidden_units': 32, 'learning_rate': 0.01}\n"
     ]
    },
    {
     "name": "stderr",
     "output_type": "stream",
     "text": [
      "2024-03-14 23:12:35.747115: I tensorflow/core/grappler/optimizers/custom_graph_optimizer_registry.cc:114] Plugin optimizer for device_type GPU is enabled.\n",
      "2024-03-14 23:12:41.605220: I tensorflow/core/grappler/optimizers/custom_graph_optimizer_registry.cc:114] Plugin optimizer for device_type GPU is enabled.\n",
      "/Library/Frameworks/Python.framework/Versions/3.11/lib/python3.11/site-packages/keras/src/engine/training.py:3000: UserWarning: You are saving your model as an HDF5 file via `model.save()`. This file format is considered legacy. We recommend using instead the native Keras format, e.g. `model.save('my_model.keras')`.\n",
      "  saving_api.save_model(\n"
     ]
    },
    {
     "name": "stdout",
     "output_type": "stream",
     "text": [
      "Epoch 47: early stopping\n",
      "Validation MAE : 19882640.0\n",
      "Validation MSE : 3443.949462890625\n",
      "Training with parameters: {'batch_size': 8, 'dropout_rate': 0.2, 'hidden_layers': 3, 'hidden_units': 32, 'learning_rate': 0.1}\n"
     ]
    },
    {
     "name": "stderr",
     "output_type": "stream",
     "text": [
      "2024-03-14 23:13:36.286310: I tensorflow/core/grappler/optimizers/custom_graph_optimizer_registry.cc:114] Plugin optimizer for device_type GPU is enabled.\n",
      "2024-03-14 23:13:42.253447: I tensorflow/core/grappler/optimizers/custom_graph_optimizer_registry.cc:114] Plugin optimizer for device_type GPU is enabled.\n",
      "/Library/Frameworks/Python.framework/Versions/3.11/lib/python3.11/site-packages/keras/src/engine/training.py:3000: UserWarning: You are saving your model as an HDF5 file via `model.save()`. This file format is considered legacy. We recommend using instead the native Keras format, e.g. `model.save('my_model.keras')`.\n",
      "  saving_api.save_model(\n"
     ]
    },
    {
     "name": "stdout",
     "output_type": "stream",
     "text": [
      "Epoch 37: early stopping\n",
      "Validation MAE : 689627987968.0\n",
      "Validation MSE : 600367.5625\n",
      "Training with parameters: {'batch_size': 8, 'dropout_rate': 0.3, 'hidden_layers': 1, 'hidden_units': 128, 'learning_rate': 0.001}\n"
     ]
    },
    {
     "name": "stderr",
     "output_type": "stream",
     "text": [
      "2024-03-14 23:14:26.520998: I tensorflow/core/grappler/optimizers/custom_graph_optimizer_registry.cc:114] Plugin optimizer for device_type GPU is enabled.\n",
      "2024-03-14 23:14:30.602116: I tensorflow/core/grappler/optimizers/custom_graph_optimizer_registry.cc:114] Plugin optimizer for device_type GPU is enabled.\n",
      "/Library/Frameworks/Python.framework/Versions/3.11/lib/python3.11/site-packages/keras/src/engine/training.py:3000: UserWarning: You are saving your model as an HDF5 file via `model.save()`. This file format is considered legacy. We recommend using instead the native Keras format, e.g. `model.save('my_model.keras')`.\n",
      "  saving_api.save_model(\n"
     ]
    },
    {
     "name": "stdout",
     "output_type": "stream",
     "text": [
      "Epoch 81: early stopping\n",
      "Validation MAE : 23918.732421875\n",
      "Validation MSE : 92.41242980957031\n",
      "Training with parameters: {'batch_size': 8, 'dropout_rate': 0.3, 'hidden_layers': 1, 'hidden_units': 128, 'learning_rate': 0.01}\n"
     ]
    },
    {
     "name": "stderr",
     "output_type": "stream",
     "text": [
      "2024-03-14 23:15:42.855447: I tensorflow/core/grappler/optimizers/custom_graph_optimizer_registry.cc:114] Plugin optimizer for device_type GPU is enabled.\n",
      "2024-03-14 23:15:47.613356: I tensorflow/core/grappler/optimizers/custom_graph_optimizer_registry.cc:114] Plugin optimizer for device_type GPU is enabled.\n",
      "/Library/Frameworks/Python.framework/Versions/3.11/lib/python3.11/site-packages/keras/src/engine/training.py:3000: UserWarning: You are saving your model as an HDF5 file via `model.save()`. This file format is considered legacy. We recommend using instead the native Keras format, e.g. `model.save('my_model.keras')`.\n",
      "  saving_api.save_model(\n"
     ]
    },
    {
     "name": "stdout",
     "output_type": "stream",
     "text": [
      "Epoch 28: early stopping\n",
      "Validation MAE : 3232.130859375\n",
      "Validation MSE : 34.05023193359375\n",
      "Training with parameters: {'batch_size': 8, 'dropout_rate': 0.3, 'hidden_layers': 1, 'hidden_units': 128, 'learning_rate': 0.1}\n"
     ]
    },
    {
     "name": "stderr",
     "output_type": "stream",
     "text": [
      "2024-03-14 23:16:13.899172: I tensorflow/core/grappler/optimizers/custom_graph_optimizer_registry.cc:114] Plugin optimizer for device_type GPU is enabled.\n",
      "2024-03-14 23:16:20.084077: I tensorflow/core/grappler/optimizers/custom_graph_optimizer_registry.cc:114] Plugin optimizer for device_type GPU is enabled.\n",
      "/Library/Frameworks/Python.framework/Versions/3.11/lib/python3.11/site-packages/keras/src/engine/training.py:3000: UserWarning: You are saving your model as an HDF5 file via `model.save()`. This file format is considered legacy. We recommend using instead the native Keras format, e.g. `model.save('my_model.keras')`.\n",
      "  saving_api.save_model(\n"
     ]
    },
    {
     "name": "stdout",
     "output_type": "stream",
     "text": [
      "Epoch 24: early stopping\n",
      "Validation MAE : 929.2144165039062\n",
      "Validation MSE : 21.47503662109375\n",
      "Training with parameters: {'batch_size': 8, 'dropout_rate': 0.3, 'hidden_layers': 1, 'hidden_units': 64, 'learning_rate': 0.001}\n"
     ]
    },
    {
     "name": "stderr",
     "output_type": "stream",
     "text": [
      "2024-03-14 23:16:44.198365: I tensorflow/core/grappler/optimizers/custom_graph_optimizer_registry.cc:114] Plugin optimizer for device_type GPU is enabled.\n",
      "2024-03-14 23:16:48.501415: I tensorflow/core/grappler/optimizers/custom_graph_optimizer_registry.cc:114] Plugin optimizer for device_type GPU is enabled.\n",
      "/Library/Frameworks/Python.framework/Versions/3.11/lib/python3.11/site-packages/keras/src/engine/training.py:3000: UserWarning: You are saving your model as an HDF5 file via `model.save()`. This file format is considered legacy. We recommend using instead the native Keras format, e.g. `model.save('my_model.keras')`.\n",
      "  saving_api.save_model(\n"
     ]
    },
    {
     "name": "stdout",
     "output_type": "stream",
     "text": [
      "Epoch 103: early stopping\n",
      "Validation MAE : 4041.85009765625\n",
      "Validation MSE : 42.68947982788086\n",
      "Training with parameters: {'batch_size': 8, 'dropout_rate': 0.3, 'hidden_layers': 1, 'hidden_units': 64, 'learning_rate': 0.01}\n"
     ]
    },
    {
     "name": "stderr",
     "output_type": "stream",
     "text": [
      "2024-03-14 23:18:21.997869: I tensorflow/core/grappler/optimizers/custom_graph_optimizer_registry.cc:114] Plugin optimizer for device_type GPU is enabled.\n",
      "2024-03-14 23:18:26.165385: I tensorflow/core/grappler/optimizers/custom_graph_optimizer_registry.cc:114] Plugin optimizer for device_type GPU is enabled.\n",
      "/Library/Frameworks/Python.framework/Versions/3.11/lib/python3.11/site-packages/keras/src/engine/training.py:3000: UserWarning: You are saving your model as an HDF5 file via `model.save()`. This file format is considered legacy. We recommend using instead the native Keras format, e.g. `model.save('my_model.keras')`.\n",
      "  saving_api.save_model(\n"
     ]
    },
    {
     "name": "stdout",
     "output_type": "stream",
     "text": [
      "Epoch 35: early stopping\n",
      "Validation MAE : 7545.501953125\n",
      "Validation MSE : 63.01909255981445\n",
      "Training with parameters: {'batch_size': 8, 'dropout_rate': 0.3, 'hidden_layers': 1, 'hidden_units': 64, 'learning_rate': 0.1}\n"
     ]
    },
    {
     "name": "stderr",
     "output_type": "stream",
     "text": [
      "2024-03-14 23:18:58.724202: I tensorflow/core/grappler/optimizers/custom_graph_optimizer_registry.cc:114] Plugin optimizer for device_type GPU is enabled.\n",
      "2024-03-14 23:19:03.047301: I tensorflow/core/grappler/optimizers/custom_graph_optimizer_registry.cc:114] Plugin optimizer for device_type GPU is enabled.\n",
      "/Library/Frameworks/Python.framework/Versions/3.11/lib/python3.11/site-packages/keras/src/engine/training.py:3000: UserWarning: You are saving your model as an HDF5 file via `model.save()`. This file format is considered legacy. We recommend using instead the native Keras format, e.g. `model.save('my_model.keras')`.\n",
      "  saving_api.save_model(\n"
     ]
    },
    {
     "name": "stdout",
     "output_type": "stream",
     "text": [
      "Epoch 40: early stopping\n",
      "Validation MAE : 492.6009826660156\n",
      "Validation MSE : 12.876678466796875\n",
      "Training with parameters: {'batch_size': 8, 'dropout_rate': 0.3, 'hidden_layers': 1, 'hidden_units': 32, 'learning_rate': 0.001}\n"
     ]
    },
    {
     "name": "stderr",
     "output_type": "stream",
     "text": [
      "2024-03-14 23:19:39.948745: I tensorflow/core/grappler/optimizers/custom_graph_optimizer_registry.cc:114] Plugin optimizer for device_type GPU is enabled.\n",
      "2024-03-14 23:19:44.631664: I tensorflow/core/grappler/optimizers/custom_graph_optimizer_registry.cc:114] Plugin optimizer for device_type GPU is enabled.\n",
      "/Library/Frameworks/Python.framework/Versions/3.11/lib/python3.11/site-packages/keras/src/engine/training.py:3000: UserWarning: You are saving your model as an HDF5 file via `model.save()`. This file format is considered legacy. We recommend using instead the native Keras format, e.g. `model.save('my_model.keras')`.\n",
      "  saving_api.save_model(\n"
     ]
    },
    {
     "name": "stdout",
     "output_type": "stream",
     "text": [
      "Epoch 140: early stopping\n",
      "Validation MAE : 34137.54296875\n",
      "Validation MSE : 97.05125427246094\n",
      "Training with parameters: {'batch_size': 8, 'dropout_rate': 0.3, 'hidden_layers': 1, 'hidden_units': 32, 'learning_rate': 0.01}\n"
     ]
    },
    {
     "name": "stderr",
     "output_type": "stream",
     "text": [
      "2024-03-14 23:21:49.886379: I tensorflow/core/grappler/optimizers/custom_graph_optimizer_registry.cc:114] Plugin optimizer for device_type GPU is enabled.\n",
      "2024-03-14 23:21:54.453757: I tensorflow/core/grappler/optimizers/custom_graph_optimizer_registry.cc:114] Plugin optimizer for device_type GPU is enabled.\n",
      "/Library/Frameworks/Python.framework/Versions/3.11/lib/python3.11/site-packages/keras/src/engine/training.py:3000: UserWarning: You are saving your model as an HDF5 file via `model.save()`. This file format is considered legacy. We recommend using instead the native Keras format, e.g. `model.save('my_model.keras')`.\n",
      "  saving_api.save_model(\n"
     ]
    },
    {
     "name": "stdout",
     "output_type": "stream",
     "text": [
      "Epoch 38: early stopping\n",
      "Validation MAE : 59920.76171875\n",
      "Validation MSE : 123.00834655761719\n",
      "Training with parameters: {'batch_size': 8, 'dropout_rate': 0.3, 'hidden_layers': 1, 'hidden_units': 32, 'learning_rate': 0.1}\n"
     ]
    },
    {
     "name": "stderr",
     "output_type": "stream",
     "text": [
      "2024-03-14 23:22:29.720209: I tensorflow/core/grappler/optimizers/custom_graph_optimizer_registry.cc:114] Plugin optimizer for device_type GPU is enabled.\n",
      "2024-03-14 23:22:34.073187: I tensorflow/core/grappler/optimizers/custom_graph_optimizer_registry.cc:114] Plugin optimizer for device_type GPU is enabled.\n",
      "/Library/Frameworks/Python.framework/Versions/3.11/lib/python3.11/site-packages/keras/src/engine/training.py:3000: UserWarning: You are saving your model as an HDF5 file via `model.save()`. This file format is considered legacy. We recommend using instead the native Keras format, e.g. `model.save('my_model.keras')`.\n",
      "  saving_api.save_model(\n"
     ]
    },
    {
     "name": "stdout",
     "output_type": "stream",
     "text": [
      "Epoch 23: early stopping\n",
      "Validation MAE : 3862.1318359375\n",
      "Validation MSE : 35.97379684448242\n",
      "Training with parameters: {'batch_size': 8, 'dropout_rate': 0.3, 'hidden_layers': 2, 'hidden_units': 128, 'learning_rate': 0.001}\n"
     ]
    },
    {
     "name": "stderr",
     "output_type": "stream",
     "text": [
      "2024-03-14 23:22:56.546412: I tensorflow/core/grappler/optimizers/custom_graph_optimizer_registry.cc:114] Plugin optimizer for device_type GPU is enabled.\n",
      "2024-03-14 23:23:02.237095: I tensorflow/core/grappler/optimizers/custom_graph_optimizer_registry.cc:114] Plugin optimizer for device_type GPU is enabled.\n",
      "/Library/Frameworks/Python.framework/Versions/3.11/lib/python3.11/site-packages/keras/src/engine/training.py:3000: UserWarning: You are saving your model as an HDF5 file via `model.save()`. This file format is considered legacy. We recommend using instead the native Keras format, e.g. `model.save('my_model.keras')`.\n",
      "  saving_api.save_model(\n"
     ]
    },
    {
     "name": "stdout",
     "output_type": "stream",
     "text": [
      "Epoch 42: early stopping\n",
      "Validation MAE : 339865.375\n",
      "Validation MSE : 422.88323974609375\n",
      "Training with parameters: {'batch_size': 8, 'dropout_rate': 0.3, 'hidden_layers': 2, 'hidden_units': 128, 'learning_rate': 0.01}\n"
     ]
    },
    {
     "name": "stderr",
     "output_type": "stream",
     "text": [
      "2024-03-14 23:23:45.783188: I tensorflow/core/grappler/optimizers/custom_graph_optimizer_registry.cc:114] Plugin optimizer for device_type GPU is enabled.\n",
      "2024-03-14 23:23:50.776493: I tensorflow/core/grappler/optimizers/custom_graph_optimizer_registry.cc:114] Plugin optimizer for device_type GPU is enabled.\n",
      "/Library/Frameworks/Python.framework/Versions/3.11/lib/python3.11/site-packages/keras/src/engine/training.py:3000: UserWarning: You are saving your model as an HDF5 file via `model.save()`. This file format is considered legacy. We recommend using instead the native Keras format, e.g. `model.save('my_model.keras')`.\n",
      "  saving_api.save_model(\n"
     ]
    },
    {
     "name": "stdout",
     "output_type": "stream",
     "text": [
      "Epoch 32: early stopping\n",
      "Validation MAE : 4587.78857421875\n",
      "Validation MSE : 52.84981918334961\n",
      "Training with parameters: {'batch_size': 8, 'dropout_rate': 0.3, 'hidden_layers': 2, 'hidden_units': 128, 'learning_rate': 0.1}\n"
     ]
    },
    {
     "name": "stderr",
     "output_type": "stream",
     "text": [
      "2024-03-14 23:24:24.829293: I tensorflow/core/grappler/optimizers/custom_graph_optimizer_registry.cc:114] Plugin optimizer for device_type GPU is enabled.\n",
      "2024-03-14 23:24:30.992671: I tensorflow/core/grappler/optimizers/custom_graph_optimizer_registry.cc:114] Plugin optimizer for device_type GPU is enabled.\n",
      "/Library/Frameworks/Python.framework/Versions/3.11/lib/python3.11/site-packages/keras/src/engine/training.py:3000: UserWarning: You are saving your model as an HDF5 file via `model.save()`. This file format is considered legacy. We recommend using instead the native Keras format, e.g. `model.save('my_model.keras')`.\n",
      "  saving_api.save_model(\n"
     ]
    },
    {
     "name": "stdout",
     "output_type": "stream",
     "text": [
      "Epoch 21: early stopping\n",
      "Validation MAE : 19884898304.0\n",
      "Validation MSE : 109792.078125\n",
      "Training with parameters: {'batch_size': 8, 'dropout_rate': 0.3, 'hidden_layers': 2, 'hidden_units': 64, 'learning_rate': 0.001}\n"
     ]
    },
    {
     "name": "stderr",
     "output_type": "stream",
     "text": [
      "2024-03-14 23:24:54.482669: I tensorflow/core/grappler/optimizers/custom_graph_optimizer_registry.cc:114] Plugin optimizer for device_type GPU is enabled.\n",
      "2024-03-14 23:24:59.655160: I tensorflow/core/grappler/optimizers/custom_graph_optimizer_registry.cc:114] Plugin optimizer for device_type GPU is enabled.\n",
      "/Library/Frameworks/Python.framework/Versions/3.11/lib/python3.11/site-packages/keras/src/engine/training.py:3000: UserWarning: You are saving your model as an HDF5 file via `model.save()`. This file format is considered legacy. We recommend using instead the native Keras format, e.g. `model.save('my_model.keras')`.\n",
      "  saving_api.save_model(\n"
     ]
    },
    {
     "name": "stdout",
     "output_type": "stream",
     "text": [
      "Epoch 49: early stopping\n",
      "Validation MAE : 1871226.875\n",
      "Validation MSE : 928.1459350585938\n",
      "Training with parameters: {'batch_size': 8, 'dropout_rate': 0.3, 'hidden_layers': 2, 'hidden_units': 64, 'learning_rate': 0.01}\n"
     ]
    },
    {
     "name": "stderr",
     "output_type": "stream",
     "text": [
      "2024-03-14 23:25:49.899570: I tensorflow/core/grappler/optimizers/custom_graph_optimizer_registry.cc:114] Plugin optimizer for device_type GPU is enabled.\n",
      "2024-03-14 23:25:55.720908: I tensorflow/core/grappler/optimizers/custom_graph_optimizer_registry.cc:114] Plugin optimizer for device_type GPU is enabled.\n",
      "/Library/Frameworks/Python.framework/Versions/3.11/lib/python3.11/site-packages/keras/src/engine/training.py:3000: UserWarning: You are saving your model as an HDF5 file via `model.save()`. This file format is considered legacy. We recommend using instead the native Keras format, e.g. `model.save('my_model.keras')`.\n",
      "  saving_api.save_model(\n"
     ]
    },
    {
     "name": "stdout",
     "output_type": "stream",
     "text": [
      "Epoch 52: early stopping\n",
      "Validation MAE : 308765.375\n",
      "Validation MSE : 410.9778747558594\n",
      "Training with parameters: {'batch_size': 8, 'dropout_rate': 0.3, 'hidden_layers': 2, 'hidden_units': 64, 'learning_rate': 0.1}\n"
     ]
    },
    {
     "name": "stderr",
     "output_type": "stream",
     "text": [
      "2024-03-14 23:26:52.117768: I tensorflow/core/grappler/optimizers/custom_graph_optimizer_registry.cc:114] Plugin optimizer for device_type GPU is enabled.\n",
      "2024-03-14 23:26:58.125160: I tensorflow/core/grappler/optimizers/custom_graph_optimizer_registry.cc:114] Plugin optimizer for device_type GPU is enabled.\n",
      "/Library/Frameworks/Python.framework/Versions/3.11/lib/python3.11/site-packages/keras/src/engine/training.py:3000: UserWarning: You are saving your model as an HDF5 file via `model.save()`. This file format is considered legacy. We recommend using instead the native Keras format, e.g. `model.save('my_model.keras')`.\n",
      "  saving_api.save_model(\n"
     ]
    },
    {
     "name": "stdout",
     "output_type": "stream",
     "text": [
      "Epoch 43: early stopping\n",
      "Validation MAE : 89878.109375\n",
      "Validation MSE : 241.4607696533203\n",
      "Training with parameters: {'batch_size': 8, 'dropout_rate': 0.3, 'hidden_layers': 2, 'hidden_units': 32, 'learning_rate': 0.001}\n"
     ]
    },
    {
     "name": "stderr",
     "output_type": "stream",
     "text": [
      "2024-03-14 23:27:47.707385: I tensorflow/core/grappler/optimizers/custom_graph_optimizer_registry.cc:114] Plugin optimizer for device_type GPU is enabled.\n",
      "2024-03-14 23:27:53.913107: I tensorflow/core/grappler/optimizers/custom_graph_optimizer_registry.cc:114] Plugin optimizer for device_type GPU is enabled.\n",
      "/Library/Frameworks/Python.framework/Versions/3.11/lib/python3.11/site-packages/keras/src/engine/training.py:3000: UserWarning: You are saving your model as an HDF5 file via `model.save()`. This file format is considered legacy. We recommend using instead the native Keras format, e.g. `model.save('my_model.keras')`.\n",
      "  saving_api.save_model(\n"
     ]
    },
    {
     "name": "stdout",
     "output_type": "stream",
     "text": [
      "Epoch 50: early stopping\n",
      "Validation MAE : 207016.25\n",
      "Validation MSE : 211.25579833984375\n",
      "Training with parameters: {'batch_size': 8, 'dropout_rate': 0.3, 'hidden_layers': 2, 'hidden_units': 32, 'learning_rate': 0.01}\n"
     ]
    },
    {
     "name": "stderr",
     "output_type": "stream",
     "text": [
      "2024-03-14 23:28:51.937147: I tensorflow/core/grappler/optimizers/custom_graph_optimizer_registry.cc:114] Plugin optimizer for device_type GPU is enabled.\n",
      "2024-03-14 23:28:57.911328: I tensorflow/core/grappler/optimizers/custom_graph_optimizer_registry.cc:114] Plugin optimizer for device_type GPU is enabled.\n",
      "/Library/Frameworks/Python.framework/Versions/3.11/lib/python3.11/site-packages/keras/src/engine/training.py:3000: UserWarning: You are saving your model as an HDF5 file via `model.save()`. This file format is considered legacy. We recommend using instead the native Keras format, e.g. `model.save('my_model.keras')`.\n",
      "  saving_api.save_model(\n"
     ]
    },
    {
     "name": "stdout",
     "output_type": "stream",
     "text": [
      "Epoch 42: early stopping\n",
      "Validation MAE : 1667337.375\n",
      "Validation MSE : 876.1259765625\n",
      "Training with parameters: {'batch_size': 8, 'dropout_rate': 0.3, 'hidden_layers': 2, 'hidden_units': 32, 'learning_rate': 0.1}\n"
     ]
    },
    {
     "name": "stderr",
     "output_type": "stream",
     "text": [
      "2024-03-14 23:29:46.542751: I tensorflow/core/grappler/optimizers/custom_graph_optimizer_registry.cc:114] Plugin optimizer for device_type GPU is enabled.\n",
      "2024-03-14 23:29:53.876770: I tensorflow/core/grappler/optimizers/custom_graph_optimizer_registry.cc:114] Plugin optimizer for device_type GPU is enabled.\n",
      "/Library/Frameworks/Python.framework/Versions/3.11/lib/python3.11/site-packages/keras/src/engine/training.py:3000: UserWarning: You are saving your model as an HDF5 file via `model.save()`. This file format is considered legacy. We recommend using instead the native Keras format, e.g. `model.save('my_model.keras')`.\n",
      "  saving_api.save_model(\n"
     ]
    },
    {
     "name": "stdout",
     "output_type": "stream",
     "text": [
      "Epoch 26: early stopping\n",
      "Validation MAE : 28420646.0\n",
      "Validation MSE : 3687.158203125\n",
      "Training with parameters: {'batch_size': 8, 'dropout_rate': 0.3, 'hidden_layers': 3, 'hidden_units': 128, 'learning_rate': 0.001}\n"
     ]
    },
    {
     "name": "stderr",
     "output_type": "stream",
     "text": [
      "2024-03-14 23:30:25.606216: I tensorflow/core/grappler/optimizers/custom_graph_optimizer_registry.cc:114] Plugin optimizer for device_type GPU is enabled.\n",
      "2024-03-14 23:30:33.972148: I tensorflow/core/grappler/optimizers/custom_graph_optimizer_registry.cc:114] Plugin optimizer for device_type GPU is enabled.\n",
      "/Library/Frameworks/Python.framework/Versions/3.11/lib/python3.11/site-packages/keras/src/engine/training.py:3000: UserWarning: You are saving your model as an HDF5 file via `model.save()`. This file format is considered legacy. We recommend using instead the native Keras format, e.g. `model.save('my_model.keras')`.\n",
      "  saving_api.save_model(\n"
     ]
    },
    {
     "name": "stdout",
     "output_type": "stream",
     "text": [
      "Epoch 21: early stopping\n",
      "Validation MAE : 2471520768.0\n",
      "Validation MSE : 39686.9140625\n",
      "Training with parameters: {'batch_size': 8, 'dropout_rate': 0.3, 'hidden_layers': 3, 'hidden_units': 128, 'learning_rate': 0.01}\n"
     ]
    },
    {
     "name": "stderr",
     "output_type": "stream",
     "text": [
      "2024-03-14 23:31:05.723128: I tensorflow/core/grappler/optimizers/custom_graph_optimizer_registry.cc:114] Plugin optimizer for device_type GPU is enabled.\n",
      "2024-03-14 23:31:15.222590: I tensorflow/core/grappler/optimizers/custom_graph_optimizer_registry.cc:114] Plugin optimizer for device_type GPU is enabled.\n",
      "/Library/Frameworks/Python.framework/Versions/3.11/lib/python3.11/site-packages/keras/src/engine/training.py:3000: UserWarning: You are saving your model as an HDF5 file via `model.save()`. This file format is considered legacy. We recommend using instead the native Keras format, e.g. `model.save('my_model.keras')`.\n",
      "  saving_api.save_model(\n"
     ]
    },
    {
     "name": "stdout",
     "output_type": "stream",
     "text": [
      "Epoch 46: early stopping\n",
      "Validation MAE : 1172450.75\n",
      "Validation MSE : 775.8590087890625\n",
      "Training with parameters: {'batch_size': 8, 'dropout_rate': 0.3, 'hidden_layers': 3, 'hidden_units': 128, 'learning_rate': 0.1}\n"
     ]
    },
    {
     "name": "stderr",
     "output_type": "stream",
     "text": [
      "2024-03-14 23:32:21.362546: I tensorflow/core/grappler/optimizers/custom_graph_optimizer_registry.cc:114] Plugin optimizer for device_type GPU is enabled.\n",
      "2024-03-14 23:32:30.142485: I tensorflow/core/grappler/optimizers/custom_graph_optimizer_registry.cc:114] Plugin optimizer for device_type GPU is enabled.\n",
      "/Library/Frameworks/Python.framework/Versions/3.11/lib/python3.11/site-packages/keras/src/engine/training.py:3000: UserWarning: You are saving your model as an HDF5 file via `model.save()`. This file format is considered legacy. We recommend using instead the native Keras format, e.g. `model.save('my_model.keras')`.\n",
      "  saving_api.save_model(\n"
     ]
    },
    {
     "name": "stdout",
     "output_type": "stream",
     "text": [
      "Epoch 21: early stopping\n",
      "Validation MAE : 693875320553472.0\n",
      "Validation MSE : 18960216.0\n",
      "Training with parameters: {'batch_size': 8, 'dropout_rate': 0.3, 'hidden_layers': 3, 'hidden_units': 64, 'learning_rate': 0.001}\n"
     ]
    },
    {
     "name": "stderr",
     "output_type": "stream",
     "text": [
      "2024-03-14 23:33:00.513481: I tensorflow/core/grappler/optimizers/custom_graph_optimizer_registry.cc:114] Plugin optimizer for device_type GPU is enabled.\n",
      "2024-03-14 23:33:08.656712: I tensorflow/core/grappler/optimizers/custom_graph_optimizer_registry.cc:114] Plugin optimizer for device_type GPU is enabled.\n",
      "/Library/Frameworks/Python.framework/Versions/3.11/lib/python3.11/site-packages/keras/src/engine/training.py:3000: UserWarning: You are saving your model as an HDF5 file via `model.save()`. This file format is considered legacy. We recommend using instead the native Keras format, e.g. `model.save('my_model.keras')`.\n",
      "  saving_api.save_model(\n"
     ]
    },
    {
     "name": "stdout",
     "output_type": "stream",
     "text": [
      "Epoch 21: early stopping\n",
      "Validation MAE : 1277840128.0\n",
      "Validation MSE : 28214.578125\n",
      "Training with parameters: {'batch_size': 8, 'dropout_rate': 0.3, 'hidden_layers': 3, 'hidden_units': 64, 'learning_rate': 0.01}\n"
     ]
    },
    {
     "name": "stderr",
     "output_type": "stream",
     "text": [
      "2024-03-14 23:33:39.848583: I tensorflow/core/grappler/optimizers/custom_graph_optimizer_registry.cc:114] Plugin optimizer for device_type GPU is enabled.\n",
      "2024-03-14 23:33:47.889955: I tensorflow/core/grappler/optimizers/custom_graph_optimizer_registry.cc:114] Plugin optimizer for device_type GPU is enabled.\n",
      "/Library/Frameworks/Python.framework/Versions/3.11/lib/python3.11/site-packages/keras/src/engine/training.py:3000: UserWarning: You are saving your model as an HDF5 file via `model.save()`. This file format is considered legacy. We recommend using instead the native Keras format, e.g. `model.save('my_model.keras')`.\n",
      "  saving_api.save_model(\n"
     ]
    },
    {
     "name": "stdout",
     "output_type": "stream",
     "text": [
      "Epoch 32: early stopping\n",
      "Validation MAE : 2608845.5\n",
      "Validation MSE : 1101.5118408203125\n",
      "Training with parameters: {'batch_size': 8, 'dropout_rate': 0.3, 'hidden_layers': 3, 'hidden_units': 64, 'learning_rate': 0.1}\n"
     ]
    },
    {
     "name": "stderr",
     "output_type": "stream",
     "text": [
      "2024-03-14 23:34:32.007468: I tensorflow/core/grappler/optimizers/custom_graph_optimizer_registry.cc:114] Plugin optimizer for device_type GPU is enabled.\n",
      "2024-03-14 23:34:40.786186: I tensorflow/core/grappler/optimizers/custom_graph_optimizer_registry.cc:114] Plugin optimizer for device_type GPU is enabled.\n",
      "/Library/Frameworks/Python.framework/Versions/3.11/lib/python3.11/site-packages/keras/src/engine/training.py:3000: UserWarning: You are saving your model as an HDF5 file via `model.save()`. This file format is considered legacy. We recommend using instead the native Keras format, e.g. `model.save('my_model.keras')`.\n",
      "  saving_api.save_model(\n"
     ]
    },
    {
     "name": "stdout",
     "output_type": "stream",
     "text": [
      "Epoch 21: early stopping\n",
      "Validation MAE : 4934718976.0\n",
      "Validation MSE : 58921.01953125\n",
      "Training with parameters: {'batch_size': 8, 'dropout_rate': 0.3, 'hidden_layers': 3, 'hidden_units': 32, 'learning_rate': 0.001}\n"
     ]
    },
    {
     "name": "stderr",
     "output_type": "stream",
     "text": [
      "2024-03-14 23:35:11.089151: I tensorflow/core/grappler/optimizers/custom_graph_optimizer_registry.cc:114] Plugin optimizer for device_type GPU is enabled.\n",
      "2024-03-14 23:35:19.388094: I tensorflow/core/grappler/optimizers/custom_graph_optimizer_registry.cc:114] Plugin optimizer for device_type GPU is enabled.\n",
      "/Library/Frameworks/Python.framework/Versions/3.11/lib/python3.11/site-packages/keras/src/engine/training.py:3000: UserWarning: You are saving your model as an HDF5 file via `model.save()`. This file format is considered legacy. We recommend using instead the native Keras format, e.g. `model.save('my_model.keras')`.\n",
      "  saving_api.save_model(\n"
     ]
    },
    {
     "name": "stdout",
     "output_type": "stream",
     "text": [
      "Epoch 22: early stopping\n",
      "Validation MAE : 53109028.0\n",
      "Validation MSE : 5063.93994140625\n",
      "Training with parameters: {'batch_size': 8, 'dropout_rate': 0.3, 'hidden_layers': 3, 'hidden_units': 32, 'learning_rate': 0.01}\n"
     ]
    },
    {
     "name": "stderr",
     "output_type": "stream",
     "text": [
      "2024-03-14 23:35:51.722673: I tensorflow/core/grappler/optimizers/custom_graph_optimizer_registry.cc:114] Plugin optimizer for device_type GPU is enabled.\n",
      "2024-03-14 23:35:59.919363: I tensorflow/core/grappler/optimizers/custom_graph_optimizer_registry.cc:114] Plugin optimizer for device_type GPU is enabled.\n",
      "/Library/Frameworks/Python.framework/Versions/3.11/lib/python3.11/site-packages/keras/src/engine/training.py:3000: UserWarning: You are saving your model as an HDF5 file via `model.save()`. This file format is considered legacy. We recommend using instead the native Keras format, e.g. `model.save('my_model.keras')`.\n",
      "  saving_api.save_model(\n"
     ]
    },
    {
     "name": "stdout",
     "output_type": "stream",
     "text": [
      "Epoch 43: early stopping\n",
      "Validation MAE : 6822422.0\n",
      "Validation MSE : 2016.0880126953125\n",
      "Training with parameters: {'batch_size': 8, 'dropout_rate': 0.3, 'hidden_layers': 3, 'hidden_units': 32, 'learning_rate': 0.1}\n"
     ]
    },
    {
     "name": "stderr",
     "output_type": "stream",
     "text": [
      "2024-03-14 23:36:57.658794: I tensorflow/core/grappler/optimizers/custom_graph_optimizer_registry.cc:114] Plugin optimizer for device_type GPU is enabled.\n",
      "2024-03-14 23:37:06.631536: I tensorflow/core/grappler/optimizers/custom_graph_optimizer_registry.cc:114] Plugin optimizer for device_type GPU is enabled.\n",
      "/Library/Frameworks/Python.framework/Versions/3.11/lib/python3.11/site-packages/keras/src/engine/training.py:3000: UserWarning: You are saving your model as an HDF5 file via `model.save()`. This file format is considered legacy. We recommend using instead the native Keras format, e.g. `model.save('my_model.keras')`.\n",
      "  saving_api.save_model(\n"
     ]
    },
    {
     "name": "stdout",
     "output_type": "stream",
     "text": [
      "Epoch 49: early stopping\n",
      "Validation MAE : 413984.625\n",
      "Validation MSE : 441.3730163574219\n",
      "Best parameters: {'batch_size': 32, 'dropout_rate': 0.2, 'hidden_layers': 1, 'hidden_units': 64, 'learning_rate': 0.001}\n",
      "Best validation MAE: 5.161391735076904\n"
     ]
    }
   ],
   "source": [
    "from sklearn.model_selection import ParameterGrid\n",
    "\n",
    "# 하이퍼파라미터 그리드 정의\n",
    "param_grid = {\n",
    "    'dropout_rate': [0.1 ,0.2, 0.3,],\n",
    "    'learning_rate': [0.001, 0.01, 0.1],\n",
    "    'hidden_layers': [1, 2, 3],\n",
    "    'hidden_units': [128, 64, 32],\n",
    "    'batch_size' : [32, 16, 8]\n",
    "}\n",
    "\n",
    "\n",
    "# 하이퍼파라미터 그리드를 순회하며 그리드 서치 실행\n",
    "\n",
    "best_mse = float('inf')\n",
    "best_params = {}\n",
    "new_df = pd.DataFrame()\n",
    "\n",
    "for params in ParameterGrid(param_grid):\n",
    "    print(\"Training with parameters:\", params)\n",
    "    \n",
    "    # 모델 생성\n",
    "    model = keras.Sequential()\n",
    "    model.add(keras.layers.Dense(params['hidden_units'], activation='relu', input_shape=(9, )))\n",
    "    model.add(keras.layers.Dropout(rate=params['dropout_rate']))\n",
    "    \n",
    "    for _ in range(params['hidden_layers']):\n",
    "        model.add(keras.layers.Dense(params['hidden_units'], activation='relu'))\n",
    "        model.add(keras.layers.Dropout(rate=params['dropout_rate']))\n",
    "    \n",
    "    model.add(keras.layers.Dense(8))\n",
    "    \n",
    "    # 모델 컴파일\n",
    "    optimizer = tf.keras.optimizers.legacy.Adam(learning_rate=params['learning_rate'])\n",
    "    model.compile(optimizer=optimizer, loss='mse', metrics=['mae', 'mse'])\n",
    "    \n",
    "    # 모델 훈련\n",
    "    history = model.fit(train_scale, train_output, batch_size = params['batch_size'], validation_data=(val_scale, val_output), epochs=1000, callbacks=[callback, checkpoint_cb], verbose=0)\n",
    "    \n",
    "    # 검증 세트에 대한 평가\n",
    "    metrics = model.evaluate(val_scale, val_output, verbose=0)\n",
    "    print(\"Validation MAE :\", metrics[0])\n",
    "    print(\"Validation MSE :\", metrics[1])\n",
    "    \n",
    "    #데이터 저장\n",
    "    data_params = [params['learning_rate'], params['dropout_rate'], params['hidden_layers'], params['hidden_units'], params['batch_size'], metrics[0], metrics[1]]\n",
    "    params_df = pd.DataFrame({\"Learning_Rate\" : [params['learning_rate']], 'Dropout_Rate' : [params['dropout_rate']], \"Hidden_units\" : [params['hidden_units']], \"Batch_size\" : [params['batch_size']], \"Validation_MAE\" : [metrics[0]], \"Validation_MSE\" : [metrics[1]]})\n",
    "    new_df = pd.concat([new_df, params_df], ignore_index = True)\n",
    "\n",
    "    # 최적의 하이퍼파라미터와 MAE 업데이트\n",
    "    if metrics[1] < best_mse:\n",
    "        best_mse = metrics[1]\n",
    "        best_params = params\n",
    "\n",
    "\n",
    "    # 최적의 하이퍼파라미터 저장    \n",
    "    model.save_weights('best-multiregression-hyperparameters.h5')\n",
    "print(\"Best parameters:\", best_params)\n",
    "print(\"Best validation MAE:\", best_mse)\n"
   ]
  },
  {
   "cell_type": "code",
   "execution_count": 37,
   "metadata": {},
   "outputs": [
    {
     "data": {
      "text/html": [
       "<div>\n",
       "<style scoped>\n",
       "    .dataframe tbody tr th:only-of-type {\n",
       "        vertical-align: middle;\n",
       "    }\n",
       "\n",
       "    .dataframe tbody tr th {\n",
       "        vertical-align: top;\n",
       "    }\n",
       "\n",
       "    .dataframe thead th {\n",
       "        text-align: right;\n",
       "    }\n",
       "</style>\n",
       "<table border=\"1\" class=\"dataframe\">\n",
       "  <thead>\n",
       "    <tr style=\"text-align: right;\">\n",
       "      <th></th>\n",
       "      <th>Learning_Rate</th>\n",
       "      <th>Dropout_Rate</th>\n",
       "      <th>Hidden_units</th>\n",
       "      <th>Batch_size</th>\n",
       "      <th>Validation_MAE</th>\n",
       "      <th>Validation_MSE</th>\n",
       "    </tr>\n",
       "  </thead>\n",
       "  <tbody>\n",
       "    <tr>\n",
       "      <th>0</th>\n",
       "      <td>0.001</td>\n",
       "      <td>0.1</td>\n",
       "      <td>128</td>\n",
       "      <td>32</td>\n",
       "      <td>1.238886e+03</td>\n",
       "      <td>25.943018</td>\n",
       "    </tr>\n",
       "    <tr>\n",
       "      <th>1</th>\n",
       "      <td>0.010</td>\n",
       "      <td>0.1</td>\n",
       "      <td>128</td>\n",
       "      <td>32</td>\n",
       "      <td>4.529864e+02</td>\n",
       "      <td>14.779751</td>\n",
       "    </tr>\n",
       "    <tr>\n",
       "      <th>2</th>\n",
       "      <td>0.100</td>\n",
       "      <td>0.1</td>\n",
       "      <td>128</td>\n",
       "      <td>32</td>\n",
       "      <td>2.096084e+03</td>\n",
       "      <td>27.660606</td>\n",
       "    </tr>\n",
       "    <tr>\n",
       "      <th>3</th>\n",
       "      <td>0.001</td>\n",
       "      <td>0.1</td>\n",
       "      <td>64</td>\n",
       "      <td>32</td>\n",
       "      <td>1.116832e+03</td>\n",
       "      <td>22.353708</td>\n",
       "    </tr>\n",
       "    <tr>\n",
       "      <th>4</th>\n",
       "      <td>0.010</td>\n",
       "      <td>0.1</td>\n",
       "      <td>64</td>\n",
       "      <td>32</td>\n",
       "      <td>5.535842e+02</td>\n",
       "      <td>12.886139</td>\n",
       "    </tr>\n",
       "    <tr>\n",
       "      <th>...</th>\n",
       "      <td>...</td>\n",
       "      <td>...</td>\n",
       "      <td>...</td>\n",
       "      <td>...</td>\n",
       "      <td>...</td>\n",
       "      <td>...</td>\n",
       "    </tr>\n",
       "    <tr>\n",
       "      <th>238</th>\n",
       "      <td>0.010</td>\n",
       "      <td>0.3</td>\n",
       "      <td>64</td>\n",
       "      <td>8</td>\n",
       "      <td>2.608846e+06</td>\n",
       "      <td>1101.511841</td>\n",
       "    </tr>\n",
       "    <tr>\n",
       "      <th>239</th>\n",
       "      <td>0.100</td>\n",
       "      <td>0.3</td>\n",
       "      <td>64</td>\n",
       "      <td>8</td>\n",
       "      <td>4.934719e+09</td>\n",
       "      <td>58921.019531</td>\n",
       "    </tr>\n",
       "    <tr>\n",
       "      <th>240</th>\n",
       "      <td>0.001</td>\n",
       "      <td>0.3</td>\n",
       "      <td>32</td>\n",
       "      <td>8</td>\n",
       "      <td>5.310903e+07</td>\n",
       "      <td>5063.939941</td>\n",
       "    </tr>\n",
       "    <tr>\n",
       "      <th>241</th>\n",
       "      <td>0.010</td>\n",
       "      <td>0.3</td>\n",
       "      <td>32</td>\n",
       "      <td>8</td>\n",
       "      <td>6.822422e+06</td>\n",
       "      <td>2016.088013</td>\n",
       "    </tr>\n",
       "    <tr>\n",
       "      <th>242</th>\n",
       "      <td>0.100</td>\n",
       "      <td>0.3</td>\n",
       "      <td>32</td>\n",
       "      <td>8</td>\n",
       "      <td>4.139846e+05</td>\n",
       "      <td>441.373016</td>\n",
       "    </tr>\n",
       "  </tbody>\n",
       "</table>\n",
       "<p>243 rows × 6 columns</p>\n",
       "</div>"
      ],
      "text/plain": [
       "     Learning_Rate  Dropout_Rate  Hidden_units  Batch_size  Validation_MAE   \n",
       "0            0.001           0.1           128          32    1.238886e+03  \\\n",
       "1            0.010           0.1           128          32    4.529864e+02   \n",
       "2            0.100           0.1           128          32    2.096084e+03   \n",
       "3            0.001           0.1            64          32    1.116832e+03   \n",
       "4            0.010           0.1            64          32    5.535842e+02   \n",
       "..             ...           ...           ...         ...             ...   \n",
       "238          0.010           0.3            64           8    2.608846e+06   \n",
       "239          0.100           0.3            64           8    4.934719e+09   \n",
       "240          0.001           0.3            32           8    5.310903e+07   \n",
       "241          0.010           0.3            32           8    6.822422e+06   \n",
       "242          0.100           0.3            32           8    4.139846e+05   \n",
       "\n",
       "     Validation_MSE  \n",
       "0         25.943018  \n",
       "1         14.779751  \n",
       "2         27.660606  \n",
       "3         22.353708  \n",
       "4         12.886139  \n",
       "..              ...  \n",
       "238     1101.511841  \n",
       "239    58921.019531  \n",
       "240     5063.939941  \n",
       "241     2016.088013  \n",
       "242      441.373016  \n",
       "\n",
       "[243 rows x 6 columns]"
      ]
     },
     "execution_count": 37,
     "metadata": {},
     "output_type": "execute_result"
    }
   ],
   "source": [
    "new_df.to_csv('gridsearch_hyperparameters_regression.csv')\n",
    "new_df"
   ]
  },
  {
   "cell_type": "code",
   "execution_count": 38,
   "metadata": {},
   "outputs": [
    {
     "data": {
      "text/html": [
       "<div>\n",
       "<style scoped>\n",
       "    .dataframe tbody tr th:only-of-type {\n",
       "        vertical-align: middle;\n",
       "    }\n",
       "\n",
       "    .dataframe tbody tr th {\n",
       "        vertical-align: top;\n",
       "    }\n",
       "\n",
       "    .dataframe thead th {\n",
       "        text-align: right;\n",
       "    }\n",
       "</style>\n",
       "<table border=\"1\" class=\"dataframe\">\n",
       "  <thead>\n",
       "    <tr style=\"text-align: right;\">\n",
       "      <th></th>\n",
       "      <th>Best_Hyperparameters</th>\n",
       "    </tr>\n",
       "  </thead>\n",
       "  <tbody>\n",
       "    <tr>\n",
       "      <th>Batch_Size</th>\n",
       "      <td>32.000000</td>\n",
       "    </tr>\n",
       "    <tr>\n",
       "      <th>Dropout_Rate</th>\n",
       "      <td>0.200000</td>\n",
       "    </tr>\n",
       "    <tr>\n",
       "      <th>Hidden_Layers</th>\n",
       "      <td>1.000000</td>\n",
       "    </tr>\n",
       "    <tr>\n",
       "      <th>Hidden_Units</th>\n",
       "      <td>64.000000</td>\n",
       "    </tr>\n",
       "    <tr>\n",
       "      <th>Learning_Rate</th>\n",
       "      <td>0.001000</td>\n",
       "    </tr>\n",
       "    <tr>\n",
       "      <th>Best_MSE</th>\n",
       "      <td>5.161392</td>\n",
       "    </tr>\n",
       "  </tbody>\n",
       "</table>\n",
       "</div>"
      ],
      "text/plain": [
       "               Best_Hyperparameters\n",
       "Batch_Size                32.000000\n",
       "Dropout_Rate               0.200000\n",
       "Hidden_Layers              1.000000\n",
       "Hidden_Units              64.000000\n",
       "Learning_Rate              0.001000\n",
       "Best_MSE                   5.161392"
      ]
     },
     "execution_count": 38,
     "metadata": {},
     "output_type": "execute_result"
    }
   ],
   "source": [
    "data = [best_params['batch_size'], best_params['dropout_rate'], best_params['hidden_layers'], best_params['hidden_units'], best_params['learning_rate'], best_mse]\n",
    "grid_result = pd.DataFrame(data=data, columns = ['Best_Hyperparameters'], index = ['Batch_Size', 'Dropout_Rate', 'Hidden_Layers', 'Hidden_Units', 'Learning_Rate', 'Best_MSE'])\n",
    "grid_result.to_csv('Regression_GridSearch_Result')\n",
    "grid_result"
   ]
  },
  {
   "cell_type": "code",
   "execution_count": null,
   "metadata": {},
   "outputs": [],
   "source": []
  }
 ],
 "metadata": {
  "kernelspec": {
   "display_name": "Python 3",
   "language": "python",
   "name": "python3"
  },
  "language_info": {
   "codemirror_mode": {
    "name": "ipython",
    "version": 3
   },
   "file_extension": ".py",
   "mimetype": "text/x-python",
   "name": "python",
   "nbconvert_exporter": "python",
   "pygments_lexer": "ipython3",
   "version": "3.11.2"
  },
  "orig_nbformat": 4
 },
 "nbformat": 4,
 "nbformat_minor": 2
}
