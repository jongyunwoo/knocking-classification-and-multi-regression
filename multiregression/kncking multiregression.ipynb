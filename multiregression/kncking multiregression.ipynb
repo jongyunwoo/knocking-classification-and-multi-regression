{
 "cells": [
  {
   "attachments": {},
   "cell_type": "markdown",
   "metadata": {},
   "source": [
    "# Data preprocessing and split"
   ]
  },
  {
   "cell_type": "code",
   "execution_count": 1,
   "metadata": {},
   "outputs": [
    {
     "name": "stdout",
     "output_type": "stream",
     "text": [
      "2.13.0\n"
     ]
    }
   ],
   "source": [
    "import pandas as pd\n",
    "import numpy as np\n",
    "import matplotlib.pyplot as plt\n",
    "import tensorflow as tf\n",
    "from tensorflow import keras\n",
    "from keras import optimizers\n",
    "from sklearn.preprocessing import StandardScaler\n",
    "from sklearn.model_selection import train_test_split\n",
    "\n",
    "print(tf.__version__)"
   ]
  },
  {
   "cell_type": "code",
   "execution_count": 2,
   "metadata": {},
   "outputs": [
    {
     "data": {
      "text/html": [
       "<div>\n",
       "<style scoped>\n",
       "    .dataframe tbody tr th:only-of-type {\n",
       "        vertical-align: middle;\n",
       "    }\n",
       "\n",
       "    .dataframe tbody tr th {\n",
       "        vertical-align: top;\n",
       "    }\n",
       "\n",
       "    .dataframe thead th {\n",
       "        text-align: right;\n",
       "    }\n",
       "</style>\n",
       "<table border=\"1\" class=\"dataframe\">\n",
       "  <thead>\n",
       "    <tr style=\"text-align: right;\">\n",
       "      <th></th>\n",
       "      <th>Case</th>\n",
       "      <th>Engine Speed</th>\n",
       "      <th>Spark Timing</th>\n",
       "      <th>Throttle Angle</th>\n",
       "      <th>Ambient Temperature</th>\n",
       "      <th>Intake Pressure</th>\n",
       "      <th>Intake Temperature</th>\n",
       "      <th>Exhaust Pressure</th>\n",
       "      <th>Exhaust Temperature</th>\n",
       "      <th>Injected Mass</th>\n",
       "      <th>Maximum Pressure</th>\n",
       "      <th>Crank Angle at Maximum Pressure</th>\n",
       "      <th>Maximum Rate of Pressure Rise</th>\n",
       "      <th>BMEP</th>\n",
       "      <th>IMEP</th>\n",
       "      <th>BSFC</th>\n",
       "      <th>BSNOx</th>\n",
       "      <th>BSCO</th>\n",
       "      <th>Knocking Index</th>\n",
       "      <th>Knocking</th>\n",
       "    </tr>\n",
       "  </thead>\n",
       "  <tbody>\n",
       "    <tr>\n",
       "      <th>547</th>\n",
       "      <td>546.0</td>\n",
       "      <td>2000</td>\n",
       "      <td>-10</td>\n",
       "      <td>30</td>\n",
       "      <td>283</td>\n",
       "      <td>0.975</td>\n",
       "      <td>288.8</td>\n",
       "      <td>1.069</td>\n",
       "      <td>858.7</td>\n",
       "      <td>36.89</td>\n",
       "      <td>39.8</td>\n",
       "      <td>27.96</td>\n",
       "      <td>1.33</td>\n",
       "      <td>8.67</td>\n",
       "      <td>10.1</td>\n",
       "      <td>307.4</td>\n",
       "      <td>2.91</td>\n",
       "      <td>222.7</td>\n",
       "      <td>0.0</td>\n",
       "      <td>0.0</td>\n",
       "    </tr>\n",
       "    <tr>\n",
       "      <th>548</th>\n",
       "      <td>547.0</td>\n",
       "      <td>2000</td>\n",
       "      <td>-10</td>\n",
       "      <td>30</td>\n",
       "      <td>293</td>\n",
       "      <td>0.974</td>\n",
       "      <td>295.5</td>\n",
       "      <td>1.068</td>\n",
       "      <td>858.6</td>\n",
       "      <td>36.61</td>\n",
       "      <td>39.5</td>\n",
       "      <td>27.48</td>\n",
       "      <td>1.32</td>\n",
       "      <td>8.6</td>\n",
       "      <td>9.98</td>\n",
       "      <td>307.2</td>\n",
       "      <td>2.99</td>\n",
       "      <td>220.9</td>\n",
       "      <td>0.0</td>\n",
       "      <td>0.0</td>\n",
       "    </tr>\n",
       "    <tr>\n",
       "      <th>549</th>\n",
       "      <td>548.0</td>\n",
       "      <td>2000</td>\n",
       "      <td>-10</td>\n",
       "      <td>30</td>\n",
       "      <td>303</td>\n",
       "      <td>0.974</td>\n",
       "      <td>302.3</td>\n",
       "      <td>1.067</td>\n",
       "      <td>858.1</td>\n",
       "      <td>36.35</td>\n",
       "      <td>39.2</td>\n",
       "      <td>27.62</td>\n",
       "      <td>1.31</td>\n",
       "      <td>8.53</td>\n",
       "      <td>9.86</td>\n",
       "      <td>307.5</td>\n",
       "      <td>3.03</td>\n",
       "      <td>221.4</td>\n",
       "      <td>0.0</td>\n",
       "      <td>0.0</td>\n",
       "    </tr>\n",
       "    <tr>\n",
       "      <th>550</th>\n",
       "      <td>549.0</td>\n",
       "      <td>2000</td>\n",
       "      <td>-10</td>\n",
       "      <td>35</td>\n",
       "      <td>283</td>\n",
       "      <td>0.982</td>\n",
       "      <td>288.8</td>\n",
       "      <td>1.07</td>\n",
       "      <td>861.2</td>\n",
       "      <td>37.35</td>\n",
       "      <td>40.9</td>\n",
       "      <td>27.25</td>\n",
       "      <td>1.39</td>\n",
       "      <td>8.82</td>\n",
       "      <td>10.31</td>\n",
       "      <td>304.4</td>\n",
       "      <td>3.23</td>\n",
       "      <td>215.2</td>\n",
       "      <td>0.0</td>\n",
       "      <td>0.0</td>\n",
       "    </tr>\n",
       "    <tr>\n",
       "      <th>551</th>\n",
       "      <td>550.0</td>\n",
       "      <td>2000</td>\n",
       "      <td>-10</td>\n",
       "      <td>35</td>\n",
       "      <td>293</td>\n",
       "      <td>0.982</td>\n",
       "      <td>295.6</td>\n",
       "      <td>1.069</td>\n",
       "      <td>858.9</td>\n",
       "      <td>37.1</td>\n",
       "      <td>40.6</td>\n",
       "      <td>27.41</td>\n",
       "      <td>1.39</td>\n",
       "      <td>8.75</td>\n",
       "      <td>10.19</td>\n",
       "      <td>306.1</td>\n",
       "      <td>3.09</td>\n",
       "      <td>221.4</td>\n",
       "      <td>0.0</td>\n",
       "      <td>0.0</td>\n",
       "    </tr>\n",
       "    <tr>\n",
       "      <th>...</th>\n",
       "      <td>...</td>\n",
       "      <td>...</td>\n",
       "      <td>...</td>\n",
       "      <td>...</td>\n",
       "      <td>...</td>\n",
       "      <td>...</td>\n",
       "      <td>...</td>\n",
       "      <td>...</td>\n",
       "      <td>...</td>\n",
       "      <td>...</td>\n",
       "      <td>...</td>\n",
       "      <td>...</td>\n",
       "      <td>...</td>\n",
       "      <td>...</td>\n",
       "      <td>...</td>\n",
       "      <td>...</td>\n",
       "      <td>...</td>\n",
       "      <td>...</td>\n",
       "      <td>...</td>\n",
       "      <td>...</td>\n",
       "    </tr>\n",
       "    <tr>\n",
       "      <th>2141</th>\n",
       "      <td>2140.0</td>\n",
       "      <td>6000</td>\n",
       "      <td>-10</td>\n",
       "      <td>85</td>\n",
       "      <td>293</td>\n",
       "      <td>0.969</td>\n",
       "      <td>294.1</td>\n",
       "      <td>1.493</td>\n",
       "      <td>1088.4</td>\n",
       "      <td>48.07</td>\n",
       "      <td>33.1</td>\n",
       "      <td>36.97</td>\n",
       "      <td>0.78</td>\n",
       "      <td>8.13</td>\n",
       "      <td>10.29</td>\n",
       "      <td>426</td>\n",
       "      <td>1.73</td>\n",
       "      <td>403</td>\n",
       "      <td>0.0</td>\n",
       "      <td>0.0</td>\n",
       "    </tr>\n",
       "    <tr>\n",
       "      <th>2142</th>\n",
       "      <td>2141.0</td>\n",
       "      <td>6000</td>\n",
       "      <td>-10</td>\n",
       "      <td>85</td>\n",
       "      <td>303</td>\n",
       "      <td>0.969</td>\n",
       "      <td>301.6</td>\n",
       "      <td>1.488</td>\n",
       "      <td>1089.5</td>\n",
       "      <td>47.74</td>\n",
       "      <td>33.3</td>\n",
       "      <td>36.99</td>\n",
       "      <td>0.78</td>\n",
       "      <td>8.08</td>\n",
       "      <td>10.27</td>\n",
       "      <td>425.9</td>\n",
       "      <td>1.81</td>\n",
       "      <td>402.8</td>\n",
       "      <td>0.0</td>\n",
       "      <td>0.0</td>\n",
       "    </tr>\n",
       "    <tr>\n",
       "      <th>2143</th>\n",
       "      <td>2142.0</td>\n",
       "      <td>6000</td>\n",
       "      <td>-10</td>\n",
       "      <td>90</td>\n",
       "      <td>283</td>\n",
       "      <td>0.97</td>\n",
       "      <td>286.6</td>\n",
       "      <td>1.498</td>\n",
       "      <td>1088.9</td>\n",
       "      <td>48.4</td>\n",
       "      <td>32.9</td>\n",
       "      <td>37.96</td>\n",
       "      <td>0.78</td>\n",
       "      <td>8.2</td>\n",
       "      <td>10.31</td>\n",
       "      <td>424.8</td>\n",
       "      <td>1.72</td>\n",
       "      <td>399.2</td>\n",
       "      <td>0.0</td>\n",
       "      <td>0.0</td>\n",
       "    </tr>\n",
       "    <tr>\n",
       "      <th>2144</th>\n",
       "      <td>2143.0</td>\n",
       "      <td>6000</td>\n",
       "      <td>-10</td>\n",
       "      <td>90</td>\n",
       "      <td>293</td>\n",
       "      <td>0.969</td>\n",
       "      <td>294.1</td>\n",
       "      <td>1.493</td>\n",
       "      <td>1088.5</td>\n",
       "      <td>48.08</td>\n",
       "      <td>33.1</td>\n",
       "      <td>36.97</td>\n",
       "      <td>0.78</td>\n",
       "      <td>8.14</td>\n",
       "      <td>10.29</td>\n",
       "      <td>425.9</td>\n",
       "      <td>1.74</td>\n",
       "      <td>402.7</td>\n",
       "      <td>0.0</td>\n",
       "      <td>0.0</td>\n",
       "    </tr>\n",
       "    <tr>\n",
       "      <th>2145</th>\n",
       "      <td>2144.0</td>\n",
       "      <td>6000</td>\n",
       "      <td>-10</td>\n",
       "      <td>90</td>\n",
       "      <td>303</td>\n",
       "      <td>0.969</td>\n",
       "      <td>301.6</td>\n",
       "      <td>1.488</td>\n",
       "      <td>1089.2</td>\n",
       "      <td>47.75</td>\n",
       "      <td>33.3</td>\n",
       "      <td>36.99</td>\n",
       "      <td>0.78</td>\n",
       "      <td>8.08</td>\n",
       "      <td>10.27</td>\n",
       "      <td>426</td>\n",
       "      <td>1.8</td>\n",
       "      <td>403.3</td>\n",
       "      <td>0.0</td>\n",
       "      <td>0.0</td>\n",
       "    </tr>\n",
       "  </tbody>\n",
       "</table>\n",
       "<p>1064 rows × 20 columns</p>\n",
       "</div>"
      ],
      "text/plain": [
       "        Case Engine Speed Spark Timing Throttle Angle Ambient Temperature   \n",
       "547    546.0         2000          -10             30                 283  \\\n",
       "548    547.0         2000          -10             30                 293   \n",
       "549    548.0         2000          -10             30                 303   \n",
       "550    549.0         2000          -10             35                 283   \n",
       "551    550.0         2000          -10             35                 293   \n",
       "...      ...          ...          ...            ...                 ...   \n",
       "2141  2140.0         6000          -10             85                 293   \n",
       "2142  2141.0         6000          -10             85                 303   \n",
       "2143  2142.0         6000          -10             90                 283   \n",
       "2144  2143.0         6000          -10             90                 293   \n",
       "2145  2144.0         6000          -10             90                 303   \n",
       "\n",
       "     Intake Pressure Intake Temperature Exhaust Pressure Exhaust Temperature   \n",
       "547            0.975              288.8            1.069               858.7  \\\n",
       "548            0.974              295.5            1.068               858.6   \n",
       "549            0.974              302.3            1.067               858.1   \n",
       "550            0.982              288.8             1.07               861.2   \n",
       "551            0.982              295.6            1.069               858.9   \n",
       "...              ...                ...              ...                 ...   \n",
       "2141           0.969              294.1            1.493              1088.4   \n",
       "2142           0.969              301.6            1.488              1089.5   \n",
       "2143            0.97              286.6            1.498              1088.9   \n",
       "2144           0.969              294.1            1.493              1088.5   \n",
       "2145           0.969              301.6            1.488              1089.2   \n",
       "\n",
       "     Injected Mass Maximum Pressure Crank Angle at Maximum Pressure   \n",
       "547          36.89             39.8                           27.96  \\\n",
       "548          36.61             39.5                           27.48   \n",
       "549          36.35             39.2                           27.62   \n",
       "550          37.35             40.9                           27.25   \n",
       "551           37.1             40.6                           27.41   \n",
       "...            ...              ...                             ...   \n",
       "2141         48.07             33.1                           36.97   \n",
       "2142         47.74             33.3                           36.99   \n",
       "2143          48.4             32.9                           37.96   \n",
       "2144         48.08             33.1                           36.97   \n",
       "2145         47.75             33.3                           36.99   \n",
       "\n",
       "     Maximum Rate of Pressure Rise  BMEP   IMEP   BSFC BSNOx   BSCO   \n",
       "547                           1.33  8.67   10.1  307.4  2.91  222.7  \\\n",
       "548                           1.32   8.6   9.98  307.2  2.99  220.9   \n",
       "549                           1.31  8.53   9.86  307.5  3.03  221.4   \n",
       "550                           1.39  8.82  10.31  304.4  3.23  215.2   \n",
       "551                           1.39  8.75  10.19  306.1  3.09  221.4   \n",
       "...                            ...   ...    ...    ...   ...    ...   \n",
       "2141                          0.78  8.13  10.29    426  1.73    403   \n",
       "2142                          0.78  8.08  10.27  425.9  1.81  402.8   \n",
       "2143                          0.78   8.2  10.31  424.8  1.72  399.2   \n",
       "2144                          0.78  8.14  10.29  425.9  1.74  402.7   \n",
       "2145                          0.78  8.08  10.27    426   1.8  403.3   \n",
       "\n",
       "      Knocking Index  Knocking  \n",
       "547              0.0       0.0  \n",
       "548              0.0       0.0  \n",
       "549              0.0       0.0  \n",
       "550              0.0       0.0  \n",
       "551              0.0       0.0  \n",
       "...              ...       ...  \n",
       "2141             0.0       0.0  \n",
       "2142             0.0       0.0  \n",
       "2143             0.0       0.0  \n",
       "2144             0.0       0.0  \n",
       "2145             0.0       0.0  \n",
       "\n",
       "[1064 rows x 20 columns]"
      ]
     },
     "execution_count": 2,
     "metadata": {},
     "output_type": "execute_result"
    }
   ],
   "source": [
    "data = pd.read_csv('/Users/ujong-yun/Documents/학부연구생/학부연구생 - dataset 공유 (csv).csv')\n",
    "data.dropna()\n",
    "regression_data = data.loc[data['Knocking'] == 0]\n",
    "regression_data"
   ]
  },
  {
   "cell_type": "code",
   "execution_count": 3,
   "metadata": {},
   "outputs": [
    {
     "name": "stdout",
     "output_type": "stream",
     "text": [
      "<class 'pandas.core.frame.DataFrame'>\n",
      "Index: 1064 entries, 547 to 2145\n",
      "Data columns (total 20 columns):\n",
      " #   Column                           Non-Null Count  Dtype  \n",
      "---  ------                           --------------  -----  \n",
      " 0   Case                             1064 non-null   float64\n",
      " 1   Engine Speed                     1064 non-null   object \n",
      " 2   Spark Timing                     1064 non-null   object \n",
      " 3   Throttle Angle                   1064 non-null   object \n",
      " 4   Ambient Temperature              1064 non-null   object \n",
      " 5   Intake Pressure                  1064 non-null   object \n",
      " 6   Intake Temperature               1064 non-null   object \n",
      " 7   Exhaust Pressure                 1064 non-null   object \n",
      " 8   Exhaust Temperature              1064 non-null   object \n",
      " 9   Injected Mass                    1064 non-null   object \n",
      " 10  Maximum Pressure                 1064 non-null   object \n",
      " 11  Crank Angle at Maximum Pressure  1064 non-null   object \n",
      " 12  Maximum Rate of Pressure Rise    1064 non-null   object \n",
      " 13  BMEP                             1064 non-null   object \n",
      " 14  IMEP                             1064 non-null   object \n",
      " 15  BSFC                             1064 non-null   object \n",
      " 16  BSNOx                            1064 non-null   object \n",
      " 17  BSCO                             1064 non-null   object \n",
      " 18  Knocking Index                   1064 non-null   float64\n",
      " 19  Knocking                         1064 non-null   float64\n",
      "dtypes: float64(3), object(17)\n",
      "memory usage: 174.6+ KB\n"
     ]
    }
   ],
   "source": [
    "regression_data.info()"
   ]
  },
  {
   "cell_type": "code",
   "execution_count": 4,
   "metadata": {},
   "outputs": [
    {
     "name": "stdout",
     "output_type": "stream",
     "text": [
      "<class 'pandas.core.frame.DataFrame'>\n",
      "Index: 1064 entries, 547 to 2145\n",
      "Data columns (total 9 columns):\n",
      " #   Column               Non-Null Count  Dtype \n",
      "---  ------               --------------  ----- \n",
      " 0   Engine Speed         1064 non-null   object\n",
      " 1   Spark Timing         1064 non-null   object\n",
      " 2   Throttle Angle       1064 non-null   object\n",
      " 3   Ambient Temperature  1064 non-null   object\n",
      " 4   Intake Pressure      1064 non-null   object\n",
      " 5   Intake Temperature   1064 non-null   object\n",
      " 6   Exhaust Pressure     1064 non-null   object\n",
      " 7   Exhaust Temperature  1064 non-null   object\n",
      " 8   Injected Mass        1064 non-null   object\n",
      "dtypes: object(9)\n",
      "memory usage: 83.1+ KB\n"
     ]
    }
   ],
   "source": [
    "input_data = regression_data.iloc[:, [1, 2, 3, 4, 5, 6, 7, 8, 9]]\n",
    "input_data\n",
    "input_data.info()"
   ]
  },
  {
   "cell_type": "code",
   "execution_count": 5,
   "metadata": {},
   "outputs": [
    {
     "name": "stdout",
     "output_type": "stream",
     "text": [
      "<class 'pandas.core.frame.DataFrame'>\n",
      "Index: 1064 entries, 547 to 2145\n",
      "Data columns (total 8 columns):\n",
      " #   Column                           Non-Null Count  Dtype \n",
      "---  ------                           --------------  ----- \n",
      " 0   Maximum Pressure                 1064 non-null   object\n",
      " 1   Crank Angle at Maximum Pressure  1064 non-null   object\n",
      " 2   Maximum Rate of Pressure Rise    1064 non-null   object\n",
      " 3   BMEP                             1064 non-null   object\n",
      " 4   IMEP                             1064 non-null   object\n",
      " 5   BSFC                             1064 non-null   object\n",
      " 6   BSNOx                            1064 non-null   object\n",
      " 7   BSCO                             1064 non-null   object\n",
      "dtypes: object(8)\n",
      "memory usage: 74.8+ KB\n"
     ]
    }
   ],
   "source": [
    "output_data = regression_data.iloc[:, [10, 11, 12, 13, 14, 15, 16, 17]]\n",
    "output_data\n",
    "output_data.info()"
   ]
  },
  {
   "cell_type": "code",
   "execution_count": 6,
   "metadata": {},
   "outputs": [
    {
     "name": "stdout",
     "output_type": "stream",
     "text": [
      "<class 'pandas.core.frame.DataFrame'>\n",
      "Index: 1064 entries, 547 to 2145\n",
      "Data columns (total 9 columns):\n",
      " #   Column               Non-Null Count  Dtype  \n",
      "---  ------               --------------  -----  \n",
      " 0   Engine Speed         1064 non-null   float64\n",
      " 1   Spark Timing         1064 non-null   float64\n",
      " 2   Throttle Angle       1064 non-null   float64\n",
      " 3   Ambient Temperature  1064 non-null   float64\n",
      " 4   Intake Pressure      1064 non-null   float64\n",
      " 5   Intake Temperature   1064 non-null   float64\n",
      " 6   Exhaust Pressure     1064 non-null   float64\n",
      " 7   Exhaust Temperature  1064 non-null   float64\n",
      " 8   Injected Mass        1064 non-null   float64\n",
      "dtypes: float64(9)\n",
      "memory usage: 83.1 KB\n",
      "<class 'pandas.core.frame.DataFrame'>\n",
      "Index: 1064 entries, 547 to 2145\n",
      "Data columns (total 8 columns):\n",
      " #   Column                           Non-Null Count  Dtype  \n",
      "---  ------                           --------------  -----  \n",
      " 0   Maximum Pressure                 1064 non-null   float64\n",
      " 1   Crank Angle at Maximum Pressure  1064 non-null   float64\n",
      " 2   Maximum Rate of Pressure Rise    1064 non-null   float64\n",
      " 3   BMEP                             1064 non-null   float64\n",
      " 4   IMEP                             1064 non-null   float64\n",
      " 5   BSFC                             1064 non-null   float64\n",
      " 6   BSNOx                            1064 non-null   float64\n",
      " 7   BSCO                             1064 non-null   float64\n",
      "dtypes: float64(8)\n",
      "memory usage: 74.8 KB\n"
     ]
    }
   ],
   "source": [
    "input_data=input_data.astype('float')\n",
    "output_data = output_data.astype('float')\n",
    "input_data.info()\n",
    "output_data.info()"
   ]
  },
  {
   "cell_type": "code",
   "execution_count": 7,
   "metadata": {},
   "outputs": [
    {
     "name": "stdout",
     "output_type": "stream",
     "text": [
      "(638, 9) (638, 8)\n",
      "(213, 9) (213, 8)\n",
      "(213, 9) (213, 8)\n"
     ]
    }
   ],
   "source": [
    "train_input, test_input, train_output, test_output = train_test_split(input_data, output_data, test_size=0.2, shuffle = True, random_state=42)\n",
    "train_input, val_input, train_output, val_output = train_test_split(train_input, train_output, test_size = 0.25, shuffle=True, random_state=42)\n",
    "print(train_input.shape, train_output.shape)\n",
    "print(val_input.shape, val_output.shape)\n",
    "print(test_input.shape, test_output.shape)\n"
   ]
  },
  {
   "cell_type": "code",
   "execution_count": 8,
   "metadata": {},
   "outputs": [
    {
     "name": "stdout",
     "output_type": "stream",
     "text": [
      "Index([ 578, 2135, 1282, 1743, 1854, 1499, 1510, 1522,  746, 1280,\n",
      "       ...\n",
      "       1465, 1993, 2019, 1216,  766, 1512,  715,  780, 2087,  572],\n",
      "      dtype='int64', length=213)\n"
     ]
    }
   ],
   "source": [
    "print(test_output.index)"
   ]
  },
  {
   "cell_type": "code",
   "execution_count": 9,
   "metadata": {},
   "outputs": [],
   "source": [
    "ss = StandardScaler()\n",
    "ss.fit(train_input)\n",
    "train_scale = ss.transform(train_input)\n",
    "val_scale =  ss.transform(val_input)\n",
    "test_scale =  ss.transform(test_input)"
   ]
  },
  {
   "attachments": {},
   "cell_type": "markdown",
   "metadata": {},
   "source": [
    "# DNN Model"
   ]
  },
  {
   "cell_type": "code",
   "execution_count": 10,
   "metadata": {},
   "outputs": [
    {
     "name": "stderr",
     "output_type": "stream",
     "text": [
      "2024-03-10 16:36:39.873238: I metal_plugin/src/device/metal_device.cc:1154] Metal device set to: Apple M1\n",
      "2024-03-10 16:36:39.873263: I metal_plugin/src/device/metal_device.cc:296] systemMemory: 16.00 GB\n",
      "2024-03-10 16:36:39.873269: I metal_plugin/src/device/metal_device.cc:313] maxCacheSize: 5.33 GB\n",
      "2024-03-10 16:36:39.873689: I tensorflow/core/common_runtime/pluggable_device/pluggable_device_factory.cc:303] Could not identify NUMA node of platform GPU ID 0, defaulting to 0. Your kernel may not have been built with NUMA support.\n",
      "2024-03-10 16:36:39.873724: I tensorflow/core/common_runtime/pluggable_device/pluggable_device_factory.cc:269] Created TensorFlow device (/job:localhost/replica:0/task:0/device:GPU:0 with 0 MB memory) -> physical PluggableDevice (device: 0, name: METAL, pci bus id: <undefined>)\n"
     ]
    },
    {
     "name": "stdout",
     "output_type": "stream",
     "text": [
      "Model: \"sequential\"\n",
      "_________________________________________________________________\n",
      " Layer (type)                Output Shape              Param #   \n",
      "=================================================================\n",
      " dense (Dense)               (None, 256)               2560      \n",
      "                                                                 \n",
      " dense_1 (Dense)             (None, 128)               32896     \n",
      "                                                                 \n",
      " dense_2 (Dense)             (None, 64)                8256      \n",
      "                                                                 \n",
      " dense_3 (Dense)             (None, 32)                2080      \n",
      "                                                                 \n",
      " dense_4 (Dense)             (None, 16)                528       \n",
      "                                                                 \n",
      " dense_5 (Dense)             (None, 8)                 136       \n",
      "                                                                 \n",
      "=================================================================\n",
      "Total params: 46456 (181.47 KB)\n",
      "Trainable params: 46456 (181.47 KB)\n",
      "Non-trainable params: 0 (0.00 Byte)\n",
      "_________________________________________________________________\n"
     ]
    }
   ],
   "source": [
    "model = keras.Sequential()\n",
    "model.add(keras.layers.Dense(256, activation='relu', input_shape = (9, )))\n",
    "model.add(keras.layers.Dense(128, activation='relu'))\n",
    "model.add(keras.layers.Dense(64, activation='relu'))\n",
    "model.add(keras.layers.Dense(32, activation= 'relu'))\n",
    "model.add(keras.layers.Dense(16, activation= 'relu'))\n",
    "model.add(keras.layers.Dense(8))\n",
    "model.summary()"
   ]
  },
  {
   "cell_type": "code",
   "execution_count": 11,
   "metadata": {},
   "outputs": [],
   "source": [
    "#initial_learning_rate = 0.01\n",
    "#lr_schedule = tf.keras.optimizers.schedules.ExponentialDecay(\n",
    "    #initial_learning_rate,\n",
    "    #decay_steps=100000,\n",
    "    #decay_rate=0.96,\n",
    "    #staircase=True)"
   ]
  },
  {
   "cell_type": "code",
   "execution_count": 12,
   "metadata": {},
   "outputs": [
    {
     "name": "stdout",
     "output_type": "stream",
     "text": [
      "Epoch 1/1000\n"
     ]
    },
    {
     "name": "stderr",
     "output_type": "stream",
     "text": [
      "2024-03-10 16:36:41.476080: I tensorflow/core/grappler/optimizers/custom_graph_optimizer_registry.cc:114] Plugin optimizer for device_type GPU is enabled.\n"
     ]
    },
    {
     "name": "stdout",
     "output_type": "stream",
     "text": [
      "20/20 [==============================] - 5s 89ms/step - loss: 25309.5645 - mae: 90.3161 - mse: 25309.5645 - val_loss: 24788.0332 - val_mae: 90.2585 - val_mse: 24788.0332\n",
      "Epoch 2/1000\n",
      " 1/20 [>.............................] - ETA: 0s - loss: 25551.8926 - mae: 90.8383 - mse: 25551.8926"
     ]
    },
    {
     "name": "stderr",
     "output_type": "stream",
     "text": [
      "2024-03-10 16:36:46.355346: I tensorflow/core/grappler/optimizers/custom_graph_optimizer_registry.cc:114] Plugin optimizer for device_type GPU is enabled.\n"
     ]
    },
    {
     "name": "stdout",
     "output_type": "stream",
     "text": [
      "20/20 [==============================] - 0s 17ms/step - loss: 25316.1074 - mae: 92.5104 - mse: 25316.1074 - val_loss: 24468.0078 - val_mae: 92.9859 - val_mse: 24468.0078\n",
      "Epoch 3/1000\n",
      "20/20 [==============================] - 0s 17ms/step - loss: 29914.2949 - mae: 106.6990 - mse: 29914.2949 - val_loss: 31266.7578 - val_mae: 112.3871 - val_mse: 31266.7578\n",
      "Epoch 4/1000\n",
      "20/20 [==============================] - 0s 16ms/step - loss: 38527.8945 - mae: 117.0271 - mse: 38527.8945 - val_loss: 29177.3008 - val_mae: 96.5652 - val_mse: 29177.3008\n",
      "Epoch 5/1000\n",
      "20/20 [==============================] - 0s 15ms/step - loss: 33219.0000 - mae: 97.4695 - mse: 33219.0000 - val_loss: 21693.4863 - val_mae: 78.9526 - val_mse: 21693.4863\n",
      "Epoch 6/1000\n",
      "20/20 [==============================] - 0s 21ms/step - loss: 26511.2031 - mae: 92.8015 - mse: 26511.2031 - val_loss: 24502.8691 - val_mae: 84.4367 - val_mse: 24502.8691\n",
      "Epoch 7/1000\n",
      "20/20 [==============================] - 0s 15ms/step - loss: 30893.7344 - mae: 108.9970 - mse: 30893.7344 - val_loss: 31661.1719 - val_mae: 122.8967 - val_mse: 31661.1719\n",
      "Epoch 8/1000\n",
      "20/20 [==============================] - 0s 15ms/step - loss: 52206.7695 - mae: 161.2324 - mse: 52206.7695 - val_loss: 51357.0039 - val_mae: 166.6334 - val_mse: 51357.0039\n",
      "Epoch 9/1000\n",
      "20/20 [==============================] - 0s 15ms/step - loss: 101917.0156 - mae: 225.9707 - mse: 101917.0156 - val_loss: 198160.5938 - val_mae: 286.2483 - val_mse: 198160.5938\n",
      "Epoch 10/1000\n",
      "20/20 [==============================] - 0s 15ms/step - loss: 258409.9062 - mae: 365.2821 - mse: 258409.9062 - val_loss: 330398.1250 - val_mae: 461.8523 - val_mse: 330398.1250\n",
      "Epoch 11/1000\n",
      "20/20 [==============================] - 0s 17ms/step - loss: 406462.7812 - mae: 467.6368 - mse: 406462.7812 - val_loss: 230537.2344 - val_mae: 357.0327 - val_mse: 230537.2344\n",
      "Epoch 11: early stopping\n"
     ]
    }
   ],
   "source": [
    "checkpoint_cb = tf.keras.callbacks.ModelCheckpoint('best-multiregression-model.h5')\n",
    "callback = keras.callbacks.EarlyStopping(monitor = 'loss', patience=10, verbose=True)\n",
    "model.compile(tf.keras.optimizers.legacy.Adam(learning_rate=0.001), loss = 'mse', metrics=['mae', 'mse'])\n",
    "history = model.fit(train_scale, train_output, validation_data=(val_scale, val_output) ,epochs=1000, callbacks=[callback])"
   ]
  },
  {
   "cell_type": "code",
   "execution_count": 13,
   "metadata": {},
   "outputs": [
    {
     "name": "stderr",
     "output_type": "stream",
     "text": [
      "/Library/Frameworks/Python.framework/Versions/3.11/lib/python3.11/site-packages/keras/src/engine/training.py:3000: UserWarning: You are saving your model as an HDF5 file via `model.save()`. This file format is considered legacy. We recommend using instead the native Keras format, e.g. `model.save('my_model.keras')`.\n",
      "  saving_api.save_model(\n"
     ]
    }
   ],
   "source": [
    "model.save('best-multiregression-model.h5')\n",
    "model = keras.models.load_model('best-multiregression-model.h5')"
   ]
  },
  {
   "cell_type": "code",
   "execution_count": 14,
   "metadata": {},
   "outputs": [],
   "source": [
    "hist = history.history\n",
    "hist['epochs'] = history.epoch\n",
    "epochs = hist['epochs']\n",
    "loss = hist['loss']\n",
    "val_loss = hist['val_loss']\n",
    "mae = hist['mae']\n",
    "val_mae = hist['val_mae']\n",
    "mse = hist['mse']\n",
    "val_mse = hist['mse']\n",
    "def plot_history(history):\n",
    "\n",
    "    fig, axes = plt.subplots(1, 3, constrained_layout = True, figsize = (10, 5))\n",
    "    axes[0].plot(epochs, loss, label = 'Training_loss')\n",
    "    axes[0].plot(epochs, val_loss, label = 'val_loss')\n",
    "    axes[1].plot(epochs, mae, label = 'Training_mae')\n",
    "    axes[1].plot(epochs, val_mae, label = 'val_mae')\n",
    "    axes[2].plot(epochs, mse, label = 'Training_mse')\n",
    "    axes[2].plot(epochs, val_mse, label = 'val_mse')\n",
    "    axes[0].set_title('Training and validation loss')\n",
    "    axes[0].set_xlabel('Epochs')\n",
    "    axes[0].set_ylabel('Loss')\n",
    "    axes[1].set_title('Training and validation mae')\n",
    "    axes[1].set_xlabel('Epochs')\n",
    "    axes[1].set_ylabel('MAE')\n",
    "    axes[2].set_title('Training and validation mse')\n",
    "    axes[2].set_xlabel('Epochs')\n",
    "    axes[2].set_ylabel('MSE')\n",
    "    axes[0].legend()\n",
    "    axes[1].legend()\n",
    "    axes[2].legend()\n",
    "    plt.show()\n",
    "    \n"
   ]
  },
  {
   "cell_type": "code",
   "execution_count": 15,
   "metadata": {},
   "outputs": [
    {
     "data": {
      "image/png": "[encoded data removed]",
      "text/plain": [
       "<Figure size 1000x500 with 3 Axes>"
      ]
     },
     "metadata": {},
     "output_type": "display_data"
    }
   ],
   "source": [
    "plot_history(history)"
   ]
  },
  {
   "cell_type": "code",
   "execution_count": 16,
   "metadata": {},
   "outputs": [
    {
     "data": {
      "text/html": [
       "<div>\n",
       "<style scoped>\n",
       "    .dataframe tbody tr th:only-of-type {\n",
       "        vertical-align: middle;\n",
       "    }\n",
       "\n",
       "    .dataframe tbody tr th {\n",
       "        vertical-align: top;\n",
       "    }\n",
       "\n",
       "    .dataframe thead th {\n",
       "        text-align: right;\n",
       "    }\n",
       "</style>\n",
       "<table border=\"1\" class=\"dataframe\">\n",
       "  <thead>\n",
       "    <tr style=\"text-align: right;\">\n",
       "      <th></th>\n",
       "      <th>Loss</th>\n",
       "      <th>Val_Loss</th>\n",
       "      <th>MAE</th>\n",
       "      <th>Val_MAE</th>\n",
       "      <th>MSE</th>\n",
       "      <th>Val_MSE</th>\n",
       "    </tr>\n",
       "  </thead>\n",
       "  <tbody>\n",
       "    <tr>\n",
       "      <th>0</th>\n",
       "      <td>25309.564453</td>\n",
       "      <td>24788.033203</td>\n",
       "      <td>90.316086</td>\n",
       "      <td>90.258545</td>\n",
       "      <td>25309.564453</td>\n",
       "      <td>25309.564453</td>\n",
       "    </tr>\n",
       "    <tr>\n",
       "      <th>1</th>\n",
       "      <td>25316.107422</td>\n",
       "      <td>24468.007812</td>\n",
       "      <td>92.510399</td>\n",
       "      <td>92.985863</td>\n",
       "      <td>25316.107422</td>\n",
       "      <td>25316.107422</td>\n",
       "    </tr>\n",
       "    <tr>\n",
       "      <th>2</th>\n",
       "      <td>29914.294922</td>\n",
       "      <td>31266.757812</td>\n",
       "      <td>106.699036</td>\n",
       "      <td>112.387131</td>\n",
       "      <td>29914.294922</td>\n",
       "      <td>29914.294922</td>\n",
       "    </tr>\n",
       "    <tr>\n",
       "      <th>3</th>\n",
       "      <td>38527.894531</td>\n",
       "      <td>29177.300781</td>\n",
       "      <td>117.027084</td>\n",
       "      <td>96.565163</td>\n",
       "      <td>38527.894531</td>\n",
       "      <td>38527.894531</td>\n",
       "    </tr>\n",
       "    <tr>\n",
       "      <th>4</th>\n",
       "      <td>33219.000000</td>\n",
       "      <td>21693.486328</td>\n",
       "      <td>97.469521</td>\n",
       "      <td>78.952591</td>\n",
       "      <td>33219.000000</td>\n",
       "      <td>33219.000000</td>\n",
       "    </tr>\n",
       "    <tr>\n",
       "      <th>5</th>\n",
       "      <td>26511.203125</td>\n",
       "      <td>24502.869141</td>\n",
       "      <td>92.801476</td>\n",
       "      <td>84.436653</td>\n",
       "      <td>26511.203125</td>\n",
       "      <td>26511.203125</td>\n",
       "    </tr>\n",
       "    <tr>\n",
       "      <th>6</th>\n",
       "      <td>30893.734375</td>\n",
       "      <td>31661.171875</td>\n",
       "      <td>108.996979</td>\n",
       "      <td>122.896713</td>\n",
       "      <td>30893.734375</td>\n",
       "      <td>30893.734375</td>\n",
       "    </tr>\n",
       "    <tr>\n",
       "      <th>7</th>\n",
       "      <td>52206.769531</td>\n",
       "      <td>51357.003906</td>\n",
       "      <td>161.232422</td>\n",
       "      <td>166.633392</td>\n",
       "      <td>52206.769531</td>\n",
       "      <td>52206.769531</td>\n",
       "    </tr>\n",
       "    <tr>\n",
       "      <th>8</th>\n",
       "      <td>101917.015625</td>\n",
       "      <td>198160.593750</td>\n",
       "      <td>225.970688</td>\n",
       "      <td>286.248291</td>\n",
       "      <td>101917.015625</td>\n",
       "      <td>101917.015625</td>\n",
       "    </tr>\n",
       "    <tr>\n",
       "      <th>9</th>\n",
       "      <td>258409.906250</td>\n",
       "      <td>330398.125000</td>\n",
       "      <td>365.282104</td>\n",
       "      <td>461.852295</td>\n",
       "      <td>258409.906250</td>\n",
       "      <td>258409.906250</td>\n",
       "    </tr>\n",
       "    <tr>\n",
       "      <th>10</th>\n",
       "      <td>406462.781250</td>\n",
       "      <td>230537.234375</td>\n",
       "      <td>467.636810</td>\n",
       "      <td>357.032654</td>\n",
       "      <td>406462.781250</td>\n",
       "      <td>406462.781250</td>\n",
       "    </tr>\n",
       "  </tbody>\n",
       "</table>\n",
       "</div>"
      ],
      "text/plain": [
       "             Loss       Val_Loss         MAE     Val_MAE            MSE   \n",
       "0    25309.564453   24788.033203   90.316086   90.258545   25309.564453  \\\n",
       "1    25316.107422   24468.007812   92.510399   92.985863   25316.107422   \n",
       "2    29914.294922   31266.757812  106.699036  112.387131   29914.294922   \n",
       "3    38527.894531   29177.300781  117.027084   96.565163   38527.894531   \n",
       "4    33219.000000   21693.486328   97.469521   78.952591   33219.000000   \n",
       "5    26511.203125   24502.869141   92.801476   84.436653   26511.203125   \n",
       "6    30893.734375   31661.171875  108.996979  122.896713   30893.734375   \n",
       "7    52206.769531   51357.003906  161.232422  166.633392   52206.769531   \n",
       "8   101917.015625  198160.593750  225.970688  286.248291  101917.015625   \n",
       "9   258409.906250  330398.125000  365.282104  461.852295  258409.906250   \n",
       "10  406462.781250  230537.234375  467.636810  357.032654  406462.781250   \n",
       "\n",
       "          Val_MSE  \n",
       "0    25309.564453  \n",
       "1    25316.107422  \n",
       "2    29914.294922  \n",
       "3    38527.894531  \n",
       "4    33219.000000  \n",
       "5    26511.203125  \n",
       "6    30893.734375  \n",
       "7    52206.769531  \n",
       "8   101917.015625  \n",
       "9   258409.906250  \n",
       "10  406462.781250  "
      ]
     },
     "execution_count": 16,
     "metadata": {},
     "output_type": "execute_result"
    }
   ],
   "source": [
    "loss_mae_mse_df = pd.DataFrame(((loss[i], val_loss[i], mae[i], val_mae[i],  mse[i], val_mse[i]) for i in range(len(history.epoch))), columns=['Loss', 'Val_Loss', 'MAE', 'Val_MAE', 'MSE', 'Val_MSE'])\n",
    "loss_mae_mse_df"
   ]
  },
  {
   "cell_type": "code",
   "execution_count": 17,
   "metadata": {},
   "outputs": [],
   "source": [
    "loss_mae_mse_df.to_csv('Loss_Mae_Mse_df.csv', index = True)"
   ]
  },
  {
   "cell_type": "code",
   "execution_count": 18,
   "metadata": {},
   "outputs": [
    {
     "name": "stdout",
     "output_type": "stream",
     "text": [
      "7/7 [==============================] - 0s 11ms/step - loss: 250555.2656 - mae: 373.2994 - mse: 250555.2656\n"
     ]
    },
    {
     "name": "stderr",
     "output_type": "stream",
     "text": [
      "2024-03-10 16:36:50.675645: I tensorflow/core/grappler/optimizers/custom_graph_optimizer_registry.cc:114] Plugin optimizer for device_type GPU is enabled.\n"
     ]
    },
    {
     "name": "stdout",
     "output_type": "stream",
     "text": [
      "20/20 [==============================] - 0s 7ms/step - loss: 273617.7812 - mae: 395.3080 - mse: 273617.7812\n",
      "7/7 [==============================] - 0s 6ms/step - loss: 230537.2344 - mae: 357.0327 - mse: 230537.2344\n"
     ]
    },
    {
     "data": {
      "text/plain": [
       "[230537.234375, 357.03265380859375, 230537.234375]"
      ]
     },
     "execution_count": 18,
     "metadata": {},
     "output_type": "execute_result"
    }
   ],
   "source": [
    "model.evaluate(test_scale, test_output)\n",
    "model.evaluate(train_scale, train_output)\n",
    "model.evaluate(val_scale, val_output)"
   ]
  },
  {
   "cell_type": "code",
   "execution_count": 19,
   "metadata": {},
   "outputs": [
    {
     "name": "stderr",
     "output_type": "stream",
     "text": [
      "2024-03-10 16:36:51.234223: I tensorflow/core/grappler/optimizers/custom_graph_optimizer_registry.cc:114] Plugin optimizer for device_type GPU is enabled.\n"
     ]
    },
    {
     "name": "stdout",
     "output_type": "stream",
     "text": [
      "7/7 [==============================] - 0s 4ms/step\n",
      "20/20 [==============================] - 0s 3ms/step\n",
      "7/7 [==============================] - 0s 3ms/step\n"
     ]
    }
   ],
   "source": [
    "predicted_test = model.predict(test_scale)\n",
    "predicted_train = model.predict(train_scale)\n",
    "predicted_val = model.predict(val_scale)"
   ]
  },
  {
   "cell_type": "code",
   "execution_count": 20,
   "metadata": {},
   "outputs": [],
   "source": [
    "predicted_test_df = pd.DataFrame(predicted_test)\n",
    "predicted_train_df = pd.DataFrame(predicted_train)\n",
    "predicted_val_df = pd.DataFrame(predicted_val)"
   ]
  },
  {
   "cell_type": "code",
   "execution_count": 21,
   "metadata": {},
   "outputs": [],
   "source": [
    "predicted_test_df.columns = ['Maximum Pressure(predicted)', 'Crank Angle at Maximum Pressure(predicted)', 'Maximum Rate of Pressure Rise(predicted)', 'BMEP(predicted)',\n",
    "                         'IMEP(predicted)', 'BSFC(predicted)', 'BSNOx(predicted)', 'BSCO(predicted)']\n",
    "predicted_train_df.columns = ['Maximum Pressure(predicted)', 'Crank Angle at Maximum Pressure(predicted)', 'Maximum Rate of Pressure Rise(predicted)', 'BMEP(predicted)',\n",
    "                         'IMEP(predicted)', 'BSFC(predicted)', 'BSNOx(predicted)', 'BSCO(predicted)']\n",
    "predicted_val_df.columns = ['Maximum Pressure(predicted)', 'Crank Angle at Maximum Pressure(predicted)', 'Maximum Rate of Pressure Rise(predicted)', 'BMEP(predicted)',\n",
    "                         'IMEP(predicted)', 'BSFC(predicted)', 'BSNOx(predicted)', 'BSCO(predicted)']"
   ]
  },
  {
   "cell_type": "code",
   "execution_count": 22,
   "metadata": {},
   "outputs": [],
   "source": [
    "predicted_test_df.index = test_output.index\n",
    "predicted_train_df.index = train_output.index\n",
    "predicted_val_df.index = val_output.index"
   ]
  },
  {
   "cell_type": "code",
   "execution_count": 23,
   "metadata": {},
   "outputs": [],
   "source": [
    "def DataFrame(predicted_df, df_outuput, output_df):\n",
    "   for i in range(8):\n",
    "      predicted_df.insert(2*i+1, df_outuput.columns[i], output_df.iloc[:, [i]])\n",
    "   predicted_df"
   ]
  },
  {
   "cell_type": "code",
   "execution_count": 24,
   "metadata": {},
   "outputs": [],
   "source": [
    "DataFrame(predicted_test_df, test_output, test_output)\n"
   ]
  },
  {
   "cell_type": "code",
   "execution_count": 25,
   "metadata": {},
   "outputs": [],
   "source": [
    "DataFrame(predicted_train_df, train_output, train_output)"
   ]
  },
  {
   "cell_type": "code",
   "execution_count": 26,
   "metadata": {},
   "outputs": [],
   "source": [
    "DataFrame(predicted_val_df, val_output, val_output)"
   ]
  },
  {
   "cell_type": "code",
   "execution_count": 27,
   "metadata": {},
   "outputs": [],
   "source": [
    "predicted_test_df.to_csv(\"Predicted_result.csv\")"
   ]
  },
  {
   "cell_type": "code",
   "execution_count": 28,
   "metadata": {},
   "outputs": [],
   "source": [
    "predicted_train_df.to_csv(\"Predicted_train_result.csv\")"
   ]
  },
  {
   "cell_type": "code",
   "execution_count": 29,
   "metadata": {},
   "outputs": [],
   "source": [
    "predicted_val_df.to_csv(\"Predicted_val_result.csv\")"
   ]
  },
  {
   "cell_type": "code",
   "execution_count": 30,
   "metadata": {},
   "outputs": [],
   "source": [
    "#R2_score\n",
    "def R2_score(predicted_true):\n",
    "    list = []\n",
    "    metrics = tf.keras.metrics.R2Score()\n",
    "    for i in range(8):\n",
    "        metrics.update_state(predicted_true.iloc[:, [2*i+1]], predicted_true.iloc[:, [2*i]])\n",
    "        result = metrics.result()\n",
    "        list.append(result.numpy())\n",
    "\n",
    "    return list"
   ]
  },
  {
   "cell_type": "code",
   "execution_count": 31,
   "metadata": {},
   "outputs": [
    {
     "name": "stdout",
     "output_type": "stream",
     "text": [
      "[-514.6242, -390.3335, -225.1797, -347.14117, -834.274, -17.931288, -17.20013, -14.394071]\n",
      "[-441.6534, -402.44122, -242.19539, -375.07553, -903.5772, -19.209743, -18.442263, -14.88106]\n",
      "[-375.4008, -288.52243, -188.10333, -295.14957, -714.5255, -16.823757, -16.132002, -12.616869]\n"
     ]
    }
   ],
   "source": [
    "print(R2_score(predicted_test_df))\n",
    "print(R2_score(predicted_train_df))\n",
    "print(R2_score(predicted_val_df))"
   ]
  },
  {
   "cell_type": "code",
   "execution_count": 32,
   "metadata": {},
   "outputs": [
    {
     "data": {
      "text/html": [
       "<div>\n",
       "<style scoped>\n",
       "    .dataframe tbody tr th:only-of-type {\n",
       "        vertical-align: middle;\n",
       "    }\n",
       "\n",
       "    .dataframe tbody tr th {\n",
       "        vertical-align: top;\n",
       "    }\n",
       "\n",
       "    .dataframe thead th {\n",
       "        text-align: right;\n",
       "    }\n",
       "</style>\n",
       "<table border=\"1\" class=\"dataframe\">\n",
       "  <thead>\n",
       "    <tr style=\"text-align: right;\">\n",
       "      <th></th>\n",
       "      <th>Maximum Pressure</th>\n",
       "      <th>Crank Angle at Maximum Pressure</th>\n",
       "      <th>Maximum Rate of Pressure Rise</th>\n",
       "      <th>BMEP</th>\n",
       "      <th>IMEP</th>\n",
       "      <th>BSFC</th>\n",
       "      <th>BSNOx</th>\n",
       "      <th>BSCO</th>\n",
       "    </tr>\n",
       "  </thead>\n",
       "  <tbody>\n",
       "    <tr>\n",
       "      <th>Test</th>\n",
       "      <td>-514.624207</td>\n",
       "      <td>-390.333496</td>\n",
       "      <td>-225.179703</td>\n",
       "      <td>-347.141174</td>\n",
       "      <td>-834.273987</td>\n",
       "      <td>-17.931288</td>\n",
       "      <td>-17.200130</td>\n",
       "      <td>-14.394071</td>\n",
       "    </tr>\n",
       "    <tr>\n",
       "      <th>Train</th>\n",
       "      <td>-441.653412</td>\n",
       "      <td>-402.441223</td>\n",
       "      <td>-242.195389</td>\n",
       "      <td>-375.075531</td>\n",
       "      <td>-903.577209</td>\n",
       "      <td>-19.209743</td>\n",
       "      <td>-18.442263</td>\n",
       "      <td>-14.881060</td>\n",
       "    </tr>\n",
       "    <tr>\n",
       "      <th>Validation</th>\n",
       "      <td>-375.400787</td>\n",
       "      <td>-288.522430</td>\n",
       "      <td>-188.103333</td>\n",
       "      <td>-295.149567</td>\n",
       "      <td>-714.525513</td>\n",
       "      <td>-16.823757</td>\n",
       "      <td>-16.132002</td>\n",
       "      <td>-12.616869</td>\n",
       "    </tr>\n",
       "  </tbody>\n",
       "</table>\n",
       "</div>"
      ],
      "text/plain": [
       "            Maximum Pressure  Crank Angle at Maximum Pressure   \n",
       "Test             -514.624207                      -390.333496  \\\n",
       "Train            -441.653412                      -402.441223   \n",
       "Validation       -375.400787                      -288.522430   \n",
       "\n",
       "            Maximum Rate of Pressure Rise        BMEP        IMEP       BSFC   \n",
       "Test                          -225.179703 -347.141174 -834.273987 -17.931288  \\\n",
       "Train                         -242.195389 -375.075531 -903.577209 -19.209743   \n",
       "Validation                    -188.103333 -295.149567 -714.525513 -16.823757   \n",
       "\n",
       "                BSNOx       BSCO  \n",
       "Test       -17.200130 -14.394071  \n",
       "Train      -18.442263 -14.881060  \n",
       "Validation -16.132002 -12.616869  "
      ]
     },
     "execution_count": 32,
     "metadata": {},
     "output_type": "execute_result"
    }
   ],
   "source": [
    "R2_score_df = pd.DataFrame((R2_score(predicted_test_df), R2_score(predicted_train_df), R2_score(predicted_val_df)), columns = ['Maximum Pressure', 'Crank Angle at Maximum Pressure', 'Maximum Rate of Pressure Rise', 'BMEP','IMEP', 'BSFC', 'BSNOx', 'BSCO'], index = ['Test', 'Train', 'Validation'])\n",
    "R2_score_df"
   ]
  },
  {
   "cell_type": "code",
   "execution_count": 33,
   "metadata": {},
   "outputs": [],
   "source": [
    "R2_score_df.to_csv('R2_score.csv')"
   ]
  },
  {
   "cell_type": "code",
   "execution_count": 34,
   "metadata": {},
   "outputs": [
    {
     "name": "stdout",
     "output_type": "stream",
     "text": [
      "Training with parameters: {'dropout_rate': 0.1, 'hidden_layers': 1, 'hidden_units': 128, 'learning_rate': 0.001}\n"
     ]
    },
    {
     "name": "stderr",
     "output_type": "stream",
     "text": [
      "2024-03-10 16:36:53.365228: I tensorflow/core/grappler/optimizers/custom_graph_optimizer_registry.cc:114] Plugin optimizer for device_type GPU is enabled.\n",
      "2024-03-10 16:36:54.455757: I tensorflow/core/grappler/optimizers/custom_graph_optimizer_registry.cc:114] Plugin optimizer for device_type GPU is enabled.\n",
      "/Library/Frameworks/Python.framework/Versions/3.11/lib/python3.11/site-packages/keras/src/engine/training.py:3000: UserWarning: You are saving your model as an HDF5 file via `model.save()`. This file format is considered legacy. We recommend using instead the native Keras format, e.g. `model.save('my_model.keras')`.\n",
      "  saving_api.save_model(\n"
     ]
    },
    {
     "ename": "KeyboardInterrupt",
     "evalue": "",
     "output_type": "error",
     "traceback": [
      "\u001b[0;31m---------------------------------------------------------------------------\u001b[0m",
      "\u001b[0;31mKeyboardInterrupt\u001b[0m                         Traceback (most recent call last)",
      "Cell \u001b[0;32mIn[34], line 34\u001b[0m\n\u001b[1;32m     31\u001b[0m model\u001b[39m.\u001b[39mcompile(optimizer\u001b[39m=\u001b[39moptimizer, loss\u001b[39m=\u001b[39m\u001b[39m'\u001b[39m\u001b[39mmse\u001b[39m\u001b[39m'\u001b[39m, metrics\u001b[39m=\u001b[39m[\u001b[39m'\u001b[39m\u001b[39mmae\u001b[39m\u001b[39m'\u001b[39m, \u001b[39m'\u001b[39m\u001b[39mmse\u001b[39m\u001b[39m'\u001b[39m])\n\u001b[1;32m     33\u001b[0m \u001b[39m# 모델 훈련\u001b[39;00m\n\u001b[0;32m---> 34\u001b[0m history \u001b[39m=\u001b[39m model\u001b[39m.\u001b[39;49mfit(train_scale, train_output, validation_data\u001b[39m=\u001b[39;49m(val_scale, val_output), epochs\u001b[39m=\u001b[39;49m\u001b[39m1000\u001b[39;49m, callbacks\u001b[39m=\u001b[39;49m[callback, checkpoint_cb], verbose\u001b[39m=\u001b[39;49m\u001b[39m0\u001b[39;49m)\n\u001b[1;32m     36\u001b[0m \u001b[39m# 검증 세트에 대한 평가\u001b[39;00m\n\u001b[1;32m     37\u001b[0m val_mae \u001b[39m=\u001b[39m model\u001b[39m.\u001b[39mevaluate(val_scale, val_output, verbose\u001b[39m=\u001b[39m\u001b[39m0\u001b[39m)[\u001b[39m1\u001b[39m]\n",
      "File \u001b[0;32m/Library/Frameworks/Python.framework/Versions/3.11/lib/python3.11/site-packages/keras/src/utils/traceback_utils.py:65\u001b[0m, in \u001b[0;36mfilter_traceback.<locals>.error_handler\u001b[0;34m(*args, **kwargs)\u001b[0m\n\u001b[1;32m     63\u001b[0m filtered_tb \u001b[39m=\u001b[39m \u001b[39mNone\u001b[39;00m\n\u001b[1;32m     64\u001b[0m \u001b[39mtry\u001b[39;00m:\n\u001b[0;32m---> 65\u001b[0m     \u001b[39mreturn\u001b[39;00m fn(\u001b[39m*\u001b[39;49margs, \u001b[39m*\u001b[39;49m\u001b[39m*\u001b[39;49mkwargs)\n\u001b[1;32m     66\u001b[0m \u001b[39mexcept\u001b[39;00m \u001b[39mException\u001b[39;00m \u001b[39mas\u001b[39;00m e:\n\u001b[1;32m     67\u001b[0m     filtered_tb \u001b[39m=\u001b[39m _process_traceback_frames(e\u001b[39m.\u001b[39m__traceback__)\n",
      "File \u001b[0;32m/Library/Frameworks/Python.framework/Versions/3.11/lib/python3.11/site-packages/keras/src/engine/training.py:1742\u001b[0m, in \u001b[0;36mModel.fit\u001b[0;34m(self, x, y, batch_size, epochs, verbose, callbacks, validation_split, validation_data, shuffle, class_weight, sample_weight, initial_epoch, steps_per_epoch, validation_steps, validation_batch_size, validation_freq, max_queue_size, workers, use_multiprocessing)\u001b[0m\n\u001b[1;32m   1734\u001b[0m \u001b[39mwith\u001b[39;00m tf\u001b[39m.\u001b[39mprofiler\u001b[39m.\u001b[39mexperimental\u001b[39m.\u001b[39mTrace(\n\u001b[1;32m   1735\u001b[0m     \u001b[39m\"\u001b[39m\u001b[39mtrain\u001b[39m\u001b[39m\"\u001b[39m,\n\u001b[1;32m   1736\u001b[0m     epoch_num\u001b[39m=\u001b[39mepoch,\n\u001b[0;32m   (...)\u001b[0m\n\u001b[1;32m   1739\u001b[0m     _r\u001b[39m=\u001b[39m\u001b[39m1\u001b[39m,\n\u001b[1;32m   1740\u001b[0m ):\n\u001b[1;32m   1741\u001b[0m     callbacks\u001b[39m.\u001b[39mon_train_batch_begin(step)\n\u001b[0;32m-> 1742\u001b[0m     tmp_logs \u001b[39m=\u001b[39m \u001b[39mself\u001b[39;49m\u001b[39m.\u001b[39;49mtrain_function(iterator)\n\u001b[1;32m   1743\u001b[0m     \u001b[39mif\u001b[39;00m data_handler\u001b[39m.\u001b[39mshould_sync:\n\u001b[1;32m   1744\u001b[0m         context\u001b[39m.\u001b[39masync_wait()\n",
      "File \u001b[0;32m/Library/Frameworks/Python.framework/Versions/3.11/lib/python3.11/site-packages/tensorflow/python/util/traceback_utils.py:150\u001b[0m, in \u001b[0;36mfilter_traceback.<locals>.error_handler\u001b[0;34m(*args, **kwargs)\u001b[0m\n\u001b[1;32m    148\u001b[0m filtered_tb \u001b[39m=\u001b[39m \u001b[39mNone\u001b[39;00m\n\u001b[1;32m    149\u001b[0m \u001b[39mtry\u001b[39;00m:\n\u001b[0;32m--> 150\u001b[0m   \u001b[39mreturn\u001b[39;00m fn(\u001b[39m*\u001b[39;49margs, \u001b[39m*\u001b[39;49m\u001b[39m*\u001b[39;49mkwargs)\n\u001b[1;32m    151\u001b[0m \u001b[39mexcept\u001b[39;00m \u001b[39mException\u001b[39;00m \u001b[39mas\u001b[39;00m e:\n\u001b[1;32m    152\u001b[0m   filtered_tb \u001b[39m=\u001b[39m _process_traceback_frames(e\u001b[39m.\u001b[39m__traceback__)\n",
      "File \u001b[0;32m/Library/Frameworks/Python.framework/Versions/3.11/lib/python3.11/site-packages/tensorflow/python/eager/polymorphic_function/polymorphic_function.py:825\u001b[0m, in \u001b[0;36mFunction.__call__\u001b[0;34m(self, *args, **kwds)\u001b[0m\n\u001b[1;32m    822\u001b[0m compiler \u001b[39m=\u001b[39m \u001b[39m\"\u001b[39m\u001b[39mxla\u001b[39m\u001b[39m\"\u001b[39m \u001b[39mif\u001b[39;00m \u001b[39mself\u001b[39m\u001b[39m.\u001b[39m_jit_compile \u001b[39melse\u001b[39;00m \u001b[39m\"\u001b[39m\u001b[39mnonXla\u001b[39m\u001b[39m\"\u001b[39m\n\u001b[1;32m    824\u001b[0m \u001b[39mwith\u001b[39;00m OptionalXlaContext(\u001b[39mself\u001b[39m\u001b[39m.\u001b[39m_jit_compile):\n\u001b[0;32m--> 825\u001b[0m   result \u001b[39m=\u001b[39m \u001b[39mself\u001b[39;49m\u001b[39m.\u001b[39;49m_call(\u001b[39m*\u001b[39;49margs, \u001b[39m*\u001b[39;49m\u001b[39m*\u001b[39;49mkwds)\n\u001b[1;32m    827\u001b[0m new_tracing_count \u001b[39m=\u001b[39m \u001b[39mself\u001b[39m\u001b[39m.\u001b[39mexperimental_get_tracing_count()\n\u001b[1;32m    828\u001b[0m without_tracing \u001b[39m=\u001b[39m (tracing_count \u001b[39m==\u001b[39m new_tracing_count)\n",
      "File \u001b[0;32m/Library/Frameworks/Python.framework/Versions/3.11/lib/python3.11/site-packages/tensorflow/python/eager/polymorphic_function/polymorphic_function.py:857\u001b[0m, in \u001b[0;36mFunction._call\u001b[0;34m(self, *args, **kwds)\u001b[0m\n\u001b[1;32m    854\u001b[0m   \u001b[39mself\u001b[39m\u001b[39m.\u001b[39m_lock\u001b[39m.\u001b[39mrelease()\n\u001b[1;32m    855\u001b[0m   \u001b[39m# In this case we have created variables on the first call, so we run the\u001b[39;00m\n\u001b[1;32m    856\u001b[0m   \u001b[39m# defunned version which is guaranteed to never create variables.\u001b[39;00m\n\u001b[0;32m--> 857\u001b[0m   \u001b[39mreturn\u001b[39;00m \u001b[39mself\u001b[39;49m\u001b[39m.\u001b[39;49m_no_variable_creation_fn(\u001b[39m*\u001b[39;49margs, \u001b[39m*\u001b[39;49m\u001b[39m*\u001b[39;49mkwds)  \u001b[39m# pylint: disable=not-callable\u001b[39;00m\n\u001b[1;32m    858\u001b[0m \u001b[39melif\u001b[39;00m \u001b[39mself\u001b[39m\u001b[39m.\u001b[39m_variable_creation_fn \u001b[39mis\u001b[39;00m \u001b[39mnot\u001b[39;00m \u001b[39mNone\u001b[39;00m:\n\u001b[1;32m    859\u001b[0m   \u001b[39m# Release the lock early so that multiple threads can perform the call\u001b[39;00m\n\u001b[1;32m    860\u001b[0m   \u001b[39m# in parallel.\u001b[39;00m\n\u001b[1;32m    861\u001b[0m   \u001b[39mself\u001b[39m\u001b[39m.\u001b[39m_lock\u001b[39m.\u001b[39mrelease()\n",
      "File \u001b[0;32m/Library/Frameworks/Python.framework/Versions/3.11/lib/python3.11/site-packages/tensorflow/python/eager/polymorphic_function/tracing_compiler.py:148\u001b[0m, in \u001b[0;36mTracingCompiler.__call__\u001b[0;34m(self, *args, **kwargs)\u001b[0m\n\u001b[1;32m    145\u001b[0m \u001b[39mwith\u001b[39;00m \u001b[39mself\u001b[39m\u001b[39m.\u001b[39m_lock:\n\u001b[1;32m    146\u001b[0m   (concrete_function,\n\u001b[1;32m    147\u001b[0m    filtered_flat_args) \u001b[39m=\u001b[39m \u001b[39mself\u001b[39m\u001b[39m.\u001b[39m_maybe_define_function(args, kwargs)\n\u001b[0;32m--> 148\u001b[0m \u001b[39mreturn\u001b[39;00m concrete_function\u001b[39m.\u001b[39;49m_call_flat(\n\u001b[1;32m    149\u001b[0m     filtered_flat_args, captured_inputs\u001b[39m=\u001b[39;49mconcrete_function\u001b[39m.\u001b[39;49mcaptured_inputs)\n",
      "File \u001b[0;32m/Library/Frameworks/Python.framework/Versions/3.11/lib/python3.11/site-packages/tensorflow/python/eager/polymorphic_function/monomorphic_function.py:1349\u001b[0m, in \u001b[0;36mConcreteFunction._call_flat\u001b[0;34m(self, args, captured_inputs)\u001b[0m\n\u001b[1;32m   1345\u001b[0m possible_gradient_type \u001b[39m=\u001b[39m gradients_util\u001b[39m.\u001b[39mPossibleTapeGradientTypes(args)\n\u001b[1;32m   1346\u001b[0m \u001b[39mif\u001b[39;00m (possible_gradient_type \u001b[39m==\u001b[39m gradients_util\u001b[39m.\u001b[39mPOSSIBLE_GRADIENT_TYPES_NONE\n\u001b[1;32m   1347\u001b[0m     \u001b[39mand\u001b[39;00m executing_eagerly):\n\u001b[1;32m   1348\u001b[0m   \u001b[39m# No tape is watching; skip to running the function.\u001b[39;00m\n\u001b[0;32m-> 1349\u001b[0m   \u001b[39mreturn\u001b[39;00m \u001b[39mself\u001b[39m\u001b[39m.\u001b[39m_build_call_outputs(\u001b[39mself\u001b[39;49m\u001b[39m.\u001b[39;49m_inference_function(\u001b[39m*\u001b[39;49margs))\n\u001b[1;32m   1350\u001b[0m forward_backward \u001b[39m=\u001b[39m \u001b[39mself\u001b[39m\u001b[39m.\u001b[39m_select_forward_and_backward_functions(\n\u001b[1;32m   1351\u001b[0m     args,\n\u001b[1;32m   1352\u001b[0m     possible_gradient_type,\n\u001b[1;32m   1353\u001b[0m     executing_eagerly)\n\u001b[1;32m   1354\u001b[0m forward_function, args_with_tangents \u001b[39m=\u001b[39m forward_backward\u001b[39m.\u001b[39mforward()\n",
      "File \u001b[0;32m/Library/Frameworks/Python.framework/Versions/3.11/lib/python3.11/site-packages/tensorflow/python/eager/polymorphic_function/atomic_function.py:196\u001b[0m, in \u001b[0;36mAtomicFunction.__call__\u001b[0;34m(self, *args)\u001b[0m\n\u001b[1;32m    194\u001b[0m \u001b[39mwith\u001b[39;00m record\u001b[39m.\u001b[39mstop_recording():\n\u001b[1;32m    195\u001b[0m   \u001b[39mif\u001b[39;00m \u001b[39mself\u001b[39m\u001b[39m.\u001b[39m_bound_context\u001b[39m.\u001b[39mexecuting_eagerly():\n\u001b[0;32m--> 196\u001b[0m     outputs \u001b[39m=\u001b[39m \u001b[39mself\u001b[39;49m\u001b[39m.\u001b[39;49m_bound_context\u001b[39m.\u001b[39;49mcall_function(\n\u001b[1;32m    197\u001b[0m         \u001b[39mself\u001b[39;49m\u001b[39m.\u001b[39;49mname,\n\u001b[1;32m    198\u001b[0m         \u001b[39mlist\u001b[39;49m(args),\n\u001b[1;32m    199\u001b[0m         \u001b[39mlen\u001b[39;49m(\u001b[39mself\u001b[39;49m\u001b[39m.\u001b[39;49mfunction_type\u001b[39m.\u001b[39;49mflat_outputs),\n\u001b[1;32m    200\u001b[0m     )\n\u001b[1;32m    201\u001b[0m   \u001b[39melse\u001b[39;00m:\n\u001b[1;32m    202\u001b[0m     outputs \u001b[39m=\u001b[39m make_call_op_in_graph(\u001b[39mself\u001b[39m, \u001b[39mlist\u001b[39m(args))\n",
      "File \u001b[0;32m/Library/Frameworks/Python.framework/Versions/3.11/lib/python3.11/site-packages/tensorflow/python/eager/context.py:1457\u001b[0m, in \u001b[0;36mContext.call_function\u001b[0;34m(self, name, tensor_inputs, num_outputs)\u001b[0m\n\u001b[1;32m   1455\u001b[0m cancellation_context \u001b[39m=\u001b[39m cancellation\u001b[39m.\u001b[39mcontext()\n\u001b[1;32m   1456\u001b[0m \u001b[39mif\u001b[39;00m cancellation_context \u001b[39mis\u001b[39;00m \u001b[39mNone\u001b[39;00m:\n\u001b[0;32m-> 1457\u001b[0m   outputs \u001b[39m=\u001b[39m execute\u001b[39m.\u001b[39;49mexecute(\n\u001b[1;32m   1458\u001b[0m       name\u001b[39m.\u001b[39;49mdecode(\u001b[39m\"\u001b[39;49m\u001b[39mutf-8\u001b[39;49m\u001b[39m\"\u001b[39;49m),\n\u001b[1;32m   1459\u001b[0m       num_outputs\u001b[39m=\u001b[39;49mnum_outputs,\n\u001b[1;32m   1460\u001b[0m       inputs\u001b[39m=\u001b[39;49mtensor_inputs,\n\u001b[1;32m   1461\u001b[0m       attrs\u001b[39m=\u001b[39;49mattrs,\n\u001b[1;32m   1462\u001b[0m       ctx\u001b[39m=\u001b[39;49m\u001b[39mself\u001b[39;49m,\n\u001b[1;32m   1463\u001b[0m   )\n\u001b[1;32m   1464\u001b[0m \u001b[39melse\u001b[39;00m:\n\u001b[1;32m   1465\u001b[0m   outputs \u001b[39m=\u001b[39m execute\u001b[39m.\u001b[39mexecute_with_cancellation(\n\u001b[1;32m   1466\u001b[0m       name\u001b[39m.\u001b[39mdecode(\u001b[39m\"\u001b[39m\u001b[39mutf-8\u001b[39m\u001b[39m\"\u001b[39m),\n\u001b[1;32m   1467\u001b[0m       num_outputs\u001b[39m=\u001b[39mnum_outputs,\n\u001b[0;32m   (...)\u001b[0m\n\u001b[1;32m   1471\u001b[0m       cancellation_manager\u001b[39m=\u001b[39mcancellation_context,\n\u001b[1;32m   1472\u001b[0m   )\n",
      "File \u001b[0;32m/Library/Frameworks/Python.framework/Versions/3.11/lib/python3.11/site-packages/tensorflow/python/eager/execute.py:53\u001b[0m, in \u001b[0;36mquick_execute\u001b[0;34m(op_name, num_outputs, inputs, attrs, ctx, name)\u001b[0m\n\u001b[1;32m     51\u001b[0m \u001b[39mtry\u001b[39;00m:\n\u001b[1;32m     52\u001b[0m   ctx\u001b[39m.\u001b[39mensure_initialized()\n\u001b[0;32m---> 53\u001b[0m   tensors \u001b[39m=\u001b[39m pywrap_tfe\u001b[39m.\u001b[39;49mTFE_Py_Execute(ctx\u001b[39m.\u001b[39;49m_handle, device_name, op_name,\n\u001b[1;32m     54\u001b[0m                                       inputs, attrs, num_outputs)\n\u001b[1;32m     55\u001b[0m \u001b[39mexcept\u001b[39;00m core\u001b[39m.\u001b[39m_NotOkStatusException \u001b[39mas\u001b[39;00m e:\n\u001b[1;32m     56\u001b[0m   \u001b[39mif\u001b[39;00m name \u001b[39mis\u001b[39;00m \u001b[39mnot\u001b[39;00m \u001b[39mNone\u001b[39;00m:\n",
      "\u001b[0;31mKeyboardInterrupt\u001b[0m: "
     ]
    }
   ],
   "source": [
    "from sklearn.model_selection import ParameterGrid\n",
    "\n",
    "# 하이퍼파라미터 그리드 정의\n",
    "param_grid = {\n",
    "    'dropout_rate': [0.1 ,0.2, 0.3,],\n",
    "    'learning_rate': [0.001, 0.01, 0.1],\n",
    "    'hidden_layers': [1, 2, 3],\n",
    "    'hidden_units': [128, 64, 32]\n",
    "}\n",
    "\n",
    "# 하이퍼파라미터 그리드를 순회하며 그리드 서치 실행\n",
    "best_mae = float('inf')\n",
    "best_params = {}\n",
    "\n",
    "for params in ParameterGrid(param_grid):\n",
    "    print(\"Training with parameters:\", params)\n",
    "    \n",
    "    # 모델 생성\n",
    "    model = keras.Sequential()\n",
    "    model.add(keras.layers.Dense(params['hidden_units'], activation='relu', input_shape=(9, )))\n",
    "    model.add(keras.layers.Dropout(rate=params['dropout_rate']))\n",
    "    \n",
    "    for _ in range(params['hidden_layers']):\n",
    "        model.add(keras.layers.Dense(params['hidden_units'], activation='relu'))\n",
    "        model.add(keras.layers.Dropout(rate=params['dropout_rate']))\n",
    "    \n",
    "    model.add(keras.layers.Dense(8))\n",
    "    \n",
    "    # 모델 컴파일\n",
    "    optimizer = tf.keras.optimizers.legacy.Adam(learning_rate=params['learning_rate'])\n",
    "    model.compile(optimizer=optimizer, loss='mse', metrics=['mae', 'mse'])\n",
    "    \n",
    "    # 모델 훈련\n",
    "    history = model.fit(train_scale, train_output, validation_data=(val_scale, val_output), epochs=1000, callbacks=[callback, checkpoint_cb], verbose=0)\n",
    "    \n",
    "    # 검증 세트에 대한 평가\n",
    "    val_mae = model.evaluate(val_scale, val_output, verbose=0)[1]\n",
    "    print(\"Validation MAE:\", val_mae)\n",
    "    \n",
    "    # 최적의 하이퍼파라미터와 MAE 업데이트\n",
    "    if val_mae < best_mae:\n",
    "        best_mae = val_mae\n",
    "        best_params = params\n",
    "    model.save_weights('best-multiregression-hyperparameters.h5')\n",
    "print(\"Best parameters:\", best_params)\n",
    "print(\"Best validation MAE:\", best_mae)\n"
   ]
  },
  {
   "cell_type": "code",
   "execution_count": null,
   "metadata": {},
   "outputs": [],
   "source": []
  }
 ],
 "metadata": {
  "kernelspec": {
   "display_name": "Python 3",
   "language": "python",
   "name": "python3"
  },
  "language_info": {
   "codemirror_mode": {
    "name": "ipython",
    "version": 3
   },
   "file_extension": ".py",
   "mimetype": "text/x-python",
   "name": "python",
   "nbconvert_exporter": "python",
   "pygments_lexer": "ipython3",
   "version": "3.11.2"
  },
  "orig_nbformat": 4
 },
 "nbformat": 4,
 "nbformat_minor": 2
}
